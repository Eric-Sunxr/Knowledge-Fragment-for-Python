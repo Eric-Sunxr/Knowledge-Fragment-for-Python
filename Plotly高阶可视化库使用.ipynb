{
 "cells": [
  {
   "cell_type": "markdown",
   "metadata": {},
   "source": [
    "# Plotly 有哪些好处？\n",
    "### Plotly 的整合能力很强：可与 Jupyter Notebook 一起使用，可嵌入网站，并且完整集成了 Dash——一种用于构建仪表盘和分析应用的出色工具。"
   ]
  },
  {
   "cell_type": "code",
   "execution_count": 1,
   "metadata": {},
   "outputs": [],
   "source": [
    "import plotly"
   ]
  },
  {
   "cell_type": "markdown",
   "metadata": {},
   "source": [
    "## 动画\n",
    "在研究这个或那个指标的演变时，我们常涉及到时间数据。Plotly 动画工具仅需一行代码就能让人观看数据随时间的变化情况."
   ]
  },
  {
   "cell_type": "code",
   "execution_count": 12,
   "metadata": {},
   "outputs": [
    {
     "data": {
      "application/vnd.plotly.v1+json": {
       "config": {
        "plotlyServerURL": "https://plot.ly"
       },
       "data": [
        {
         "alignmentgroup": "True",
         "hovertemplate": "Entity=%{y}<br>Year=1991<br>Deaths=%{x}<extra></extra>",
         "legendgroup": "All natural disasters",
         "marker": {
          "color": "#636efa"
         },
         "name": "All natural disasters",
         "offsetgroup": "All natural disasters",
         "orientation": "h",
         "showlegend": true,
         "textposition": "auto",
         "type": "bar",
         "x": [
          189707
         ],
         "xaxis": "x",
         "y": [
          "All natural disasters"
         ],
         "yaxis": "y"
        },
        {
         "alignmentgroup": "True",
         "hovertemplate": "Entity=%{y}<br>Year=1991<br>Deaths=%{x}<extra></extra>",
         "legendgroup": "Drought",
         "marker": {
          "color": "#EF553B"
         },
         "name": "Drought",
         "offsetgroup": "Drought",
         "orientation": "h",
         "showlegend": true,
         "textposition": "auto",
         "type": "bar",
         "x": [
          2000
         ],
         "xaxis": "x",
         "y": [
          "Drought"
         ],
         "yaxis": "y"
        },
        {
         "alignmentgroup": "True",
         "hovertemplate": "Entity=%{y}<br>Year=1991<br>Deaths=%{x}<extra></extra>",
         "legendgroup": "Earthquake",
         "marker": {
          "color": "#00cc96"
         },
         "name": "Earthquake",
         "offsetgroup": "Earthquake",
         "orientation": "h",
         "showlegend": true,
         "textposition": "auto",
         "type": "bar",
         "x": [
          2454
         ],
         "xaxis": "x",
         "y": [
          "Earthquake"
         ],
         "yaxis": "y"
        },
        {
         "alignmentgroup": "True",
         "hovertemplate": "Entity=%{y}<br>Year=1991<br>Deaths=%{x}<extra></extra>",
         "legendgroup": "Epidemic",
         "marker": {
          "color": "#ab63fa"
         },
         "name": "Epidemic",
         "offsetgroup": "Epidemic",
         "orientation": "h",
         "showlegend": true,
         "textposition": "auto",
         "type": "bar",
         "x": [
          30682
         ],
         "xaxis": "x",
         "y": [
          "Epidemic"
         ],
         "yaxis": "y"
        },
        {
         "alignmentgroup": "True",
         "hovertemplate": "Entity=%{y}<br>Year=1991<br>Deaths=%{x}<extra></extra>",
         "legendgroup": "Extreme temperature",
         "marker": {
          "color": "#FFA15A"
         },
         "name": "Extreme temperature",
         "offsetgroup": "Extreme temperature",
         "orientation": "h",
         "showlegend": true,
         "textposition": "auto",
         "type": "bar",
         "x": [
          835
         ],
         "xaxis": "x",
         "y": [
          "Extreme temperature"
         ],
         "yaxis": "y"
        },
        {
         "alignmentgroup": "True",
         "hovertemplate": "Entity=%{y}<br>Year=1991<br>Deaths=%{x}<extra></extra>",
         "legendgroup": "Extreme weather",
         "marker": {
          "color": "#19d3f3"
         },
         "name": "Extreme weather",
         "offsetgroup": "Extreme weather",
         "orientation": "h",
         "showlegend": true,
         "textposition": "auto",
         "type": "bar",
         "x": [
          146297
         ],
         "xaxis": "x",
         "y": [
          "Extreme weather"
         ],
         "yaxis": "y"
        },
        {
         "alignmentgroup": "True",
         "hovertemplate": "Entity=%{y}<br>Year=1991<br>Deaths=%{x}<extra></extra>",
         "legendgroup": "Flood",
         "marker": {
          "color": "#FF6692"
         },
         "name": "Flood",
         "offsetgroup": "Flood",
         "orientation": "h",
         "showlegend": true,
         "textposition": "auto",
         "type": "bar",
         "x": [
          5852
         ],
         "xaxis": "x",
         "y": [
          "Flood"
         ],
         "yaxis": "y"
        },
        {
         "alignmentgroup": "True",
         "hovertemplate": "Entity=%{y}<br>Year=1991<br>Deaths=%{x}<extra></extra>",
         "legendgroup": "Landslide",
         "marker": {
          "color": "#B6E880"
         },
         "name": "Landslide",
         "offsetgroup": "Landslide",
         "orientation": "h",
         "showlegend": true,
         "textposition": "auto",
         "type": "bar",
         "x": [
          728
         ],
         "xaxis": "x",
         "y": [
          "Landslide"
         ],
         "yaxis": "y"
        },
        {
         "alignmentgroup": "True",
         "hovertemplate": "Entity=%{y}<br>Year=1991<br>Deaths=%{x}<extra></extra>",
         "legendgroup": "Mass movement (dry)",
         "marker": {
          "color": "#FF97FF"
         },
         "name": "Mass movement (dry)",
         "offsetgroup": "Mass movement (dry)",
         "orientation": "h",
         "showlegend": true,
         "textposition": "auto",
         "type": "bar",
         "x": [
          86
         ],
         "xaxis": "x",
         "y": [
          "Mass movement (dry)"
         ],
         "yaxis": "y"
        },
        {
         "alignmentgroup": "True",
         "hovertemplate": "Entity=%{y}<br>Year=1991<br>Deaths=%{x}<extra></extra>",
         "legendgroup": "Volcanic activity",
         "marker": {
          "color": "#FECB52"
         },
         "name": "Volcanic activity",
         "offsetgroup": "Volcanic activity",
         "orientation": "h",
         "showlegend": true,
         "textposition": "auto",
         "type": "bar",
         "x": [
          683
         ],
         "xaxis": "x",
         "y": [
          "Volcanic activity"
         ],
         "yaxis": "y"
        },
        {
         "alignmentgroup": "True",
         "hovertemplate": "Entity=%{y}<br>Year=1991<br>Deaths=%{x}<extra></extra>",
         "legendgroup": "Wildfire",
         "marker": {
          "color": "#636efa"
         },
         "name": "Wildfire",
         "offsetgroup": "Wildfire",
         "orientation": "h",
         "showlegend": true,
         "textposition": "auto",
         "type": "bar",
         "x": [
          90
         ],
         "xaxis": "x",
         "y": [
          "Wildfire"
         ],
         "yaxis": "y"
        }
       ],
       "frames": [
        {
         "data": [
          {
           "alignmentgroup": "True",
           "hovertemplate": "Entity=%{y}<br>Year=1991<br>Deaths=%{x}<extra></extra>",
           "legendgroup": "All natural disasters",
           "marker": {
            "color": "#636efa"
           },
           "name": "All natural disasters",
           "offsetgroup": "All natural disasters",
           "orientation": "h",
           "showlegend": true,
           "textposition": "auto",
           "type": "bar",
           "x": [
            189707
           ],
           "xaxis": "x",
           "y": [
            "All natural disasters"
           ],
           "yaxis": "y"
          },
          {
           "alignmentgroup": "True",
           "hovertemplate": "Entity=%{y}<br>Year=1991<br>Deaths=%{x}<extra></extra>",
           "legendgroup": "Drought",
           "marker": {
            "color": "#EF553B"
           },
           "name": "Drought",
           "offsetgroup": "Drought",
           "orientation": "h",
           "showlegend": true,
           "textposition": "auto",
           "type": "bar",
           "x": [
            2000
           ],
           "xaxis": "x",
           "y": [
            "Drought"
           ],
           "yaxis": "y"
          },
          {
           "alignmentgroup": "True",
           "hovertemplate": "Entity=%{y}<br>Year=1991<br>Deaths=%{x}<extra></extra>",
           "legendgroup": "Earthquake",
           "marker": {
            "color": "#00cc96"
           },
           "name": "Earthquake",
           "offsetgroup": "Earthquake",
           "orientation": "h",
           "showlegend": true,
           "textposition": "auto",
           "type": "bar",
           "x": [
            2454
           ],
           "xaxis": "x",
           "y": [
            "Earthquake"
           ],
           "yaxis": "y"
          },
          {
           "alignmentgroup": "True",
           "hovertemplate": "Entity=%{y}<br>Year=1991<br>Deaths=%{x}<extra></extra>",
           "legendgroup": "Epidemic",
           "marker": {
            "color": "#ab63fa"
           },
           "name": "Epidemic",
           "offsetgroup": "Epidemic",
           "orientation": "h",
           "showlegend": true,
           "textposition": "auto",
           "type": "bar",
           "x": [
            30682
           ],
           "xaxis": "x",
           "y": [
            "Epidemic"
           ],
           "yaxis": "y"
          },
          {
           "alignmentgroup": "True",
           "hovertemplate": "Entity=%{y}<br>Year=1991<br>Deaths=%{x}<extra></extra>",
           "legendgroup": "Extreme temperature",
           "marker": {
            "color": "#FFA15A"
           },
           "name": "Extreme temperature",
           "offsetgroup": "Extreme temperature",
           "orientation": "h",
           "showlegend": true,
           "textposition": "auto",
           "type": "bar",
           "x": [
            835
           ],
           "xaxis": "x",
           "y": [
            "Extreme temperature"
           ],
           "yaxis": "y"
          },
          {
           "alignmentgroup": "True",
           "hovertemplate": "Entity=%{y}<br>Year=1991<br>Deaths=%{x}<extra></extra>",
           "legendgroup": "Extreme weather",
           "marker": {
            "color": "#19d3f3"
           },
           "name": "Extreme weather",
           "offsetgroup": "Extreme weather",
           "orientation": "h",
           "showlegend": true,
           "textposition": "auto",
           "type": "bar",
           "x": [
            146297
           ],
           "xaxis": "x",
           "y": [
            "Extreme weather"
           ],
           "yaxis": "y"
          },
          {
           "alignmentgroup": "True",
           "hovertemplate": "Entity=%{y}<br>Year=1991<br>Deaths=%{x}<extra></extra>",
           "legendgroup": "Flood",
           "marker": {
            "color": "#FF6692"
           },
           "name": "Flood",
           "offsetgroup": "Flood",
           "orientation": "h",
           "showlegend": true,
           "textposition": "auto",
           "type": "bar",
           "x": [
            5852
           ],
           "xaxis": "x",
           "y": [
            "Flood"
           ],
           "yaxis": "y"
          },
          {
           "alignmentgroup": "True",
           "hovertemplate": "Entity=%{y}<br>Year=1991<br>Deaths=%{x}<extra></extra>",
           "legendgroup": "Landslide",
           "marker": {
            "color": "#B6E880"
           },
           "name": "Landslide",
           "offsetgroup": "Landslide",
           "orientation": "h",
           "showlegend": true,
           "textposition": "auto",
           "type": "bar",
           "x": [
            728
           ],
           "xaxis": "x",
           "y": [
            "Landslide"
           ],
           "yaxis": "y"
          },
          {
           "alignmentgroup": "True",
           "hovertemplate": "Entity=%{y}<br>Year=1991<br>Deaths=%{x}<extra></extra>",
           "legendgroup": "Mass movement (dry)",
           "marker": {
            "color": "#FF97FF"
           },
           "name": "Mass movement (dry)",
           "offsetgroup": "Mass movement (dry)",
           "orientation": "h",
           "showlegend": true,
           "textposition": "auto",
           "type": "bar",
           "x": [
            86
           ],
           "xaxis": "x",
           "y": [
            "Mass movement (dry)"
           ],
           "yaxis": "y"
          },
          {
           "alignmentgroup": "True",
           "hovertemplate": "Entity=%{y}<br>Year=1991<br>Deaths=%{x}<extra></extra>",
           "legendgroup": "Volcanic activity",
           "marker": {
            "color": "#FECB52"
           },
           "name": "Volcanic activity",
           "offsetgroup": "Volcanic activity",
           "orientation": "h",
           "showlegend": true,
           "textposition": "auto",
           "type": "bar",
           "x": [
            683
           ],
           "xaxis": "x",
           "y": [
            "Volcanic activity"
           ],
           "yaxis": "y"
          },
          {
           "alignmentgroup": "True",
           "hovertemplate": "Entity=%{y}<br>Year=1991<br>Deaths=%{x}<extra></extra>",
           "legendgroup": "Wildfire",
           "marker": {
            "color": "#636efa"
           },
           "name": "Wildfire",
           "offsetgroup": "Wildfire",
           "orientation": "h",
           "showlegend": true,
           "textposition": "auto",
           "type": "bar",
           "x": [
            90
           ],
           "xaxis": "x",
           "y": [
            "Wildfire"
           ],
           "yaxis": "y"
          }
         ],
         "name": "1991"
        },
        {
         "data": [
          {
           "alignmentgroup": "True",
           "hovertemplate": "Entity=%{y}<br>Year=1992<br>Deaths=%{x}<extra></extra>",
           "legendgroup": "All natural disasters",
           "marker": {
            "color": "#636efa"
           },
           "name": "All natural disasters",
           "offsetgroup": "All natural disasters",
           "orientation": "h",
           "showlegend": true,
           "textposition": "auto",
           "type": "bar",
           "x": [
            18911
           ],
           "xaxis": "x",
           "y": [
            "All natural disasters"
           ],
           "yaxis": "y"
          },
          {
           "alignmentgroup": "True",
           "hovertemplate": "Entity=%{y}<br>Year=1992<br>Deaths=%{x}<extra></extra>",
           "legendgroup": "Earthquake",
           "marker": {
            "color": "#00cc96"
           },
           "name": "Earthquake",
           "offsetgroup": "Earthquake",
           "orientation": "h",
           "showlegend": true,
           "textposition": "auto",
           "type": "bar",
           "x": [
            4033
           ],
           "xaxis": "x",
           "y": [
            "Earthquake"
           ],
           "yaxis": "y"
          },
          {
           "alignmentgroup": "True",
           "hovertemplate": "Entity=%{y}<br>Year=1992<br>Deaths=%{x}<extra></extra>",
           "legendgroup": "Epidemic",
           "marker": {
            "color": "#ab63fa"
           },
           "name": "Epidemic",
           "offsetgroup": "Epidemic",
           "orientation": "h",
           "showlegend": true,
           "textposition": "auto",
           "type": "bar",
           "x": [
            6675
           ],
           "xaxis": "x",
           "y": [
            "Epidemic"
           ],
           "yaxis": "y"
          },
          {
           "alignmentgroup": "True",
           "hovertemplate": "Entity=%{y}<br>Year=1992<br>Deaths=%{x}<extra></extra>",
           "legendgroup": "Extreme temperature",
           "marker": {
            "color": "#FFA15A"
           },
           "name": "Extreme temperature",
           "offsetgroup": "Extreme temperature",
           "orientation": "h",
           "showlegend": true,
           "textposition": "auto",
           "type": "bar",
           "x": [
            388
           ],
           "xaxis": "x",
           "y": [
            "Extreme temperature"
           ],
           "yaxis": "y"
          },
          {
           "alignmentgroup": "True",
           "hovertemplate": "Entity=%{y}<br>Year=1992<br>Deaths=%{x}<extra></extra>",
           "legendgroup": "Extreme weather",
           "marker": {
            "color": "#19d3f3"
           },
           "name": "Extreme weather",
           "offsetgroup": "Extreme weather",
           "orientation": "h",
           "showlegend": true,
           "textposition": "auto",
           "type": "bar",
           "x": [
            1342
           ],
           "xaxis": "x",
           "y": [
            "Extreme weather"
           ],
           "yaxis": "y"
          },
          {
           "alignmentgroup": "True",
           "hovertemplate": "Entity=%{y}<br>Year=1992<br>Deaths=%{x}<extra></extra>",
           "legendgroup": "Flood",
           "marker": {
            "color": "#FF6692"
           },
           "name": "Flood",
           "offsetgroup": "Flood",
           "orientation": "h",
           "showlegend": true,
           "textposition": "auto",
           "type": "bar",
           "x": [
            5315
           ],
           "xaxis": "x",
           "y": [
            "Flood"
           ],
           "yaxis": "y"
          },
          {
           "alignmentgroup": "True",
           "hovertemplate": "Entity=%{y}<br>Year=1992<br>Deaths=%{x}<extra></extra>",
           "legendgroup": "Landslide",
           "marker": {
            "color": "#B6E880"
           },
           "name": "Landslide",
           "offsetgroup": "Landslide",
           "orientation": "h",
           "showlegend": true,
           "textposition": "auto",
           "type": "bar",
           "x": [
            712
           ],
           "xaxis": "x",
           "y": [
            "Landslide"
           ],
           "yaxis": "y"
          },
          {
           "alignmentgroup": "True",
           "hovertemplate": "Entity=%{y}<br>Year=1992<br>Deaths=%{x}<extra></extra>",
           "legendgroup": "Mass movement (dry)",
           "marker": {
            "color": "#FF97FF"
           },
           "name": "Mass movement (dry)",
           "offsetgroup": "Mass movement (dry)",
           "orientation": "h",
           "showlegend": true,
           "textposition": "auto",
           "type": "bar",
           "x": [
            323
           ],
           "xaxis": "x",
           "y": [
            "Mass movement (dry)"
           ],
           "yaxis": "y"
          },
          {
           "alignmentgroup": "True",
           "hovertemplate": "Entity=%{y}<br>Year=1992<br>Deaths=%{x}<extra></extra>",
           "legendgroup": "Volcanic activity",
           "marker": {
            "color": "#FECB52"
           },
           "name": "Volcanic activity",
           "offsetgroup": "Volcanic activity",
           "orientation": "h",
           "showlegend": true,
           "textposition": "auto",
           "type": "bar",
           "x": [
            1
           ],
           "xaxis": "x",
           "y": [
            "Volcanic activity"
           ],
           "yaxis": "y"
          },
          {
           "alignmentgroup": "True",
           "hovertemplate": "Entity=%{y}<br>Year=1992<br>Deaths=%{x}<extra></extra>",
           "legendgroup": "Wildfire",
           "marker": {
            "color": "#636efa"
           },
           "name": "Wildfire",
           "offsetgroup": "Wildfire",
           "orientation": "h",
           "showlegend": true,
           "textposition": "auto",
           "type": "bar",
           "x": [
            122
           ],
           "xaxis": "x",
           "y": [
            "Wildfire"
           ],
           "yaxis": "y"
          }
         ],
         "name": "1992"
        },
        {
         "data": [
          {
           "alignmentgroup": "True",
           "hovertemplate": "Entity=%{y}<br>Year=1993<br>Deaths=%{x}<extra></extra>",
           "legendgroup": "All natural disasters",
           "marker": {
            "color": "#636efa"
           },
           "name": "All natural disasters",
           "offsetgroup": "All natural disasters",
           "orientation": "h",
           "showlegend": true,
           "textposition": "auto",
           "type": "bar",
           "x": [
            21821
           ],
           "xaxis": "x",
           "y": [
            "All natural disasters"
           ],
           "yaxis": "y"
          },
          {
           "alignmentgroup": "True",
           "hovertemplate": "Entity=%{y}<br>Year=1993<br>Deaths=%{x}<extra></extra>",
           "legendgroup": "Earthquake",
           "marker": {
            "color": "#00cc96"
           },
           "name": "Earthquake",
           "offsetgroup": "Earthquake",
           "orientation": "h",
           "showlegend": true,
           "textposition": "auto",
           "type": "bar",
           "x": [
            10088
           ],
           "xaxis": "x",
           "y": [
            "Earthquake"
           ],
           "yaxis": "y"
          },
          {
           "alignmentgroup": "True",
           "hovertemplate": "Entity=%{y}<br>Year=1993<br>Deaths=%{x}<extra></extra>",
           "legendgroup": "Epidemic",
           "marker": {
            "color": "#ab63fa"
           },
           "name": "Epidemic",
           "offsetgroup": "Epidemic",
           "orientation": "h",
           "showlegend": true,
           "textposition": "auto",
           "type": "bar",
           "x": [
            651
           ],
           "xaxis": "x",
           "y": [
            "Epidemic"
           ],
           "yaxis": "y"
          },
          {
           "alignmentgroup": "True",
           "hovertemplate": "Entity=%{y}<br>Year=1993<br>Deaths=%{x}<extra></extra>",
           "legendgroup": "Extreme temperature",
           "marker": {
            "color": "#FFA15A"
           },
           "name": "Extreme temperature",
           "offsetgroup": "Extreme temperature",
           "orientation": "h",
           "showlegend": true,
           "textposition": "auto",
           "type": "bar",
           "x": [
            106
           ],
           "xaxis": "x",
           "y": [
            "Extreme temperature"
           ],
           "yaxis": "y"
          },
          {
           "alignmentgroup": "True",
           "hovertemplate": "Entity=%{y}<br>Year=1993<br>Deaths=%{x}<extra></extra>",
           "legendgroup": "Extreme weather",
           "marker": {
            "color": "#19d3f3"
           },
           "name": "Extreme weather",
           "offsetgroup": "Extreme weather",
           "orientation": "h",
           "showlegend": true,
           "textposition": "auto",
           "type": "bar",
           "x": [
            2965
           ],
           "xaxis": "x",
           "y": [
            "Extreme weather"
           ],
           "yaxis": "y"
          },
          {
           "alignmentgroup": "True",
           "hovertemplate": "Entity=%{y}<br>Year=1993<br>Deaths=%{x}<extra></extra>",
           "legendgroup": "Flood",
           "marker": {
            "color": "#FF6692"
           },
           "name": "Flood",
           "offsetgroup": "Flood",
           "orientation": "h",
           "showlegend": true,
           "textposition": "auto",
           "type": "bar",
           "x": [
            6150
           ],
           "xaxis": "x",
           "y": [
            "Flood"
           ],
           "yaxis": "y"
          },
          {
           "alignmentgroup": "True",
           "hovertemplate": "Entity=%{y}<br>Year=1993<br>Deaths=%{x}<extra></extra>",
           "legendgroup": "Landslide",
           "marker": {
            "color": "#B6E880"
           },
           "name": "Landslide",
           "offsetgroup": "Landslide",
           "orientation": "h",
           "showlegend": true,
           "textposition": "auto",
           "type": "bar",
           "x": [
            1418
           ],
           "xaxis": "x",
           "y": [
            "Landslide"
           ],
           "yaxis": "y"
          },
          {
           "alignmentgroup": "True",
           "hovertemplate": "Entity=%{y}<br>Year=1993<br>Deaths=%{x}<extra></extra>",
           "legendgroup": "Mass movement (dry)",
           "marker": {
            "color": "#FF97FF"
           },
           "name": "Mass movement (dry)",
           "offsetgroup": "Mass movement (dry)",
           "orientation": "h",
           "showlegend": true,
           "textposition": "auto",
           "type": "bar",
           "x": [
            341
           ],
           "xaxis": "x",
           "y": [
            "Mass movement (dry)"
           ],
           "yaxis": "y"
          },
          {
           "alignmentgroup": "True",
           "hovertemplate": "Entity=%{y}<br>Year=1993<br>Deaths=%{x}<extra></extra>",
           "legendgroup": "Volcanic activity",
           "marker": {
            "color": "#FECB52"
           },
           "name": "Volcanic activity",
           "offsetgroup": "Volcanic activity",
           "orientation": "h",
           "showlegend": true,
           "textposition": "auto",
           "type": "bar",
           "x": [
            99
           ],
           "xaxis": "x",
           "y": [
            "Volcanic activity"
           ],
           "yaxis": "y"
          },
          {
           "alignmentgroup": "True",
           "hovertemplate": "Entity=%{y}<br>Year=1993<br>Deaths=%{x}<extra></extra>",
           "legendgroup": "Wildfire",
           "marker": {
            "color": "#636efa"
           },
           "name": "Wildfire",
           "offsetgroup": "Wildfire",
           "orientation": "h",
           "showlegend": true,
           "textposition": "auto",
           "type": "bar",
           "x": [
            3
           ],
           "xaxis": "x",
           "y": [
            "Wildfire"
           ],
           "yaxis": "y"
          }
         ],
         "name": "1993"
        },
        {
         "data": [
          {
           "alignmentgroup": "True",
           "hovertemplate": "Entity=%{y}<br>Year=1994<br>Deaths=%{x}<extra></extra>",
           "legendgroup": "All natural disasters",
           "marker": {
            "color": "#636efa"
           },
           "name": "All natural disasters",
           "offsetgroup": "All natural disasters",
           "orientation": "h",
           "showlegend": true,
           "textposition": "auto",
           "type": "bar",
           "x": [
            15590
           ],
           "xaxis": "x",
           "y": [
            "All natural disasters"
           ],
           "yaxis": "y"
          },
          {
           "alignmentgroup": "True",
           "hovertemplate": "Entity=%{y}<br>Year=1994<br>Deaths=%{x}<extra></extra>",
           "legendgroup": "Earthquake",
           "marker": {
            "color": "#00cc96"
           },
           "name": "Earthquake",
           "offsetgroup": "Earthquake",
           "orientation": "h",
           "showlegend": true,
           "textposition": "auto",
           "type": "bar",
           "x": [
            1242
           ],
           "xaxis": "x",
           "y": [
            "Earthquake"
           ],
           "yaxis": "y"
          },
          {
           "alignmentgroup": "True",
           "hovertemplate": "Entity=%{y}<br>Year=1994<br>Deaths=%{x}<extra></extra>",
           "legendgroup": "Epidemic",
           "marker": {
            "color": "#ab63fa"
           },
           "name": "Epidemic",
           "offsetgroup": "Epidemic",
           "orientation": "h",
           "showlegend": true,
           "textposition": "auto",
           "type": "bar",
           "x": [
            2505
           ],
           "xaxis": "x",
           "y": [
            "Epidemic"
           ],
           "yaxis": "y"
          },
          {
           "alignmentgroup": "True",
           "hovertemplate": "Entity=%{y}<br>Year=1994<br>Deaths=%{x}<extra></extra>",
           "legendgroup": "Extreme temperature",
           "marker": {
            "color": "#FFA15A"
           },
           "name": "Extreme temperature",
           "offsetgroup": "Extreme temperature",
           "orientation": "h",
           "showlegend": true,
           "textposition": "auto",
           "type": "bar",
           "x": [
            341
           ],
           "xaxis": "x",
           "y": [
            "Extreme temperature"
           ],
           "yaxis": "y"
          },
          {
           "alignmentgroup": "True",
           "hovertemplate": "Entity=%{y}<br>Year=1994<br>Deaths=%{x}<extra></extra>",
           "legendgroup": "Extreme weather",
           "marker": {
            "color": "#19d3f3"
           },
           "name": "Extreme weather",
           "offsetgroup": "Extreme weather",
           "orientation": "h",
           "showlegend": true,
           "textposition": "auto",
           "type": "bar",
           "x": [
            4239
           ],
           "xaxis": "x",
           "y": [
            "Extreme weather"
           ],
           "yaxis": "y"
          },
          {
           "alignmentgroup": "True",
           "hovertemplate": "Entity=%{y}<br>Year=1994<br>Deaths=%{x}<extra></extra>",
           "legendgroup": "Flood",
           "marker": {
            "color": "#FF6692"
           },
           "name": "Flood",
           "offsetgroup": "Flood",
           "orientation": "h",
           "showlegend": true,
           "textposition": "auto",
           "type": "bar",
           "x": [
            6771
           ],
           "xaxis": "x",
           "y": [
            "Flood"
           ],
           "yaxis": "y"
          },
          {
           "alignmentgroup": "True",
           "hovertemplate": "Entity=%{y}<br>Year=1994<br>Deaths=%{x}<extra></extra>",
           "legendgroup": "Landslide",
           "marker": {
            "color": "#B6E880"
           },
           "name": "Landslide",
           "offsetgroup": "Landslide",
           "orientation": "h",
           "showlegend": true,
           "textposition": "auto",
           "type": "bar",
           "x": [
            307
           ],
           "xaxis": "x",
           "y": [
            "Landslide"
           ],
           "yaxis": "y"
          },
          {
           "alignmentgroup": "True",
           "hovertemplate": "Entity=%{y}<br>Year=1994<br>Deaths=%{x}<extra></extra>",
           "legendgroup": "Volcanic activity",
           "marker": {
            "color": "#FECB52"
           },
           "name": "Volcanic activity",
           "offsetgroup": "Volcanic activity",
           "orientation": "h",
           "showlegend": true,
           "textposition": "auto",
           "type": "bar",
           "x": [
            101
           ],
           "xaxis": "x",
           "y": [
            "Volcanic activity"
           ],
           "yaxis": "y"
          },
          {
           "alignmentgroup": "True",
           "hovertemplate": "Entity=%{y}<br>Year=1994<br>Deaths=%{x}<extra></extra>",
           "legendgroup": "Wildfire",
           "marker": {
            "color": "#636efa"
           },
           "name": "Wildfire",
           "offsetgroup": "Wildfire",
           "orientation": "h",
           "showlegend": true,
           "textposition": "auto",
           "type": "bar",
           "x": [
            84
           ],
           "xaxis": "x",
           "y": [
            "Wildfire"
           ],
           "yaxis": "y"
          }
         ],
         "name": "1994"
        },
        {
         "data": [
          {
           "alignmentgroup": "True",
           "hovertemplate": "Entity=%{y}<br>Year=1995<br>Deaths=%{x}<extra></extra>",
           "legendgroup": "All natural disasters",
           "marker": {
            "color": "#636efa"
           },
           "name": "All natural disasters",
           "offsetgroup": "All natural disasters",
           "orientation": "h",
           "showlegend": true,
           "textposition": "auto",
           "type": "bar",
           "x": [
            27166
           ],
           "xaxis": "x",
           "y": [
            "All natural disasters"
           ],
           "yaxis": "y"
          },
          {
           "alignmentgroup": "True",
           "hovertemplate": "Entity=%{y}<br>Year=1995<br>Deaths=%{x}<extra></extra>",
           "legendgroup": "Earthquake",
           "marker": {
            "color": "#00cc96"
           },
           "name": "Earthquake",
           "offsetgroup": "Earthquake",
           "orientation": "h",
           "showlegend": true,
           "textposition": "auto",
           "type": "bar",
           "x": [
            7739
           ],
           "xaxis": "x",
           "y": [
            "Earthquake"
           ],
           "yaxis": "y"
          },
          {
           "alignmentgroup": "True",
           "hovertemplate": "Entity=%{y}<br>Year=1995<br>Deaths=%{x}<extra></extra>",
           "legendgroup": "Epidemic",
           "marker": {
            "color": "#ab63fa"
           },
           "name": "Epidemic",
           "offsetgroup": "Epidemic",
           "orientation": "h",
           "showlegend": true,
           "textposition": "auto",
           "type": "bar",
           "x": [
            4428
           ],
           "xaxis": "x",
           "y": [
            "Epidemic"
           ],
           "yaxis": "y"
          },
          {
           "alignmentgroup": "True",
           "hovertemplate": "Entity=%{y}<br>Year=1995<br>Deaths=%{x}<extra></extra>",
           "legendgroup": "Extreme temperature",
           "marker": {
            "color": "#FFA15A"
           },
           "name": "Extreme temperature",
           "offsetgroup": "Extreme temperature",
           "orientation": "h",
           "showlegend": true,
           "textposition": "auto",
           "type": "bar",
           "x": [
            1730
           ],
           "xaxis": "x",
           "y": [
            "Extreme temperature"
           ],
           "yaxis": "y"
          },
          {
           "alignmentgroup": "True",
           "hovertemplate": "Entity=%{y}<br>Year=1995<br>Deaths=%{x}<extra></extra>",
           "legendgroup": "Extreme weather",
           "marker": {
            "color": "#19d3f3"
           },
           "name": "Extreme weather",
           "offsetgroup": "Extreme weather",
           "orientation": "h",
           "showlegend": true,
           "textposition": "auto",
           "type": "bar",
           "x": [
            3763
           ],
           "xaxis": "x",
           "y": [
            "Extreme weather"
           ],
           "yaxis": "y"
          },
          {
           "alignmentgroup": "True",
           "hovertemplate": "Entity=%{y}<br>Year=1995<br>Deaths=%{x}<extra></extra>",
           "legendgroup": "Flood",
           "marker": {
            "color": "#FF6692"
           },
           "name": "Flood",
           "offsetgroup": "Flood",
           "orientation": "h",
           "showlegend": true,
           "textposition": "auto",
           "type": "bar",
           "x": [
            7956
           ],
           "xaxis": "x",
           "y": [
            "Flood"
           ],
           "yaxis": "y"
          },
          {
           "alignmentgroup": "True",
           "hovertemplate": "Entity=%{y}<br>Year=1995<br>Deaths=%{x}<extra></extra>",
           "legendgroup": "Landslide",
           "marker": {
            "color": "#B6E880"
           },
           "name": "Landslide",
           "offsetgroup": "Landslide",
           "orientation": "h",
           "showlegend": true,
           "textposition": "auto",
           "type": "bar",
           "x": [
            1521
           ],
           "xaxis": "x",
           "y": [
            "Landslide"
           ],
           "yaxis": "y"
          },
          {
           "alignmentgroup": "True",
           "hovertemplate": "Entity=%{y}<br>Year=1995<br>Deaths=%{x}<extra></extra>",
           "legendgroup": "Wildfire",
           "marker": {
            "color": "#636efa"
           },
           "name": "Wildfire",
           "offsetgroup": "Wildfire",
           "orientation": "h",
           "showlegend": true,
           "textposition": "auto",
           "type": "bar",
           "x": [
            29
           ],
           "xaxis": "x",
           "y": [
            "Wildfire"
           ],
           "yaxis": "y"
          }
         ],
         "name": "1995"
        },
        {
         "data": [
          {
           "alignmentgroup": "True",
           "hovertemplate": "Entity=%{y}<br>Year=1996<br>Deaths=%{x}<extra></extra>",
           "legendgroup": "All natural disasters",
           "marker": {
            "color": "#636efa"
           },
           "name": "All natural disasters",
           "offsetgroup": "All natural disasters",
           "orientation": "h",
           "showlegend": true,
           "textposition": "auto",
           "type": "bar",
           "x": [
            31595
           ],
           "xaxis": "x",
           "y": [
            "All natural disasters"
           ],
           "yaxis": "y"
          },
          {
           "alignmentgroup": "True",
           "hovertemplate": "Entity=%{y}<br>Year=1996<br>Deaths=%{x}<extra></extra>",
           "legendgroup": "Earthquake",
           "marker": {
            "color": "#00cc96"
           },
           "name": "Earthquake",
           "offsetgroup": "Earthquake",
           "orientation": "h",
           "showlegend": true,
           "textposition": "auto",
           "type": "bar",
           "x": [
            576
           ],
           "xaxis": "x",
           "y": [
            "Earthquake"
           ],
           "yaxis": "y"
          },
          {
           "alignmentgroup": "True",
           "hovertemplate": "Entity=%{y}<br>Year=1996<br>Deaths=%{x}<extra></extra>",
           "legendgroup": "Epidemic",
           "marker": {
            "color": "#ab63fa"
           },
           "name": "Epidemic",
           "offsetgroup": "Epidemic",
           "orientation": "h",
           "showlegend": true,
           "textposition": "auto",
           "type": "bar",
           "x": [
            16887
           ],
           "xaxis": "x",
           "y": [
            "Epidemic"
           ],
           "yaxis": "y"
          },
          {
           "alignmentgroup": "True",
           "hovertemplate": "Entity=%{y}<br>Year=1996<br>Deaths=%{x}<extra></extra>",
           "legendgroup": "Extreme temperature",
           "marker": {
            "color": "#FFA15A"
           },
           "name": "Extreme temperature",
           "offsetgroup": "Extreme temperature",
           "orientation": "h",
           "showlegend": true,
           "textposition": "auto",
           "type": "bar",
           "x": [
            300
           ],
           "xaxis": "x",
           "y": [
            "Extreme temperature"
           ],
           "yaxis": "y"
          },
          {
           "alignmentgroup": "True",
           "hovertemplate": "Entity=%{y}<br>Year=1996<br>Deaths=%{x}<extra></extra>",
           "legendgroup": "Extreme weather",
           "marker": {
            "color": "#19d3f3"
           },
           "name": "Extreme weather",
           "offsetgroup": "Extreme weather",
           "orientation": "h",
           "showlegend": true,
           "textposition": "auto",
           "type": "bar",
           "x": [
            4581
           ],
           "xaxis": "x",
           "y": [
            "Extreme weather"
           ],
           "yaxis": "y"
          },
          {
           "alignmentgroup": "True",
           "hovertemplate": "Entity=%{y}<br>Year=1996<br>Deaths=%{x}<extra></extra>",
           "legendgroup": "Flood",
           "marker": {
            "color": "#FF6692"
           },
           "name": "Flood",
           "offsetgroup": "Flood",
           "orientation": "h",
           "showlegend": true,
           "textposition": "auto",
           "type": "bar",
           "x": [
            8047
           ],
           "xaxis": "x",
           "y": [
            "Flood"
           ],
           "yaxis": "y"
          },
          {
           "alignmentgroup": "True",
           "hovertemplate": "Entity=%{y}<br>Year=1996<br>Deaths=%{x}<extra></extra>",
           "legendgroup": "Landslide",
           "marker": {
            "color": "#B6E880"
           },
           "name": "Landslide",
           "offsetgroup": "Landslide",
           "orientation": "h",
           "showlegend": true,
           "textposition": "auto",
           "type": "bar",
           "x": [
            1155
           ],
           "xaxis": "x",
           "y": [
            "Landslide"
           ],
           "yaxis": "y"
          },
          {
           "alignmentgroup": "True",
           "hovertemplate": "Entity=%{y}<br>Year=1996<br>Deaths=%{x}<extra></extra>",
           "legendgroup": "Volcanic activity",
           "marker": {
            "color": "#FECB52"
           },
           "name": "Volcanic activity",
           "offsetgroup": "Volcanic activity",
           "orientation": "h",
           "showlegend": true,
           "textposition": "auto",
           "type": "bar",
           "x": [
            4
           ],
           "xaxis": "x",
           "y": [
            "Volcanic activity"
           ],
           "yaxis": "y"
          },
          {
           "alignmentgroup": "True",
           "hovertemplate": "Entity=%{y}<br>Year=1996<br>Deaths=%{x}<extra></extra>",
           "legendgroup": "Wildfire",
           "marker": {
            "color": "#636efa"
           },
           "name": "Wildfire",
           "offsetgroup": "Wildfire",
           "orientation": "h",
           "showlegend": true,
           "textposition": "auto",
           "type": "bar",
           "x": [
            45
           ],
           "xaxis": "x",
           "y": [
            "Wildfire"
           ],
           "yaxis": "y"
          }
         ],
         "name": "1996"
        },
        {
         "data": [
          {
           "alignmentgroup": "True",
           "hovertemplate": "Entity=%{y}<br>Year=1997<br>Deaths=%{x}<extra></extra>",
           "legendgroup": "All natural disasters",
           "marker": {
            "color": "#636efa"
           },
           "name": "All natural disasters",
           "offsetgroup": "All natural disasters",
           "orientation": "h",
           "showlegend": true,
           "textposition": "auto",
           "type": "bar",
           "x": [
            30124
           ],
           "xaxis": "x",
           "y": [
            "All natural disasters"
           ],
           "yaxis": "y"
          },
          {
           "alignmentgroup": "True",
           "hovertemplate": "Entity=%{y}<br>Year=1997<br>Deaths=%{x}<extra></extra>",
           "legendgroup": "Drought",
           "marker": {
            "color": "#EF553B"
           },
           "name": "Drought",
           "offsetgroup": "Drought",
           "orientation": "h",
           "showlegend": true,
           "textposition": "auto",
           "type": "bar",
           "x": [
            732
           ],
           "xaxis": "x",
           "y": [
            "Drought"
           ],
           "yaxis": "y"
          },
          {
           "alignmentgroup": "True",
           "hovertemplate": "Entity=%{y}<br>Year=1997<br>Deaths=%{x}<extra></extra>",
           "legendgroup": "Earthquake",
           "marker": {
            "color": "#00cc96"
           },
           "name": "Earthquake",
           "offsetgroup": "Earthquake",
           "orientation": "h",
           "showlegend": true,
           "textposition": "auto",
           "type": "bar",
           "x": [
            3159
           ],
           "xaxis": "x",
           "y": [
            "Earthquake"
           ],
           "yaxis": "y"
          },
          {
           "alignmentgroup": "True",
           "hovertemplate": "Entity=%{y}<br>Year=1997<br>Deaths=%{x}<extra></extra>",
           "legendgroup": "Epidemic",
           "marker": {
            "color": "#ab63fa"
           },
           "name": "Epidemic",
           "offsetgroup": "Epidemic",
           "orientation": "h",
           "showlegend": true,
           "textposition": "auto",
           "type": "bar",
           "x": [
            10674
           ],
           "xaxis": "x",
           "y": [
            "Epidemic"
           ],
           "yaxis": "y"
          },
          {
           "alignmentgroup": "True",
           "hovertemplate": "Entity=%{y}<br>Year=1997<br>Deaths=%{x}<extra></extra>",
           "legendgroup": "Extreme temperature",
           "marker": {
            "color": "#FFA15A"
           },
           "name": "Extreme temperature",
           "offsetgroup": "Extreme temperature",
           "orientation": "h",
           "showlegend": true,
           "textposition": "auto",
           "type": "bar",
           "x": [
            604
           ],
           "xaxis": "x",
           "y": [
            "Extreme temperature"
           ],
           "yaxis": "y"
          },
          {
           "alignmentgroup": "True",
           "hovertemplate": "Entity=%{y}<br>Year=1997<br>Deaths=%{x}<extra></extra>",
           "legendgroup": "Extreme weather",
           "marker": {
            "color": "#19d3f3"
           },
           "name": "Extreme weather",
           "offsetgroup": "Extreme weather",
           "orientation": "h",
           "showlegend": true,
           "textposition": "auto",
           "type": "bar",
           "x": [
            6150
           ],
           "xaxis": "x",
           "y": [
            "Extreme weather"
           ],
           "yaxis": "y"
          },
          {
           "alignmentgroup": "True",
           "hovertemplate": "Entity=%{y}<br>Year=1997<br>Deaths=%{x}<extra></extra>",
           "legendgroup": "Flood",
           "marker": {
            "color": "#FF6692"
           },
           "name": "Flood",
           "offsetgroup": "Flood",
           "orientation": "h",
           "showlegend": true,
           "textposition": "auto",
           "type": "bar",
           "x": [
            7685
           ],
           "xaxis": "x",
           "y": [
            "Flood"
           ],
           "yaxis": "y"
          },
          {
           "alignmentgroup": "True",
           "hovertemplate": "Entity=%{y}<br>Year=1997<br>Deaths=%{x}<extra></extra>",
           "legendgroup": "Landslide",
           "marker": {
            "color": "#B6E880"
           },
           "name": "Landslide",
           "offsetgroup": "Landslide",
           "orientation": "h",
           "showlegend": true,
           "textposition": "auto",
           "type": "bar",
           "x": [
            801
           ],
           "xaxis": "x",
           "y": [
            "Landslide"
           ],
           "yaxis": "y"
          },
          {
           "alignmentgroup": "True",
           "hovertemplate": "Entity=%{y}<br>Year=1997<br>Deaths=%{x}<extra></extra>",
           "legendgroup": "Volcanic activity",
           "marker": {
            "color": "#FECB52"
           },
           "name": "Volcanic activity",
           "offsetgroup": "Volcanic activity",
           "orientation": "h",
           "showlegend": true,
           "textposition": "auto",
           "type": "bar",
           "x": [
            53
           ],
           "xaxis": "x",
           "y": [
            "Volcanic activity"
           ],
           "yaxis": "y"
          },
          {
           "alignmentgroup": "True",
           "hovertemplate": "Entity=%{y}<br>Year=1997<br>Deaths=%{x}<extra></extra>",
           "legendgroup": "Wildfire",
           "marker": {
            "color": "#636efa"
           },
           "name": "Wildfire",
           "offsetgroup": "Wildfire",
           "orientation": "h",
           "showlegend": true,
           "textposition": "auto",
           "type": "bar",
           "x": [
            266
           ],
           "xaxis": "x",
           "y": [
            "Wildfire"
           ],
           "yaxis": "y"
          }
         ],
         "name": "1997"
        },
        {
         "data": [
          {
           "alignmentgroup": "True",
           "hovertemplate": "Entity=%{y}<br>Year=1998<br>Deaths=%{x}<extra></extra>",
           "legendgroup": "All natural disasters",
           "marker": {
            "color": "#636efa"
           },
           "name": "All natural disasters",
           "offsetgroup": "All natural disasters",
           "orientation": "h",
           "showlegend": true,
           "textposition": "auto",
           "type": "bar",
           "x": [
            62672
           ],
           "xaxis": "x",
           "y": [
            "All natural disasters"
           ],
           "yaxis": "y"
          },
          {
           "alignmentgroup": "True",
           "hovertemplate": "Entity=%{y}<br>Year=1998<br>Deaths=%{x}<extra></extra>",
           "legendgroup": "Drought",
           "marker": {
            "color": "#EF553B"
           },
           "name": "Drought",
           "offsetgroup": "Drought",
           "orientation": "h",
           "showlegend": true,
           "textposition": "auto",
           "type": "bar",
           "x": [
            20
           ],
           "xaxis": "x",
           "y": [
            "Drought"
           ],
           "yaxis": "y"
          },
          {
           "alignmentgroup": "True",
           "hovertemplate": "Entity=%{y}<br>Year=1998<br>Deaths=%{x}<extra></extra>",
           "legendgroup": "Earthquake",
           "marker": {
            "color": "#00cc96"
           },
           "name": "Earthquake",
           "offsetgroup": "Earthquake",
           "orientation": "h",
           "showlegend": true,
           "textposition": "auto",
           "type": "bar",
           "x": [
            9573
           ],
           "xaxis": "x",
           "y": [
            "Earthquake"
           ],
           "yaxis": "y"
          },
          {
           "alignmentgroup": "True",
           "hovertemplate": "Entity=%{y}<br>Year=1998<br>Deaths=%{x}<extra></extra>",
           "legendgroup": "Epidemic",
           "marker": {
            "color": "#ab63fa"
           },
           "name": "Epidemic",
           "offsetgroup": "Epidemic",
           "orientation": "h",
           "showlegend": true,
           "textposition": "auto",
           "type": "bar",
           "x": [
            12931
           ],
           "xaxis": "x",
           "y": [
            "Epidemic"
           ],
           "yaxis": "y"
          },
          {
           "alignmentgroup": "True",
           "hovertemplate": "Entity=%{y}<br>Year=1998<br>Deaths=%{x}<extra></extra>",
           "legendgroup": "Extreme temperature",
           "marker": {
            "color": "#FFA15A"
           },
           "name": "Extreme temperature",
           "offsetgroup": "Extreme temperature",
           "orientation": "h",
           "showlegend": true,
           "textposition": "auto",
           "type": "bar",
           "x": [
            3269
           ],
           "xaxis": "x",
           "y": [
            "Extreme temperature"
           ],
           "yaxis": "y"
          },
          {
           "alignmentgroup": "True",
           "hovertemplate": "Entity=%{y}<br>Year=1998<br>Deaths=%{x}<extra></extra>",
           "legendgroup": "Extreme weather",
           "marker": {
            "color": "#19d3f3"
           },
           "name": "Extreme weather",
           "offsetgroup": "Extreme weather",
           "orientation": "h",
           "showlegend": true,
           "textposition": "auto",
           "type": "bar",
           "x": [
            24935
           ],
           "xaxis": "x",
           "y": [
            "Extreme weather"
           ],
           "yaxis": "y"
          },
          {
           "alignmentgroup": "True",
           "hovertemplate": "Entity=%{y}<br>Year=1998<br>Deaths=%{x}<extra></extra>",
           "legendgroup": "Flood",
           "marker": {
            "color": "#FF6692"
           },
           "name": "Flood",
           "offsetgroup": "Flood",
           "orientation": "h",
           "showlegend": true,
           "textposition": "auto",
           "type": "bar",
           "x": [
            10653
           ],
           "xaxis": "x",
           "y": [
            "Flood"
           ],
           "yaxis": "y"
          },
          {
           "alignmentgroup": "True",
           "hovertemplate": "Entity=%{y}<br>Year=1998<br>Deaths=%{x}<extra></extra>",
           "legendgroup": "Landslide",
           "marker": {
            "color": "#B6E880"
           },
           "name": "Landslide",
           "offsetgroup": "Landslide",
           "orientation": "h",
           "showlegend": true,
           "textposition": "auto",
           "type": "bar",
           "x": [
            1141
           ],
           "xaxis": "x",
           "y": [
            "Landslide"
           ],
           "yaxis": "y"
          },
          {
           "alignmentgroup": "True",
           "hovertemplate": "Entity=%{y}<br>Year=1998<br>Deaths=%{x}<extra></extra>",
           "legendgroup": "Wildfire",
           "marker": {
            "color": "#636efa"
           },
           "name": "Wildfire",
           "offsetgroup": "Wildfire",
           "orientation": "h",
           "showlegend": true,
           "textposition": "auto",
           "type": "bar",
           "x": [
            150
           ],
           "xaxis": "x",
           "y": [
            "Wildfire"
           ],
           "yaxis": "y"
          }
         ],
         "name": "1998"
        },
        {
         "data": [
          {
           "alignmentgroup": "True",
           "hovertemplate": "Entity=%{y}<br>Year=1999<br>Deaths=%{x}<extra></extra>",
           "legendgroup": "All natural disasters",
           "marker": {
            "color": "#636efa"
           },
           "name": "All natural disasters",
           "offsetgroup": "All natural disasters",
           "orientation": "h",
           "showlegend": true,
           "textposition": "auto",
           "type": "bar",
           "x": [
            76886
           ],
           "xaxis": "x",
           "y": [
            "All natural disasters"
           ],
           "yaxis": "y"
          },
          {
           "alignmentgroup": "True",
           "hovertemplate": "Entity=%{y}<br>Year=1999<br>Deaths=%{x}<extra></extra>",
           "legendgroup": "Drought",
           "marker": {
            "color": "#EF553B"
           },
           "name": "Drought",
           "offsetgroup": "Drought",
           "orientation": "h",
           "showlegend": true,
           "textposition": "auto",
           "type": "bar",
           "x": [
            361
           ],
           "xaxis": "x",
           "y": [
            "Drought"
           ],
           "yaxis": "y"
          },
          {
           "alignmentgroup": "True",
           "hovertemplate": "Entity=%{y}<br>Year=1999<br>Deaths=%{x}<extra></extra>",
           "legendgroup": "Earthquake",
           "marker": {
            "color": "#00cc96"
           },
           "name": "Earthquake",
           "offsetgroup": "Earthquake",
           "orientation": "h",
           "showlegend": true,
           "textposition": "auto",
           "type": "bar",
           "x": [
            21869
           ],
           "xaxis": "x",
           "y": [
            "Earthquake"
           ],
           "yaxis": "y"
          },
          {
           "alignmentgroup": "True",
           "hovertemplate": "Entity=%{y}<br>Year=1999<br>Deaths=%{x}<extra></extra>",
           "legendgroup": "Epidemic",
           "marker": {
            "color": "#ab63fa"
           },
           "name": "Epidemic",
           "offsetgroup": "Epidemic",
           "orientation": "h",
           "showlegend": true,
           "textposition": "auto",
           "type": "bar",
           "x": [
            6293
           ],
           "xaxis": "x",
           "y": [
            "Epidemic"
           ],
           "yaxis": "y"
          },
          {
           "alignmentgroup": "True",
           "hovertemplate": "Entity=%{y}<br>Year=1999<br>Deaths=%{x}<extra></extra>",
           "legendgroup": "Extreme temperature",
           "marker": {
            "color": "#FFA15A"
           },
           "name": "Extreme temperature",
           "offsetgroup": "Extreme temperature",
           "orientation": "h",
           "showlegend": true,
           "textposition": "auto",
           "type": "bar",
           "x": [
            771
           ],
           "xaxis": "x",
           "y": [
            "Extreme temperature"
           ],
           "yaxis": "y"
          },
          {
           "alignmentgroup": "True",
           "hovertemplate": "Entity=%{y}<br>Year=1999<br>Deaths=%{x}<extra></extra>",
           "legendgroup": "Extreme weather",
           "marker": {
            "color": "#19d3f3"
           },
           "name": "Extreme weather",
           "offsetgroup": "Extreme weather",
           "orientation": "h",
           "showlegend": true,
           "textposition": "auto",
           "type": "bar",
           "x": [
            12270
           ],
           "xaxis": "x",
           "y": [
            "Extreme weather"
           ],
           "yaxis": "y"
          },
          {
           "alignmentgroup": "True",
           "hovertemplate": "Entity=%{y}<br>Year=1999<br>Deaths=%{x}<extra></extra>",
           "legendgroup": "Flood",
           "marker": {
            "color": "#FF6692"
           },
           "name": "Flood",
           "offsetgroup": "Flood",
           "orientation": "h",
           "showlegend": true,
           "textposition": "auto",
           "type": "bar",
           "x": [
            34807
           ],
           "xaxis": "x",
           "y": [
            "Flood"
           ],
           "yaxis": "y"
          },
          {
           "alignmentgroup": "True",
           "hovertemplate": "Entity=%{y}<br>Year=1999<br>Deaths=%{x}<extra></extra>",
           "legendgroup": "Landslide",
           "marker": {
            "color": "#B6E880"
           },
           "name": "Landslide",
           "offsetgroup": "Landslide",
           "orientation": "h",
           "showlegend": true,
           "textposition": "auto",
           "type": "bar",
           "x": [
            445
           ],
           "xaxis": "x",
           "y": [
            "Landslide"
           ],
           "yaxis": "y"
          },
          {
           "alignmentgroup": "True",
           "hovertemplate": "Entity=%{y}<br>Year=1999<br>Deaths=%{x}<extra></extra>",
           "legendgroup": "Wildfire",
           "marker": {
            "color": "#636efa"
           },
           "name": "Wildfire",
           "offsetgroup": "Wildfire",
           "orientation": "h",
           "showlegend": true,
           "textposition": "auto",
           "type": "bar",
           "x": [
            70
           ],
           "xaxis": "x",
           "y": [
            "Wildfire"
           ],
           "yaxis": "y"
          }
         ],
         "name": "1999"
        },
        {
         "data": [
          {
           "alignmentgroup": "True",
           "hovertemplate": "Entity=%{y}<br>Year=2000<br>Deaths=%{x}<extra></extra>",
           "legendgroup": "All natural disasters",
           "marker": {
            "color": "#636efa"
           },
           "name": "All natural disasters",
           "offsetgroup": "All natural disasters",
           "orientation": "h",
           "showlegend": true,
           "textposition": "auto",
           "type": "bar",
           "x": [
            16667
           ],
           "xaxis": "x",
           "y": [
            "All natural disasters"
           ],
           "yaxis": "y"
          },
          {
           "alignmentgroup": "True",
           "hovertemplate": "Entity=%{y}<br>Year=2000<br>Deaths=%{x}<extra></extra>",
           "legendgroup": "Drought",
           "marker": {
            "color": "#EF553B"
           },
           "name": "Drought",
           "offsetgroup": "Drought",
           "orientation": "h",
           "showlegend": true,
           "textposition": "auto",
           "type": "bar",
           "x": [
            80
           ],
           "xaxis": "x",
           "y": [
            "Drought"
           ],
           "yaxis": "y"
          },
          {
           "alignmentgroup": "True",
           "hovertemplate": "Entity=%{y}<br>Year=2000<br>Deaths=%{x}<extra></extra>",
           "legendgroup": "Earthquake",
           "marker": {
            "color": "#00cc96"
           },
           "name": "Earthquake",
           "offsetgroup": "Earthquake",
           "orientation": "h",
           "showlegend": true,
           "textposition": "auto",
           "type": "bar",
           "x": [
            217
           ],
           "xaxis": "x",
           "y": [
            "Earthquake"
           ],
           "yaxis": "y"
          },
          {
           "alignmentgroup": "True",
           "hovertemplate": "Entity=%{y}<br>Year=2000<br>Deaths=%{x}<extra></extra>",
           "legendgroup": "Epidemic",
           "marker": {
            "color": "#ab63fa"
           },
           "name": "Epidemic",
           "offsetgroup": "Epidemic",
           "orientation": "h",
           "showlegend": true,
           "textposition": "auto",
           "type": "bar",
           "x": [
            6980
           ],
           "xaxis": "x",
           "y": [
            "Epidemic"
           ],
           "yaxis": "y"
          },
          {
           "alignmentgroup": "True",
           "hovertemplate": "Entity=%{y}<br>Year=2000<br>Deaths=%{x}<extra></extra>",
           "legendgroup": "Extreme temperature",
           "marker": {
            "color": "#FFA15A"
           },
           "name": "Extreme temperature",
           "offsetgroup": "Extreme temperature",
           "orientation": "h",
           "showlegend": true,
           "textposition": "auto",
           "type": "bar",
           "x": [
            941
           ],
           "xaxis": "x",
           "y": [
            "Extreme temperature"
           ],
           "yaxis": "y"
          },
          {
           "alignmentgroup": "True",
           "hovertemplate": "Entity=%{y}<br>Year=2000<br>Deaths=%{x}<extra></extra>",
           "legendgroup": "Extreme weather",
           "marker": {
            "color": "#19d3f3"
           },
           "name": "Extreme weather",
           "offsetgroup": "Extreme weather",
           "orientation": "h",
           "showlegend": true,
           "textposition": "auto",
           "type": "bar",
           "x": [
            1354
           ],
           "xaxis": "x",
           "y": [
            "Extreme weather"
           ],
           "yaxis": "y"
          },
          {
           "alignmentgroup": "True",
           "hovertemplate": "Entity=%{y}<br>Year=2000<br>Deaths=%{x}<extra></extra>",
           "legendgroup": "Flood",
           "marker": {
            "color": "#FF6692"
           },
           "name": "Flood",
           "offsetgroup": "Flood",
           "orientation": "h",
           "showlegend": true,
           "textposition": "auto",
           "type": "bar",
           "x": [
            6025
           ],
           "xaxis": "x",
           "y": [
            "Flood"
           ],
           "yaxis": "y"
          },
          {
           "alignmentgroup": "True",
           "hovertemplate": "Entity=%{y}<br>Year=2000<br>Deaths=%{x}<extra></extra>",
           "legendgroup": "Landslide",
           "marker": {
            "color": "#B6E880"
           },
           "name": "Landslide",
           "offsetgroup": "Landslide",
           "orientation": "h",
           "showlegend": true,
           "textposition": "auto",
           "type": "bar",
           "x": [
            1012
           ],
           "xaxis": "x",
           "y": [
            "Landslide"
           ],
           "yaxis": "y"
          },
          {
           "alignmentgroup": "True",
           "hovertemplate": "Entity=%{y}<br>Year=2000<br>Deaths=%{x}<extra></extra>",
           "legendgroup": "Mass movement (dry)",
           "marker": {
            "color": "#FF97FF"
           },
           "name": "Mass movement (dry)",
           "offsetgroup": "Mass movement (dry)",
           "orientation": "h",
           "showlegend": true,
           "textposition": "auto",
           "type": "bar",
           "x": [
            11
           ],
           "xaxis": "x",
           "y": [
            "Mass movement (dry)"
           ],
           "yaxis": "y"
          },
          {
           "alignmentgroup": "True",
           "hovertemplate": "Entity=%{y}<br>Year=2000<br>Deaths=%{x}<extra></extra>",
           "legendgroup": "Wildfire",
           "marker": {
            "color": "#636efa"
           },
           "name": "Wildfire",
           "offsetgroup": "Wildfire",
           "orientation": "h",
           "showlegend": true,
           "textposition": "auto",
           "type": "bar",
           "x": [
            47
           ],
           "xaxis": "x",
           "y": [
            "Wildfire"
           ],
           "yaxis": "y"
          }
         ],
         "name": "2000"
        },
        {
         "data": [
          {
           "alignmentgroup": "True",
           "hovertemplate": "Entity=%{y}<br>Year=2001<br>Deaths=%{x}<extra></extra>",
           "legendgroup": "All natural disasters",
           "marker": {
            "color": "#636efa"
           },
           "name": "All natural disasters",
           "offsetgroup": "All natural disasters",
           "orientation": "h",
           "showlegend": true,
           "textposition": "auto",
           "type": "bar",
           "x": [
            39493
           ],
           "xaxis": "x",
           "y": [
            "All natural disasters"
           ],
           "yaxis": "y"
          },
          {
           "alignmentgroup": "True",
           "hovertemplate": "Entity=%{y}<br>Year=2001<br>Deaths=%{x}<extra></extra>",
           "legendgroup": "Drought",
           "marker": {
            "color": "#EF553B"
           },
           "name": "Drought",
           "offsetgroup": "Drought",
           "orientation": "h",
           "showlegend": true,
           "textposition": "auto",
           "type": "bar",
           "x": [
            99
           ],
           "xaxis": "x",
           "y": [
            "Drought"
           ],
           "yaxis": "y"
          },
          {
           "alignmentgroup": "True",
           "hovertemplate": "Entity=%{y}<br>Year=2001<br>Deaths=%{x}<extra></extra>",
           "legendgroup": "Earthquake",
           "marker": {
            "color": "#00cc96"
           },
           "name": "Earthquake",
           "offsetgroup": "Earthquake",
           "orientation": "h",
           "showlegend": true,
           "textposition": "auto",
           "type": "bar",
           "x": [
            21348
           ],
           "xaxis": "x",
           "y": [
            "Earthquake"
           ],
           "yaxis": "y"
          },
          {
           "alignmentgroup": "True",
           "hovertemplate": "Entity=%{y}<br>Year=2001<br>Deaths=%{x}<extra></extra>",
           "legendgroup": "Epidemic",
           "marker": {
            "color": "#ab63fa"
           },
           "name": "Epidemic",
           "offsetgroup": "Epidemic",
           "orientation": "h",
           "showlegend": true,
           "textposition": "auto",
           "type": "bar",
           "x": [
            8515
           ],
           "xaxis": "x",
           "y": [
            "Epidemic"
           ],
           "yaxis": "y"
          },
          {
           "alignmentgroup": "True",
           "hovertemplate": "Entity=%{y}<br>Year=2001<br>Deaths=%{x}<extra></extra>",
           "legendgroup": "Extreme temperature",
           "marker": {
            "color": "#FFA15A"
           },
           "name": "Extreme temperature",
           "offsetgroup": "Extreme temperature",
           "orientation": "h",
           "showlegend": true,
           "textposition": "auto",
           "type": "bar",
           "x": [
            1787
           ],
           "xaxis": "x",
           "y": [
            "Extreme temperature"
           ],
           "yaxis": "y"
          },
          {
           "alignmentgroup": "True",
           "hovertemplate": "Entity=%{y}<br>Year=2001<br>Deaths=%{x}<extra></extra>",
           "legendgroup": "Extreme weather",
           "marker": {
            "color": "#19d3f3"
           },
           "name": "Extreme weather",
           "offsetgroup": "Extreme weather",
           "orientation": "h",
           "showlegend": true,
           "textposition": "auto",
           "type": "bar",
           "x": [
            1911
           ],
           "xaxis": "x",
           "y": [
            "Extreme weather"
           ],
           "yaxis": "y"
          },
          {
           "alignmentgroup": "True",
           "hovertemplate": "Entity=%{y}<br>Year=2001<br>Deaths=%{x}<extra></extra>",
           "legendgroup": "Flood",
           "marker": {
            "color": "#FF6692"
           },
           "name": "Flood",
           "offsetgroup": "Flood",
           "orientation": "h",
           "showlegend": true,
           "textposition": "auto",
           "type": "bar",
           "x": [
            5014
           ],
           "xaxis": "x",
           "y": [
            "Flood"
           ],
           "yaxis": "y"
          },
          {
           "alignmentgroup": "True",
           "hovertemplate": "Entity=%{y}<br>Year=2001<br>Deaths=%{x}<extra></extra>",
           "legendgroup": "Landslide",
           "marker": {
            "color": "#B6E880"
           },
           "name": "Landslide",
           "offsetgroup": "Landslide",
           "orientation": "h",
           "showlegend": true,
           "textposition": "auto",
           "type": "bar",
           "x": [
            786
           ],
           "xaxis": "x",
           "y": [
            "Landslide"
           ],
           "yaxis": "y"
          },
          {
           "alignmentgroup": "True",
           "hovertemplate": "Entity=%{y}<br>Year=2001<br>Deaths=%{x}<extra></extra>",
           "legendgroup": "Wildfire",
           "marker": {
            "color": "#636efa"
           },
           "name": "Wildfire",
           "offsetgroup": "Wildfire",
           "orientation": "h",
           "showlegend": true,
           "textposition": "auto",
           "type": "bar",
           "x": [
            33
           ],
           "xaxis": "x",
           "y": [
            "Wildfire"
           ],
           "yaxis": "y"
          }
         ],
         "name": "2001"
        },
        {
         "data": [
          {
           "alignmentgroup": "True",
           "hovertemplate": "Entity=%{y}<br>Year=2002<br>Deaths=%{x}<extra></extra>",
           "legendgroup": "All natural disasters",
           "marker": {
            "color": "#636efa"
           },
           "name": "All natural disasters",
           "offsetgroup": "All natural disasters",
           "orientation": "h",
           "showlegend": true,
           "textposition": "auto",
           "type": "bar",
           "x": [
            21342
           ],
           "xaxis": "x",
           "y": [
            "All natural disasters"
           ],
           "yaxis": "y"
          },
          {
           "alignmentgroup": "True",
           "hovertemplate": "Entity=%{y}<br>Year=2002<br>Deaths=%{x}<extra></extra>",
           "legendgroup": "Drought",
           "marker": {
            "color": "#EF553B"
           },
           "name": "Drought",
           "offsetgroup": "Drought",
           "orientation": "h",
           "showlegend": true,
           "textposition": "auto",
           "type": "bar",
           "x": [
            588
           ],
           "xaxis": "x",
           "y": [
            "Drought"
           ],
           "yaxis": "y"
          },
          {
           "alignmentgroup": "True",
           "hovertemplate": "Entity=%{y}<br>Year=2002<br>Deaths=%{x}<extra></extra>",
           "legendgroup": "Earthquake",
           "marker": {
            "color": "#00cc96"
           },
           "name": "Earthquake",
           "offsetgroup": "Earthquake",
           "orientation": "h",
           "showlegend": true,
           "textposition": "auto",
           "type": "bar",
           "x": [
            1639
           ],
           "xaxis": "x",
           "y": [
            "Earthquake"
           ],
           "yaxis": "y"
          },
          {
           "alignmentgroup": "True",
           "hovertemplate": "Entity=%{y}<br>Year=2002<br>Deaths=%{x}<extra></extra>",
           "legendgroup": "Epidemic",
           "marker": {
            "color": "#ab63fa"
           },
           "name": "Epidemic",
           "offsetgroup": "Epidemic",
           "orientation": "h",
           "showlegend": true,
           "textposition": "auto",
           "type": "bar",
           "x": [
            8762
           ],
           "xaxis": "x",
           "y": [
            "Epidemic"
           ],
           "yaxis": "y"
          },
          {
           "alignmentgroup": "True",
           "hovertemplate": "Entity=%{y}<br>Year=2002<br>Deaths=%{x}<extra></extra>",
           "legendgroup": "Extreme temperature",
           "marker": {
            "color": "#FFA15A"
           },
           "name": "Extreme temperature",
           "offsetgroup": "Extreme temperature",
           "orientation": "h",
           "showlegend": true,
           "textposition": "auto",
           "type": "bar",
           "x": [
            3369
           ],
           "xaxis": "x",
           "y": [
            "Extreme temperature"
           ],
           "yaxis": "y"
          },
          {
           "alignmentgroup": "True",
           "hovertemplate": "Entity=%{y}<br>Year=2002<br>Deaths=%{x}<extra></extra>",
           "legendgroup": "Extreme weather",
           "marker": {
            "color": "#19d3f3"
           },
           "name": "Extreme weather",
           "offsetgroup": "Extreme weather",
           "orientation": "h",
           "showlegend": true,
           "textposition": "auto",
           "type": "bar",
           "x": [
            1382
           ],
           "xaxis": "x",
           "y": [
            "Extreme weather"
           ],
           "yaxis": "y"
          },
          {
           "alignmentgroup": "True",
           "hovertemplate": "Entity=%{y}<br>Year=2002<br>Deaths=%{x}<extra></extra>",
           "legendgroup": "Flood",
           "marker": {
            "color": "#FF6692"
           },
           "name": "Flood",
           "offsetgroup": "Flood",
           "orientation": "h",
           "showlegend": true,
           "textposition": "auto",
           "type": "bar",
           "x": [
            4236
           ],
           "xaxis": "x",
           "y": [
            "Flood"
           ],
           "yaxis": "y"
          },
          {
           "alignmentgroup": "True",
           "hovertemplate": "Entity=%{y}<br>Year=2002<br>Deaths=%{x}<extra></extra>",
           "legendgroup": "Landslide",
           "marker": {
            "color": "#B6E880"
           },
           "name": "Landslide",
           "offsetgroup": "Landslide",
           "orientation": "h",
           "showlegend": true,
           "textposition": "auto",
           "type": "bar",
           "x": [
            1100
           ],
           "xaxis": "x",
           "y": [
            "Landslide"
           ],
           "yaxis": "y"
          },
          {
           "alignmentgroup": "True",
           "hovertemplate": "Entity=%{y}<br>Year=2002<br>Deaths=%{x}<extra></extra>",
           "legendgroup": "Mass movement (dry)",
           "marker": {
            "color": "#FF97FF"
           },
           "name": "Mass movement (dry)",
           "offsetgroup": "Mass movement (dry)",
           "orientation": "h",
           "showlegend": true,
           "textposition": "auto",
           "type": "bar",
           "x": [
            60
           ],
           "xaxis": "x",
           "y": [
            "Mass movement (dry)"
           ],
           "yaxis": "y"
          },
          {
           "alignmentgroup": "True",
           "hovertemplate": "Entity=%{y}<br>Year=2002<br>Deaths=%{x}<extra></extra>",
           "legendgroup": "Volcanic activity",
           "marker": {
            "color": "#FECB52"
           },
           "name": "Volcanic activity",
           "offsetgroup": "Volcanic activity",
           "orientation": "h",
           "showlegend": true,
           "textposition": "auto",
           "type": "bar",
           "x": [
            200
           ],
           "xaxis": "x",
           "y": [
            "Volcanic activity"
           ],
           "yaxis": "y"
          },
          {
           "alignmentgroup": "True",
           "hovertemplate": "Entity=%{y}<br>Year=2002<br>Deaths=%{x}<extra></extra>",
           "legendgroup": "Wildfire",
           "marker": {
            "color": "#636efa"
           },
           "name": "Wildfire",
           "offsetgroup": "Wildfire",
           "orientation": "h",
           "showlegend": true,
           "textposition": "auto",
           "type": "bar",
           "x": [
            6
           ],
           "xaxis": "x",
           "y": [
            "Wildfire"
           ],
           "yaxis": "y"
          }
         ],
         "name": "2002"
        },
        {
         "data": [
          {
           "alignmentgroup": "True",
           "hovertemplate": "Entity=%{y}<br>Year=2003<br>Deaths=%{x}<extra></extra>",
           "legendgroup": "All natural disasters",
           "marker": {
            "color": "#636efa"
           },
           "name": "All natural disasters",
           "offsetgroup": "All natural disasters",
           "orientation": "h",
           "showlegend": true,
           "textposition": "auto",
           "type": "bar",
           "x": [
            113558
           ],
           "xaxis": "x",
           "y": [
            "All natural disasters"
           ],
           "yaxis": "y"
          },
          {
           "alignmentgroup": "True",
           "hovertemplate": "Entity=%{y}<br>Year=2003<br>Deaths=%{x}<extra></extra>",
           "legendgroup": "Drought",
           "marker": {
            "color": "#EF553B"
           },
           "name": "Drought",
           "offsetgroup": "Drought",
           "orientation": "h",
           "showlegend": true,
           "textposition": "auto",
           "type": "bar",
           "x": [
            9
           ],
           "xaxis": "x",
           "y": [
            "Drought"
           ],
           "yaxis": "y"
          },
          {
           "alignmentgroup": "True",
           "hovertemplate": "Entity=%{y}<br>Year=2003<br>Deaths=%{x}<extra></extra>",
           "legendgroup": "Earthquake",
           "marker": {
            "color": "#00cc96"
           },
           "name": "Earthquake",
           "offsetgroup": "Earthquake",
           "orientation": "h",
           "showlegend": true,
           "textposition": "auto",
           "type": "bar",
           "x": [
            29617
           ],
           "xaxis": "x",
           "y": [
            "Earthquake"
           ],
           "yaxis": "y"
          },
          {
           "alignmentgroup": "True",
           "hovertemplate": "Entity=%{y}<br>Year=2003<br>Deaths=%{x}<extra></extra>",
           "legendgroup": "Epidemic",
           "marker": {
            "color": "#ab63fa"
           },
           "name": "Epidemic",
           "offsetgroup": "Epidemic",
           "orientation": "h",
           "showlegend": true,
           "textposition": "auto",
           "type": "bar",
           "x": [
            3522
           ],
           "xaxis": "x",
           "y": [
            "Epidemic"
           ],
           "yaxis": "y"
          },
          {
           "alignmentgroup": "True",
           "hovertemplate": "Entity=%{y}<br>Year=2003<br>Deaths=%{x}<extra></extra>",
           "legendgroup": "Extreme temperature",
           "marker": {
            "color": "#FFA15A"
           },
           "name": "Extreme temperature",
           "offsetgroup": "Extreme temperature",
           "orientation": "h",
           "showlegend": true,
           "textposition": "auto",
           "type": "bar",
           "x": [
            74698
           ],
           "xaxis": "x",
           "y": [
            "Extreme temperature"
           ],
           "yaxis": "y"
          },
          {
           "alignmentgroup": "True",
           "hovertemplate": "Entity=%{y}<br>Year=2003<br>Deaths=%{x}<extra></extra>",
           "legendgroup": "Extreme weather",
           "marker": {
            "color": "#19d3f3"
           },
           "name": "Extreme weather",
           "offsetgroup": "Extreme weather",
           "orientation": "h",
           "showlegend": true,
           "textposition": "auto",
           "type": "bar",
           "x": [
            1049
           ],
           "xaxis": "x",
           "y": [
            "Extreme weather"
           ],
           "yaxis": "y"
          },
          {
           "alignmentgroup": "True",
           "hovertemplate": "Entity=%{y}<br>Year=2003<br>Deaths=%{x}<extra></extra>",
           "legendgroup": "Flood",
           "marker": {
            "color": "#FF6692"
           },
           "name": "Flood",
           "offsetgroup": "Flood",
           "orientation": "h",
           "showlegend": true,
           "textposition": "auto",
           "type": "bar",
           "x": [
            3910
           ],
           "xaxis": "x",
           "y": [
            "Flood"
           ],
           "yaxis": "y"
          },
          {
           "alignmentgroup": "True",
           "hovertemplate": "Entity=%{y}<br>Year=2003<br>Deaths=%{x}<extra></extra>",
           "legendgroup": "Landslide",
           "marker": {
            "color": "#B6E880"
           },
           "name": "Landslide",
           "offsetgroup": "Landslide",
           "orientation": "h",
           "showlegend": true,
           "textposition": "auto",
           "type": "bar",
           "x": [
            706
           ],
           "xaxis": "x",
           "y": [
            "Landslide"
           ],
           "yaxis": "y"
          },
          {
           "alignmentgroup": "True",
           "hovertemplate": "Entity=%{y}<br>Year=2003<br>Deaths=%{x}<extra></extra>",
           "legendgroup": "Wildfire",
           "marker": {
            "color": "#636efa"
           },
           "name": "Wildfire",
           "offsetgroup": "Wildfire",
           "orientation": "h",
           "showlegend": true,
           "textposition": "auto",
           "type": "bar",
           "x": [
            47
           ],
           "xaxis": "x",
           "y": [
            "Wildfire"
           ],
           "yaxis": "y"
          }
         ],
         "name": "2003"
        },
        {
         "data": [
          {
           "alignmentgroup": "True",
           "hovertemplate": "Entity=%{y}<br>Year=2004<br>Deaths=%{x}<extra></extra>",
           "legendgroup": "All natural disasters",
           "marker": {
            "color": "#636efa"
           },
           "name": "All natural disasters",
           "offsetgroup": "All natural disasters",
           "orientation": "h",
           "showlegend": true,
           "textposition": "auto",
           "type": "bar",
           "x": [
            244772
           ],
           "xaxis": "x",
           "y": [
            "All natural disasters"
           ],
           "yaxis": "y"
          },
          {
           "alignmentgroup": "True",
           "hovertemplate": "Entity=%{y}<br>Year=2004<br>Deaths=%{x}<extra></extra>",
           "legendgroup": "Drought",
           "marker": {
            "color": "#EF553B"
           },
           "name": "Drought",
           "offsetgroup": "Drought",
           "orientation": "h",
           "showlegend": true,
           "textposition": "auto",
           "type": "bar",
           "x": [
            80
           ],
           "xaxis": "x",
           "y": [
            "Drought"
           ],
           "yaxis": "y"
          },
          {
           "alignmentgroup": "True",
           "hovertemplate": "Entity=%{y}<br>Year=2004<br>Deaths=%{x}<extra></extra>",
           "legendgroup": "Earthquake",
           "marker": {
            "color": "#00cc96"
           },
           "name": "Earthquake",
           "offsetgroup": "Earthquake",
           "orientation": "h",
           "showlegend": true,
           "textposition": "auto",
           "type": "bar",
           "x": [
            227290
           ],
           "xaxis": "x",
           "y": [
            "Earthquake"
           ],
           "yaxis": "y"
          },
          {
           "alignmentgroup": "True",
           "hovertemplate": "Entity=%{y}<br>Year=2004<br>Deaths=%{x}<extra></extra>",
           "legendgroup": "Epidemic",
           "marker": {
            "color": "#ab63fa"
           },
           "name": "Epidemic",
           "offsetgroup": "Epidemic",
           "orientation": "h",
           "showlegend": true,
           "textposition": "auto",
           "type": "bar",
           "x": [
            3245
           ],
           "xaxis": "x",
           "y": [
            "Epidemic"
           ],
           "yaxis": "y"
          },
          {
           "alignmentgroup": "True",
           "hovertemplate": "Entity=%{y}<br>Year=2004<br>Deaths=%{x}<extra></extra>",
           "legendgroup": "Extreme temperature",
           "marker": {
            "color": "#FFA15A"
           },
           "name": "Extreme temperature",
           "offsetgroup": "Extreme temperature",
           "orientation": "h",
           "showlegend": true,
           "textposition": "auto",
           "type": "bar",
           "x": [
            255
           ],
           "xaxis": "x",
           "y": [
            "Extreme temperature"
           ],
           "yaxis": "y"
          },
          {
           "alignmentgroup": "True",
           "hovertemplate": "Entity=%{y}<br>Year=2004<br>Deaths=%{x}<extra></extra>",
           "legendgroup": "Extreme weather",
           "marker": {
            "color": "#19d3f3"
           },
           "name": "Extreme weather",
           "offsetgroup": "Extreme weather",
           "orientation": "h",
           "showlegend": true,
           "textposition": "auto",
           "type": "bar",
           "x": [
            6547
           ],
           "xaxis": "x",
           "y": [
            "Extreme weather"
           ],
           "yaxis": "y"
          },
          {
           "alignmentgroup": "True",
           "hovertemplate": "Entity=%{y}<br>Year=2004<br>Deaths=%{x}<extra></extra>",
           "legendgroup": "Flood",
           "marker": {
            "color": "#FF6692"
           },
           "name": "Flood",
           "offsetgroup": "Flood",
           "orientation": "h",
           "showlegend": true,
           "textposition": "auto",
           "type": "bar",
           "x": [
            6982
           ],
           "xaxis": "x",
           "y": [
            "Flood"
           ],
           "yaxis": "y"
          },
          {
           "alignmentgroup": "True",
           "hovertemplate": "Entity=%{y}<br>Year=2004<br>Deaths=%{x}<extra></extra>",
           "legendgroup": "Landslide",
           "marker": {
            "color": "#B6E880"
           },
           "name": "Landslide",
           "offsetgroup": "Landslide",
           "orientation": "h",
           "showlegend": true,
           "textposition": "auto",
           "type": "bar",
           "x": [
            313
           ],
           "xaxis": "x",
           "y": [
            "Landslide"
           ],
           "yaxis": "y"
          },
          {
           "alignmentgroup": "True",
           "hovertemplate": "Entity=%{y}<br>Year=2004<br>Deaths=%{x}<extra></extra>",
           "legendgroup": "Mass movement (dry)",
           "marker": {
            "color": "#FF97FF"
           },
           "name": "Mass movement (dry)",
           "offsetgroup": "Mass movement (dry)",
           "orientation": "h",
           "showlegend": true,
           "textposition": "auto",
           "type": "bar",
           "x": [
            44
           ],
           "xaxis": "x",
           "y": [
            "Mass movement (dry)"
           ],
           "yaxis": "y"
          },
          {
           "alignmentgroup": "True",
           "hovertemplate": "Entity=%{y}<br>Year=2004<br>Deaths=%{x}<extra></extra>",
           "legendgroup": "Volcanic activity",
           "marker": {
            "color": "#FECB52"
           },
           "name": "Volcanic activity",
           "offsetgroup": "Volcanic activity",
           "orientation": "h",
           "showlegend": true,
           "textposition": "auto",
           "type": "bar",
           "x": [
            2
           ],
           "xaxis": "x",
           "y": [
            "Volcanic activity"
           ],
           "yaxis": "y"
          },
          {
           "alignmentgroup": "True",
           "hovertemplate": "Entity=%{y}<br>Year=2004<br>Deaths=%{x}<extra></extra>",
           "legendgroup": "Wildfire",
           "marker": {
            "color": "#636efa"
           },
           "name": "Wildfire",
           "offsetgroup": "Wildfire",
           "orientation": "h",
           "showlegend": true,
           "textposition": "auto",
           "type": "bar",
           "x": [
            14
           ],
           "xaxis": "x",
           "y": [
            "Wildfire"
           ],
           "yaxis": "y"
          }
         ],
         "name": "2004"
        },
        {
         "data": [
          {
           "alignmentgroup": "True",
           "hovertemplate": "Entity=%{y}<br>Year=2005<br>Deaths=%{x}<extra></extra>",
           "legendgroup": "All natural disasters",
           "marker": {
            "color": "#636efa"
           },
           "name": "All natural disasters",
           "offsetgroup": "All natural disasters",
           "orientation": "h",
           "showlegend": true,
           "textposition": "auto",
           "type": "bar",
           "x": [
            93566
           ],
           "xaxis": "x",
           "y": [
            "All natural disasters"
           ],
           "yaxis": "y"
          },
          {
           "alignmentgroup": "True",
           "hovertemplate": "Entity=%{y}<br>Year=2005<br>Deaths=%{x}<extra></extra>",
           "legendgroup": "Drought",
           "marker": {
            "color": "#EF553B"
           },
           "name": "Drought",
           "offsetgroup": "Drought",
           "orientation": "h",
           "showlegend": true,
           "textposition": "auto",
           "type": "bar",
           "x": [
            149
           ],
           "xaxis": "x",
           "y": [
            "Drought"
           ],
           "yaxis": "y"
          },
          {
           "alignmentgroup": "True",
           "hovertemplate": "Entity=%{y}<br>Year=2005<br>Deaths=%{x}<extra></extra>",
           "legendgroup": "Earthquake",
           "marker": {
            "color": "#00cc96"
           },
           "name": "Earthquake",
           "offsetgroup": "Earthquake",
           "orientation": "h",
           "showlegend": true,
           "textposition": "auto",
           "type": "bar",
           "x": [
            76241
           ],
           "xaxis": "x",
           "y": [
            "Earthquake"
           ],
           "yaxis": "y"
          },
          {
           "alignmentgroup": "True",
           "hovertemplate": "Entity=%{y}<br>Year=2005<br>Deaths=%{x}<extra></extra>",
           "legendgroup": "Epidemic",
           "marker": {
            "color": "#ab63fa"
           },
           "name": "Epidemic",
           "offsetgroup": "Epidemic",
           "orientation": "h",
           "showlegend": true,
           "textposition": "auto",
           "type": "bar",
           "x": [
            3909
           ],
           "xaxis": "x",
           "y": [
            "Epidemic"
           ],
           "yaxis": "y"
          },
          {
           "alignmentgroup": "True",
           "hovertemplate": "Entity=%{y}<br>Year=2005<br>Deaths=%{x}<extra></extra>",
           "legendgroup": "Extreme temperature",
           "marker": {
            "color": "#FFA15A"
           },
           "name": "Extreme temperature",
           "offsetgroup": "Extreme temperature",
           "orientation": "h",
           "showlegend": true,
           "textposition": "auto",
           "type": "bar",
           "x": [
            1550
           ],
           "xaxis": "x",
           "y": [
            "Extreme temperature"
           ],
           "yaxis": "y"
          },
          {
           "alignmentgroup": "True",
           "hovertemplate": "Entity=%{y}<br>Year=2005<br>Deaths=%{x}<extra></extra>",
           "legendgroup": "Extreme weather",
           "marker": {
            "color": "#19d3f3"
           },
           "name": "Extreme weather",
           "offsetgroup": "Extreme weather",
           "orientation": "h",
           "showlegend": true,
           "textposition": "auto",
           "type": "bar",
           "x": [
            5251
           ],
           "xaxis": "x",
           "y": [
            "Extreme weather"
           ],
           "yaxis": "y"
          },
          {
           "alignmentgroup": "True",
           "hovertemplate": "Entity=%{y}<br>Year=2005<br>Deaths=%{x}<extra></extra>",
           "legendgroup": "Flood",
           "marker": {
            "color": "#FF6692"
           },
           "name": "Flood",
           "offsetgroup": "Flood",
           "orientation": "h",
           "showlegend": true,
           "textposition": "auto",
           "type": "bar",
           "x": [
            5754
           ],
           "xaxis": "x",
           "y": [
            "Flood"
           ],
           "yaxis": "y"
          },
          {
           "alignmentgroup": "True",
           "hovertemplate": "Entity=%{y}<br>Year=2005<br>Deaths=%{x}<extra></extra>",
           "legendgroup": "Landslide",
           "marker": {
            "color": "#B6E880"
           },
           "name": "Landslide",
           "offsetgroup": "Landslide",
           "orientation": "h",
           "showlegend": true,
           "textposition": "auto",
           "type": "bar",
           "x": [
            664
           ],
           "xaxis": "x",
           "y": [
            "Landslide"
           ],
           "yaxis": "y"
          },
          {
           "alignmentgroup": "True",
           "hovertemplate": "Entity=%{y}<br>Year=2005<br>Deaths=%{x}<extra></extra>",
           "legendgroup": "Volcanic activity",
           "marker": {
            "color": "#FECB52"
           },
           "name": "Volcanic activity",
           "offsetgroup": "Volcanic activity",
           "orientation": "h",
           "showlegend": true,
           "textposition": "auto",
           "type": "bar",
           "x": [
            3
           ],
           "xaxis": "x",
           "y": [
            "Volcanic activity"
           ],
           "yaxis": "y"
          },
          {
           "alignmentgroup": "True",
           "hovertemplate": "Entity=%{y}<br>Year=2005<br>Deaths=%{x}<extra></extra>",
           "legendgroup": "Wildfire",
           "marker": {
            "color": "#636efa"
           },
           "name": "Wildfire",
           "offsetgroup": "Wildfire",
           "orientation": "h",
           "showlegend": true,
           "textposition": "auto",
           "type": "bar",
           "x": [
            45
           ],
           "xaxis": "x",
           "y": [
            "Wildfire"
           ],
           "yaxis": "y"
          }
         ],
         "name": "2005"
        },
        {
         "data": [
          {
           "alignmentgroup": "True",
           "hovertemplate": "Entity=%{y}<br>Year=2006<br>Deaths=%{x}<extra></extra>",
           "legendgroup": "All natural disasters",
           "marker": {
            "color": "#636efa"
           },
           "name": "All natural disasters",
           "offsetgroup": "All natural disasters",
           "orientation": "h",
           "showlegend": true,
           "textposition": "auto",
           "type": "bar",
           "x": [
            29893
           ],
           "xaxis": "x",
           "y": [
            "All natural disasters"
           ],
           "yaxis": "y"
          },
          {
           "alignmentgroup": "True",
           "hovertemplate": "Entity=%{y}<br>Year=2006<br>Deaths=%{x}<extra></extra>",
           "legendgroup": "Drought",
           "marker": {
            "color": "#EF553B"
           },
           "name": "Drought",
           "offsetgroup": "Drought",
           "orientation": "h",
           "showlegend": true,
           "textposition": "auto",
           "type": "bar",
           "x": [
            134
           ],
           "xaxis": "x",
           "y": [
            "Drought"
           ],
           "yaxis": "y"
          },
          {
           "alignmentgroup": "True",
           "hovertemplate": "Entity=%{y}<br>Year=2006<br>Deaths=%{x}<extra></extra>",
           "legendgroup": "Earthquake",
           "marker": {
            "color": "#00cc96"
           },
           "name": "Earthquake",
           "offsetgroup": "Earthquake",
           "orientation": "h",
           "showlegend": true,
           "textposition": "auto",
           "type": "bar",
           "x": [
            6692
           ],
           "xaxis": "x",
           "y": [
            "Earthquake"
           ],
           "yaxis": "y"
          },
          {
           "alignmentgroup": "True",
           "hovertemplate": "Entity=%{y}<br>Year=2006<br>Deaths=%{x}<extra></extra>",
           "legendgroup": "Epidemic",
           "marker": {
            "color": "#ab63fa"
           },
           "name": "Epidemic",
           "offsetgroup": "Epidemic",
           "orientation": "h",
           "showlegend": true,
           "textposition": "auto",
           "type": "bar",
           "x": [
            6402
           ],
           "xaxis": "x",
           "y": [
            "Epidemic"
           ],
           "yaxis": "y"
          },
          {
           "alignmentgroup": "True",
           "hovertemplate": "Entity=%{y}<br>Year=2006<br>Deaths=%{x}<extra></extra>",
           "legendgroup": "Extreme temperature",
           "marker": {
            "color": "#FFA15A"
           },
           "name": "Extreme temperature",
           "offsetgroup": "Extreme temperature",
           "orientation": "h",
           "showlegend": true,
           "textposition": "auto",
           "type": "bar",
           "x": [
            4826
           ],
           "xaxis": "x",
           "y": [
            "Extreme temperature"
           ],
           "yaxis": "y"
          },
          {
           "alignmentgroup": "True",
           "hovertemplate": "Entity=%{y}<br>Year=2006<br>Deaths=%{x}<extra></extra>",
           "legendgroup": "Extreme weather",
           "marker": {
            "color": "#19d3f3"
           },
           "name": "Extreme weather",
           "offsetgroup": "Extreme weather",
           "orientation": "h",
           "showlegend": true,
           "textposition": "auto",
           "type": "bar",
           "x": [
            4329
           ],
           "xaxis": "x",
           "y": [
            "Extreme weather"
           ],
           "yaxis": "y"
          },
          {
           "alignmentgroup": "True",
           "hovertemplate": "Entity=%{y}<br>Year=2006<br>Deaths=%{x}<extra></extra>",
           "legendgroup": "Flood",
           "marker": {
            "color": "#FF6692"
           },
           "name": "Flood",
           "offsetgroup": "Flood",
           "orientation": "h",
           "showlegend": true,
           "textposition": "auto",
           "type": "bar",
           "x": [
            5843
           ],
           "xaxis": "x",
           "y": [
            "Flood"
           ],
           "yaxis": "y"
          },
          {
           "alignmentgroup": "True",
           "hovertemplate": "Entity=%{y}<br>Year=2006<br>Deaths=%{x}<extra></extra>",
           "legendgroup": "Landslide",
           "marker": {
            "color": "#B6E880"
           },
           "name": "Landslide",
           "offsetgroup": "Landslide",
           "orientation": "h",
           "showlegend": true,
           "textposition": "auto",
           "type": "bar",
           "x": [
            1638
           ],
           "xaxis": "x",
           "y": [
            "Landslide"
           ],
           "yaxis": "y"
          },
          {
           "alignmentgroup": "True",
           "hovertemplate": "Entity=%{y}<br>Year=2006<br>Deaths=%{x}<extra></extra>",
           "legendgroup": "Mass movement (dry)",
           "marker": {
            "color": "#FF97FF"
           },
           "name": "Mass movement (dry)",
           "offsetgroup": "Mass movement (dry)",
           "orientation": "h",
           "showlegend": true,
           "textposition": "auto",
           "type": "bar",
           "x": [
            11
           ],
           "xaxis": "x",
           "y": [
            "Mass movement (dry)"
           ],
           "yaxis": "y"
          },
          {
           "alignmentgroup": "True",
           "hovertemplate": "Entity=%{y}<br>Year=2006<br>Deaths=%{x}<extra></extra>",
           "legendgroup": "Volcanic activity",
           "marker": {
            "color": "#FECB52"
           },
           "name": "Volcanic activity",
           "offsetgroup": "Volcanic activity",
           "orientation": "h",
           "showlegend": true,
           "textposition": "auto",
           "type": "bar",
           "x": [
            5
           ],
           "xaxis": "x",
           "y": [
            "Volcanic activity"
           ],
           "yaxis": "y"
          },
          {
           "alignmentgroup": "True",
           "hovertemplate": "Entity=%{y}<br>Year=2006<br>Deaths=%{x}<extra></extra>",
           "legendgroup": "Wildfire",
           "marker": {
            "color": "#636efa"
           },
           "name": "Wildfire",
           "offsetgroup": "Wildfire",
           "orientation": "h",
           "showlegend": true,
           "textposition": "auto",
           "type": "bar",
           "x": [
            13
           ],
           "xaxis": "x",
           "y": [
            "Wildfire"
           ],
           "yaxis": "y"
          }
         ],
         "name": "2006"
        },
        {
         "data": [
          {
           "alignmentgroup": "True",
           "hovertemplate": "Entity=%{y}<br>Year=2007<br>Deaths=%{x}<extra></extra>",
           "legendgroup": "All natural disasters",
           "marker": {
            "color": "#636efa"
           },
           "name": "All natural disasters",
           "offsetgroup": "All natural disasters",
           "orientation": "h",
           "showlegend": true,
           "textposition": "auto",
           "type": "bar",
           "x": [
            22422
           ],
           "xaxis": "x",
           "y": [
            "All natural disasters"
           ],
           "yaxis": "y"
          },
          {
           "alignmentgroup": "True",
           "hovertemplate": "Entity=%{y}<br>Year=2007<br>Deaths=%{x}<extra></extra>",
           "legendgroup": "Earthquake",
           "marker": {
            "color": "#00cc96"
           },
           "name": "Earthquake",
           "offsetgroup": "Earthquake",
           "orientation": "h",
           "showlegend": true,
           "textposition": "auto",
           "type": "bar",
           "x": [
            780
           ],
           "xaxis": "x",
           "y": [
            "Earthquake"
           ],
           "yaxis": "y"
          },
          {
           "alignmentgroup": "True",
           "hovertemplate": "Entity=%{y}<br>Year=2007<br>Deaths=%{x}<extra></extra>",
           "legendgroup": "Epidemic",
           "marker": {
            "color": "#ab63fa"
           },
           "name": "Epidemic",
           "offsetgroup": "Epidemic",
           "orientation": "h",
           "showlegend": true,
           "textposition": "auto",
           "type": "bar",
           "x": [
            5484
           ],
           "xaxis": "x",
           "y": [
            "Epidemic"
           ],
           "yaxis": "y"
          },
          {
           "alignmentgroup": "True",
           "hovertemplate": "Entity=%{y}<br>Year=2007<br>Deaths=%{x}<extra></extra>",
           "legendgroup": "Extreme temperature",
           "marker": {
            "color": "#FFA15A"
           },
           "name": "Extreme temperature",
           "offsetgroup": "Extreme temperature",
           "orientation": "h",
           "showlegend": true,
           "textposition": "auto",
           "type": "bar",
           "x": [
            1086
           ],
           "xaxis": "x",
           "y": [
            "Extreme temperature"
           ],
           "yaxis": "y"
          },
          {
           "alignmentgroup": "True",
           "hovertemplate": "Entity=%{y}<br>Year=2007<br>Deaths=%{x}<extra></extra>",
           "legendgroup": "Extreme weather",
           "marker": {
            "color": "#19d3f3"
           },
           "name": "Extreme weather",
           "offsetgroup": "Extreme weather",
           "orientation": "h",
           "showlegend": true,
           "textposition": "auto",
           "type": "bar",
           "x": [
            6035
           ],
           "xaxis": "x",
           "y": [
            "Extreme weather"
           ],
           "yaxis": "y"
          },
          {
           "alignmentgroup": "True",
           "hovertemplate": "Entity=%{y}<br>Year=2007<br>Deaths=%{x}<extra></extra>",
           "legendgroup": "Flood",
           "marker": {
            "color": "#FF6692"
           },
           "name": "Flood",
           "offsetgroup": "Flood",
           "orientation": "h",
           "showlegend": true,
           "textposition": "auto",
           "type": "bar",
           "x": [
            8607
           ],
           "xaxis": "x",
           "y": [
            "Flood"
           ],
           "yaxis": "y"
          },
          {
           "alignmentgroup": "True",
           "hovertemplate": "Entity=%{y}<br>Year=2007<br>Deaths=%{x}<extra></extra>",
           "legendgroup": "Landslide",
           "marker": {
            "color": "#B6E880"
           },
           "name": "Landslide",
           "offsetgroup": "Landslide",
           "orientation": "h",
           "showlegend": true,
           "textposition": "auto",
           "type": "bar",
           "x": [
            271
           ],
           "xaxis": "x",
           "y": [
            "Landslide"
           ],
           "yaxis": "y"
          },
          {
           "alignmentgroup": "True",
           "hovertemplate": "Entity=%{y}<br>Year=2007<br>Deaths=%{x}<extra></extra>",
           "legendgroup": "Volcanic activity",
           "marker": {
            "color": "#FECB52"
           },
           "name": "Volcanic activity",
           "offsetgroup": "Volcanic activity",
           "orientation": "h",
           "showlegend": true,
           "textposition": "auto",
           "type": "bar",
           "x": [
            11
           ],
           "xaxis": "x",
           "y": [
            "Volcanic activity"
           ],
           "yaxis": "y"
          },
          {
           "alignmentgroup": "True",
           "hovertemplate": "Entity=%{y}<br>Year=2007<br>Deaths=%{x}<extra></extra>",
           "legendgroup": "Wildfire",
           "marker": {
            "color": "#636efa"
           },
           "name": "Wildfire",
           "offsetgroup": "Wildfire",
           "orientation": "h",
           "showlegend": true,
           "textposition": "auto",
           "type": "bar",
           "x": [
            148
           ],
           "xaxis": "x",
           "y": [
            "Wildfire"
           ],
           "yaxis": "y"
          }
         ],
         "name": "2007"
        },
        {
         "data": [
          {
           "alignmentgroup": "True",
           "hovertemplate": "Entity=%{y}<br>Year=2008<br>Deaths=%{x}<extra></extra>",
           "legendgroup": "All natural disasters",
           "marker": {
            "color": "#636efa"
           },
           "name": "All natural disasters",
           "offsetgroup": "All natural disasters",
           "orientation": "h",
           "showlegend": true,
           "textposition": "auto",
           "type": "bar",
           "x": [
            242236
           ],
           "xaxis": "x",
           "y": [
            "All natural disasters"
           ],
           "yaxis": "y"
          },
          {
           "alignmentgroup": "True",
           "hovertemplate": "Entity=%{y}<br>Year=2008<br>Deaths=%{x}<extra></extra>",
           "legendgroup": "Drought",
           "marker": {
            "color": "#EF553B"
           },
           "name": "Drought",
           "offsetgroup": "Drought",
           "orientation": "h",
           "showlegend": true,
           "textposition": "auto",
           "type": "bar",
           "x": [
            8
           ],
           "xaxis": "x",
           "y": [
            "Drought"
           ],
           "yaxis": "y"
          },
          {
           "alignmentgroup": "True",
           "hovertemplate": "Entity=%{y}<br>Year=2008<br>Deaths=%{x}<extra></extra>",
           "legendgroup": "Earthquake",
           "marker": {
            "color": "#00cc96"
           },
           "name": "Earthquake",
           "offsetgroup": "Earthquake",
           "orientation": "h",
           "showlegend": true,
           "textposition": "auto",
           "type": "bar",
           "x": [
            87918
           ],
           "xaxis": "x",
           "y": [
            "Earthquake"
           ],
           "yaxis": "y"
          },
          {
           "alignmentgroup": "True",
           "hovertemplate": "Entity=%{y}<br>Year=2008<br>Deaths=%{x}<extra></extra>",
           "legendgroup": "Epidemic",
           "marker": {
            "color": "#ab63fa"
           },
           "name": "Epidemic",
           "offsetgroup": "Epidemic",
           "orientation": "h",
           "showlegend": true,
           "textposition": "auto",
           "type": "bar",
           "x": [
            6904
           ],
           "xaxis": "x",
           "y": [
            "Epidemic"
           ],
           "yaxis": "y"
          },
          {
           "alignmentgroup": "True",
           "hovertemplate": "Entity=%{y}<br>Year=2008<br>Deaths=%{x}<extra></extra>",
           "legendgroup": "Extreme temperature",
           "marker": {
            "color": "#FFA15A"
           },
           "name": "Extreme temperature",
           "offsetgroup": "Extreme temperature",
           "orientation": "h",
           "showlegend": true,
           "textposition": "auto",
           "type": "bar",
           "x": [
            1688
           ],
           "xaxis": "x",
           "y": [
            "Extreme temperature"
           ],
           "yaxis": "y"
          },
          {
           "alignmentgroup": "True",
           "hovertemplate": "Entity=%{y}<br>Year=2008<br>Deaths=%{x}<extra></extra>",
           "legendgroup": "Extreme weather",
           "marker": {
            "color": "#19d3f3"
           },
           "name": "Extreme weather",
           "offsetgroup": "Extreme weather",
           "orientation": "h",
           "showlegend": true,
           "textposition": "auto",
           "type": "bar",
           "x": [
            140985
           ],
           "xaxis": "x",
           "y": [
            "Extreme weather"
           ],
           "yaxis": "y"
          },
          {
           "alignmentgroup": "True",
           "hovertemplate": "Entity=%{y}<br>Year=2008<br>Deaths=%{x}<extra></extra>",
           "legendgroup": "Flood",
           "marker": {
            "color": "#FF6692"
           },
           "name": "Flood",
           "offsetgroup": "Flood",
           "orientation": "h",
           "showlegend": true,
           "textposition": "auto",
           "type": "bar",
           "x": [
            4007
           ],
           "xaxis": "x",
           "y": [
            "Flood"
           ],
           "yaxis": "y"
          },
          {
           "alignmentgroup": "True",
           "hovertemplate": "Entity=%{y}<br>Year=2008<br>Deaths=%{x}<extra></extra>",
           "legendgroup": "Landslide",
           "marker": {
            "color": "#B6E880"
           },
           "name": "Landslide",
           "offsetgroup": "Landslide",
           "orientation": "h",
           "showlegend": true,
           "textposition": "auto",
           "type": "bar",
           "x": [
            504
           ],
           "xaxis": "x",
           "y": [
            "Landslide"
           ],
           "yaxis": "y"
          },
          {
           "alignmentgroup": "True",
           "hovertemplate": "Entity=%{y}<br>Year=2008<br>Deaths=%{x}<extra></extra>",
           "legendgroup": "Mass movement (dry)",
           "marker": {
            "color": "#FF97FF"
           },
           "name": "Mass movement (dry)",
           "offsetgroup": "Mass movement (dry)",
           "orientation": "h",
           "showlegend": true,
           "textposition": "auto",
           "type": "bar",
           "x": [
            120
           ],
           "xaxis": "x",
           "y": [
            "Mass movement (dry)"
           ],
           "yaxis": "y"
          },
          {
           "alignmentgroup": "True",
           "hovertemplate": "Entity=%{y}<br>Year=2008<br>Deaths=%{x}<extra></extra>",
           "legendgroup": "Volcanic activity",
           "marker": {
            "color": "#FECB52"
           },
           "name": "Volcanic activity",
           "offsetgroup": "Volcanic activity",
           "orientation": "h",
           "showlegend": true,
           "textposition": "auto",
           "type": "bar",
           "x": [
            16
           ],
           "xaxis": "x",
           "y": [
            "Volcanic activity"
           ],
           "yaxis": "y"
          },
          {
           "alignmentgroup": "True",
           "hovertemplate": "Entity=%{y}<br>Year=2008<br>Deaths=%{x}<extra></extra>",
           "legendgroup": "Wildfire",
           "marker": {
            "color": "#636efa"
           },
           "name": "Wildfire",
           "offsetgroup": "Wildfire",
           "orientation": "h",
           "showlegend": true,
           "textposition": "auto",
           "type": "bar",
           "x": [
            86
           ],
           "xaxis": "x",
           "y": [
            "Wildfire"
           ],
           "yaxis": "y"
          }
         ],
         "name": "2008"
        },
        {
         "data": [
          {
           "alignmentgroup": "True",
           "hovertemplate": "Entity=%{y}<br>Year=2009<br>Deaths=%{x}<extra></extra>",
           "legendgroup": "All natural disasters",
           "marker": {
            "color": "#636efa"
           },
           "name": "All natural disasters",
           "offsetgroup": "All natural disasters",
           "orientation": "h",
           "showlegend": true,
           "textposition": "auto",
           "type": "bar",
           "x": [
            16037
           ],
           "xaxis": "x",
           "y": [
            "All natural disasters"
           ],
           "yaxis": "y"
          },
          {
           "alignmentgroup": "True",
           "hovertemplate": "Entity=%{y}<br>Year=2009<br>Deaths=%{x}<extra></extra>",
           "legendgroup": "Earthquake",
           "marker": {
            "color": "#00cc96"
           },
           "name": "Earthquake",
           "offsetgroup": "Earthquake",
           "orientation": "h",
           "showlegend": true,
           "textposition": "auto",
           "type": "bar",
           "x": [
            1893
           ],
           "xaxis": "x",
           "y": [
            "Earthquake"
           ],
           "yaxis": "y"
          },
          {
           "alignmentgroup": "True",
           "hovertemplate": "Entity=%{y}<br>Year=2009<br>Deaths=%{x}<extra></extra>",
           "legendgroup": "Epidemic",
           "marker": {
            "color": "#ab63fa"
           },
           "name": "Epidemic",
           "offsetgroup": "Epidemic",
           "orientation": "h",
           "showlegend": true,
           "textposition": "auto",
           "type": "bar",
           "x": [
            4895
           ],
           "xaxis": "x",
           "y": [
            "Epidemic"
           ],
           "yaxis": "y"
          },
          {
           "alignmentgroup": "True",
           "hovertemplate": "Entity=%{y}<br>Year=2009<br>Deaths=%{x}<extra></extra>",
           "legendgroup": "Extreme temperature",
           "marker": {
            "color": "#FFA15A"
           },
           "name": "Extreme temperature",
           "offsetgroup": "Extreme temperature",
           "orientation": "h",
           "showlegend": true,
           "textposition": "auto",
           "type": "bar",
           "x": [
            1386
           ],
           "xaxis": "x",
           "y": [
            "Extreme temperature"
           ],
           "yaxis": "y"
          },
          {
           "alignmentgroup": "True",
           "hovertemplate": "Entity=%{y}<br>Year=2009<br>Deaths=%{x}<extra></extra>",
           "legendgroup": "Extreme weather",
           "marker": {
            "color": "#19d3f3"
           },
           "name": "Extreme weather",
           "offsetgroup": "Extreme weather",
           "orientation": "h",
           "showlegend": true,
           "textposition": "auto",
           "type": "bar",
           "x": [
            3287
           ],
           "xaxis": "x",
           "y": [
            "Extreme weather"
           ],
           "yaxis": "y"
          },
          {
           "alignmentgroup": "True",
           "hovertemplate": "Entity=%{y}<br>Year=2009<br>Deaths=%{x}<extra></extra>",
           "legendgroup": "Flood",
           "marker": {
            "color": "#FF6692"
           },
           "name": "Flood",
           "offsetgroup": "Flood",
           "orientation": "h",
           "showlegend": true,
           "textposition": "auto",
           "type": "bar",
           "x": [
            3627
           ],
           "xaxis": "x",
           "y": [
            "Flood"
           ],
           "yaxis": "y"
          },
          {
           "alignmentgroup": "True",
           "hovertemplate": "Entity=%{y}<br>Year=2009<br>Deaths=%{x}<extra></extra>",
           "legendgroup": "Landslide",
           "marker": {
            "color": "#B6E880"
           },
           "name": "Landslide",
           "offsetgroup": "Landslide",
           "orientation": "h",
           "showlegend": true,
           "textposition": "auto",
           "type": "bar",
           "x": [
            723
           ],
           "xaxis": "x",
           "y": [
            "Landslide"
           ],
           "yaxis": "y"
          },
          {
           "alignmentgroup": "True",
           "hovertemplate": "Entity=%{y}<br>Year=2009<br>Deaths=%{x}<extra></extra>",
           "legendgroup": "Mass movement (dry)",
           "marker": {
            "color": "#FF97FF"
           },
           "name": "Mass movement (dry)",
           "offsetgroup": "Mass movement (dry)",
           "orientation": "h",
           "showlegend": true,
           "textposition": "auto",
           "type": "bar",
           "x": [
            36
           ],
           "xaxis": "x",
           "y": [
            "Mass movement (dry)"
           ],
           "yaxis": "y"
          },
          {
           "alignmentgroup": "True",
           "hovertemplate": "Entity=%{y}<br>Year=2009<br>Deaths=%{x}<extra></extra>",
           "legendgroup": "Wildfire",
           "marker": {
            "color": "#636efa"
           },
           "name": "Wildfire",
           "offsetgroup": "Wildfire",
           "orientation": "h",
           "showlegend": true,
           "textposition": "auto",
           "type": "bar",
           "x": [
            190
           ],
           "xaxis": "x",
           "y": [
            "Wildfire"
           ],
           "yaxis": "y"
          }
         ],
         "name": "2009"
        },
        {
         "data": [
          {
           "alignmentgroup": "True",
           "hovertemplate": "Entity=%{y}<br>Year=2010<br>Deaths=%{x}<extra></extra>",
           "legendgroup": "All natural disasters",
           "marker": {
            "color": "#636efa"
           },
           "name": "All natural disasters",
           "offsetgroup": "All natural disasters",
           "orientation": "h",
           "showlegend": true,
           "textposition": "auto",
           "type": "bar",
           "x": [
            329900
           ],
           "xaxis": "x",
           "y": [
            "All natural disasters"
           ],
           "yaxis": "y"
          },
          {
           "alignmentgroup": "True",
           "hovertemplate": "Entity=%{y}<br>Year=2010<br>Deaths=%{x}<extra></extra>",
           "legendgroup": "Drought",
           "marker": {
            "color": "#EF553B"
           },
           "name": "Drought",
           "offsetgroup": "Drought",
           "orientation": "h",
           "showlegend": true,
           "textposition": "auto",
           "type": "bar",
           "x": [
            20000
           ],
           "xaxis": "x",
           "y": [
            "Drought"
           ],
           "yaxis": "y"
          },
          {
           "alignmentgroup": "True",
           "hovertemplate": "Entity=%{y}<br>Year=2010<br>Deaths=%{x}<extra></extra>",
           "legendgroup": "Earthquake",
           "marker": {
            "color": "#00cc96"
           },
           "name": "Earthquake",
           "offsetgroup": "Earthquake",
           "orientation": "h",
           "showlegend": true,
           "textposition": "auto",
           "type": "bar",
           "x": [
            226733
           ],
           "xaxis": "x",
           "y": [
            "Earthquake"
           ],
           "yaxis": "y"
          },
          {
           "alignmentgroup": "True",
           "hovertemplate": "Entity=%{y}<br>Year=2010<br>Deaths=%{x}<extra></extra>",
           "legendgroup": "Epidemic",
           "marker": {
            "color": "#ab63fa"
           },
           "name": "Epidemic",
           "offsetgroup": "Epidemic",
           "orientation": "h",
           "showlegend": true,
           "textposition": "auto",
           "type": "bar",
           "x": [
            12143
           ],
           "xaxis": "x",
           "y": [
            "Epidemic"
           ],
           "yaxis": "y"
          },
          {
           "alignmentgroup": "True",
           "hovertemplate": "Entity=%{y}<br>Year=2010<br>Deaths=%{x}<extra></extra>",
           "legendgroup": "Extreme temperature",
           "marker": {
            "color": "#FFA15A"
           },
           "name": "Extreme temperature",
           "offsetgroup": "Extreme temperature",
           "orientation": "h",
           "showlegend": true,
           "textposition": "auto",
           "type": "bar",
           "x": [
            57188
           ],
           "xaxis": "x",
           "y": [
            "Extreme temperature"
           ],
           "yaxis": "y"
          },
          {
           "alignmentgroup": "True",
           "hovertemplate": "Entity=%{y}<br>Year=2010<br>Deaths=%{x}<extra></extra>",
           "legendgroup": "Extreme weather",
           "marker": {
            "color": "#19d3f3"
           },
           "name": "Extreme weather",
           "offsetgroup": "Extreme weather",
           "orientation": "h",
           "showlegend": true,
           "textposition": "auto",
           "type": "bar",
           "x": [
            1564
           ],
           "xaxis": "x",
           "y": [
            "Extreme weather"
           ],
           "yaxis": "y"
          },
          {
           "alignmentgroup": "True",
           "hovertemplate": "Entity=%{y}<br>Year=2010<br>Deaths=%{x}<extra></extra>",
           "legendgroup": "Flood",
           "marker": {
            "color": "#FF6692"
           },
           "name": "Flood",
           "offsetgroup": "Flood",
           "orientation": "h",
           "showlegend": true,
           "textposition": "auto",
           "type": "bar",
           "x": [
            8356
           ],
           "xaxis": "x",
           "y": [
            "Flood"
           ],
           "yaxis": "y"
          },
          {
           "alignmentgroup": "True",
           "hovertemplate": "Entity=%{y}<br>Year=2010<br>Deaths=%{x}<extra></extra>",
           "legendgroup": "Landslide",
           "marker": {
            "color": "#B6E880"
           },
           "name": "Landslide",
           "offsetgroup": "Landslide",
           "orientation": "h",
           "showlegend": true,
           "textposition": "auto",
           "type": "bar",
           "x": [
            3427
           ],
           "xaxis": "x",
           "y": [
            "Landslide"
           ],
           "yaxis": "y"
          },
          {
           "alignmentgroup": "True",
           "hovertemplate": "Entity=%{y}<br>Year=2010<br>Deaths=%{x}<extra></extra>",
           "legendgroup": "Volcanic activity",
           "marker": {
            "color": "#FECB52"
           },
           "name": "Volcanic activity",
           "offsetgroup": "Volcanic activity",
           "orientation": "h",
           "showlegend": true,
           "textposition": "auto",
           "type": "bar",
           "x": [
            323
           ],
           "xaxis": "x",
           "y": [
            "Volcanic activity"
           ],
           "yaxis": "y"
          },
          {
           "alignmentgroup": "True",
           "hovertemplate": "Entity=%{y}<br>Year=2010<br>Deaths=%{x}<extra></extra>",
           "legendgroup": "Wildfire",
           "marker": {
            "color": "#636efa"
           },
           "name": "Wildfire",
           "offsetgroup": "Wildfire",
           "orientation": "h",
           "showlegend": true,
           "textposition": "auto",
           "type": "bar",
           "x": [
            166
           ],
           "xaxis": "x",
           "y": [
            "Wildfire"
           ],
           "yaxis": "y"
          }
         ],
         "name": "2010"
        },
        {
         "data": [
          {
           "alignmentgroup": "True",
           "hovertemplate": "Entity=%{y}<br>Year=2011<br>Deaths=%{x}<extra></extra>",
           "legendgroup": "All natural disasters",
           "marker": {
            "color": "#636efa"
           },
           "name": "All natural disasters",
           "offsetgroup": "All natural disasters",
           "orientation": "h",
           "showlegend": true,
           "textposition": "auto",
           "type": "bar",
           "x": [
            34143
           ],
           "xaxis": "x",
           "y": [
            "All natural disasters"
           ],
           "yaxis": "y"
          },
          {
           "alignmentgroup": "True",
           "hovertemplate": "Entity=%{y}<br>Year=2011<br>Deaths=%{x}<extra></extra>",
           "legendgroup": "Earthquake",
           "marker": {
            "color": "#00cc96"
           },
           "name": "Earthquake",
           "offsetgroup": "Earthquake",
           "orientation": "h",
           "showlegend": true,
           "textposition": "auto",
           "type": "bar",
           "x": [
            20946
           ],
           "xaxis": "x",
           "y": [
            "Earthquake"
           ],
           "yaxis": "y"
          },
          {
           "alignmentgroup": "True",
           "hovertemplate": "Entity=%{y}<br>Year=2011<br>Deaths=%{x}<extra></extra>",
           "legendgroup": "Epidemic",
           "marker": {
            "color": "#ab63fa"
           },
           "name": "Epidemic",
           "offsetgroup": "Epidemic",
           "orientation": "h",
           "showlegend": true,
           "textposition": "auto",
           "type": "bar",
           "x": [
            3174
           ],
           "xaxis": "x",
           "y": [
            "Epidemic"
           ],
           "yaxis": "y"
          },
          {
           "alignmentgroup": "True",
           "hovertemplate": "Entity=%{y}<br>Year=2011<br>Deaths=%{x}<extra></extra>",
           "legendgroup": "Extreme temperature",
           "marker": {
            "color": "#FFA15A"
           },
           "name": "Extreme temperature",
           "offsetgroup": "Extreme temperature",
           "orientation": "h",
           "showlegend": true,
           "textposition": "auto",
           "type": "bar",
           "x": [
            435
           ],
           "xaxis": "x",
           "y": [
            "Extreme temperature"
           ],
           "yaxis": "y"
          },
          {
           "alignmentgroup": "True",
           "hovertemplate": "Entity=%{y}<br>Year=2011<br>Deaths=%{x}<extra></extra>",
           "legendgroup": "Extreme weather",
           "marker": {
            "color": "#19d3f3"
           },
           "name": "Extreme weather",
           "offsetgroup": "Extreme weather",
           "orientation": "h",
           "showlegend": true,
           "textposition": "auto",
           "type": "bar",
           "x": [
            3103
           ],
           "xaxis": "x",
           "y": [
            "Extreme weather"
           ],
           "yaxis": "y"
          },
          {
           "alignmentgroup": "True",
           "hovertemplate": "Entity=%{y}<br>Year=2011<br>Deaths=%{x}<extra></extra>",
           "legendgroup": "Flood",
           "marker": {
            "color": "#FF6692"
           },
           "name": "Flood",
           "offsetgroup": "Flood",
           "orientation": "h",
           "showlegend": true,
           "textposition": "auto",
           "type": "bar",
           "x": [
            6163
           ],
           "xaxis": "x",
           "y": [
            "Flood"
           ],
           "yaxis": "y"
          },
          {
           "alignmentgroup": "True",
           "hovertemplate": "Entity=%{y}<br>Year=2011<br>Deaths=%{x}<extra></extra>",
           "legendgroup": "Landslide",
           "marker": {
            "color": "#B6E880"
           },
           "name": "Landslide",
           "offsetgroup": "Landslide",
           "orientation": "h",
           "showlegend": true,
           "textposition": "auto",
           "type": "bar",
           "x": [
            309
           ],
           "xaxis": "x",
           "y": [
            "Landslide"
           ],
           "yaxis": "y"
          },
          {
           "alignmentgroup": "True",
           "hovertemplate": "Entity=%{y}<br>Year=2011<br>Deaths=%{x}<extra></extra>",
           "legendgroup": "Volcanic activity",
           "marker": {
            "color": "#FECB52"
           },
           "name": "Volcanic activity",
           "offsetgroup": "Volcanic activity",
           "orientation": "h",
           "showlegend": true,
           "textposition": "auto",
           "type": "bar",
           "x": [
            3
           ],
           "xaxis": "x",
           "y": [
            "Volcanic activity"
           ],
           "yaxis": "y"
          },
          {
           "alignmentgroup": "True",
           "hovertemplate": "Entity=%{y}<br>Year=2011<br>Deaths=%{x}<extra></extra>",
           "legendgroup": "Wildfire",
           "marker": {
            "color": "#636efa"
           },
           "name": "Wildfire",
           "offsetgroup": "Wildfire",
           "orientation": "h",
           "showlegend": true,
           "textposition": "auto",
           "type": "bar",
           "x": [
            10
           ],
           "xaxis": "x",
           "y": [
            "Wildfire"
           ],
           "yaxis": "y"
          }
         ],
         "name": "2011"
        },
        {
         "data": [
          {
           "alignmentgroup": "True",
           "hovertemplate": "Entity=%{y}<br>Year=2012<br>Deaths=%{x}<extra></extra>",
           "legendgroup": "All natural disasters",
           "marker": {
            "color": "#636efa"
           },
           "name": "All natural disasters",
           "offsetgroup": "All natural disasters",
           "orientation": "h",
           "showlegend": true,
           "textposition": "auto",
           "type": "bar",
           "x": [
            11619
           ],
           "xaxis": "x",
           "y": [
            "All natural disasters"
           ],
           "yaxis": "y"
          },
          {
           "alignmentgroup": "True",
           "hovertemplate": "Entity=%{y}<br>Year=2012<br>Deaths=%{x}<extra></extra>",
           "legendgroup": "Earthquake",
           "marker": {
            "color": "#00cc96"
           },
           "name": "Earthquake",
           "offsetgroup": "Earthquake",
           "orientation": "h",
           "showlegend": true,
           "textposition": "auto",
           "type": "bar",
           "x": [
            711
           ],
           "xaxis": "x",
           "y": [
            "Earthquake"
           ],
           "yaxis": "y"
          },
          {
           "alignmentgroup": "True",
           "hovertemplate": "Entity=%{y}<br>Year=2012<br>Deaths=%{x}<extra></extra>",
           "legendgroup": "Epidemic",
           "marker": {
            "color": "#ab63fa"
           },
           "name": "Epidemic",
           "offsetgroup": "Epidemic",
           "orientation": "h",
           "showlegend": true,
           "textposition": "auto",
           "type": "bar",
           "x": [
            1887
           ],
           "xaxis": "x",
           "y": [
            "Epidemic"
           ],
           "yaxis": "y"
          },
          {
           "alignmentgroup": "True",
           "hovertemplate": "Entity=%{y}<br>Year=2012<br>Deaths=%{x}<extra></extra>",
           "legendgroup": "Extreme temperature",
           "marker": {
            "color": "#FFA15A"
           },
           "name": "Extreme temperature",
           "offsetgroup": "Extreme temperature",
           "orientation": "h",
           "showlegend": true,
           "textposition": "auto",
           "type": "bar",
           "x": [
            1834
           ],
           "xaxis": "x",
           "y": [
            "Extreme temperature"
           ],
           "yaxis": "y"
          },
          {
           "alignmentgroup": "True",
           "hovertemplate": "Entity=%{y}<br>Year=2012<br>Deaths=%{x}<extra></extra>",
           "legendgroup": "Extreme weather",
           "marker": {
            "color": "#19d3f3"
           },
           "name": "Extreme weather",
           "offsetgroup": "Extreme weather",
           "orientation": "h",
           "showlegend": true,
           "textposition": "auto",
           "type": "bar",
           "x": [
            3105
           ],
           "xaxis": "x",
           "y": [
            "Extreme weather"
           ],
           "yaxis": "y"
          },
          {
           "alignmentgroup": "True",
           "hovertemplate": "Entity=%{y}<br>Year=2012<br>Deaths=%{x}<extra></extra>",
           "legendgroup": "Flood",
           "marker": {
            "color": "#FF6692"
           },
           "name": "Flood",
           "offsetgroup": "Flood",
           "orientation": "h",
           "showlegend": true,
           "textposition": "auto",
           "type": "bar",
           "x": [
            3544
           ],
           "xaxis": "x",
           "y": [
            "Flood"
           ],
           "yaxis": "y"
          },
          {
           "alignmentgroup": "True",
           "hovertemplate": "Entity=%{y}<br>Year=2012<br>Deaths=%{x}<extra></extra>",
           "legendgroup": "Landslide",
           "marker": {
            "color": "#B6E880"
           },
           "name": "Landslide",
           "offsetgroup": "Landslide",
           "orientation": "h",
           "showlegend": true,
           "textposition": "auto",
           "type": "bar",
           "x": [
            501
           ],
           "xaxis": "x",
           "y": [
            "Landslide"
           ],
           "yaxis": "y"
          },
          {
           "alignmentgroup": "True",
           "hovertemplate": "Entity=%{y}<br>Year=2012<br>Deaths=%{x}<extra></extra>",
           "legendgroup": "Mass movement (dry)",
           "marker": {
            "color": "#FF97FF"
           },
           "name": "Mass movement (dry)",
           "offsetgroup": "Mass movement (dry)",
           "orientation": "h",
           "showlegend": true,
           "textposition": "auto",
           "type": "bar",
           "x": [
            16
           ],
           "xaxis": "x",
           "y": [
            "Mass movement (dry)"
           ],
           "yaxis": "y"
          },
          {
           "alignmentgroup": "True",
           "hovertemplate": "Entity=%{y}<br>Year=2012<br>Deaths=%{x}<extra></extra>",
           "legendgroup": "Wildfire",
           "marker": {
            "color": "#636efa"
           },
           "name": "Wildfire",
           "offsetgroup": "Wildfire",
           "orientation": "h",
           "showlegend": true,
           "textposition": "auto",
           "type": "bar",
           "x": [
            21
           ],
           "xaxis": "x",
           "y": [
            "Wildfire"
           ],
           "yaxis": "y"
          }
         ],
         "name": "2012"
        },
        {
         "data": [
          {
           "alignmentgroup": "True",
           "hovertemplate": "Entity=%{y}<br>Year=2013<br>Deaths=%{x}<extra></extra>",
           "legendgroup": "All natural disasters",
           "marker": {
            "color": "#636efa"
           },
           "name": "All natural disasters",
           "offsetgroup": "All natural disasters",
           "orientation": "h",
           "showlegend": true,
           "textposition": "auto",
           "type": "bar",
           "x": [
            22225
           ],
           "xaxis": "x",
           "y": [
            "All natural disasters"
           ],
           "yaxis": "y"
          },
          {
           "alignmentgroup": "True",
           "hovertemplate": "Entity=%{y}<br>Year=2013<br>Deaths=%{x}<extra></extra>",
           "legendgroup": "Earthquake",
           "marker": {
            "color": "#00cc96"
           },
           "name": "Earthquake",
           "offsetgroup": "Earthquake",
           "orientation": "h",
           "showlegend": true,
           "textposition": "auto",
           "type": "bar",
           "x": [
            1120
           ],
           "xaxis": "x",
           "y": [
            "Earthquake"
           ],
           "yaxis": "y"
          },
          {
           "alignmentgroup": "True",
           "hovertemplate": "Entity=%{y}<br>Year=2013<br>Deaths=%{x}<extra></extra>",
           "legendgroup": "Epidemic",
           "marker": {
            "color": "#ab63fa"
           },
           "name": "Epidemic",
           "offsetgroup": "Epidemic",
           "orientation": "h",
           "showlegend": true,
           "textposition": "auto",
           "type": "bar",
           "x": [
            529
           ],
           "xaxis": "x",
           "y": [
            "Epidemic"
           ],
           "yaxis": "y"
          },
          {
           "alignmentgroup": "True",
           "hovertemplate": "Entity=%{y}<br>Year=2013<br>Deaths=%{x}<extra></extra>",
           "legendgroup": "Extreme temperature",
           "marker": {
            "color": "#FFA15A"
           },
           "name": "Extreme temperature",
           "offsetgroup": "Extreme temperature",
           "orientation": "h",
           "showlegend": true,
           "textposition": "auto",
           "type": "bar",
           "x": [
            1821
           ],
           "xaxis": "x",
           "y": [
            "Extreme temperature"
           ],
           "yaxis": "y"
          },
          {
           "alignmentgroup": "True",
           "hovertemplate": "Entity=%{y}<br>Year=2013<br>Deaths=%{x}<extra></extra>",
           "legendgroup": "Extreme weather",
           "marker": {
            "color": "#19d3f3"
           },
           "name": "Extreme weather",
           "offsetgroup": "Extreme weather",
           "orientation": "h",
           "showlegend": true,
           "textposition": "auto",
           "type": "bar",
           "x": [
            8603
           ],
           "xaxis": "x",
           "y": [
            "Extreme weather"
           ],
           "yaxis": "y"
          },
          {
           "alignmentgroup": "True",
           "hovertemplate": "Entity=%{y}<br>Year=2013<br>Deaths=%{x}<extra></extra>",
           "legendgroup": "Flood",
           "marker": {
            "color": "#FF6692"
           },
           "name": "Flood",
           "offsetgroup": "Flood",
           "orientation": "h",
           "showlegend": true,
           "textposition": "auto",
           "type": "bar",
           "x": [
            9836
           ],
           "xaxis": "x",
           "y": [
            "Flood"
           ],
           "yaxis": "y"
          },
          {
           "alignmentgroup": "True",
           "hovertemplate": "Entity=%{y}<br>Year=2013<br>Deaths=%{x}<extra></extra>",
           "legendgroup": "Landslide",
           "marker": {
            "color": "#B6E880"
           },
           "name": "Landslide",
           "offsetgroup": "Landslide",
           "orientation": "h",
           "showlegend": true,
           "textposition": "auto",
           "type": "bar",
           "x": [
            235
           ],
           "xaxis": "x",
           "y": [
            "Landslide"
           ],
           "yaxis": "y"
          },
          {
           "alignmentgroup": "True",
           "hovertemplate": "Entity=%{y}<br>Year=2013<br>Deaths=%{x}<extra></extra>",
           "legendgroup": "Mass movement (dry)",
           "marker": {
            "color": "#FF97FF"
           },
           "name": "Mass movement (dry)",
           "offsetgroup": "Mass movement (dry)",
           "orientation": "h",
           "showlegend": true,
           "textposition": "auto",
           "type": "bar",
           "x": [
            46
           ],
           "xaxis": "x",
           "y": [
            "Mass movement (dry)"
           ],
           "yaxis": "y"
          },
          {
           "alignmentgroup": "True",
           "hovertemplate": "Entity=%{y}<br>Year=2013<br>Deaths=%{x}<extra></extra>",
           "legendgroup": "Wildfire",
           "marker": {
            "color": "#636efa"
           },
           "name": "Wildfire",
           "offsetgroup": "Wildfire",
           "orientation": "h",
           "showlegend": true,
           "textposition": "auto",
           "type": "bar",
           "x": [
            35
           ],
           "xaxis": "x",
           "y": [
            "Wildfire"
           ],
           "yaxis": "y"
          }
         ],
         "name": "2013"
        },
        {
         "data": [
          {
           "alignmentgroup": "True",
           "hovertemplate": "Entity=%{y}<br>Year=2014<br>Deaths=%{x}<extra></extra>",
           "legendgroup": "All natural disasters",
           "marker": {
            "color": "#636efa"
           },
           "name": "All natural disasters",
           "offsetgroup": "All natural disasters",
           "orientation": "h",
           "showlegend": true,
           "textposition": "auto",
           "type": "bar",
           "x": [
            20882
           ],
           "xaxis": "x",
           "y": [
            "All natural disasters"
           ],
           "yaxis": "y"
          },
          {
           "alignmentgroup": "True",
           "hovertemplate": "Entity=%{y}<br>Year=2014<br>Deaths=%{x}<extra></extra>",
           "legendgroup": "Earthquake",
           "marker": {
            "color": "#00cc96"
           },
           "name": "Earthquake",
           "offsetgroup": "Earthquake",
           "orientation": "h",
           "showlegend": true,
           "textposition": "auto",
           "type": "bar",
           "x": [
            774
           ],
           "xaxis": "x",
           "y": [
            "Earthquake"
           ],
           "yaxis": "y"
          },
          {
           "alignmentgroup": "True",
           "hovertemplate": "Entity=%{y}<br>Year=2014<br>Deaths=%{x}<extra></extra>",
           "legendgroup": "Epidemic",
           "marker": {
            "color": "#ab63fa"
           },
           "name": "Epidemic",
           "offsetgroup": "Epidemic",
           "orientation": "h",
           "showlegend": true,
           "textposition": "auto",
           "type": "bar",
           "x": [
            12911
           ],
           "xaxis": "x",
           "y": [
            "Epidemic"
           ],
           "yaxis": "y"
          },
          {
           "alignmentgroup": "True",
           "hovertemplate": "Entity=%{y}<br>Year=2014<br>Deaths=%{x}<extra></extra>",
           "legendgroup": "Extreme temperature",
           "marker": {
            "color": "#FFA15A"
           },
           "name": "Extreme temperature",
           "offsetgroup": "Extreme temperature",
           "orientation": "h",
           "showlegend": true,
           "textposition": "auto",
           "type": "bar",
           "x": [
            1168
           ],
           "xaxis": "x",
           "y": [
            "Extreme temperature"
           ],
           "yaxis": "y"
          },
          {
           "alignmentgroup": "True",
           "hovertemplate": "Entity=%{y}<br>Year=2014<br>Deaths=%{x}<extra></extra>",
           "legendgroup": "Extreme weather",
           "marker": {
            "color": "#19d3f3"
           },
           "name": "Extreme weather",
           "offsetgroup": "Extreme weather",
           "orientation": "h",
           "showlegend": true,
           "textposition": "auto",
           "type": "bar",
           "x": [
            1424
           ],
           "xaxis": "x",
           "y": [
            "Extreme weather"
           ],
           "yaxis": "y"
          },
          {
           "alignmentgroup": "True",
           "hovertemplate": "Entity=%{y}<br>Year=2014<br>Deaths=%{x}<extra></extra>",
           "legendgroup": "Flood",
           "marker": {
            "color": "#FF6692"
           },
           "name": "Flood",
           "offsetgroup": "Flood",
           "orientation": "h",
           "showlegend": true,
           "textposition": "auto",
           "type": "bar",
           "x": [
            3532
           ],
           "xaxis": "x",
           "y": [
            "Flood"
           ],
           "yaxis": "y"
          },
          {
           "alignmentgroup": "True",
           "hovertemplate": "Entity=%{y}<br>Year=2014<br>Deaths=%{x}<extra></extra>",
           "legendgroup": "Landslide",
           "marker": {
            "color": "#B6E880"
           },
           "name": "Landslide",
           "offsetgroup": "Landslide",
           "orientation": "h",
           "showlegend": true,
           "textposition": "auto",
           "type": "bar",
           "x": [
            943
           ],
           "xaxis": "x",
           "y": [
            "Landslide"
           ],
           "yaxis": "y"
          },
          {
           "alignmentgroup": "True",
           "hovertemplate": "Entity=%{y}<br>Year=2014<br>Deaths=%{x}<extra></extra>",
           "legendgroup": "Volcanic activity",
           "marker": {
            "color": "#FECB52"
           },
           "name": "Volcanic activity",
           "offsetgroup": "Volcanic activity",
           "orientation": "h",
           "showlegend": true,
           "textposition": "auto",
           "type": "bar",
           "x": [
            102
           ],
           "xaxis": "x",
           "y": [
            "Volcanic activity"
           ],
           "yaxis": "y"
          },
          {
           "alignmentgroup": "True",
           "hovertemplate": "Entity=%{y}<br>Year=2014<br>Deaths=%{x}<extra></extra>",
           "legendgroup": "Wildfire",
           "marker": {
            "color": "#636efa"
           },
           "name": "Wildfire",
           "offsetgroup": "Wildfire",
           "orientation": "h",
           "showlegend": true,
           "textposition": "auto",
           "type": "bar",
           "x": [
            16
           ],
           "xaxis": "x",
           "y": [
            "Wildfire"
           ],
           "yaxis": "y"
          }
         ],
         "name": "2014"
        },
        {
         "data": [
          {
           "alignmentgroup": "True",
           "hovertemplate": "Entity=%{y}<br>Year=2015<br>Deaths=%{x}<extra></extra>",
           "legendgroup": "All natural disasters",
           "marker": {
            "color": "#636efa"
           },
           "name": "All natural disasters",
           "offsetgroup": "All natural disasters",
           "orientation": "h",
           "showlegend": true,
           "textposition": "auto",
           "type": "bar",
           "x": [
            23893
           ],
           "xaxis": "x",
           "y": [
            "All natural disasters"
           ],
           "yaxis": "y"
          },
          {
           "alignmentgroup": "True",
           "hovertemplate": "Entity=%{y}<br>Year=2015<br>Deaths=%{x}<extra></extra>",
           "legendgroup": "Drought",
           "marker": {
            "color": "#EF553B"
           },
           "name": "Drought",
           "offsetgroup": "Drought",
           "orientation": "h",
           "showlegend": true,
           "textposition": "auto",
           "type": "bar",
           "x": [
            35
           ],
           "xaxis": "x",
           "y": [
            "Drought"
           ],
           "yaxis": "y"
          },
          {
           "alignmentgroup": "True",
           "hovertemplate": "Entity=%{y}<br>Year=2015<br>Deaths=%{x}<extra></extra>",
           "legendgroup": "Earthquake",
           "marker": {
            "color": "#00cc96"
           },
           "name": "Earthquake",
           "offsetgroup": "Earthquake",
           "orientation": "h",
           "showlegend": true,
           "textposition": "auto",
           "type": "bar",
           "x": [
            9550
           ],
           "xaxis": "x",
           "y": [
            "Earthquake"
           ],
           "yaxis": "y"
          },
          {
           "alignmentgroup": "True",
           "hovertemplate": "Entity=%{y}<br>Year=2015<br>Deaths=%{x}<extra></extra>",
           "legendgroup": "Epidemic",
           "marker": {
            "color": "#ab63fa"
           },
           "name": "Epidemic",
           "offsetgroup": "Epidemic",
           "orientation": "h",
           "showlegend": true,
           "textposition": "auto",
           "type": "bar",
           "x": [
            1032
           ],
           "xaxis": "x",
           "y": [
            "Epidemic"
           ],
           "yaxis": "y"
          },
          {
           "alignmentgroup": "True",
           "hovertemplate": "Entity=%{y}<br>Year=2015<br>Deaths=%{x}<extra></extra>",
           "legendgroup": "Extreme temperature",
           "marker": {
            "color": "#FFA15A"
           },
           "name": "Extreme temperature",
           "offsetgroup": "Extreme temperature",
           "orientation": "h",
           "showlegend": true,
           "textposition": "auto",
           "type": "bar",
           "x": [
            7425
           ],
           "xaxis": "x",
           "y": [
            "Extreme temperature"
           ],
           "yaxis": "y"
          },
          {
           "alignmentgroup": "True",
           "hovertemplate": "Entity=%{y}<br>Year=2015<br>Deaths=%{x}<extra></extra>",
           "legendgroup": "Extreme weather",
           "marker": {
            "color": "#19d3f3"
           },
           "name": "Extreme weather",
           "offsetgroup": "Extreme weather",
           "orientation": "h",
           "showlegend": true,
           "textposition": "auto",
           "type": "bar",
           "x": [
            1270
           ],
           "xaxis": "x",
           "y": [
            "Extreme weather"
           ],
           "yaxis": "y"
          },
          {
           "alignmentgroup": "True",
           "hovertemplate": "Entity=%{y}<br>Year=2015<br>Deaths=%{x}<extra></extra>",
           "legendgroup": "Flood",
           "marker": {
            "color": "#FF6692"
           },
           "name": "Flood",
           "offsetgroup": "Flood",
           "orientation": "h",
           "showlegend": true,
           "textposition": "auto",
           "type": "bar",
           "x": [
            3495
           ],
           "xaxis": "x",
           "y": [
            "Flood"
           ],
           "yaxis": "y"
          },
          {
           "alignmentgroup": "True",
           "hovertemplate": "Entity=%{y}<br>Year=2015<br>Deaths=%{x}<extra></extra>",
           "legendgroup": "Landslide",
           "marker": {
            "color": "#B6E880"
           },
           "name": "Landslide",
           "offsetgroup": "Landslide",
           "orientation": "h",
           "showlegend": true,
           "textposition": "auto",
           "type": "bar",
           "x": [
            1006
           ],
           "xaxis": "x",
           "y": [
            "Landslide"
           ],
           "yaxis": "y"
          },
          {
           "alignmentgroup": "True",
           "hovertemplate": "Entity=%{y}<br>Year=2015<br>Deaths=%{x}<extra></extra>",
           "legendgroup": "Mass movement (dry)",
           "marker": {
            "color": "#FF97FF"
           },
           "name": "Mass movement (dry)",
           "offsetgroup": "Mass movement (dry)",
           "orientation": "h",
           "showlegend": true,
           "textposition": "auto",
           "type": "bar",
           "x": [
            13
           ],
           "xaxis": "x",
           "y": [
            "Mass movement (dry)"
           ],
           "yaxis": "y"
          },
          {
           "alignmentgroup": "True",
           "hovertemplate": "Entity=%{y}<br>Year=2015<br>Deaths=%{x}<extra></extra>",
           "legendgroup": "Wildfire",
           "marker": {
            "color": "#636efa"
           },
           "name": "Wildfire",
           "offsetgroup": "Wildfire",
           "orientation": "h",
           "showlegend": true,
           "textposition": "auto",
           "type": "bar",
           "x": [
            67
           ],
           "xaxis": "x",
           "y": [
            "Wildfire"
           ],
           "yaxis": "y"
          }
         ],
         "name": "2015"
        },
        {
         "data": [
          {
           "alignmentgroup": "True",
           "hovertemplate": "Entity=%{y}<br>Year=2016<br>Deaths=%{x}<extra></extra>",
           "legendgroup": "All natural disasters",
           "marker": {
            "color": "#636efa"
           },
           "name": "All natural disasters",
           "offsetgroup": "All natural disasters",
           "orientation": "h",
           "showlegend": true,
           "textposition": "auto",
           "type": "bar",
           "x": [
            10201
           ],
           "xaxis": "x",
           "y": [
            "All natural disasters"
           ],
           "yaxis": "y"
          },
          {
           "alignmentgroup": "True",
           "hovertemplate": "Entity=%{y}<br>Year=2016<br>Deaths=%{x}<extra></extra>",
           "legendgroup": "Earthquake",
           "marker": {
            "color": "#00cc96"
           },
           "name": "Earthquake",
           "offsetgroup": "Earthquake",
           "orientation": "h",
           "showlegend": true,
           "textposition": "auto",
           "type": "bar",
           "x": [
            1311
           ],
           "xaxis": "x",
           "y": [
            "Earthquake"
           ],
           "yaxis": "y"
          },
          {
           "alignmentgroup": "True",
           "hovertemplate": "Entity=%{y}<br>Year=2016<br>Deaths=%{x}<extra></extra>",
           "legendgroup": "Epidemic",
           "marker": {
            "color": "#ab63fa"
           },
           "name": "Epidemic",
           "offsetgroup": "Epidemic",
           "orientation": "h",
           "showlegend": true,
           "textposition": "auto",
           "type": "bar",
           "x": [
            1520
           ],
           "xaxis": "x",
           "y": [
            "Epidemic"
           ],
           "yaxis": "y"
          },
          {
           "alignmentgroup": "True",
           "hovertemplate": "Entity=%{y}<br>Year=2016<br>Deaths=%{x}<extra></extra>",
           "legendgroup": "Extreme temperature",
           "marker": {
            "color": "#FFA15A"
           },
           "name": "Extreme temperature",
           "offsetgroup": "Extreme temperature",
           "orientation": "h",
           "showlegend": true,
           "textposition": "auto",
           "type": "bar",
           "x": [
            490
           ],
           "xaxis": "x",
           "y": [
            "Extreme temperature"
           ],
           "yaxis": "y"
          },
          {
           "alignmentgroup": "True",
           "hovertemplate": "Entity=%{y}<br>Year=2016<br>Deaths=%{x}<extra></extra>",
           "legendgroup": "Extreme weather",
           "marker": {
            "color": "#19d3f3"
           },
           "name": "Extreme weather",
           "offsetgroup": "Extreme weather",
           "orientation": "h",
           "showlegend": true,
           "textposition": "auto",
           "type": "bar",
           "x": [
            1760
           ],
           "xaxis": "x",
           "y": [
            "Extreme weather"
           ],
           "yaxis": "y"
          },
          {
           "alignmentgroup": "True",
           "hovertemplate": "Entity=%{y}<br>Year=2016<br>Deaths=%{x}<extra></extra>",
           "legendgroup": "Flood",
           "marker": {
            "color": "#FF6692"
           },
           "name": "Flood",
           "offsetgroup": "Flood",
           "orientation": "h",
           "showlegend": true,
           "textposition": "auto",
           "type": "bar",
           "x": [
            4720
           ],
           "xaxis": "x",
           "y": [
            "Flood"
           ],
           "yaxis": "y"
          },
          {
           "alignmentgroup": "True",
           "hovertemplate": "Entity=%{y}<br>Year=2016<br>Deaths=%{x}<extra></extra>",
           "legendgroup": "Landslide",
           "marker": {
            "color": "#B6E880"
           },
           "name": "Landslide",
           "offsetgroup": "Landslide",
           "orientation": "h",
           "showlegend": true,
           "textposition": "auto",
           "type": "bar",
           "x": [
            361
           ],
           "xaxis": "x",
           "y": [
            "Landslide"
           ],
           "yaxis": "y"
          },
          {
           "alignmentgroup": "True",
           "hovertemplate": "Entity=%{y}<br>Year=2016<br>Deaths=%{x}<extra></extra>",
           "legendgroup": "Wildfire",
           "marker": {
            "color": "#636efa"
           },
           "name": "Wildfire",
           "offsetgroup": "Wildfire",
           "orientation": "h",
           "showlegend": true,
           "textposition": "auto",
           "type": "bar",
           "x": [
            39
           ],
           "xaxis": "x",
           "y": [
            "Wildfire"
           ],
           "yaxis": "y"
          }
         ],
         "name": "2016"
        },
        {
         "data": [
          {
           "alignmentgroup": "True",
           "hovertemplate": "Entity=%{y}<br>Year=2017<br>Deaths=%{x}<extra></extra>",
           "legendgroup": "All natural disasters",
           "marker": {
            "color": "#636efa"
           },
           "name": "All natural disasters",
           "offsetgroup": "All natural disasters",
           "orientation": "h",
           "showlegend": true,
           "textposition": "auto",
           "type": "bar",
           "x": [
            2087
           ],
           "xaxis": "x",
           "y": [
            "All natural disasters"
           ],
           "yaxis": "y"
          },
          {
           "alignmentgroup": "True",
           "hovertemplate": "Entity=%{y}<br>Year=2017<br>Deaths=%{x}<extra></extra>",
           "legendgroup": "Earthquake",
           "marker": {
            "color": "#00cc96"
           },
           "name": "Earthquake",
           "offsetgroup": "Earthquake",
           "orientation": "h",
           "showlegend": true,
           "textposition": "auto",
           "type": "bar",
           "x": [
            49
           ],
           "xaxis": "x",
           "y": [
            "Earthquake"
           ],
           "yaxis": "y"
          },
          {
           "alignmentgroup": "True",
           "hovertemplate": "Entity=%{y}<br>Year=2017<br>Deaths=%{x}<extra></extra>",
           "legendgroup": "Epidemic",
           "marker": {
            "color": "#ab63fa"
           },
           "name": "Epidemic",
           "offsetgroup": "Epidemic",
           "orientation": "h",
           "showlegend": true,
           "textposition": "auto",
           "type": "bar",
           "x": [
            386
           ],
           "xaxis": "x",
           "y": [
            "Epidemic"
           ],
           "yaxis": "y"
          },
          {
           "alignmentgroup": "True",
           "hovertemplate": "Entity=%{y}<br>Year=2017<br>Deaths=%{x}<extra></extra>",
           "legendgroup": "Extreme temperature",
           "marker": {
            "color": "#FFA15A"
           },
           "name": "Extreme temperature",
           "offsetgroup": "Extreme temperature",
           "orientation": "h",
           "showlegend": true,
           "textposition": "auto",
           "type": "bar",
           "x": [
            130
           ],
           "xaxis": "x",
           "y": [
            "Extreme temperature"
           ],
           "yaxis": "y"
          },
          {
           "alignmentgroup": "True",
           "hovertemplate": "Entity=%{y}<br>Year=2017<br>Deaths=%{x}<extra></extra>",
           "legendgroup": "Extreme weather",
           "marker": {
            "color": "#19d3f3"
           },
           "name": "Extreme weather",
           "offsetgroup": "Extreme weather",
           "orientation": "h",
           "showlegend": true,
           "textposition": "auto",
           "type": "bar",
           "x": [
            394
           ],
           "xaxis": "x",
           "y": [
            "Extreme weather"
           ],
           "yaxis": "y"
          },
          {
           "alignmentgroup": "True",
           "hovertemplate": "Entity=%{y}<br>Year=2017<br>Deaths=%{x}<extra></extra>",
           "legendgroup": "Flood",
           "marker": {
            "color": "#FF6692"
           },
           "name": "Flood",
           "offsetgroup": "Flood",
           "orientation": "h",
           "showlegend": true,
           "textposition": "auto",
           "type": "bar",
           "x": [
            648
           ],
           "xaxis": "x",
           "y": [
            "Flood"
           ],
           "yaxis": "y"
          },
          {
           "alignmentgroup": "True",
           "hovertemplate": "Entity=%{y}<br>Year=2017<br>Deaths=%{x}<extra></extra>",
           "legendgroup": "Landslide",
           "marker": {
            "color": "#B6E880"
           },
           "name": "Landslide",
           "offsetgroup": "Landslide",
           "orientation": "h",
           "showlegend": true,
           "textposition": "auto",
           "type": "bar",
           "x": [
            405
           ],
           "xaxis": "x",
           "y": [
            "Landslide"
           ],
           "yaxis": "y"
          },
          {
           "alignmentgroup": "True",
           "hovertemplate": "Entity=%{y}<br>Year=2017<br>Deaths=%{x}<extra></extra>",
           "legendgroup": "Wildfire",
           "marker": {
            "color": "#636efa"
           },
           "name": "Wildfire",
           "offsetgroup": "Wildfire",
           "orientation": "h",
           "showlegend": true,
           "textposition": "auto",
           "type": "bar",
           "x": [
            75
           ],
           "xaxis": "x",
           "y": [
            "Wildfire"
           ],
           "yaxis": "y"
          }
         ],
         "name": "2017"
        }
       ],
       "layout": {
        "barmode": "relative",
        "height": 800,
        "legend": {
         "title": {
          "text": "Entity"
         },
         "tracegroupgap": 0
        },
        "margin": {
         "t": 60
        },
        "paper_bgcolor": "rgba(0,0,0,0)",
        "plot_bgcolor": "rgba(0,0,0,0)",
        "showlegend": false,
        "sliders": [
         {
          "active": 0,
          "currentvalue": {
           "prefix": "Year="
          },
          "len": 0.9,
          "pad": {
           "b": 10,
           "t": 60
          },
          "steps": [
           {
            "args": [
             [
              "1991"
             ],
             {
              "frame": {
               "duration": 0,
               "redraw": true
              },
              "fromcurrent": true,
              "mode": "immediate",
              "transition": {
               "duration": 0,
               "easing": "linear"
              }
             }
            ],
            "label": "1991",
            "method": "animate"
           },
           {
            "args": [
             [
              "1992"
             ],
             {
              "frame": {
               "duration": 0,
               "redraw": true
              },
              "fromcurrent": true,
              "mode": "immediate",
              "transition": {
               "duration": 0,
               "easing": "linear"
              }
             }
            ],
            "label": "1992",
            "method": "animate"
           },
           {
            "args": [
             [
              "1993"
             ],
             {
              "frame": {
               "duration": 0,
               "redraw": true
              },
              "fromcurrent": true,
              "mode": "immediate",
              "transition": {
               "duration": 0,
               "easing": "linear"
              }
             }
            ],
            "label": "1993",
            "method": "animate"
           },
           {
            "args": [
             [
              "1994"
             ],
             {
              "frame": {
               "duration": 0,
               "redraw": true
              },
              "fromcurrent": true,
              "mode": "immediate",
              "transition": {
               "duration": 0,
               "easing": "linear"
              }
             }
            ],
            "label": "1994",
            "method": "animate"
           },
           {
            "args": [
             [
              "1995"
             ],
             {
              "frame": {
               "duration": 0,
               "redraw": true
              },
              "fromcurrent": true,
              "mode": "immediate",
              "transition": {
               "duration": 0,
               "easing": "linear"
              }
             }
            ],
            "label": "1995",
            "method": "animate"
           },
           {
            "args": [
             [
              "1996"
             ],
             {
              "frame": {
               "duration": 0,
               "redraw": true
              },
              "fromcurrent": true,
              "mode": "immediate",
              "transition": {
               "duration": 0,
               "easing": "linear"
              }
             }
            ],
            "label": "1996",
            "method": "animate"
           },
           {
            "args": [
             [
              "1997"
             ],
             {
              "frame": {
               "duration": 0,
               "redraw": true
              },
              "fromcurrent": true,
              "mode": "immediate",
              "transition": {
               "duration": 0,
               "easing": "linear"
              }
             }
            ],
            "label": "1997",
            "method": "animate"
           },
           {
            "args": [
             [
              "1998"
             ],
             {
              "frame": {
               "duration": 0,
               "redraw": true
              },
              "fromcurrent": true,
              "mode": "immediate",
              "transition": {
               "duration": 0,
               "easing": "linear"
              }
             }
            ],
            "label": "1998",
            "method": "animate"
           },
           {
            "args": [
             [
              "1999"
             ],
             {
              "frame": {
               "duration": 0,
               "redraw": true
              },
              "fromcurrent": true,
              "mode": "immediate",
              "transition": {
               "duration": 0,
               "easing": "linear"
              }
             }
            ],
            "label": "1999",
            "method": "animate"
           },
           {
            "args": [
             [
              "2000"
             ],
             {
              "frame": {
               "duration": 0,
               "redraw": true
              },
              "fromcurrent": true,
              "mode": "immediate",
              "transition": {
               "duration": 0,
               "easing": "linear"
              }
             }
            ],
            "label": "2000",
            "method": "animate"
           },
           {
            "args": [
             [
              "2001"
             ],
             {
              "frame": {
               "duration": 0,
               "redraw": true
              },
              "fromcurrent": true,
              "mode": "immediate",
              "transition": {
               "duration": 0,
               "easing": "linear"
              }
             }
            ],
            "label": "2001",
            "method": "animate"
           },
           {
            "args": [
             [
              "2002"
             ],
             {
              "frame": {
               "duration": 0,
               "redraw": true
              },
              "fromcurrent": true,
              "mode": "immediate",
              "transition": {
               "duration": 0,
               "easing": "linear"
              }
             }
            ],
            "label": "2002",
            "method": "animate"
           },
           {
            "args": [
             [
              "2003"
             ],
             {
              "frame": {
               "duration": 0,
               "redraw": true
              },
              "fromcurrent": true,
              "mode": "immediate",
              "transition": {
               "duration": 0,
               "easing": "linear"
              }
             }
            ],
            "label": "2003",
            "method": "animate"
           },
           {
            "args": [
             [
              "2004"
             ],
             {
              "frame": {
               "duration": 0,
               "redraw": true
              },
              "fromcurrent": true,
              "mode": "immediate",
              "transition": {
               "duration": 0,
               "easing": "linear"
              }
             }
            ],
            "label": "2004",
            "method": "animate"
           },
           {
            "args": [
             [
              "2005"
             ],
             {
              "frame": {
               "duration": 0,
               "redraw": true
              },
              "fromcurrent": true,
              "mode": "immediate",
              "transition": {
               "duration": 0,
               "easing": "linear"
              }
             }
            ],
            "label": "2005",
            "method": "animate"
           },
           {
            "args": [
             [
              "2006"
             ],
             {
              "frame": {
               "duration": 0,
               "redraw": true
              },
              "fromcurrent": true,
              "mode": "immediate",
              "transition": {
               "duration": 0,
               "easing": "linear"
              }
             }
            ],
            "label": "2006",
            "method": "animate"
           },
           {
            "args": [
             [
              "2007"
             ],
             {
              "frame": {
               "duration": 0,
               "redraw": true
              },
              "fromcurrent": true,
              "mode": "immediate",
              "transition": {
               "duration": 0,
               "easing": "linear"
              }
             }
            ],
            "label": "2007",
            "method": "animate"
           },
           {
            "args": [
             [
              "2008"
             ],
             {
              "frame": {
               "duration": 0,
               "redraw": true
              },
              "fromcurrent": true,
              "mode": "immediate",
              "transition": {
               "duration": 0,
               "easing": "linear"
              }
             }
            ],
            "label": "2008",
            "method": "animate"
           },
           {
            "args": [
             [
              "2009"
             ],
             {
              "frame": {
               "duration": 0,
               "redraw": true
              },
              "fromcurrent": true,
              "mode": "immediate",
              "transition": {
               "duration": 0,
               "easing": "linear"
              }
             }
            ],
            "label": "2009",
            "method": "animate"
           },
           {
            "args": [
             [
              "2010"
             ],
             {
              "frame": {
               "duration": 0,
               "redraw": true
              },
              "fromcurrent": true,
              "mode": "immediate",
              "transition": {
               "duration": 0,
               "easing": "linear"
              }
             }
            ],
            "label": "2010",
            "method": "animate"
           },
           {
            "args": [
             [
              "2011"
             ],
             {
              "frame": {
               "duration": 0,
               "redraw": true
              },
              "fromcurrent": true,
              "mode": "immediate",
              "transition": {
               "duration": 0,
               "easing": "linear"
              }
             }
            ],
            "label": "2011",
            "method": "animate"
           },
           {
            "args": [
             [
              "2012"
             ],
             {
              "frame": {
               "duration": 0,
               "redraw": true
              },
              "fromcurrent": true,
              "mode": "immediate",
              "transition": {
               "duration": 0,
               "easing": "linear"
              }
             }
            ],
            "label": "2012",
            "method": "animate"
           },
           {
            "args": [
             [
              "2013"
             ],
             {
              "frame": {
               "duration": 0,
               "redraw": true
              },
              "fromcurrent": true,
              "mode": "immediate",
              "transition": {
               "duration": 0,
               "easing": "linear"
              }
             }
            ],
            "label": "2013",
            "method": "animate"
           },
           {
            "args": [
             [
              "2014"
             ],
             {
              "frame": {
               "duration": 0,
               "redraw": true
              },
              "fromcurrent": true,
              "mode": "immediate",
              "transition": {
               "duration": 0,
               "easing": "linear"
              }
             }
            ],
            "label": "2014",
            "method": "animate"
           },
           {
            "args": [
             [
              "2015"
             ],
             {
              "frame": {
               "duration": 0,
               "redraw": true
              },
              "fromcurrent": true,
              "mode": "immediate",
              "transition": {
               "duration": 0,
               "easing": "linear"
              }
             }
            ],
            "label": "2015",
            "method": "animate"
           },
           {
            "args": [
             [
              "2016"
             ],
             {
              "frame": {
               "duration": 0,
               "redraw": true
              },
              "fromcurrent": true,
              "mode": "immediate",
              "transition": {
               "duration": 0,
               "easing": "linear"
              }
             }
            ],
            "label": "2016",
            "method": "animate"
           },
           {
            "args": [
             [
              "2017"
             ],
             {
              "frame": {
               "duration": 0,
               "redraw": true
              },
              "fromcurrent": true,
              "mode": "immediate",
              "transition": {
               "duration": 0,
               "easing": "linear"
              }
             }
            ],
            "label": "2017",
            "method": "animate"
           }
          ],
          "x": 0.1,
          "xanchor": "left",
          "y": 0,
          "yanchor": "top"
         }
        ],
        "template": {
         "data": {
          "bar": [
           {
            "error_x": {
             "color": "#2a3f5f"
            },
            "error_y": {
             "color": "#2a3f5f"
            },
            "marker": {
             "line": {
              "color": "#E5ECF6",
              "width": 0.5
             }
            },
            "type": "bar"
           }
          ],
          "barpolar": [
           {
            "marker": {
             "line": {
              "color": "#E5ECF6",
              "width": 0.5
             }
            },
            "type": "barpolar"
           }
          ],
          "carpet": [
           {
            "aaxis": {
             "endlinecolor": "#2a3f5f",
             "gridcolor": "white",
             "linecolor": "white",
             "minorgridcolor": "white",
             "startlinecolor": "#2a3f5f"
            },
            "baxis": {
             "endlinecolor": "#2a3f5f",
             "gridcolor": "white",
             "linecolor": "white",
             "minorgridcolor": "white",
             "startlinecolor": "#2a3f5f"
            },
            "type": "carpet"
           }
          ],
          "choropleth": [
           {
            "colorbar": {
             "outlinewidth": 0,
             "ticks": ""
            },
            "type": "choropleth"
           }
          ],
          "contour": [
           {
            "colorbar": {
             "outlinewidth": 0,
             "ticks": ""
            },
            "colorscale": [
             [
              0,
              "#0d0887"
             ],
             [
              0.1111111111111111,
              "#46039f"
             ],
             [
              0.2222222222222222,
              "#7201a8"
             ],
             [
              0.3333333333333333,
              "#9c179e"
             ],
             [
              0.4444444444444444,
              "#bd3786"
             ],
             [
              0.5555555555555556,
              "#d8576b"
             ],
             [
              0.6666666666666666,
              "#ed7953"
             ],
             [
              0.7777777777777778,
              "#fb9f3a"
             ],
             [
              0.8888888888888888,
              "#fdca26"
             ],
             [
              1,
              "#f0f921"
             ]
            ],
            "type": "contour"
           }
          ],
          "contourcarpet": [
           {
            "colorbar": {
             "outlinewidth": 0,
             "ticks": ""
            },
            "type": "contourcarpet"
           }
          ],
          "heatmap": [
           {
            "colorbar": {
             "outlinewidth": 0,
             "ticks": ""
            },
            "colorscale": [
             [
              0,
              "#0d0887"
             ],
             [
              0.1111111111111111,
              "#46039f"
             ],
             [
              0.2222222222222222,
              "#7201a8"
             ],
             [
              0.3333333333333333,
              "#9c179e"
             ],
             [
              0.4444444444444444,
              "#bd3786"
             ],
             [
              0.5555555555555556,
              "#d8576b"
             ],
             [
              0.6666666666666666,
              "#ed7953"
             ],
             [
              0.7777777777777778,
              "#fb9f3a"
             ],
             [
              0.8888888888888888,
              "#fdca26"
             ],
             [
              1,
              "#f0f921"
             ]
            ],
            "type": "heatmap"
           }
          ],
          "heatmapgl": [
           {
            "colorbar": {
             "outlinewidth": 0,
             "ticks": ""
            },
            "colorscale": [
             [
              0,
              "#0d0887"
             ],
             [
              0.1111111111111111,
              "#46039f"
             ],
             [
              0.2222222222222222,
              "#7201a8"
             ],
             [
              0.3333333333333333,
              "#9c179e"
             ],
             [
              0.4444444444444444,
              "#bd3786"
             ],
             [
              0.5555555555555556,
              "#d8576b"
             ],
             [
              0.6666666666666666,
              "#ed7953"
             ],
             [
              0.7777777777777778,
              "#fb9f3a"
             ],
             [
              0.8888888888888888,
              "#fdca26"
             ],
             [
              1,
              "#f0f921"
             ]
            ],
            "type": "heatmapgl"
           }
          ],
          "histogram": [
           {
            "marker": {
             "colorbar": {
              "outlinewidth": 0,
              "ticks": ""
             }
            },
            "type": "histogram"
           }
          ],
          "histogram2d": [
           {
            "colorbar": {
             "outlinewidth": 0,
             "ticks": ""
            },
            "colorscale": [
             [
              0,
              "#0d0887"
             ],
             [
              0.1111111111111111,
              "#46039f"
             ],
             [
              0.2222222222222222,
              "#7201a8"
             ],
             [
              0.3333333333333333,
              "#9c179e"
             ],
             [
              0.4444444444444444,
              "#bd3786"
             ],
             [
              0.5555555555555556,
              "#d8576b"
             ],
             [
              0.6666666666666666,
              "#ed7953"
             ],
             [
              0.7777777777777778,
              "#fb9f3a"
             ],
             [
              0.8888888888888888,
              "#fdca26"
             ],
             [
              1,
              "#f0f921"
             ]
            ],
            "type": "histogram2d"
           }
          ],
          "histogram2dcontour": [
           {
            "colorbar": {
             "outlinewidth": 0,
             "ticks": ""
            },
            "colorscale": [
             [
              0,
              "#0d0887"
             ],
             [
              0.1111111111111111,
              "#46039f"
             ],
             [
              0.2222222222222222,
              "#7201a8"
             ],
             [
              0.3333333333333333,
              "#9c179e"
             ],
             [
              0.4444444444444444,
              "#bd3786"
             ],
             [
              0.5555555555555556,
              "#d8576b"
             ],
             [
              0.6666666666666666,
              "#ed7953"
             ],
             [
              0.7777777777777778,
              "#fb9f3a"
             ],
             [
              0.8888888888888888,
              "#fdca26"
             ],
             [
              1,
              "#f0f921"
             ]
            ],
            "type": "histogram2dcontour"
           }
          ],
          "mesh3d": [
           {
            "colorbar": {
             "outlinewidth": 0,
             "ticks": ""
            },
            "type": "mesh3d"
           }
          ],
          "parcoords": [
           {
            "line": {
             "colorbar": {
              "outlinewidth": 0,
              "ticks": ""
             }
            },
            "type": "parcoords"
           }
          ],
          "pie": [
           {
            "automargin": true,
            "type": "pie"
           }
          ],
          "scatter": [
           {
            "marker": {
             "colorbar": {
              "outlinewidth": 0,
              "ticks": ""
             }
            },
            "type": "scatter"
           }
          ],
          "scatter3d": [
           {
            "line": {
             "colorbar": {
              "outlinewidth": 0,
              "ticks": ""
             }
            },
            "marker": {
             "colorbar": {
              "outlinewidth": 0,
              "ticks": ""
             }
            },
            "type": "scatter3d"
           }
          ],
          "scattercarpet": [
           {
            "marker": {
             "colorbar": {
              "outlinewidth": 0,
              "ticks": ""
             }
            },
            "type": "scattercarpet"
           }
          ],
          "scattergeo": [
           {
            "marker": {
             "colorbar": {
              "outlinewidth": 0,
              "ticks": ""
             }
            },
            "type": "scattergeo"
           }
          ],
          "scattergl": [
           {
            "marker": {
             "colorbar": {
              "outlinewidth": 0,
              "ticks": ""
             }
            },
            "type": "scattergl"
           }
          ],
          "scattermapbox": [
           {
            "marker": {
             "colorbar": {
              "outlinewidth": 0,
              "ticks": ""
             }
            },
            "type": "scattermapbox"
           }
          ],
          "scatterpolar": [
           {
            "marker": {
             "colorbar": {
              "outlinewidth": 0,
              "ticks": ""
             }
            },
            "type": "scatterpolar"
           }
          ],
          "scatterpolargl": [
           {
            "marker": {
             "colorbar": {
              "outlinewidth": 0,
              "ticks": ""
             }
            },
            "type": "scatterpolargl"
           }
          ],
          "scatterternary": [
           {
            "marker": {
             "colorbar": {
              "outlinewidth": 0,
              "ticks": ""
             }
            },
            "type": "scatterternary"
           }
          ],
          "surface": [
           {
            "colorbar": {
             "outlinewidth": 0,
             "ticks": ""
            },
            "colorscale": [
             [
              0,
              "#0d0887"
             ],
             [
              0.1111111111111111,
              "#46039f"
             ],
             [
              0.2222222222222222,
              "#7201a8"
             ],
             [
              0.3333333333333333,
              "#9c179e"
             ],
             [
              0.4444444444444444,
              "#bd3786"
             ],
             [
              0.5555555555555556,
              "#d8576b"
             ],
             [
              0.6666666666666666,
              "#ed7953"
             ],
             [
              0.7777777777777778,
              "#fb9f3a"
             ],
             [
              0.8888888888888888,
              "#fdca26"
             ],
             [
              1,
              "#f0f921"
             ]
            ],
            "type": "surface"
           }
          ],
          "table": [
           {
            "cells": {
             "fill": {
              "color": "#EBF0F8"
             },
             "line": {
              "color": "white"
             }
            },
            "header": {
             "fill": {
              "color": "#C8D4E3"
             },
             "line": {
              "color": "white"
             }
            },
            "type": "table"
           }
          ]
         },
         "layout": {
          "annotationdefaults": {
           "arrowcolor": "#2a3f5f",
           "arrowhead": 0,
           "arrowwidth": 1
          },
          "coloraxis": {
           "colorbar": {
            "outlinewidth": 0,
            "ticks": ""
           }
          },
          "colorscale": {
           "diverging": [
            [
             0,
             "#8e0152"
            ],
            [
             0.1,
             "#c51b7d"
            ],
            [
             0.2,
             "#de77ae"
            ],
            [
             0.3,
             "#f1b6da"
            ],
            [
             0.4,
             "#fde0ef"
            ],
            [
             0.5,
             "#f7f7f7"
            ],
            [
             0.6,
             "#e6f5d0"
            ],
            [
             0.7,
             "#b8e186"
            ],
            [
             0.8,
             "#7fbc41"
            ],
            [
             0.9,
             "#4d9221"
            ],
            [
             1,
             "#276419"
            ]
           ],
           "sequential": [
            [
             0,
             "#0d0887"
            ],
            [
             0.1111111111111111,
             "#46039f"
            ],
            [
             0.2222222222222222,
             "#7201a8"
            ],
            [
             0.3333333333333333,
             "#9c179e"
            ],
            [
             0.4444444444444444,
             "#bd3786"
            ],
            [
             0.5555555555555556,
             "#d8576b"
            ],
            [
             0.6666666666666666,
             "#ed7953"
            ],
            [
             0.7777777777777778,
             "#fb9f3a"
            ],
            [
             0.8888888888888888,
             "#fdca26"
            ],
            [
             1,
             "#f0f921"
            ]
           ],
           "sequentialminus": [
            [
             0,
             "#0d0887"
            ],
            [
             0.1111111111111111,
             "#46039f"
            ],
            [
             0.2222222222222222,
             "#7201a8"
            ],
            [
             0.3333333333333333,
             "#9c179e"
            ],
            [
             0.4444444444444444,
             "#bd3786"
            ],
            [
             0.5555555555555556,
             "#d8576b"
            ],
            [
             0.6666666666666666,
             "#ed7953"
            ],
            [
             0.7777777777777778,
             "#fb9f3a"
            ],
            [
             0.8888888888888888,
             "#fdca26"
            ],
            [
             1,
             "#f0f921"
            ]
           ]
          },
          "colorway": [
           "#636efa",
           "#EF553B",
           "#00cc96",
           "#ab63fa",
           "#FFA15A",
           "#19d3f3",
           "#FF6692",
           "#B6E880",
           "#FF97FF",
           "#FECB52"
          ],
          "font": {
           "color": "#2a3f5f"
          },
          "geo": {
           "bgcolor": "white",
           "lakecolor": "white",
           "landcolor": "#E5ECF6",
           "showlakes": true,
           "showland": true,
           "subunitcolor": "white"
          },
          "hoverlabel": {
           "align": "left"
          },
          "hovermode": "closest",
          "mapbox": {
           "style": "light"
          },
          "paper_bgcolor": "white",
          "plot_bgcolor": "#E5ECF6",
          "polar": {
           "angularaxis": {
            "gridcolor": "white",
            "linecolor": "white",
            "ticks": ""
           },
           "bgcolor": "#E5ECF6",
           "radialaxis": {
            "gridcolor": "white",
            "linecolor": "white",
            "ticks": ""
           }
          },
          "scene": {
           "xaxis": {
            "backgroundcolor": "#E5ECF6",
            "gridcolor": "white",
            "gridwidth": 2,
            "linecolor": "white",
            "showbackground": true,
            "ticks": "",
            "zerolinecolor": "white"
           },
           "yaxis": {
            "backgroundcolor": "#E5ECF6",
            "gridcolor": "white",
            "gridwidth": 2,
            "linecolor": "white",
            "showbackground": true,
            "ticks": "",
            "zerolinecolor": "white"
           },
           "zaxis": {
            "backgroundcolor": "#E5ECF6",
            "gridcolor": "white",
            "gridwidth": 2,
            "linecolor": "white",
            "showbackground": true,
            "ticks": "",
            "zerolinecolor": "white"
           }
          },
          "shapedefaults": {
           "line": {
            "color": "#2a3f5f"
           }
          },
          "ternary": {
           "aaxis": {
            "gridcolor": "white",
            "linecolor": "white",
            "ticks": ""
           },
           "baxis": {
            "gridcolor": "white",
            "linecolor": "white",
            "ticks": ""
           },
           "bgcolor": "#E5ECF6",
           "caxis": {
            "gridcolor": "white",
            "linecolor": "white",
            "ticks": ""
           }
          },
          "title": {
           "x": 0.05
          },
          "xaxis": {
           "automargin": true,
           "gridcolor": "white",
           "linecolor": "white",
           "ticks": "",
           "title": {
            "standoff": 15
           },
           "zerolinecolor": "white",
           "zerolinewidth": 2
          },
          "yaxis": {
           "automargin": true,
           "gridcolor": "white",
           "linecolor": "white",
           "ticks": "",
           "title": {
            "standoff": 15
           },
           "zerolinecolor": "white",
           "zerolinewidth": 2
          }
         }
        },
        "title": {
         "text": "Evolution of Natural Disasters"
        },
        "updatemenus": [
         {
          "buttons": [
           {
            "args": [
             null,
             {
              "frame": {
               "duration": 500,
               "redraw": true
              },
              "fromcurrent": true,
              "mode": "immediate",
              "transition": {
               "duration": 500,
               "easing": "linear"
              }
             }
            ],
            "label": "&#9654;",
            "method": "animate"
           },
           {
            "args": [
             [
              null
             ],
             {
              "frame": {
               "duration": 0,
               "redraw": true
              },
              "fromcurrent": true,
              "mode": "immediate",
              "transition": {
               "duration": 0,
               "easing": "linear"
              }
             }
            ],
            "label": "&#9724;",
            "method": "animate"
           }
          ],
          "direction": "left",
          "pad": {
           "r": 10,
           "t": 70
          },
          "showactive": false,
          "type": "buttons",
          "x": 0.1,
          "xanchor": "right",
          "y": 0,
          "yanchor": "top"
         }
        ],
        "width": 1000,
        "xaxis": {
         "anchor": "y",
         "domain": [
          0,
          1
         ],
         "range": [
          0,
          329900
         ],
         "showgrid": false,
         "title": {
          "text": "Number of Deaths"
         }
        },
        "yaxis": {
         "anchor": "x",
         "categoryarray": [
          "Wildfire",
          "Volcanic activity",
          "Mass movement (dry)",
          "Landslide",
          "Flood",
          "Extreme weather",
          "Extreme temperature",
          "Epidemic",
          "Earthquake",
          "Drought",
          "All natural disasters"
         ],
         "categoryorder": "array",
         "domain": [
          0,
          1
         ],
         "showgrid": false,
         "title": {
          "text": ""
         }
        }
       }
      },
      "text/html": [
       "<div>\n",
       "        \n",
       "        \n",
       "            <div id=\"04edea07-1e19-4312-ba56-b0056e7b1e73\" class=\"plotly-graph-div\" style=\"height:800px; width:1000px;\"></div>\n",
       "            <script type=\"text/javascript\">\n",
       "                require([\"plotly\"], function(Plotly) {\n",
       "                    window.PLOTLYENV=window.PLOTLYENV || {};\n",
       "                    \n",
       "                if (document.getElementById(\"04edea07-1e19-4312-ba56-b0056e7b1e73\")) {\n",
       "                    Plotly.newPlot(\n",
       "                        '04edea07-1e19-4312-ba56-b0056e7b1e73',\n",
       "                        [{\"alignmentgroup\": \"True\", \"hovertemplate\": \"Entity=%{y}<br>Year=1991<br>Deaths=%{x}<extra></extra>\", \"legendgroup\": \"All natural disasters\", \"marker\": {\"color\": \"#636efa\"}, \"name\": \"All natural disasters\", \"offsetgroup\": \"All natural disasters\", \"orientation\": \"h\", \"showlegend\": true, \"textposition\": \"auto\", \"type\": \"bar\", \"x\": [189707], \"xaxis\": \"x\", \"y\": [\"All natural disasters\"], \"yaxis\": \"y\"}, {\"alignmentgroup\": \"True\", \"hovertemplate\": \"Entity=%{y}<br>Year=1991<br>Deaths=%{x}<extra></extra>\", \"legendgroup\": \"Drought\", \"marker\": {\"color\": \"#EF553B\"}, \"name\": \"Drought\", \"offsetgroup\": \"Drought\", \"orientation\": \"h\", \"showlegend\": true, \"textposition\": \"auto\", \"type\": \"bar\", \"x\": [2000], \"xaxis\": \"x\", \"y\": [\"Drought\"], \"yaxis\": \"y\"}, {\"alignmentgroup\": \"True\", \"hovertemplate\": \"Entity=%{y}<br>Year=1991<br>Deaths=%{x}<extra></extra>\", \"legendgroup\": \"Earthquake\", \"marker\": {\"color\": \"#00cc96\"}, \"name\": \"Earthquake\", \"offsetgroup\": \"Earthquake\", \"orientation\": \"h\", \"showlegend\": true, \"textposition\": \"auto\", \"type\": \"bar\", \"x\": [2454], \"xaxis\": \"x\", \"y\": [\"Earthquake\"], \"yaxis\": \"y\"}, {\"alignmentgroup\": \"True\", \"hovertemplate\": \"Entity=%{y}<br>Year=1991<br>Deaths=%{x}<extra></extra>\", \"legendgroup\": \"Epidemic\", \"marker\": {\"color\": \"#ab63fa\"}, \"name\": \"Epidemic\", \"offsetgroup\": \"Epidemic\", \"orientation\": \"h\", \"showlegend\": true, \"textposition\": \"auto\", \"type\": \"bar\", \"x\": [30682], \"xaxis\": \"x\", \"y\": [\"Epidemic\"], \"yaxis\": \"y\"}, {\"alignmentgroup\": \"True\", \"hovertemplate\": \"Entity=%{y}<br>Year=1991<br>Deaths=%{x}<extra></extra>\", \"legendgroup\": \"Extreme temperature\", \"marker\": {\"color\": \"#FFA15A\"}, \"name\": \"Extreme temperature\", \"offsetgroup\": \"Extreme temperature\", \"orientation\": \"h\", \"showlegend\": true, \"textposition\": \"auto\", \"type\": \"bar\", \"x\": [835], \"xaxis\": \"x\", \"y\": [\"Extreme temperature\"], \"yaxis\": \"y\"}, {\"alignmentgroup\": \"True\", \"hovertemplate\": \"Entity=%{y}<br>Year=1991<br>Deaths=%{x}<extra></extra>\", \"legendgroup\": \"Extreme weather\", \"marker\": {\"color\": \"#19d3f3\"}, \"name\": \"Extreme weather\", \"offsetgroup\": \"Extreme weather\", \"orientation\": \"h\", \"showlegend\": true, \"textposition\": \"auto\", \"type\": \"bar\", \"x\": [146297], \"xaxis\": \"x\", \"y\": [\"Extreme weather\"], \"yaxis\": \"y\"}, {\"alignmentgroup\": \"True\", \"hovertemplate\": \"Entity=%{y}<br>Year=1991<br>Deaths=%{x}<extra></extra>\", \"legendgroup\": \"Flood\", \"marker\": {\"color\": \"#FF6692\"}, \"name\": \"Flood\", \"offsetgroup\": \"Flood\", \"orientation\": \"h\", \"showlegend\": true, \"textposition\": \"auto\", \"type\": \"bar\", \"x\": [5852], \"xaxis\": \"x\", \"y\": [\"Flood\"], \"yaxis\": \"y\"}, {\"alignmentgroup\": \"True\", \"hovertemplate\": \"Entity=%{y}<br>Year=1991<br>Deaths=%{x}<extra></extra>\", \"legendgroup\": \"Landslide\", \"marker\": {\"color\": \"#B6E880\"}, \"name\": \"Landslide\", \"offsetgroup\": \"Landslide\", \"orientation\": \"h\", \"showlegend\": true, \"textposition\": \"auto\", \"type\": \"bar\", \"x\": [728], \"xaxis\": \"x\", \"y\": [\"Landslide\"], \"yaxis\": \"y\"}, {\"alignmentgroup\": \"True\", \"hovertemplate\": \"Entity=%{y}<br>Year=1991<br>Deaths=%{x}<extra></extra>\", \"legendgroup\": \"Mass movement (dry)\", \"marker\": {\"color\": \"#FF97FF\"}, \"name\": \"Mass movement (dry)\", \"offsetgroup\": \"Mass movement (dry)\", \"orientation\": \"h\", \"showlegend\": true, \"textposition\": \"auto\", \"type\": \"bar\", \"x\": [86], \"xaxis\": \"x\", \"y\": [\"Mass movement (dry)\"], \"yaxis\": \"y\"}, {\"alignmentgroup\": \"True\", \"hovertemplate\": \"Entity=%{y}<br>Year=1991<br>Deaths=%{x}<extra></extra>\", \"legendgroup\": \"Volcanic activity\", \"marker\": {\"color\": \"#FECB52\"}, \"name\": \"Volcanic activity\", \"offsetgroup\": \"Volcanic activity\", \"orientation\": \"h\", \"showlegend\": true, \"textposition\": \"auto\", \"type\": \"bar\", \"x\": [683], \"xaxis\": \"x\", \"y\": [\"Volcanic activity\"], \"yaxis\": \"y\"}, {\"alignmentgroup\": \"True\", \"hovertemplate\": \"Entity=%{y}<br>Year=1991<br>Deaths=%{x}<extra></extra>\", \"legendgroup\": \"Wildfire\", \"marker\": {\"color\": \"#636efa\"}, \"name\": \"Wildfire\", \"offsetgroup\": \"Wildfire\", \"orientation\": \"h\", \"showlegend\": true, \"textposition\": \"auto\", \"type\": \"bar\", \"x\": [90], \"xaxis\": \"x\", \"y\": [\"Wildfire\"], \"yaxis\": \"y\"}],\n",
       "                        {\"barmode\": \"relative\", \"height\": 800, \"legend\": {\"title\": {\"text\": \"Entity\"}, \"tracegroupgap\": 0}, \"margin\": {\"t\": 60}, \"paper_bgcolor\": \"rgba(0,0,0,0)\", \"plot_bgcolor\": \"rgba(0,0,0,0)\", \"showlegend\": false, \"sliders\": [{\"active\": 0, \"currentvalue\": {\"prefix\": \"Year=\"}, \"len\": 0.9, \"pad\": {\"b\": 10, \"t\": 60}, \"steps\": [{\"args\": [[\"1991\"], {\"frame\": {\"duration\": 0, \"redraw\": true}, \"fromcurrent\": true, \"mode\": \"immediate\", \"transition\": {\"duration\": 0, \"easing\": \"linear\"}}], \"label\": \"1991\", \"method\": \"animate\"}, {\"args\": [[\"1992\"], {\"frame\": {\"duration\": 0, \"redraw\": true}, \"fromcurrent\": true, \"mode\": \"immediate\", \"transition\": {\"duration\": 0, \"easing\": \"linear\"}}], \"label\": \"1992\", \"method\": \"animate\"}, {\"args\": [[\"1993\"], {\"frame\": {\"duration\": 0, \"redraw\": true}, \"fromcurrent\": true, \"mode\": \"immediate\", \"transition\": {\"duration\": 0, \"easing\": \"linear\"}}], \"label\": \"1993\", \"method\": \"animate\"}, {\"args\": [[\"1994\"], {\"frame\": {\"duration\": 0, \"redraw\": true}, \"fromcurrent\": true, \"mode\": \"immediate\", \"transition\": {\"duration\": 0, \"easing\": \"linear\"}}], \"label\": \"1994\", \"method\": \"animate\"}, {\"args\": [[\"1995\"], {\"frame\": {\"duration\": 0, \"redraw\": true}, \"fromcurrent\": true, \"mode\": \"immediate\", \"transition\": {\"duration\": 0, \"easing\": \"linear\"}}], \"label\": \"1995\", \"method\": \"animate\"}, {\"args\": [[\"1996\"], {\"frame\": {\"duration\": 0, \"redraw\": true}, \"fromcurrent\": true, \"mode\": \"immediate\", \"transition\": {\"duration\": 0, \"easing\": \"linear\"}}], \"label\": \"1996\", \"method\": \"animate\"}, {\"args\": [[\"1997\"], {\"frame\": {\"duration\": 0, \"redraw\": true}, \"fromcurrent\": true, \"mode\": \"immediate\", \"transition\": {\"duration\": 0, \"easing\": \"linear\"}}], \"label\": \"1997\", \"method\": \"animate\"}, {\"args\": [[\"1998\"], {\"frame\": {\"duration\": 0, \"redraw\": true}, \"fromcurrent\": true, \"mode\": \"immediate\", \"transition\": {\"duration\": 0, \"easing\": \"linear\"}}], \"label\": \"1998\", \"method\": \"animate\"}, {\"args\": [[\"1999\"], {\"frame\": {\"duration\": 0, \"redraw\": true}, \"fromcurrent\": true, \"mode\": \"immediate\", \"transition\": {\"duration\": 0, \"easing\": \"linear\"}}], \"label\": \"1999\", \"method\": \"animate\"}, {\"args\": [[\"2000\"], {\"frame\": {\"duration\": 0, \"redraw\": true}, \"fromcurrent\": true, \"mode\": \"immediate\", \"transition\": {\"duration\": 0, \"easing\": \"linear\"}}], \"label\": \"2000\", \"method\": \"animate\"}, {\"args\": [[\"2001\"], {\"frame\": {\"duration\": 0, \"redraw\": true}, \"fromcurrent\": true, \"mode\": \"immediate\", \"transition\": {\"duration\": 0, \"easing\": \"linear\"}}], \"label\": \"2001\", \"method\": \"animate\"}, {\"args\": [[\"2002\"], {\"frame\": {\"duration\": 0, \"redraw\": true}, \"fromcurrent\": true, \"mode\": \"immediate\", \"transition\": {\"duration\": 0, \"easing\": \"linear\"}}], \"label\": \"2002\", \"method\": \"animate\"}, {\"args\": [[\"2003\"], {\"frame\": {\"duration\": 0, \"redraw\": true}, \"fromcurrent\": true, \"mode\": \"immediate\", \"transition\": {\"duration\": 0, \"easing\": \"linear\"}}], \"label\": \"2003\", \"method\": \"animate\"}, {\"args\": [[\"2004\"], {\"frame\": {\"duration\": 0, \"redraw\": true}, \"fromcurrent\": true, \"mode\": \"immediate\", \"transition\": {\"duration\": 0, \"easing\": \"linear\"}}], \"label\": \"2004\", \"method\": \"animate\"}, {\"args\": [[\"2005\"], {\"frame\": {\"duration\": 0, \"redraw\": true}, \"fromcurrent\": true, \"mode\": \"immediate\", \"transition\": {\"duration\": 0, \"easing\": \"linear\"}}], \"label\": \"2005\", \"method\": \"animate\"}, {\"args\": [[\"2006\"], {\"frame\": {\"duration\": 0, \"redraw\": true}, \"fromcurrent\": true, \"mode\": \"immediate\", \"transition\": {\"duration\": 0, \"easing\": \"linear\"}}], \"label\": \"2006\", \"method\": \"animate\"}, {\"args\": [[\"2007\"], {\"frame\": {\"duration\": 0, \"redraw\": true}, \"fromcurrent\": true, \"mode\": \"immediate\", \"transition\": {\"duration\": 0, \"easing\": \"linear\"}}], \"label\": \"2007\", \"method\": \"animate\"}, {\"args\": [[\"2008\"], {\"frame\": {\"duration\": 0, \"redraw\": true}, \"fromcurrent\": true, \"mode\": \"immediate\", \"transition\": {\"duration\": 0, \"easing\": \"linear\"}}], \"label\": \"2008\", \"method\": \"animate\"}, {\"args\": [[\"2009\"], {\"frame\": {\"duration\": 0, \"redraw\": true}, \"fromcurrent\": true, \"mode\": \"immediate\", \"transition\": {\"duration\": 0, \"easing\": \"linear\"}}], \"label\": \"2009\", \"method\": \"animate\"}, {\"args\": [[\"2010\"], {\"frame\": {\"duration\": 0, \"redraw\": true}, \"fromcurrent\": true, \"mode\": \"immediate\", \"transition\": {\"duration\": 0, \"easing\": \"linear\"}}], \"label\": \"2010\", \"method\": \"animate\"}, {\"args\": [[\"2011\"], {\"frame\": {\"duration\": 0, \"redraw\": true}, \"fromcurrent\": true, \"mode\": \"immediate\", \"transition\": {\"duration\": 0, \"easing\": \"linear\"}}], \"label\": \"2011\", \"method\": \"animate\"}, {\"args\": [[\"2012\"], {\"frame\": {\"duration\": 0, \"redraw\": true}, \"fromcurrent\": true, \"mode\": \"immediate\", \"transition\": {\"duration\": 0, \"easing\": \"linear\"}}], \"label\": \"2012\", \"method\": \"animate\"}, {\"args\": [[\"2013\"], {\"frame\": {\"duration\": 0, \"redraw\": true}, \"fromcurrent\": true, \"mode\": \"immediate\", \"transition\": {\"duration\": 0, \"easing\": \"linear\"}}], \"label\": \"2013\", \"method\": \"animate\"}, {\"args\": [[\"2014\"], {\"frame\": {\"duration\": 0, \"redraw\": true}, \"fromcurrent\": true, \"mode\": \"immediate\", \"transition\": {\"duration\": 0, \"easing\": \"linear\"}}], \"label\": \"2014\", \"method\": \"animate\"}, {\"args\": [[\"2015\"], {\"frame\": {\"duration\": 0, \"redraw\": true}, \"fromcurrent\": true, \"mode\": \"immediate\", \"transition\": {\"duration\": 0, \"easing\": \"linear\"}}], \"label\": \"2015\", \"method\": \"animate\"}, {\"args\": [[\"2016\"], {\"frame\": {\"duration\": 0, \"redraw\": true}, \"fromcurrent\": true, \"mode\": \"immediate\", \"transition\": {\"duration\": 0, \"easing\": \"linear\"}}], \"label\": \"2016\", \"method\": \"animate\"}, {\"args\": [[\"2017\"], {\"frame\": {\"duration\": 0, \"redraw\": true}, \"fromcurrent\": true, \"mode\": \"immediate\", \"transition\": {\"duration\": 0, \"easing\": \"linear\"}}], \"label\": \"2017\", \"method\": \"animate\"}], \"x\": 0.1, \"xanchor\": \"left\", \"y\": 0, \"yanchor\": \"top\"}], \"template\": {\"data\": {\"bar\": [{\"error_x\": {\"color\": \"#2a3f5f\"}, \"error_y\": {\"color\": \"#2a3f5f\"}, \"marker\": {\"line\": {\"color\": \"#E5ECF6\", \"width\": 0.5}}, \"type\": \"bar\"}], \"barpolar\": [{\"marker\": {\"line\": {\"color\": \"#E5ECF6\", \"width\": 0.5}}, \"type\": \"barpolar\"}], \"carpet\": [{\"aaxis\": {\"endlinecolor\": \"#2a3f5f\", \"gridcolor\": \"white\", \"linecolor\": \"white\", \"minorgridcolor\": \"white\", \"startlinecolor\": \"#2a3f5f\"}, \"baxis\": {\"endlinecolor\": \"#2a3f5f\", \"gridcolor\": \"white\", \"linecolor\": \"white\", \"minorgridcolor\": \"white\", \"startlinecolor\": \"#2a3f5f\"}, \"type\": \"carpet\"}], \"choropleth\": [{\"colorbar\": {\"outlinewidth\": 0, \"ticks\": \"\"}, \"type\": \"choropleth\"}], \"contour\": [{\"colorbar\": {\"outlinewidth\": 0, \"ticks\": \"\"}, \"colorscale\": [[0.0, \"#0d0887\"], [0.1111111111111111, \"#46039f\"], [0.2222222222222222, \"#7201a8\"], [0.3333333333333333, \"#9c179e\"], [0.4444444444444444, \"#bd3786\"], [0.5555555555555556, \"#d8576b\"], [0.6666666666666666, \"#ed7953\"], [0.7777777777777778, \"#fb9f3a\"], [0.8888888888888888, \"#fdca26\"], [1.0, \"#f0f921\"]], \"type\": \"contour\"}], \"contourcarpet\": [{\"colorbar\": {\"outlinewidth\": 0, \"ticks\": \"\"}, \"type\": \"contourcarpet\"}], \"heatmap\": [{\"colorbar\": {\"outlinewidth\": 0, \"ticks\": \"\"}, \"colorscale\": [[0.0, \"#0d0887\"], [0.1111111111111111, \"#46039f\"], [0.2222222222222222, \"#7201a8\"], [0.3333333333333333, \"#9c179e\"], [0.4444444444444444, \"#bd3786\"], [0.5555555555555556, \"#d8576b\"], [0.6666666666666666, \"#ed7953\"], [0.7777777777777778, \"#fb9f3a\"], [0.8888888888888888, \"#fdca26\"], [1.0, \"#f0f921\"]], \"type\": \"heatmap\"}], \"heatmapgl\": [{\"colorbar\": {\"outlinewidth\": 0, \"ticks\": \"\"}, \"colorscale\": [[0.0, \"#0d0887\"], [0.1111111111111111, \"#46039f\"], [0.2222222222222222, \"#7201a8\"], [0.3333333333333333, \"#9c179e\"], [0.4444444444444444, \"#bd3786\"], [0.5555555555555556, \"#d8576b\"], [0.6666666666666666, \"#ed7953\"], [0.7777777777777778, \"#fb9f3a\"], [0.8888888888888888, \"#fdca26\"], [1.0, \"#f0f921\"]], \"type\": \"heatmapgl\"}], \"histogram\": [{\"marker\": {\"colorbar\": {\"outlinewidth\": 0, \"ticks\": \"\"}}, \"type\": \"histogram\"}], \"histogram2d\": [{\"colorbar\": {\"outlinewidth\": 0, \"ticks\": \"\"}, \"colorscale\": [[0.0, \"#0d0887\"], [0.1111111111111111, \"#46039f\"], [0.2222222222222222, \"#7201a8\"], [0.3333333333333333, \"#9c179e\"], [0.4444444444444444, \"#bd3786\"], [0.5555555555555556, \"#d8576b\"], [0.6666666666666666, \"#ed7953\"], [0.7777777777777778, \"#fb9f3a\"], [0.8888888888888888, \"#fdca26\"], [1.0, \"#f0f921\"]], \"type\": \"histogram2d\"}], \"histogram2dcontour\": [{\"colorbar\": {\"outlinewidth\": 0, \"ticks\": \"\"}, \"colorscale\": [[0.0, \"#0d0887\"], [0.1111111111111111, \"#46039f\"], [0.2222222222222222, \"#7201a8\"], [0.3333333333333333, \"#9c179e\"], [0.4444444444444444, \"#bd3786\"], [0.5555555555555556, \"#d8576b\"], [0.6666666666666666, \"#ed7953\"], [0.7777777777777778, \"#fb9f3a\"], [0.8888888888888888, \"#fdca26\"], [1.0, \"#f0f921\"]], \"type\": \"histogram2dcontour\"}], \"mesh3d\": [{\"colorbar\": {\"outlinewidth\": 0, \"ticks\": \"\"}, \"type\": \"mesh3d\"}], \"parcoords\": [{\"line\": {\"colorbar\": {\"outlinewidth\": 0, \"ticks\": \"\"}}, \"type\": \"parcoords\"}], \"pie\": [{\"automargin\": true, \"type\": \"pie\"}], \"scatter\": [{\"marker\": {\"colorbar\": {\"outlinewidth\": 0, \"ticks\": \"\"}}, \"type\": \"scatter\"}], \"scatter3d\": [{\"line\": {\"colorbar\": {\"outlinewidth\": 0, \"ticks\": \"\"}}, \"marker\": {\"colorbar\": {\"outlinewidth\": 0, \"ticks\": \"\"}}, \"type\": \"scatter3d\"}], \"scattercarpet\": [{\"marker\": {\"colorbar\": {\"outlinewidth\": 0, \"ticks\": \"\"}}, \"type\": \"scattercarpet\"}], \"scattergeo\": [{\"marker\": {\"colorbar\": {\"outlinewidth\": 0, \"ticks\": \"\"}}, \"type\": \"scattergeo\"}], \"scattergl\": [{\"marker\": {\"colorbar\": {\"outlinewidth\": 0, \"ticks\": \"\"}}, \"type\": \"scattergl\"}], \"scattermapbox\": [{\"marker\": {\"colorbar\": {\"outlinewidth\": 0, \"ticks\": \"\"}}, \"type\": \"scattermapbox\"}], \"scatterpolar\": [{\"marker\": {\"colorbar\": {\"outlinewidth\": 0, \"ticks\": \"\"}}, \"type\": \"scatterpolar\"}], \"scatterpolargl\": [{\"marker\": {\"colorbar\": {\"outlinewidth\": 0, \"ticks\": \"\"}}, \"type\": \"scatterpolargl\"}], \"scatterternary\": [{\"marker\": {\"colorbar\": {\"outlinewidth\": 0, \"ticks\": \"\"}}, \"type\": \"scatterternary\"}], \"surface\": [{\"colorbar\": {\"outlinewidth\": 0, \"ticks\": \"\"}, \"colorscale\": [[0.0, \"#0d0887\"], [0.1111111111111111, \"#46039f\"], [0.2222222222222222, \"#7201a8\"], [0.3333333333333333, \"#9c179e\"], [0.4444444444444444, \"#bd3786\"], [0.5555555555555556, \"#d8576b\"], [0.6666666666666666, \"#ed7953\"], [0.7777777777777778, \"#fb9f3a\"], [0.8888888888888888, \"#fdca26\"], [1.0, \"#f0f921\"]], \"type\": \"surface\"}], \"table\": [{\"cells\": {\"fill\": {\"color\": \"#EBF0F8\"}, \"line\": {\"color\": \"white\"}}, \"header\": {\"fill\": {\"color\": \"#C8D4E3\"}, \"line\": {\"color\": \"white\"}}, \"type\": \"table\"}]}, \"layout\": {\"annotationdefaults\": {\"arrowcolor\": \"#2a3f5f\", \"arrowhead\": 0, \"arrowwidth\": 1}, \"coloraxis\": {\"colorbar\": {\"outlinewidth\": 0, \"ticks\": \"\"}}, \"colorscale\": {\"diverging\": [[0, \"#8e0152\"], [0.1, \"#c51b7d\"], [0.2, \"#de77ae\"], [0.3, \"#f1b6da\"], [0.4, \"#fde0ef\"], [0.5, \"#f7f7f7\"], [0.6, \"#e6f5d0\"], [0.7, \"#b8e186\"], [0.8, \"#7fbc41\"], [0.9, \"#4d9221\"], [1, \"#276419\"]], \"sequential\": [[0.0, \"#0d0887\"], [0.1111111111111111, \"#46039f\"], [0.2222222222222222, \"#7201a8\"], [0.3333333333333333, \"#9c179e\"], [0.4444444444444444, \"#bd3786\"], [0.5555555555555556, \"#d8576b\"], [0.6666666666666666, \"#ed7953\"], [0.7777777777777778, \"#fb9f3a\"], [0.8888888888888888, \"#fdca26\"], [1.0, \"#f0f921\"]], \"sequentialminus\": [[0.0, \"#0d0887\"], [0.1111111111111111, \"#46039f\"], [0.2222222222222222, \"#7201a8\"], [0.3333333333333333, \"#9c179e\"], [0.4444444444444444, \"#bd3786\"], [0.5555555555555556, \"#d8576b\"], [0.6666666666666666, \"#ed7953\"], [0.7777777777777778, \"#fb9f3a\"], [0.8888888888888888, \"#fdca26\"], [1.0, \"#f0f921\"]]}, \"colorway\": [\"#636efa\", \"#EF553B\", \"#00cc96\", \"#ab63fa\", \"#FFA15A\", \"#19d3f3\", \"#FF6692\", \"#B6E880\", \"#FF97FF\", \"#FECB52\"], \"font\": {\"color\": \"#2a3f5f\"}, \"geo\": {\"bgcolor\": \"white\", \"lakecolor\": \"white\", \"landcolor\": \"#E5ECF6\", \"showlakes\": true, \"showland\": true, \"subunitcolor\": \"white\"}, \"hoverlabel\": {\"align\": \"left\"}, \"hovermode\": \"closest\", \"mapbox\": {\"style\": \"light\"}, \"paper_bgcolor\": \"white\", \"plot_bgcolor\": \"#E5ECF6\", \"polar\": {\"angularaxis\": {\"gridcolor\": \"white\", \"linecolor\": \"white\", \"ticks\": \"\"}, \"bgcolor\": \"#E5ECF6\", \"radialaxis\": {\"gridcolor\": \"white\", \"linecolor\": \"white\", \"ticks\": \"\"}}, \"scene\": {\"xaxis\": {\"backgroundcolor\": \"#E5ECF6\", \"gridcolor\": \"white\", \"gridwidth\": 2, \"linecolor\": \"white\", \"showbackground\": true, \"ticks\": \"\", \"zerolinecolor\": \"white\"}, \"yaxis\": {\"backgroundcolor\": \"#E5ECF6\", \"gridcolor\": \"white\", \"gridwidth\": 2, \"linecolor\": \"white\", \"showbackground\": true, \"ticks\": \"\", \"zerolinecolor\": \"white\"}, \"zaxis\": {\"backgroundcolor\": \"#E5ECF6\", \"gridcolor\": \"white\", \"gridwidth\": 2, \"linecolor\": \"white\", \"showbackground\": true, \"ticks\": \"\", \"zerolinecolor\": \"white\"}}, \"shapedefaults\": {\"line\": {\"color\": \"#2a3f5f\"}}, \"ternary\": {\"aaxis\": {\"gridcolor\": \"white\", \"linecolor\": \"white\", \"ticks\": \"\"}, \"baxis\": {\"gridcolor\": \"white\", \"linecolor\": \"white\", \"ticks\": \"\"}, \"bgcolor\": \"#E5ECF6\", \"caxis\": {\"gridcolor\": \"white\", \"linecolor\": \"white\", \"ticks\": \"\"}}, \"title\": {\"x\": 0.05}, \"xaxis\": {\"automargin\": true, \"gridcolor\": \"white\", \"linecolor\": \"white\", \"ticks\": \"\", \"title\": {\"standoff\": 15}, \"zerolinecolor\": \"white\", \"zerolinewidth\": 2}, \"yaxis\": {\"automargin\": true, \"gridcolor\": \"white\", \"linecolor\": \"white\", \"ticks\": \"\", \"title\": {\"standoff\": 15}, \"zerolinecolor\": \"white\", \"zerolinewidth\": 2}}}, \"title\": {\"text\": \"Evolution of Natural Disasters\"}, \"updatemenus\": [{\"buttons\": [{\"args\": [null, {\"frame\": {\"duration\": 500, \"redraw\": true}, \"fromcurrent\": true, \"mode\": \"immediate\", \"transition\": {\"duration\": 500, \"easing\": \"linear\"}}], \"label\": \"&#9654;\", \"method\": \"animate\"}, {\"args\": [[null], {\"frame\": {\"duration\": 0, \"redraw\": true}, \"fromcurrent\": true, \"mode\": \"immediate\", \"transition\": {\"duration\": 0, \"easing\": \"linear\"}}], \"label\": \"&#9724;\", \"method\": \"animate\"}], \"direction\": \"left\", \"pad\": {\"r\": 10, \"t\": 70}, \"showactive\": false, \"type\": \"buttons\", \"x\": 0.1, \"xanchor\": \"right\", \"y\": 0, \"yanchor\": \"top\"}], \"width\": 1000, \"xaxis\": {\"anchor\": \"y\", \"domain\": [0.0, 1.0], \"range\": [0, 329900], \"showgrid\": false, \"title\": {\"text\": \"Number of Deaths\"}}, \"yaxis\": {\"anchor\": \"x\", \"categoryarray\": [\"Wildfire\", \"Volcanic activity\", \"Mass movement (dry)\", \"Landslide\", \"Flood\", \"Extreme weather\", \"Extreme temperature\", \"Epidemic\", \"Earthquake\", \"Drought\", \"All natural disasters\"], \"categoryorder\": \"array\", \"domain\": [0.0, 1.0], \"showgrid\": false, \"title\": {\"text\": \"\"}}},\n",
       "                        {\"responsive\": true}\n",
       "                    ).then(function(){\n",
       "                            Plotly.addFrames('04edea07-1e19-4312-ba56-b0056e7b1e73', [{\"data\": [{\"alignmentgroup\": \"True\", \"hovertemplate\": \"Entity=%{y}<br>Year=1991<br>Deaths=%{x}<extra></extra>\", \"legendgroup\": \"All natural disasters\", \"marker\": {\"color\": \"#636efa\"}, \"name\": \"All natural disasters\", \"offsetgroup\": \"All natural disasters\", \"orientation\": \"h\", \"showlegend\": true, \"textposition\": \"auto\", \"x\": [189707], \"xaxis\": \"x\", \"y\": [\"All natural disasters\"], \"yaxis\": \"y\", \"type\": \"bar\"}, {\"alignmentgroup\": \"True\", \"hovertemplate\": \"Entity=%{y}<br>Year=1991<br>Deaths=%{x}<extra></extra>\", \"legendgroup\": \"Drought\", \"marker\": {\"color\": \"#EF553B\"}, \"name\": \"Drought\", \"offsetgroup\": \"Drought\", \"orientation\": \"h\", \"showlegend\": true, \"textposition\": \"auto\", \"x\": [2000], \"xaxis\": \"x\", \"y\": [\"Drought\"], \"yaxis\": \"y\", \"type\": \"bar\"}, {\"alignmentgroup\": \"True\", \"hovertemplate\": \"Entity=%{y}<br>Year=1991<br>Deaths=%{x}<extra></extra>\", \"legendgroup\": \"Earthquake\", \"marker\": {\"color\": \"#00cc96\"}, \"name\": \"Earthquake\", \"offsetgroup\": \"Earthquake\", \"orientation\": \"h\", \"showlegend\": true, \"textposition\": \"auto\", \"x\": [2454], \"xaxis\": \"x\", \"y\": [\"Earthquake\"], \"yaxis\": \"y\", \"type\": \"bar\"}, {\"alignmentgroup\": \"True\", \"hovertemplate\": \"Entity=%{y}<br>Year=1991<br>Deaths=%{x}<extra></extra>\", \"legendgroup\": \"Epidemic\", \"marker\": {\"color\": \"#ab63fa\"}, \"name\": \"Epidemic\", \"offsetgroup\": \"Epidemic\", \"orientation\": \"h\", \"showlegend\": true, \"textposition\": \"auto\", \"x\": [30682], \"xaxis\": \"x\", \"y\": [\"Epidemic\"], \"yaxis\": \"y\", \"type\": \"bar\"}, {\"alignmentgroup\": \"True\", \"hovertemplate\": \"Entity=%{y}<br>Year=1991<br>Deaths=%{x}<extra></extra>\", \"legendgroup\": \"Extreme temperature\", \"marker\": {\"color\": \"#FFA15A\"}, \"name\": \"Extreme temperature\", \"offsetgroup\": \"Extreme temperature\", \"orientation\": \"h\", \"showlegend\": true, \"textposition\": \"auto\", \"x\": [835], \"xaxis\": \"x\", \"y\": [\"Extreme temperature\"], \"yaxis\": \"y\", \"type\": \"bar\"}, {\"alignmentgroup\": \"True\", \"hovertemplate\": \"Entity=%{y}<br>Year=1991<br>Deaths=%{x}<extra></extra>\", \"legendgroup\": \"Extreme weather\", \"marker\": {\"color\": \"#19d3f3\"}, \"name\": \"Extreme weather\", \"offsetgroup\": \"Extreme weather\", \"orientation\": \"h\", \"showlegend\": true, \"textposition\": \"auto\", \"x\": [146297], \"xaxis\": \"x\", \"y\": [\"Extreme weather\"], \"yaxis\": \"y\", \"type\": \"bar\"}, {\"alignmentgroup\": \"True\", \"hovertemplate\": \"Entity=%{y}<br>Year=1991<br>Deaths=%{x}<extra></extra>\", \"legendgroup\": \"Flood\", \"marker\": {\"color\": \"#FF6692\"}, \"name\": \"Flood\", \"offsetgroup\": \"Flood\", \"orientation\": \"h\", \"showlegend\": true, \"textposition\": \"auto\", \"x\": [5852], \"xaxis\": \"x\", \"y\": [\"Flood\"], \"yaxis\": \"y\", \"type\": \"bar\"}, {\"alignmentgroup\": \"True\", \"hovertemplate\": \"Entity=%{y}<br>Year=1991<br>Deaths=%{x}<extra></extra>\", \"legendgroup\": \"Landslide\", \"marker\": {\"color\": \"#B6E880\"}, \"name\": \"Landslide\", \"offsetgroup\": \"Landslide\", \"orientation\": \"h\", \"showlegend\": true, \"textposition\": \"auto\", \"x\": [728], \"xaxis\": \"x\", \"y\": [\"Landslide\"], \"yaxis\": \"y\", \"type\": \"bar\"}, {\"alignmentgroup\": \"True\", \"hovertemplate\": \"Entity=%{y}<br>Year=1991<br>Deaths=%{x}<extra></extra>\", \"legendgroup\": \"Mass movement (dry)\", \"marker\": {\"color\": \"#FF97FF\"}, \"name\": \"Mass movement (dry)\", \"offsetgroup\": \"Mass movement (dry)\", \"orientation\": \"h\", \"showlegend\": true, \"textposition\": \"auto\", \"x\": [86], \"xaxis\": \"x\", \"y\": [\"Mass movement (dry)\"], \"yaxis\": \"y\", \"type\": \"bar\"}, {\"alignmentgroup\": \"True\", \"hovertemplate\": \"Entity=%{y}<br>Year=1991<br>Deaths=%{x}<extra></extra>\", \"legendgroup\": \"Volcanic activity\", \"marker\": {\"color\": \"#FECB52\"}, \"name\": \"Volcanic activity\", \"offsetgroup\": \"Volcanic activity\", \"orientation\": \"h\", \"showlegend\": true, \"textposition\": \"auto\", \"x\": [683], \"xaxis\": \"x\", \"y\": [\"Volcanic activity\"], \"yaxis\": \"y\", \"type\": \"bar\"}, {\"alignmentgroup\": \"True\", \"hovertemplate\": \"Entity=%{y}<br>Year=1991<br>Deaths=%{x}<extra></extra>\", \"legendgroup\": \"Wildfire\", \"marker\": {\"color\": \"#636efa\"}, \"name\": \"Wildfire\", \"offsetgroup\": \"Wildfire\", \"orientation\": \"h\", \"showlegend\": true, \"textposition\": \"auto\", \"x\": [90], \"xaxis\": \"x\", \"y\": [\"Wildfire\"], \"yaxis\": \"y\", \"type\": \"bar\"}], \"name\": \"1991\"}, {\"data\": [{\"alignmentgroup\": \"True\", \"hovertemplate\": \"Entity=%{y}<br>Year=1992<br>Deaths=%{x}<extra></extra>\", \"legendgroup\": \"All natural disasters\", \"marker\": {\"color\": \"#636efa\"}, \"name\": \"All natural disasters\", \"offsetgroup\": \"All natural disasters\", \"orientation\": \"h\", \"showlegend\": true, \"textposition\": \"auto\", \"x\": [18911], \"xaxis\": \"x\", \"y\": [\"All natural disasters\"], \"yaxis\": \"y\", \"type\": \"bar\"}, {\"alignmentgroup\": \"True\", \"hovertemplate\": \"Entity=%{y}<br>Year=1992<br>Deaths=%{x}<extra></extra>\", \"legendgroup\": \"Earthquake\", \"marker\": {\"color\": \"#00cc96\"}, \"name\": \"Earthquake\", \"offsetgroup\": \"Earthquake\", \"orientation\": \"h\", \"showlegend\": true, \"textposition\": \"auto\", \"x\": [4033], \"xaxis\": \"x\", \"y\": [\"Earthquake\"], \"yaxis\": \"y\", \"type\": \"bar\"}, {\"alignmentgroup\": \"True\", \"hovertemplate\": \"Entity=%{y}<br>Year=1992<br>Deaths=%{x}<extra></extra>\", \"legendgroup\": \"Epidemic\", \"marker\": {\"color\": \"#ab63fa\"}, \"name\": \"Epidemic\", \"offsetgroup\": \"Epidemic\", \"orientation\": \"h\", \"showlegend\": true, \"textposition\": \"auto\", \"x\": [6675], \"xaxis\": \"x\", \"y\": [\"Epidemic\"], \"yaxis\": \"y\", \"type\": \"bar\"}, {\"alignmentgroup\": \"True\", \"hovertemplate\": \"Entity=%{y}<br>Year=1992<br>Deaths=%{x}<extra></extra>\", \"legendgroup\": \"Extreme temperature\", \"marker\": {\"color\": \"#FFA15A\"}, \"name\": \"Extreme temperature\", \"offsetgroup\": \"Extreme temperature\", \"orientation\": \"h\", \"showlegend\": true, \"textposition\": \"auto\", \"x\": [388], \"xaxis\": \"x\", \"y\": [\"Extreme temperature\"], \"yaxis\": \"y\", \"type\": \"bar\"}, {\"alignmentgroup\": \"True\", \"hovertemplate\": \"Entity=%{y}<br>Year=1992<br>Deaths=%{x}<extra></extra>\", \"legendgroup\": \"Extreme weather\", \"marker\": {\"color\": \"#19d3f3\"}, \"name\": \"Extreme weather\", \"offsetgroup\": \"Extreme weather\", \"orientation\": \"h\", \"showlegend\": true, \"textposition\": \"auto\", \"x\": [1342], \"xaxis\": \"x\", \"y\": [\"Extreme weather\"], \"yaxis\": \"y\", \"type\": \"bar\"}, {\"alignmentgroup\": \"True\", \"hovertemplate\": \"Entity=%{y}<br>Year=1992<br>Deaths=%{x}<extra></extra>\", \"legendgroup\": \"Flood\", \"marker\": {\"color\": \"#FF6692\"}, \"name\": \"Flood\", \"offsetgroup\": \"Flood\", \"orientation\": \"h\", \"showlegend\": true, \"textposition\": \"auto\", \"x\": [5315], \"xaxis\": \"x\", \"y\": [\"Flood\"], \"yaxis\": \"y\", \"type\": \"bar\"}, {\"alignmentgroup\": \"True\", \"hovertemplate\": \"Entity=%{y}<br>Year=1992<br>Deaths=%{x}<extra></extra>\", \"legendgroup\": \"Landslide\", \"marker\": {\"color\": \"#B6E880\"}, \"name\": \"Landslide\", \"offsetgroup\": \"Landslide\", \"orientation\": \"h\", \"showlegend\": true, \"textposition\": \"auto\", \"x\": [712], \"xaxis\": \"x\", \"y\": [\"Landslide\"], \"yaxis\": \"y\", \"type\": \"bar\"}, {\"alignmentgroup\": \"True\", \"hovertemplate\": \"Entity=%{y}<br>Year=1992<br>Deaths=%{x}<extra></extra>\", \"legendgroup\": \"Mass movement (dry)\", \"marker\": {\"color\": \"#FF97FF\"}, \"name\": \"Mass movement (dry)\", \"offsetgroup\": \"Mass movement (dry)\", \"orientation\": \"h\", \"showlegend\": true, \"textposition\": \"auto\", \"x\": [323], \"xaxis\": \"x\", \"y\": [\"Mass movement (dry)\"], \"yaxis\": \"y\", \"type\": \"bar\"}, {\"alignmentgroup\": \"True\", \"hovertemplate\": \"Entity=%{y}<br>Year=1992<br>Deaths=%{x}<extra></extra>\", \"legendgroup\": \"Volcanic activity\", \"marker\": {\"color\": \"#FECB52\"}, \"name\": \"Volcanic activity\", \"offsetgroup\": \"Volcanic activity\", \"orientation\": \"h\", \"showlegend\": true, \"textposition\": \"auto\", \"x\": [1], \"xaxis\": \"x\", \"y\": [\"Volcanic activity\"], \"yaxis\": \"y\", \"type\": \"bar\"}, {\"alignmentgroup\": \"True\", \"hovertemplate\": \"Entity=%{y}<br>Year=1992<br>Deaths=%{x}<extra></extra>\", \"legendgroup\": \"Wildfire\", \"marker\": {\"color\": \"#636efa\"}, \"name\": \"Wildfire\", \"offsetgroup\": \"Wildfire\", \"orientation\": \"h\", \"showlegend\": true, \"textposition\": \"auto\", \"x\": [122], \"xaxis\": \"x\", \"y\": [\"Wildfire\"], \"yaxis\": \"y\", \"type\": \"bar\"}], \"name\": \"1992\"}, {\"data\": [{\"alignmentgroup\": \"True\", \"hovertemplate\": \"Entity=%{y}<br>Year=1993<br>Deaths=%{x}<extra></extra>\", \"legendgroup\": \"All natural disasters\", \"marker\": {\"color\": \"#636efa\"}, \"name\": \"All natural disasters\", \"offsetgroup\": \"All natural disasters\", \"orientation\": \"h\", \"showlegend\": true, \"textposition\": \"auto\", \"x\": [21821], \"xaxis\": \"x\", \"y\": [\"All natural disasters\"], \"yaxis\": \"y\", \"type\": \"bar\"}, {\"alignmentgroup\": \"True\", \"hovertemplate\": \"Entity=%{y}<br>Year=1993<br>Deaths=%{x}<extra></extra>\", \"legendgroup\": \"Earthquake\", \"marker\": {\"color\": \"#00cc96\"}, \"name\": \"Earthquake\", \"offsetgroup\": \"Earthquake\", \"orientation\": \"h\", \"showlegend\": true, \"textposition\": \"auto\", \"x\": [10088], \"xaxis\": \"x\", \"y\": [\"Earthquake\"], \"yaxis\": \"y\", \"type\": \"bar\"}, {\"alignmentgroup\": \"True\", \"hovertemplate\": \"Entity=%{y}<br>Year=1993<br>Deaths=%{x}<extra></extra>\", \"legendgroup\": \"Epidemic\", \"marker\": {\"color\": \"#ab63fa\"}, \"name\": \"Epidemic\", \"offsetgroup\": \"Epidemic\", \"orientation\": \"h\", \"showlegend\": true, \"textposition\": \"auto\", \"x\": [651], \"xaxis\": \"x\", \"y\": [\"Epidemic\"], \"yaxis\": \"y\", \"type\": \"bar\"}, {\"alignmentgroup\": \"True\", \"hovertemplate\": \"Entity=%{y}<br>Year=1993<br>Deaths=%{x}<extra></extra>\", \"legendgroup\": \"Extreme temperature\", \"marker\": {\"color\": \"#FFA15A\"}, \"name\": \"Extreme temperature\", \"offsetgroup\": \"Extreme temperature\", \"orientation\": \"h\", \"showlegend\": true, \"textposition\": \"auto\", \"x\": [106], \"xaxis\": \"x\", \"y\": [\"Extreme temperature\"], \"yaxis\": \"y\", \"type\": \"bar\"}, {\"alignmentgroup\": \"True\", \"hovertemplate\": \"Entity=%{y}<br>Year=1993<br>Deaths=%{x}<extra></extra>\", \"legendgroup\": \"Extreme weather\", \"marker\": {\"color\": \"#19d3f3\"}, \"name\": \"Extreme weather\", \"offsetgroup\": \"Extreme weather\", \"orientation\": \"h\", \"showlegend\": true, \"textposition\": \"auto\", \"x\": [2965], \"xaxis\": \"x\", \"y\": [\"Extreme weather\"], \"yaxis\": \"y\", \"type\": \"bar\"}, {\"alignmentgroup\": \"True\", \"hovertemplate\": \"Entity=%{y}<br>Year=1993<br>Deaths=%{x}<extra></extra>\", \"legendgroup\": \"Flood\", \"marker\": {\"color\": \"#FF6692\"}, \"name\": \"Flood\", \"offsetgroup\": \"Flood\", \"orientation\": \"h\", \"showlegend\": true, \"textposition\": \"auto\", \"x\": [6150], \"xaxis\": \"x\", \"y\": [\"Flood\"], \"yaxis\": \"y\", \"type\": \"bar\"}, {\"alignmentgroup\": \"True\", \"hovertemplate\": \"Entity=%{y}<br>Year=1993<br>Deaths=%{x}<extra></extra>\", \"legendgroup\": \"Landslide\", \"marker\": {\"color\": \"#B6E880\"}, \"name\": \"Landslide\", \"offsetgroup\": \"Landslide\", \"orientation\": \"h\", \"showlegend\": true, \"textposition\": \"auto\", \"x\": [1418], \"xaxis\": \"x\", \"y\": [\"Landslide\"], \"yaxis\": \"y\", \"type\": \"bar\"}, {\"alignmentgroup\": \"True\", \"hovertemplate\": \"Entity=%{y}<br>Year=1993<br>Deaths=%{x}<extra></extra>\", \"legendgroup\": \"Mass movement (dry)\", \"marker\": {\"color\": \"#FF97FF\"}, \"name\": \"Mass movement (dry)\", \"offsetgroup\": \"Mass movement (dry)\", \"orientation\": \"h\", \"showlegend\": true, \"textposition\": \"auto\", \"x\": [341], \"xaxis\": \"x\", \"y\": [\"Mass movement (dry)\"], \"yaxis\": \"y\", \"type\": \"bar\"}, {\"alignmentgroup\": \"True\", \"hovertemplate\": \"Entity=%{y}<br>Year=1993<br>Deaths=%{x}<extra></extra>\", \"legendgroup\": \"Volcanic activity\", \"marker\": {\"color\": \"#FECB52\"}, \"name\": \"Volcanic activity\", \"offsetgroup\": \"Volcanic activity\", \"orientation\": \"h\", \"showlegend\": true, \"textposition\": \"auto\", \"x\": [99], \"xaxis\": \"x\", \"y\": [\"Volcanic activity\"], \"yaxis\": \"y\", \"type\": \"bar\"}, {\"alignmentgroup\": \"True\", \"hovertemplate\": \"Entity=%{y}<br>Year=1993<br>Deaths=%{x}<extra></extra>\", \"legendgroup\": \"Wildfire\", \"marker\": {\"color\": \"#636efa\"}, \"name\": \"Wildfire\", \"offsetgroup\": \"Wildfire\", \"orientation\": \"h\", \"showlegend\": true, \"textposition\": \"auto\", \"x\": [3], \"xaxis\": \"x\", \"y\": [\"Wildfire\"], \"yaxis\": \"y\", \"type\": \"bar\"}], \"name\": \"1993\"}, {\"data\": [{\"alignmentgroup\": \"True\", \"hovertemplate\": \"Entity=%{y}<br>Year=1994<br>Deaths=%{x}<extra></extra>\", \"legendgroup\": \"All natural disasters\", \"marker\": {\"color\": \"#636efa\"}, \"name\": \"All natural disasters\", \"offsetgroup\": \"All natural disasters\", \"orientation\": \"h\", \"showlegend\": true, \"textposition\": \"auto\", \"x\": [15590], \"xaxis\": \"x\", \"y\": [\"All natural disasters\"], \"yaxis\": \"y\", \"type\": \"bar\"}, {\"alignmentgroup\": \"True\", \"hovertemplate\": \"Entity=%{y}<br>Year=1994<br>Deaths=%{x}<extra></extra>\", \"legendgroup\": \"Earthquake\", \"marker\": {\"color\": \"#00cc96\"}, \"name\": \"Earthquake\", \"offsetgroup\": \"Earthquake\", \"orientation\": \"h\", \"showlegend\": true, \"textposition\": \"auto\", \"x\": [1242], \"xaxis\": \"x\", \"y\": [\"Earthquake\"], \"yaxis\": \"y\", \"type\": \"bar\"}, {\"alignmentgroup\": \"True\", \"hovertemplate\": \"Entity=%{y}<br>Year=1994<br>Deaths=%{x}<extra></extra>\", \"legendgroup\": \"Epidemic\", \"marker\": {\"color\": \"#ab63fa\"}, \"name\": \"Epidemic\", \"offsetgroup\": \"Epidemic\", \"orientation\": \"h\", \"showlegend\": true, \"textposition\": \"auto\", \"x\": [2505], \"xaxis\": \"x\", \"y\": [\"Epidemic\"], \"yaxis\": \"y\", \"type\": \"bar\"}, {\"alignmentgroup\": \"True\", \"hovertemplate\": \"Entity=%{y}<br>Year=1994<br>Deaths=%{x}<extra></extra>\", \"legendgroup\": \"Extreme temperature\", \"marker\": {\"color\": \"#FFA15A\"}, \"name\": \"Extreme temperature\", \"offsetgroup\": \"Extreme temperature\", \"orientation\": \"h\", \"showlegend\": true, \"textposition\": \"auto\", \"x\": [341], \"xaxis\": \"x\", \"y\": [\"Extreme temperature\"], \"yaxis\": \"y\", \"type\": \"bar\"}, {\"alignmentgroup\": \"True\", \"hovertemplate\": \"Entity=%{y}<br>Year=1994<br>Deaths=%{x}<extra></extra>\", \"legendgroup\": \"Extreme weather\", \"marker\": {\"color\": \"#19d3f3\"}, \"name\": \"Extreme weather\", \"offsetgroup\": \"Extreme weather\", \"orientation\": \"h\", \"showlegend\": true, \"textposition\": \"auto\", \"x\": [4239], \"xaxis\": \"x\", \"y\": [\"Extreme weather\"], \"yaxis\": \"y\", \"type\": \"bar\"}, {\"alignmentgroup\": \"True\", \"hovertemplate\": \"Entity=%{y}<br>Year=1994<br>Deaths=%{x}<extra></extra>\", \"legendgroup\": \"Flood\", \"marker\": {\"color\": \"#FF6692\"}, \"name\": \"Flood\", \"offsetgroup\": \"Flood\", \"orientation\": \"h\", \"showlegend\": true, \"textposition\": \"auto\", \"x\": [6771], \"xaxis\": \"x\", \"y\": [\"Flood\"], \"yaxis\": \"y\", \"type\": \"bar\"}, {\"alignmentgroup\": \"True\", \"hovertemplate\": \"Entity=%{y}<br>Year=1994<br>Deaths=%{x}<extra></extra>\", \"legendgroup\": \"Landslide\", \"marker\": {\"color\": \"#B6E880\"}, \"name\": \"Landslide\", \"offsetgroup\": \"Landslide\", \"orientation\": \"h\", \"showlegend\": true, \"textposition\": \"auto\", \"x\": [307], \"xaxis\": \"x\", \"y\": [\"Landslide\"], \"yaxis\": \"y\", \"type\": \"bar\"}, {\"alignmentgroup\": \"True\", \"hovertemplate\": \"Entity=%{y}<br>Year=1994<br>Deaths=%{x}<extra></extra>\", \"legendgroup\": \"Volcanic activity\", \"marker\": {\"color\": \"#FECB52\"}, \"name\": \"Volcanic activity\", \"offsetgroup\": \"Volcanic activity\", \"orientation\": \"h\", \"showlegend\": true, \"textposition\": \"auto\", \"x\": [101], \"xaxis\": \"x\", \"y\": [\"Volcanic activity\"], \"yaxis\": \"y\", \"type\": \"bar\"}, {\"alignmentgroup\": \"True\", \"hovertemplate\": \"Entity=%{y}<br>Year=1994<br>Deaths=%{x}<extra></extra>\", \"legendgroup\": \"Wildfire\", \"marker\": {\"color\": \"#636efa\"}, \"name\": \"Wildfire\", \"offsetgroup\": \"Wildfire\", \"orientation\": \"h\", \"showlegend\": true, \"textposition\": \"auto\", \"x\": [84], \"xaxis\": \"x\", \"y\": [\"Wildfire\"], \"yaxis\": \"y\", \"type\": \"bar\"}], \"name\": \"1994\"}, {\"data\": [{\"alignmentgroup\": \"True\", \"hovertemplate\": \"Entity=%{y}<br>Year=1995<br>Deaths=%{x}<extra></extra>\", \"legendgroup\": \"All natural disasters\", \"marker\": {\"color\": \"#636efa\"}, \"name\": \"All natural disasters\", \"offsetgroup\": \"All natural disasters\", \"orientation\": \"h\", \"showlegend\": true, \"textposition\": \"auto\", \"x\": [27166], \"xaxis\": \"x\", \"y\": [\"All natural disasters\"], \"yaxis\": \"y\", \"type\": \"bar\"}, {\"alignmentgroup\": \"True\", \"hovertemplate\": \"Entity=%{y}<br>Year=1995<br>Deaths=%{x}<extra></extra>\", \"legendgroup\": \"Earthquake\", \"marker\": {\"color\": \"#00cc96\"}, \"name\": \"Earthquake\", \"offsetgroup\": \"Earthquake\", \"orientation\": \"h\", \"showlegend\": true, \"textposition\": \"auto\", \"x\": [7739], \"xaxis\": \"x\", \"y\": [\"Earthquake\"], \"yaxis\": \"y\", \"type\": \"bar\"}, {\"alignmentgroup\": \"True\", \"hovertemplate\": \"Entity=%{y}<br>Year=1995<br>Deaths=%{x}<extra></extra>\", \"legendgroup\": \"Epidemic\", \"marker\": {\"color\": \"#ab63fa\"}, \"name\": \"Epidemic\", \"offsetgroup\": \"Epidemic\", \"orientation\": \"h\", \"showlegend\": true, \"textposition\": \"auto\", \"x\": [4428], \"xaxis\": \"x\", \"y\": [\"Epidemic\"], \"yaxis\": \"y\", \"type\": \"bar\"}, {\"alignmentgroup\": \"True\", \"hovertemplate\": \"Entity=%{y}<br>Year=1995<br>Deaths=%{x}<extra></extra>\", \"legendgroup\": \"Extreme temperature\", \"marker\": {\"color\": \"#FFA15A\"}, \"name\": \"Extreme temperature\", \"offsetgroup\": \"Extreme temperature\", \"orientation\": \"h\", \"showlegend\": true, \"textposition\": \"auto\", \"x\": [1730], \"xaxis\": \"x\", \"y\": [\"Extreme temperature\"], \"yaxis\": \"y\", \"type\": \"bar\"}, {\"alignmentgroup\": \"True\", \"hovertemplate\": \"Entity=%{y}<br>Year=1995<br>Deaths=%{x}<extra></extra>\", \"legendgroup\": \"Extreme weather\", \"marker\": {\"color\": \"#19d3f3\"}, \"name\": \"Extreme weather\", \"offsetgroup\": \"Extreme weather\", \"orientation\": \"h\", \"showlegend\": true, \"textposition\": \"auto\", \"x\": [3763], \"xaxis\": \"x\", \"y\": [\"Extreme weather\"], \"yaxis\": \"y\", \"type\": \"bar\"}, {\"alignmentgroup\": \"True\", \"hovertemplate\": \"Entity=%{y}<br>Year=1995<br>Deaths=%{x}<extra></extra>\", \"legendgroup\": \"Flood\", \"marker\": {\"color\": \"#FF6692\"}, \"name\": \"Flood\", \"offsetgroup\": \"Flood\", \"orientation\": \"h\", \"showlegend\": true, \"textposition\": \"auto\", \"x\": [7956], \"xaxis\": \"x\", \"y\": [\"Flood\"], \"yaxis\": \"y\", \"type\": \"bar\"}, {\"alignmentgroup\": \"True\", \"hovertemplate\": \"Entity=%{y}<br>Year=1995<br>Deaths=%{x}<extra></extra>\", \"legendgroup\": \"Landslide\", \"marker\": {\"color\": \"#B6E880\"}, \"name\": \"Landslide\", \"offsetgroup\": \"Landslide\", \"orientation\": \"h\", \"showlegend\": true, \"textposition\": \"auto\", \"x\": [1521], \"xaxis\": \"x\", \"y\": [\"Landslide\"], \"yaxis\": \"y\", \"type\": \"bar\"}, {\"alignmentgroup\": \"True\", \"hovertemplate\": \"Entity=%{y}<br>Year=1995<br>Deaths=%{x}<extra></extra>\", \"legendgroup\": \"Wildfire\", \"marker\": {\"color\": \"#636efa\"}, \"name\": \"Wildfire\", \"offsetgroup\": \"Wildfire\", \"orientation\": \"h\", \"showlegend\": true, \"textposition\": \"auto\", \"x\": [29], \"xaxis\": \"x\", \"y\": [\"Wildfire\"], \"yaxis\": \"y\", \"type\": \"bar\"}], \"name\": \"1995\"}, {\"data\": [{\"alignmentgroup\": \"True\", \"hovertemplate\": \"Entity=%{y}<br>Year=1996<br>Deaths=%{x}<extra></extra>\", \"legendgroup\": \"All natural disasters\", \"marker\": {\"color\": \"#636efa\"}, \"name\": \"All natural disasters\", \"offsetgroup\": \"All natural disasters\", \"orientation\": \"h\", \"showlegend\": true, \"textposition\": \"auto\", \"x\": [31595], \"xaxis\": \"x\", \"y\": [\"All natural disasters\"], \"yaxis\": \"y\", \"type\": \"bar\"}, {\"alignmentgroup\": \"True\", \"hovertemplate\": \"Entity=%{y}<br>Year=1996<br>Deaths=%{x}<extra></extra>\", \"legendgroup\": \"Earthquake\", \"marker\": {\"color\": \"#00cc96\"}, \"name\": \"Earthquake\", \"offsetgroup\": \"Earthquake\", \"orientation\": \"h\", \"showlegend\": true, \"textposition\": \"auto\", \"x\": [576], \"xaxis\": \"x\", \"y\": [\"Earthquake\"], \"yaxis\": \"y\", \"type\": \"bar\"}, {\"alignmentgroup\": \"True\", \"hovertemplate\": \"Entity=%{y}<br>Year=1996<br>Deaths=%{x}<extra></extra>\", \"legendgroup\": \"Epidemic\", \"marker\": {\"color\": \"#ab63fa\"}, \"name\": \"Epidemic\", \"offsetgroup\": \"Epidemic\", \"orientation\": \"h\", \"showlegend\": true, \"textposition\": \"auto\", \"x\": [16887], \"xaxis\": \"x\", \"y\": [\"Epidemic\"], \"yaxis\": \"y\", \"type\": \"bar\"}, {\"alignmentgroup\": \"True\", \"hovertemplate\": \"Entity=%{y}<br>Year=1996<br>Deaths=%{x}<extra></extra>\", \"legendgroup\": \"Extreme temperature\", \"marker\": {\"color\": \"#FFA15A\"}, \"name\": \"Extreme temperature\", \"offsetgroup\": \"Extreme temperature\", \"orientation\": \"h\", \"showlegend\": true, \"textposition\": \"auto\", \"x\": [300], \"xaxis\": \"x\", \"y\": [\"Extreme temperature\"], \"yaxis\": \"y\", \"type\": \"bar\"}, {\"alignmentgroup\": \"True\", \"hovertemplate\": \"Entity=%{y}<br>Year=1996<br>Deaths=%{x}<extra></extra>\", \"legendgroup\": \"Extreme weather\", \"marker\": {\"color\": \"#19d3f3\"}, \"name\": \"Extreme weather\", \"offsetgroup\": \"Extreme weather\", \"orientation\": \"h\", \"showlegend\": true, \"textposition\": \"auto\", \"x\": [4581], \"xaxis\": \"x\", \"y\": [\"Extreme weather\"], \"yaxis\": \"y\", \"type\": \"bar\"}, {\"alignmentgroup\": \"True\", \"hovertemplate\": \"Entity=%{y}<br>Year=1996<br>Deaths=%{x}<extra></extra>\", \"legendgroup\": \"Flood\", \"marker\": {\"color\": \"#FF6692\"}, \"name\": \"Flood\", \"offsetgroup\": \"Flood\", \"orientation\": \"h\", \"showlegend\": true, \"textposition\": \"auto\", \"x\": [8047], \"xaxis\": \"x\", \"y\": [\"Flood\"], \"yaxis\": \"y\", \"type\": \"bar\"}, {\"alignmentgroup\": \"True\", \"hovertemplate\": \"Entity=%{y}<br>Year=1996<br>Deaths=%{x}<extra></extra>\", \"legendgroup\": \"Landslide\", \"marker\": {\"color\": \"#B6E880\"}, \"name\": \"Landslide\", \"offsetgroup\": \"Landslide\", \"orientation\": \"h\", \"showlegend\": true, \"textposition\": \"auto\", \"x\": [1155], \"xaxis\": \"x\", \"y\": [\"Landslide\"], \"yaxis\": \"y\", \"type\": \"bar\"}, {\"alignmentgroup\": \"True\", \"hovertemplate\": \"Entity=%{y}<br>Year=1996<br>Deaths=%{x}<extra></extra>\", \"legendgroup\": \"Volcanic activity\", \"marker\": {\"color\": \"#FECB52\"}, \"name\": \"Volcanic activity\", \"offsetgroup\": \"Volcanic activity\", \"orientation\": \"h\", \"showlegend\": true, \"textposition\": \"auto\", \"x\": [4], \"xaxis\": \"x\", \"y\": [\"Volcanic activity\"], \"yaxis\": \"y\", \"type\": \"bar\"}, {\"alignmentgroup\": \"True\", \"hovertemplate\": \"Entity=%{y}<br>Year=1996<br>Deaths=%{x}<extra></extra>\", \"legendgroup\": \"Wildfire\", \"marker\": {\"color\": \"#636efa\"}, \"name\": \"Wildfire\", \"offsetgroup\": \"Wildfire\", \"orientation\": \"h\", \"showlegend\": true, \"textposition\": \"auto\", \"x\": [45], \"xaxis\": \"x\", \"y\": [\"Wildfire\"], \"yaxis\": \"y\", \"type\": \"bar\"}], \"name\": \"1996\"}, {\"data\": [{\"alignmentgroup\": \"True\", \"hovertemplate\": \"Entity=%{y}<br>Year=1997<br>Deaths=%{x}<extra></extra>\", \"legendgroup\": \"All natural disasters\", \"marker\": {\"color\": \"#636efa\"}, \"name\": \"All natural disasters\", \"offsetgroup\": \"All natural disasters\", \"orientation\": \"h\", \"showlegend\": true, \"textposition\": \"auto\", \"x\": [30124], \"xaxis\": \"x\", \"y\": [\"All natural disasters\"], \"yaxis\": \"y\", \"type\": \"bar\"}, {\"alignmentgroup\": \"True\", \"hovertemplate\": \"Entity=%{y}<br>Year=1997<br>Deaths=%{x}<extra></extra>\", \"legendgroup\": \"Drought\", \"marker\": {\"color\": \"#EF553B\"}, \"name\": \"Drought\", \"offsetgroup\": \"Drought\", \"orientation\": \"h\", \"showlegend\": true, \"textposition\": \"auto\", \"x\": [732], \"xaxis\": \"x\", \"y\": [\"Drought\"], \"yaxis\": \"y\", \"type\": \"bar\"}, {\"alignmentgroup\": \"True\", \"hovertemplate\": \"Entity=%{y}<br>Year=1997<br>Deaths=%{x}<extra></extra>\", \"legendgroup\": \"Earthquake\", \"marker\": {\"color\": \"#00cc96\"}, \"name\": \"Earthquake\", \"offsetgroup\": \"Earthquake\", \"orientation\": \"h\", \"showlegend\": true, \"textposition\": \"auto\", \"x\": [3159], \"xaxis\": \"x\", \"y\": [\"Earthquake\"], \"yaxis\": \"y\", \"type\": \"bar\"}, {\"alignmentgroup\": \"True\", \"hovertemplate\": \"Entity=%{y}<br>Year=1997<br>Deaths=%{x}<extra></extra>\", \"legendgroup\": \"Epidemic\", \"marker\": {\"color\": \"#ab63fa\"}, \"name\": \"Epidemic\", \"offsetgroup\": \"Epidemic\", \"orientation\": \"h\", \"showlegend\": true, \"textposition\": \"auto\", \"x\": [10674], \"xaxis\": \"x\", \"y\": [\"Epidemic\"], \"yaxis\": \"y\", \"type\": \"bar\"}, {\"alignmentgroup\": \"True\", \"hovertemplate\": \"Entity=%{y}<br>Year=1997<br>Deaths=%{x}<extra></extra>\", \"legendgroup\": \"Extreme temperature\", \"marker\": {\"color\": \"#FFA15A\"}, \"name\": \"Extreme temperature\", \"offsetgroup\": \"Extreme temperature\", \"orientation\": \"h\", \"showlegend\": true, \"textposition\": \"auto\", \"x\": [604], \"xaxis\": \"x\", \"y\": [\"Extreme temperature\"], \"yaxis\": \"y\", \"type\": \"bar\"}, {\"alignmentgroup\": \"True\", \"hovertemplate\": \"Entity=%{y}<br>Year=1997<br>Deaths=%{x}<extra></extra>\", \"legendgroup\": \"Extreme weather\", \"marker\": {\"color\": \"#19d3f3\"}, \"name\": \"Extreme weather\", \"offsetgroup\": \"Extreme weather\", \"orientation\": \"h\", \"showlegend\": true, \"textposition\": \"auto\", \"x\": [6150], \"xaxis\": \"x\", \"y\": [\"Extreme weather\"], \"yaxis\": \"y\", \"type\": \"bar\"}, {\"alignmentgroup\": \"True\", \"hovertemplate\": \"Entity=%{y}<br>Year=1997<br>Deaths=%{x}<extra></extra>\", \"legendgroup\": \"Flood\", \"marker\": {\"color\": \"#FF6692\"}, \"name\": \"Flood\", \"offsetgroup\": \"Flood\", \"orientation\": \"h\", \"showlegend\": true, \"textposition\": \"auto\", \"x\": [7685], \"xaxis\": \"x\", \"y\": [\"Flood\"], \"yaxis\": \"y\", \"type\": \"bar\"}, {\"alignmentgroup\": \"True\", \"hovertemplate\": \"Entity=%{y}<br>Year=1997<br>Deaths=%{x}<extra></extra>\", \"legendgroup\": \"Landslide\", \"marker\": {\"color\": \"#B6E880\"}, \"name\": \"Landslide\", \"offsetgroup\": \"Landslide\", \"orientation\": \"h\", \"showlegend\": true, \"textposition\": \"auto\", \"x\": [801], \"xaxis\": \"x\", \"y\": [\"Landslide\"], \"yaxis\": \"y\", \"type\": \"bar\"}, {\"alignmentgroup\": \"True\", \"hovertemplate\": \"Entity=%{y}<br>Year=1997<br>Deaths=%{x}<extra></extra>\", \"legendgroup\": \"Volcanic activity\", \"marker\": {\"color\": \"#FECB52\"}, \"name\": \"Volcanic activity\", \"offsetgroup\": \"Volcanic activity\", \"orientation\": \"h\", \"showlegend\": true, \"textposition\": \"auto\", \"x\": [53], \"xaxis\": \"x\", \"y\": [\"Volcanic activity\"], \"yaxis\": \"y\", \"type\": \"bar\"}, {\"alignmentgroup\": \"True\", \"hovertemplate\": \"Entity=%{y}<br>Year=1997<br>Deaths=%{x}<extra></extra>\", \"legendgroup\": \"Wildfire\", \"marker\": {\"color\": \"#636efa\"}, \"name\": \"Wildfire\", \"offsetgroup\": \"Wildfire\", \"orientation\": \"h\", \"showlegend\": true, \"textposition\": \"auto\", \"x\": [266], \"xaxis\": \"x\", \"y\": [\"Wildfire\"], \"yaxis\": \"y\", \"type\": \"bar\"}], \"name\": \"1997\"}, {\"data\": [{\"alignmentgroup\": \"True\", \"hovertemplate\": \"Entity=%{y}<br>Year=1998<br>Deaths=%{x}<extra></extra>\", \"legendgroup\": \"All natural disasters\", \"marker\": {\"color\": \"#636efa\"}, \"name\": \"All natural disasters\", \"offsetgroup\": \"All natural disasters\", \"orientation\": \"h\", \"showlegend\": true, \"textposition\": \"auto\", \"x\": [62672], \"xaxis\": \"x\", \"y\": [\"All natural disasters\"], \"yaxis\": \"y\", \"type\": \"bar\"}, {\"alignmentgroup\": \"True\", \"hovertemplate\": \"Entity=%{y}<br>Year=1998<br>Deaths=%{x}<extra></extra>\", \"legendgroup\": \"Drought\", \"marker\": {\"color\": \"#EF553B\"}, \"name\": \"Drought\", \"offsetgroup\": \"Drought\", \"orientation\": \"h\", \"showlegend\": true, \"textposition\": \"auto\", \"x\": [20], \"xaxis\": \"x\", \"y\": [\"Drought\"], \"yaxis\": \"y\", \"type\": \"bar\"}, {\"alignmentgroup\": \"True\", \"hovertemplate\": \"Entity=%{y}<br>Year=1998<br>Deaths=%{x}<extra></extra>\", \"legendgroup\": \"Earthquake\", \"marker\": {\"color\": \"#00cc96\"}, \"name\": \"Earthquake\", \"offsetgroup\": \"Earthquake\", \"orientation\": \"h\", \"showlegend\": true, \"textposition\": \"auto\", \"x\": [9573], \"xaxis\": \"x\", \"y\": [\"Earthquake\"], \"yaxis\": \"y\", \"type\": \"bar\"}, {\"alignmentgroup\": \"True\", \"hovertemplate\": \"Entity=%{y}<br>Year=1998<br>Deaths=%{x}<extra></extra>\", \"legendgroup\": \"Epidemic\", \"marker\": {\"color\": \"#ab63fa\"}, \"name\": \"Epidemic\", \"offsetgroup\": \"Epidemic\", \"orientation\": \"h\", \"showlegend\": true, \"textposition\": \"auto\", \"x\": [12931], \"xaxis\": \"x\", \"y\": [\"Epidemic\"], \"yaxis\": \"y\", \"type\": \"bar\"}, {\"alignmentgroup\": \"True\", \"hovertemplate\": \"Entity=%{y}<br>Year=1998<br>Deaths=%{x}<extra></extra>\", \"legendgroup\": \"Extreme temperature\", \"marker\": {\"color\": \"#FFA15A\"}, \"name\": \"Extreme temperature\", \"offsetgroup\": \"Extreme temperature\", \"orientation\": \"h\", \"showlegend\": true, \"textposition\": \"auto\", \"x\": [3269], \"xaxis\": \"x\", \"y\": [\"Extreme temperature\"], \"yaxis\": \"y\", \"type\": \"bar\"}, {\"alignmentgroup\": \"True\", \"hovertemplate\": \"Entity=%{y}<br>Year=1998<br>Deaths=%{x}<extra></extra>\", \"legendgroup\": \"Extreme weather\", \"marker\": {\"color\": \"#19d3f3\"}, \"name\": \"Extreme weather\", \"offsetgroup\": \"Extreme weather\", \"orientation\": \"h\", \"showlegend\": true, \"textposition\": \"auto\", \"x\": [24935], \"xaxis\": \"x\", \"y\": [\"Extreme weather\"], \"yaxis\": \"y\", \"type\": \"bar\"}, {\"alignmentgroup\": \"True\", \"hovertemplate\": \"Entity=%{y}<br>Year=1998<br>Deaths=%{x}<extra></extra>\", \"legendgroup\": \"Flood\", \"marker\": {\"color\": \"#FF6692\"}, \"name\": \"Flood\", \"offsetgroup\": \"Flood\", \"orientation\": \"h\", \"showlegend\": true, \"textposition\": \"auto\", \"x\": [10653], \"xaxis\": \"x\", \"y\": [\"Flood\"], \"yaxis\": \"y\", \"type\": \"bar\"}, {\"alignmentgroup\": \"True\", \"hovertemplate\": \"Entity=%{y}<br>Year=1998<br>Deaths=%{x}<extra></extra>\", \"legendgroup\": \"Landslide\", \"marker\": {\"color\": \"#B6E880\"}, \"name\": \"Landslide\", \"offsetgroup\": \"Landslide\", \"orientation\": \"h\", \"showlegend\": true, \"textposition\": \"auto\", \"x\": [1141], \"xaxis\": \"x\", \"y\": [\"Landslide\"], \"yaxis\": \"y\", \"type\": \"bar\"}, {\"alignmentgroup\": \"True\", \"hovertemplate\": \"Entity=%{y}<br>Year=1998<br>Deaths=%{x}<extra></extra>\", \"legendgroup\": \"Wildfire\", \"marker\": {\"color\": \"#636efa\"}, \"name\": \"Wildfire\", \"offsetgroup\": \"Wildfire\", \"orientation\": \"h\", \"showlegend\": true, \"textposition\": \"auto\", \"x\": [150], \"xaxis\": \"x\", \"y\": [\"Wildfire\"], \"yaxis\": \"y\", \"type\": \"bar\"}], \"name\": \"1998\"}, {\"data\": [{\"alignmentgroup\": \"True\", \"hovertemplate\": \"Entity=%{y}<br>Year=1999<br>Deaths=%{x}<extra></extra>\", \"legendgroup\": \"All natural disasters\", \"marker\": {\"color\": \"#636efa\"}, \"name\": \"All natural disasters\", \"offsetgroup\": \"All natural disasters\", \"orientation\": \"h\", \"showlegend\": true, \"textposition\": \"auto\", \"x\": [76886], \"xaxis\": \"x\", \"y\": [\"All natural disasters\"], \"yaxis\": \"y\", \"type\": \"bar\"}, {\"alignmentgroup\": \"True\", \"hovertemplate\": \"Entity=%{y}<br>Year=1999<br>Deaths=%{x}<extra></extra>\", \"legendgroup\": \"Drought\", \"marker\": {\"color\": \"#EF553B\"}, \"name\": \"Drought\", \"offsetgroup\": \"Drought\", \"orientation\": \"h\", \"showlegend\": true, \"textposition\": \"auto\", \"x\": [361], \"xaxis\": \"x\", \"y\": [\"Drought\"], \"yaxis\": \"y\", \"type\": \"bar\"}, {\"alignmentgroup\": \"True\", \"hovertemplate\": \"Entity=%{y}<br>Year=1999<br>Deaths=%{x}<extra></extra>\", \"legendgroup\": \"Earthquake\", \"marker\": {\"color\": \"#00cc96\"}, \"name\": \"Earthquake\", \"offsetgroup\": \"Earthquake\", \"orientation\": \"h\", \"showlegend\": true, \"textposition\": \"auto\", \"x\": [21869], \"xaxis\": \"x\", \"y\": [\"Earthquake\"], \"yaxis\": \"y\", \"type\": \"bar\"}, {\"alignmentgroup\": \"True\", \"hovertemplate\": \"Entity=%{y}<br>Year=1999<br>Deaths=%{x}<extra></extra>\", \"legendgroup\": \"Epidemic\", \"marker\": {\"color\": \"#ab63fa\"}, \"name\": \"Epidemic\", \"offsetgroup\": \"Epidemic\", \"orientation\": \"h\", \"showlegend\": true, \"textposition\": \"auto\", \"x\": [6293], \"xaxis\": \"x\", \"y\": [\"Epidemic\"], \"yaxis\": \"y\", \"type\": \"bar\"}, {\"alignmentgroup\": \"True\", \"hovertemplate\": \"Entity=%{y}<br>Year=1999<br>Deaths=%{x}<extra></extra>\", \"legendgroup\": \"Extreme temperature\", \"marker\": {\"color\": \"#FFA15A\"}, \"name\": \"Extreme temperature\", \"offsetgroup\": \"Extreme temperature\", \"orientation\": \"h\", \"showlegend\": true, \"textposition\": \"auto\", \"x\": [771], \"xaxis\": \"x\", \"y\": [\"Extreme temperature\"], \"yaxis\": \"y\", \"type\": \"bar\"}, {\"alignmentgroup\": \"True\", \"hovertemplate\": \"Entity=%{y}<br>Year=1999<br>Deaths=%{x}<extra></extra>\", \"legendgroup\": \"Extreme weather\", \"marker\": {\"color\": \"#19d3f3\"}, \"name\": \"Extreme weather\", \"offsetgroup\": \"Extreme weather\", \"orientation\": \"h\", \"showlegend\": true, \"textposition\": \"auto\", \"x\": [12270], \"xaxis\": \"x\", \"y\": [\"Extreme weather\"], \"yaxis\": \"y\", \"type\": \"bar\"}, {\"alignmentgroup\": \"True\", \"hovertemplate\": \"Entity=%{y}<br>Year=1999<br>Deaths=%{x}<extra></extra>\", \"legendgroup\": \"Flood\", \"marker\": {\"color\": \"#FF6692\"}, \"name\": \"Flood\", \"offsetgroup\": \"Flood\", \"orientation\": \"h\", \"showlegend\": true, \"textposition\": \"auto\", \"x\": [34807], \"xaxis\": \"x\", \"y\": [\"Flood\"], \"yaxis\": \"y\", \"type\": \"bar\"}, {\"alignmentgroup\": \"True\", \"hovertemplate\": \"Entity=%{y}<br>Year=1999<br>Deaths=%{x}<extra></extra>\", \"legendgroup\": \"Landslide\", \"marker\": {\"color\": \"#B6E880\"}, \"name\": \"Landslide\", \"offsetgroup\": \"Landslide\", \"orientation\": \"h\", \"showlegend\": true, \"textposition\": \"auto\", \"x\": [445], \"xaxis\": \"x\", \"y\": [\"Landslide\"], \"yaxis\": \"y\", \"type\": \"bar\"}, {\"alignmentgroup\": \"True\", \"hovertemplate\": \"Entity=%{y}<br>Year=1999<br>Deaths=%{x}<extra></extra>\", \"legendgroup\": \"Wildfire\", \"marker\": {\"color\": \"#636efa\"}, \"name\": \"Wildfire\", \"offsetgroup\": \"Wildfire\", \"orientation\": \"h\", \"showlegend\": true, \"textposition\": \"auto\", \"x\": [70], \"xaxis\": \"x\", \"y\": [\"Wildfire\"], \"yaxis\": \"y\", \"type\": \"bar\"}], \"name\": \"1999\"}, {\"data\": [{\"alignmentgroup\": \"True\", \"hovertemplate\": \"Entity=%{y}<br>Year=2000<br>Deaths=%{x}<extra></extra>\", \"legendgroup\": \"All natural disasters\", \"marker\": {\"color\": \"#636efa\"}, \"name\": \"All natural disasters\", \"offsetgroup\": \"All natural disasters\", \"orientation\": \"h\", \"showlegend\": true, \"textposition\": \"auto\", \"x\": [16667], \"xaxis\": \"x\", \"y\": [\"All natural disasters\"], \"yaxis\": \"y\", \"type\": \"bar\"}, {\"alignmentgroup\": \"True\", \"hovertemplate\": \"Entity=%{y}<br>Year=2000<br>Deaths=%{x}<extra></extra>\", \"legendgroup\": \"Drought\", \"marker\": {\"color\": \"#EF553B\"}, \"name\": \"Drought\", \"offsetgroup\": \"Drought\", \"orientation\": \"h\", \"showlegend\": true, \"textposition\": \"auto\", \"x\": [80], \"xaxis\": \"x\", \"y\": [\"Drought\"], \"yaxis\": \"y\", \"type\": \"bar\"}, {\"alignmentgroup\": \"True\", \"hovertemplate\": \"Entity=%{y}<br>Year=2000<br>Deaths=%{x}<extra></extra>\", \"legendgroup\": \"Earthquake\", \"marker\": {\"color\": \"#00cc96\"}, \"name\": \"Earthquake\", \"offsetgroup\": \"Earthquake\", \"orientation\": \"h\", \"showlegend\": true, \"textposition\": \"auto\", \"x\": [217], \"xaxis\": \"x\", \"y\": [\"Earthquake\"], \"yaxis\": \"y\", \"type\": \"bar\"}, {\"alignmentgroup\": \"True\", \"hovertemplate\": \"Entity=%{y}<br>Year=2000<br>Deaths=%{x}<extra></extra>\", \"legendgroup\": \"Epidemic\", \"marker\": {\"color\": \"#ab63fa\"}, \"name\": \"Epidemic\", \"offsetgroup\": \"Epidemic\", \"orientation\": \"h\", \"showlegend\": true, \"textposition\": \"auto\", \"x\": [6980], \"xaxis\": \"x\", \"y\": [\"Epidemic\"], \"yaxis\": \"y\", \"type\": \"bar\"}, {\"alignmentgroup\": \"True\", \"hovertemplate\": \"Entity=%{y}<br>Year=2000<br>Deaths=%{x}<extra></extra>\", \"legendgroup\": \"Extreme temperature\", \"marker\": {\"color\": \"#FFA15A\"}, \"name\": \"Extreme temperature\", \"offsetgroup\": \"Extreme temperature\", \"orientation\": \"h\", \"showlegend\": true, \"textposition\": \"auto\", \"x\": [941], \"xaxis\": \"x\", \"y\": [\"Extreme temperature\"], \"yaxis\": \"y\", \"type\": \"bar\"}, {\"alignmentgroup\": \"True\", \"hovertemplate\": \"Entity=%{y}<br>Year=2000<br>Deaths=%{x}<extra></extra>\", \"legendgroup\": \"Extreme weather\", \"marker\": {\"color\": \"#19d3f3\"}, \"name\": \"Extreme weather\", \"offsetgroup\": \"Extreme weather\", \"orientation\": \"h\", \"showlegend\": true, \"textposition\": \"auto\", \"x\": [1354], \"xaxis\": \"x\", \"y\": [\"Extreme weather\"], \"yaxis\": \"y\", \"type\": \"bar\"}, {\"alignmentgroup\": \"True\", \"hovertemplate\": \"Entity=%{y}<br>Year=2000<br>Deaths=%{x}<extra></extra>\", \"legendgroup\": \"Flood\", \"marker\": {\"color\": \"#FF6692\"}, \"name\": \"Flood\", \"offsetgroup\": \"Flood\", \"orientation\": \"h\", \"showlegend\": true, \"textposition\": \"auto\", \"x\": [6025], \"xaxis\": \"x\", \"y\": [\"Flood\"], \"yaxis\": \"y\", \"type\": \"bar\"}, {\"alignmentgroup\": \"True\", \"hovertemplate\": \"Entity=%{y}<br>Year=2000<br>Deaths=%{x}<extra></extra>\", \"legendgroup\": \"Landslide\", \"marker\": {\"color\": \"#B6E880\"}, \"name\": \"Landslide\", \"offsetgroup\": \"Landslide\", \"orientation\": \"h\", \"showlegend\": true, \"textposition\": \"auto\", \"x\": [1012], \"xaxis\": \"x\", \"y\": [\"Landslide\"], \"yaxis\": \"y\", \"type\": \"bar\"}, {\"alignmentgroup\": \"True\", \"hovertemplate\": \"Entity=%{y}<br>Year=2000<br>Deaths=%{x}<extra></extra>\", \"legendgroup\": \"Mass movement (dry)\", \"marker\": {\"color\": \"#FF97FF\"}, \"name\": \"Mass movement (dry)\", \"offsetgroup\": \"Mass movement (dry)\", \"orientation\": \"h\", \"showlegend\": true, \"textposition\": \"auto\", \"x\": [11], \"xaxis\": \"x\", \"y\": [\"Mass movement (dry)\"], \"yaxis\": \"y\", \"type\": \"bar\"}, {\"alignmentgroup\": \"True\", \"hovertemplate\": \"Entity=%{y}<br>Year=2000<br>Deaths=%{x}<extra></extra>\", \"legendgroup\": \"Wildfire\", \"marker\": {\"color\": \"#636efa\"}, \"name\": \"Wildfire\", \"offsetgroup\": \"Wildfire\", \"orientation\": \"h\", \"showlegend\": true, \"textposition\": \"auto\", \"x\": [47], \"xaxis\": \"x\", \"y\": [\"Wildfire\"], \"yaxis\": \"y\", \"type\": \"bar\"}], \"name\": \"2000\"}, {\"data\": [{\"alignmentgroup\": \"True\", \"hovertemplate\": \"Entity=%{y}<br>Year=2001<br>Deaths=%{x}<extra></extra>\", \"legendgroup\": \"All natural disasters\", \"marker\": {\"color\": \"#636efa\"}, \"name\": \"All natural disasters\", \"offsetgroup\": \"All natural disasters\", \"orientation\": \"h\", \"showlegend\": true, \"textposition\": \"auto\", \"x\": [39493], \"xaxis\": \"x\", \"y\": [\"All natural disasters\"], \"yaxis\": \"y\", \"type\": \"bar\"}, {\"alignmentgroup\": \"True\", \"hovertemplate\": \"Entity=%{y}<br>Year=2001<br>Deaths=%{x}<extra></extra>\", \"legendgroup\": \"Drought\", \"marker\": {\"color\": \"#EF553B\"}, \"name\": \"Drought\", \"offsetgroup\": \"Drought\", \"orientation\": \"h\", \"showlegend\": true, \"textposition\": \"auto\", \"x\": [99], \"xaxis\": \"x\", \"y\": [\"Drought\"], \"yaxis\": \"y\", \"type\": \"bar\"}, {\"alignmentgroup\": \"True\", \"hovertemplate\": \"Entity=%{y}<br>Year=2001<br>Deaths=%{x}<extra></extra>\", \"legendgroup\": \"Earthquake\", \"marker\": {\"color\": \"#00cc96\"}, \"name\": \"Earthquake\", \"offsetgroup\": \"Earthquake\", \"orientation\": \"h\", \"showlegend\": true, \"textposition\": \"auto\", \"x\": [21348], \"xaxis\": \"x\", \"y\": [\"Earthquake\"], \"yaxis\": \"y\", \"type\": \"bar\"}, {\"alignmentgroup\": \"True\", \"hovertemplate\": \"Entity=%{y}<br>Year=2001<br>Deaths=%{x}<extra></extra>\", \"legendgroup\": \"Epidemic\", \"marker\": {\"color\": \"#ab63fa\"}, \"name\": \"Epidemic\", \"offsetgroup\": \"Epidemic\", \"orientation\": \"h\", \"showlegend\": true, \"textposition\": \"auto\", \"x\": [8515], \"xaxis\": \"x\", \"y\": [\"Epidemic\"], \"yaxis\": \"y\", \"type\": \"bar\"}, {\"alignmentgroup\": \"True\", \"hovertemplate\": \"Entity=%{y}<br>Year=2001<br>Deaths=%{x}<extra></extra>\", \"legendgroup\": \"Extreme temperature\", \"marker\": {\"color\": \"#FFA15A\"}, \"name\": \"Extreme temperature\", \"offsetgroup\": \"Extreme temperature\", \"orientation\": \"h\", \"showlegend\": true, \"textposition\": \"auto\", \"x\": [1787], \"xaxis\": \"x\", \"y\": [\"Extreme temperature\"], \"yaxis\": \"y\", \"type\": \"bar\"}, {\"alignmentgroup\": \"True\", \"hovertemplate\": \"Entity=%{y}<br>Year=2001<br>Deaths=%{x}<extra></extra>\", \"legendgroup\": \"Extreme weather\", \"marker\": {\"color\": \"#19d3f3\"}, \"name\": \"Extreme weather\", \"offsetgroup\": \"Extreme weather\", \"orientation\": \"h\", \"showlegend\": true, \"textposition\": \"auto\", \"x\": [1911], \"xaxis\": \"x\", \"y\": [\"Extreme weather\"], \"yaxis\": \"y\", \"type\": \"bar\"}, {\"alignmentgroup\": \"True\", \"hovertemplate\": \"Entity=%{y}<br>Year=2001<br>Deaths=%{x}<extra></extra>\", \"legendgroup\": \"Flood\", \"marker\": {\"color\": \"#FF6692\"}, \"name\": \"Flood\", \"offsetgroup\": \"Flood\", \"orientation\": \"h\", \"showlegend\": true, \"textposition\": \"auto\", \"x\": [5014], \"xaxis\": \"x\", \"y\": [\"Flood\"], \"yaxis\": \"y\", \"type\": \"bar\"}, {\"alignmentgroup\": \"True\", \"hovertemplate\": \"Entity=%{y}<br>Year=2001<br>Deaths=%{x}<extra></extra>\", \"legendgroup\": \"Landslide\", \"marker\": {\"color\": \"#B6E880\"}, \"name\": \"Landslide\", \"offsetgroup\": \"Landslide\", \"orientation\": \"h\", \"showlegend\": true, \"textposition\": \"auto\", \"x\": [786], \"xaxis\": \"x\", \"y\": [\"Landslide\"], \"yaxis\": \"y\", \"type\": \"bar\"}, {\"alignmentgroup\": \"True\", \"hovertemplate\": \"Entity=%{y}<br>Year=2001<br>Deaths=%{x}<extra></extra>\", \"legendgroup\": \"Wildfire\", \"marker\": {\"color\": \"#636efa\"}, \"name\": \"Wildfire\", \"offsetgroup\": \"Wildfire\", \"orientation\": \"h\", \"showlegend\": true, \"textposition\": \"auto\", \"x\": [33], \"xaxis\": \"x\", \"y\": [\"Wildfire\"], \"yaxis\": \"y\", \"type\": \"bar\"}], \"name\": \"2001\"}, {\"data\": [{\"alignmentgroup\": \"True\", \"hovertemplate\": \"Entity=%{y}<br>Year=2002<br>Deaths=%{x}<extra></extra>\", \"legendgroup\": \"All natural disasters\", \"marker\": {\"color\": \"#636efa\"}, \"name\": \"All natural disasters\", \"offsetgroup\": \"All natural disasters\", \"orientation\": \"h\", \"showlegend\": true, \"textposition\": \"auto\", \"x\": [21342], \"xaxis\": \"x\", \"y\": [\"All natural disasters\"], \"yaxis\": \"y\", \"type\": \"bar\"}, {\"alignmentgroup\": \"True\", \"hovertemplate\": \"Entity=%{y}<br>Year=2002<br>Deaths=%{x}<extra></extra>\", \"legendgroup\": \"Drought\", \"marker\": {\"color\": \"#EF553B\"}, \"name\": \"Drought\", \"offsetgroup\": \"Drought\", \"orientation\": \"h\", \"showlegend\": true, \"textposition\": \"auto\", \"x\": [588], \"xaxis\": \"x\", \"y\": [\"Drought\"], \"yaxis\": \"y\", \"type\": \"bar\"}, {\"alignmentgroup\": \"True\", \"hovertemplate\": \"Entity=%{y}<br>Year=2002<br>Deaths=%{x}<extra></extra>\", \"legendgroup\": \"Earthquake\", \"marker\": {\"color\": \"#00cc96\"}, \"name\": \"Earthquake\", \"offsetgroup\": \"Earthquake\", \"orientation\": \"h\", \"showlegend\": true, \"textposition\": \"auto\", \"x\": [1639], \"xaxis\": \"x\", \"y\": [\"Earthquake\"], \"yaxis\": \"y\", \"type\": \"bar\"}, {\"alignmentgroup\": \"True\", \"hovertemplate\": \"Entity=%{y}<br>Year=2002<br>Deaths=%{x}<extra></extra>\", \"legendgroup\": \"Epidemic\", \"marker\": {\"color\": \"#ab63fa\"}, \"name\": \"Epidemic\", \"offsetgroup\": \"Epidemic\", \"orientation\": \"h\", \"showlegend\": true, \"textposition\": \"auto\", \"x\": [8762], \"xaxis\": \"x\", \"y\": [\"Epidemic\"], \"yaxis\": \"y\", \"type\": \"bar\"}, {\"alignmentgroup\": \"True\", \"hovertemplate\": \"Entity=%{y}<br>Year=2002<br>Deaths=%{x}<extra></extra>\", \"legendgroup\": \"Extreme temperature\", \"marker\": {\"color\": \"#FFA15A\"}, \"name\": \"Extreme temperature\", \"offsetgroup\": \"Extreme temperature\", \"orientation\": \"h\", \"showlegend\": true, \"textposition\": \"auto\", \"x\": [3369], \"xaxis\": \"x\", \"y\": [\"Extreme temperature\"], \"yaxis\": \"y\", \"type\": \"bar\"}, {\"alignmentgroup\": \"True\", \"hovertemplate\": \"Entity=%{y}<br>Year=2002<br>Deaths=%{x}<extra></extra>\", \"legendgroup\": \"Extreme weather\", \"marker\": {\"color\": \"#19d3f3\"}, \"name\": \"Extreme weather\", \"offsetgroup\": \"Extreme weather\", \"orientation\": \"h\", \"showlegend\": true, \"textposition\": \"auto\", \"x\": [1382], \"xaxis\": \"x\", \"y\": [\"Extreme weather\"], \"yaxis\": \"y\", \"type\": \"bar\"}, {\"alignmentgroup\": \"True\", \"hovertemplate\": \"Entity=%{y}<br>Year=2002<br>Deaths=%{x}<extra></extra>\", \"legendgroup\": \"Flood\", \"marker\": {\"color\": \"#FF6692\"}, \"name\": \"Flood\", \"offsetgroup\": \"Flood\", \"orientation\": \"h\", \"showlegend\": true, \"textposition\": \"auto\", \"x\": [4236], \"xaxis\": \"x\", \"y\": [\"Flood\"], \"yaxis\": \"y\", \"type\": \"bar\"}, {\"alignmentgroup\": \"True\", \"hovertemplate\": \"Entity=%{y}<br>Year=2002<br>Deaths=%{x}<extra></extra>\", \"legendgroup\": \"Landslide\", \"marker\": {\"color\": \"#B6E880\"}, \"name\": \"Landslide\", \"offsetgroup\": \"Landslide\", \"orientation\": \"h\", \"showlegend\": true, \"textposition\": \"auto\", \"x\": [1100], \"xaxis\": \"x\", \"y\": [\"Landslide\"], \"yaxis\": \"y\", \"type\": \"bar\"}, {\"alignmentgroup\": \"True\", \"hovertemplate\": \"Entity=%{y}<br>Year=2002<br>Deaths=%{x}<extra></extra>\", \"legendgroup\": \"Mass movement (dry)\", \"marker\": {\"color\": \"#FF97FF\"}, \"name\": \"Mass movement (dry)\", \"offsetgroup\": \"Mass movement (dry)\", \"orientation\": \"h\", \"showlegend\": true, \"textposition\": \"auto\", \"x\": [60], \"xaxis\": \"x\", \"y\": [\"Mass movement (dry)\"], \"yaxis\": \"y\", \"type\": \"bar\"}, {\"alignmentgroup\": \"True\", \"hovertemplate\": \"Entity=%{y}<br>Year=2002<br>Deaths=%{x}<extra></extra>\", \"legendgroup\": \"Volcanic activity\", \"marker\": {\"color\": \"#FECB52\"}, \"name\": \"Volcanic activity\", \"offsetgroup\": \"Volcanic activity\", \"orientation\": \"h\", \"showlegend\": true, \"textposition\": \"auto\", \"x\": [200], \"xaxis\": \"x\", \"y\": [\"Volcanic activity\"], \"yaxis\": \"y\", \"type\": \"bar\"}, {\"alignmentgroup\": \"True\", \"hovertemplate\": \"Entity=%{y}<br>Year=2002<br>Deaths=%{x}<extra></extra>\", \"legendgroup\": \"Wildfire\", \"marker\": {\"color\": \"#636efa\"}, \"name\": \"Wildfire\", \"offsetgroup\": \"Wildfire\", \"orientation\": \"h\", \"showlegend\": true, \"textposition\": \"auto\", \"x\": [6], \"xaxis\": \"x\", \"y\": [\"Wildfire\"], \"yaxis\": \"y\", \"type\": \"bar\"}], \"name\": \"2002\"}, {\"data\": [{\"alignmentgroup\": \"True\", \"hovertemplate\": \"Entity=%{y}<br>Year=2003<br>Deaths=%{x}<extra></extra>\", \"legendgroup\": \"All natural disasters\", \"marker\": {\"color\": \"#636efa\"}, \"name\": \"All natural disasters\", \"offsetgroup\": \"All natural disasters\", \"orientation\": \"h\", \"showlegend\": true, \"textposition\": \"auto\", \"x\": [113558], \"xaxis\": \"x\", \"y\": [\"All natural disasters\"], \"yaxis\": \"y\", \"type\": \"bar\"}, {\"alignmentgroup\": \"True\", \"hovertemplate\": \"Entity=%{y}<br>Year=2003<br>Deaths=%{x}<extra></extra>\", \"legendgroup\": \"Drought\", \"marker\": {\"color\": \"#EF553B\"}, \"name\": \"Drought\", \"offsetgroup\": \"Drought\", \"orientation\": \"h\", \"showlegend\": true, \"textposition\": \"auto\", \"x\": [9], \"xaxis\": \"x\", \"y\": [\"Drought\"], \"yaxis\": \"y\", \"type\": \"bar\"}, {\"alignmentgroup\": \"True\", \"hovertemplate\": \"Entity=%{y}<br>Year=2003<br>Deaths=%{x}<extra></extra>\", \"legendgroup\": \"Earthquake\", \"marker\": {\"color\": \"#00cc96\"}, \"name\": \"Earthquake\", \"offsetgroup\": \"Earthquake\", \"orientation\": \"h\", \"showlegend\": true, \"textposition\": \"auto\", \"x\": [29617], \"xaxis\": \"x\", \"y\": [\"Earthquake\"], \"yaxis\": \"y\", \"type\": \"bar\"}, {\"alignmentgroup\": \"True\", \"hovertemplate\": \"Entity=%{y}<br>Year=2003<br>Deaths=%{x}<extra></extra>\", \"legendgroup\": \"Epidemic\", \"marker\": {\"color\": \"#ab63fa\"}, \"name\": \"Epidemic\", \"offsetgroup\": \"Epidemic\", \"orientation\": \"h\", \"showlegend\": true, \"textposition\": \"auto\", \"x\": [3522], \"xaxis\": \"x\", \"y\": [\"Epidemic\"], \"yaxis\": \"y\", \"type\": \"bar\"}, {\"alignmentgroup\": \"True\", \"hovertemplate\": \"Entity=%{y}<br>Year=2003<br>Deaths=%{x}<extra></extra>\", \"legendgroup\": \"Extreme temperature\", \"marker\": {\"color\": \"#FFA15A\"}, \"name\": \"Extreme temperature\", \"offsetgroup\": \"Extreme temperature\", \"orientation\": \"h\", \"showlegend\": true, \"textposition\": \"auto\", \"x\": [74698], \"xaxis\": \"x\", \"y\": [\"Extreme temperature\"], \"yaxis\": \"y\", \"type\": \"bar\"}, {\"alignmentgroup\": \"True\", \"hovertemplate\": \"Entity=%{y}<br>Year=2003<br>Deaths=%{x}<extra></extra>\", \"legendgroup\": \"Extreme weather\", \"marker\": {\"color\": \"#19d3f3\"}, \"name\": \"Extreme weather\", \"offsetgroup\": \"Extreme weather\", \"orientation\": \"h\", \"showlegend\": true, \"textposition\": \"auto\", \"x\": [1049], \"xaxis\": \"x\", \"y\": [\"Extreme weather\"], \"yaxis\": \"y\", \"type\": \"bar\"}, {\"alignmentgroup\": \"True\", \"hovertemplate\": \"Entity=%{y}<br>Year=2003<br>Deaths=%{x}<extra></extra>\", \"legendgroup\": \"Flood\", \"marker\": {\"color\": \"#FF6692\"}, \"name\": \"Flood\", \"offsetgroup\": \"Flood\", \"orientation\": \"h\", \"showlegend\": true, \"textposition\": \"auto\", \"x\": [3910], \"xaxis\": \"x\", \"y\": [\"Flood\"], \"yaxis\": \"y\", \"type\": \"bar\"}, {\"alignmentgroup\": \"True\", \"hovertemplate\": \"Entity=%{y}<br>Year=2003<br>Deaths=%{x}<extra></extra>\", \"legendgroup\": \"Landslide\", \"marker\": {\"color\": \"#B6E880\"}, \"name\": \"Landslide\", \"offsetgroup\": \"Landslide\", \"orientation\": \"h\", \"showlegend\": true, \"textposition\": \"auto\", \"x\": [706], \"xaxis\": \"x\", \"y\": [\"Landslide\"], \"yaxis\": \"y\", \"type\": \"bar\"}, {\"alignmentgroup\": \"True\", \"hovertemplate\": \"Entity=%{y}<br>Year=2003<br>Deaths=%{x}<extra></extra>\", \"legendgroup\": \"Wildfire\", \"marker\": {\"color\": \"#636efa\"}, \"name\": \"Wildfire\", \"offsetgroup\": \"Wildfire\", \"orientation\": \"h\", \"showlegend\": true, \"textposition\": \"auto\", \"x\": [47], \"xaxis\": \"x\", \"y\": [\"Wildfire\"], \"yaxis\": \"y\", \"type\": \"bar\"}], \"name\": \"2003\"}, {\"data\": [{\"alignmentgroup\": \"True\", \"hovertemplate\": \"Entity=%{y}<br>Year=2004<br>Deaths=%{x}<extra></extra>\", \"legendgroup\": \"All natural disasters\", \"marker\": {\"color\": \"#636efa\"}, \"name\": \"All natural disasters\", \"offsetgroup\": \"All natural disasters\", \"orientation\": \"h\", \"showlegend\": true, \"textposition\": \"auto\", \"x\": [244772], \"xaxis\": \"x\", \"y\": [\"All natural disasters\"], \"yaxis\": \"y\", \"type\": \"bar\"}, {\"alignmentgroup\": \"True\", \"hovertemplate\": \"Entity=%{y}<br>Year=2004<br>Deaths=%{x}<extra></extra>\", \"legendgroup\": \"Drought\", \"marker\": {\"color\": \"#EF553B\"}, \"name\": \"Drought\", \"offsetgroup\": \"Drought\", \"orientation\": \"h\", \"showlegend\": true, \"textposition\": \"auto\", \"x\": [80], \"xaxis\": \"x\", \"y\": [\"Drought\"], \"yaxis\": \"y\", \"type\": \"bar\"}, {\"alignmentgroup\": \"True\", \"hovertemplate\": \"Entity=%{y}<br>Year=2004<br>Deaths=%{x}<extra></extra>\", \"legendgroup\": \"Earthquake\", \"marker\": {\"color\": \"#00cc96\"}, \"name\": \"Earthquake\", \"offsetgroup\": \"Earthquake\", \"orientation\": \"h\", \"showlegend\": true, \"textposition\": \"auto\", \"x\": [227290], \"xaxis\": \"x\", \"y\": [\"Earthquake\"], \"yaxis\": \"y\", \"type\": \"bar\"}, {\"alignmentgroup\": \"True\", \"hovertemplate\": \"Entity=%{y}<br>Year=2004<br>Deaths=%{x}<extra></extra>\", \"legendgroup\": \"Epidemic\", \"marker\": {\"color\": \"#ab63fa\"}, \"name\": \"Epidemic\", \"offsetgroup\": \"Epidemic\", \"orientation\": \"h\", \"showlegend\": true, \"textposition\": \"auto\", \"x\": [3245], \"xaxis\": \"x\", \"y\": [\"Epidemic\"], \"yaxis\": \"y\", \"type\": \"bar\"}, {\"alignmentgroup\": \"True\", \"hovertemplate\": \"Entity=%{y}<br>Year=2004<br>Deaths=%{x}<extra></extra>\", \"legendgroup\": \"Extreme temperature\", \"marker\": {\"color\": \"#FFA15A\"}, \"name\": \"Extreme temperature\", \"offsetgroup\": \"Extreme temperature\", \"orientation\": \"h\", \"showlegend\": true, \"textposition\": \"auto\", \"x\": [255], \"xaxis\": \"x\", \"y\": [\"Extreme temperature\"], \"yaxis\": \"y\", \"type\": \"bar\"}, {\"alignmentgroup\": \"True\", \"hovertemplate\": \"Entity=%{y}<br>Year=2004<br>Deaths=%{x}<extra></extra>\", \"legendgroup\": \"Extreme weather\", \"marker\": {\"color\": \"#19d3f3\"}, \"name\": \"Extreme weather\", \"offsetgroup\": \"Extreme weather\", \"orientation\": \"h\", \"showlegend\": true, \"textposition\": \"auto\", \"x\": [6547], \"xaxis\": \"x\", \"y\": [\"Extreme weather\"], \"yaxis\": \"y\", \"type\": \"bar\"}, {\"alignmentgroup\": \"True\", \"hovertemplate\": \"Entity=%{y}<br>Year=2004<br>Deaths=%{x}<extra></extra>\", \"legendgroup\": \"Flood\", \"marker\": {\"color\": \"#FF6692\"}, \"name\": \"Flood\", \"offsetgroup\": \"Flood\", \"orientation\": \"h\", \"showlegend\": true, \"textposition\": \"auto\", \"x\": [6982], \"xaxis\": \"x\", \"y\": [\"Flood\"], \"yaxis\": \"y\", \"type\": \"bar\"}, {\"alignmentgroup\": \"True\", \"hovertemplate\": \"Entity=%{y}<br>Year=2004<br>Deaths=%{x}<extra></extra>\", \"legendgroup\": \"Landslide\", \"marker\": {\"color\": \"#B6E880\"}, \"name\": \"Landslide\", \"offsetgroup\": \"Landslide\", \"orientation\": \"h\", \"showlegend\": true, \"textposition\": \"auto\", \"x\": [313], \"xaxis\": \"x\", \"y\": [\"Landslide\"], \"yaxis\": \"y\", \"type\": \"bar\"}, {\"alignmentgroup\": \"True\", \"hovertemplate\": \"Entity=%{y}<br>Year=2004<br>Deaths=%{x}<extra></extra>\", \"legendgroup\": \"Mass movement (dry)\", \"marker\": {\"color\": \"#FF97FF\"}, \"name\": \"Mass movement (dry)\", \"offsetgroup\": \"Mass movement (dry)\", \"orientation\": \"h\", \"showlegend\": true, \"textposition\": \"auto\", \"x\": [44], \"xaxis\": \"x\", \"y\": [\"Mass movement (dry)\"], \"yaxis\": \"y\", \"type\": \"bar\"}, {\"alignmentgroup\": \"True\", \"hovertemplate\": \"Entity=%{y}<br>Year=2004<br>Deaths=%{x}<extra></extra>\", \"legendgroup\": \"Volcanic activity\", \"marker\": {\"color\": \"#FECB52\"}, \"name\": \"Volcanic activity\", \"offsetgroup\": \"Volcanic activity\", \"orientation\": \"h\", \"showlegend\": true, \"textposition\": \"auto\", \"x\": [2], \"xaxis\": \"x\", \"y\": [\"Volcanic activity\"], \"yaxis\": \"y\", \"type\": \"bar\"}, {\"alignmentgroup\": \"True\", \"hovertemplate\": \"Entity=%{y}<br>Year=2004<br>Deaths=%{x}<extra></extra>\", \"legendgroup\": \"Wildfire\", \"marker\": {\"color\": \"#636efa\"}, \"name\": \"Wildfire\", \"offsetgroup\": \"Wildfire\", \"orientation\": \"h\", \"showlegend\": true, \"textposition\": \"auto\", \"x\": [14], \"xaxis\": \"x\", \"y\": [\"Wildfire\"], \"yaxis\": \"y\", \"type\": \"bar\"}], \"name\": \"2004\"}, {\"data\": [{\"alignmentgroup\": \"True\", \"hovertemplate\": \"Entity=%{y}<br>Year=2005<br>Deaths=%{x}<extra></extra>\", \"legendgroup\": \"All natural disasters\", \"marker\": {\"color\": \"#636efa\"}, \"name\": \"All natural disasters\", \"offsetgroup\": \"All natural disasters\", \"orientation\": \"h\", \"showlegend\": true, \"textposition\": \"auto\", \"x\": [93566], \"xaxis\": \"x\", \"y\": [\"All natural disasters\"], \"yaxis\": \"y\", \"type\": \"bar\"}, {\"alignmentgroup\": \"True\", \"hovertemplate\": \"Entity=%{y}<br>Year=2005<br>Deaths=%{x}<extra></extra>\", \"legendgroup\": \"Drought\", \"marker\": {\"color\": \"#EF553B\"}, \"name\": \"Drought\", \"offsetgroup\": \"Drought\", \"orientation\": \"h\", \"showlegend\": true, \"textposition\": \"auto\", \"x\": [149], \"xaxis\": \"x\", \"y\": [\"Drought\"], \"yaxis\": \"y\", \"type\": \"bar\"}, {\"alignmentgroup\": \"True\", \"hovertemplate\": \"Entity=%{y}<br>Year=2005<br>Deaths=%{x}<extra></extra>\", \"legendgroup\": \"Earthquake\", \"marker\": {\"color\": \"#00cc96\"}, \"name\": \"Earthquake\", \"offsetgroup\": \"Earthquake\", \"orientation\": \"h\", \"showlegend\": true, \"textposition\": \"auto\", \"x\": [76241], \"xaxis\": \"x\", \"y\": [\"Earthquake\"], \"yaxis\": \"y\", \"type\": \"bar\"}, {\"alignmentgroup\": \"True\", \"hovertemplate\": \"Entity=%{y}<br>Year=2005<br>Deaths=%{x}<extra></extra>\", \"legendgroup\": \"Epidemic\", \"marker\": {\"color\": \"#ab63fa\"}, \"name\": \"Epidemic\", \"offsetgroup\": \"Epidemic\", \"orientation\": \"h\", \"showlegend\": true, \"textposition\": \"auto\", \"x\": [3909], \"xaxis\": \"x\", \"y\": [\"Epidemic\"], \"yaxis\": \"y\", \"type\": \"bar\"}, {\"alignmentgroup\": \"True\", \"hovertemplate\": \"Entity=%{y}<br>Year=2005<br>Deaths=%{x}<extra></extra>\", \"legendgroup\": \"Extreme temperature\", \"marker\": {\"color\": \"#FFA15A\"}, \"name\": \"Extreme temperature\", \"offsetgroup\": \"Extreme temperature\", \"orientation\": \"h\", \"showlegend\": true, \"textposition\": \"auto\", \"x\": [1550], \"xaxis\": \"x\", \"y\": [\"Extreme temperature\"], \"yaxis\": \"y\", \"type\": \"bar\"}, {\"alignmentgroup\": \"True\", \"hovertemplate\": \"Entity=%{y}<br>Year=2005<br>Deaths=%{x}<extra></extra>\", \"legendgroup\": \"Extreme weather\", \"marker\": {\"color\": \"#19d3f3\"}, \"name\": \"Extreme weather\", \"offsetgroup\": \"Extreme weather\", \"orientation\": \"h\", \"showlegend\": true, \"textposition\": \"auto\", \"x\": [5251], \"xaxis\": \"x\", \"y\": [\"Extreme weather\"], \"yaxis\": \"y\", \"type\": \"bar\"}, {\"alignmentgroup\": \"True\", \"hovertemplate\": \"Entity=%{y}<br>Year=2005<br>Deaths=%{x}<extra></extra>\", \"legendgroup\": \"Flood\", \"marker\": {\"color\": \"#FF6692\"}, \"name\": \"Flood\", \"offsetgroup\": \"Flood\", \"orientation\": \"h\", \"showlegend\": true, \"textposition\": \"auto\", \"x\": [5754], \"xaxis\": \"x\", \"y\": [\"Flood\"], \"yaxis\": \"y\", \"type\": \"bar\"}, {\"alignmentgroup\": \"True\", \"hovertemplate\": \"Entity=%{y}<br>Year=2005<br>Deaths=%{x}<extra></extra>\", \"legendgroup\": \"Landslide\", \"marker\": {\"color\": \"#B6E880\"}, \"name\": \"Landslide\", \"offsetgroup\": \"Landslide\", \"orientation\": \"h\", \"showlegend\": true, \"textposition\": \"auto\", \"x\": [664], \"xaxis\": \"x\", \"y\": [\"Landslide\"], \"yaxis\": \"y\", \"type\": \"bar\"}, {\"alignmentgroup\": \"True\", \"hovertemplate\": \"Entity=%{y}<br>Year=2005<br>Deaths=%{x}<extra></extra>\", \"legendgroup\": \"Volcanic activity\", \"marker\": {\"color\": \"#FECB52\"}, \"name\": \"Volcanic activity\", \"offsetgroup\": \"Volcanic activity\", \"orientation\": \"h\", \"showlegend\": true, \"textposition\": \"auto\", \"x\": [3], \"xaxis\": \"x\", \"y\": [\"Volcanic activity\"], \"yaxis\": \"y\", \"type\": \"bar\"}, {\"alignmentgroup\": \"True\", \"hovertemplate\": \"Entity=%{y}<br>Year=2005<br>Deaths=%{x}<extra></extra>\", \"legendgroup\": \"Wildfire\", \"marker\": {\"color\": \"#636efa\"}, \"name\": \"Wildfire\", \"offsetgroup\": \"Wildfire\", \"orientation\": \"h\", \"showlegend\": true, \"textposition\": \"auto\", \"x\": [45], \"xaxis\": \"x\", \"y\": [\"Wildfire\"], \"yaxis\": \"y\", \"type\": \"bar\"}], \"name\": \"2005\"}, {\"data\": [{\"alignmentgroup\": \"True\", \"hovertemplate\": \"Entity=%{y}<br>Year=2006<br>Deaths=%{x}<extra></extra>\", \"legendgroup\": \"All natural disasters\", \"marker\": {\"color\": \"#636efa\"}, \"name\": \"All natural disasters\", \"offsetgroup\": \"All natural disasters\", \"orientation\": \"h\", \"showlegend\": true, \"textposition\": \"auto\", \"x\": [29893], \"xaxis\": \"x\", \"y\": [\"All natural disasters\"], \"yaxis\": \"y\", \"type\": \"bar\"}, {\"alignmentgroup\": \"True\", \"hovertemplate\": \"Entity=%{y}<br>Year=2006<br>Deaths=%{x}<extra></extra>\", \"legendgroup\": \"Drought\", \"marker\": {\"color\": \"#EF553B\"}, \"name\": \"Drought\", \"offsetgroup\": \"Drought\", \"orientation\": \"h\", \"showlegend\": true, \"textposition\": \"auto\", \"x\": [134], \"xaxis\": \"x\", \"y\": [\"Drought\"], \"yaxis\": \"y\", \"type\": \"bar\"}, {\"alignmentgroup\": \"True\", \"hovertemplate\": \"Entity=%{y}<br>Year=2006<br>Deaths=%{x}<extra></extra>\", \"legendgroup\": \"Earthquake\", \"marker\": {\"color\": \"#00cc96\"}, \"name\": \"Earthquake\", \"offsetgroup\": \"Earthquake\", \"orientation\": \"h\", \"showlegend\": true, \"textposition\": \"auto\", \"x\": [6692], \"xaxis\": \"x\", \"y\": [\"Earthquake\"], \"yaxis\": \"y\", \"type\": \"bar\"}, {\"alignmentgroup\": \"True\", \"hovertemplate\": \"Entity=%{y}<br>Year=2006<br>Deaths=%{x}<extra></extra>\", \"legendgroup\": \"Epidemic\", \"marker\": {\"color\": \"#ab63fa\"}, \"name\": \"Epidemic\", \"offsetgroup\": \"Epidemic\", \"orientation\": \"h\", \"showlegend\": true, \"textposition\": \"auto\", \"x\": [6402], \"xaxis\": \"x\", \"y\": [\"Epidemic\"], \"yaxis\": \"y\", \"type\": \"bar\"}, {\"alignmentgroup\": \"True\", \"hovertemplate\": \"Entity=%{y}<br>Year=2006<br>Deaths=%{x}<extra></extra>\", \"legendgroup\": \"Extreme temperature\", \"marker\": {\"color\": \"#FFA15A\"}, \"name\": \"Extreme temperature\", \"offsetgroup\": \"Extreme temperature\", \"orientation\": \"h\", \"showlegend\": true, \"textposition\": \"auto\", \"x\": [4826], \"xaxis\": \"x\", \"y\": [\"Extreme temperature\"], \"yaxis\": \"y\", \"type\": \"bar\"}, {\"alignmentgroup\": \"True\", \"hovertemplate\": \"Entity=%{y}<br>Year=2006<br>Deaths=%{x}<extra></extra>\", \"legendgroup\": \"Extreme weather\", \"marker\": {\"color\": \"#19d3f3\"}, \"name\": \"Extreme weather\", \"offsetgroup\": \"Extreme weather\", \"orientation\": \"h\", \"showlegend\": true, \"textposition\": \"auto\", \"x\": [4329], \"xaxis\": \"x\", \"y\": [\"Extreme weather\"], \"yaxis\": \"y\", \"type\": \"bar\"}, {\"alignmentgroup\": \"True\", \"hovertemplate\": \"Entity=%{y}<br>Year=2006<br>Deaths=%{x}<extra></extra>\", \"legendgroup\": \"Flood\", \"marker\": {\"color\": \"#FF6692\"}, \"name\": \"Flood\", \"offsetgroup\": \"Flood\", \"orientation\": \"h\", \"showlegend\": true, \"textposition\": \"auto\", \"x\": [5843], \"xaxis\": \"x\", \"y\": [\"Flood\"], \"yaxis\": \"y\", \"type\": \"bar\"}, {\"alignmentgroup\": \"True\", \"hovertemplate\": \"Entity=%{y}<br>Year=2006<br>Deaths=%{x}<extra></extra>\", \"legendgroup\": \"Landslide\", \"marker\": {\"color\": \"#B6E880\"}, \"name\": \"Landslide\", \"offsetgroup\": \"Landslide\", \"orientation\": \"h\", \"showlegend\": true, \"textposition\": \"auto\", \"x\": [1638], \"xaxis\": \"x\", \"y\": [\"Landslide\"], \"yaxis\": \"y\", \"type\": \"bar\"}, {\"alignmentgroup\": \"True\", \"hovertemplate\": \"Entity=%{y}<br>Year=2006<br>Deaths=%{x}<extra></extra>\", \"legendgroup\": \"Mass movement (dry)\", \"marker\": {\"color\": \"#FF97FF\"}, \"name\": \"Mass movement (dry)\", \"offsetgroup\": \"Mass movement (dry)\", \"orientation\": \"h\", \"showlegend\": true, \"textposition\": \"auto\", \"x\": [11], \"xaxis\": \"x\", \"y\": [\"Mass movement (dry)\"], \"yaxis\": \"y\", \"type\": \"bar\"}, {\"alignmentgroup\": \"True\", \"hovertemplate\": \"Entity=%{y}<br>Year=2006<br>Deaths=%{x}<extra></extra>\", \"legendgroup\": \"Volcanic activity\", \"marker\": {\"color\": \"#FECB52\"}, \"name\": \"Volcanic activity\", \"offsetgroup\": \"Volcanic activity\", \"orientation\": \"h\", \"showlegend\": true, \"textposition\": \"auto\", \"x\": [5], \"xaxis\": \"x\", \"y\": [\"Volcanic activity\"], \"yaxis\": \"y\", \"type\": \"bar\"}, {\"alignmentgroup\": \"True\", \"hovertemplate\": \"Entity=%{y}<br>Year=2006<br>Deaths=%{x}<extra></extra>\", \"legendgroup\": \"Wildfire\", \"marker\": {\"color\": \"#636efa\"}, \"name\": \"Wildfire\", \"offsetgroup\": \"Wildfire\", \"orientation\": \"h\", \"showlegend\": true, \"textposition\": \"auto\", \"x\": [13], \"xaxis\": \"x\", \"y\": [\"Wildfire\"], \"yaxis\": \"y\", \"type\": \"bar\"}], \"name\": \"2006\"}, {\"data\": [{\"alignmentgroup\": \"True\", \"hovertemplate\": \"Entity=%{y}<br>Year=2007<br>Deaths=%{x}<extra></extra>\", \"legendgroup\": \"All natural disasters\", \"marker\": {\"color\": \"#636efa\"}, \"name\": \"All natural disasters\", \"offsetgroup\": \"All natural disasters\", \"orientation\": \"h\", \"showlegend\": true, \"textposition\": \"auto\", \"x\": [22422], \"xaxis\": \"x\", \"y\": [\"All natural disasters\"], \"yaxis\": \"y\", \"type\": \"bar\"}, {\"alignmentgroup\": \"True\", \"hovertemplate\": \"Entity=%{y}<br>Year=2007<br>Deaths=%{x}<extra></extra>\", \"legendgroup\": \"Earthquake\", \"marker\": {\"color\": \"#00cc96\"}, \"name\": \"Earthquake\", \"offsetgroup\": \"Earthquake\", \"orientation\": \"h\", \"showlegend\": true, \"textposition\": \"auto\", \"x\": [780], \"xaxis\": \"x\", \"y\": [\"Earthquake\"], \"yaxis\": \"y\", \"type\": \"bar\"}, {\"alignmentgroup\": \"True\", \"hovertemplate\": \"Entity=%{y}<br>Year=2007<br>Deaths=%{x}<extra></extra>\", \"legendgroup\": \"Epidemic\", \"marker\": {\"color\": \"#ab63fa\"}, \"name\": \"Epidemic\", \"offsetgroup\": \"Epidemic\", \"orientation\": \"h\", \"showlegend\": true, \"textposition\": \"auto\", \"x\": [5484], \"xaxis\": \"x\", \"y\": [\"Epidemic\"], \"yaxis\": \"y\", \"type\": \"bar\"}, {\"alignmentgroup\": \"True\", \"hovertemplate\": \"Entity=%{y}<br>Year=2007<br>Deaths=%{x}<extra></extra>\", \"legendgroup\": \"Extreme temperature\", \"marker\": {\"color\": \"#FFA15A\"}, \"name\": \"Extreme temperature\", \"offsetgroup\": \"Extreme temperature\", \"orientation\": \"h\", \"showlegend\": true, \"textposition\": \"auto\", \"x\": [1086], \"xaxis\": \"x\", \"y\": [\"Extreme temperature\"], \"yaxis\": \"y\", \"type\": \"bar\"}, {\"alignmentgroup\": \"True\", \"hovertemplate\": \"Entity=%{y}<br>Year=2007<br>Deaths=%{x}<extra></extra>\", \"legendgroup\": \"Extreme weather\", \"marker\": {\"color\": \"#19d3f3\"}, \"name\": \"Extreme weather\", \"offsetgroup\": \"Extreme weather\", \"orientation\": \"h\", \"showlegend\": true, \"textposition\": \"auto\", \"x\": [6035], \"xaxis\": \"x\", \"y\": [\"Extreme weather\"], \"yaxis\": \"y\", \"type\": \"bar\"}, {\"alignmentgroup\": \"True\", \"hovertemplate\": \"Entity=%{y}<br>Year=2007<br>Deaths=%{x}<extra></extra>\", \"legendgroup\": \"Flood\", \"marker\": {\"color\": \"#FF6692\"}, \"name\": \"Flood\", \"offsetgroup\": \"Flood\", \"orientation\": \"h\", \"showlegend\": true, \"textposition\": \"auto\", \"x\": [8607], \"xaxis\": \"x\", \"y\": [\"Flood\"], \"yaxis\": \"y\", \"type\": \"bar\"}, {\"alignmentgroup\": \"True\", \"hovertemplate\": \"Entity=%{y}<br>Year=2007<br>Deaths=%{x}<extra></extra>\", \"legendgroup\": \"Landslide\", \"marker\": {\"color\": \"#B6E880\"}, \"name\": \"Landslide\", \"offsetgroup\": \"Landslide\", \"orientation\": \"h\", \"showlegend\": true, \"textposition\": \"auto\", \"x\": [271], \"xaxis\": \"x\", \"y\": [\"Landslide\"], \"yaxis\": \"y\", \"type\": \"bar\"}, {\"alignmentgroup\": \"True\", \"hovertemplate\": \"Entity=%{y}<br>Year=2007<br>Deaths=%{x}<extra></extra>\", \"legendgroup\": \"Volcanic activity\", \"marker\": {\"color\": \"#FECB52\"}, \"name\": \"Volcanic activity\", \"offsetgroup\": \"Volcanic activity\", \"orientation\": \"h\", \"showlegend\": true, \"textposition\": \"auto\", \"x\": [11], \"xaxis\": \"x\", \"y\": [\"Volcanic activity\"], \"yaxis\": \"y\", \"type\": \"bar\"}, {\"alignmentgroup\": \"True\", \"hovertemplate\": \"Entity=%{y}<br>Year=2007<br>Deaths=%{x}<extra></extra>\", \"legendgroup\": \"Wildfire\", \"marker\": {\"color\": \"#636efa\"}, \"name\": \"Wildfire\", \"offsetgroup\": \"Wildfire\", \"orientation\": \"h\", \"showlegend\": true, \"textposition\": \"auto\", \"x\": [148], \"xaxis\": \"x\", \"y\": [\"Wildfire\"], \"yaxis\": \"y\", \"type\": \"bar\"}], \"name\": \"2007\"}, {\"data\": [{\"alignmentgroup\": \"True\", \"hovertemplate\": \"Entity=%{y}<br>Year=2008<br>Deaths=%{x}<extra></extra>\", \"legendgroup\": \"All natural disasters\", \"marker\": {\"color\": \"#636efa\"}, \"name\": \"All natural disasters\", \"offsetgroup\": \"All natural disasters\", \"orientation\": \"h\", \"showlegend\": true, \"textposition\": \"auto\", \"x\": [242236], \"xaxis\": \"x\", \"y\": [\"All natural disasters\"], \"yaxis\": \"y\", \"type\": \"bar\"}, {\"alignmentgroup\": \"True\", \"hovertemplate\": \"Entity=%{y}<br>Year=2008<br>Deaths=%{x}<extra></extra>\", \"legendgroup\": \"Drought\", \"marker\": {\"color\": \"#EF553B\"}, \"name\": \"Drought\", \"offsetgroup\": \"Drought\", \"orientation\": \"h\", \"showlegend\": true, \"textposition\": \"auto\", \"x\": [8], \"xaxis\": \"x\", \"y\": [\"Drought\"], \"yaxis\": \"y\", \"type\": \"bar\"}, {\"alignmentgroup\": \"True\", \"hovertemplate\": \"Entity=%{y}<br>Year=2008<br>Deaths=%{x}<extra></extra>\", \"legendgroup\": \"Earthquake\", \"marker\": {\"color\": \"#00cc96\"}, \"name\": \"Earthquake\", \"offsetgroup\": \"Earthquake\", \"orientation\": \"h\", \"showlegend\": true, \"textposition\": \"auto\", \"x\": [87918], \"xaxis\": \"x\", \"y\": [\"Earthquake\"], \"yaxis\": \"y\", \"type\": \"bar\"}, {\"alignmentgroup\": \"True\", \"hovertemplate\": \"Entity=%{y}<br>Year=2008<br>Deaths=%{x}<extra></extra>\", \"legendgroup\": \"Epidemic\", \"marker\": {\"color\": \"#ab63fa\"}, \"name\": \"Epidemic\", \"offsetgroup\": \"Epidemic\", \"orientation\": \"h\", \"showlegend\": true, \"textposition\": \"auto\", \"x\": [6904], \"xaxis\": \"x\", \"y\": [\"Epidemic\"], \"yaxis\": \"y\", \"type\": \"bar\"}, {\"alignmentgroup\": \"True\", \"hovertemplate\": \"Entity=%{y}<br>Year=2008<br>Deaths=%{x}<extra></extra>\", \"legendgroup\": \"Extreme temperature\", \"marker\": {\"color\": \"#FFA15A\"}, \"name\": \"Extreme temperature\", \"offsetgroup\": \"Extreme temperature\", \"orientation\": \"h\", \"showlegend\": true, \"textposition\": \"auto\", \"x\": [1688], \"xaxis\": \"x\", \"y\": [\"Extreme temperature\"], \"yaxis\": \"y\", \"type\": \"bar\"}, {\"alignmentgroup\": \"True\", \"hovertemplate\": \"Entity=%{y}<br>Year=2008<br>Deaths=%{x}<extra></extra>\", \"legendgroup\": \"Extreme weather\", \"marker\": {\"color\": \"#19d3f3\"}, \"name\": \"Extreme weather\", \"offsetgroup\": \"Extreme weather\", \"orientation\": \"h\", \"showlegend\": true, \"textposition\": \"auto\", \"x\": [140985], \"xaxis\": \"x\", \"y\": [\"Extreme weather\"], \"yaxis\": \"y\", \"type\": \"bar\"}, {\"alignmentgroup\": \"True\", \"hovertemplate\": \"Entity=%{y}<br>Year=2008<br>Deaths=%{x}<extra></extra>\", \"legendgroup\": \"Flood\", \"marker\": {\"color\": \"#FF6692\"}, \"name\": \"Flood\", \"offsetgroup\": \"Flood\", \"orientation\": \"h\", \"showlegend\": true, \"textposition\": \"auto\", \"x\": [4007], \"xaxis\": \"x\", \"y\": [\"Flood\"], \"yaxis\": \"y\", \"type\": \"bar\"}, {\"alignmentgroup\": \"True\", \"hovertemplate\": \"Entity=%{y}<br>Year=2008<br>Deaths=%{x}<extra></extra>\", \"legendgroup\": \"Landslide\", \"marker\": {\"color\": \"#B6E880\"}, \"name\": \"Landslide\", \"offsetgroup\": \"Landslide\", \"orientation\": \"h\", \"showlegend\": true, \"textposition\": \"auto\", \"x\": [504], \"xaxis\": \"x\", \"y\": [\"Landslide\"], \"yaxis\": \"y\", \"type\": \"bar\"}, {\"alignmentgroup\": \"True\", \"hovertemplate\": \"Entity=%{y}<br>Year=2008<br>Deaths=%{x}<extra></extra>\", \"legendgroup\": \"Mass movement (dry)\", \"marker\": {\"color\": \"#FF97FF\"}, \"name\": \"Mass movement (dry)\", \"offsetgroup\": \"Mass movement (dry)\", \"orientation\": \"h\", \"showlegend\": true, \"textposition\": \"auto\", \"x\": [120], \"xaxis\": \"x\", \"y\": [\"Mass movement (dry)\"], \"yaxis\": \"y\", \"type\": \"bar\"}, {\"alignmentgroup\": \"True\", \"hovertemplate\": \"Entity=%{y}<br>Year=2008<br>Deaths=%{x}<extra></extra>\", \"legendgroup\": \"Volcanic activity\", \"marker\": {\"color\": \"#FECB52\"}, \"name\": \"Volcanic activity\", \"offsetgroup\": \"Volcanic activity\", \"orientation\": \"h\", \"showlegend\": true, \"textposition\": \"auto\", \"x\": [16], \"xaxis\": \"x\", \"y\": [\"Volcanic activity\"], \"yaxis\": \"y\", \"type\": \"bar\"}, {\"alignmentgroup\": \"True\", \"hovertemplate\": \"Entity=%{y}<br>Year=2008<br>Deaths=%{x}<extra></extra>\", \"legendgroup\": \"Wildfire\", \"marker\": {\"color\": \"#636efa\"}, \"name\": \"Wildfire\", \"offsetgroup\": \"Wildfire\", \"orientation\": \"h\", \"showlegend\": true, \"textposition\": \"auto\", \"x\": [86], \"xaxis\": \"x\", \"y\": [\"Wildfire\"], \"yaxis\": \"y\", \"type\": \"bar\"}], \"name\": \"2008\"}, {\"data\": [{\"alignmentgroup\": \"True\", \"hovertemplate\": \"Entity=%{y}<br>Year=2009<br>Deaths=%{x}<extra></extra>\", \"legendgroup\": \"All natural disasters\", \"marker\": {\"color\": \"#636efa\"}, \"name\": \"All natural disasters\", \"offsetgroup\": \"All natural disasters\", \"orientation\": \"h\", \"showlegend\": true, \"textposition\": \"auto\", \"x\": [16037], \"xaxis\": \"x\", \"y\": [\"All natural disasters\"], \"yaxis\": \"y\", \"type\": \"bar\"}, {\"alignmentgroup\": \"True\", \"hovertemplate\": \"Entity=%{y}<br>Year=2009<br>Deaths=%{x}<extra></extra>\", \"legendgroup\": \"Earthquake\", \"marker\": {\"color\": \"#00cc96\"}, \"name\": \"Earthquake\", \"offsetgroup\": \"Earthquake\", \"orientation\": \"h\", \"showlegend\": true, \"textposition\": \"auto\", \"x\": [1893], \"xaxis\": \"x\", \"y\": [\"Earthquake\"], \"yaxis\": \"y\", \"type\": \"bar\"}, {\"alignmentgroup\": \"True\", \"hovertemplate\": \"Entity=%{y}<br>Year=2009<br>Deaths=%{x}<extra></extra>\", \"legendgroup\": \"Epidemic\", \"marker\": {\"color\": \"#ab63fa\"}, \"name\": \"Epidemic\", \"offsetgroup\": \"Epidemic\", \"orientation\": \"h\", \"showlegend\": true, \"textposition\": \"auto\", \"x\": [4895], \"xaxis\": \"x\", \"y\": [\"Epidemic\"], \"yaxis\": \"y\", \"type\": \"bar\"}, {\"alignmentgroup\": \"True\", \"hovertemplate\": \"Entity=%{y}<br>Year=2009<br>Deaths=%{x}<extra></extra>\", \"legendgroup\": \"Extreme temperature\", \"marker\": {\"color\": \"#FFA15A\"}, \"name\": \"Extreme temperature\", \"offsetgroup\": \"Extreme temperature\", \"orientation\": \"h\", \"showlegend\": true, \"textposition\": \"auto\", \"x\": [1386], \"xaxis\": \"x\", \"y\": [\"Extreme temperature\"], \"yaxis\": \"y\", \"type\": \"bar\"}, {\"alignmentgroup\": \"True\", \"hovertemplate\": \"Entity=%{y}<br>Year=2009<br>Deaths=%{x}<extra></extra>\", \"legendgroup\": \"Extreme weather\", \"marker\": {\"color\": \"#19d3f3\"}, \"name\": \"Extreme weather\", \"offsetgroup\": \"Extreme weather\", \"orientation\": \"h\", \"showlegend\": true, \"textposition\": \"auto\", \"x\": [3287], \"xaxis\": \"x\", \"y\": [\"Extreme weather\"], \"yaxis\": \"y\", \"type\": \"bar\"}, {\"alignmentgroup\": \"True\", \"hovertemplate\": \"Entity=%{y}<br>Year=2009<br>Deaths=%{x}<extra></extra>\", \"legendgroup\": \"Flood\", \"marker\": {\"color\": \"#FF6692\"}, \"name\": \"Flood\", \"offsetgroup\": \"Flood\", \"orientation\": \"h\", \"showlegend\": true, \"textposition\": \"auto\", \"x\": [3627], \"xaxis\": \"x\", \"y\": [\"Flood\"], \"yaxis\": \"y\", \"type\": \"bar\"}, {\"alignmentgroup\": \"True\", \"hovertemplate\": \"Entity=%{y}<br>Year=2009<br>Deaths=%{x}<extra></extra>\", \"legendgroup\": \"Landslide\", \"marker\": {\"color\": \"#B6E880\"}, \"name\": \"Landslide\", \"offsetgroup\": \"Landslide\", \"orientation\": \"h\", \"showlegend\": true, \"textposition\": \"auto\", \"x\": [723], \"xaxis\": \"x\", \"y\": [\"Landslide\"], \"yaxis\": \"y\", \"type\": \"bar\"}, {\"alignmentgroup\": \"True\", \"hovertemplate\": \"Entity=%{y}<br>Year=2009<br>Deaths=%{x}<extra></extra>\", \"legendgroup\": \"Mass movement (dry)\", \"marker\": {\"color\": \"#FF97FF\"}, \"name\": \"Mass movement (dry)\", \"offsetgroup\": \"Mass movement (dry)\", \"orientation\": \"h\", \"showlegend\": true, \"textposition\": \"auto\", \"x\": [36], \"xaxis\": \"x\", \"y\": [\"Mass movement (dry)\"], \"yaxis\": \"y\", \"type\": \"bar\"}, {\"alignmentgroup\": \"True\", \"hovertemplate\": \"Entity=%{y}<br>Year=2009<br>Deaths=%{x}<extra></extra>\", \"legendgroup\": \"Wildfire\", \"marker\": {\"color\": \"#636efa\"}, \"name\": \"Wildfire\", \"offsetgroup\": \"Wildfire\", \"orientation\": \"h\", \"showlegend\": true, \"textposition\": \"auto\", \"x\": [190], \"xaxis\": \"x\", \"y\": [\"Wildfire\"], \"yaxis\": \"y\", \"type\": \"bar\"}], \"name\": \"2009\"}, {\"data\": [{\"alignmentgroup\": \"True\", \"hovertemplate\": \"Entity=%{y}<br>Year=2010<br>Deaths=%{x}<extra></extra>\", \"legendgroup\": \"All natural disasters\", \"marker\": {\"color\": \"#636efa\"}, \"name\": \"All natural disasters\", \"offsetgroup\": \"All natural disasters\", \"orientation\": \"h\", \"showlegend\": true, \"textposition\": \"auto\", \"x\": [329900], \"xaxis\": \"x\", \"y\": [\"All natural disasters\"], \"yaxis\": \"y\", \"type\": \"bar\"}, {\"alignmentgroup\": \"True\", \"hovertemplate\": \"Entity=%{y}<br>Year=2010<br>Deaths=%{x}<extra></extra>\", \"legendgroup\": \"Drought\", \"marker\": {\"color\": \"#EF553B\"}, \"name\": \"Drought\", \"offsetgroup\": \"Drought\", \"orientation\": \"h\", \"showlegend\": true, \"textposition\": \"auto\", \"x\": [20000], \"xaxis\": \"x\", \"y\": [\"Drought\"], \"yaxis\": \"y\", \"type\": \"bar\"}, {\"alignmentgroup\": \"True\", \"hovertemplate\": \"Entity=%{y}<br>Year=2010<br>Deaths=%{x}<extra></extra>\", \"legendgroup\": \"Earthquake\", \"marker\": {\"color\": \"#00cc96\"}, \"name\": \"Earthquake\", \"offsetgroup\": \"Earthquake\", \"orientation\": \"h\", \"showlegend\": true, \"textposition\": \"auto\", \"x\": [226733], \"xaxis\": \"x\", \"y\": [\"Earthquake\"], \"yaxis\": \"y\", \"type\": \"bar\"}, {\"alignmentgroup\": \"True\", \"hovertemplate\": \"Entity=%{y}<br>Year=2010<br>Deaths=%{x}<extra></extra>\", \"legendgroup\": \"Epidemic\", \"marker\": {\"color\": \"#ab63fa\"}, \"name\": \"Epidemic\", \"offsetgroup\": \"Epidemic\", \"orientation\": \"h\", \"showlegend\": true, \"textposition\": \"auto\", \"x\": [12143], \"xaxis\": \"x\", \"y\": [\"Epidemic\"], \"yaxis\": \"y\", \"type\": \"bar\"}, {\"alignmentgroup\": \"True\", \"hovertemplate\": \"Entity=%{y}<br>Year=2010<br>Deaths=%{x}<extra></extra>\", \"legendgroup\": \"Extreme temperature\", \"marker\": {\"color\": \"#FFA15A\"}, \"name\": \"Extreme temperature\", \"offsetgroup\": \"Extreme temperature\", \"orientation\": \"h\", \"showlegend\": true, \"textposition\": \"auto\", \"x\": [57188], \"xaxis\": \"x\", \"y\": [\"Extreme temperature\"], \"yaxis\": \"y\", \"type\": \"bar\"}, {\"alignmentgroup\": \"True\", \"hovertemplate\": \"Entity=%{y}<br>Year=2010<br>Deaths=%{x}<extra></extra>\", \"legendgroup\": \"Extreme weather\", \"marker\": {\"color\": \"#19d3f3\"}, \"name\": \"Extreme weather\", \"offsetgroup\": \"Extreme weather\", \"orientation\": \"h\", \"showlegend\": true, \"textposition\": \"auto\", \"x\": [1564], \"xaxis\": \"x\", \"y\": [\"Extreme weather\"], \"yaxis\": \"y\", \"type\": \"bar\"}, {\"alignmentgroup\": \"True\", \"hovertemplate\": \"Entity=%{y}<br>Year=2010<br>Deaths=%{x}<extra></extra>\", \"legendgroup\": \"Flood\", \"marker\": {\"color\": \"#FF6692\"}, \"name\": \"Flood\", \"offsetgroup\": \"Flood\", \"orientation\": \"h\", \"showlegend\": true, \"textposition\": \"auto\", \"x\": [8356], \"xaxis\": \"x\", \"y\": [\"Flood\"], \"yaxis\": \"y\", \"type\": \"bar\"}, {\"alignmentgroup\": \"True\", \"hovertemplate\": \"Entity=%{y}<br>Year=2010<br>Deaths=%{x}<extra></extra>\", \"legendgroup\": \"Landslide\", \"marker\": {\"color\": \"#B6E880\"}, \"name\": \"Landslide\", \"offsetgroup\": \"Landslide\", \"orientation\": \"h\", \"showlegend\": true, \"textposition\": \"auto\", \"x\": [3427], \"xaxis\": \"x\", \"y\": [\"Landslide\"], \"yaxis\": \"y\", \"type\": \"bar\"}, {\"alignmentgroup\": \"True\", \"hovertemplate\": \"Entity=%{y}<br>Year=2010<br>Deaths=%{x}<extra></extra>\", \"legendgroup\": \"Volcanic activity\", \"marker\": {\"color\": \"#FECB52\"}, \"name\": \"Volcanic activity\", \"offsetgroup\": \"Volcanic activity\", \"orientation\": \"h\", \"showlegend\": true, \"textposition\": \"auto\", \"x\": [323], \"xaxis\": \"x\", \"y\": [\"Volcanic activity\"], \"yaxis\": \"y\", \"type\": \"bar\"}, {\"alignmentgroup\": \"True\", \"hovertemplate\": \"Entity=%{y}<br>Year=2010<br>Deaths=%{x}<extra></extra>\", \"legendgroup\": \"Wildfire\", \"marker\": {\"color\": \"#636efa\"}, \"name\": \"Wildfire\", \"offsetgroup\": \"Wildfire\", \"orientation\": \"h\", \"showlegend\": true, \"textposition\": \"auto\", \"x\": [166], \"xaxis\": \"x\", \"y\": [\"Wildfire\"], \"yaxis\": \"y\", \"type\": \"bar\"}], \"name\": \"2010\"}, {\"data\": [{\"alignmentgroup\": \"True\", \"hovertemplate\": \"Entity=%{y}<br>Year=2011<br>Deaths=%{x}<extra></extra>\", \"legendgroup\": \"All natural disasters\", \"marker\": {\"color\": \"#636efa\"}, \"name\": \"All natural disasters\", \"offsetgroup\": \"All natural disasters\", \"orientation\": \"h\", \"showlegend\": true, \"textposition\": \"auto\", \"x\": [34143], \"xaxis\": \"x\", \"y\": [\"All natural disasters\"], \"yaxis\": \"y\", \"type\": \"bar\"}, {\"alignmentgroup\": \"True\", \"hovertemplate\": \"Entity=%{y}<br>Year=2011<br>Deaths=%{x}<extra></extra>\", \"legendgroup\": \"Earthquake\", \"marker\": {\"color\": \"#00cc96\"}, \"name\": \"Earthquake\", \"offsetgroup\": \"Earthquake\", \"orientation\": \"h\", \"showlegend\": true, \"textposition\": \"auto\", \"x\": [20946], \"xaxis\": \"x\", \"y\": [\"Earthquake\"], \"yaxis\": \"y\", \"type\": \"bar\"}, {\"alignmentgroup\": \"True\", \"hovertemplate\": \"Entity=%{y}<br>Year=2011<br>Deaths=%{x}<extra></extra>\", \"legendgroup\": \"Epidemic\", \"marker\": {\"color\": \"#ab63fa\"}, \"name\": \"Epidemic\", \"offsetgroup\": \"Epidemic\", \"orientation\": \"h\", \"showlegend\": true, \"textposition\": \"auto\", \"x\": [3174], \"xaxis\": \"x\", \"y\": [\"Epidemic\"], \"yaxis\": \"y\", \"type\": \"bar\"}, {\"alignmentgroup\": \"True\", \"hovertemplate\": \"Entity=%{y}<br>Year=2011<br>Deaths=%{x}<extra></extra>\", \"legendgroup\": \"Extreme temperature\", \"marker\": {\"color\": \"#FFA15A\"}, \"name\": \"Extreme temperature\", \"offsetgroup\": \"Extreme temperature\", \"orientation\": \"h\", \"showlegend\": true, \"textposition\": \"auto\", \"x\": [435], \"xaxis\": \"x\", \"y\": [\"Extreme temperature\"], \"yaxis\": \"y\", \"type\": \"bar\"}, {\"alignmentgroup\": \"True\", \"hovertemplate\": \"Entity=%{y}<br>Year=2011<br>Deaths=%{x}<extra></extra>\", \"legendgroup\": \"Extreme weather\", \"marker\": {\"color\": \"#19d3f3\"}, \"name\": \"Extreme weather\", \"offsetgroup\": \"Extreme weather\", \"orientation\": \"h\", \"showlegend\": true, \"textposition\": \"auto\", \"x\": [3103], \"xaxis\": \"x\", \"y\": [\"Extreme weather\"], \"yaxis\": \"y\", \"type\": \"bar\"}, {\"alignmentgroup\": \"True\", \"hovertemplate\": \"Entity=%{y}<br>Year=2011<br>Deaths=%{x}<extra></extra>\", \"legendgroup\": \"Flood\", \"marker\": {\"color\": \"#FF6692\"}, \"name\": \"Flood\", \"offsetgroup\": \"Flood\", \"orientation\": \"h\", \"showlegend\": true, \"textposition\": \"auto\", \"x\": [6163], \"xaxis\": \"x\", \"y\": [\"Flood\"], \"yaxis\": \"y\", \"type\": \"bar\"}, {\"alignmentgroup\": \"True\", \"hovertemplate\": \"Entity=%{y}<br>Year=2011<br>Deaths=%{x}<extra></extra>\", \"legendgroup\": \"Landslide\", \"marker\": {\"color\": \"#B6E880\"}, \"name\": \"Landslide\", \"offsetgroup\": \"Landslide\", \"orientation\": \"h\", \"showlegend\": true, \"textposition\": \"auto\", \"x\": [309], \"xaxis\": \"x\", \"y\": [\"Landslide\"], \"yaxis\": \"y\", \"type\": \"bar\"}, {\"alignmentgroup\": \"True\", \"hovertemplate\": \"Entity=%{y}<br>Year=2011<br>Deaths=%{x}<extra></extra>\", \"legendgroup\": \"Volcanic activity\", \"marker\": {\"color\": \"#FECB52\"}, \"name\": \"Volcanic activity\", \"offsetgroup\": \"Volcanic activity\", \"orientation\": \"h\", \"showlegend\": true, \"textposition\": \"auto\", \"x\": [3], \"xaxis\": \"x\", \"y\": [\"Volcanic activity\"], \"yaxis\": \"y\", \"type\": \"bar\"}, {\"alignmentgroup\": \"True\", \"hovertemplate\": \"Entity=%{y}<br>Year=2011<br>Deaths=%{x}<extra></extra>\", \"legendgroup\": \"Wildfire\", \"marker\": {\"color\": \"#636efa\"}, \"name\": \"Wildfire\", \"offsetgroup\": \"Wildfire\", \"orientation\": \"h\", \"showlegend\": true, \"textposition\": \"auto\", \"x\": [10], \"xaxis\": \"x\", \"y\": [\"Wildfire\"], \"yaxis\": \"y\", \"type\": \"bar\"}], \"name\": \"2011\"}, {\"data\": [{\"alignmentgroup\": \"True\", \"hovertemplate\": \"Entity=%{y}<br>Year=2012<br>Deaths=%{x}<extra></extra>\", \"legendgroup\": \"All natural disasters\", \"marker\": {\"color\": \"#636efa\"}, \"name\": \"All natural disasters\", \"offsetgroup\": \"All natural disasters\", \"orientation\": \"h\", \"showlegend\": true, \"textposition\": \"auto\", \"x\": [11619], \"xaxis\": \"x\", \"y\": [\"All natural disasters\"], \"yaxis\": \"y\", \"type\": \"bar\"}, {\"alignmentgroup\": \"True\", \"hovertemplate\": \"Entity=%{y}<br>Year=2012<br>Deaths=%{x}<extra></extra>\", \"legendgroup\": \"Earthquake\", \"marker\": {\"color\": \"#00cc96\"}, \"name\": \"Earthquake\", \"offsetgroup\": \"Earthquake\", \"orientation\": \"h\", \"showlegend\": true, \"textposition\": \"auto\", \"x\": [711], \"xaxis\": \"x\", \"y\": [\"Earthquake\"], \"yaxis\": \"y\", \"type\": \"bar\"}, {\"alignmentgroup\": \"True\", \"hovertemplate\": \"Entity=%{y}<br>Year=2012<br>Deaths=%{x}<extra></extra>\", \"legendgroup\": \"Epidemic\", \"marker\": {\"color\": \"#ab63fa\"}, \"name\": \"Epidemic\", \"offsetgroup\": \"Epidemic\", \"orientation\": \"h\", \"showlegend\": true, \"textposition\": \"auto\", \"x\": [1887], \"xaxis\": \"x\", \"y\": [\"Epidemic\"], \"yaxis\": \"y\", \"type\": \"bar\"}, {\"alignmentgroup\": \"True\", \"hovertemplate\": \"Entity=%{y}<br>Year=2012<br>Deaths=%{x}<extra></extra>\", \"legendgroup\": \"Extreme temperature\", \"marker\": {\"color\": \"#FFA15A\"}, \"name\": \"Extreme temperature\", \"offsetgroup\": \"Extreme temperature\", \"orientation\": \"h\", \"showlegend\": true, \"textposition\": \"auto\", \"x\": [1834], \"xaxis\": \"x\", \"y\": [\"Extreme temperature\"], \"yaxis\": \"y\", \"type\": \"bar\"}, {\"alignmentgroup\": \"True\", \"hovertemplate\": \"Entity=%{y}<br>Year=2012<br>Deaths=%{x}<extra></extra>\", \"legendgroup\": \"Extreme weather\", \"marker\": {\"color\": \"#19d3f3\"}, \"name\": \"Extreme weather\", \"offsetgroup\": \"Extreme weather\", \"orientation\": \"h\", \"showlegend\": true, \"textposition\": \"auto\", \"x\": [3105], \"xaxis\": \"x\", \"y\": [\"Extreme weather\"], \"yaxis\": \"y\", \"type\": \"bar\"}, {\"alignmentgroup\": \"True\", \"hovertemplate\": \"Entity=%{y}<br>Year=2012<br>Deaths=%{x}<extra></extra>\", \"legendgroup\": \"Flood\", \"marker\": {\"color\": \"#FF6692\"}, \"name\": \"Flood\", \"offsetgroup\": \"Flood\", \"orientation\": \"h\", \"showlegend\": true, \"textposition\": \"auto\", \"x\": [3544], \"xaxis\": \"x\", \"y\": [\"Flood\"], \"yaxis\": \"y\", \"type\": \"bar\"}, {\"alignmentgroup\": \"True\", \"hovertemplate\": \"Entity=%{y}<br>Year=2012<br>Deaths=%{x}<extra></extra>\", \"legendgroup\": \"Landslide\", \"marker\": {\"color\": \"#B6E880\"}, \"name\": \"Landslide\", \"offsetgroup\": \"Landslide\", \"orientation\": \"h\", \"showlegend\": true, \"textposition\": \"auto\", \"x\": [501], \"xaxis\": \"x\", \"y\": [\"Landslide\"], \"yaxis\": \"y\", \"type\": \"bar\"}, {\"alignmentgroup\": \"True\", \"hovertemplate\": \"Entity=%{y}<br>Year=2012<br>Deaths=%{x}<extra></extra>\", \"legendgroup\": \"Mass movement (dry)\", \"marker\": {\"color\": \"#FF97FF\"}, \"name\": \"Mass movement (dry)\", \"offsetgroup\": \"Mass movement (dry)\", \"orientation\": \"h\", \"showlegend\": true, \"textposition\": \"auto\", \"x\": [16], \"xaxis\": \"x\", \"y\": [\"Mass movement (dry)\"], \"yaxis\": \"y\", \"type\": \"bar\"}, {\"alignmentgroup\": \"True\", \"hovertemplate\": \"Entity=%{y}<br>Year=2012<br>Deaths=%{x}<extra></extra>\", \"legendgroup\": \"Wildfire\", \"marker\": {\"color\": \"#636efa\"}, \"name\": \"Wildfire\", \"offsetgroup\": \"Wildfire\", \"orientation\": \"h\", \"showlegend\": true, \"textposition\": \"auto\", \"x\": [21], \"xaxis\": \"x\", \"y\": [\"Wildfire\"], \"yaxis\": \"y\", \"type\": \"bar\"}], \"name\": \"2012\"}, {\"data\": [{\"alignmentgroup\": \"True\", \"hovertemplate\": \"Entity=%{y}<br>Year=2013<br>Deaths=%{x}<extra></extra>\", \"legendgroup\": \"All natural disasters\", \"marker\": {\"color\": \"#636efa\"}, \"name\": \"All natural disasters\", \"offsetgroup\": \"All natural disasters\", \"orientation\": \"h\", \"showlegend\": true, \"textposition\": \"auto\", \"x\": [22225], \"xaxis\": \"x\", \"y\": [\"All natural disasters\"], \"yaxis\": \"y\", \"type\": \"bar\"}, {\"alignmentgroup\": \"True\", \"hovertemplate\": \"Entity=%{y}<br>Year=2013<br>Deaths=%{x}<extra></extra>\", \"legendgroup\": \"Earthquake\", \"marker\": {\"color\": \"#00cc96\"}, \"name\": \"Earthquake\", \"offsetgroup\": \"Earthquake\", \"orientation\": \"h\", \"showlegend\": true, \"textposition\": \"auto\", \"x\": [1120], \"xaxis\": \"x\", \"y\": [\"Earthquake\"], \"yaxis\": \"y\", \"type\": \"bar\"}, {\"alignmentgroup\": \"True\", \"hovertemplate\": \"Entity=%{y}<br>Year=2013<br>Deaths=%{x}<extra></extra>\", \"legendgroup\": \"Epidemic\", \"marker\": {\"color\": \"#ab63fa\"}, \"name\": \"Epidemic\", \"offsetgroup\": \"Epidemic\", \"orientation\": \"h\", \"showlegend\": true, \"textposition\": \"auto\", \"x\": [529], \"xaxis\": \"x\", \"y\": [\"Epidemic\"], \"yaxis\": \"y\", \"type\": \"bar\"}, {\"alignmentgroup\": \"True\", \"hovertemplate\": \"Entity=%{y}<br>Year=2013<br>Deaths=%{x}<extra></extra>\", \"legendgroup\": \"Extreme temperature\", \"marker\": {\"color\": \"#FFA15A\"}, \"name\": \"Extreme temperature\", \"offsetgroup\": \"Extreme temperature\", \"orientation\": \"h\", \"showlegend\": true, \"textposition\": \"auto\", \"x\": [1821], \"xaxis\": \"x\", \"y\": [\"Extreme temperature\"], \"yaxis\": \"y\", \"type\": \"bar\"}, {\"alignmentgroup\": \"True\", \"hovertemplate\": \"Entity=%{y}<br>Year=2013<br>Deaths=%{x}<extra></extra>\", \"legendgroup\": \"Extreme weather\", \"marker\": {\"color\": \"#19d3f3\"}, \"name\": \"Extreme weather\", \"offsetgroup\": \"Extreme weather\", \"orientation\": \"h\", \"showlegend\": true, \"textposition\": \"auto\", \"x\": [8603], \"xaxis\": \"x\", \"y\": [\"Extreme weather\"], \"yaxis\": \"y\", \"type\": \"bar\"}, {\"alignmentgroup\": \"True\", \"hovertemplate\": \"Entity=%{y}<br>Year=2013<br>Deaths=%{x}<extra></extra>\", \"legendgroup\": \"Flood\", \"marker\": {\"color\": \"#FF6692\"}, \"name\": \"Flood\", \"offsetgroup\": \"Flood\", \"orientation\": \"h\", \"showlegend\": true, \"textposition\": \"auto\", \"x\": [9836], \"xaxis\": \"x\", \"y\": [\"Flood\"], \"yaxis\": \"y\", \"type\": \"bar\"}, {\"alignmentgroup\": \"True\", \"hovertemplate\": \"Entity=%{y}<br>Year=2013<br>Deaths=%{x}<extra></extra>\", \"legendgroup\": \"Landslide\", \"marker\": {\"color\": \"#B6E880\"}, \"name\": \"Landslide\", \"offsetgroup\": \"Landslide\", \"orientation\": \"h\", \"showlegend\": true, \"textposition\": \"auto\", \"x\": [235], \"xaxis\": \"x\", \"y\": [\"Landslide\"], \"yaxis\": \"y\", \"type\": \"bar\"}, {\"alignmentgroup\": \"True\", \"hovertemplate\": \"Entity=%{y}<br>Year=2013<br>Deaths=%{x}<extra></extra>\", \"legendgroup\": \"Mass movement (dry)\", \"marker\": {\"color\": \"#FF97FF\"}, \"name\": \"Mass movement (dry)\", \"offsetgroup\": \"Mass movement (dry)\", \"orientation\": \"h\", \"showlegend\": true, \"textposition\": \"auto\", \"x\": [46], \"xaxis\": \"x\", \"y\": [\"Mass movement (dry)\"], \"yaxis\": \"y\", \"type\": \"bar\"}, {\"alignmentgroup\": \"True\", \"hovertemplate\": \"Entity=%{y}<br>Year=2013<br>Deaths=%{x}<extra></extra>\", \"legendgroup\": \"Wildfire\", \"marker\": {\"color\": \"#636efa\"}, \"name\": \"Wildfire\", \"offsetgroup\": \"Wildfire\", \"orientation\": \"h\", \"showlegend\": true, \"textposition\": \"auto\", \"x\": [35], \"xaxis\": \"x\", \"y\": [\"Wildfire\"], \"yaxis\": \"y\", \"type\": \"bar\"}], \"name\": \"2013\"}, {\"data\": [{\"alignmentgroup\": \"True\", \"hovertemplate\": \"Entity=%{y}<br>Year=2014<br>Deaths=%{x}<extra></extra>\", \"legendgroup\": \"All natural disasters\", \"marker\": {\"color\": \"#636efa\"}, \"name\": \"All natural disasters\", \"offsetgroup\": \"All natural disasters\", \"orientation\": \"h\", \"showlegend\": true, \"textposition\": \"auto\", \"x\": [20882], \"xaxis\": \"x\", \"y\": [\"All natural disasters\"], \"yaxis\": \"y\", \"type\": \"bar\"}, {\"alignmentgroup\": \"True\", \"hovertemplate\": \"Entity=%{y}<br>Year=2014<br>Deaths=%{x}<extra></extra>\", \"legendgroup\": \"Earthquake\", \"marker\": {\"color\": \"#00cc96\"}, \"name\": \"Earthquake\", \"offsetgroup\": \"Earthquake\", \"orientation\": \"h\", \"showlegend\": true, \"textposition\": \"auto\", \"x\": [774], \"xaxis\": \"x\", \"y\": [\"Earthquake\"], \"yaxis\": \"y\", \"type\": \"bar\"}, {\"alignmentgroup\": \"True\", \"hovertemplate\": \"Entity=%{y}<br>Year=2014<br>Deaths=%{x}<extra></extra>\", \"legendgroup\": \"Epidemic\", \"marker\": {\"color\": \"#ab63fa\"}, \"name\": \"Epidemic\", \"offsetgroup\": \"Epidemic\", \"orientation\": \"h\", \"showlegend\": true, \"textposition\": \"auto\", \"x\": [12911], \"xaxis\": \"x\", \"y\": [\"Epidemic\"], \"yaxis\": \"y\", \"type\": \"bar\"}, {\"alignmentgroup\": \"True\", \"hovertemplate\": \"Entity=%{y}<br>Year=2014<br>Deaths=%{x}<extra></extra>\", \"legendgroup\": \"Extreme temperature\", \"marker\": {\"color\": \"#FFA15A\"}, \"name\": \"Extreme temperature\", \"offsetgroup\": \"Extreme temperature\", \"orientation\": \"h\", \"showlegend\": true, \"textposition\": \"auto\", \"x\": [1168], \"xaxis\": \"x\", \"y\": [\"Extreme temperature\"], \"yaxis\": \"y\", \"type\": \"bar\"}, {\"alignmentgroup\": \"True\", \"hovertemplate\": \"Entity=%{y}<br>Year=2014<br>Deaths=%{x}<extra></extra>\", \"legendgroup\": \"Extreme weather\", \"marker\": {\"color\": \"#19d3f3\"}, \"name\": \"Extreme weather\", \"offsetgroup\": \"Extreme weather\", \"orientation\": \"h\", \"showlegend\": true, \"textposition\": \"auto\", \"x\": [1424], \"xaxis\": \"x\", \"y\": [\"Extreme weather\"], \"yaxis\": \"y\", \"type\": \"bar\"}, {\"alignmentgroup\": \"True\", \"hovertemplate\": \"Entity=%{y}<br>Year=2014<br>Deaths=%{x}<extra></extra>\", \"legendgroup\": \"Flood\", \"marker\": {\"color\": \"#FF6692\"}, \"name\": \"Flood\", \"offsetgroup\": \"Flood\", \"orientation\": \"h\", \"showlegend\": true, \"textposition\": \"auto\", \"x\": [3532], \"xaxis\": \"x\", \"y\": [\"Flood\"], \"yaxis\": \"y\", \"type\": \"bar\"}, {\"alignmentgroup\": \"True\", \"hovertemplate\": \"Entity=%{y}<br>Year=2014<br>Deaths=%{x}<extra></extra>\", \"legendgroup\": \"Landslide\", \"marker\": {\"color\": \"#B6E880\"}, \"name\": \"Landslide\", \"offsetgroup\": \"Landslide\", \"orientation\": \"h\", \"showlegend\": true, \"textposition\": \"auto\", \"x\": [943], \"xaxis\": \"x\", \"y\": [\"Landslide\"], \"yaxis\": \"y\", \"type\": \"bar\"}, {\"alignmentgroup\": \"True\", \"hovertemplate\": \"Entity=%{y}<br>Year=2014<br>Deaths=%{x}<extra></extra>\", \"legendgroup\": \"Volcanic activity\", \"marker\": {\"color\": \"#FECB52\"}, \"name\": \"Volcanic activity\", \"offsetgroup\": \"Volcanic activity\", \"orientation\": \"h\", \"showlegend\": true, \"textposition\": \"auto\", \"x\": [102], \"xaxis\": \"x\", \"y\": [\"Volcanic activity\"], \"yaxis\": \"y\", \"type\": \"bar\"}, {\"alignmentgroup\": \"True\", \"hovertemplate\": \"Entity=%{y}<br>Year=2014<br>Deaths=%{x}<extra></extra>\", \"legendgroup\": \"Wildfire\", \"marker\": {\"color\": \"#636efa\"}, \"name\": \"Wildfire\", \"offsetgroup\": \"Wildfire\", \"orientation\": \"h\", \"showlegend\": true, \"textposition\": \"auto\", \"x\": [16], \"xaxis\": \"x\", \"y\": [\"Wildfire\"], \"yaxis\": \"y\", \"type\": \"bar\"}], \"name\": \"2014\"}, {\"data\": [{\"alignmentgroup\": \"True\", \"hovertemplate\": \"Entity=%{y}<br>Year=2015<br>Deaths=%{x}<extra></extra>\", \"legendgroup\": \"All natural disasters\", \"marker\": {\"color\": \"#636efa\"}, \"name\": \"All natural disasters\", \"offsetgroup\": \"All natural disasters\", \"orientation\": \"h\", \"showlegend\": true, \"textposition\": \"auto\", \"x\": [23893], \"xaxis\": \"x\", \"y\": [\"All natural disasters\"], \"yaxis\": \"y\", \"type\": \"bar\"}, {\"alignmentgroup\": \"True\", \"hovertemplate\": \"Entity=%{y}<br>Year=2015<br>Deaths=%{x}<extra></extra>\", \"legendgroup\": \"Drought\", \"marker\": {\"color\": \"#EF553B\"}, \"name\": \"Drought\", \"offsetgroup\": \"Drought\", \"orientation\": \"h\", \"showlegend\": true, \"textposition\": \"auto\", \"x\": [35], \"xaxis\": \"x\", \"y\": [\"Drought\"], \"yaxis\": \"y\", \"type\": \"bar\"}, {\"alignmentgroup\": \"True\", \"hovertemplate\": \"Entity=%{y}<br>Year=2015<br>Deaths=%{x}<extra></extra>\", \"legendgroup\": \"Earthquake\", \"marker\": {\"color\": \"#00cc96\"}, \"name\": \"Earthquake\", \"offsetgroup\": \"Earthquake\", \"orientation\": \"h\", \"showlegend\": true, \"textposition\": \"auto\", \"x\": [9550], \"xaxis\": \"x\", \"y\": [\"Earthquake\"], \"yaxis\": \"y\", \"type\": \"bar\"}, {\"alignmentgroup\": \"True\", \"hovertemplate\": \"Entity=%{y}<br>Year=2015<br>Deaths=%{x}<extra></extra>\", \"legendgroup\": \"Epidemic\", \"marker\": {\"color\": \"#ab63fa\"}, \"name\": \"Epidemic\", \"offsetgroup\": \"Epidemic\", \"orientation\": \"h\", \"showlegend\": true, \"textposition\": \"auto\", \"x\": [1032], \"xaxis\": \"x\", \"y\": [\"Epidemic\"], \"yaxis\": \"y\", \"type\": \"bar\"}, {\"alignmentgroup\": \"True\", \"hovertemplate\": \"Entity=%{y}<br>Year=2015<br>Deaths=%{x}<extra></extra>\", \"legendgroup\": \"Extreme temperature\", \"marker\": {\"color\": \"#FFA15A\"}, \"name\": \"Extreme temperature\", \"offsetgroup\": \"Extreme temperature\", \"orientation\": \"h\", \"showlegend\": true, \"textposition\": \"auto\", \"x\": [7425], \"xaxis\": \"x\", \"y\": [\"Extreme temperature\"], \"yaxis\": \"y\", \"type\": \"bar\"}, {\"alignmentgroup\": \"True\", \"hovertemplate\": \"Entity=%{y}<br>Year=2015<br>Deaths=%{x}<extra></extra>\", \"legendgroup\": \"Extreme weather\", \"marker\": {\"color\": \"#19d3f3\"}, \"name\": \"Extreme weather\", \"offsetgroup\": \"Extreme weather\", \"orientation\": \"h\", \"showlegend\": true, \"textposition\": \"auto\", \"x\": [1270], \"xaxis\": \"x\", \"y\": [\"Extreme weather\"], \"yaxis\": \"y\", \"type\": \"bar\"}, {\"alignmentgroup\": \"True\", \"hovertemplate\": \"Entity=%{y}<br>Year=2015<br>Deaths=%{x}<extra></extra>\", \"legendgroup\": \"Flood\", \"marker\": {\"color\": \"#FF6692\"}, \"name\": \"Flood\", \"offsetgroup\": \"Flood\", \"orientation\": \"h\", \"showlegend\": true, \"textposition\": \"auto\", \"x\": [3495], \"xaxis\": \"x\", \"y\": [\"Flood\"], \"yaxis\": \"y\", \"type\": \"bar\"}, {\"alignmentgroup\": \"True\", \"hovertemplate\": \"Entity=%{y}<br>Year=2015<br>Deaths=%{x}<extra></extra>\", \"legendgroup\": \"Landslide\", \"marker\": {\"color\": \"#B6E880\"}, \"name\": \"Landslide\", \"offsetgroup\": \"Landslide\", \"orientation\": \"h\", \"showlegend\": true, \"textposition\": \"auto\", \"x\": [1006], \"xaxis\": \"x\", \"y\": [\"Landslide\"], \"yaxis\": \"y\", \"type\": \"bar\"}, {\"alignmentgroup\": \"True\", \"hovertemplate\": \"Entity=%{y}<br>Year=2015<br>Deaths=%{x}<extra></extra>\", \"legendgroup\": \"Mass movement (dry)\", \"marker\": {\"color\": \"#FF97FF\"}, \"name\": \"Mass movement (dry)\", \"offsetgroup\": \"Mass movement (dry)\", \"orientation\": \"h\", \"showlegend\": true, \"textposition\": \"auto\", \"x\": [13], \"xaxis\": \"x\", \"y\": [\"Mass movement (dry)\"], \"yaxis\": \"y\", \"type\": \"bar\"}, {\"alignmentgroup\": \"True\", \"hovertemplate\": \"Entity=%{y}<br>Year=2015<br>Deaths=%{x}<extra></extra>\", \"legendgroup\": \"Wildfire\", \"marker\": {\"color\": \"#636efa\"}, \"name\": \"Wildfire\", \"offsetgroup\": \"Wildfire\", \"orientation\": \"h\", \"showlegend\": true, \"textposition\": \"auto\", \"x\": [67], \"xaxis\": \"x\", \"y\": [\"Wildfire\"], \"yaxis\": \"y\", \"type\": \"bar\"}], \"name\": \"2015\"}, {\"data\": [{\"alignmentgroup\": \"True\", \"hovertemplate\": \"Entity=%{y}<br>Year=2016<br>Deaths=%{x}<extra></extra>\", \"legendgroup\": \"All natural disasters\", \"marker\": {\"color\": \"#636efa\"}, \"name\": \"All natural disasters\", \"offsetgroup\": \"All natural disasters\", \"orientation\": \"h\", \"showlegend\": true, \"textposition\": \"auto\", \"x\": [10201], \"xaxis\": \"x\", \"y\": [\"All natural disasters\"], \"yaxis\": \"y\", \"type\": \"bar\"}, {\"alignmentgroup\": \"True\", \"hovertemplate\": \"Entity=%{y}<br>Year=2016<br>Deaths=%{x}<extra></extra>\", \"legendgroup\": \"Earthquake\", \"marker\": {\"color\": \"#00cc96\"}, \"name\": \"Earthquake\", \"offsetgroup\": \"Earthquake\", \"orientation\": \"h\", \"showlegend\": true, \"textposition\": \"auto\", \"x\": [1311], \"xaxis\": \"x\", \"y\": [\"Earthquake\"], \"yaxis\": \"y\", \"type\": \"bar\"}, {\"alignmentgroup\": \"True\", \"hovertemplate\": \"Entity=%{y}<br>Year=2016<br>Deaths=%{x}<extra></extra>\", \"legendgroup\": \"Epidemic\", \"marker\": {\"color\": \"#ab63fa\"}, \"name\": \"Epidemic\", \"offsetgroup\": \"Epidemic\", \"orientation\": \"h\", \"showlegend\": true, \"textposition\": \"auto\", \"x\": [1520], \"xaxis\": \"x\", \"y\": [\"Epidemic\"], \"yaxis\": \"y\", \"type\": \"bar\"}, {\"alignmentgroup\": \"True\", \"hovertemplate\": \"Entity=%{y}<br>Year=2016<br>Deaths=%{x}<extra></extra>\", \"legendgroup\": \"Extreme temperature\", \"marker\": {\"color\": \"#FFA15A\"}, \"name\": \"Extreme temperature\", \"offsetgroup\": \"Extreme temperature\", \"orientation\": \"h\", \"showlegend\": true, \"textposition\": \"auto\", \"x\": [490], \"xaxis\": \"x\", \"y\": [\"Extreme temperature\"], \"yaxis\": \"y\", \"type\": \"bar\"}, {\"alignmentgroup\": \"True\", \"hovertemplate\": \"Entity=%{y}<br>Year=2016<br>Deaths=%{x}<extra></extra>\", \"legendgroup\": \"Extreme weather\", \"marker\": {\"color\": \"#19d3f3\"}, \"name\": \"Extreme weather\", \"offsetgroup\": \"Extreme weather\", \"orientation\": \"h\", \"showlegend\": true, \"textposition\": \"auto\", \"x\": [1760], \"xaxis\": \"x\", \"y\": [\"Extreme weather\"], \"yaxis\": \"y\", \"type\": \"bar\"}, {\"alignmentgroup\": \"True\", \"hovertemplate\": \"Entity=%{y}<br>Year=2016<br>Deaths=%{x}<extra></extra>\", \"legendgroup\": \"Flood\", \"marker\": {\"color\": \"#FF6692\"}, \"name\": \"Flood\", \"offsetgroup\": \"Flood\", \"orientation\": \"h\", \"showlegend\": true, \"textposition\": \"auto\", \"x\": [4720], \"xaxis\": \"x\", \"y\": [\"Flood\"], \"yaxis\": \"y\", \"type\": \"bar\"}, {\"alignmentgroup\": \"True\", \"hovertemplate\": \"Entity=%{y}<br>Year=2016<br>Deaths=%{x}<extra></extra>\", \"legendgroup\": \"Landslide\", \"marker\": {\"color\": \"#B6E880\"}, \"name\": \"Landslide\", \"offsetgroup\": \"Landslide\", \"orientation\": \"h\", \"showlegend\": true, \"textposition\": \"auto\", \"x\": [361], \"xaxis\": \"x\", \"y\": [\"Landslide\"], \"yaxis\": \"y\", \"type\": \"bar\"}, {\"alignmentgroup\": \"True\", \"hovertemplate\": \"Entity=%{y}<br>Year=2016<br>Deaths=%{x}<extra></extra>\", \"legendgroup\": \"Wildfire\", \"marker\": {\"color\": \"#636efa\"}, \"name\": \"Wildfire\", \"offsetgroup\": \"Wildfire\", \"orientation\": \"h\", \"showlegend\": true, \"textposition\": \"auto\", \"x\": [39], \"xaxis\": \"x\", \"y\": [\"Wildfire\"], \"yaxis\": \"y\", \"type\": \"bar\"}], \"name\": \"2016\"}, {\"data\": [{\"alignmentgroup\": \"True\", \"hovertemplate\": \"Entity=%{y}<br>Year=2017<br>Deaths=%{x}<extra></extra>\", \"legendgroup\": \"All natural disasters\", \"marker\": {\"color\": \"#636efa\"}, \"name\": \"All natural disasters\", \"offsetgroup\": \"All natural disasters\", \"orientation\": \"h\", \"showlegend\": true, \"textposition\": \"auto\", \"x\": [2087], \"xaxis\": \"x\", \"y\": [\"All natural disasters\"], \"yaxis\": \"y\", \"type\": \"bar\"}, {\"alignmentgroup\": \"True\", \"hovertemplate\": \"Entity=%{y}<br>Year=2017<br>Deaths=%{x}<extra></extra>\", \"legendgroup\": \"Earthquake\", \"marker\": {\"color\": \"#00cc96\"}, \"name\": \"Earthquake\", \"offsetgroup\": \"Earthquake\", \"orientation\": \"h\", \"showlegend\": true, \"textposition\": \"auto\", \"x\": [49], \"xaxis\": \"x\", \"y\": [\"Earthquake\"], \"yaxis\": \"y\", \"type\": \"bar\"}, {\"alignmentgroup\": \"True\", \"hovertemplate\": \"Entity=%{y}<br>Year=2017<br>Deaths=%{x}<extra></extra>\", \"legendgroup\": \"Epidemic\", \"marker\": {\"color\": \"#ab63fa\"}, \"name\": \"Epidemic\", \"offsetgroup\": \"Epidemic\", \"orientation\": \"h\", \"showlegend\": true, \"textposition\": \"auto\", \"x\": [386], \"xaxis\": \"x\", \"y\": [\"Epidemic\"], \"yaxis\": \"y\", \"type\": \"bar\"}, {\"alignmentgroup\": \"True\", \"hovertemplate\": \"Entity=%{y}<br>Year=2017<br>Deaths=%{x}<extra></extra>\", \"legendgroup\": \"Extreme temperature\", \"marker\": {\"color\": \"#FFA15A\"}, \"name\": \"Extreme temperature\", \"offsetgroup\": \"Extreme temperature\", \"orientation\": \"h\", \"showlegend\": true, \"textposition\": \"auto\", \"x\": [130], \"xaxis\": \"x\", \"y\": [\"Extreme temperature\"], \"yaxis\": \"y\", \"type\": \"bar\"}, {\"alignmentgroup\": \"True\", \"hovertemplate\": \"Entity=%{y}<br>Year=2017<br>Deaths=%{x}<extra></extra>\", \"legendgroup\": \"Extreme weather\", \"marker\": {\"color\": \"#19d3f3\"}, \"name\": \"Extreme weather\", \"offsetgroup\": \"Extreme weather\", \"orientation\": \"h\", \"showlegend\": true, \"textposition\": \"auto\", \"x\": [394], \"xaxis\": \"x\", \"y\": [\"Extreme weather\"], \"yaxis\": \"y\", \"type\": \"bar\"}, {\"alignmentgroup\": \"True\", \"hovertemplate\": \"Entity=%{y}<br>Year=2017<br>Deaths=%{x}<extra></extra>\", \"legendgroup\": \"Flood\", \"marker\": {\"color\": \"#FF6692\"}, \"name\": \"Flood\", \"offsetgroup\": \"Flood\", \"orientation\": \"h\", \"showlegend\": true, \"textposition\": \"auto\", \"x\": [648], \"xaxis\": \"x\", \"y\": [\"Flood\"], \"yaxis\": \"y\", \"type\": \"bar\"}, {\"alignmentgroup\": \"True\", \"hovertemplate\": \"Entity=%{y}<br>Year=2017<br>Deaths=%{x}<extra></extra>\", \"legendgroup\": \"Landslide\", \"marker\": {\"color\": \"#B6E880\"}, \"name\": \"Landslide\", \"offsetgroup\": \"Landslide\", \"orientation\": \"h\", \"showlegend\": true, \"textposition\": \"auto\", \"x\": [405], \"xaxis\": \"x\", \"y\": [\"Landslide\"], \"yaxis\": \"y\", \"type\": \"bar\"}, {\"alignmentgroup\": \"True\", \"hovertemplate\": \"Entity=%{y}<br>Year=2017<br>Deaths=%{x}<extra></extra>\", \"legendgroup\": \"Wildfire\", \"marker\": {\"color\": \"#636efa\"}, \"name\": \"Wildfire\", \"offsetgroup\": \"Wildfire\", \"orientation\": \"h\", \"showlegend\": true, \"textposition\": \"auto\", \"x\": [75], \"xaxis\": \"x\", \"y\": [\"Wildfire\"], \"yaxis\": \"y\", \"type\": \"bar\"}], \"name\": \"2017\"}]);\n",
       "                        }).then(function(){\n",
       "                            \n",
       "var gd = document.getElementById('04edea07-1e19-4312-ba56-b0056e7b1e73');\n",
       "var x = new MutationObserver(function (mutations, observer) {{\n",
       "        var display = window.getComputedStyle(gd).display;\n",
       "        if (!display || display === 'none') {{\n",
       "            console.log([gd, 'removed!']);\n",
       "            Plotly.purge(gd);\n",
       "            observer.disconnect();\n",
       "        }}\n",
       "}});\n",
       "\n",
       "// Listen for the removal of the full notebook cells\n",
       "var notebookContainer = gd.closest('#notebook-container');\n",
       "if (notebookContainer) {{\n",
       "    x.observe(notebookContainer, {childList: true});\n",
       "}}\n",
       "\n",
       "// Listen for the clearing of the current output cell\n",
       "var outputEl = gd.closest('.output');\n",
       "if (outputEl) {{\n",
       "    x.observe(outputEl, {childList: true});\n",
       "}}\n",
       "\n",
       "                        })\n",
       "                };\n",
       "                });\n",
       "            </script>\n",
       "        </div>"
      ]
     },
     "metadata": {},
     "output_type": "display_data"
    }
   ],
   "source": [
    "import plotly.express as px\n",
    "from vega_datasets import data\n",
    "df=data.disasters()\n",
    "df=df[df.Year>1990]\n",
    "fig=px.bar(\n",
    "    df,\n",
    "    y=\"Entity\",\n",
    "    x=\"Deaths\",\n",
    "    animation_frame=\"Year\",\n",
    "    orientation='h',\n",
    "    range_x=[0,df.Deaths.max()],\n",
    "    color=\"Entity\"\n",
    ")\n",
    "fig.update_layout(\n",
    "    width=1000,\n",
    "    height=800,\n",
    "    xaxis_showgrid=False,\n",
    "    yaxis_showgrid=False,\n",
    "    paper_bgcolor='rgba(0,0,0,0)',\n",
    "    plot_bgcolor='rgba(0,0,0,0)',\n",
    "    title_text='Evolution of Natural Disasters',\n",
    "    showlegend=False\n",
    ")\n",
    "fig.update_xaxes(title_text='Number of Deaths')\n",
    "fig.update_yaxes(title_text='')\n",
    "fig.show()"
   ]
  },
  {
   "cell_type": "markdown",
   "metadata": {},
   "source": [
    "只要你有一个时间变量来过滤，那么几乎任何图表都可以做成动画。下面是一个制作散点图动画的例子"
   ]
  },
  {
   "cell_type": "code",
   "execution_count": 11,
   "metadata": {},
   "outputs": [
    {
     "data": {
      "application/vnd.plotly.v1+json": {
       "config": {
        "plotlyServerURL": "https://plot.ly"
       },
       "data": [
        {
         "hovertemplate": "<b>%{hovertext}</b><br><br>continent=Asia<br>year=1952<br>gdpPercap=%{x}<br>lifeExp=%{y}<br>pop=%{marker.size}<extra></extra>",
         "hovertext": [
          "Afghanistan",
          "Bahrain",
          "Bangladesh",
          "Cambodia",
          "China",
          "Hong Kong, China",
          "India",
          "Indonesia",
          "Iran",
          "Iraq",
          "Israel",
          "Japan",
          "Jordan",
          "Korea, Dem. Rep.",
          "Korea, Rep.",
          "Kuwait",
          "Lebanon",
          "Malaysia",
          "Mongolia",
          "Myanmar",
          "Nepal",
          "Oman",
          "Pakistan",
          "Philippines",
          "Saudi Arabia",
          "Singapore",
          "Sri Lanka",
          "Syria",
          "Taiwan",
          "Thailand",
          "Vietnam",
          "West Bank and Gaza",
          "Yemen, Rep."
         ],
         "legendgroup": "Asia",
         "marker": {
          "color": "#636efa",
          "size": [
           8425333,
           120447,
           46886859,
           4693836,
           556263527,
           2125900,
           372000000,
           82052000,
           17272000,
           5441766,
           1620914,
           86459025,
           607914,
           8865488,
           20947571,
           160000,
           1439529,
           6748378,
           800663,
           20092996,
           9182536,
           507833,
           41346560,
           22438691,
           4005677,
           1127000,
           7982342,
           3661549,
           8550362,
           21289402,
           26246839,
           1030585,
           4963829
          ],
          "sizemode": "area",
          "sizeref": 435928.2961983471,
          "symbol": "circle"
         },
         "mode": "markers",
         "name": "Asia",
         "orientation": "v",
         "showlegend": true,
         "type": "scatter",
         "x": [
          779.4453145,
          9867.084765000001,
          684.2441716,
          368.46928560000003,
          400.44861099999997,
          3054.421209,
          546.5657493,
          749.6816546,
          3035.326002,
          4129.766056,
          4086.522128,
          3216.956347,
          1546.907807,
          1088.277758,
          1030.592226,
          108382.3529,
          4834.804067,
          1831.132894,
          786.5668575,
          331,
          545.8657228999999,
          1828.230307,
          684.5971437999999,
          1272.880995,
          6459.5548229999995,
          2315.138227,
          1083.53203,
          1643.485354,
          1206.947913,
          757.7974177,
          605.0664917,
          1515.5923289999998,
          781.7175761
         ],
         "xaxis": "x",
         "y": [
          28.801,
          50.93899999999999,
          37.484,
          39.417,
          44,
          60.96,
          37.373000000000005,
          37.468,
          44.869,
          45.32,
          65.39,
          63.03,
          43.158,
          50.056000000000004,
          47.453,
          55.565,
          55.928000000000004,
          48.463,
          42.244,
          36.319,
          36.157,
          37.578,
          43.43600000000001,
          47.751999999999995,
          39.875,
          60.396,
          57.593,
          45.883,
          58.5,
          50.848,
          40.412,
          43.16,
          32.548
         ],
         "yaxis": "y"
        },
        {
         "hovertemplate": "<b>%{hovertext}</b><br><br>continent=Europe<br>year=1952<br>gdpPercap=%{x}<br>lifeExp=%{y}<br>pop=%{marker.size}<extra></extra>",
         "hovertext": [
          "Albania",
          "Austria",
          "Belgium",
          "Bosnia and Herzegovina",
          "Bulgaria",
          "Croatia",
          "Czech Republic",
          "Denmark",
          "Finland",
          "France",
          "Germany",
          "Greece",
          "Hungary",
          "Iceland",
          "Ireland",
          "Italy",
          "Montenegro",
          "Netherlands",
          "Norway",
          "Poland",
          "Portugal",
          "Romania",
          "Serbia",
          "Slovak Republic",
          "Slovenia",
          "Spain",
          "Sweden",
          "Switzerland",
          "Turkey",
          "United Kingdom"
         ],
         "legendgroup": "Europe",
         "marker": {
          "color": "#EF553B",
          "size": [
           1282697,
           6927772,
           8730405,
           2791000,
           7274900,
           3882229,
           9125183,
           4334000,
           4090500,
           42459667,
           69145952,
           7733250,
           9504000,
           147962,
           2952156,
           47666000,
           413834,
           10381988,
           3327728,
           25730551,
           8526050,
           16630000,
           6860147,
           3558137,
           1489518,
           28549870,
           7124673,
           4815000,
           22235677,
           50430000
          ],
          "sizemode": "area",
          "sizeref": 435928.2961983471,
          "symbol": "circle"
         },
         "mode": "markers",
         "name": "Europe",
         "orientation": "v",
         "showlegend": true,
         "type": "scatter",
         "x": [
          1601.056136,
          6137.076492,
          8343.105126999999,
          973.5331947999999,
          2444.2866480000002,
          3119.23652,
          6876.14025,
          9692.385245,
          6424.519071,
          7029.809327,
          7144.114393000001,
          3530.690067,
          5263.6738159999995,
          7267.688428,
          5210.280328,
          4931.404154999999,
          2647.585601,
          8941.571858,
          10095.42172,
          4029.3296990000003,
          3068.319867,
          3144.613186,
          3581.4594479999996,
          5074.659104,
          4215.041741,
          3834.0347420000003,
          8527.844662000001,
          14734.23275,
          1969.1009800000002,
          9979.508487000001
         ],
         "xaxis": "x",
         "y": [
          55.23,
          66.8,
          68,
          53.82,
          59.6,
          61.21,
          66.87,
          70.78,
          66.55,
          67.41,
          67.5,
          65.86,
          64.03,
          72.49,
          66.91,
          65.94,
          59.163999999999994,
          72.13,
          72.67,
          61.31,
          59.82,
          61.05,
          57.996,
          64.36,
          65.57,
          64.94,
          71.86,
          69.62,
          43.585,
          69.18
         ],
         "yaxis": "y"
        },
        {
         "hovertemplate": "<b>%{hovertext}</b><br><br>continent=Africa<br>year=1952<br>gdpPercap=%{x}<br>lifeExp=%{y}<br>pop=%{marker.size}<extra></extra>",
         "hovertext": [
          "Algeria",
          "Angola",
          "Benin",
          "Botswana",
          "Burkina Faso",
          "Burundi",
          "Cameroon",
          "Central African Republic",
          "Chad",
          "Comoros",
          "Congo, Dem. Rep.",
          "Congo, Rep.",
          "Cote d'Ivoire",
          "Djibouti",
          "Egypt",
          "Equatorial Guinea",
          "Eritrea",
          "Ethiopia",
          "Gabon",
          "Gambia",
          "Ghana",
          "Guinea",
          "Guinea-Bissau",
          "Kenya",
          "Lesotho",
          "Liberia",
          "Libya",
          "Madagascar",
          "Malawi",
          "Mali",
          "Mauritania",
          "Mauritius",
          "Morocco",
          "Mozambique",
          "Namibia",
          "Niger",
          "Nigeria",
          "Reunion",
          "Rwanda",
          "Sao Tome and Principe",
          "Senegal",
          "Sierra Leone",
          "Somalia",
          "South Africa",
          "Sudan",
          "Swaziland",
          "Tanzania",
          "Togo",
          "Tunisia",
          "Uganda",
          "Zambia",
          "Zimbabwe"
         ],
         "legendgroup": "Africa",
         "marker": {
          "color": "#00cc96",
          "size": [
           9279525,
           4232095,
           1738315,
           442308,
           4469979,
           2445618,
           5009067,
           1291695,
           2682462,
           153936,
           14100005,
           854885,
           2977019,
           63149,
           22223309,
           216964,
           1438760,
           20860941,
           420702,
           284320,
           5581001,
           2664249,
           580653,
           6464046,
           748747,
           863308,
           1019729,
           4762912,
           2917802,
           3838168,
           1022556,
           516556,
           9939217,
           6446316,
           485831,
           3379468,
           33119096,
           257700,
           2534927,
           60011,
           2755589,
           2143249,
           2526994,
           14264935,
           8504667,
           290243,
           8322925,
           1219113,
           3647735,
           5824797,
           2672000,
           3080907
          ],
          "sizemode": "area",
          "sizeref": 435928.2961983471,
          "symbol": "circle"
         },
         "mode": "markers",
         "name": "Africa",
         "orientation": "v",
         "showlegend": true,
         "type": "scatter",
         "x": [
          2449.008185,
          3520.610273,
          1062.7522,
          851.2411407,
          543.2552413,
          339.29645869999996,
          1172.667655,
          1071.310713,
          1178.665927,
          1102.990936,
          780.5423257,
          2125.621418,
          1388.594732,
          2669.529475,
          1418.822445,
          375.6431231,
          328.94055710000004,
          362.1462796,
          4293.476475,
          485.2306591,
          911.2989371,
          510.19649230000005,
          299.850319,
          853.5409189999999,
          298.8462121,
          575.5729961000001,
          2387.54806,
          1443.011715,
          369.1650802,
          452.3369807,
          743.1159097,
          1967.955707,
          1688.20357,
          468.5260381,
          2423.780443,
          761.879376,
          1077.281856,
          2718.885295,
          493.32387520000003,
          879.5835855,
          1450.356983,
          879.7877358,
          1135.749842,
          4725.295531000001,
          1615.991129,
          1148.376626,
          716.6500721,
          859.8086567,
          1468.475631,
          734.753484,
          1147.388831,
          406.8841148
         ],
         "xaxis": "x",
         "y": [
          43.077,
          30.015,
          38.223,
          47.622,
          31.975,
          39.031,
          38.523,
          35.463,
          38.092,
          40.715,
          39.143,
          42.111000000000004,
          40.477,
          34.812,
          41.893,
          34.482,
          35.928000000000004,
          34.078,
          37.003,
          30,
          43.148999999999994,
          33.609,
          32.5,
          42.27,
          42.138000000000005,
          38.48,
          42.723,
          36.681,
          36.256,
          33.685,
          40.543,
          50.986000000000004,
          42.873000000000005,
          31.285999999999998,
          41.725,
          37.444,
          36.324,
          52.724,
          40,
          46.471000000000004,
          37.278,
          30.331,
          32.978,
          45.00899999999999,
          38.635,
          41.407,
          41.215,
          38.596,
          44.6,
          39.978,
          42.038000000000004,
          48.451
         ],
         "yaxis": "y"
        },
        {
         "hovertemplate": "<b>%{hovertext}</b><br><br>continent=Americas<br>year=1952<br>gdpPercap=%{x}<br>lifeExp=%{y}<br>pop=%{marker.size}<extra></extra>",
         "hovertext": [
          "Argentina",
          "Bolivia",
          "Brazil",
          "Canada",
          "Chile",
          "Colombia",
          "Costa Rica",
          "Cuba",
          "Dominican Republic",
          "Ecuador",
          "El Salvador",
          "Guatemala",
          "Haiti",
          "Honduras",
          "Jamaica",
          "Mexico",
          "Nicaragua",
          "Panama",
          "Paraguay",
          "Peru",
          "Puerto Rico",
          "Trinidad and Tobago",
          "United States",
          "Uruguay",
          "Venezuela"
         ],
         "legendgroup": "Americas",
         "marker": {
          "color": "#ab63fa",
          "size": [
           17876956,
           2883315,
           56602560,
           14785584,
           6377619,
           12350771,
           926317,
           6007797,
           2491346,
           3548753,
           2042865,
           3146381,
           3201488,
           1517453,
           1426095,
           30144317,
           1165790,
           940080,
           1555876,
           8025700,
           2227000,
           662850,
           157553000,
           2252965,
           5439568
          ],
          "sizemode": "area",
          "sizeref": 435928.2961983471,
          "symbol": "circle"
         },
         "mode": "markers",
         "name": "Americas",
         "orientation": "v",
         "showlegend": true,
         "type": "scatter",
         "x": [
          5911.315053,
          2677.3263469999997,
          2108.944355,
          11367.16112,
          3939.9787890000002,
          2144.115096,
          2627.0094710000003,
          5586.53878,
          1397.7171369999999,
          3522.110717,
          3048.3029,
          2428.2377690000003,
          1840.366939,
          2194.926204,
          2898.5308809999997,
          3478.125529,
          3112.363948,
          2480.380334,
          1952.3087010000002,
          3758.523437,
          3081.959785,
          3023.271928,
          13990.482080000002,
          5716.766744,
          7689.799761
         ],
         "xaxis": "x",
         "y": [
          62.485,
          40.414,
          50.917,
          68.75,
          54.745,
          50.643,
          57.206,
          59.42100000000001,
          45.928000000000004,
          48.357,
          45.262,
          42.023,
          37.579,
          41.912,
          58.53,
          50.788999999999994,
          42.31399999999999,
          55.191,
          62.648999999999994,
          43.902,
          64.28,
          59.1,
          68.44,
          66.071,
          55.088
         ],
         "yaxis": "y"
        },
        {
         "hovertemplate": "<b>%{hovertext}</b><br><br>continent=Oceania<br>year=1952<br>gdpPercap=%{x}<br>lifeExp=%{y}<br>pop=%{marker.size}<extra></extra>",
         "hovertext": [
          "Australia",
          "New Zealand"
         ],
         "legendgroup": "Oceania",
         "marker": {
          "color": "#FFA15A",
          "size": [
           8691212,
           1994794
          ],
          "sizemode": "area",
          "sizeref": 435928.2961983471,
          "symbol": "circle"
         },
         "mode": "markers",
         "name": "Oceania",
         "orientation": "v",
         "showlegend": true,
         "type": "scatter",
         "x": [
          10039.595640000001,
          10556.575659999999
         ],
         "xaxis": "x",
         "y": [
          69.12,
          69.39
         ],
         "yaxis": "y"
        }
       ],
       "frames": [
        {
         "data": [
          {
           "hovertemplate": "<b>%{hovertext}</b><br><br>continent=Asia<br>year=1952<br>gdpPercap=%{x}<br>lifeExp=%{y}<br>pop=%{marker.size}<extra></extra>",
           "hovertext": [
            "Afghanistan",
            "Bahrain",
            "Bangladesh",
            "Cambodia",
            "China",
            "Hong Kong, China",
            "India",
            "Indonesia",
            "Iran",
            "Iraq",
            "Israel",
            "Japan",
            "Jordan",
            "Korea, Dem. Rep.",
            "Korea, Rep.",
            "Kuwait",
            "Lebanon",
            "Malaysia",
            "Mongolia",
            "Myanmar",
            "Nepal",
            "Oman",
            "Pakistan",
            "Philippines",
            "Saudi Arabia",
            "Singapore",
            "Sri Lanka",
            "Syria",
            "Taiwan",
            "Thailand",
            "Vietnam",
            "West Bank and Gaza",
            "Yemen, Rep."
           ],
           "legendgroup": "Asia",
           "marker": {
            "color": "#636efa",
            "size": [
             8425333,
             120447,
             46886859,
             4693836,
             556263527,
             2125900,
             372000000,
             82052000,
             17272000,
             5441766,
             1620914,
             86459025,
             607914,
             8865488,
             20947571,
             160000,
             1439529,
             6748378,
             800663,
             20092996,
             9182536,
             507833,
             41346560,
             22438691,
             4005677,
             1127000,
             7982342,
             3661549,
             8550362,
             21289402,
             26246839,
             1030585,
             4963829
            ],
            "sizemode": "area",
            "sizeref": 435928.2961983471,
            "symbol": "circle"
           },
           "mode": "markers",
           "name": "Asia",
           "orientation": "v",
           "showlegend": true,
           "type": "scatter",
           "x": [
            779.4453145,
            9867.084765000001,
            684.2441716,
            368.46928560000003,
            400.44861099999997,
            3054.421209,
            546.5657493,
            749.6816546,
            3035.326002,
            4129.766056,
            4086.522128,
            3216.956347,
            1546.907807,
            1088.277758,
            1030.592226,
            108382.3529,
            4834.804067,
            1831.132894,
            786.5668575,
            331,
            545.8657228999999,
            1828.230307,
            684.5971437999999,
            1272.880995,
            6459.5548229999995,
            2315.138227,
            1083.53203,
            1643.485354,
            1206.947913,
            757.7974177,
            605.0664917,
            1515.5923289999998,
            781.7175761
           ],
           "xaxis": "x",
           "y": [
            28.801,
            50.93899999999999,
            37.484,
            39.417,
            44,
            60.96,
            37.373000000000005,
            37.468,
            44.869,
            45.32,
            65.39,
            63.03,
            43.158,
            50.056000000000004,
            47.453,
            55.565,
            55.928000000000004,
            48.463,
            42.244,
            36.319,
            36.157,
            37.578,
            43.43600000000001,
            47.751999999999995,
            39.875,
            60.396,
            57.593,
            45.883,
            58.5,
            50.848,
            40.412,
            43.16,
            32.548
           ],
           "yaxis": "y"
          },
          {
           "hovertemplate": "<b>%{hovertext}</b><br><br>continent=Europe<br>year=1952<br>gdpPercap=%{x}<br>lifeExp=%{y}<br>pop=%{marker.size}<extra></extra>",
           "hovertext": [
            "Albania",
            "Austria",
            "Belgium",
            "Bosnia and Herzegovina",
            "Bulgaria",
            "Croatia",
            "Czech Republic",
            "Denmark",
            "Finland",
            "France",
            "Germany",
            "Greece",
            "Hungary",
            "Iceland",
            "Ireland",
            "Italy",
            "Montenegro",
            "Netherlands",
            "Norway",
            "Poland",
            "Portugal",
            "Romania",
            "Serbia",
            "Slovak Republic",
            "Slovenia",
            "Spain",
            "Sweden",
            "Switzerland",
            "Turkey",
            "United Kingdom"
           ],
           "legendgroup": "Europe",
           "marker": {
            "color": "#EF553B",
            "size": [
             1282697,
             6927772,
             8730405,
             2791000,
             7274900,
             3882229,
             9125183,
             4334000,
             4090500,
             42459667,
             69145952,
             7733250,
             9504000,
             147962,
             2952156,
             47666000,
             413834,
             10381988,
             3327728,
             25730551,
             8526050,
             16630000,
             6860147,
             3558137,
             1489518,
             28549870,
             7124673,
             4815000,
             22235677,
             50430000
            ],
            "sizemode": "area",
            "sizeref": 435928.2961983471,
            "symbol": "circle"
           },
           "mode": "markers",
           "name": "Europe",
           "orientation": "v",
           "showlegend": true,
           "type": "scatter",
           "x": [
            1601.056136,
            6137.076492,
            8343.105126999999,
            973.5331947999999,
            2444.2866480000002,
            3119.23652,
            6876.14025,
            9692.385245,
            6424.519071,
            7029.809327,
            7144.114393000001,
            3530.690067,
            5263.6738159999995,
            7267.688428,
            5210.280328,
            4931.404154999999,
            2647.585601,
            8941.571858,
            10095.42172,
            4029.3296990000003,
            3068.319867,
            3144.613186,
            3581.4594479999996,
            5074.659104,
            4215.041741,
            3834.0347420000003,
            8527.844662000001,
            14734.23275,
            1969.1009800000002,
            9979.508487000001
           ],
           "xaxis": "x",
           "y": [
            55.23,
            66.8,
            68,
            53.82,
            59.6,
            61.21,
            66.87,
            70.78,
            66.55,
            67.41,
            67.5,
            65.86,
            64.03,
            72.49,
            66.91,
            65.94,
            59.163999999999994,
            72.13,
            72.67,
            61.31,
            59.82,
            61.05,
            57.996,
            64.36,
            65.57,
            64.94,
            71.86,
            69.62,
            43.585,
            69.18
           ],
           "yaxis": "y"
          },
          {
           "hovertemplate": "<b>%{hovertext}</b><br><br>continent=Africa<br>year=1952<br>gdpPercap=%{x}<br>lifeExp=%{y}<br>pop=%{marker.size}<extra></extra>",
           "hovertext": [
            "Algeria",
            "Angola",
            "Benin",
            "Botswana",
            "Burkina Faso",
            "Burundi",
            "Cameroon",
            "Central African Republic",
            "Chad",
            "Comoros",
            "Congo, Dem. Rep.",
            "Congo, Rep.",
            "Cote d'Ivoire",
            "Djibouti",
            "Egypt",
            "Equatorial Guinea",
            "Eritrea",
            "Ethiopia",
            "Gabon",
            "Gambia",
            "Ghana",
            "Guinea",
            "Guinea-Bissau",
            "Kenya",
            "Lesotho",
            "Liberia",
            "Libya",
            "Madagascar",
            "Malawi",
            "Mali",
            "Mauritania",
            "Mauritius",
            "Morocco",
            "Mozambique",
            "Namibia",
            "Niger",
            "Nigeria",
            "Reunion",
            "Rwanda",
            "Sao Tome and Principe",
            "Senegal",
            "Sierra Leone",
            "Somalia",
            "South Africa",
            "Sudan",
            "Swaziland",
            "Tanzania",
            "Togo",
            "Tunisia",
            "Uganda",
            "Zambia",
            "Zimbabwe"
           ],
           "legendgroup": "Africa",
           "marker": {
            "color": "#00cc96",
            "size": [
             9279525,
             4232095,
             1738315,
             442308,
             4469979,
             2445618,
             5009067,
             1291695,
             2682462,
             153936,
             14100005,
             854885,
             2977019,
             63149,
             22223309,
             216964,
             1438760,
             20860941,
             420702,
             284320,
             5581001,
             2664249,
             580653,
             6464046,
             748747,
             863308,
             1019729,
             4762912,
             2917802,
             3838168,
             1022556,
             516556,
             9939217,
             6446316,
             485831,
             3379468,
             33119096,
             257700,
             2534927,
             60011,
             2755589,
             2143249,
             2526994,
             14264935,
             8504667,
             290243,
             8322925,
             1219113,
             3647735,
             5824797,
             2672000,
             3080907
            ],
            "sizemode": "area",
            "sizeref": 435928.2961983471,
            "symbol": "circle"
           },
           "mode": "markers",
           "name": "Africa",
           "orientation": "v",
           "showlegend": true,
           "type": "scatter",
           "x": [
            2449.008185,
            3520.610273,
            1062.7522,
            851.2411407,
            543.2552413,
            339.29645869999996,
            1172.667655,
            1071.310713,
            1178.665927,
            1102.990936,
            780.5423257,
            2125.621418,
            1388.594732,
            2669.529475,
            1418.822445,
            375.6431231,
            328.94055710000004,
            362.1462796,
            4293.476475,
            485.2306591,
            911.2989371,
            510.19649230000005,
            299.850319,
            853.5409189999999,
            298.8462121,
            575.5729961000001,
            2387.54806,
            1443.011715,
            369.1650802,
            452.3369807,
            743.1159097,
            1967.955707,
            1688.20357,
            468.5260381,
            2423.780443,
            761.879376,
            1077.281856,
            2718.885295,
            493.32387520000003,
            879.5835855,
            1450.356983,
            879.7877358,
            1135.749842,
            4725.295531000001,
            1615.991129,
            1148.376626,
            716.6500721,
            859.8086567,
            1468.475631,
            734.753484,
            1147.388831,
            406.8841148
           ],
           "xaxis": "x",
           "y": [
            43.077,
            30.015,
            38.223,
            47.622,
            31.975,
            39.031,
            38.523,
            35.463,
            38.092,
            40.715,
            39.143,
            42.111000000000004,
            40.477,
            34.812,
            41.893,
            34.482,
            35.928000000000004,
            34.078,
            37.003,
            30,
            43.148999999999994,
            33.609,
            32.5,
            42.27,
            42.138000000000005,
            38.48,
            42.723,
            36.681,
            36.256,
            33.685,
            40.543,
            50.986000000000004,
            42.873000000000005,
            31.285999999999998,
            41.725,
            37.444,
            36.324,
            52.724,
            40,
            46.471000000000004,
            37.278,
            30.331,
            32.978,
            45.00899999999999,
            38.635,
            41.407,
            41.215,
            38.596,
            44.6,
            39.978,
            42.038000000000004,
            48.451
           ],
           "yaxis": "y"
          },
          {
           "hovertemplate": "<b>%{hovertext}</b><br><br>continent=Americas<br>year=1952<br>gdpPercap=%{x}<br>lifeExp=%{y}<br>pop=%{marker.size}<extra></extra>",
           "hovertext": [
            "Argentina",
            "Bolivia",
            "Brazil",
            "Canada",
            "Chile",
            "Colombia",
            "Costa Rica",
            "Cuba",
            "Dominican Republic",
            "Ecuador",
            "El Salvador",
            "Guatemala",
            "Haiti",
            "Honduras",
            "Jamaica",
            "Mexico",
            "Nicaragua",
            "Panama",
            "Paraguay",
            "Peru",
            "Puerto Rico",
            "Trinidad and Tobago",
            "United States",
            "Uruguay",
            "Venezuela"
           ],
           "legendgroup": "Americas",
           "marker": {
            "color": "#ab63fa",
            "size": [
             17876956,
             2883315,
             56602560,
             14785584,
             6377619,
             12350771,
             926317,
             6007797,
             2491346,
             3548753,
             2042865,
             3146381,
             3201488,
             1517453,
             1426095,
             30144317,
             1165790,
             940080,
             1555876,
             8025700,
             2227000,
             662850,
             157553000,
             2252965,
             5439568
            ],
            "sizemode": "area",
            "sizeref": 435928.2961983471,
            "symbol": "circle"
           },
           "mode": "markers",
           "name": "Americas",
           "orientation": "v",
           "showlegend": true,
           "type": "scatter",
           "x": [
            5911.315053,
            2677.3263469999997,
            2108.944355,
            11367.16112,
            3939.9787890000002,
            2144.115096,
            2627.0094710000003,
            5586.53878,
            1397.7171369999999,
            3522.110717,
            3048.3029,
            2428.2377690000003,
            1840.366939,
            2194.926204,
            2898.5308809999997,
            3478.125529,
            3112.363948,
            2480.380334,
            1952.3087010000002,
            3758.523437,
            3081.959785,
            3023.271928,
            13990.482080000002,
            5716.766744,
            7689.799761
           ],
           "xaxis": "x",
           "y": [
            62.485,
            40.414,
            50.917,
            68.75,
            54.745,
            50.643,
            57.206,
            59.42100000000001,
            45.928000000000004,
            48.357,
            45.262,
            42.023,
            37.579,
            41.912,
            58.53,
            50.788999999999994,
            42.31399999999999,
            55.191,
            62.648999999999994,
            43.902,
            64.28,
            59.1,
            68.44,
            66.071,
            55.088
           ],
           "yaxis": "y"
          },
          {
           "hovertemplate": "<b>%{hovertext}</b><br><br>continent=Oceania<br>year=1952<br>gdpPercap=%{x}<br>lifeExp=%{y}<br>pop=%{marker.size}<extra></extra>",
           "hovertext": [
            "Australia",
            "New Zealand"
           ],
           "legendgroup": "Oceania",
           "marker": {
            "color": "#FFA15A",
            "size": [
             8691212,
             1994794
            ],
            "sizemode": "area",
            "sizeref": 435928.2961983471,
            "symbol": "circle"
           },
           "mode": "markers",
           "name": "Oceania",
           "orientation": "v",
           "showlegend": true,
           "type": "scatter",
           "x": [
            10039.595640000001,
            10556.575659999999
           ],
           "xaxis": "x",
           "y": [
            69.12,
            69.39
           ],
           "yaxis": "y"
          }
         ],
         "name": "1952"
        },
        {
         "data": [
          {
           "hovertemplate": "<b>%{hovertext}</b><br><br>continent=Asia<br>year=1957<br>gdpPercap=%{x}<br>lifeExp=%{y}<br>pop=%{marker.size}<extra></extra>",
           "hovertext": [
            "Afghanistan",
            "Bahrain",
            "Bangladesh",
            "Cambodia",
            "China",
            "Hong Kong, China",
            "India",
            "Indonesia",
            "Iran",
            "Iraq",
            "Israel",
            "Japan",
            "Jordan",
            "Korea, Dem. Rep.",
            "Korea, Rep.",
            "Kuwait",
            "Lebanon",
            "Malaysia",
            "Mongolia",
            "Myanmar",
            "Nepal",
            "Oman",
            "Pakistan",
            "Philippines",
            "Saudi Arabia",
            "Singapore",
            "Sri Lanka",
            "Syria",
            "Taiwan",
            "Thailand",
            "Vietnam",
            "West Bank and Gaza",
            "Yemen, Rep."
           ],
           "legendgroup": "Asia",
           "marker": {
            "color": "#636efa",
            "size": [
             9240934,
             138655,
             51365468,
             5322536,
             637408000,
             2736300,
             409000000,
             90124000,
             19792000,
             6248643,
             1944401,
             91563009,
             746559,
             9411381,
             22611552,
             212846,
             1647412,
             7739235,
             882134,
             21731844,
             9682338,
             561977,
             46679944,
             26072194,
             4419650,
             1445929,
             9128546,
             4149908,
             10164215,
             25041917,
             28998543,
             1070439,
             5498090
            ],
            "sizemode": "area",
            "sizeref": 435928.2961983471,
            "symbol": "circle"
           },
           "mode": "markers",
           "name": "Asia",
           "orientation": "v",
           "showlegend": true,
           "type": "scatter",
           "x": [
            820.8530296,
            11635.79945,
            661.6374577,
            434.0383364,
            575.9870009,
            3629.076457,
            590.061996,
            858.9002707000001,
            3290.257643,
            6229.333562,
            5385.278451,
            4317.694365,
            1886.080591,
            1571.134655,
            1487.593537,
            113523.1329,
            6089.786934000001,
            1810.0669920000003,
            912.6626085,
            350,
            597.9363557999999,
            2242.746551,
            747.0835292,
            1547.9448439999999,
            8157.591248000001,
            2843.104409,
            1072.546602,
            2117.234893,
            1507.86129,
            793.5774147999999,
            676.2854477999999,
            1827.0677420000002,
            804.8304547
           ],
           "xaxis": "x",
           "y": [
            30.331999999999997,
            53.832,
            39.348,
            41.36600000000001,
            50.54896,
            64.75,
            40.249,
            39.918,
            47.181000000000004,
            48.437,
            67.84,
            65.5,
            45.669,
            54.081,
            52.681000000000004,
            58.033,
            59.489,
            52.102,
            45.248000000000005,
            41.905,
            37.686,
            40.08,
            45.556999999999995,
            51.333999999999996,
            42.868,
            63.178999999999995,
            61.456,
            48.284,
            62.4,
            53.63,
            42.887,
            45.67100000000001,
            33.97
           ],
           "yaxis": "y"
          },
          {
           "hovertemplate": "<b>%{hovertext}</b><br><br>continent=Europe<br>year=1957<br>gdpPercap=%{x}<br>lifeExp=%{y}<br>pop=%{marker.size}<extra></extra>",
           "hovertext": [
            "Albania",
            "Austria",
            "Belgium",
            "Bosnia and Herzegovina",
            "Bulgaria",
            "Croatia",
            "Czech Republic",
            "Denmark",
            "Finland",
            "France",
            "Germany",
            "Greece",
            "Hungary",
            "Iceland",
            "Ireland",
            "Italy",
            "Montenegro",
            "Netherlands",
            "Norway",
            "Poland",
            "Portugal",
            "Romania",
            "Serbia",
            "Slovak Republic",
            "Slovenia",
            "Spain",
            "Sweden",
            "Switzerland",
            "Turkey",
            "United Kingdom"
           ],
           "legendgroup": "Europe",
           "marker": {
            "color": "#EF553B",
            "size": [
             1476505,
             6965860,
             8989111,
             3076000,
             7651254,
             3991242,
             9513758,
             4487831,
             4324000,
             44310863,
             71019069,
             8096218,
             9839000,
             165110,
             2878220,
             49182000,
             442829,
             11026383,
             3491938,
             28235346,
             8817650,
             17829327,
             7271135,
             3844277,
             1533070,
             29841614,
             7363802,
             5126000,
             25670939,
             51430000
            ],
            "sizemode": "area",
            "sizeref": 435928.2961983471,
            "symbol": "circle"
           },
           "mode": "markers",
           "name": "Europe",
           "orientation": "v",
           "showlegend": true,
           "type": "scatter",
           "x": [
            1942.2842440000002,
            8842.59803,
            9714.960623,
            1353.989176,
            3008.670727,
            4338.231617,
            8256.343918,
            11099.65935,
            7545.415386,
            8662.834898000001,
            10187.82665,
            4916.299889,
            6040.180011,
            9244.001412,
            5599.077872,
            6248.656232,
            3682.259903,
            11276.193440000001,
            11653.97304,
            4734.253019,
            3774.571743,
            3943.370225,
            4981.090891,
            6093.2629799999995,
            5862.276629,
            4564.80241,
            9911.878226,
            17909.48973,
            2218.754257,
            11283.17795
           ],
           "xaxis": "x",
           "y": [
            59.28,
            67.48,
            69.24,
            58.45,
            66.61,
            64.77,
            69.03,
            71.81,
            67.49,
            68.93,
            69.1,
            67.86,
            66.41,
            73.47,
            68.9,
            67.81,
            61.448,
            72.99,
            73.44,
            65.77,
            61.51,
            64.1,
            61.685,
            67.45,
            67.85,
            66.66,
            72.49,
            70.56,
            48.07899999999999,
            70.42
           ],
           "yaxis": "y"
          },
          {
           "hovertemplate": "<b>%{hovertext}</b><br><br>continent=Africa<br>year=1957<br>gdpPercap=%{x}<br>lifeExp=%{y}<br>pop=%{marker.size}<extra></extra>",
           "hovertext": [
            "Algeria",
            "Angola",
            "Benin",
            "Botswana",
            "Burkina Faso",
            "Burundi",
            "Cameroon",
            "Central African Republic",
            "Chad",
            "Comoros",
            "Congo, Dem. Rep.",
            "Congo, Rep.",
            "Cote d'Ivoire",
            "Djibouti",
            "Egypt",
            "Equatorial Guinea",
            "Eritrea",
            "Ethiopia",
            "Gabon",
            "Gambia",
            "Ghana",
            "Guinea",
            "Guinea-Bissau",
            "Kenya",
            "Lesotho",
            "Liberia",
            "Libya",
            "Madagascar",
            "Malawi",
            "Mali",
            "Mauritania",
            "Mauritius",
            "Morocco",
            "Mozambique",
            "Namibia",
            "Niger",
            "Nigeria",
            "Reunion",
            "Rwanda",
            "Sao Tome and Principe",
            "Senegal",
            "Sierra Leone",
            "Somalia",
            "South Africa",
            "Sudan",
            "Swaziland",
            "Tanzania",
            "Togo",
            "Tunisia",
            "Uganda",
            "Zambia",
            "Zimbabwe"
           ],
           "legendgroup": "Africa",
           "marker": {
            "color": "#00cc96",
            "size": [
             10270856,
             4561361,
             1925173,
             474639,
             4713416,
             2667518,
             5359923,
             1392284,
             2894855,
             170928,
             15577932,
             940458,
             3300000,
             71851,
             25009741,
             232922,
             1542611,
             22815614,
             434904,
             323150,
             6391288,
             2876726,
             601095,
             7454779,
             813338,
             975950,
             1201578,
             5181679,
             3221238,
             4241884,
             1076852,
             609816,
             11406350,
             7038035,
             548080,
             3692184,
             37173340,
             308700,
             2822082,
             61325,
             3054547,
             2295678,
             2780415,
             16151549,
             9753392,
             326741,
             9452826,
             1357445,
             3950849,
             6675501,
             3016000,
             3646340
            ],
            "sizemode": "area",
            "sizeref": 435928.2961983471,
            "symbol": "circle"
           },
           "mode": "markers",
           "name": "Africa",
           "orientation": "v",
           "showlegend": true,
           "type": "scatter",
           "x": [
            3013.976023,
            3827.9404649999997,
            959.6010805,
            918.2325348999999,
            617.1834647999999,
            379.56462810000005,
            1313.048099,
            1190.844328,
            1308.495577,
            1211.1485480000001,
            905.8602302999999,
            2315.056572,
            1500.895925,
            2864.9690760000003,
            1458.915272,
            426.0964081,
            344.16188589999996,
            378.90416319999997,
            4976.198099,
            520.9267111,
            1043.5615369999998,
            576.2670245,
            431.7904566000001,
            944.4383152,
            335.99711510000003,
            620.9699901,
            3448.284395,
            1589.20275,
            416.36980639999996,
            490.3821867,
            846.1202613,
            2034.037981,
            1642.002314,
            495.5868333000001,
            2621.448058,
            835.5234025000001,
            1100.5925630000002,
            2769.451844,
            540.2893982999999,
            860.7369026,
            1567.653006,
            1004.484437,
            1258.1474130000001,
            5487.104219,
            1770.3370739999998,
            1244.708364,
            698.5356073,
            925.9083201999999,
            1395.232468,
            774.3710692000001,
            1311.956766,
            518.7642681
           ],
           "xaxis": "x",
           "y": [
            45.685,
            31.999000000000002,
            40.358000000000004,
            49.618,
            34.906,
            40.533,
            40.428000000000004,
            37.464,
            39.881,
            42.46,
            40.652,
            45.053000000000004,
            42.468999999999994,
            37.328,
            44.443999999999996,
            35.983000000000004,
            38.047,
            36.667,
            38.999,
            32.065,
            44.778999999999996,
            34.558,
            33.489000000000004,
            44.68600000000001,
            45.047,
            39.486,
            45.288999999999994,
            38.865,
            37.207,
            35.306999999999995,
            42.338,
            58.089,
            45.423,
            33.779,
            45.226000000000006,
            38.598,
            37.802,
            55.09,
            41.5,
            48.945,
            39.329,
            31.57,
            34.977,
            47.985,
            39.624,
            43.424,
            42.974,
            41.208,
            47.1,
            42.571000000000005,
            44.077,
            50.468999999999994
           ],
           "yaxis": "y"
          },
          {
           "hovertemplate": "<b>%{hovertext}</b><br><br>continent=Americas<br>year=1957<br>gdpPercap=%{x}<br>lifeExp=%{y}<br>pop=%{marker.size}<extra></extra>",
           "hovertext": [
            "Argentina",
            "Bolivia",
            "Brazil",
            "Canada",
            "Chile",
            "Colombia",
            "Costa Rica",
            "Cuba",
            "Dominican Republic",
            "Ecuador",
            "El Salvador",
            "Guatemala",
            "Haiti",
            "Honduras",
            "Jamaica",
            "Mexico",
            "Nicaragua",
            "Panama",
            "Paraguay",
            "Peru",
            "Puerto Rico",
            "Trinidad and Tobago",
            "United States",
            "Uruguay",
            "Venezuela"
           ],
           "legendgroup": "Americas",
           "marker": {
            "color": "#ab63fa",
            "size": [
             19610538,
             3211738,
             65551171,
             17010154,
             7048426,
             14485993,
             1112300,
             6640752,
             2923186,
             4058385,
             2355805,
             3640876,
             3507701,
             1770390,
             1535090,
             35015548,
             1358828,
             1063506,
             1770902,
             9146100,
             2260000,
             764900,
             171984000,
             2424959,
             6702668
            ],
            "sizemode": "area",
            "sizeref": 435928.2961983471,
            "symbol": "circle"
           },
           "mode": "markers",
           "name": "Americas",
           "orientation": "v",
           "showlegend": true,
           "type": "scatter",
           "x": [
            6856.856212000001,
            2127.686326,
            2487.365989,
            12489.95006,
            4315.6227229999995,
            2323.805581,
            2990.010802,
            6092.174359000001,
            1544.402995,
            3780.5466509999997,
            3421.523218,
            2617.155967,
            1726.887882,
            2220.487682,
            4756.525781,
            4131.546641,
            3457.415947,
            2961.800905,
            2046.1547059999998,
            4245.256697999999,
            3907.1561890000003,
            4100.3934,
            14847.12712,
            6150.772969,
            9802.466526
           ],
           "xaxis": "x",
           "y": [
            64.399,
            41.89,
            53.285,
            69.96,
            56.074,
            55.118,
            60.026,
            62.325,
            49.828,
            51.356,
            48.57,
            44.141999999999996,
            40.696,
            44.665,
            62.61,
            55.19,
            45.431999999999995,
            59.201,
            63.196000000000005,
            46.263000000000005,
            68.54,
            61.8,
            69.49,
            67.044,
            57.907
           ],
           "yaxis": "y"
          },
          {
           "hovertemplate": "<b>%{hovertext}</b><br><br>continent=Oceania<br>year=1957<br>gdpPercap=%{x}<br>lifeExp=%{y}<br>pop=%{marker.size}<extra></extra>",
           "hovertext": [
            "Australia",
            "New Zealand"
           ],
           "legendgroup": "Oceania",
           "marker": {
            "color": "#FFA15A",
            "size": [
             9712569,
             2229407
            ],
            "sizemode": "area",
            "sizeref": 435928.2961983471,
            "symbol": "circle"
           },
           "mode": "markers",
           "name": "Oceania",
           "orientation": "v",
           "showlegend": true,
           "type": "scatter",
           "x": [
            10949.64959,
            12247.39532
           ],
           "xaxis": "x",
           "y": [
            70.33,
            70.26
           ],
           "yaxis": "y"
          }
         ],
         "name": "1957"
        },
        {
         "data": [
          {
           "hovertemplate": "<b>%{hovertext}</b><br><br>continent=Asia<br>year=1962<br>gdpPercap=%{x}<br>lifeExp=%{y}<br>pop=%{marker.size}<extra></extra>",
           "hovertext": [
            "Afghanistan",
            "Bahrain",
            "Bangladesh",
            "Cambodia",
            "China",
            "Hong Kong, China",
            "India",
            "Indonesia",
            "Iran",
            "Iraq",
            "Israel",
            "Japan",
            "Jordan",
            "Korea, Dem. Rep.",
            "Korea, Rep.",
            "Kuwait",
            "Lebanon",
            "Malaysia",
            "Mongolia",
            "Myanmar",
            "Nepal",
            "Oman",
            "Pakistan",
            "Philippines",
            "Saudi Arabia",
            "Singapore",
            "Sri Lanka",
            "Syria",
            "Taiwan",
            "Thailand",
            "Vietnam",
            "West Bank and Gaza",
            "Yemen, Rep."
           ],
           "legendgroup": "Asia",
           "marker": {
            "color": "#636efa",
            "size": [
             10267083,
             171863,
             56839289,
             6083619,
             665770000,
             3305200,
             454000000,
             99028000,
             22874000,
             7240260,
             2310904,
             95831757,
             933559,
             10917494,
             26420307,
             358266,
             1886848,
             8906385,
             1010280,
             23634436,
             10332057,
             628164,
             53100671,
             30325264,
             4943029,
             1750200,
             10421936,
             4834621,
             11918938,
             29263397,
             33796140,
             1133134,
             6120081
            ],
            "sizemode": "area",
            "sizeref": 435928.2961983471,
            "symbol": "circle"
           },
           "mode": "markers",
           "name": "Asia",
           "orientation": "v",
           "showlegend": true,
           "type": "scatter",
           "x": [
            853.1007099999999,
            12753.27514,
            686.3415537999999,
            496.9136476,
            487.6740183,
            4692.648271999999,
            658.3471509,
            849.2897700999999,
            4187.329802,
            8341.737815,
            7105.630706,
            6576.649461,
            2348.009158,
            1621.693598,
            1536.3443869999999,
            95458.11176,
            5714.560611,
            2036.8849440000001,
            1056.353958,
            388,
            652.3968593,
            2924.638113,
            803.3427418,
            1649.5521529999999,
            11626.41975,
            3674.735572,
            1074.4719599999999,
            2193.037133,
            1822.879028,
            1002.1991720000001,
            772.0491602000001,
            2198.9563120000003,
            825.6232006
           ],
           "xaxis": "x",
           "y": [
            31.997,
            56.923,
            41.216,
            43.415,
            44.50136,
            67.65,
            43.605,
            42.518,
            49.325,
            51.457,
            69.39,
            68.73,
            48.126000000000005,
            56.656000000000006,
            55.292,
            60.47,
            62.093999999999994,
            55.736999999999995,
            48.251000000000005,
            45.108000000000004,
            39.393,
            43.165,
            47.67,
            54.757,
            45.913999999999994,
            65.798,
            62.192,
            50.305,
            65.2,
            56.06100000000001,
            45.363,
            48.126999999999995,
            35.18
           ],
           "yaxis": "y"
          },
          {
           "hovertemplate": "<b>%{hovertext}</b><br><br>continent=Europe<br>year=1962<br>gdpPercap=%{x}<br>lifeExp=%{y}<br>pop=%{marker.size}<extra></extra>",
           "hovertext": [
            "Albania",
            "Austria",
            "Belgium",
            "Bosnia and Herzegovina",
            "Bulgaria",
            "Croatia",
            "Czech Republic",
            "Denmark",
            "Finland",
            "France",
            "Germany",
            "Greece",
            "Hungary",
            "Iceland",
            "Ireland",
            "Italy",
            "Montenegro",
            "Netherlands",
            "Norway",
            "Poland",
            "Portugal",
            "Romania",
            "Serbia",
            "Slovak Republic",
            "Slovenia",
            "Spain",
            "Sweden",
            "Switzerland",
            "Turkey",
            "United Kingdom"
           ],
           "legendgroup": "Europe",
           "marker": {
            "color": "#EF553B",
            "size": [
             1728137,
             7129864,
             9218400,
             3349000,
             8012946,
             4076557,
             9620282,
             4646899,
             4491443,
             47124000,
             73739117,
             8448233,
             10063000,
             182053,
             2830000,
             50843200,
             474528,
             11805689,
             3638919,
             30329617,
             9019800,
             18680721,
             7616060,
             4237384,
             1582962,
             31158061,
             7561588,
             5666000,
             29788695,
             53292000
            ],
            "sizemode": "area",
            "sizeref": 435928.2961983471,
            "symbol": "circle"
           },
           "mode": "markers",
           "name": "Europe",
           "orientation": "v",
           "showlegend": true,
           "type": "scatter",
           "x": [
            2312.888958,
            10750.721109999999,
            10991.20676,
            1709.683679,
            4254.337839,
            5477.890018,
            10136.86713,
            13583.31351,
            9371.842561,
            10560.48553,
            12902.46291,
            6017.190732999999,
            7550.359877,
            10350.15906,
            6631.597314,
            8243.58234,
            4649.593785,
            12790.849559999999,
            13450.40151,
            5338.752143,
            4727.954889,
            4734.9975859999995,
            6289.629157,
            7481.1075980000005,
            7402.303395,
            5693.843879,
            12329.441920000001,
            20431.0927,
            2322.8699079999997,
            12477.17707
           ],
           "xaxis": "x",
           "y": [
            64.82,
            69.54,
            70.25,
            61.93,
            69.51,
            67.13,
            69.9,
            72.35,
            68.75,
            70.51,
            70.3,
            69.51,
            67.96,
            73.68,
            70.29,
            69.24,
            63.728,
            73.23,
            73.47,
            67.64,
            64.39,
            66.8,
            64.531,
            70.33,
            69.15,
            69.69,
            73.37,
            71.32,
            52.098,
            70.76
           ],
           "yaxis": "y"
          },
          {
           "hovertemplate": "<b>%{hovertext}</b><br><br>continent=Africa<br>year=1962<br>gdpPercap=%{x}<br>lifeExp=%{y}<br>pop=%{marker.size}<extra></extra>",
           "hovertext": [
            "Algeria",
            "Angola",
            "Benin",
            "Botswana",
            "Burkina Faso",
            "Burundi",
            "Cameroon",
            "Central African Republic",
            "Chad",
            "Comoros",
            "Congo, Dem. Rep.",
            "Congo, Rep.",
            "Cote d'Ivoire",
            "Djibouti",
            "Egypt",
            "Equatorial Guinea",
            "Eritrea",
            "Ethiopia",
            "Gabon",
            "Gambia",
            "Ghana",
            "Guinea",
            "Guinea-Bissau",
            "Kenya",
            "Lesotho",
            "Liberia",
            "Libya",
            "Madagascar",
            "Malawi",
            "Mali",
            "Mauritania",
            "Mauritius",
            "Morocco",
            "Mozambique",
            "Namibia",
            "Niger",
            "Nigeria",
            "Reunion",
            "Rwanda",
            "Sao Tome and Principe",
            "Senegal",
            "Sierra Leone",
            "Somalia",
            "South Africa",
            "Sudan",
            "Swaziland",
            "Tanzania",
            "Togo",
            "Tunisia",
            "Uganda",
            "Zambia",
            "Zimbabwe"
           ],
           "legendgroup": "Africa",
           "marker": {
            "color": "#00cc96",
            "size": [
             11000948,
             4826015,
             2151895,
             512764,
             4919632,
             2961915,
             5793633,
             1523478,
             3150417,
             191689,
             17486434,
             1047924,
             3832408,
             89898,
             28173309,
             249220,
             1666618,
             25145372,
             455661,
             374020,
             7355248,
             3140003,
             627820,
             8678557,
             893143,
             1112796,
             1441863,
             5703324,
             3628608,
             4690372,
             1146757,
             701016,
             13056604,
             7788944,
             621392,
             4076008,
             41871351,
             358900,
             3051242,
             65345,
             3430243,
             2467895,
             3080153,
             18356657,
             11183227,
             370006,
             10863958,
             1528098,
             4286552,
             7688797,
             3421000,
             4277736
            ],
            "sizemode": "area",
            "sizeref": 435928.2961983471,
            "symbol": "circle"
           },
           "mode": "markers",
           "name": "Africa",
           "orientation": "v",
           "showlegend": true,
           "type": "scatter",
           "x": [
            2550.81688,
            4269.276742,
            949.4990641,
            983.6539764,
            722.5120206,
            355.2032273,
            1399.607441,
            1193.068753,
            1389.817618,
            1406.648278,
            896.3146335000001,
            2464.783157,
            1728.8694280000002,
            3020.989263,
            1693.335853,
            582.8419713999999,
            380.99584330000005,
            419.4564161,
            6631.4592219999995,
            599.650276,
            1190.0411179999999,
            686.3736739,
            522.0343725,
            896.9663732,
            411.80062660000004,
            634.1951625,
            6757.0308159999995,
            1643.38711,
            427.90108560000004,
            496.17434280000003,
            1055.8960359999999,
            2529.0674870000003,
            1566.353493,
            556.6863539,
            3173.215595,
            997.7661127,
            1150.9274779999998,
            3173.72334,
            597.4730727000001,
            1071.551119,
            1654.988723,
            1116.6398769999998,
            1369.488336,
            5768.729717,
            1959.593767,
            1856.182125,
            722.0038073,
            1067.5348099999999,
            1660.30321,
            767.2717397999999,
            1452.725766,
            527.2721818
           ],
           "xaxis": "x",
           "y": [
            48.303000000000004,
            34,
            42.618,
            51.52,
            37.814,
            42.045,
            42.643,
            39.475,
            41.716,
            44.467,
            42.122,
            48.435,
            44.93,
            39.693000000000005,
            46.992,
            37.485,
            40.158,
            40.059,
            40.489000000000004,
            33.896,
            46.452,
            35.753,
            34.488,
            47.949,
            47.747,
            40.501999999999995,
            47.808,
            40.848,
            38.41,
            36.936,
            44.248000000000005,
            60.246,
            47.924,
            36.161,
            48.386,
            39.486999999999995,
            39.36,
            57.666000000000004,
            43,
            51.893,
            41.45399999999999,
            32.766999999999996,
            36.981,
            49.951,
            40.87,
            44.992,
            44.246,
            43.922,
            49.57899999999999,
            45.343999999999994,
            46.023,
            52.358000000000004
           ],
           "yaxis": "y"
          },
          {
           "hovertemplate": "<b>%{hovertext}</b><br><br>continent=Americas<br>year=1962<br>gdpPercap=%{x}<br>lifeExp=%{y}<br>pop=%{marker.size}<extra></extra>",
           "hovertext": [
            "Argentina",
            "Bolivia",
            "Brazil",
            "Canada",
            "Chile",
            "Colombia",
            "Costa Rica",
            "Cuba",
            "Dominican Republic",
            "Ecuador",
            "El Salvador",
            "Guatemala",
            "Haiti",
            "Honduras",
            "Jamaica",
            "Mexico",
            "Nicaragua",
            "Panama",
            "Paraguay",
            "Peru",
            "Puerto Rico",
            "Trinidad and Tobago",
            "United States",
            "Uruguay",
            "Venezuela"
           ],
           "legendgroup": "Americas",
           "marker": {
            "color": "#ab63fa",
            "size": [
             21283783,
             3593918,
             76039390,
             18985849,
             7961258,
             17009885,
             1345187,
             7254373,
             3453434,
             4681707,
             2747687,
             4208858,
             3880130,
             2090162,
             1665128,
             41121485,
             1590597,
             1215725,
             2009813,
             10516500,
             2448046,
             887498,
             186538000,
             2598466,
             8143375
            ],
            "sizemode": "area",
            "sizeref": 435928.2961983471,
            "symbol": "circle"
           },
           "mode": "markers",
           "name": "Americas",
           "orientation": "v",
           "showlegend": true,
           "type": "scatter",
           "x": [
            7133.166023000001,
            2180.972546,
            3336.585802,
            13462.48555,
            4519.094331,
            2492.351109,
            3460.937025,
            5180.75591,
            1662.137359,
            4086.114078,
            3776.8036270000002,
            2750.364446,
            1796.589032,
            2291.1568350000002,
            5246.107524,
            4581.609385,
            3634.364406,
            3536.540301,
            2148.027146,
            4957.037982,
            5108.34463,
            4997.5239710000005,
            16173.145859999999,
            5603.357717,
            8422.974165000001
           ],
           "xaxis": "x",
           "y": [
            65.142,
            43.428000000000004,
            55.665,
            71.3,
            57.924,
            57.863,
            62.842,
            65.24600000000001,
            53.458999999999996,
            54.64,
            52.306999999999995,
            46.95399999999999,
            43.59,
            48.041000000000004,
            65.61,
            58.299,
            48.632,
            61.817,
            64.361,
            49.096000000000004,
            69.62,
            64.9,
            70.21,
            68.253,
            60.77
           ],
           "yaxis": "y"
          },
          {
           "hovertemplate": "<b>%{hovertext}</b><br><br>continent=Oceania<br>year=1962<br>gdpPercap=%{x}<br>lifeExp=%{y}<br>pop=%{marker.size}<extra></extra>",
           "hovertext": [
            "Australia",
            "New Zealand"
           ],
           "legendgroup": "Oceania",
           "marker": {
            "color": "#FFA15A",
            "size": [
             10794968,
             2488550
            ],
            "sizemode": "area",
            "sizeref": 435928.2961983471,
            "symbol": "circle"
           },
           "mode": "markers",
           "name": "Oceania",
           "orientation": "v",
           "showlegend": true,
           "type": "scatter",
           "x": [
            12217.226859999999,
            13175.678
           ],
           "xaxis": "x",
           "y": [
            70.93,
            71.24
           ],
           "yaxis": "y"
          }
         ],
         "name": "1962"
        },
        {
         "data": [
          {
           "hovertemplate": "<b>%{hovertext}</b><br><br>continent=Asia<br>year=1967<br>gdpPercap=%{x}<br>lifeExp=%{y}<br>pop=%{marker.size}<extra></extra>",
           "hovertext": [
            "Afghanistan",
            "Bahrain",
            "Bangladesh",
            "Cambodia",
            "China",
            "Hong Kong, China",
            "India",
            "Indonesia",
            "Iran",
            "Iraq",
            "Israel",
            "Japan",
            "Jordan",
            "Korea, Dem. Rep.",
            "Korea, Rep.",
            "Kuwait",
            "Lebanon",
            "Malaysia",
            "Mongolia",
            "Myanmar",
            "Nepal",
            "Oman",
            "Pakistan",
            "Philippines",
            "Saudi Arabia",
            "Singapore",
            "Sri Lanka",
            "Syria",
            "Taiwan",
            "Thailand",
            "Vietnam",
            "West Bank and Gaza",
            "Yemen, Rep."
           ],
           "legendgroup": "Asia",
           "marker": {
            "color": "#636efa",
            "size": [
             11537966,
             202182,
             62821884,
             6960067,
             754550000,
             3722800,
             506000000,
             109343000,
             26538000,
             8519282,
             2693585,
             100825279,
             1255058,
             12617009,
             30131000,
             575003,
             2186894,
             10154878,
             1149500,
             25870271,
             11261690,
             714775,
             60641899,
             35356600,
             5618198,
             1977600,
             11737396,
             5680812,
             13648692,
             34024249,
             39463910,
             1142636,
             6740785
            ],
            "sizemode": "area",
            "sizeref": 435928.2961983471,
            "symbol": "circle"
           },
           "mode": "markers",
           "name": "Asia",
           "orientation": "v",
           "showlegend": true,
           "type": "scatter",
           "x": [
            836.1971382,
            14804.6727,
            721.1860862000001,
            523.4323142,
            612.7056934,
            6197.962814,
            700.7706107000001,
            762.4317721,
            5906.731804999999,
            8931.459811,
            8393.741404,
            9847.788606999999,
            2741.796252,
            2143.540609,
            2029.2281420000002,
            80894.88326,
            6006.983042,
            2277.742396,
            1226.04113,
            349,
            676.4422254,
            4720.942687,
            942.4082588,
            1814.12743,
            16903.04886,
            4977.41854,
            1135.514326,
            1881.923632,
            2643.8586809999997,
            1295.46066,
            637.1232887,
            2649.7150070000002,
            862.4421463
           ],
           "xaxis": "x",
           "y": [
            34.02,
            59.923,
            43.453,
            45.415,
            58.381119999999996,
            70,
            47.193000000000005,
            45.964,
            52.468999999999994,
            54.458999999999996,
            70.75,
            71.43,
            51.629,
            59.942,
            57.716,
            64.624,
            63.87,
            59.371,
            51.253,
            49.379,
            41.472,
            46.988,
            49.8,
            56.393,
            49.901,
            67.946,
            64.266,
            53.655,
            67.5,
            58.285,
            47.838,
            51.631,
            36.984
           ],
           "yaxis": "y"
          },
          {
           "hovertemplate": "<b>%{hovertext}</b><br><br>continent=Europe<br>year=1967<br>gdpPercap=%{x}<br>lifeExp=%{y}<br>pop=%{marker.size}<extra></extra>",
           "hovertext": [
            "Albania",
            "Austria",
            "Belgium",
            "Bosnia and Herzegovina",
            "Bulgaria",
            "Croatia",
            "Czech Republic",
            "Denmark",
            "Finland",
            "France",
            "Germany",
            "Greece",
            "Hungary",
            "Iceland",
            "Ireland",
            "Italy",
            "Montenegro",
            "Netherlands",
            "Norway",
            "Poland",
            "Portugal",
            "Romania",
            "Serbia",
            "Slovak Republic",
            "Slovenia",
            "Spain",
            "Sweden",
            "Switzerland",
            "Turkey",
            "United Kingdom"
           ],
           "legendgroup": "Europe",
           "marker": {
            "color": "#EF553B",
            "size": [
             1984060,
             7376998,
             9556500,
             3585000,
             8310226,
             4174366,
             9835109,
             4838800,
             4605744,
             49569000,
             76368453,
             8716441,
             10223422,
             198676,
             2900100,
             52667100,
             501035,
             12596822,
             3786019,
             31785378,
             9103000,
             19284814,
             7971222,
             4442238,
             1646912,
             32850275,
             7867931,
             6063000,
             33411317,
             54959000
            ],
            "sizemode": "area",
            "sizeref": 435928.2961983471,
            "symbol": "circle"
           },
           "mode": "markers",
           "name": "Europe",
           "orientation": "v",
           "showlegend": true,
           "type": "scatter",
           "x": [
            2760.196931,
            12834.6024,
            13149.04119,
            2172.3524230000003,
            5577.0028,
            6960.297861,
            11399.44489,
            15937.21123,
            10921.63626,
            12999.91766,
            14745.62561,
            8513.097016,
            9326.64467,
            13319.89568,
            7655.568963,
            10022.40131,
            5907.850937,
            15363.25136,
            16361.87647,
            6557.152776,
            6361.517993,
            6470.866545,
            7991.707066,
            8412.902397,
            9405.489397,
            7993.512294,
            15258.29697,
            22966.14432,
            2826.3563870000003,
            14142.85089
           ],
           "xaxis": "x",
           "y": [
            66.22,
            70.14,
            70.94,
            64.79,
            70.42,
            68.5,
            70.38,
            72.96,
            69.83,
            71.55,
            70.8,
            71,
            69.5,
            73.73,
            71.08,
            71.06,
            67.178,
            73.82,
            74.08,
            69.61,
            66.6,
            66.8,
            66.914,
            70.98,
            69.18,
            71.44,
            74.16,
            72.77,
            54.336000000000006,
            71.36
           ],
           "yaxis": "y"
          },
          {
           "hovertemplate": "<b>%{hovertext}</b><br><br>continent=Africa<br>year=1967<br>gdpPercap=%{x}<br>lifeExp=%{y}<br>pop=%{marker.size}<extra></extra>",
           "hovertext": [
            "Algeria",
            "Angola",
            "Benin",
            "Botswana",
            "Burkina Faso",
            "Burundi",
            "Cameroon",
            "Central African Republic",
            "Chad",
            "Comoros",
            "Congo, Dem. Rep.",
            "Congo, Rep.",
            "Cote d'Ivoire",
            "Djibouti",
            "Egypt",
            "Equatorial Guinea",
            "Eritrea",
            "Ethiopia",
            "Gabon",
            "Gambia",
            "Ghana",
            "Guinea",
            "Guinea-Bissau",
            "Kenya",
            "Lesotho",
            "Liberia",
            "Libya",
            "Madagascar",
            "Malawi",
            "Mali",
            "Mauritania",
            "Mauritius",
            "Morocco",
            "Mozambique",
            "Namibia",
            "Niger",
            "Nigeria",
            "Reunion",
            "Rwanda",
            "Sao Tome and Principe",
            "Senegal",
            "Sierra Leone",
            "Somalia",
            "South Africa",
            "Sudan",
            "Swaziland",
            "Tanzania",
            "Togo",
            "Tunisia",
            "Uganda",
            "Zambia",
            "Zimbabwe"
           ],
           "legendgroup": "Africa",
           "marker": {
            "color": "#00cc96",
            "size": [
             12760499,
             5247469,
             2427334,
             553541,
             5127935,
             3330989,
             6335506,
             1733638,
             3495967,
             217378,
             19941073,
             1179760,
             4744870,
             127617,
             31681188,
             259864,
             1820319,
             27860297,
             489004,
             439593,
             8490213,
             3451418,
             601287,
             10191512,
             996380,
             1279406,
             1759224,
             6334556,
             4147252,
             5212416,
             1230542,
             789309,
             14770296,
             8680909,
             706640,
             4534062,
             47287752,
             414024,
             3451079,
             70787,
             3965841,
             2662190,
             3428839,
             20997321,
             12716129,
             420690,
             12607312,
             1735550,
             4786986,
             8900294,
             3900000,
             4995432
            ],
            "sizemode": "area",
            "sizeref": 435928.2961983471,
            "symbol": "circle"
           },
           "mode": "markers",
           "name": "Africa",
           "orientation": "v",
           "showlegend": true,
           "type": "scatter",
           "x": [
            3246.991771,
            5522.776375,
            1035.831411,
            1214.709294,
            794.8265597,
            412.97751360000007,
            1508.453148,
            1136.056615,
            1196.810565,
            1876.029643,
            861.5932424,
            2677.9396420000003,
            2052.0504730000002,
            3020.0505129999997,
            1814.880728,
            915.5960025,
            468.7949699,
            516.1186438,
            8358.761987,
            734.7829124,
            1125.69716,
            708.7595409,
            715.5806402000001,
            1056.736457,
            498.63902649999994,
            713.6036482999999,
            18772.75169,
            1634.047282,
            495.5147806,
            545.0098873,
            1421.145193,
            2475.387562,
            1711.04477,
            566.6691539,
            3793.694753,
            1054.384891,
            1014.5141039999999,
            4021.1757390000002,
            510.9637142,
            1384.840593,
            1612.404632,
            1206.043465,
            1284.7331800000002,
            7114.477970999999,
            1687.997641,
            2613.1016649999997,
            848.2186575,
            1477.59676,
            1932.3601670000003,
            908.9185217,
            1777.0773179999999,
            569.7950712
           ],
           "xaxis": "x",
           "y": [
            51.407,
            35.985,
            44.885,
            53.298,
            40.696999999999996,
            43.548,
            44.799,
            41.478,
            43.601000000000006,
            46.472,
            44.056000000000004,
            52.04,
            47.35,
            42.074,
            49.293,
            38.986999999999995,
            42.18899999999999,
            42.115,
            44.598,
            35.857,
            48.071999999999996,
            37.196999999999996,
            35.492,
            50.653999999999996,
            48.492,
            41.536,
            50.227,
            42.881,
            39.486999999999995,
            38.486999999999995,
            46.288999999999994,
            61.556999999999995,
            50.335,
            38.113,
            51.159,
            40.118,
            41.04,
            60.542,
            44.1,
            54.425,
            43.563,
            34.113,
            38.977,
            51.927,
            42.858000000000004,
            46.633,
            45.757,
            46.769,
            52.053000000000004,
            48.051,
            47.768,
            53.995
           ],
           "yaxis": "y"
          },
          {
           "hovertemplate": "<b>%{hovertext}</b><br><br>continent=Americas<br>year=1967<br>gdpPercap=%{x}<br>lifeExp=%{y}<br>pop=%{marker.size}<extra></extra>",
           "hovertext": [
            "Argentina",
            "Bolivia",
            "Brazil",
            "Canada",
            "Chile",
            "Colombia",
            "Costa Rica",
            "Cuba",
            "Dominican Republic",
            "Ecuador",
            "El Salvador",
            "Guatemala",
            "Haiti",
            "Honduras",
            "Jamaica",
            "Mexico",
            "Nicaragua",
            "Panama",
            "Paraguay",
            "Peru",
            "Puerto Rico",
            "Trinidad and Tobago",
            "United States",
            "Uruguay",
            "Venezuela"
           ],
           "legendgroup": "Americas",
           "marker": {
            "color": "#ab63fa",
            "size": [
             22934225,
             4040665,
             88049823,
             20819767,
             8858908,
             19764027,
             1588717,
             8139332,
             4049146,
             5432424,
             3232927,
             4690773,
             4318137,
             2500689,
             1861096,
             47995559,
             1865490,
             1405486,
             2287985,
             12132200,
             2648961,
             960155,
             198712000,
             2748579,
             9709552
            ],
            "sizemode": "area",
            "sizeref": 435928.2961983471,
            "symbol": "circle"
           },
           "mode": "markers",
           "name": "Americas",
           "orientation": "v",
           "showlegend": true,
           "type": "scatter",
           "x": [
            8052.953020999999,
            2586.886053,
            3429.864357,
            16076.58803,
            5106.654313,
            2678.729839,
            4161.727834,
            5690.268015,
            1653.7230029999998,
            4579.074215,
            4358.595393,
            3242.5311469999997,
            1452.057666,
            2538.269358,
            6124.703450999999,
            5754.733883,
            4643.393534000001,
            4421.009084,
            2299.376311,
            5788.09333,
            6929.277714,
            5621.368472,
            19530.365569999998,
            5444.61962,
            9541.474188
           ],
           "xaxis": "x",
           "y": [
            65.634,
            45.032,
            57.632,
            72.13,
            60.523,
            59.963,
            65.42399999999999,
            68.29,
            56.751000000000005,
            56.678000000000004,
            55.855,
            50.016000000000005,
            46.243,
            50.924,
            67.51,
            60.11,
            51.88399999999999,
            64.071,
            64.95100000000001,
            51.445,
            71.1,
            65.4,
            70.76,
            68.468,
            63.479
           ],
           "yaxis": "y"
          },
          {
           "hovertemplate": "<b>%{hovertext}</b><br><br>continent=Oceania<br>year=1967<br>gdpPercap=%{x}<br>lifeExp=%{y}<br>pop=%{marker.size}<extra></extra>",
           "hovertext": [
            "Australia",
            "New Zealand"
           ],
           "legendgroup": "Oceania",
           "marker": {
            "color": "#FFA15A",
            "size": [
             11872264,
             2728150
            ],
            "sizemode": "area",
            "sizeref": 435928.2961983471,
            "symbol": "circle"
           },
           "mode": "markers",
           "name": "Oceania",
           "orientation": "v",
           "showlegend": true,
           "type": "scatter",
           "x": [
            14526.12465,
            14463.918930000002
           ],
           "xaxis": "x",
           "y": [
            71.1,
            71.52
           ],
           "yaxis": "y"
          }
         ],
         "name": "1967"
        },
        {
         "data": [
          {
           "hovertemplate": "<b>%{hovertext}</b><br><br>continent=Asia<br>year=1972<br>gdpPercap=%{x}<br>lifeExp=%{y}<br>pop=%{marker.size}<extra></extra>",
           "hovertext": [
            "Afghanistan",
            "Bahrain",
            "Bangladesh",
            "Cambodia",
            "China",
            "Hong Kong, China",
            "India",
            "Indonesia",
            "Iran",
            "Iraq",
            "Israel",
            "Japan",
            "Jordan",
            "Korea, Dem. Rep.",
            "Korea, Rep.",
            "Kuwait",
            "Lebanon",
            "Malaysia",
            "Mongolia",
            "Myanmar",
            "Nepal",
            "Oman",
            "Pakistan",
            "Philippines",
            "Saudi Arabia",
            "Singapore",
            "Sri Lanka",
            "Syria",
            "Taiwan",
            "Thailand",
            "Vietnam",
            "West Bank and Gaza",
            "Yemen, Rep."
           ],
           "legendgroup": "Asia",
           "marker": {
            "color": "#636efa",
            "size": [
             13079460,
             230800,
             70759295,
             7450606,
             862030000,
             4115700,
             567000000,
             121282000,
             30614000,
             10061506,
             3095893,
             107188273,
             1613551,
             14781241,
             33505000,
             841934,
             2680018,
             11441462,
             1320500,
             28466390,
             12412593,
             829050,
             69325921,
             40850141,
             6472756,
             2152400,
             13016733,
             6701172,
             15226039,
             39276153,
             44655014,
             1089572,
             7407075
            ],
            "sizemode": "area",
            "sizeref": 435928.2961983471,
            "symbol": "circle"
           },
           "mode": "markers",
           "name": "Asia",
           "orientation": "v",
           "showlegend": true,
           "type": "scatter",
           "x": [
            739.9811057999999,
            18268.65839,
            630.2336265,
            421.6240257,
            676.9000921,
            8315.928145,
            724.032527,
            1111.107907,
            9613.818607,
            9576.037596,
            12786.93223,
            14778.78636,
            2110.856309,
            3701.6215030000003,
            3030.87665,
            109347.867,
            7486.384341,
            2849.09478,
            1421.741975,
            357,
            674.7881296,
            10618.03855,
            1049.938981,
            1989.3740699999998,
            24837.42865,
            8597.756202,
            1213.39553,
            2571.423014,
            4062.523897,
            1524.3589359999999,
            699.5016441,
            3133.4092769999997,
            1265.047031
           ],
           "xaxis": "x",
           "y": [
            36.088,
            63.3,
            45.251999999999995,
            40.317,
            63.118880000000004,
            72,
            50.651,
            49.203,
            55.233999999999995,
            56.95,
            71.63,
            73.42,
            56.528,
            63.983000000000004,
            62.611999999999995,
            67.712,
            65.421,
            63.01,
            53.754,
            53.07,
            43.971000000000004,
            52.143,
            51.928999999999995,
            58.065,
            53.886,
            69.521,
            65.042,
            57.29600000000001,
            69.39,
            60.405,
            50.254,
            56.532,
            39.848
           ],
           "yaxis": "y"
          },
          {
           "hovertemplate": "<b>%{hovertext}</b><br><br>continent=Europe<br>year=1972<br>gdpPercap=%{x}<br>lifeExp=%{y}<br>pop=%{marker.size}<extra></extra>",
           "hovertext": [
            "Albania",
            "Austria",
            "Belgium",
            "Bosnia and Herzegovina",
            "Bulgaria",
            "Croatia",
            "Czech Republic",
            "Denmark",
            "Finland",
            "France",
            "Germany",
            "Greece",
            "Hungary",
            "Iceland",
            "Ireland",
            "Italy",
            "Montenegro",
            "Netherlands",
            "Norway",
            "Poland",
            "Portugal",
            "Romania",
            "Serbia",
            "Slovak Republic",
            "Slovenia",
            "Spain",
            "Sweden",
            "Switzerland",
            "Turkey",
            "United Kingdom"
           ],
           "legendgroup": "Europe",
           "marker": {
            "color": "#EF553B",
            "size": [
             2263554,
             7544201,
             9709100,
             3819000,
             8576200,
             4225310,
             9862158,
             4991596,
             4639657,
             51732000,
             78717088,
             8888628,
             10394091,
             209275,
             3024400,
             54365564,
             527678,
             13329874,
             3933004,
             33039545,
             8970450,
             20662648,
             8313288,
             4593433,
             1694510,
             34513161,
             8122293,
             6401400,
             37492953,
             56079000
            ],
            "sizemode": "area",
            "sizeref": 435928.2961983471,
            "symbol": "circle"
           },
           "mode": "markers",
           "name": "Europe",
           "orientation": "v",
           "showlegend": true,
           "type": "scatter",
           "x": [
            3313.422188,
            16661.6256,
            16672.14356,
            2860.16975,
            6597.494398,
            9164.090127,
            13108.4536,
            18866.20721,
            14358.8759,
            16107.19171,
            18016.180269999997,
            12724.82957,
            10168.65611,
            15798.063619999999,
            9530.772895999999,
            12269.27378,
            7778.414017,
            18794.74567,
            18965.05551,
            8006.506993000001,
            9022.247417,
            8011.414401999999,
            10522.067490000001,
            9674.167626,
            12383.4862,
            10638.75131,
            17832.02464,
            27195.113039999997,
            3450.69638,
            15895.116409999999
           ],
           "xaxis": "x",
           "y": [
            67.69,
            70.63,
            71.44,
            67.45,
            70.9,
            69.61,
            70.29,
            73.47,
            70.87,
            72.38,
            71,
            72.34,
            69.76,
            74.46,
            71.28,
            72.19,
            70.63600000000001,
            73.75,
            74.34,
            70.85,
            69.26,
            69.21,
            68.7,
            70.35,
            69.82,
            73.06,
            74.72,
            73.78,
            57.005,
            72.01
           ],
           "yaxis": "y"
          },
          {
           "hovertemplate": "<b>%{hovertext}</b><br><br>continent=Africa<br>year=1972<br>gdpPercap=%{x}<br>lifeExp=%{y}<br>pop=%{marker.size}<extra></extra>",
           "hovertext": [
            "Algeria",
            "Angola",
            "Benin",
            "Botswana",
            "Burkina Faso",
            "Burundi",
            "Cameroon",
            "Central African Republic",
            "Chad",
            "Comoros",
            "Congo, Dem. Rep.",
            "Congo, Rep.",
            "Cote d'Ivoire",
            "Djibouti",
            "Egypt",
            "Equatorial Guinea",
            "Eritrea",
            "Ethiopia",
            "Gabon",
            "Gambia",
            "Ghana",
            "Guinea",
            "Guinea-Bissau",
            "Kenya",
            "Lesotho",
            "Liberia",
            "Libya",
            "Madagascar",
            "Malawi",
            "Mali",
            "Mauritania",
            "Mauritius",
            "Morocco",
            "Mozambique",
            "Namibia",
            "Niger",
            "Nigeria",
            "Reunion",
            "Rwanda",
            "Sao Tome and Principe",
            "Senegal",
            "Sierra Leone",
            "Somalia",
            "South Africa",
            "Sudan",
            "Swaziland",
            "Tanzania",
            "Togo",
            "Tunisia",
            "Uganda",
            "Zambia",
            "Zimbabwe"
           ],
           "legendgroup": "Africa",
           "marker": {
            "color": "#00cc96",
            "size": [
             14760787,
             5894858,
             2761407,
             619351,
             5433886,
             3529983,
             7021028,
             1927260,
             3899068,
             250027,
             23007669,
             1340458,
             6071696,
             178848,
             34807417,
             277603,
             2260187,
             30770372,
             537977,
             517101,
             9354120,
             3811387,
             625361,
             12044785,
             1116779,
             1482628,
             2183877,
             7082430,
             4730997,
             5828158,
             1332786,
             851334,
             16660670,
             9809596,
             821782,
             5060262,
             53740085,
             461633,
             3992121,
             76595,
             4588696,
             2879013,
             3840161,
             23935810,
             14597019,
             480105,
             14706593,
             2056351,
             5303507,
             10190285,
             4506497,
             5861135
            ],
            "sizemode": "area",
            "sizeref": 435928.2961983471,
            "symbol": "circle"
           },
           "mode": "markers",
           "name": "Africa",
           "orientation": "v",
           "showlegend": true,
           "type": "scatter",
           "x": [
            4182.663766,
            5473.288004999999,
            1085.796879,
            2263.6111140000003,
            854.7359763000001,
            464.0995039,
            1684.1465280000002,
            1070.013275,
            1104.103987,
            1937.577675,
            904.8960685000001,
            3213.152683,
            2378.201111,
            3694.2123520000005,
            2024.0081469999998,
            672.4122571,
            514.3242081999999,
            566.2439442000001,
            11401.948409999999,
            756.0868363,
            1178.223708,
            741.6662307,
            820.2245876000001,
            1222.359968,
            496.58159220000005,
            803.0054535,
            21011.497209999998,
            1748.562982,
            584.6219709,
            581.3688761,
            1586.851781,
            2575.4841579999998,
            1930.194975,
            724.9178037,
            3746.080948,
            954.2092363,
            1698.3888379999999,
            5047.658563,
            590.5806637999999,
            1532.985254,
            1597.712056,
            1353.759762,
            1254.576127,
            7765.962636,
            1659.652775,
            3364.836625,
            915.9850592,
            1649.660188,
            2753.2859940000003,
            950.735869,
            1773.498265,
            799.3621757999999
           ],
           "xaxis": "x",
           "y": [
            54.518,
            37.928000000000004,
            47.013999999999996,
            56.023999999999994,
            43.591,
            44.056999999999995,
            47.049,
            43.457,
            45.568999999999996,
            48.943999999999996,
            45.989,
            54.907,
            49.801,
            44.36600000000001,
            51.137,
            40.516,
            44.141999999999996,
            43.515,
            48.69,
            38.308,
            49.875,
            38.842,
            36.486,
            53.559,
            49.766999999999996,
            42.614,
            52.773,
            44.851000000000006,
            41.766000000000005,
            39.977,
            48.437,
            62.943999999999996,
            52.861999999999995,
            40.328,
            53.867,
            40.546,
            42.821000000000005,
            64.274,
            44.6,
            56.48,
            45.815,
            35.4,
            40.973,
            53.696000000000005,
            45.083,
            49.552,
            47.62,
            49.75899999999999,
            55.602,
            51.016000000000005,
            50.107,
            55.635
           ],
           "yaxis": "y"
          },
          {
           "hovertemplate": "<b>%{hovertext}</b><br><br>continent=Americas<br>year=1972<br>gdpPercap=%{x}<br>lifeExp=%{y}<br>pop=%{marker.size}<extra></extra>",
           "hovertext": [
            "Argentina",
            "Bolivia",
            "Brazil",
            "Canada",
            "Chile",
            "Colombia",
            "Costa Rica",
            "Cuba",
            "Dominican Republic",
            "Ecuador",
            "El Salvador",
            "Guatemala",
            "Haiti",
            "Honduras",
            "Jamaica",
            "Mexico",
            "Nicaragua",
            "Panama",
            "Paraguay",
            "Peru",
            "Puerto Rico",
            "Trinidad and Tobago",
            "United States",
            "Uruguay",
            "Venezuela"
           ],
           "legendgroup": "Americas",
           "marker": {
            "color": "#ab63fa",
            "size": [
             24779799,
             4565872,
             100840058,
             22284500,
             9717524,
             22542890,
             1834796,
             8831348,
             4671329,
             6298651,
             3790903,
             5149581,
             4698301,
             2965146,
             1997616,
             55984294,
             2182908,
             1616384,
             2614104,
             13954700,
             2847132,
             975199,
             209896000,
             2829526,
             11515649
            ],
            "sizemode": "area",
            "sizeref": 435928.2961983471,
            "symbol": "circle"
           },
           "mode": "markers",
           "name": "Americas",
           "orientation": "v",
           "showlegend": true,
           "type": "scatter",
           "x": [
            9443.038526,
            2980.331339,
            4985.711467,
            18970.57086,
            5494.024437,
            3264.660041,
            5118.146939,
            5305.445256,
            2189.874499,
            5280.99471,
            4520.246008,
            4031.4082710000002,
            1654.456946,
            2529.842345,
            7433.889293000001,
            6809.406690000001,
            4688.593267,
            5364.2496630000005,
            2523.337977,
            5937.827283,
            9123.041742,
            6619.551418999999,
            21806.03594,
            5703.408898,
            10505.25966
           ],
           "xaxis": "x",
           "y": [
            67.065,
            46.714,
            59.504,
            72.88,
            63.441,
            61.623000000000005,
            67.84899999999999,
            70.723,
            59.631,
            58.79600000000001,
            58.207,
            53.738,
            48.042,
            53.88399999999999,
            69,
            62.361000000000004,
            55.151,
            66.21600000000001,
            65.815,
            55.448,
            72.16,
            65.9,
            71.34,
            68.673,
            65.712
           ],
           "yaxis": "y"
          },
          {
           "hovertemplate": "<b>%{hovertext}</b><br><br>continent=Oceania<br>year=1972<br>gdpPercap=%{x}<br>lifeExp=%{y}<br>pop=%{marker.size}<extra></extra>",
           "hovertext": [
            "Australia",
            "New Zealand"
           ],
           "legendgroup": "Oceania",
           "marker": {
            "color": "#FFA15A",
            "size": [
             13177000,
             2929100
            ],
            "sizemode": "area",
            "sizeref": 435928.2961983471,
            "symbol": "circle"
           },
           "mode": "markers",
           "name": "Oceania",
           "orientation": "v",
           "showlegend": true,
           "type": "scatter",
           "x": [
            16788.62948,
            16046.03728
           ],
           "xaxis": "x",
           "y": [
            71.93,
            71.89
           ],
           "yaxis": "y"
          }
         ],
         "name": "1972"
        },
        {
         "data": [
          {
           "hovertemplate": "<b>%{hovertext}</b><br><br>continent=Asia<br>year=1977<br>gdpPercap=%{x}<br>lifeExp=%{y}<br>pop=%{marker.size}<extra></extra>",
           "hovertext": [
            "Afghanistan",
            "Bahrain",
            "Bangladesh",
            "Cambodia",
            "China",
            "Hong Kong, China",
            "India",
            "Indonesia",
            "Iran",
            "Iraq",
            "Israel",
            "Japan",
            "Jordan",
            "Korea, Dem. Rep.",
            "Korea, Rep.",
            "Kuwait",
            "Lebanon",
            "Malaysia",
            "Mongolia",
            "Myanmar",
            "Nepal",
            "Oman",
            "Pakistan",
            "Philippines",
            "Saudi Arabia",
            "Singapore",
            "Sri Lanka",
            "Syria",
            "Taiwan",
            "Thailand",
            "Vietnam",
            "West Bank and Gaza",
            "Yemen, Rep."
           ],
           "legendgroup": "Asia",
           "marker": {
            "color": "#636efa",
            "size": [
             14880372,
             297410,
             80428306,
             6978607,
             943455000,
             4583700,
             634000000,
             136725000,
             35480679,
             11882916,
             3495918,
             113872473,
             1937652,
             16325320,
             36436000,
             1140357,
             3115787,
             12845381,
             1528000,
             31528087,
             13933198,
             1004533,
             78152686,
             46850962,
             8128505,
             2325300,
             14116836,
             7932503,
             16785196,
             44148285,
             50533506,
             1261091,
             8403990
            ],
            "sizemode": "area",
            "sizeref": 435928.2961983471,
            "symbol": "circle"
           },
           "mode": "markers",
           "name": "Asia",
           "orientation": "v",
           "showlegend": true,
           "type": "scatter",
           "x": [
            786.11336,
            19340.10196,
            659.8772322000001,
            524.9721831999999,
            741.2374699,
            11186.14125,
            813.3373230000001,
            1382.702056,
            11888.59508,
            14688.235069999999,
            13306.619209999999,
            16610.37701,
            2852.351568,
            4106.301249,
            4657.22102,
            59265.477139999995,
            8659.696836,
            3827.9215710000003,
            1647.511665,
            371,
            694.1124398,
            11848.343920000001,
            1175.921193,
            2373.204287,
            34167.7626,
            11210.08948,
            1348.775651,
            3195.484582,
            5596.519826,
            1961.2246350000003,
            713.5371196000001,
            3682.8314939999996,
            1829.765177
           ],
           "xaxis": "x",
           "y": [
            38.438,
            65.593,
            46.923,
            31.22,
            63.96736,
            73.6,
            54.208,
            52.702,
            57.702,
            60.413000000000004,
            73.06,
            75.38,
            61.13399999999999,
            67.15899999999999,
            64.766,
            69.343,
            66.09899999999999,
            65.256,
            55.49100000000001,
            56.059,
            46.748000000000005,
            57.367,
            54.043,
            60.06,
            58.69,
            70.795,
            65.949,
            61.195,
            70.59,
            62.494,
            55.763999999999996,
            60.765,
            44.175
           ],
           "yaxis": "y"
          },
          {
           "hovertemplate": "<b>%{hovertext}</b><br><br>continent=Europe<br>year=1977<br>gdpPercap=%{x}<br>lifeExp=%{y}<br>pop=%{marker.size}<extra></extra>",
           "hovertext": [
            "Albania",
            "Austria",
            "Belgium",
            "Bosnia and Herzegovina",
            "Bulgaria",
            "Croatia",
            "Czech Republic",
            "Denmark",
            "Finland",
            "France",
            "Germany",
            "Greece",
            "Hungary",
            "Iceland",
            "Ireland",
            "Italy",
            "Montenegro",
            "Netherlands",
            "Norway",
            "Poland",
            "Portugal",
            "Romania",
            "Serbia",
            "Slovak Republic",
            "Slovenia",
            "Spain",
            "Sweden",
            "Switzerland",
            "Turkey",
            "United Kingdom"
           ],
           "legendgroup": "Europe",
           "marker": {
            "color": "#EF553B",
            "size": [
             2509048,
             7568430,
             9821800,
             4086000,
             8797022,
             4318673,
             10161915,
             5088419,
             4738902,
             53165019,
             78160773,
             9308479,
             10637171,
             221823,
             3271900,
             56059245,
             560073,
             13852989,
             4043205,
             34621254,
             9662600,
             21658597,
             8686367,
             4827803,
             1746919,
             36439000,
             8251648,
             6316424,
             42404033,
             56179000
            ],
            "sizemode": "area",
            "sizeref": 435928.2961983471,
            "symbol": "circle"
           },
           "mode": "markers",
           "name": "Europe",
           "orientation": "v",
           "showlegend": true,
           "type": "scatter",
           "x": [
            3533.0039100000004,
            19749.4223,
            19117.97448,
            3528.481305,
            7612.240438,
            11305.38517,
            14800.160619999999,
            20422.9015,
            15605.422830000001,
            18292.635140000002,
            20512.92123,
            14195.524280000001,
            11674.837370000001,
            19654.96247,
            11150.98113,
            14255.98475,
            9595.929904999999,
            21209.0592,
            23311.34939,
            9508.141454,
            10172.48572,
            9356.39724,
            12980.66956,
            10922.664040000001,
            15277.030169999998,
            13236.92117,
            18855.72521,
            26982.29052,
            4269.122326,
            17428.74846
           ],
           "xaxis": "x",
           "y": [
            68.93,
            72.17,
            72.8,
            69.86,
            70.81,
            70.64,
            70.71,
            74.69,
            72.52,
            73.83,
            72.5,
            73.68,
            69.95,
            76.11,
            72.03,
            73.48,
            73.066,
            75.24,
            75.37,
            70.67,
            70.41,
            69.46,
            70.3,
            70.45,
            70.97,
            74.39,
            75.44,
            75.39,
            59.507,
            72.76
           ],
           "yaxis": "y"
          },
          {
           "hovertemplate": "<b>%{hovertext}</b><br><br>continent=Africa<br>year=1977<br>gdpPercap=%{x}<br>lifeExp=%{y}<br>pop=%{marker.size}<extra></extra>",
           "hovertext": [
            "Algeria",
            "Angola",
            "Benin",
            "Botswana",
            "Burkina Faso",
            "Burundi",
            "Cameroon",
            "Central African Republic",
            "Chad",
            "Comoros",
            "Congo, Dem. Rep.",
            "Congo, Rep.",
            "Cote d'Ivoire",
            "Djibouti",
            "Egypt",
            "Equatorial Guinea",
            "Eritrea",
            "Ethiopia",
            "Gabon",
            "Gambia",
            "Ghana",
            "Guinea",
            "Guinea-Bissau",
            "Kenya",
            "Lesotho",
            "Liberia",
            "Libya",
            "Madagascar",
            "Malawi",
            "Mali",
            "Mauritania",
            "Mauritius",
            "Morocco",
            "Mozambique",
            "Namibia",
            "Niger",
            "Nigeria",
            "Reunion",
            "Rwanda",
            "Sao Tome and Principe",
            "Senegal",
            "Sierra Leone",
            "Somalia",
            "South Africa",
            "Sudan",
            "Swaziland",
            "Tanzania",
            "Togo",
            "Tunisia",
            "Uganda",
            "Zambia",
            "Zimbabwe"
           ],
           "legendgroup": "Africa",
           "marker": {
            "color": "#00cc96",
            "size": [
             17152804,
             6162675,
             3168267,
             781472,
             5889574,
             3834415,
             7959865,
             2167533,
             4388260,
             304739,
             26480870,
             1536769,
             7459574,
             228694,
             38783863,
             192675,
             2512642,
             34617799,
             706367,
             608274,
             10538093,
             4227026,
             745228,
             14500404,
             1251524,
             1703617,
             2721783,
             8007166,
             5637246,
             6491649,
             1456688,
             913025,
             18396941,
             11127868,
             977026,
             5682086,
             62209173,
             492095,
             4657072,
             86796,
             5260855,
             3140897,
             4353666,
             27129932,
             17104986,
             551425,
             17129565,
             2308582,
             6005061,
             11457758,
             5216550,
             6642107
            ],
            "sizemode": "area",
            "sizeref": 435928.2961983471,
            "symbol": "circle"
           },
           "mode": "markers",
           "name": "Africa",
           "orientation": "v",
           "showlegend": true,
           "type": "scatter",
           "x": [
            4910.4167560000005,
            3008.647355,
            1029.161251,
            3214.857818,
            743.3870368,
            556.1032651,
            1783.432873,
            1109.374338,
            1133.98495,
            1172.603047,
            795.757282,
            3259.178978,
            2517.736547,
            3081.7610219999997,
            2785.493582,
            958.5668124,
            505.7538077,
            556.8083834,
            21745.57328,
            884.7552507000001,
            993.2239571,
            874.6858642999999,
            764.7259627999999,
            1267.613204,
            745.3695408,
            640.3224382999999,
            21951.21176,
            1544.228586,
            663.2236766,
            686.3952693,
            1497.492223,
            3710.9829630000004,
            2370.619976,
            502.31973339999996,
            3876.4859579999998,
            808.8970727999999,
            1981.9518059999998,
            4319.804067,
            670.0806011,
            1737.561657,
            1561.769116,
            1348.285159,
            1450.9925130000001,
            8028.651439,
            2202.9884230000002,
            3781.410618,
            962.4922932,
            1532.776998,
            3120.876811,
            843.7331372000001,
            1588.688299,
            685.5876821
           ],
           "xaxis": "x",
           "y": [
            58.013999999999996,
            39.483000000000004,
            49.19,
            59.318999999999996,
            46.137,
            45.91,
            49.355,
            46.775,
            47.383,
            50.93899999999999,
            47.803999999999995,
            55.625,
            52.373999999999995,
            46.519,
            53.318999999999996,
            42.023999999999994,
            44.535,
            44.51,
            52.79,
            41.842,
            51.756,
            40.762,
            37.465,
            56.155,
            52.208,
            43.763999999999996,
            57.442,
            46.881,
            43.766999999999996,
            41.714,
            50.852,
            64.93,
            55.73,
            42.495,
            56.437,
            41.291000000000004,
            44.513999999999996,
            67.064,
            45,
            58.55,
            48.879,
            36.788000000000004,
            41.974,
            55.527,
            47.8,
            52.537,
            49.919,
            52.887,
            59.836999999999996,
            50.35,
            51.386,
            57.674
           ],
           "yaxis": "y"
          },
          {
           "hovertemplate": "<b>%{hovertext}</b><br><br>continent=Americas<br>year=1977<br>gdpPercap=%{x}<br>lifeExp=%{y}<br>pop=%{marker.size}<extra></extra>",
           "hovertext": [
            "Argentina",
            "Bolivia",
            "Brazil",
            "Canada",
            "Chile",
            "Colombia",
            "Costa Rica",
            "Cuba",
            "Dominican Republic",
            "Ecuador",
            "El Salvador",
            "Guatemala",
            "Haiti",
            "Honduras",
            "Jamaica",
            "Mexico",
            "Nicaragua",
            "Panama",
            "Paraguay",
            "Peru",
            "Puerto Rico",
            "Trinidad and Tobago",
            "United States",
            "Uruguay",
            "Venezuela"
           ],
           "legendgroup": "Americas",
           "marker": {
            "color": "#ab63fa",
            "size": [
             26983828,
             5079716,
             114313951,
             23796400,
             10599793,
             25094412,
             2108457,
             9537988,
             5302800,
             7278866,
             4282586,
             5703430,
             4908554,
             3055235,
             2156814,
             63759976,
             2554598,
             1839782,
             2984494,
             15990099,
             3080828,
             1039009,
             220239000,
             2873520,
             13503563
            ],
            "sizemode": "area",
            "sizeref": 435928.2961983471,
            "symbol": "circle"
           },
           "mode": "markers",
           "name": "Americas",
           "orientation": "v",
           "showlegend": true,
           "type": "scatter",
           "x": [
            10079.026740000001,
            3548.097832,
            6660.118654,
            22090.88306,
            4756.763836,
            3815.80787,
            5926.876967,
            6380.494965999999,
            2681.9889,
            6679.62326,
            5138.922374,
            4879.992748,
            1874.2989309999998,
            3203.208066,
            6650.195573,
            7674.929108,
            5486.371089,
            5351.912144,
            3248.373311,
            6281.290854999999,
            9770.524921,
            7899.554209000001,
            24072.63213,
            6504.339663000001,
            13143.95095
           ],
           "xaxis": "x",
           "y": [
            68.48100000000001,
            50.023,
            61.489,
            74.21,
            67.05199999999999,
            63.836999999999996,
            70.75,
            72.649,
            61.788000000000004,
            61.31,
            56.696000000000005,
            56.028999999999996,
            49.923,
            57.402,
            70.11,
            65.032,
            57.47,
            68.681,
            66.35300000000001,
            58.446999999999996,
            73.44,
            68.3,
            73.38,
            69.48100000000001,
            67.456
           ],
           "yaxis": "y"
          },
          {
           "hovertemplate": "<b>%{hovertext}</b><br><br>continent=Oceania<br>year=1977<br>gdpPercap=%{x}<br>lifeExp=%{y}<br>pop=%{marker.size}<extra></extra>",
           "hovertext": [
            "Australia",
            "New Zealand"
           ],
           "legendgroup": "Oceania",
           "marker": {
            "color": "#FFA15A",
            "size": [
             14074100,
             3164900
            ],
            "sizemode": "area",
            "sizeref": 435928.2961983471,
            "symbol": "circle"
           },
           "mode": "markers",
           "name": "Oceania",
           "orientation": "v",
           "showlegend": true,
           "type": "scatter",
           "x": [
            18334.197509999998,
            16233.7177
           ],
           "xaxis": "x",
           "y": [
            73.49,
            72.22
           ],
           "yaxis": "y"
          }
         ],
         "name": "1977"
        },
        {
         "data": [
          {
           "hovertemplate": "<b>%{hovertext}</b><br><br>continent=Asia<br>year=1982<br>gdpPercap=%{x}<br>lifeExp=%{y}<br>pop=%{marker.size}<extra></extra>",
           "hovertext": [
            "Afghanistan",
            "Bahrain",
            "Bangladesh",
            "Cambodia",
            "China",
            "Hong Kong, China",
            "India",
            "Indonesia",
            "Iran",
            "Iraq",
            "Israel",
            "Japan",
            "Jordan",
            "Korea, Dem. Rep.",
            "Korea, Rep.",
            "Kuwait",
            "Lebanon",
            "Malaysia",
            "Mongolia",
            "Myanmar",
            "Nepal",
            "Oman",
            "Pakistan",
            "Philippines",
            "Saudi Arabia",
            "Singapore",
            "Sri Lanka",
            "Syria",
            "Taiwan",
            "Thailand",
            "Vietnam",
            "West Bank and Gaza",
            "Yemen, Rep."
           ],
           "legendgroup": "Asia",
           "marker": {
            "color": "#636efa",
            "size": [
             12881816,
             377967,
             93074406,
             7272485,
             1000281000,
             5264500,
             708000000,
             153343000,
             43072751,
             14173318,
             3858421,
             118454974,
             2347031,
             17647518,
             39326000,
             1497494,
             3086876,
             14441916,
             1756032,
             34680442,
             15796314,
             1301048,
             91462088,
             53456774,
             11254672,
             2651869,
             15410151,
             9410494,
             18501390,
             48827160,
             56142181,
             1425876,
             9657618
            ],
            "sizemode": "area",
            "sizeref": 435928.2961983471,
            "symbol": "circle"
           },
           "mode": "markers",
           "name": "Asia",
           "orientation": "v",
           "showlegend": true,
           "type": "scatter",
           "x": [
            978.0114388000001,
            19211.14731,
            676.9818656,
            624.4754784,
            962.4213804999999,
            14560.530509999999,
            855.7235377000001,
            1516.872988,
            7608.334602,
            14517.90711,
            15367.0292,
            19384.10571,
            4161.415959,
            4106.525293,
            5622.942464,
            31354.03573,
            7640.519520999999,
            4920.355951,
            2000.603139,
            424,
            718.3730947,
            12954.791009999999,
            1443.429832,
            2603.273765,
            33693.17525,
            15169.161119999999,
            1648.0797890000001,
            3761.8377149999997,
            7426.354773999999,
            2393.219781,
            707.2357863,
            4336.032082,
            1977.5570100000002
           ],
           "xaxis": "x",
           "y": [
            39.854,
            69.05199999999999,
            50.00899999999999,
            50.957,
            65.525,
            75.45,
            56.596000000000004,
            56.159,
            59.62,
            62.038000000000004,
            74.45,
            77.11,
            63.739,
            69.1,
            67.123,
            71.309,
            66.983,
            68,
            57.489,
            58.056000000000004,
            49.593999999999994,
            62.728,
            56.158,
            62.082,
            63.012,
            71.76,
            68.757,
            64.59,
            72.16,
            64.597,
            58.816,
            64.406,
            49.113
           ],
           "yaxis": "y"
          },
          {
           "hovertemplate": "<b>%{hovertext}</b><br><br>continent=Europe<br>year=1982<br>gdpPercap=%{x}<br>lifeExp=%{y}<br>pop=%{marker.size}<extra></extra>",
           "hovertext": [
            "Albania",
            "Austria",
            "Belgium",
            "Bosnia and Herzegovina",
            "Bulgaria",
            "Croatia",
            "Czech Republic",
            "Denmark",
            "Finland",
            "France",
            "Germany",
            "Greece",
            "Hungary",
            "Iceland",
            "Ireland",
            "Italy",
            "Montenegro",
            "Netherlands",
            "Norway",
            "Poland",
            "Portugal",
            "Romania",
            "Serbia",
            "Slovak Republic",
            "Slovenia",
            "Spain",
            "Sweden",
            "Switzerland",
            "Turkey",
            "United Kingdom"
           ],
           "legendgroup": "Europe",
           "marker": {
            "color": "#EF553B",
            "size": [
             2780097,
             7574613,
             9856303,
             4172693,
             8892098,
             4413368,
             10303704,
             5117810,
             4826933,
             54433565,
             78335266,
             9786480,
             10705535,
             233997,
             3480000,
             56535636,
             562548,
             14310401,
             4114787,
             36227381,
             9859650,
             22356726,
             9032824,
             5048043,
             1861252,
             37983310,
             8325260,
             6468126,
             47328791,
             56339704
            ],
            "sizemode": "area",
            "sizeref": 435928.2961983471,
            "symbol": "circle"
           },
           "mode": "markers",
           "name": "Europe",
           "orientation": "v",
           "showlegend": true,
           "type": "scatter",
           "x": [
            3630.880722,
            21597.083619999998,
            20979.84589,
            4126.613157,
            8224.191647,
            13221.82184,
            15377.22855,
            21688.04048,
            18533.15761,
            20293.89746,
            22031.532740000002,
            15268.420890000001,
            12545.99066,
            23269.6075,
            12618.321409999999,
            16537.4835,
            11222.58762,
            21399.46046,
            26298.635309999998,
            8451.531004,
            11753.84291,
            9605.314053,
            15181.0927,
            11348.54585,
            17866.72175,
            13926.169969999999,
            20667.38125,
            28397.715119999997,
            4241.356344,
            18232.42452
           ],
           "xaxis": "x",
           "y": [
            70.42,
            73.18,
            73.93,
            70.69,
            71.08,
            70.46,
            70.96,
            74.63,
            74.55,
            74.89,
            73.8,
            75.24,
            69.39,
            76.99,
            73.1,
            74.98,
            74.101,
            76.05,
            75.97,
            71.32,
            72.77,
            69.66,
            70.16199999999999,
            70.8,
            71.063,
            76.3,
            76.42,
            76.21,
            61.036,
            74.04
           ],
           "yaxis": "y"
          },
          {
           "hovertemplate": "<b>%{hovertext}</b><br><br>continent=Africa<br>year=1982<br>gdpPercap=%{x}<br>lifeExp=%{y}<br>pop=%{marker.size}<extra></extra>",
           "hovertext": [
            "Algeria",
            "Angola",
            "Benin",
            "Botswana",
            "Burkina Faso",
            "Burundi",
            "Cameroon",
            "Central African Republic",
            "Chad",
            "Comoros",
            "Congo, Dem. Rep.",
            "Congo, Rep.",
            "Cote d'Ivoire",
            "Djibouti",
            "Egypt",
            "Equatorial Guinea",
            "Eritrea",
            "Ethiopia",
            "Gabon",
            "Gambia",
            "Ghana",
            "Guinea",
            "Guinea-Bissau",
            "Kenya",
            "Lesotho",
            "Liberia",
            "Libya",
            "Madagascar",
            "Malawi",
            "Mali",
            "Mauritania",
            "Mauritius",
            "Morocco",
            "Mozambique",
            "Namibia",
            "Niger",
            "Nigeria",
            "Reunion",
            "Rwanda",
            "Sao Tome and Principe",
            "Senegal",
            "Sierra Leone",
            "Somalia",
            "South Africa",
            "Sudan",
            "Swaziland",
            "Tanzania",
            "Togo",
            "Tunisia",
            "Uganda",
            "Zambia",
            "Zimbabwe"
           ],
           "legendgroup": "Africa",
           "marker": {
            "color": "#00cc96",
            "size": [
             20033753,
             7016384,
             3641603,
             970347,
             6634596,
             4580410,
             9250831,
             2476971,
             4875118,
             348643,
             30646495,
             1774735,
             9025951,
             305991,
             45681811,
             285483,
             2637297,
             38111756,
             753874,
             715523,
             11400338,
             4710497,
             825987,
             17661452,
             1411807,
             1956875,
             3344074,
             9171477,
             6502825,
             6998256,
             1622136,
             992040,
             20198730,
             12587223,
             1099010,
             6437188,
             73039376,
             517810,
             5507565,
             98593,
             6147783,
             3464522,
             5828892,
             31140029,
             20367053,
             649901,
             19844382,
             2644765,
             6734098,
             12939400,
             6100407,
             7636524
            ],
            "sizemode": "area",
            "sizeref": 435928.2961983471,
            "symbol": "circle"
           },
           "mode": "markers",
           "name": "Africa",
           "orientation": "v",
           "showlegend": true,
           "type": "scatter",
           "x": [
            5745.160213,
            2756.953672,
            1277.897616,
            4551.14215,
            807.1985855,
            559.6032309999999,
            2367.983282,
            956.7529906999999,
            797.9081006,
            1267.100083,
            673.7478181,
            4879.507522,
            2602.710169,
            2879.4680670000002,
            3503.729636,
            927.8253427000001,
            524.8758493,
            577.8607471,
            15113.36194,
            835.8096107999999,
            876.032569,
            857.2503577,
            838.1239671,
            1348.225791,
            797.2631074,
            572.1995694,
            17364.275380000003,
            1302.878658,
            632.8039209,
            618.0140640999999,
            1481.150189,
            3688.037739,
            2702.620356,
            462.2114149,
            4191.100511,
            909.7221354000001,
            1576.97375,
            5267.219353,
            881.5706467,
            1890.2181170000001,
            1518.479984,
            1465.010784,
            1176.807031,
            8568.266228,
            1895.544073,
            3895.384018,
            874.2426069,
            1344.577953,
            3560.2331740000004,
            682.2662267999999,
            1408.678565,
            788.8550411
           ],
           "xaxis": "x",
           "y": [
            61.368,
            39.942,
            50.903999999999996,
            61.483999999999995,
            48.122,
            47.471000000000004,
            52.961000000000006,
            48.295,
            49.516999999999996,
            52.933,
            47.784,
            56.695,
            53.983000000000004,
            48.812,
            56.006,
            43.662,
            43.89,
            44.916000000000004,
            56.56399999999999,
            45.58,
            53.744,
            42.891000000000005,
            39.327,
            58.766000000000005,
            55.078,
            44.852,
            62.155,
            48.968999999999994,
            45.641999999999996,
            43.916000000000004,
            53.599,
            66.711,
            59.65,
            42.795,
            58.968,
            42.598,
            45.826,
            69.885,
            46.218,
            60.351000000000006,
            52.379,
            38.445,
            42.955,
            58.161,
            50.338,
            55.56100000000001,
            50.608000000000004,
            55.471000000000004,
            64.048,
            49.849,
            51.821000000000005,
            60.363
           ],
           "yaxis": "y"
          },
          {
           "hovertemplate": "<b>%{hovertext}</b><br><br>continent=Americas<br>year=1982<br>gdpPercap=%{x}<br>lifeExp=%{y}<br>pop=%{marker.size}<extra></extra>",
           "hovertext": [
            "Argentina",
            "Bolivia",
            "Brazil",
            "Canada",
            "Chile",
            "Colombia",
            "Costa Rica",
            "Cuba",
            "Dominican Republic",
            "Ecuador",
            "El Salvador",
            "Guatemala",
            "Haiti",
            "Honduras",
            "Jamaica",
            "Mexico",
            "Nicaragua",
            "Panama",
            "Paraguay",
            "Peru",
            "Puerto Rico",
            "Trinidad and Tobago",
            "United States",
            "Uruguay",
            "Venezuela"
           ],
           "legendgroup": "Americas",
           "marker": {
            "color": "#ab63fa",
            "size": [
             29341374,
             5642224,
             128962939,
             25201900,
             11487112,
             27764644,
             2424367,
             9789224,
             5968349,
             8365850,
             4474873,
             6395630,
             5198399,
             3669448,
             2298309,
             71640904,
             2979423,
             2036305,
             3366439,
             18125129,
             3279001,
             1116479,
             232187835,
             2953997,
             15620766
            ],
            "sizemode": "area",
            "sizeref": 435928.2961983471,
            "symbol": "circle"
           },
           "mode": "markers",
           "name": "Americas",
           "orientation": "v",
           "showlegend": true,
           "type": "scatter",
           "x": [
            8997.897412,
            3156.510452,
            7030.835878,
            22898.79214,
            5095.665738000001,
            4397.575659,
            5262.734751,
            7316.9181069999995,
            2861.092386,
            7213.7912670000005,
            4098.344175,
            4820.49479,
            2011.1595489999997,
            3121.7607940000003,
            6068.05135,
            9611.147541,
            3470.3381560000003,
            7009.601598,
            4258.5036039999995,
            6434.501797,
            10330.98915,
            9119.528607,
            25009.55914,
            6920.223051000001,
            11152.410109999999
           ],
           "xaxis": "x",
           "y": [
            69.942,
            53.858999999999995,
            63.336000000000006,
            75.76,
            70.565,
            66.653,
            73.45,
            73.717,
            63.727,
            64.342,
            56.604,
            58.137,
            51.461000000000006,
            60.909,
            71.21,
            67.405,
            59.298,
            70.472,
            66.874,
            61.406000000000006,
            73.75,
            68.832,
            74.65,
            70.805,
            68.557
           ],
           "yaxis": "y"
          },
          {
           "hovertemplate": "<b>%{hovertext}</b><br><br>continent=Oceania<br>year=1982<br>gdpPercap=%{x}<br>lifeExp=%{y}<br>pop=%{marker.size}<extra></extra>",
           "hovertext": [
            "Australia",
            "New Zealand"
           ],
           "legendgroup": "Oceania",
           "marker": {
            "color": "#FFA15A",
            "size": [
             15184200,
             3210650
            ],
            "sizemode": "area",
            "sizeref": 435928.2961983471,
            "symbol": "circle"
           },
           "mode": "markers",
           "name": "Oceania",
           "orientation": "v",
           "showlegend": true,
           "type": "scatter",
           "x": [
            19477.009280000002,
            17632.4104
           ],
           "xaxis": "x",
           "y": [
            74.74,
            73.84
           ],
           "yaxis": "y"
          }
         ],
         "name": "1982"
        },
        {
         "data": [
          {
           "hovertemplate": "<b>%{hovertext}</b><br><br>continent=Asia<br>year=1987<br>gdpPercap=%{x}<br>lifeExp=%{y}<br>pop=%{marker.size}<extra></extra>",
           "hovertext": [
            "Afghanistan",
            "Bahrain",
            "Bangladesh",
            "Cambodia",
            "China",
            "Hong Kong, China",
            "India",
            "Indonesia",
            "Iran",
            "Iraq",
            "Israel",
            "Japan",
            "Jordan",
            "Korea, Dem. Rep.",
            "Korea, Rep.",
            "Kuwait",
            "Lebanon",
            "Malaysia",
            "Mongolia",
            "Myanmar",
            "Nepal",
            "Oman",
            "Pakistan",
            "Philippines",
            "Saudi Arabia",
            "Singapore",
            "Sri Lanka",
            "Syria",
            "Taiwan",
            "Thailand",
            "Vietnam",
            "West Bank and Gaza",
            "Yemen, Rep."
           ],
           "legendgroup": "Asia",
           "marker": {
            "color": "#636efa",
            "size": [
             13867957,
             454612,
             103764241,
             8371791,
             1084035000,
             5584510,
             788000000,
             169276000,
             51889696,
             16543189,
             4203148,
             122091325,
             2820042,
             19067554,
             41622000,
             1891487,
             3089353,
             16331785,
             2015133,
             38028578,
             17917180,
             1593882,
             105186881,
             60017788,
             14619745,
             2794552,
             16495304,
             11242847,
             19757799,
             52910342,
             62826491,
             1691210,
             11219340
            ],
            "sizemode": "area",
            "sizeref": 435928.2961983471,
            "symbol": "circle"
           },
           "mode": "markers",
           "name": "Asia",
           "orientation": "v",
           "showlegend": true,
           "type": "scatter",
           "x": [
            852.3959447999999,
            18524.02406,
            751.9794035,
            683.8955732000001,
            1378.904018,
            20038.472690000002,
            976.5126756000001,
            1748.356961,
            6642.881371,
            11643.57268,
            17122.47986,
            22375.941890000002,
            4448.679912,
            4106.4923149999995,
            8533.088805,
            28118.42998,
            5377.091329,
            5249.802653,
            2338.008304,
            385,
            775.6324501,
            18115.223130000002,
            1704.686583,
            2189.634995,
            21198.26136,
            18861.53081,
            1876.766827,
            3116.774285,
            11054.56175,
            2982.653773,
            820.7994449,
            5107.197384,
            1971.741538
           ],
           "xaxis": "x",
           "y": [
            40.821999999999996,
            70.75,
            52.818999999999996,
            53.913999999999994,
            67.274,
            76.2,
            58.553000000000004,
            60.137,
            63.04,
            65.044,
            75.6,
            78.67,
            65.869,
            70.64699999999999,
            69.81,
            74.17399999999999,
            67.926,
            69.5,
            60.222,
            58.339,
            52.537,
            67.734,
            58.245,
            64.15100000000001,
            66.295,
            73.56,
            69.01100000000001,
            66.97399999999999,
            73.4,
            66.084,
            62.82,
            67.046,
            52.922
           ],
           "yaxis": "y"
          },
          {
           "hovertemplate": "<b>%{hovertext}</b><br><br>continent=Europe<br>year=1987<br>gdpPercap=%{x}<br>lifeExp=%{y}<br>pop=%{marker.size}<extra></extra>",
           "hovertext": [
            "Albania",
            "Austria",
            "Belgium",
            "Bosnia and Herzegovina",
            "Bulgaria",
            "Croatia",
            "Czech Republic",
            "Denmark",
            "Finland",
            "France",
            "Germany",
            "Greece",
            "Hungary",
            "Iceland",
            "Ireland",
            "Italy",
            "Montenegro",
            "Netherlands",
            "Norway",
            "Poland",
            "Portugal",
            "Romania",
            "Serbia",
            "Slovak Republic",
            "Slovenia",
            "Spain",
            "Sweden",
            "Switzerland",
            "Turkey",
            "United Kingdom"
           ],
           "legendgroup": "Europe",
           "marker": {
            "color": "#EF553B",
            "size": [
             3075321,
             7578903,
             9870200,
             4338977,
             8971958,
             4484310,
             10311597,
             5127024,
             4931729,
             55630100,
             77718298,
             9974490,
             10612740,
             244676,
             3539900,
             56729703,
             569473,
             14665278,
             4186147,
             37740710,
             9915289,
             22686371,
             9230783,
             5199318,
             1945870,
             38880702,
             8421403,
             6649942,
             52881328,
             56981620
            ],
            "sizemode": "area",
            "sizeref": 435928.2961983471,
            "symbol": "circle"
           },
           "mode": "markers",
           "name": "Europe",
           "orientation": "v",
           "showlegend": true,
           "type": "scatter",
           "x": [
            3738.9327350000003,
            23687.82607,
            22525.56308,
            4314.114757,
            8239.854824,
            13822.58394,
            16310.4434,
            25116.17581,
            21141.01223,
            22066.44214,
            24639.18566,
            16120.528390000001,
            12986.47998,
            26923.206280000002,
            13872.86652,
            19207.234819999998,
            11732.51017,
            23651.32361,
            31540.9748,
            9082.351172,
            13039.30876,
            9696.273295,
            15870.878509999999,
            12037.26758,
            18678.53492,
            15764.98313,
            23586.92927,
            30281.704589999998,
            5089.043686,
            21664.787669999998
           ],
           "xaxis": "x",
           "y": [
            72,
            74.94,
            75.35,
            71.14,
            71.34,
            71.52,
            71.58,
            74.8,
            74.83,
            76.34,
            74.847,
            76.67,
            69.58,
            77.23,
            74.36,
            76.42,
            74.865,
            76.83,
            75.89,
            70.98,
            74.06,
            69.53,
            71.218,
            71.08,
            72.25,
            76.9,
            77.19,
            77.41,
            63.108000000000004,
            75.007
           ],
           "yaxis": "y"
          },
          {
           "hovertemplate": "<b>%{hovertext}</b><br><br>continent=Africa<br>year=1987<br>gdpPercap=%{x}<br>lifeExp=%{y}<br>pop=%{marker.size}<extra></extra>",
           "hovertext": [
            "Algeria",
            "Angola",
            "Benin",
            "Botswana",
            "Burkina Faso",
            "Burundi",
            "Cameroon",
            "Central African Republic",
            "Chad",
            "Comoros",
            "Congo, Dem. Rep.",
            "Congo, Rep.",
            "Cote d'Ivoire",
            "Djibouti",
            "Egypt",
            "Equatorial Guinea",
            "Eritrea",
            "Ethiopia",
            "Gabon",
            "Gambia",
            "Ghana",
            "Guinea",
            "Guinea-Bissau",
            "Kenya",
            "Lesotho",
            "Liberia",
            "Libya",
            "Madagascar",
            "Malawi",
            "Mali",
            "Mauritania",
            "Mauritius",
            "Morocco",
            "Mozambique",
            "Namibia",
            "Niger",
            "Nigeria",
            "Reunion",
            "Rwanda",
            "Sao Tome and Principe",
            "Senegal",
            "Sierra Leone",
            "Somalia",
            "South Africa",
            "Sudan",
            "Swaziland",
            "Tanzania",
            "Togo",
            "Tunisia",
            "Uganda",
            "Zambia",
            "Zimbabwe"
           ],
           "legendgroup": "Africa",
           "marker": {
            "color": "#00cc96",
            "size": [
             23254956,
             7874230,
             4243788,
             1151184,
             7586551,
             5126023,
             10780667,
             2840009,
             5498955,
             395114,
             35481645,
             2064095,
             10761098,
             311025,
             52799062,
             341244,
             2915959,
             42999530,
             880397,
             848406,
             14168101,
             5650262,
             927524,
             21198082,
             1599200,
             2269414,
             3799845,
             10568642,
             7824747,
             7634008,
             1841240,
             1042663,
             22987397,
             12891952,
             1278184,
             7332638,
             81551520,
             562035,
             6349365,
             110812,
             7171347,
             3868905,
             6921858,
             35933379,
             24725960,
             779348,
             23040630,
             3154264,
             7724976,
             15283050,
             7272406,
             9216418
            ],
            "sizemode": "area",
            "sizeref": 435928.2961983471,
            "symbol": "circle"
           },
           "mode": "markers",
           "name": "Africa",
           "orientation": "v",
           "showlegend": true,
           "type": "scatter",
           "x": [
            5681.358539,
            2430.208311,
            1225.85601,
            6205.88385,
            912.0631417000001,
            621.8188188999999,
            2602.664206,
            844.8763504000001,
            952.3861289999999,
            1315.980812,
            672.774812,
            4201.194936999999,
            2156.9560690000003,
            2880.102568,
            3885.4607100000003,
            966.8968149,
            521.1341333,
            573.7413142000001,
            11864.408440000001,
            611.6588611000001,
            847.0061135,
            805.5724717999999,
            736.4153921,
            1361.936856,
            773.9932140999999,
            506.1138573,
            11770.5898,
            1155.4419480000001,
            635.5173633999999,
            684.1715576,
            1421.603576,
            4783.586903,
            2755.046991,
            389.87618460000004,
            3693.7313369999997,
            668.3000228,
            1385.029563,
            5303.377488,
            847.991217,
            1516.525457,
            1441.72072,
            1294.4477880000002,
            1093.244963,
            7825.823398,
            1507.819159,
            3984.8398119999997,
            831.8220794,
            1202.201361,
            3810.419296,
            617.7244065,
            1213.315116,
            706.1573059
           ],
           "xaxis": "x",
           "y": [
            65.79899999999999,
            39.906,
            52.336999999999996,
            63.622,
            49.556999999999995,
            48.211000000000006,
            54.985,
            50.485,
            51.051,
            54.926,
            47.412,
            57.47,
            54.655,
            50.04,
            59.797,
            45.663999999999994,
            46.453,
            46.684,
            60.19,
            49.265,
            55.729,
            45.552,
            41.245,
            59.339,
            57.18,
            46.027,
            66.234,
            49.35,
            47.457,
            46.364,
            56.145,
            68.74,
            62.677,
            42.861000000000004,
            60.835,
            44.555,
            46.886,
            71.913,
            44.02,
            61.728,
            55.769,
            40.006,
            44.501000000000005,
            60.833999999999996,
            51.744,
            57.678000000000004,
            51.535,
            56.941,
            66.89399999999999,
            51.50899999999999,
            50.821000000000005,
            62.351000000000006
           ],
           "yaxis": "y"
          },
          {
           "hovertemplate": "<b>%{hovertext}</b><br><br>continent=Americas<br>year=1987<br>gdpPercap=%{x}<br>lifeExp=%{y}<br>pop=%{marker.size}<extra></extra>",
           "hovertext": [
            "Argentina",
            "Bolivia",
            "Brazil",
            "Canada",
            "Chile",
            "Colombia",
            "Costa Rica",
            "Cuba",
            "Dominican Republic",
            "Ecuador",
            "El Salvador",
            "Guatemala",
            "Haiti",
            "Honduras",
            "Jamaica",
            "Mexico",
            "Nicaragua",
            "Panama",
            "Paraguay",
            "Peru",
            "Puerto Rico",
            "Trinidad and Tobago",
            "United States",
            "Uruguay",
            "Venezuela"
           ],
           "legendgroup": "Americas",
           "marker": {
            "color": "#ab63fa",
            "size": [
             31620918,
             6156369,
             142938076,
             26549700,
             12463354,
             30964245,
             2799811,
             10239839,
             6655297,
             9545158,
             4842194,
             7326406,
             5756203,
             4372203,
             2326606,
             80122492,
             3344353,
             2253639,
             3886512,
             20195924,
             3444468,
             1191336,
             242803533,
             3045153,
             17910182
            ],
            "sizemode": "area",
            "sizeref": 435928.2961983471,
            "symbol": "circle"
           },
           "mode": "markers",
           "name": "Americas",
           "orientation": "v",
           "showlegend": true,
           "type": "scatter",
           "x": [
            9139.671389,
            2753.6914899999997,
            7807.095818000001,
            26626.515030000002,
            5547.063754,
            4903.2191,
            5629.915318,
            7532.924762999999,
            2899.842175,
            6481.776993,
            4140.442097,
            4246.485974,
            1823.015995,
            3023.0966989999997,
            6351.237495,
            8688.156003,
            2955.984375,
            7034.779161,
            3998.875695,
            6360.9434439999995,
            12281.34191,
            7388.597823,
            29884.350410000003,
            7452.398969,
            9883.584648
           ],
           "xaxis": "x",
           "y": [
            70.774,
            57.251000000000005,
            65.205,
            76.86,
            72.492,
            67.768,
            74.752,
            74.17399999999999,
            66.046,
            67.23100000000001,
            63.153999999999996,
            60.782,
            53.636,
            64.492,
            71.77,
            69.498,
            62.008,
            71.523,
            67.378,
            64.134,
            74.63,
            69.582,
            75.02,
            71.918,
            70.19
           ],
           "yaxis": "y"
          },
          {
           "hovertemplate": "<b>%{hovertext}</b><br><br>continent=Oceania<br>year=1987<br>gdpPercap=%{x}<br>lifeExp=%{y}<br>pop=%{marker.size}<extra></extra>",
           "hovertext": [
            "Australia",
            "New Zealand"
           ],
           "legendgroup": "Oceania",
           "marker": {
            "color": "#FFA15A",
            "size": [
             16257249,
             3317166
            ],
            "sizemode": "area",
            "sizeref": 435928.2961983471,
            "symbol": "circle"
           },
           "mode": "markers",
           "name": "Oceania",
           "orientation": "v",
           "showlegend": true,
           "type": "scatter",
           "x": [
            21888.889030000002,
            19007.19129
           ],
           "xaxis": "x",
           "y": [
            76.32,
            74.32
           ],
           "yaxis": "y"
          }
         ],
         "name": "1987"
        },
        {
         "data": [
          {
           "hovertemplate": "<b>%{hovertext}</b><br><br>continent=Asia<br>year=1992<br>gdpPercap=%{x}<br>lifeExp=%{y}<br>pop=%{marker.size}<extra></extra>",
           "hovertext": [
            "Afghanistan",
            "Bahrain",
            "Bangladesh",
            "Cambodia",
            "China",
            "Hong Kong, China",
            "India",
            "Indonesia",
            "Iran",
            "Iraq",
            "Israel",
            "Japan",
            "Jordan",
            "Korea, Dem. Rep.",
            "Korea, Rep.",
            "Kuwait",
            "Lebanon",
            "Malaysia",
            "Mongolia",
            "Myanmar",
            "Nepal",
            "Oman",
            "Pakistan",
            "Philippines",
            "Saudi Arabia",
            "Singapore",
            "Sri Lanka",
            "Syria",
            "Taiwan",
            "Thailand",
            "Vietnam",
            "West Bank and Gaza",
            "Yemen, Rep."
           ],
           "legendgroup": "Asia",
           "marker": {
            "color": "#636efa",
            "size": [
             16317921,
             529491,
             113704579,
             10150094,
             1164970000,
             5829696,
             872000000,
             184816000,
             60397973,
             17861905,
             4936550,
             124329269,
             3867409,
             20711375,
             43805450,
             1418095,
             3219994,
             18319502,
             2312802,
             40546538,
             20326209,
             1915208,
             120065004,
             67185766,
             16945857,
             3235865,
             17587060,
             13219062,
             20686918,
             56667095,
             69940728,
             2104779,
             13367997
            ],
            "sizemode": "area",
            "sizeref": 435928.2961983471,
            "symbol": "circle"
           },
           "mode": "markers",
           "name": "Asia",
           "orientation": "v",
           "showlegend": true,
           "type": "scatter",
           "x": [
            649.3413952000001,
            19035.579169999997,
            837.8101642999999,
            682.3031755,
            1655.784158,
            24757.60301,
            1164.406809,
            2383.140898,
            7235.653187999999,
            3745.6406869999996,
            18051.52254,
            26824.895109999998,
            3431.5936469999997,
            3726.063507,
            12104.27872,
            34932.91959,
            6890.806854,
            7277.912802,
            1785.402016,
            347,
            897.7403604,
            18616.70691,
            1971.8294640000001,
            2279.3240170000004,
            24841.617769999997,
            24769.8912,
            2153.7392219999997,
            3340.542768,
            15215.6579,
            4616.8965450000005,
            989.0231487,
            6017.654756,
            1879.496673
           ],
           "xaxis": "x",
           "y": [
            41.674,
            72.601,
            56.018,
            55.803000000000004,
            68.69,
            77.601,
            60.223,
            62.681000000000004,
            65.742,
            59.461000000000006,
            76.93,
            79.36,
            68.015,
            69.97800000000001,
            72.244,
            75.19,
            69.292,
            70.693,
            61.271,
            59.32,
            55.727,
            71.197,
            60.838,
            66.458,
            68.768,
            75.788,
            70.37899999999999,
            69.249,
            74.26,
            67.298,
            67.66199999999999,
            69.718,
            55.599
           ],
           "yaxis": "y"
          },
          {
           "hovertemplate": "<b>%{hovertext}</b><br><br>continent=Europe<br>year=1992<br>gdpPercap=%{x}<br>lifeExp=%{y}<br>pop=%{marker.size}<extra></extra>",
           "hovertext": [
            "Albania",
            "Austria",
            "Belgium",
            "Bosnia and Herzegovina",
            "Bulgaria",
            "Croatia",
            "Czech Republic",
            "Denmark",
            "Finland",
            "France",
            "Germany",
            "Greece",
            "Hungary",
            "Iceland",
            "Ireland",
            "Italy",
            "Montenegro",
            "Netherlands",
            "Norway",
            "Poland",
            "Portugal",
            "Romania",
            "Serbia",
            "Slovak Republic",
            "Slovenia",
            "Spain",
            "Sweden",
            "Switzerland",
            "Turkey",
            "United Kingdom"
           ],
           "legendgroup": "Europe",
           "marker": {
            "color": "#EF553B",
            "size": [
             3326498,
             7914969,
             10045622,
             4256013,
             8658506,
             4494013,
             10315702,
             5171393,
             5041039,
             57374179,
             80597764,
             10325429,
             10348684,
             259012,
             3557761,
             56840847,
             621621,
             15174244,
             4286357,
             38370697,
             9927680,
             22797027,
             9826397,
             5302888,
             1999210,
             39549438,
             8718867,
             6995447,
             58179144,
             57866349
            ],
            "sizemode": "area",
            "sizeref": 435928.2961983471,
            "symbol": "circle"
           },
           "mode": "markers",
           "name": "Europe",
           "orientation": "v",
           "showlegend": true,
           "type": "scatter",
           "x": [
            2497.4379010000002,
            27042.01868,
            25575.57069,
            2546.781445,
            6302.6234380000005,
            8447.794873,
            14297.021219999999,
            26406.73985,
            20647.16499,
            24703.79615,
            26505.30317,
            17541.49634,
            10535.62855,
            25144.39201,
            17558.81555,
            22013.64486,
            7003.339037000001,
            26790.94961,
            33965.66115,
            7738.881247,
            16207.266630000002,
            6598.409903,
            9325.068238,
            9498.467723,
            14214.71681,
            18603.06452,
            23880.01683,
            31871.5303,
            5678.348271,
            22705.09254
           ],
           "xaxis": "x",
           "y": [
            71.581,
            76.04,
            76.46,
            72.178,
            71.19,
            72.527,
            72.4,
            75.33,
            75.7,
            77.46,
            76.07,
            77.03,
            69.17,
            78.77,
            75.467,
            77.44,
            75.435,
            77.42,
            77.32,
            70.99,
            74.86,
            69.36,
            71.65899999999999,
            71.38,
            73.64,
            77.57,
            78.16,
            78.03,
            66.146,
            76.42
           ],
           "yaxis": "y"
          },
          {
           "hovertemplate": "<b>%{hovertext}</b><br><br>continent=Africa<br>year=1992<br>gdpPercap=%{x}<br>lifeExp=%{y}<br>pop=%{marker.size}<extra></extra>",
           "hovertext": [
            "Algeria",
            "Angola",
            "Benin",
            "Botswana",
            "Burkina Faso",
            "Burundi",
            "Cameroon",
            "Central African Republic",
            "Chad",
            "Comoros",
            "Congo, Dem. Rep.",
            "Congo, Rep.",
            "Cote d'Ivoire",
            "Djibouti",
            "Egypt",
            "Equatorial Guinea",
            "Eritrea",
            "Ethiopia",
            "Gabon",
            "Gambia",
            "Ghana",
            "Guinea",
            "Guinea-Bissau",
            "Kenya",
            "Lesotho",
            "Liberia",
            "Libya",
            "Madagascar",
            "Malawi",
            "Mali",
            "Mauritania",
            "Mauritius",
            "Morocco",
            "Mozambique",
            "Namibia",
            "Niger",
            "Nigeria",
            "Reunion",
            "Rwanda",
            "Sao Tome and Principe",
            "Senegal",
            "Sierra Leone",
            "Somalia",
            "South Africa",
            "Sudan",
            "Swaziland",
            "Tanzania",
            "Togo",
            "Tunisia",
            "Uganda",
            "Zambia",
            "Zimbabwe"
           ],
           "legendgroup": "Africa",
           "marker": {
            "color": "#00cc96",
            "size": [
             26298373,
             8735988,
             4981671,
             1342614,
             8878303,
             5809236,
             12467171,
             3265124,
             6429417,
             454429,
             41672143,
             2409073,
             12772596,
             384156,
             59402198,
             387838,
             3668440,
             52088559,
             985739,
             1025384,
             16278738,
             6990574,
             1050938,
             25020539,
             1803195,
             1912974,
             4364501,
             12210395,
             10014249,
             8416215,
             2119465,
             1096202,
             25798239,
             13160731,
             1554253,
             8392818,
             93364244,
             622191,
             7290203,
             125911,
             8307920,
             4260884,
             6099799,
             39964159,
             28227588,
             962344,
             26605473,
             3747553,
             8523077,
             18252190,
             8381163,
             10704340
            ],
            "sizemode": "area",
            "sizeref": 435928.2961983471,
            "symbol": "circle"
           },
           "mode": "markers",
           "name": "Africa",
           "orientation": "v",
           "showlegend": true,
           "type": "scatter",
           "x": [
            5023.216647,
            2627.8456850000002,
            1191.207681,
            7954.111645,
            931.7527731,
            631.6998778,
            1793.1632780000002,
            747.9055252,
            1058.0643,
            1246.90737,
            457.7191807,
            4016.239529,
            1648.073791,
            2377.1561920000004,
            3794.755195,
            1132.055034,
            582.8585102000001,
            421.3534653,
            13522.157519999999,
            665.6244126,
            925.0601539999999,
            794.3484384,
            745.5398706,
            1341.9217210000002,
            977.4862724999999,
            636.6229191000001,
            9640.138501000001,
            1040.6761900000001,
            563.2000145,
            739.014375,
            1361.369784,
            6058.2538460000005,
            2948.047252,
            410.89682389999996,
            3804.537999,
            581.182725,
            1619.848217,
            6101.2558229999995,
            737.0685949,
            1428.777814,
            1367.899369,
            1068.696278,
            926.9602964,
            7225.0692579999995,
            1492.197043,
            3553.0224,
            825.682454,
            1034.298904,
            4332.720164,
            644.1707968999999,
            1210.884633,
            693.4207856
           ],
           "xaxis": "x",
           "y": [
            67.744,
            40.647,
            53.919,
            62.745,
            50.26,
            44.736000000000004,
            54.31399999999999,
            49.396,
            51.724,
            57.93899999999999,
            45.548,
            56.433,
            52.044,
            51.604,
            63.674,
            47.545,
            49.99100000000001,
            48.091,
            61.36600000000001,
            52.644,
            57.501000000000005,
            48.576,
            43.266000000000005,
            59.285,
            59.685,
            40.802,
            68.755,
            52.214,
            49.42,
            48.388000000000005,
            58.333,
            69.745,
            65.393,
            44.284,
            61.998999999999995,
            47.391000000000005,
            47.472,
            73.615,
            23.599,
            62.742,
            58.196000000000005,
            38.333,
            39.658,
            61.888000000000005,
            53.556000000000004,
            58.474,
            50.44,
            58.06100000000001,
            70.001,
            48.825,
            46.1,
            60.376999999999995
           ],
           "yaxis": "y"
          },
          {
           "hovertemplate": "<b>%{hovertext}</b><br><br>continent=Americas<br>year=1992<br>gdpPercap=%{x}<br>lifeExp=%{y}<br>pop=%{marker.size}<extra></extra>",
           "hovertext": [
            "Argentina",
            "Bolivia",
            "Brazil",
            "Canada",
            "Chile",
            "Colombia",
            "Costa Rica",
            "Cuba",
            "Dominican Republic",
            "Ecuador",
            "El Salvador",
            "Guatemala",
            "Haiti",
            "Honduras",
            "Jamaica",
            "Mexico",
            "Nicaragua",
            "Panama",
            "Paraguay",
            "Peru",
            "Puerto Rico",
            "Trinidad and Tobago",
            "United States",
            "Uruguay",
            "Venezuela"
           ],
           "legendgroup": "Americas",
           "marker": {
            "color": "#ab63fa",
            "size": [
             33958947,
             6893451,
             155975974,
             28523502,
             13572994,
             34202721,
             3173216,
             10723260,
             7351181,
             10748394,
             5274649,
             8486949,
             6326682,
             5077347,
             2378618,
             88111030,
             4017939,
             2484997,
             4483945,
             22430449,
             3585176,
             1183669,
             256894189,
             3149262,
             20265563
            ],
            "sizemode": "area",
            "sizeref": 435928.2961983471,
            "symbol": "circle"
           },
           "mode": "markers",
           "name": "Americas",
           "orientation": "v",
           "showlegend": true,
           "type": "scatter",
           "x": [
            9308.41871,
            2961.699694,
            6950.283020999999,
            26342.88426,
            7596.125964,
            5444.648617,
            6160.416317,
            5592.843963,
            3044.214214,
            7103.702595000001,
            4444.2317,
            4439.4508399999995,
            1456.309517,
            3081.694603,
            7404.923685,
            9472.384295,
            2170.151724,
            6618.74305,
            4196.411078,
            4446.380924,
            14641.587109999999,
            7370.990932,
            32003.93224,
            8137.004775,
            10733.926309999999
           ],
           "xaxis": "x",
           "y": [
            71.868,
            59.957,
            67.057,
            77.95,
            74.126,
            68.421,
            75.71300000000001,
            74.414,
            68.457,
            69.613,
            66.798,
            63.373000000000005,
            55.089,
            66.399,
            71.766,
            71.455,
            65.843,
            72.462,
            68.225,
            66.458,
            73.911,
            69.862,
            76.09,
            72.752,
            71.15
           ],
           "yaxis": "y"
          },
          {
           "hovertemplate": "<b>%{hovertext}</b><br><br>continent=Oceania<br>year=1992<br>gdpPercap=%{x}<br>lifeExp=%{y}<br>pop=%{marker.size}<extra></extra>",
           "hovertext": [
            "Australia",
            "New Zealand"
           ],
           "legendgroup": "Oceania",
           "marker": {
            "color": "#FFA15A",
            "size": [
             17481977,
             3437674
            ],
            "sizemode": "area",
            "sizeref": 435928.2961983471,
            "symbol": "circle"
           },
           "mode": "markers",
           "name": "Oceania",
           "orientation": "v",
           "showlegend": true,
           "type": "scatter",
           "x": [
            23424.76683,
            18363.324940000002
           ],
           "xaxis": "x",
           "y": [
            77.56,
            76.33
           ],
           "yaxis": "y"
          }
         ],
         "name": "1992"
        },
        {
         "data": [
          {
           "hovertemplate": "<b>%{hovertext}</b><br><br>continent=Asia<br>year=1997<br>gdpPercap=%{x}<br>lifeExp=%{y}<br>pop=%{marker.size}<extra></extra>",
           "hovertext": [
            "Afghanistan",
            "Bahrain",
            "Bangladesh",
            "Cambodia",
            "China",
            "Hong Kong, China",
            "India",
            "Indonesia",
            "Iran",
            "Iraq",
            "Israel",
            "Japan",
            "Jordan",
            "Korea, Dem. Rep.",
            "Korea, Rep.",
            "Kuwait",
            "Lebanon",
            "Malaysia",
            "Mongolia",
            "Myanmar",
            "Nepal",
            "Oman",
            "Pakistan",
            "Philippines",
            "Saudi Arabia",
            "Singapore",
            "Sri Lanka",
            "Syria",
            "Taiwan",
            "Thailand",
            "Vietnam",
            "West Bank and Gaza",
            "Yemen, Rep."
           ],
           "legendgroup": "Asia",
           "marker": {
            "color": "#636efa",
            "size": [
             22227415,
             598561,
             123315288,
             11782962,
             1230075000,
             6495918,
             959000000,
             199278000,
             63327987,
             20775703,
             5531387,
             125956499,
             4526235,
             21585105,
             46173816,
             1765345,
             3430388,
             20476091,
             2494803,
             43247867,
             23001113,
             2283635,
             135564834,
             75012988,
             21229759,
             3802309,
             18698655,
             15081016,
             21628605,
             60216677,
             76048996,
             2826046,
             15826497
            ],
            "sizemode": "area",
            "sizeref": 435928.2961983471,
            "symbol": "circle"
           },
           "mode": "markers",
           "name": "Asia",
           "orientation": "v",
           "showlegend": true,
           "type": "scatter",
           "x": [
            635.341351,
            20292.01679,
            972.7700352,
            734.28517,
            2289.234136,
            28377.632189999997,
            1458.817442,
            3119.335603,
            8263.590301,
            3076.239795,
            20896.60924,
            28816.58499,
            3645.379572,
            1690.756814,
            15993.52796,
            40300.61996,
            8754.96385,
            10132.90964,
            1902.2521,
            415,
            1010.892138,
            19702.055809999998,
            2049.3505210000003,
            2536.534925,
            20586.69019,
            33519.4766,
            2664.477257,
            4014.238972,
            20206.82098,
            5852.625497,
            1385.896769,
            7110.667619,
            2117.484526
           ],
           "xaxis": "x",
           "y": [
            41.763000000000005,
            73.925,
            59.412,
            56.534,
            70.426,
            80,
            61.765,
            66.041,
            68.042,
            58.81100000000001,
            78.26899999999999,
            80.69,
            69.77199999999999,
            67.727,
            74.64699999999999,
            76.156,
            70.265,
            71.938,
            63.625,
            60.328,
            59.426,
            72.499,
            61.818000000000005,
            68.564,
            70.533,
            77.158,
            70.457,
            71.527,
            75.25,
            67.521,
            70.672,
            71.096,
            58.02
           ],
           "yaxis": "y"
          },
          {
           "hovertemplate": "<b>%{hovertext}</b><br><br>continent=Europe<br>year=1997<br>gdpPercap=%{x}<br>lifeExp=%{y}<br>pop=%{marker.size}<extra></extra>",
           "hovertext": [
            "Albania",
            "Austria",
            "Belgium",
            "Bosnia and Herzegovina",
            "Bulgaria",
            "Croatia",
            "Czech Republic",
            "Denmark",
            "Finland",
            "France",
            "Germany",
            "Greece",
            "Hungary",
            "Iceland",
            "Ireland",
            "Italy",
            "Montenegro",
            "Netherlands",
            "Norway",
            "Poland",
            "Portugal",
            "Romania",
            "Serbia",
            "Slovak Republic",
            "Slovenia",
            "Spain",
            "Sweden",
            "Switzerland",
            "Turkey",
            "United Kingdom"
           ],
           "legendgroup": "Europe",
           "marker": {
            "color": "#EF553B",
            "size": [
             3428038,
             8069876,
             10199787,
             3607000,
             8066057,
             4444595,
             10300707,
             5283663,
             5134406,
             58623428,
             82011073,
             10502372,
             10244684,
             271192,
             3667233,
             57479469,
             692651,
             15604464,
             4405672,
             38654957,
             10156415,
             22562458,
             10336594,
             5383010,
             2011612,
             39855442,
             8897619,
             7193761,
             63047647,
             58808266
            ],
            "sizemode": "area",
            "sizeref": 435928.2961983471,
            "symbol": "circle"
           },
           "mode": "markers",
           "name": "Europe",
           "orientation": "v",
           "showlegend": true,
           "type": "scatter",
           "x": [
            3193.054604,
            29095.920660000003,
            27561.196630000002,
            4766.355904,
            5970.38876,
            9875.604515,
            16048.51424,
            29804.34567,
            23723.9502,
            25889.78487,
            27788.88416,
            18747.69814,
            11712.7768,
            28061.099660000003,
            24521.94713,
            24675.02446,
            6465.613349,
            30246.13063,
            41283.16433,
            10159.58368,
            17641.03156,
            7346.547556999999,
            7914.320304000001,
            12126.23065,
            17161.10735,
            20445.29896,
            25266.59499,
            32135.323010000004,
            6601.429915,
            26074.53136
           ],
           "xaxis": "x",
           "y": [
            72.95,
            77.51,
            77.53,
            73.244,
            70.32,
            73.68,
            74.01,
            76.11,
            77.13,
            78.64,
            77.34,
            77.869,
            71.04,
            78.95,
            76.122,
            78.82,
            75.445,
            78.03,
            78.32,
            72.75,
            75.97,
            69.72,
            72.232,
            72.71,
            75.13,
            78.77,
            79.39,
            79.37,
            68.835,
            77.218
           ],
           "yaxis": "y"
          },
          {
           "hovertemplate": "<b>%{hovertext}</b><br><br>continent=Africa<br>year=1997<br>gdpPercap=%{x}<br>lifeExp=%{y}<br>pop=%{marker.size}<extra></extra>",
           "hovertext": [
            "Algeria",
            "Angola",
            "Benin",
            "Botswana",
            "Burkina Faso",
            "Burundi",
            "Cameroon",
            "Central African Republic",
            "Chad",
            "Comoros",
            "Congo, Dem. Rep.",
            "Congo, Rep.",
            "Cote d'Ivoire",
            "Djibouti",
            "Egypt",
            "Equatorial Guinea",
            "Eritrea",
            "Ethiopia",
            "Gabon",
            "Gambia",
            "Ghana",
            "Guinea",
            "Guinea-Bissau",
            "Kenya",
            "Lesotho",
            "Liberia",
            "Libya",
            "Madagascar",
            "Malawi",
            "Mali",
            "Mauritania",
            "Mauritius",
            "Morocco",
            "Mozambique",
            "Namibia",
            "Niger",
            "Nigeria",
            "Reunion",
            "Rwanda",
            "Sao Tome and Principe",
            "Senegal",
            "Sierra Leone",
            "Somalia",
            "South Africa",
            "Sudan",
            "Swaziland",
            "Tanzania",
            "Togo",
            "Tunisia",
            "Uganda",
            "Zambia",
            "Zimbabwe"
           ],
           "legendgroup": "Africa",
           "marker": {
            "color": "#00cc96",
            "size": [
             29072015,
             9875024,
             6066080,
             1536536,
             10352843,
             6121610,
             14195809,
             3696513,
             7562011,
             527982,
             47798986,
             2800947,
             14625967,
             417908,
             66134291,
             439971,
             4058319,
             59861301,
             1126189,
             1235767,
             18418288,
             8048834,
             1193708,
             28263827,
             1982823,
             2200725,
             4759670,
             14165114,
             10419991,
             9384984,
             2444741,
             1149818,
             28529501,
             16603334,
             1774766,
             9666252,
             106207839,
             684810,
             7212583,
             145608,
             9535314,
             4578212,
             6633514,
             42835005,
             32160729,
             1054486,
             30686889,
             4320890,
             9231669,
             21210254,
             9417789,
             11404948
            ],
            "sizemode": "area",
            "sizeref": 435928.2961983471,
            "symbol": "circle"
           },
           "mode": "markers",
           "name": "Africa",
           "orientation": "v",
           "showlegend": true,
           "type": "scatter",
           "x": [
            4797.295051,
            2277.140884,
            1232.975292,
            8647.142313,
            946.2949617999999,
            463.1151478,
            1694.337469,
            740.5063317,
            1004.9613529999999,
            1173.618235,
            312.188423,
            3484.1643759999997,
            1786.265407,
            1895.016984,
            4173.181797,
            2814.480755,
            913.4707900000001,
            515.8894013,
            14722.841880000002,
            653.7301704,
            1005.2458119999999,
            869.4497667999999,
            796.6644681,
            1360.4850210000002,
            1186.147994,
            609.1739508,
            9467.446056,
            986.2958956,
            692.2758102999999,
            790.2579846,
            1483.1361359999999,
            7425.705295000001,
            2982.101858,
            472.34607710000006,
            3899.52426,
            580.3052092,
            1624.941275,
            6071.941411,
            589.9445051,
            1339.076036,
            1392.368347,
            574.6481576,
            930.5964284,
            7479.188244,
            1632.2107640000002,
            3876.7684600000002,
            789.1862231,
            982.2869242999999,
            4876.798614,
            816.559081,
            1071.353818,
            792.4499602999999
           ],
           "xaxis": "x",
           "y": [
            69.152,
            40.963,
            54.777,
            52.556000000000004,
            50.324,
            45.326,
            52.199,
            46.066,
            51.573,
            60.66,
            42.586999999999996,
            52.961999999999996,
            47.99100000000001,
            53.157,
            67.217,
            48.245,
            53.378,
            49.402,
            60.461000000000006,
            55.861000000000004,
            58.556000000000004,
            51.455,
            44.873000000000005,
            54.407,
            55.558,
            42.221000000000004,
            71.555,
            54.978,
            47.495,
            49.903,
            60.43,
            70.736,
            67.66,
            46.343999999999994,
            58.909,
            51.313,
            47.464,
            74.77199999999999,
            36.086999999999996,
            63.306000000000004,
            60.187,
            39.897,
            43.795,
            60.236000000000004,
            55.373000000000005,
            54.288999999999994,
            48.466,
            58.39,
            71.973,
            44.578,
            40.238,
            46.809
           ],
           "yaxis": "y"
          },
          {
           "hovertemplate": "<b>%{hovertext}</b><br><br>continent=Americas<br>year=1997<br>gdpPercap=%{x}<br>lifeExp=%{y}<br>pop=%{marker.size}<extra></extra>",
           "hovertext": [
            "Argentina",
            "Bolivia",
            "Brazil",
            "Canada",
            "Chile",
            "Colombia",
            "Costa Rica",
            "Cuba",
            "Dominican Republic",
            "Ecuador",
            "El Salvador",
            "Guatemala",
            "Haiti",
            "Honduras",
            "Jamaica",
            "Mexico",
            "Nicaragua",
            "Panama",
            "Paraguay",
            "Peru",
            "Puerto Rico",
            "Trinidad and Tobago",
            "United States",
            "Uruguay",
            "Venezuela"
           ],
           "legendgroup": "Americas",
           "marker": {
            "color": "#ab63fa",
            "size": [
             36203463,
             7693188,
             168546719,
             30305843,
             14599929,
             37657830,
             3518107,
             10983007,
             7992357,
             11911819,
             5783439,
             9803875,
             6913545,
             5867957,
             2531311,
             95895146,
             4609572,
             2734531,
             5154123,
             24748122,
             3759430,
             1138101,
             272911760,
             3262838,
             22374398
            ],
            "sizemode": "area",
            "sizeref": 435928.2961983471,
            "symbol": "circle"
           },
           "mode": "markers",
           "name": "Americas",
           "orientation": "v",
           "showlegend": true,
           "type": "scatter",
           "x": [
            10967.28195,
            3326.143191,
            7957.980823999999,
            28954.92589,
            10118.053179999999,
            6117.3617460000005,
            6677.045314,
            5431.990415,
            3614.101285,
            7429.455876999999,
            5154.825496,
            4684.313807,
            1341.7269310000001,
            3160.454906,
            7121.924704000001,
            9767.29753,
            2253.023004,
            7113.692252,
            4247.400261,
            5838.347657,
            16999.4333,
            8792.573126000001,
            35767.43303,
            9230.240708,
            10165.49518
           ],
           "xaxis": "x",
           "y": [
            73.275,
            62.05,
            69.388,
            78.61,
            75.816,
            70.313,
            77.26,
            76.15100000000001,
            69.957,
            72.312,
            69.535,
            66.322,
            56.67100000000001,
            67.65899999999999,
            72.262,
            73.67,
            68.426,
            73.738,
            69.4,
            68.38600000000001,
            74.917,
            69.465,
            76.81,
            74.223,
            72.146
           ],
           "yaxis": "y"
          },
          {
           "hovertemplate": "<b>%{hovertext}</b><br><br>continent=Oceania<br>year=1997<br>gdpPercap=%{x}<br>lifeExp=%{y}<br>pop=%{marker.size}<extra></extra>",
           "hovertext": [
            "Australia",
            "New Zealand"
           ],
           "legendgroup": "Oceania",
           "marker": {
            "color": "#FFA15A",
            "size": [
             18565243,
             3676187
            ],
            "sizemode": "area",
            "sizeref": 435928.2961983471,
            "symbol": "circle"
           },
           "mode": "markers",
           "name": "Oceania",
           "orientation": "v",
           "showlegend": true,
           "type": "scatter",
           "x": [
            26997.936569999998,
            21050.41377
           ],
           "xaxis": "x",
           "y": [
            78.83,
            77.55
           ],
           "yaxis": "y"
          }
         ],
         "name": "1997"
        },
        {
         "data": [
          {
           "hovertemplate": "<b>%{hovertext}</b><br><br>continent=Asia<br>year=2002<br>gdpPercap=%{x}<br>lifeExp=%{y}<br>pop=%{marker.size}<extra></extra>",
           "hovertext": [
            "Afghanistan",
            "Bahrain",
            "Bangladesh",
            "Cambodia",
            "China",
            "Hong Kong, China",
            "India",
            "Indonesia",
            "Iran",
            "Iraq",
            "Israel",
            "Japan",
            "Jordan",
            "Korea, Dem. Rep.",
            "Korea, Rep.",
            "Kuwait",
            "Lebanon",
            "Malaysia",
            "Mongolia",
            "Myanmar",
            "Nepal",
            "Oman",
            "Pakistan",
            "Philippines",
            "Saudi Arabia",
            "Singapore",
            "Sri Lanka",
            "Syria",
            "Taiwan",
            "Thailand",
            "Vietnam",
            "West Bank and Gaza",
            "Yemen, Rep."
           ],
           "legendgroup": "Asia",
           "marker": {
            "color": "#636efa",
            "size": [
             25268405,
             656397,
             135656790,
             12926707,
             1280400000,
             6762476,
             1034172547,
             211060000,
             66907826,
             24001816,
             6029529,
             127065841,
             5307470,
             22215365,
             47969150,
             2111561,
             3677780,
             22662365,
             2674234,
             45598081,
             25873917,
             2713462,
             153403524,
             82995088,
             24501530,
             4197776,
             19576783,
             17155814,
             22454239,
             62806748,
             80908147,
             3389578,
             18701257
            ],
            "sizemode": "area",
            "sizeref": 435928.2961983471,
            "symbol": "circle"
           },
           "mode": "markers",
           "name": "Asia",
           "orientation": "v",
           "showlegend": true,
           "type": "scatter",
           "x": [
            726.7340548,
            23403.559269999998,
            1136.3904300000002,
            896.2260152999999,
            3119.280896,
            30209.015160000003,
            1746.769454,
            2873.91287,
            9240.761975,
            4390.717312,
            21905.59514,
            28604.5919,
            3844.9171939999997,
            1646.758151,
            19233.98818,
            35110.10566,
            9313.93883,
            10206.97794,
            2140.7393230000002,
            611,
            1057.206311,
            19774.83687,
            2092.712441,
            2650.921068,
            19014.54118,
            36023.1054,
            3015.3788329999998,
            4090.9253310000004,
            23235.42329,
            5913.187529,
            1764.456677,
            4515.487575,
            2234.820827
           ],
           "xaxis": "x",
           "y": [
            42.129,
            74.795,
            62.013000000000005,
            56.751999999999995,
            72.028,
            81.495,
            62.879,
            68.58800000000001,
            69.45100000000001,
            57.04600000000001,
            79.696,
            82,
            71.263,
            66.66199999999999,
            77.045,
            76.904,
            71.028,
            73.044,
            65.033,
            59.908,
            61.34,
            74.193,
            63.61,
            70.303,
            71.626,
            78.77,
            70.815,
            73.053,
            76.99,
            68.564,
            73.017,
            72.37,
            60.308
           ],
           "yaxis": "y"
          },
          {
           "hovertemplate": "<b>%{hovertext}</b><br><br>continent=Europe<br>year=2002<br>gdpPercap=%{x}<br>lifeExp=%{y}<br>pop=%{marker.size}<extra></extra>",
           "hovertext": [
            "Albania",
            "Austria",
            "Belgium",
            "Bosnia and Herzegovina",
            "Bulgaria",
            "Croatia",
            "Czech Republic",
            "Denmark",
            "Finland",
            "France",
            "Germany",
            "Greece",
            "Hungary",
            "Iceland",
            "Ireland",
            "Italy",
            "Montenegro",
            "Netherlands",
            "Norway",
            "Poland",
            "Portugal",
            "Romania",
            "Serbia",
            "Slovak Republic",
            "Slovenia",
            "Spain",
            "Sweden",
            "Switzerland",
            "Turkey",
            "United Kingdom"
           ],
           "legendgroup": "Europe",
           "marker": {
            "color": "#EF553B",
            "size": [
             3508512,
             8148312,
             10311970,
             4165416,
             7661799,
             4481020,
             10256295,
             5374693,
             5193039,
             59925035,
             82350671,
             10603863,
             10083313,
             288030,
             3879155,
             57926999,
             720230,
             16122830,
             4535591,
             38625976,
             10433867,
             22404337,
             10111559,
             5410052,
             2011497,
             40152517,
             8954175,
             7361757,
             67308928,
             59912431
            ],
            "sizemode": "area",
            "sizeref": 435928.2961983471,
            "symbol": "circle"
           },
           "mode": "markers",
           "name": "Europe",
           "orientation": "v",
           "showlegend": true,
           "type": "scatter",
           "x": [
            4604.211737,
            32417.607689999997,
            30485.88375,
            6018.975239,
            7696.777725,
            11628.38895,
            17596.210219999997,
            32166.500060000002,
            28204.59057,
            28926.032339999998,
            30035.80198,
            22514.2548,
            14843.93556,
            31163.201960000002,
            34077.04939,
            27968.098169999997,
            6557.194282,
            33724.75778,
            44683.97525,
            12002.23908,
            19970.90787,
            7885.360081,
            7236.075251,
            13638.778369999998,
            20660.01936,
            24835.47166,
            29341.630930000003,
            34480.95771,
            6508.085718,
            29478.99919
           ],
           "xaxis": "x",
           "y": [
            75.65100000000001,
            78.98,
            78.32,
            74.09,
            72.14,
            74.876,
            75.51,
            77.18,
            78.37,
            79.59,
            78.67,
            78.256,
            72.59,
            80.5,
            77.783,
            80.24,
            73.98100000000001,
            78.53,
            79.05,
            74.67,
            77.29,
            71.322,
            73.21300000000001,
            73.8,
            76.66,
            79.78,
            80.04,
            80.62,
            70.845,
            78.471
           ],
           "yaxis": "y"
          },
          {
           "hovertemplate": "<b>%{hovertext}</b><br><br>continent=Africa<br>year=2002<br>gdpPercap=%{x}<br>lifeExp=%{y}<br>pop=%{marker.size}<extra></extra>",
           "hovertext": [
            "Algeria",
            "Angola",
            "Benin",
            "Botswana",
            "Burkina Faso",
            "Burundi",
            "Cameroon",
            "Central African Republic",
            "Chad",
            "Comoros",
            "Congo, Dem. Rep.",
            "Congo, Rep.",
            "Cote d'Ivoire",
            "Djibouti",
            "Egypt",
            "Equatorial Guinea",
            "Eritrea",
            "Ethiopia",
            "Gabon",
            "Gambia",
            "Ghana",
            "Guinea",
            "Guinea-Bissau",
            "Kenya",
            "Lesotho",
            "Liberia",
            "Libya",
            "Madagascar",
            "Malawi",
            "Mali",
            "Mauritania",
            "Mauritius",
            "Morocco",
            "Mozambique",
            "Namibia",
            "Niger",
            "Nigeria",
            "Reunion",
            "Rwanda",
            "Sao Tome and Principe",
            "Senegal",
            "Sierra Leone",
            "Somalia",
            "South Africa",
            "Sudan",
            "Swaziland",
            "Tanzania",
            "Togo",
            "Tunisia",
            "Uganda",
            "Zambia",
            "Zimbabwe"
           ],
           "legendgroup": "Africa",
           "marker": {
            "color": "#00cc96",
            "size": [
             31287142,
             10866106,
             7026113,
             1630347,
             12251209,
             7021078,
             15929988,
             4048013,
             8835739,
             614382,
             55379852,
             3328795,
             16252726,
             447416,
             73312559,
             495627,
             4414865,
             67946797,
             1299304,
             1457766,
             20550751,
             8807818,
             1332459,
             31386842,
             2046772,
             2814651,
             5368585,
             16473477,
             11824495,
             10580176,
             2828858,
             1200206,
             31167783,
             18473780,
             1972153,
             11140655,
             119901274,
             743981,
             7852401,
             170372,
             10870037,
             5359092,
             7753310,
             44433622,
             37090298,
             1130269,
             34593779,
             4977378,
             9770575,
             24739869,
             10595811,
             11926563
            ],
            "sizemode": "area",
            "sizeref": 435928.2961983471,
            "symbol": "circle"
           },
           "mode": "markers",
           "name": "Africa",
           "orientation": "v",
           "showlegend": true,
           "type": "scatter",
           "x": [
            5288.040382,
            2773.287312,
            1372.877931,
            11003.60508,
            1037.645221,
            446.4035126,
            1934.0114489999999,
            738.6906068,
            1156.18186,
            1075.811558,
            241.16587650000002,
            3484.06197,
            1648.800823,
            1908.2608670000002,
            4754.604414,
            7703.4959,
            765.3500015,
            530.0535319,
            12521.71392,
            660.5855997,
            1111.9845779999998,
            945.5835837000001,
            575.7047176,
            1287.514732,
            1275.184575,
            531.4823679,
            9534.677467,
            894.6370822,
            665.4231186000001,
            951.4097517999999,
            1579.0195429999999,
            9021.815894,
            3258.495584,
            633.6179466,
            4072.3247509999997,
            601.0745012,
            1615.2863949999999,
            6316.1652,
            785.6537647999999,
            1353.09239,
            1519.635262,
            699.4897129999999,
            882.0818218000001,
            7710.946444,
            1993.398314,
            4128.116943,
            899.0742111,
            886.2205765000001,
            5722.895654999999,
            927.7210018,
            1071.6139380000002,
            672.0386227000001
           ],
           "xaxis": "x",
           "y": [
            70.994,
            41.003,
            54.406000000000006,
            46.63399999999999,
            50.65,
            47.36,
            49.856,
            43.308,
            50.525,
            62.974,
            44.966,
            52.97,
            46.832,
            53.373000000000005,
            69.806,
            49.348,
            55.24,
            50.725,
            56.761,
            58.041000000000004,
            58.453,
            53.676,
            45.504,
            50.992,
            44.593,
            43.753,
            72.737,
            57.286,
            45.00899999999999,
            51.818000000000005,
            62.247,
            71.954,
            69.615,
            44.026,
            51.479,
            54.496,
            46.608000000000004,
            75.744,
            43.413000000000004,
            64.337,
            61.6,
            41.012,
            45.93600000000001,
            53.365,
            56.369,
            43.869,
            49.651,
            57.56100000000001,
            73.042,
            47.813,
            39.193000000000005,
            39.989000000000004
           ],
           "yaxis": "y"
          },
          {
           "hovertemplate": "<b>%{hovertext}</b><br><br>continent=Americas<br>year=2002<br>gdpPercap=%{x}<br>lifeExp=%{y}<br>pop=%{marker.size}<extra></extra>",
           "hovertext": [
            "Argentina",
            "Bolivia",
            "Brazil",
            "Canada",
            "Chile",
            "Colombia",
            "Costa Rica",
            "Cuba",
            "Dominican Republic",
            "Ecuador",
            "El Salvador",
            "Guatemala",
            "Haiti",
            "Honduras",
            "Jamaica",
            "Mexico",
            "Nicaragua",
            "Panama",
            "Paraguay",
            "Peru",
            "Puerto Rico",
            "Trinidad and Tobago",
            "United States",
            "Uruguay",
            "Venezuela"
           ],
           "legendgroup": "Americas",
           "marker": {
            "color": "#ab63fa",
            "size": [
             38331121,
             8445134,
             179914212,
             31902268,
             15497046,
             41008227,
             3834934,
             11226999,
             8650322,
             12921234,
             6353681,
             11178650,
             7607651,
             6677328,
             2664659,
             102479927,
             5146848,
             2990875,
             5884491,
             26769436,
             3859606,
             1101832,
             287675526,
             3363085,
             24287670
            ],
            "sizemode": "area",
            "sizeref": 435928.2961983471,
            "symbol": "circle"
           },
           "mode": "markers",
           "name": "Americas",
           "orientation": "v",
           "showlegend": true,
           "type": "scatter",
           "x": [
            8797.640716,
            3413.26269,
            8131.212843000001,
            33328.96507,
            10778.78385,
            5755.259962,
            7723.447195000001,
            6340.646683,
            4563.808154,
            5773.0445119999995,
            5351.568665999999,
            4858.347495,
            1270.364932,
            3099.72866,
            6994.774861,
            10742.44053,
            2474.548819,
            7356.031934000001,
            3783.674243,
            5909.020073,
            18855.606180000002,
            11460.60023,
            39097.09955,
            7727.002004000001,
            8605.047831
           ],
           "xaxis": "x",
           "y": [
            74.34,
            63.883,
            71.006,
            79.77,
            77.86,
            71.682,
            78.123,
            77.158,
            70.847,
            74.173,
            70.734,
            68.97800000000001,
            58.137,
            68.565,
            72.047,
            74.902,
            70.836,
            74.712,
            70.755,
            69.906,
            77.778,
            68.976,
            77.31,
            75.307,
            72.766
           ],
           "yaxis": "y"
          },
          {
           "hovertemplate": "<b>%{hovertext}</b><br><br>continent=Oceania<br>year=2002<br>gdpPercap=%{x}<br>lifeExp=%{y}<br>pop=%{marker.size}<extra></extra>",
           "hovertext": [
            "Australia",
            "New Zealand"
           ],
           "legendgroup": "Oceania",
           "marker": {
            "color": "#FFA15A",
            "size": [
             19546792,
             3908037
            ],
            "sizemode": "area",
            "sizeref": 435928.2961983471,
            "symbol": "circle"
           },
           "mode": "markers",
           "name": "Oceania",
           "orientation": "v",
           "showlegend": true,
           "type": "scatter",
           "x": [
            30687.75473,
            23189.80135
           ],
           "xaxis": "x",
           "y": [
            80.37,
            79.11
           ],
           "yaxis": "y"
          }
         ],
         "name": "2002"
        },
        {
         "data": [
          {
           "hovertemplate": "<b>%{hovertext}</b><br><br>continent=Asia<br>year=2007<br>gdpPercap=%{x}<br>lifeExp=%{y}<br>pop=%{marker.size}<extra></extra>",
           "hovertext": [
            "Afghanistan",
            "Bahrain",
            "Bangladesh",
            "Cambodia",
            "China",
            "Hong Kong, China",
            "India",
            "Indonesia",
            "Iran",
            "Iraq",
            "Israel",
            "Japan",
            "Jordan",
            "Korea, Dem. Rep.",
            "Korea, Rep.",
            "Kuwait",
            "Lebanon",
            "Malaysia",
            "Mongolia",
            "Myanmar",
            "Nepal",
            "Oman",
            "Pakistan",
            "Philippines",
            "Saudi Arabia",
            "Singapore",
            "Sri Lanka",
            "Syria",
            "Taiwan",
            "Thailand",
            "Vietnam",
            "West Bank and Gaza",
            "Yemen, Rep."
           ],
           "legendgroup": "Asia",
           "marker": {
            "color": "#636efa",
            "size": [
             31889923,
             708573,
             150448339,
             14131858,
             1318683096,
             6980412,
             1110396331,
             223547000,
             69453570,
             27499638,
             6426679,
             127467972,
             6053193,
             23301725,
             49044790,
             2505559,
             3921278,
             24821286,
             2874127,
             47761980,
             28901790,
             3204897,
             169270617,
             91077287,
             27601038,
             4553009,
             20378239,
             19314747,
             23174294,
             65068149,
             85262356,
             4018332,
             22211743
            ],
            "sizemode": "area",
            "sizeref": 435928.2961983471,
            "symbol": "circle"
           },
           "mode": "markers",
           "name": "Asia",
           "orientation": "v",
           "showlegend": true,
           "type": "scatter",
           "x": [
            974.5803384,
            29796.048339999998,
            1391.253792,
            1713.7786859999999,
            4959.1148539999995,
            39724.97867,
            2452.210407,
            3540.6515640000002,
            11605.71449,
            4471.061906,
            25523.2771,
            31656.06806,
            4519.461171,
            1593.06548,
            23348.139730000003,
            47306.98978,
            10461.05868,
            12451.6558,
            3095.7722710000003,
            944,
            1091.359778,
            22316.19287,
            2605.94758,
            3190.481016,
            21654.83194,
            47143.179639999995,
            3970.0954070000003,
            4184.548089,
            28718.27684,
            7458.3963269999995,
            2441.576404,
            3025.349798,
            2280.769906
           ],
           "xaxis": "x",
           "y": [
            43.828,
            75.635,
            64.062,
            59.723,
            72.961,
            82.208,
            64.69800000000001,
            70.65,
            70.964,
            59.545,
            80.745,
            82.603,
            72.535,
            67.297,
            78.623,
            77.58800000000001,
            71.993,
            74.241,
            66.803,
            62.068999999999996,
            63.785,
            75.64,
            65.483,
            71.688,
            72.777,
            79.972,
            72.396,
            74.143,
            78.4,
            70.616,
            74.249,
            73.422,
            62.698
           ],
           "yaxis": "y"
          },
          {
           "hovertemplate": "<b>%{hovertext}</b><br><br>continent=Europe<br>year=2007<br>gdpPercap=%{x}<br>lifeExp=%{y}<br>pop=%{marker.size}<extra></extra>",
           "hovertext": [
            "Albania",
            "Austria",
            "Belgium",
            "Bosnia and Herzegovina",
            "Bulgaria",
            "Croatia",
            "Czech Republic",
            "Denmark",
            "Finland",
            "France",
            "Germany",
            "Greece",
            "Hungary",
            "Iceland",
            "Ireland",
            "Italy",
            "Montenegro",
            "Netherlands",
            "Norway",
            "Poland",
            "Portugal",
            "Romania",
            "Serbia",
            "Slovak Republic",
            "Slovenia",
            "Spain",
            "Sweden",
            "Switzerland",
            "Turkey",
            "United Kingdom"
           ],
           "legendgroup": "Europe",
           "marker": {
            "color": "#EF553B",
            "size": [
             3600523,
             8199783,
             10392226,
             4552198,
             7322858,
             4493312,
             10228744,
             5468120,
             5238460,
             61083916,
             82400996,
             10706290,
             9956108,
             301931,
             4109086,
             58147733,
             684736,
             16570613,
             4627926,
             38518241,
             10642836,
             22276056,
             10150265,
             5447502,
             2009245,
             40448191,
             9031088,
             7554661,
             71158647,
             60776238
            ],
            "sizemode": "area",
            "sizeref": 435928.2961983471,
            "symbol": "circle"
           },
           "mode": "markers",
           "name": "Europe",
           "orientation": "v",
           "showlegend": true,
           "type": "scatter",
           "x": [
            5937.029525999999,
            36126.4927,
            33692.60508,
            7446.298803,
            10680.79282,
            14619.222719999998,
            22833.30851,
            35278.41874,
            33207.0844,
            30470.0167,
            32170.37442,
            27538.41188,
            18008.94444,
            36180.789189999996,
            40675.99635,
            28569.7197,
            9253.896111,
            36797.93332,
            49357.19017,
            15389.924680000002,
            20509.64777,
            10808.47561,
            9786.534714,
            18678.31435,
            25768.25759,
            28821.0637,
            33859.74835,
            37506.419069999996,
            8458.276384,
            33203.26128
           ],
           "xaxis": "x",
           "y": [
            76.423,
            79.829,
            79.441,
            74.852,
            73.005,
            75.748,
            76.486,
            78.332,
            79.313,
            80.657,
            79.406,
            79.483,
            73.33800000000001,
            81.757,
            78.885,
            80.546,
            74.543,
            79.762,
            80.196,
            75.563,
            78.098,
            72.476,
            74.002,
            74.663,
            77.926,
            80.941,
            80.884,
            81.70100000000001,
            71.777,
            79.425
           ],
           "yaxis": "y"
          },
          {
           "hovertemplate": "<b>%{hovertext}</b><br><br>continent=Africa<br>year=2007<br>gdpPercap=%{x}<br>lifeExp=%{y}<br>pop=%{marker.size}<extra></extra>",
           "hovertext": [
            "Algeria",
            "Angola",
            "Benin",
            "Botswana",
            "Burkina Faso",
            "Burundi",
            "Cameroon",
            "Central African Republic",
            "Chad",
            "Comoros",
            "Congo, Dem. Rep.",
            "Congo, Rep.",
            "Cote d'Ivoire",
            "Djibouti",
            "Egypt",
            "Equatorial Guinea",
            "Eritrea",
            "Ethiopia",
            "Gabon",
            "Gambia",
            "Ghana",
            "Guinea",
            "Guinea-Bissau",
            "Kenya",
            "Lesotho",
            "Liberia",
            "Libya",
            "Madagascar",
            "Malawi",
            "Mali",
            "Mauritania",
            "Mauritius",
            "Morocco",
            "Mozambique",
            "Namibia",
            "Niger",
            "Nigeria",
            "Reunion",
            "Rwanda",
            "Sao Tome and Principe",
            "Senegal",
            "Sierra Leone",
            "Somalia",
            "South Africa",
            "Sudan",
            "Swaziland",
            "Tanzania",
            "Togo",
            "Tunisia",
            "Uganda",
            "Zambia",
            "Zimbabwe"
           ],
           "legendgroup": "Africa",
           "marker": {
            "color": "#00cc96",
            "size": [
             33333216,
             12420476,
             8078314,
             1639131,
             14326203,
             8390505,
             17696293,
             4369038,
             10238807,
             710960,
             64606759,
             3800610,
             18013409,
             496374,
             80264543,
             551201,
             4906585,
             76511887,
             1454867,
             1688359,
             22873338,
             9947814,
             1472041,
             35610177,
             2012649,
             3193942,
             6036914,
             19167654,
             13327079,
             12031795,
             3270065,
             1250882,
             33757175,
             19951656,
             2055080,
             12894865,
             135031164,
             798094,
             8860588,
             199579,
             12267493,
             6144562,
             9118773,
             43997828,
             42292929,
             1133066,
             38139640,
             5701579,
             10276158,
             29170398,
             11746035,
             12311143
            ],
            "sizemode": "area",
            "sizeref": 435928.2961983471,
            "symbol": "circle"
           },
           "mode": "markers",
           "name": "Africa",
           "orientation": "v",
           "showlegend": true,
           "type": "scatter",
           "x": [
            6223.367465,
            4797.231267,
            1441.284873,
            12569.851770000001,
            1217.032994,
            430.07069160000003,
            2042.0952399999999,
            706.016537,
            1704.0637239999999,
            986.1478792000001,
            277.55185869999997,
            3632.557798,
            1544.750112,
            2082.4815670000003,
            5581.180998,
            12154.08975,
            641.3695236000001,
            690.8055759,
            13206.48452,
            752.7497265,
            1327.60891,
            942.6542111,
            579.2317429999999,
            1463.249282,
            1569.331442,
            414.5073415,
            12057.49928,
            1044.770126,
            759.3499101,
            1042.581557,
            1803.1514960000002,
            10956.99112,
            3820.17523,
            823.6856205,
            4811.060429,
            619.6768923999999,
            2013.9773050000001,
            7670.122558,
            863.0884639000001,
            1598.435089,
            1712.4721359999999,
            862.5407561000001,
            926.1410683,
            9269.657808,
            2602.394995,
            4513.480643,
            1107.482182,
            882.9699437999999,
            7092.923025,
            1056.3801210000001,
            1271.211593,
            469.70929810000007
           ],
           "xaxis": "x",
           "y": [
            72.301,
            42.731,
            56.728,
            50.728,
            52.295,
            49.58,
            50.43,
            44.74100000000001,
            50.651,
            65.152,
            46.461999999999996,
            55.321999999999996,
            48.328,
            54.791000000000004,
            71.33800000000001,
            51.57899999999999,
            58.04,
            52.946999999999996,
            56.735,
            59.448,
            60.022,
            56.007,
            46.388000000000005,
            54.11,
            42.592,
            45.678000000000004,
            73.952,
            59.443000000000005,
            48.303000000000004,
            54.467,
            64.164,
            72.801,
            71.164,
            42.082,
            52.906000000000006,
            56.867,
            46.858999999999995,
            76.442,
            46.242,
            65.528,
            63.062,
            42.568000000000005,
            48.159,
            49.339,
            58.556000000000004,
            39.613,
            52.516999999999996,
            58.42,
            73.923,
            51.542,
            42.38399999999999,
            43.486999999999995
           ],
           "yaxis": "y"
          },
          {
           "hovertemplate": "<b>%{hovertext}</b><br><br>continent=Americas<br>year=2007<br>gdpPercap=%{x}<br>lifeExp=%{y}<br>pop=%{marker.size}<extra></extra>",
           "hovertext": [
            "Argentina",
            "Bolivia",
            "Brazil",
            "Canada",
            "Chile",
            "Colombia",
            "Costa Rica",
            "Cuba",
            "Dominican Republic",
            "Ecuador",
            "El Salvador",
            "Guatemala",
            "Haiti",
            "Honduras",
            "Jamaica",
            "Mexico",
            "Nicaragua",
            "Panama",
            "Paraguay",
            "Peru",
            "Puerto Rico",
            "Trinidad and Tobago",
            "United States",
            "Uruguay",
            "Venezuela"
           ],
           "legendgroup": "Americas",
           "marker": {
            "color": "#ab63fa",
            "size": [
             40301927,
             9119152,
             190010647,
             33390141,
             16284741,
             44227550,
             4133884,
             11416987,
             9319622,
             13755680,
             6939688,
             12572928,
             8502814,
             7483763,
             2780132,
             108700891,
             5675356,
             3242173,
             6667147,
             28674757,
             3942491,
             1056608,
             301139947,
             3447496,
             26084662
            ],
            "sizemode": "area",
            "sizeref": 435928.2961983471,
            "symbol": "circle"
           },
           "mode": "markers",
           "name": "Americas",
           "orientation": "v",
           "showlegend": true,
           "type": "scatter",
           "x": [
            12779.379640000001,
            3822.1370840000004,
            9065.800825,
            36319.235010000004,
            13171.63885,
            7006.580419,
            9645.06142,
            8948.102923,
            6025.374752000001,
            6873.262326000001,
            5728.353514,
            5186.050003,
            1201.637154,
            3548.3308460000003,
            7320.880262000001,
            11977.57496,
            2749.320965,
            9809.185636,
            4172.838464,
            7408.905561,
            19328.70901,
            18008.50924,
            42951.65309,
            10611.46299,
            11415.805690000001
           ],
           "xaxis": "x",
           "y": [
            75.32,
            65.554,
            72.39,
            80.653,
            78.553,
            72.889,
            78.782,
            78.273,
            72.235,
            74.994,
            71.878,
            70.259,
            60.916000000000004,
            70.19800000000001,
            72.567,
            76.195,
            72.899,
            75.53699999999999,
            71.752,
            71.421,
            78.74600000000001,
            69.819,
            78.242,
            76.384,
            73.747
           ],
           "yaxis": "y"
          },
          {
           "hovertemplate": "<b>%{hovertext}</b><br><br>continent=Oceania<br>year=2007<br>gdpPercap=%{x}<br>lifeExp=%{y}<br>pop=%{marker.size}<extra></extra>",
           "hovertext": [
            "Australia",
            "New Zealand"
           ],
           "legendgroup": "Oceania",
           "marker": {
            "color": "#FFA15A",
            "size": [
             20434176,
             4115771
            ],
            "sizemode": "area",
            "sizeref": 435928.2961983471,
            "symbol": "circle"
           },
           "mode": "markers",
           "name": "Oceania",
           "orientation": "v",
           "showlegend": true,
           "type": "scatter",
           "x": [
            34435.367439999995,
            25185.00911
           ],
           "xaxis": "x",
           "y": [
            81.235,
            80.204
           ],
           "yaxis": "y"
          }
         ],
         "name": "2007"
        }
       ],
       "layout": {
        "height": 800,
        "legend": {
         "itemsizing": "constant",
         "title": {
          "text": "continent"
         },
         "tracegroupgap": 0
        },
        "margin": {
         "t": 60
        },
        "paper_bgcolor": "rgba(0,0,0,0)",
        "plot_bgcolor": "rgba(0,0,0,0)",
        "sliders": [
         {
          "active": 0,
          "currentvalue": {
           "prefix": "year="
          },
          "len": 0.9,
          "pad": {
           "b": 10,
           "t": 60
          },
          "steps": [
           {
            "args": [
             [
              "1952"
             ],
             {
              "frame": {
               "duration": 0,
               "redraw": false
              },
              "fromcurrent": true,
              "mode": "immediate",
              "transition": {
               "duration": 0,
               "easing": "linear"
              }
             }
            ],
            "label": "1952",
            "method": "animate"
           },
           {
            "args": [
             [
              "1957"
             ],
             {
              "frame": {
               "duration": 0,
               "redraw": false
              },
              "fromcurrent": true,
              "mode": "immediate",
              "transition": {
               "duration": 0,
               "easing": "linear"
              }
             }
            ],
            "label": "1957",
            "method": "animate"
           },
           {
            "args": [
             [
              "1962"
             ],
             {
              "frame": {
               "duration": 0,
               "redraw": false
              },
              "fromcurrent": true,
              "mode": "immediate",
              "transition": {
               "duration": 0,
               "easing": "linear"
              }
             }
            ],
            "label": "1962",
            "method": "animate"
           },
           {
            "args": [
             [
              "1967"
             ],
             {
              "frame": {
               "duration": 0,
               "redraw": false
              },
              "fromcurrent": true,
              "mode": "immediate",
              "transition": {
               "duration": 0,
               "easing": "linear"
              }
             }
            ],
            "label": "1967",
            "method": "animate"
           },
           {
            "args": [
             [
              "1972"
             ],
             {
              "frame": {
               "duration": 0,
               "redraw": false
              },
              "fromcurrent": true,
              "mode": "immediate",
              "transition": {
               "duration": 0,
               "easing": "linear"
              }
             }
            ],
            "label": "1972",
            "method": "animate"
           },
           {
            "args": [
             [
              "1977"
             ],
             {
              "frame": {
               "duration": 0,
               "redraw": false
              },
              "fromcurrent": true,
              "mode": "immediate",
              "transition": {
               "duration": 0,
               "easing": "linear"
              }
             }
            ],
            "label": "1977",
            "method": "animate"
           },
           {
            "args": [
             [
              "1982"
             ],
             {
              "frame": {
               "duration": 0,
               "redraw": false
              },
              "fromcurrent": true,
              "mode": "immediate",
              "transition": {
               "duration": 0,
               "easing": "linear"
              }
             }
            ],
            "label": "1982",
            "method": "animate"
           },
           {
            "args": [
             [
              "1987"
             ],
             {
              "frame": {
               "duration": 0,
               "redraw": false
              },
              "fromcurrent": true,
              "mode": "immediate",
              "transition": {
               "duration": 0,
               "easing": "linear"
              }
             }
            ],
            "label": "1987",
            "method": "animate"
           },
           {
            "args": [
             [
              "1992"
             ],
             {
              "frame": {
               "duration": 0,
               "redraw": false
              },
              "fromcurrent": true,
              "mode": "immediate",
              "transition": {
               "duration": 0,
               "easing": "linear"
              }
             }
            ],
            "label": "1992",
            "method": "animate"
           },
           {
            "args": [
             [
              "1997"
             ],
             {
              "frame": {
               "duration": 0,
               "redraw": false
              },
              "fromcurrent": true,
              "mode": "immediate",
              "transition": {
               "duration": 0,
               "easing": "linear"
              }
             }
            ],
            "label": "1997",
            "method": "animate"
           },
           {
            "args": [
             [
              "2002"
             ],
             {
              "frame": {
               "duration": 0,
               "redraw": false
              },
              "fromcurrent": true,
              "mode": "immediate",
              "transition": {
               "duration": 0,
               "easing": "linear"
              }
             }
            ],
            "label": "2002",
            "method": "animate"
           },
           {
            "args": [
             [
              "2007"
             ],
             {
              "frame": {
               "duration": 0,
               "redraw": false
              },
              "fromcurrent": true,
              "mode": "immediate",
              "transition": {
               "duration": 0,
               "easing": "linear"
              }
             }
            ],
            "label": "2007",
            "method": "animate"
           }
          ],
          "x": 0.1,
          "xanchor": "left",
          "y": 0,
          "yanchor": "top"
         }
        ],
        "template": {
         "data": {
          "bar": [
           {
            "error_x": {
             "color": "#2a3f5f"
            },
            "error_y": {
             "color": "#2a3f5f"
            },
            "marker": {
             "line": {
              "color": "#E5ECF6",
              "width": 0.5
             }
            },
            "type": "bar"
           }
          ],
          "barpolar": [
           {
            "marker": {
             "line": {
              "color": "#E5ECF6",
              "width": 0.5
             }
            },
            "type": "barpolar"
           }
          ],
          "carpet": [
           {
            "aaxis": {
             "endlinecolor": "#2a3f5f",
             "gridcolor": "white",
             "linecolor": "white",
             "minorgridcolor": "white",
             "startlinecolor": "#2a3f5f"
            },
            "baxis": {
             "endlinecolor": "#2a3f5f",
             "gridcolor": "white",
             "linecolor": "white",
             "minorgridcolor": "white",
             "startlinecolor": "#2a3f5f"
            },
            "type": "carpet"
           }
          ],
          "choropleth": [
           {
            "colorbar": {
             "outlinewidth": 0,
             "ticks": ""
            },
            "type": "choropleth"
           }
          ],
          "contour": [
           {
            "colorbar": {
             "outlinewidth": 0,
             "ticks": ""
            },
            "colorscale": [
             [
              0,
              "#0d0887"
             ],
             [
              0.1111111111111111,
              "#46039f"
             ],
             [
              0.2222222222222222,
              "#7201a8"
             ],
             [
              0.3333333333333333,
              "#9c179e"
             ],
             [
              0.4444444444444444,
              "#bd3786"
             ],
             [
              0.5555555555555556,
              "#d8576b"
             ],
             [
              0.6666666666666666,
              "#ed7953"
             ],
             [
              0.7777777777777778,
              "#fb9f3a"
             ],
             [
              0.8888888888888888,
              "#fdca26"
             ],
             [
              1,
              "#f0f921"
             ]
            ],
            "type": "contour"
           }
          ],
          "contourcarpet": [
           {
            "colorbar": {
             "outlinewidth": 0,
             "ticks": ""
            },
            "type": "contourcarpet"
           }
          ],
          "heatmap": [
           {
            "colorbar": {
             "outlinewidth": 0,
             "ticks": ""
            },
            "colorscale": [
             [
              0,
              "#0d0887"
             ],
             [
              0.1111111111111111,
              "#46039f"
             ],
             [
              0.2222222222222222,
              "#7201a8"
             ],
             [
              0.3333333333333333,
              "#9c179e"
             ],
             [
              0.4444444444444444,
              "#bd3786"
             ],
             [
              0.5555555555555556,
              "#d8576b"
             ],
             [
              0.6666666666666666,
              "#ed7953"
             ],
             [
              0.7777777777777778,
              "#fb9f3a"
             ],
             [
              0.8888888888888888,
              "#fdca26"
             ],
             [
              1,
              "#f0f921"
             ]
            ],
            "type": "heatmap"
           }
          ],
          "heatmapgl": [
           {
            "colorbar": {
             "outlinewidth": 0,
             "ticks": ""
            },
            "colorscale": [
             [
              0,
              "#0d0887"
             ],
             [
              0.1111111111111111,
              "#46039f"
             ],
             [
              0.2222222222222222,
              "#7201a8"
             ],
             [
              0.3333333333333333,
              "#9c179e"
             ],
             [
              0.4444444444444444,
              "#bd3786"
             ],
             [
              0.5555555555555556,
              "#d8576b"
             ],
             [
              0.6666666666666666,
              "#ed7953"
             ],
             [
              0.7777777777777778,
              "#fb9f3a"
             ],
             [
              0.8888888888888888,
              "#fdca26"
             ],
             [
              1,
              "#f0f921"
             ]
            ],
            "type": "heatmapgl"
           }
          ],
          "histogram": [
           {
            "marker": {
             "colorbar": {
              "outlinewidth": 0,
              "ticks": ""
             }
            },
            "type": "histogram"
           }
          ],
          "histogram2d": [
           {
            "colorbar": {
             "outlinewidth": 0,
             "ticks": ""
            },
            "colorscale": [
             [
              0,
              "#0d0887"
             ],
             [
              0.1111111111111111,
              "#46039f"
             ],
             [
              0.2222222222222222,
              "#7201a8"
             ],
             [
              0.3333333333333333,
              "#9c179e"
             ],
             [
              0.4444444444444444,
              "#bd3786"
             ],
             [
              0.5555555555555556,
              "#d8576b"
             ],
             [
              0.6666666666666666,
              "#ed7953"
             ],
             [
              0.7777777777777778,
              "#fb9f3a"
             ],
             [
              0.8888888888888888,
              "#fdca26"
             ],
             [
              1,
              "#f0f921"
             ]
            ],
            "type": "histogram2d"
           }
          ],
          "histogram2dcontour": [
           {
            "colorbar": {
             "outlinewidth": 0,
             "ticks": ""
            },
            "colorscale": [
             [
              0,
              "#0d0887"
             ],
             [
              0.1111111111111111,
              "#46039f"
             ],
             [
              0.2222222222222222,
              "#7201a8"
             ],
             [
              0.3333333333333333,
              "#9c179e"
             ],
             [
              0.4444444444444444,
              "#bd3786"
             ],
             [
              0.5555555555555556,
              "#d8576b"
             ],
             [
              0.6666666666666666,
              "#ed7953"
             ],
             [
              0.7777777777777778,
              "#fb9f3a"
             ],
             [
              0.8888888888888888,
              "#fdca26"
             ],
             [
              1,
              "#f0f921"
             ]
            ],
            "type": "histogram2dcontour"
           }
          ],
          "mesh3d": [
           {
            "colorbar": {
             "outlinewidth": 0,
             "ticks": ""
            },
            "type": "mesh3d"
           }
          ],
          "parcoords": [
           {
            "line": {
             "colorbar": {
              "outlinewidth": 0,
              "ticks": ""
             }
            },
            "type": "parcoords"
           }
          ],
          "pie": [
           {
            "automargin": true,
            "type": "pie"
           }
          ],
          "scatter": [
           {
            "marker": {
             "colorbar": {
              "outlinewidth": 0,
              "ticks": ""
             }
            },
            "type": "scatter"
           }
          ],
          "scatter3d": [
           {
            "line": {
             "colorbar": {
              "outlinewidth": 0,
              "ticks": ""
             }
            },
            "marker": {
             "colorbar": {
              "outlinewidth": 0,
              "ticks": ""
             }
            },
            "type": "scatter3d"
           }
          ],
          "scattercarpet": [
           {
            "marker": {
             "colorbar": {
              "outlinewidth": 0,
              "ticks": ""
             }
            },
            "type": "scattercarpet"
           }
          ],
          "scattergeo": [
           {
            "marker": {
             "colorbar": {
              "outlinewidth": 0,
              "ticks": ""
             }
            },
            "type": "scattergeo"
           }
          ],
          "scattergl": [
           {
            "marker": {
             "colorbar": {
              "outlinewidth": 0,
              "ticks": ""
             }
            },
            "type": "scattergl"
           }
          ],
          "scattermapbox": [
           {
            "marker": {
             "colorbar": {
              "outlinewidth": 0,
              "ticks": ""
             }
            },
            "type": "scattermapbox"
           }
          ],
          "scatterpolar": [
           {
            "marker": {
             "colorbar": {
              "outlinewidth": 0,
              "ticks": ""
             }
            },
            "type": "scatterpolar"
           }
          ],
          "scatterpolargl": [
           {
            "marker": {
             "colorbar": {
              "outlinewidth": 0,
              "ticks": ""
             }
            },
            "type": "scatterpolargl"
           }
          ],
          "scatterternary": [
           {
            "marker": {
             "colorbar": {
              "outlinewidth": 0,
              "ticks": ""
             }
            },
            "type": "scatterternary"
           }
          ],
          "surface": [
           {
            "colorbar": {
             "outlinewidth": 0,
             "ticks": ""
            },
            "colorscale": [
             [
              0,
              "#0d0887"
             ],
             [
              0.1111111111111111,
              "#46039f"
             ],
             [
              0.2222222222222222,
              "#7201a8"
             ],
             [
              0.3333333333333333,
              "#9c179e"
             ],
             [
              0.4444444444444444,
              "#bd3786"
             ],
             [
              0.5555555555555556,
              "#d8576b"
             ],
             [
              0.6666666666666666,
              "#ed7953"
             ],
             [
              0.7777777777777778,
              "#fb9f3a"
             ],
             [
              0.8888888888888888,
              "#fdca26"
             ],
             [
              1,
              "#f0f921"
             ]
            ],
            "type": "surface"
           }
          ],
          "table": [
           {
            "cells": {
             "fill": {
              "color": "#EBF0F8"
             },
             "line": {
              "color": "white"
             }
            },
            "header": {
             "fill": {
              "color": "#C8D4E3"
             },
             "line": {
              "color": "white"
             }
            },
            "type": "table"
           }
          ]
         },
         "layout": {
          "annotationdefaults": {
           "arrowcolor": "#2a3f5f",
           "arrowhead": 0,
           "arrowwidth": 1
          },
          "coloraxis": {
           "colorbar": {
            "outlinewidth": 0,
            "ticks": ""
           }
          },
          "colorscale": {
           "diverging": [
            [
             0,
             "#8e0152"
            ],
            [
             0.1,
             "#c51b7d"
            ],
            [
             0.2,
             "#de77ae"
            ],
            [
             0.3,
             "#f1b6da"
            ],
            [
             0.4,
             "#fde0ef"
            ],
            [
             0.5,
             "#f7f7f7"
            ],
            [
             0.6,
             "#e6f5d0"
            ],
            [
             0.7,
             "#b8e186"
            ],
            [
             0.8,
             "#7fbc41"
            ],
            [
             0.9,
             "#4d9221"
            ],
            [
             1,
             "#276419"
            ]
           ],
           "sequential": [
            [
             0,
             "#0d0887"
            ],
            [
             0.1111111111111111,
             "#46039f"
            ],
            [
             0.2222222222222222,
             "#7201a8"
            ],
            [
             0.3333333333333333,
             "#9c179e"
            ],
            [
             0.4444444444444444,
             "#bd3786"
            ],
            [
             0.5555555555555556,
             "#d8576b"
            ],
            [
             0.6666666666666666,
             "#ed7953"
            ],
            [
             0.7777777777777778,
             "#fb9f3a"
            ],
            [
             0.8888888888888888,
             "#fdca26"
            ],
            [
             1,
             "#f0f921"
            ]
           ],
           "sequentialminus": [
            [
             0,
             "#0d0887"
            ],
            [
             0.1111111111111111,
             "#46039f"
            ],
            [
             0.2222222222222222,
             "#7201a8"
            ],
            [
             0.3333333333333333,
             "#9c179e"
            ],
            [
             0.4444444444444444,
             "#bd3786"
            ],
            [
             0.5555555555555556,
             "#d8576b"
            ],
            [
             0.6666666666666666,
             "#ed7953"
            ],
            [
             0.7777777777777778,
             "#fb9f3a"
            ],
            [
             0.8888888888888888,
             "#fdca26"
            ],
            [
             1,
             "#f0f921"
            ]
           ]
          },
          "colorway": [
           "#636efa",
           "#EF553B",
           "#00cc96",
           "#ab63fa",
           "#FFA15A",
           "#19d3f3",
           "#FF6692",
           "#B6E880",
           "#FF97FF",
           "#FECB52"
          ],
          "font": {
           "color": "#2a3f5f"
          },
          "geo": {
           "bgcolor": "white",
           "lakecolor": "white",
           "landcolor": "#E5ECF6",
           "showlakes": true,
           "showland": true,
           "subunitcolor": "white"
          },
          "hoverlabel": {
           "align": "left"
          },
          "hovermode": "closest",
          "mapbox": {
           "style": "light"
          },
          "paper_bgcolor": "white",
          "plot_bgcolor": "#E5ECF6",
          "polar": {
           "angularaxis": {
            "gridcolor": "white",
            "linecolor": "white",
            "ticks": ""
           },
           "bgcolor": "#E5ECF6",
           "radialaxis": {
            "gridcolor": "white",
            "linecolor": "white",
            "ticks": ""
           }
          },
          "scene": {
           "xaxis": {
            "backgroundcolor": "#E5ECF6",
            "gridcolor": "white",
            "gridwidth": 2,
            "linecolor": "white",
            "showbackground": true,
            "ticks": "",
            "zerolinecolor": "white"
           },
           "yaxis": {
            "backgroundcolor": "#E5ECF6",
            "gridcolor": "white",
            "gridwidth": 2,
            "linecolor": "white",
            "showbackground": true,
            "ticks": "",
            "zerolinecolor": "white"
           },
           "zaxis": {
            "backgroundcolor": "#E5ECF6",
            "gridcolor": "white",
            "gridwidth": 2,
            "linecolor": "white",
            "showbackground": true,
            "ticks": "",
            "zerolinecolor": "white"
           }
          },
          "shapedefaults": {
           "line": {
            "color": "#2a3f5f"
           }
          },
          "ternary": {
           "aaxis": {
            "gridcolor": "white",
            "linecolor": "white",
            "ticks": ""
           },
           "baxis": {
            "gridcolor": "white",
            "linecolor": "white",
            "ticks": ""
           },
           "bgcolor": "#E5ECF6",
           "caxis": {
            "gridcolor": "white",
            "linecolor": "white",
            "ticks": ""
           }
          },
          "title": {
           "x": 0.05
          },
          "xaxis": {
           "automargin": true,
           "gridcolor": "white",
           "linecolor": "white",
           "ticks": "",
           "title": {
            "standoff": 15
           },
           "zerolinecolor": "white",
           "zerolinewidth": 2
          },
          "yaxis": {
           "automargin": true,
           "gridcolor": "white",
           "linecolor": "white",
           "ticks": "",
           "title": {
            "standoff": 15
           },
           "zerolinecolor": "white",
           "zerolinewidth": 2
          }
         }
        },
        "updatemenus": [
         {
          "buttons": [
           {
            "args": [
             null,
             {
              "frame": {
               "duration": 500,
               "redraw": false
              },
              "fromcurrent": true,
              "mode": "immediate",
              "transition": {
               "duration": 500,
               "easing": "linear"
              }
             }
            ],
            "label": "&#9654;",
            "method": "animate"
           },
           {
            "args": [
             [
              null
             ],
             {
              "frame": {
               "duration": 0,
               "redraw": false
              },
              "fromcurrent": true,
              "mode": "immediate",
              "transition": {
               "duration": 0,
               "easing": "linear"
              }
             }
            ],
            "label": "&#9724;",
            "method": "animate"
           }
          ],
          "direction": "left",
          "pad": {
           "r": 10,
           "t": 70
          },
          "showactive": false,
          "type": "buttons",
          "x": 0.1,
          "xanchor": "right",
          "y": 0,
          "yanchor": "top"
         }
        ],
        "width": 1000,
        "xaxis": {
         "anchor": "y",
         "domain": [
          0,
          1
         ],
         "range": [
          2,
          5
         ],
         "showgrid": false,
         "title": {
          "text": "gdpPercap"
         },
         "type": "log"
        },
        "yaxis": {
         "anchor": "x",
         "domain": [
          0,
          1
         ],
         "range": [
          25,
          90
         ],
         "showgrid": false,
         "title": {
          "text": "lifeExp"
         }
        }
       }
      },
      "text/html": [
       "<div>\n",
       "        \n",
       "        \n",
       "            <div id=\"ae65a9a2-07d7-4024-b89e-6c6694fe50fb\" class=\"plotly-graph-div\" style=\"height:800px; width:1000px;\"></div>\n",
       "            <script type=\"text/javascript\">\n",
       "                require([\"plotly\"], function(Plotly) {\n",
       "                    window.PLOTLYENV=window.PLOTLYENV || {};\n",
       "                    \n",
       "                if (document.getElementById(\"ae65a9a2-07d7-4024-b89e-6c6694fe50fb\")) {\n",
       "                    Plotly.newPlot(\n",
       "                        'ae65a9a2-07d7-4024-b89e-6c6694fe50fb',\n",
       "                        [{\"hovertemplate\": \"<b>%{hovertext}</b><br><br>continent=Asia<br>year=1952<br>gdpPercap=%{x}<br>lifeExp=%{y}<br>pop=%{marker.size}<extra></extra>\", \"hovertext\": [\"Afghanistan\", \"Bahrain\", \"Bangladesh\", \"Cambodia\", \"China\", \"Hong Kong, China\", \"India\", \"Indonesia\", \"Iran\", \"Iraq\", \"Israel\", \"Japan\", \"Jordan\", \"Korea, Dem. Rep.\", \"Korea, Rep.\", \"Kuwait\", \"Lebanon\", \"Malaysia\", \"Mongolia\", \"Myanmar\", \"Nepal\", \"Oman\", \"Pakistan\", \"Philippines\", \"Saudi Arabia\", \"Singapore\", \"Sri Lanka\", \"Syria\", \"Taiwan\", \"Thailand\", \"Vietnam\", \"West Bank and Gaza\", \"Yemen, Rep.\"], \"legendgroup\": \"Asia\", \"marker\": {\"color\": \"#636efa\", \"size\": [8425333, 120447, 46886859, 4693836, 556263527, 2125900, 372000000, 82052000, 17272000, 5441766, 1620914, 86459025, 607914, 8865488, 20947571, 160000, 1439529, 6748378, 800663, 20092996, 9182536, 507833, 41346560, 22438691, 4005677, 1127000, 7982342, 3661549, 8550362, 21289402, 26246839, 1030585, 4963829], \"sizemode\": \"area\", \"sizeref\": 435928.2961983471, \"symbol\": \"circle\"}, \"mode\": \"markers\", \"name\": \"Asia\", \"orientation\": \"v\", \"showlegend\": true, \"type\": \"scatter\", \"x\": [779.4453145, 9867.084765000001, 684.2441716, 368.46928560000003, 400.44861099999997, 3054.421209, 546.5657493, 749.6816546, 3035.326002, 4129.766056, 4086.522128, 3216.956347, 1546.907807, 1088.277758, 1030.592226, 108382.3529, 4834.804067, 1831.132894, 786.5668575, 331.0, 545.8657228999999, 1828.230307, 684.5971437999999, 1272.880995, 6459.5548229999995, 2315.138227, 1083.53203, 1643.485354, 1206.947913, 757.7974177, 605.0664917, 1515.5923289999998, 781.7175761], \"xaxis\": \"x\", \"y\": [28.801, 50.93899999999999, 37.484, 39.417, 44.0, 60.96, 37.373000000000005, 37.468, 44.869, 45.32, 65.39, 63.03, 43.158, 50.056000000000004, 47.453, 55.565, 55.928000000000004, 48.463, 42.244, 36.319, 36.157, 37.578, 43.43600000000001, 47.751999999999995, 39.875, 60.396, 57.593, 45.883, 58.5, 50.848, 40.412, 43.16, 32.548], \"yaxis\": \"y\"}, {\"hovertemplate\": \"<b>%{hovertext}</b><br><br>continent=Europe<br>year=1952<br>gdpPercap=%{x}<br>lifeExp=%{y}<br>pop=%{marker.size}<extra></extra>\", \"hovertext\": [\"Albania\", \"Austria\", \"Belgium\", \"Bosnia and Herzegovina\", \"Bulgaria\", \"Croatia\", \"Czech Republic\", \"Denmark\", \"Finland\", \"France\", \"Germany\", \"Greece\", \"Hungary\", \"Iceland\", \"Ireland\", \"Italy\", \"Montenegro\", \"Netherlands\", \"Norway\", \"Poland\", \"Portugal\", \"Romania\", \"Serbia\", \"Slovak Republic\", \"Slovenia\", \"Spain\", \"Sweden\", \"Switzerland\", \"Turkey\", \"United Kingdom\"], \"legendgroup\": \"Europe\", \"marker\": {\"color\": \"#EF553B\", \"size\": [1282697, 6927772, 8730405, 2791000, 7274900, 3882229, 9125183, 4334000, 4090500, 42459667, 69145952, 7733250, 9504000, 147962, 2952156, 47666000, 413834, 10381988, 3327728, 25730551, 8526050, 16630000, 6860147, 3558137, 1489518, 28549870, 7124673, 4815000, 22235677, 50430000], \"sizemode\": \"area\", \"sizeref\": 435928.2961983471, \"symbol\": \"circle\"}, \"mode\": \"markers\", \"name\": \"Europe\", \"orientation\": \"v\", \"showlegend\": true, \"type\": \"scatter\", \"x\": [1601.056136, 6137.076492, 8343.105126999999, 973.5331947999999, 2444.2866480000002, 3119.23652, 6876.14025, 9692.385245, 6424.519071, 7029.809327, 7144.114393000001, 3530.690067, 5263.6738159999995, 7267.688428, 5210.280328, 4931.404154999999, 2647.585601, 8941.571858, 10095.42172, 4029.3296990000003, 3068.319867, 3144.613186, 3581.4594479999996, 5074.659104, 4215.041741, 3834.0347420000003, 8527.844662000001, 14734.23275, 1969.1009800000002, 9979.508487000001], \"xaxis\": \"x\", \"y\": [55.23, 66.8, 68.0, 53.82, 59.6, 61.21, 66.87, 70.78, 66.55, 67.41, 67.5, 65.86, 64.03, 72.49, 66.91, 65.94, 59.163999999999994, 72.13, 72.67, 61.31, 59.82, 61.05, 57.996, 64.36, 65.57, 64.94, 71.86, 69.62, 43.585, 69.18], \"yaxis\": \"y\"}, {\"hovertemplate\": \"<b>%{hovertext}</b><br><br>continent=Africa<br>year=1952<br>gdpPercap=%{x}<br>lifeExp=%{y}<br>pop=%{marker.size}<extra></extra>\", \"hovertext\": [\"Algeria\", \"Angola\", \"Benin\", \"Botswana\", \"Burkina Faso\", \"Burundi\", \"Cameroon\", \"Central African Republic\", \"Chad\", \"Comoros\", \"Congo, Dem. Rep.\", \"Congo, Rep.\", \"Cote d'Ivoire\", \"Djibouti\", \"Egypt\", \"Equatorial Guinea\", \"Eritrea\", \"Ethiopia\", \"Gabon\", \"Gambia\", \"Ghana\", \"Guinea\", \"Guinea-Bissau\", \"Kenya\", \"Lesotho\", \"Liberia\", \"Libya\", \"Madagascar\", \"Malawi\", \"Mali\", \"Mauritania\", \"Mauritius\", \"Morocco\", \"Mozambique\", \"Namibia\", \"Niger\", \"Nigeria\", \"Reunion\", \"Rwanda\", \"Sao Tome and Principe\", \"Senegal\", \"Sierra Leone\", \"Somalia\", \"South Africa\", \"Sudan\", \"Swaziland\", \"Tanzania\", \"Togo\", \"Tunisia\", \"Uganda\", \"Zambia\", \"Zimbabwe\"], \"legendgroup\": \"Africa\", \"marker\": {\"color\": \"#00cc96\", \"size\": [9279525, 4232095, 1738315, 442308, 4469979, 2445618, 5009067, 1291695, 2682462, 153936, 14100005, 854885, 2977019, 63149, 22223309, 216964, 1438760, 20860941, 420702, 284320, 5581001, 2664249, 580653, 6464046, 748747, 863308, 1019729, 4762912, 2917802, 3838168, 1022556, 516556, 9939217, 6446316, 485831, 3379468, 33119096, 257700, 2534927, 60011, 2755589, 2143249, 2526994, 14264935, 8504667, 290243, 8322925, 1219113, 3647735, 5824797, 2672000, 3080907], \"sizemode\": \"area\", \"sizeref\": 435928.2961983471, \"symbol\": \"circle\"}, \"mode\": \"markers\", \"name\": \"Africa\", \"orientation\": \"v\", \"showlegend\": true, \"type\": \"scatter\", \"x\": [2449.008185, 3520.610273, 1062.7522, 851.2411407, 543.2552413, 339.29645869999996, 1172.667655, 1071.310713, 1178.665927, 1102.990936, 780.5423257, 2125.621418, 1388.594732, 2669.529475, 1418.822445, 375.6431231, 328.94055710000004, 362.1462796, 4293.476475, 485.2306591, 911.2989371, 510.19649230000005, 299.850319, 853.5409189999999, 298.8462121, 575.5729961000001, 2387.54806, 1443.011715, 369.1650802, 452.3369807, 743.1159097, 1967.955707, 1688.20357, 468.5260381, 2423.780443, 761.879376, 1077.281856, 2718.885295, 493.32387520000003, 879.5835855, 1450.356983, 879.7877358, 1135.749842, 4725.295531000001, 1615.991129, 1148.376626, 716.6500721, 859.8086567, 1468.475631, 734.753484, 1147.388831, 406.8841148], \"xaxis\": \"x\", \"y\": [43.077, 30.015, 38.223, 47.622, 31.975, 39.031, 38.523, 35.463, 38.092, 40.715, 39.143, 42.111000000000004, 40.477, 34.812, 41.893, 34.482, 35.928000000000004, 34.078, 37.003, 30.0, 43.148999999999994, 33.609, 32.5, 42.27, 42.138000000000005, 38.48, 42.723, 36.681, 36.256, 33.685, 40.543, 50.986000000000004, 42.873000000000005, 31.285999999999998, 41.725, 37.444, 36.324, 52.724, 40.0, 46.471000000000004, 37.278, 30.331, 32.978, 45.00899999999999, 38.635, 41.407, 41.215, 38.596, 44.6, 39.978, 42.038000000000004, 48.451], \"yaxis\": \"y\"}, {\"hovertemplate\": \"<b>%{hovertext}</b><br><br>continent=Americas<br>year=1952<br>gdpPercap=%{x}<br>lifeExp=%{y}<br>pop=%{marker.size}<extra></extra>\", \"hovertext\": [\"Argentina\", \"Bolivia\", \"Brazil\", \"Canada\", \"Chile\", \"Colombia\", \"Costa Rica\", \"Cuba\", \"Dominican Republic\", \"Ecuador\", \"El Salvador\", \"Guatemala\", \"Haiti\", \"Honduras\", \"Jamaica\", \"Mexico\", \"Nicaragua\", \"Panama\", \"Paraguay\", \"Peru\", \"Puerto Rico\", \"Trinidad and Tobago\", \"United States\", \"Uruguay\", \"Venezuela\"], \"legendgroup\": \"Americas\", \"marker\": {\"color\": \"#ab63fa\", \"size\": [17876956, 2883315, 56602560, 14785584, 6377619, 12350771, 926317, 6007797, 2491346, 3548753, 2042865, 3146381, 3201488, 1517453, 1426095, 30144317, 1165790, 940080, 1555876, 8025700, 2227000, 662850, 157553000, 2252965, 5439568], \"sizemode\": \"area\", \"sizeref\": 435928.2961983471, \"symbol\": \"circle\"}, \"mode\": \"markers\", \"name\": \"Americas\", \"orientation\": \"v\", \"showlegend\": true, \"type\": \"scatter\", \"x\": [5911.315053, 2677.3263469999997, 2108.944355, 11367.16112, 3939.9787890000002, 2144.115096, 2627.0094710000003, 5586.53878, 1397.7171369999999, 3522.110717, 3048.3029, 2428.2377690000003, 1840.366939, 2194.926204, 2898.5308809999997, 3478.125529, 3112.363948, 2480.380334, 1952.3087010000002, 3758.523437, 3081.959785, 3023.271928, 13990.482080000002, 5716.766744, 7689.799761], \"xaxis\": \"x\", \"y\": [62.485, 40.414, 50.917, 68.75, 54.745, 50.643, 57.206, 59.42100000000001, 45.928000000000004, 48.357, 45.262, 42.023, 37.579, 41.912, 58.53, 50.788999999999994, 42.31399999999999, 55.191, 62.648999999999994, 43.902, 64.28, 59.1, 68.44, 66.071, 55.088], \"yaxis\": \"y\"}, {\"hovertemplate\": \"<b>%{hovertext}</b><br><br>continent=Oceania<br>year=1952<br>gdpPercap=%{x}<br>lifeExp=%{y}<br>pop=%{marker.size}<extra></extra>\", \"hovertext\": [\"Australia\", \"New Zealand\"], \"legendgroup\": \"Oceania\", \"marker\": {\"color\": \"#FFA15A\", \"size\": [8691212, 1994794], \"sizemode\": \"area\", \"sizeref\": 435928.2961983471, \"symbol\": \"circle\"}, \"mode\": \"markers\", \"name\": \"Oceania\", \"orientation\": \"v\", \"showlegend\": true, \"type\": \"scatter\", \"x\": [10039.595640000001, 10556.575659999999], \"xaxis\": \"x\", \"y\": [69.12, 69.39], \"yaxis\": \"y\"}],\n",
       "                        {\"height\": 800, \"legend\": {\"itemsizing\": \"constant\", \"title\": {\"text\": \"continent\"}, \"tracegroupgap\": 0}, \"margin\": {\"t\": 60}, \"paper_bgcolor\": \"rgba(0,0,0,0)\", \"plot_bgcolor\": \"rgba(0,0,0,0)\", \"sliders\": [{\"active\": 0, \"currentvalue\": {\"prefix\": \"year=\"}, \"len\": 0.9, \"pad\": {\"b\": 10, \"t\": 60}, \"steps\": [{\"args\": [[\"1952\"], {\"frame\": {\"duration\": 0, \"redraw\": false}, \"fromcurrent\": true, \"mode\": \"immediate\", \"transition\": {\"duration\": 0, \"easing\": \"linear\"}}], \"label\": \"1952\", \"method\": \"animate\"}, {\"args\": [[\"1957\"], {\"frame\": {\"duration\": 0, \"redraw\": false}, \"fromcurrent\": true, \"mode\": \"immediate\", \"transition\": {\"duration\": 0, \"easing\": \"linear\"}}], \"label\": \"1957\", \"method\": \"animate\"}, {\"args\": [[\"1962\"], {\"frame\": {\"duration\": 0, \"redraw\": false}, \"fromcurrent\": true, \"mode\": \"immediate\", \"transition\": {\"duration\": 0, \"easing\": \"linear\"}}], \"label\": \"1962\", \"method\": \"animate\"}, {\"args\": [[\"1967\"], {\"frame\": {\"duration\": 0, \"redraw\": false}, \"fromcurrent\": true, \"mode\": \"immediate\", \"transition\": {\"duration\": 0, \"easing\": \"linear\"}}], \"label\": \"1967\", \"method\": \"animate\"}, {\"args\": [[\"1972\"], {\"frame\": {\"duration\": 0, \"redraw\": false}, \"fromcurrent\": true, \"mode\": \"immediate\", \"transition\": {\"duration\": 0, \"easing\": \"linear\"}}], \"label\": \"1972\", \"method\": \"animate\"}, {\"args\": [[\"1977\"], {\"frame\": {\"duration\": 0, \"redraw\": false}, \"fromcurrent\": true, \"mode\": \"immediate\", \"transition\": {\"duration\": 0, \"easing\": \"linear\"}}], \"label\": \"1977\", \"method\": \"animate\"}, {\"args\": [[\"1982\"], {\"frame\": {\"duration\": 0, \"redraw\": false}, \"fromcurrent\": true, \"mode\": \"immediate\", \"transition\": {\"duration\": 0, \"easing\": \"linear\"}}], \"label\": \"1982\", \"method\": \"animate\"}, {\"args\": [[\"1987\"], {\"frame\": {\"duration\": 0, \"redraw\": false}, \"fromcurrent\": true, \"mode\": \"immediate\", \"transition\": {\"duration\": 0, \"easing\": \"linear\"}}], \"label\": \"1987\", \"method\": \"animate\"}, {\"args\": [[\"1992\"], {\"frame\": {\"duration\": 0, \"redraw\": false}, \"fromcurrent\": true, \"mode\": \"immediate\", \"transition\": {\"duration\": 0, \"easing\": \"linear\"}}], \"label\": \"1992\", \"method\": \"animate\"}, {\"args\": [[\"1997\"], {\"frame\": {\"duration\": 0, \"redraw\": false}, \"fromcurrent\": true, \"mode\": \"immediate\", \"transition\": {\"duration\": 0, \"easing\": \"linear\"}}], \"label\": \"1997\", \"method\": \"animate\"}, {\"args\": [[\"2002\"], {\"frame\": {\"duration\": 0, \"redraw\": false}, \"fromcurrent\": true, \"mode\": \"immediate\", \"transition\": {\"duration\": 0, \"easing\": \"linear\"}}], \"label\": \"2002\", \"method\": \"animate\"}, {\"args\": [[\"2007\"], {\"frame\": {\"duration\": 0, \"redraw\": false}, \"fromcurrent\": true, \"mode\": \"immediate\", \"transition\": {\"duration\": 0, \"easing\": \"linear\"}}], \"label\": \"2007\", \"method\": \"animate\"}], \"x\": 0.1, \"xanchor\": \"left\", \"y\": 0, \"yanchor\": \"top\"}], \"template\": {\"data\": {\"bar\": [{\"error_x\": {\"color\": \"#2a3f5f\"}, \"error_y\": {\"color\": \"#2a3f5f\"}, \"marker\": {\"line\": {\"color\": \"#E5ECF6\", \"width\": 0.5}}, \"type\": \"bar\"}], \"barpolar\": [{\"marker\": {\"line\": {\"color\": \"#E5ECF6\", \"width\": 0.5}}, \"type\": \"barpolar\"}], \"carpet\": [{\"aaxis\": {\"endlinecolor\": \"#2a3f5f\", \"gridcolor\": \"white\", \"linecolor\": \"white\", \"minorgridcolor\": \"white\", \"startlinecolor\": \"#2a3f5f\"}, \"baxis\": {\"endlinecolor\": \"#2a3f5f\", \"gridcolor\": \"white\", \"linecolor\": \"white\", \"minorgridcolor\": \"white\", \"startlinecolor\": \"#2a3f5f\"}, \"type\": \"carpet\"}], \"choropleth\": [{\"colorbar\": {\"outlinewidth\": 0, \"ticks\": \"\"}, \"type\": \"choropleth\"}], \"contour\": [{\"colorbar\": {\"outlinewidth\": 0, \"ticks\": \"\"}, \"colorscale\": [[0.0, \"#0d0887\"], [0.1111111111111111, \"#46039f\"], [0.2222222222222222, \"#7201a8\"], [0.3333333333333333, \"#9c179e\"], [0.4444444444444444, \"#bd3786\"], [0.5555555555555556, \"#d8576b\"], [0.6666666666666666, \"#ed7953\"], [0.7777777777777778, \"#fb9f3a\"], [0.8888888888888888, \"#fdca26\"], [1.0, \"#f0f921\"]], \"type\": \"contour\"}], \"contourcarpet\": [{\"colorbar\": {\"outlinewidth\": 0, \"ticks\": \"\"}, \"type\": \"contourcarpet\"}], \"heatmap\": [{\"colorbar\": {\"outlinewidth\": 0, \"ticks\": \"\"}, \"colorscale\": [[0.0, \"#0d0887\"], [0.1111111111111111, \"#46039f\"], [0.2222222222222222, \"#7201a8\"], [0.3333333333333333, \"#9c179e\"], [0.4444444444444444, \"#bd3786\"], [0.5555555555555556, \"#d8576b\"], [0.6666666666666666, \"#ed7953\"], [0.7777777777777778, \"#fb9f3a\"], [0.8888888888888888, \"#fdca26\"], [1.0, \"#f0f921\"]], \"type\": \"heatmap\"}], \"heatmapgl\": [{\"colorbar\": {\"outlinewidth\": 0, \"ticks\": \"\"}, \"colorscale\": [[0.0, \"#0d0887\"], [0.1111111111111111, \"#46039f\"], [0.2222222222222222, \"#7201a8\"], [0.3333333333333333, \"#9c179e\"], [0.4444444444444444, \"#bd3786\"], [0.5555555555555556, \"#d8576b\"], [0.6666666666666666, \"#ed7953\"], [0.7777777777777778, \"#fb9f3a\"], [0.8888888888888888, \"#fdca26\"], [1.0, \"#f0f921\"]], \"type\": \"heatmapgl\"}], \"histogram\": [{\"marker\": {\"colorbar\": {\"outlinewidth\": 0, \"ticks\": \"\"}}, \"type\": \"histogram\"}], \"histogram2d\": [{\"colorbar\": {\"outlinewidth\": 0, \"ticks\": \"\"}, \"colorscale\": [[0.0, \"#0d0887\"], [0.1111111111111111, \"#46039f\"], [0.2222222222222222, \"#7201a8\"], [0.3333333333333333, \"#9c179e\"], [0.4444444444444444, \"#bd3786\"], [0.5555555555555556, \"#d8576b\"], [0.6666666666666666, \"#ed7953\"], [0.7777777777777778, \"#fb9f3a\"], [0.8888888888888888, \"#fdca26\"], [1.0, \"#f0f921\"]], \"type\": \"histogram2d\"}], \"histogram2dcontour\": [{\"colorbar\": {\"outlinewidth\": 0, \"ticks\": \"\"}, \"colorscale\": [[0.0, \"#0d0887\"], [0.1111111111111111, \"#46039f\"], [0.2222222222222222, \"#7201a8\"], [0.3333333333333333, \"#9c179e\"], [0.4444444444444444, \"#bd3786\"], [0.5555555555555556, \"#d8576b\"], [0.6666666666666666, \"#ed7953\"], [0.7777777777777778, \"#fb9f3a\"], [0.8888888888888888, \"#fdca26\"], [1.0, \"#f0f921\"]], \"type\": \"histogram2dcontour\"}], \"mesh3d\": [{\"colorbar\": {\"outlinewidth\": 0, \"ticks\": \"\"}, \"type\": \"mesh3d\"}], \"parcoords\": [{\"line\": {\"colorbar\": {\"outlinewidth\": 0, \"ticks\": \"\"}}, \"type\": \"parcoords\"}], \"pie\": [{\"automargin\": true, \"type\": \"pie\"}], \"scatter\": [{\"marker\": {\"colorbar\": {\"outlinewidth\": 0, \"ticks\": \"\"}}, \"type\": \"scatter\"}], \"scatter3d\": [{\"line\": {\"colorbar\": {\"outlinewidth\": 0, \"ticks\": \"\"}}, \"marker\": {\"colorbar\": {\"outlinewidth\": 0, \"ticks\": \"\"}}, \"type\": \"scatter3d\"}], \"scattercarpet\": [{\"marker\": {\"colorbar\": {\"outlinewidth\": 0, \"ticks\": \"\"}}, \"type\": \"scattercarpet\"}], \"scattergeo\": [{\"marker\": {\"colorbar\": {\"outlinewidth\": 0, \"ticks\": \"\"}}, \"type\": \"scattergeo\"}], \"scattergl\": [{\"marker\": {\"colorbar\": {\"outlinewidth\": 0, \"ticks\": \"\"}}, \"type\": \"scattergl\"}], \"scattermapbox\": [{\"marker\": {\"colorbar\": {\"outlinewidth\": 0, \"ticks\": \"\"}}, \"type\": \"scattermapbox\"}], \"scatterpolar\": [{\"marker\": {\"colorbar\": {\"outlinewidth\": 0, \"ticks\": \"\"}}, \"type\": \"scatterpolar\"}], \"scatterpolargl\": [{\"marker\": {\"colorbar\": {\"outlinewidth\": 0, \"ticks\": \"\"}}, \"type\": \"scatterpolargl\"}], \"scatterternary\": [{\"marker\": {\"colorbar\": {\"outlinewidth\": 0, \"ticks\": \"\"}}, \"type\": \"scatterternary\"}], \"surface\": [{\"colorbar\": {\"outlinewidth\": 0, \"ticks\": \"\"}, \"colorscale\": [[0.0, \"#0d0887\"], [0.1111111111111111, \"#46039f\"], [0.2222222222222222, \"#7201a8\"], [0.3333333333333333, \"#9c179e\"], [0.4444444444444444, \"#bd3786\"], [0.5555555555555556, \"#d8576b\"], [0.6666666666666666, \"#ed7953\"], [0.7777777777777778, \"#fb9f3a\"], [0.8888888888888888, \"#fdca26\"], [1.0, \"#f0f921\"]], \"type\": \"surface\"}], \"table\": [{\"cells\": {\"fill\": {\"color\": \"#EBF0F8\"}, \"line\": {\"color\": \"white\"}}, \"header\": {\"fill\": {\"color\": \"#C8D4E3\"}, \"line\": {\"color\": \"white\"}}, \"type\": \"table\"}]}, \"layout\": {\"annotationdefaults\": {\"arrowcolor\": \"#2a3f5f\", \"arrowhead\": 0, \"arrowwidth\": 1}, \"coloraxis\": {\"colorbar\": {\"outlinewidth\": 0, \"ticks\": \"\"}}, \"colorscale\": {\"diverging\": [[0, \"#8e0152\"], [0.1, \"#c51b7d\"], [0.2, \"#de77ae\"], [0.3, \"#f1b6da\"], [0.4, \"#fde0ef\"], [0.5, \"#f7f7f7\"], [0.6, \"#e6f5d0\"], [0.7, \"#b8e186\"], [0.8, \"#7fbc41\"], [0.9, \"#4d9221\"], [1, \"#276419\"]], \"sequential\": [[0.0, \"#0d0887\"], [0.1111111111111111, \"#46039f\"], [0.2222222222222222, \"#7201a8\"], [0.3333333333333333, \"#9c179e\"], [0.4444444444444444, \"#bd3786\"], [0.5555555555555556, \"#d8576b\"], [0.6666666666666666, \"#ed7953\"], [0.7777777777777778, \"#fb9f3a\"], [0.8888888888888888, \"#fdca26\"], [1.0, \"#f0f921\"]], \"sequentialminus\": [[0.0, \"#0d0887\"], [0.1111111111111111, \"#46039f\"], [0.2222222222222222, \"#7201a8\"], [0.3333333333333333, \"#9c179e\"], [0.4444444444444444, \"#bd3786\"], [0.5555555555555556, \"#d8576b\"], [0.6666666666666666, \"#ed7953\"], [0.7777777777777778, \"#fb9f3a\"], [0.8888888888888888, \"#fdca26\"], [1.0, \"#f0f921\"]]}, \"colorway\": [\"#636efa\", \"#EF553B\", \"#00cc96\", \"#ab63fa\", \"#FFA15A\", \"#19d3f3\", \"#FF6692\", \"#B6E880\", \"#FF97FF\", \"#FECB52\"], \"font\": {\"color\": \"#2a3f5f\"}, \"geo\": {\"bgcolor\": \"white\", \"lakecolor\": \"white\", \"landcolor\": \"#E5ECF6\", \"showlakes\": true, \"showland\": true, \"subunitcolor\": \"white\"}, \"hoverlabel\": {\"align\": \"left\"}, \"hovermode\": \"closest\", \"mapbox\": {\"style\": \"light\"}, \"paper_bgcolor\": \"white\", \"plot_bgcolor\": \"#E5ECF6\", \"polar\": {\"angularaxis\": {\"gridcolor\": \"white\", \"linecolor\": \"white\", \"ticks\": \"\"}, \"bgcolor\": \"#E5ECF6\", \"radialaxis\": {\"gridcolor\": \"white\", \"linecolor\": \"white\", \"ticks\": \"\"}}, \"scene\": {\"xaxis\": {\"backgroundcolor\": \"#E5ECF6\", \"gridcolor\": \"white\", \"gridwidth\": 2, \"linecolor\": \"white\", \"showbackground\": true, \"ticks\": \"\", \"zerolinecolor\": \"white\"}, \"yaxis\": {\"backgroundcolor\": \"#E5ECF6\", \"gridcolor\": \"white\", \"gridwidth\": 2, \"linecolor\": \"white\", \"showbackground\": true, \"ticks\": \"\", \"zerolinecolor\": \"white\"}, \"zaxis\": {\"backgroundcolor\": \"#E5ECF6\", \"gridcolor\": \"white\", \"gridwidth\": 2, \"linecolor\": \"white\", \"showbackground\": true, \"ticks\": \"\", \"zerolinecolor\": \"white\"}}, \"shapedefaults\": {\"line\": {\"color\": \"#2a3f5f\"}}, \"ternary\": {\"aaxis\": {\"gridcolor\": \"white\", \"linecolor\": \"white\", \"ticks\": \"\"}, \"baxis\": {\"gridcolor\": \"white\", \"linecolor\": \"white\", \"ticks\": \"\"}, \"bgcolor\": \"#E5ECF6\", \"caxis\": {\"gridcolor\": \"white\", \"linecolor\": \"white\", \"ticks\": \"\"}}, \"title\": {\"x\": 0.05}, \"xaxis\": {\"automargin\": true, \"gridcolor\": \"white\", \"linecolor\": \"white\", \"ticks\": \"\", \"title\": {\"standoff\": 15}, \"zerolinecolor\": \"white\", \"zerolinewidth\": 2}, \"yaxis\": {\"automargin\": true, \"gridcolor\": \"white\", \"linecolor\": \"white\", \"ticks\": \"\", \"title\": {\"standoff\": 15}, \"zerolinecolor\": \"white\", \"zerolinewidth\": 2}}}, \"updatemenus\": [{\"buttons\": [{\"args\": [null, {\"frame\": {\"duration\": 500, \"redraw\": false}, \"fromcurrent\": true, \"mode\": \"immediate\", \"transition\": {\"duration\": 500, \"easing\": \"linear\"}}], \"label\": \"&#9654;\", \"method\": \"animate\"}, {\"args\": [[null], {\"frame\": {\"duration\": 0, \"redraw\": false}, \"fromcurrent\": true, \"mode\": \"immediate\", \"transition\": {\"duration\": 0, \"easing\": \"linear\"}}], \"label\": \"&#9724;\", \"method\": \"animate\"}], \"direction\": \"left\", \"pad\": {\"r\": 10, \"t\": 70}, \"showactive\": false, \"type\": \"buttons\", \"x\": 0.1, \"xanchor\": \"right\", \"y\": 0, \"yanchor\": \"top\"}], \"width\": 1000, \"xaxis\": {\"anchor\": \"y\", \"domain\": [0.0, 1.0], \"range\": [2.0, 5.0], \"showgrid\": false, \"title\": {\"text\": \"gdpPercap\"}, \"type\": \"log\"}, \"yaxis\": {\"anchor\": \"x\", \"domain\": [0.0, 1.0], \"range\": [25, 90], \"showgrid\": false, \"title\": {\"text\": \"lifeExp\"}}},\n",
       "                        {\"responsive\": true}\n",
       "                    ).then(function(){\n",
       "                            Plotly.addFrames('ae65a9a2-07d7-4024-b89e-6c6694fe50fb', [{\"data\": [{\"hovertemplate\": \"<b>%{hovertext}</b><br><br>continent=Asia<br>year=1952<br>gdpPercap=%{x}<br>lifeExp=%{y}<br>pop=%{marker.size}<extra></extra>\", \"hovertext\": [\"Afghanistan\", \"Bahrain\", \"Bangladesh\", \"Cambodia\", \"China\", \"Hong Kong, China\", \"India\", \"Indonesia\", \"Iran\", \"Iraq\", \"Israel\", \"Japan\", \"Jordan\", \"Korea, Dem. Rep.\", \"Korea, Rep.\", \"Kuwait\", \"Lebanon\", \"Malaysia\", \"Mongolia\", \"Myanmar\", \"Nepal\", \"Oman\", \"Pakistan\", \"Philippines\", \"Saudi Arabia\", \"Singapore\", \"Sri Lanka\", \"Syria\", \"Taiwan\", \"Thailand\", \"Vietnam\", \"West Bank and Gaza\", \"Yemen, Rep.\"], \"legendgroup\": \"Asia\", \"marker\": {\"color\": \"#636efa\", \"size\": [8425333, 120447, 46886859, 4693836, 556263527, 2125900, 372000000, 82052000, 17272000, 5441766, 1620914, 86459025, 607914, 8865488, 20947571, 160000, 1439529, 6748378, 800663, 20092996, 9182536, 507833, 41346560, 22438691, 4005677, 1127000, 7982342, 3661549, 8550362, 21289402, 26246839, 1030585, 4963829], \"sizemode\": \"area\", \"sizeref\": 435928.2961983471, \"symbol\": \"circle\"}, \"mode\": \"markers\", \"name\": \"Asia\", \"orientation\": \"v\", \"showlegend\": true, \"x\": [779.4453145, 9867.084765000001, 684.2441716, 368.46928560000003, 400.44861099999997, 3054.421209, 546.5657493, 749.6816546, 3035.326002, 4129.766056, 4086.522128, 3216.956347, 1546.907807, 1088.277758, 1030.592226, 108382.3529, 4834.804067, 1831.132894, 786.5668575, 331.0, 545.8657228999999, 1828.230307, 684.5971437999999, 1272.880995, 6459.5548229999995, 2315.138227, 1083.53203, 1643.485354, 1206.947913, 757.7974177, 605.0664917, 1515.5923289999998, 781.7175761], \"xaxis\": \"x\", \"y\": [28.801, 50.93899999999999, 37.484, 39.417, 44.0, 60.96, 37.373000000000005, 37.468, 44.869, 45.32, 65.39, 63.03, 43.158, 50.056000000000004, 47.453, 55.565, 55.928000000000004, 48.463, 42.244, 36.319, 36.157, 37.578, 43.43600000000001, 47.751999999999995, 39.875, 60.396, 57.593, 45.883, 58.5, 50.848, 40.412, 43.16, 32.548], \"yaxis\": \"y\", \"type\": \"scatter\"}, {\"hovertemplate\": \"<b>%{hovertext}</b><br><br>continent=Europe<br>year=1952<br>gdpPercap=%{x}<br>lifeExp=%{y}<br>pop=%{marker.size}<extra></extra>\", \"hovertext\": [\"Albania\", \"Austria\", \"Belgium\", \"Bosnia and Herzegovina\", \"Bulgaria\", \"Croatia\", \"Czech Republic\", \"Denmark\", \"Finland\", \"France\", \"Germany\", \"Greece\", \"Hungary\", \"Iceland\", \"Ireland\", \"Italy\", \"Montenegro\", \"Netherlands\", \"Norway\", \"Poland\", \"Portugal\", \"Romania\", \"Serbia\", \"Slovak Republic\", \"Slovenia\", \"Spain\", \"Sweden\", \"Switzerland\", \"Turkey\", \"United Kingdom\"], \"legendgroup\": \"Europe\", \"marker\": {\"color\": \"#EF553B\", \"size\": [1282697, 6927772, 8730405, 2791000, 7274900, 3882229, 9125183, 4334000, 4090500, 42459667, 69145952, 7733250, 9504000, 147962, 2952156, 47666000, 413834, 10381988, 3327728, 25730551, 8526050, 16630000, 6860147, 3558137, 1489518, 28549870, 7124673, 4815000, 22235677, 50430000], \"sizemode\": \"area\", \"sizeref\": 435928.2961983471, \"symbol\": \"circle\"}, \"mode\": \"markers\", \"name\": \"Europe\", \"orientation\": \"v\", \"showlegend\": true, \"x\": [1601.056136, 6137.076492, 8343.105126999999, 973.5331947999999, 2444.2866480000002, 3119.23652, 6876.14025, 9692.385245, 6424.519071, 7029.809327, 7144.114393000001, 3530.690067, 5263.6738159999995, 7267.688428, 5210.280328, 4931.404154999999, 2647.585601, 8941.571858, 10095.42172, 4029.3296990000003, 3068.319867, 3144.613186, 3581.4594479999996, 5074.659104, 4215.041741, 3834.0347420000003, 8527.844662000001, 14734.23275, 1969.1009800000002, 9979.508487000001], \"xaxis\": \"x\", \"y\": [55.23, 66.8, 68.0, 53.82, 59.6, 61.21, 66.87, 70.78, 66.55, 67.41, 67.5, 65.86, 64.03, 72.49, 66.91, 65.94, 59.163999999999994, 72.13, 72.67, 61.31, 59.82, 61.05, 57.996, 64.36, 65.57, 64.94, 71.86, 69.62, 43.585, 69.18], \"yaxis\": \"y\", \"type\": \"scatter\"}, {\"hovertemplate\": \"<b>%{hovertext}</b><br><br>continent=Africa<br>year=1952<br>gdpPercap=%{x}<br>lifeExp=%{y}<br>pop=%{marker.size}<extra></extra>\", \"hovertext\": [\"Algeria\", \"Angola\", \"Benin\", \"Botswana\", \"Burkina Faso\", \"Burundi\", \"Cameroon\", \"Central African Republic\", \"Chad\", \"Comoros\", \"Congo, Dem. Rep.\", \"Congo, Rep.\", \"Cote d'Ivoire\", \"Djibouti\", \"Egypt\", \"Equatorial Guinea\", \"Eritrea\", \"Ethiopia\", \"Gabon\", \"Gambia\", \"Ghana\", \"Guinea\", \"Guinea-Bissau\", \"Kenya\", \"Lesotho\", \"Liberia\", \"Libya\", \"Madagascar\", \"Malawi\", \"Mali\", \"Mauritania\", \"Mauritius\", \"Morocco\", \"Mozambique\", \"Namibia\", \"Niger\", \"Nigeria\", \"Reunion\", \"Rwanda\", \"Sao Tome and Principe\", \"Senegal\", \"Sierra Leone\", \"Somalia\", \"South Africa\", \"Sudan\", \"Swaziland\", \"Tanzania\", \"Togo\", \"Tunisia\", \"Uganda\", \"Zambia\", \"Zimbabwe\"], \"legendgroup\": \"Africa\", \"marker\": {\"color\": \"#00cc96\", \"size\": [9279525, 4232095, 1738315, 442308, 4469979, 2445618, 5009067, 1291695, 2682462, 153936, 14100005, 854885, 2977019, 63149, 22223309, 216964, 1438760, 20860941, 420702, 284320, 5581001, 2664249, 580653, 6464046, 748747, 863308, 1019729, 4762912, 2917802, 3838168, 1022556, 516556, 9939217, 6446316, 485831, 3379468, 33119096, 257700, 2534927, 60011, 2755589, 2143249, 2526994, 14264935, 8504667, 290243, 8322925, 1219113, 3647735, 5824797, 2672000, 3080907], \"sizemode\": \"area\", \"sizeref\": 435928.2961983471, \"symbol\": \"circle\"}, \"mode\": \"markers\", \"name\": \"Africa\", \"orientation\": \"v\", \"showlegend\": true, \"x\": [2449.008185, 3520.610273, 1062.7522, 851.2411407, 543.2552413, 339.29645869999996, 1172.667655, 1071.310713, 1178.665927, 1102.990936, 780.5423257, 2125.621418, 1388.594732, 2669.529475, 1418.822445, 375.6431231, 328.94055710000004, 362.1462796, 4293.476475, 485.2306591, 911.2989371, 510.19649230000005, 299.850319, 853.5409189999999, 298.8462121, 575.5729961000001, 2387.54806, 1443.011715, 369.1650802, 452.3369807, 743.1159097, 1967.955707, 1688.20357, 468.5260381, 2423.780443, 761.879376, 1077.281856, 2718.885295, 493.32387520000003, 879.5835855, 1450.356983, 879.7877358, 1135.749842, 4725.295531000001, 1615.991129, 1148.376626, 716.6500721, 859.8086567, 1468.475631, 734.753484, 1147.388831, 406.8841148], \"xaxis\": \"x\", \"y\": [43.077, 30.015, 38.223, 47.622, 31.975, 39.031, 38.523, 35.463, 38.092, 40.715, 39.143, 42.111000000000004, 40.477, 34.812, 41.893, 34.482, 35.928000000000004, 34.078, 37.003, 30.0, 43.148999999999994, 33.609, 32.5, 42.27, 42.138000000000005, 38.48, 42.723, 36.681, 36.256, 33.685, 40.543, 50.986000000000004, 42.873000000000005, 31.285999999999998, 41.725, 37.444, 36.324, 52.724, 40.0, 46.471000000000004, 37.278, 30.331, 32.978, 45.00899999999999, 38.635, 41.407, 41.215, 38.596, 44.6, 39.978, 42.038000000000004, 48.451], \"yaxis\": \"y\", \"type\": \"scatter\"}, {\"hovertemplate\": \"<b>%{hovertext}</b><br><br>continent=Americas<br>year=1952<br>gdpPercap=%{x}<br>lifeExp=%{y}<br>pop=%{marker.size}<extra></extra>\", \"hovertext\": [\"Argentina\", \"Bolivia\", \"Brazil\", \"Canada\", \"Chile\", \"Colombia\", \"Costa Rica\", \"Cuba\", \"Dominican Republic\", \"Ecuador\", \"El Salvador\", \"Guatemala\", \"Haiti\", \"Honduras\", \"Jamaica\", \"Mexico\", \"Nicaragua\", \"Panama\", \"Paraguay\", \"Peru\", \"Puerto Rico\", \"Trinidad and Tobago\", \"United States\", \"Uruguay\", \"Venezuela\"], \"legendgroup\": \"Americas\", \"marker\": {\"color\": \"#ab63fa\", \"size\": [17876956, 2883315, 56602560, 14785584, 6377619, 12350771, 926317, 6007797, 2491346, 3548753, 2042865, 3146381, 3201488, 1517453, 1426095, 30144317, 1165790, 940080, 1555876, 8025700, 2227000, 662850, 157553000, 2252965, 5439568], \"sizemode\": \"area\", \"sizeref\": 435928.2961983471, \"symbol\": \"circle\"}, \"mode\": \"markers\", \"name\": \"Americas\", \"orientation\": \"v\", \"showlegend\": true, \"x\": [5911.315053, 2677.3263469999997, 2108.944355, 11367.16112, 3939.9787890000002, 2144.115096, 2627.0094710000003, 5586.53878, 1397.7171369999999, 3522.110717, 3048.3029, 2428.2377690000003, 1840.366939, 2194.926204, 2898.5308809999997, 3478.125529, 3112.363948, 2480.380334, 1952.3087010000002, 3758.523437, 3081.959785, 3023.271928, 13990.482080000002, 5716.766744, 7689.799761], \"xaxis\": \"x\", \"y\": [62.485, 40.414, 50.917, 68.75, 54.745, 50.643, 57.206, 59.42100000000001, 45.928000000000004, 48.357, 45.262, 42.023, 37.579, 41.912, 58.53, 50.788999999999994, 42.31399999999999, 55.191, 62.648999999999994, 43.902, 64.28, 59.1, 68.44, 66.071, 55.088], \"yaxis\": \"y\", \"type\": \"scatter\"}, {\"hovertemplate\": \"<b>%{hovertext}</b><br><br>continent=Oceania<br>year=1952<br>gdpPercap=%{x}<br>lifeExp=%{y}<br>pop=%{marker.size}<extra></extra>\", \"hovertext\": [\"Australia\", \"New Zealand\"], \"legendgroup\": \"Oceania\", \"marker\": {\"color\": \"#FFA15A\", \"size\": [8691212, 1994794], \"sizemode\": \"area\", \"sizeref\": 435928.2961983471, \"symbol\": \"circle\"}, \"mode\": \"markers\", \"name\": \"Oceania\", \"orientation\": \"v\", \"showlegend\": true, \"x\": [10039.595640000001, 10556.575659999999], \"xaxis\": \"x\", \"y\": [69.12, 69.39], \"yaxis\": \"y\", \"type\": \"scatter\"}], \"name\": \"1952\"}, {\"data\": [{\"hovertemplate\": \"<b>%{hovertext}</b><br><br>continent=Asia<br>year=1957<br>gdpPercap=%{x}<br>lifeExp=%{y}<br>pop=%{marker.size}<extra></extra>\", \"hovertext\": [\"Afghanistan\", \"Bahrain\", \"Bangladesh\", \"Cambodia\", \"China\", \"Hong Kong, China\", \"India\", \"Indonesia\", \"Iran\", \"Iraq\", \"Israel\", \"Japan\", \"Jordan\", \"Korea, Dem. Rep.\", \"Korea, Rep.\", \"Kuwait\", \"Lebanon\", \"Malaysia\", \"Mongolia\", \"Myanmar\", \"Nepal\", \"Oman\", \"Pakistan\", \"Philippines\", \"Saudi Arabia\", \"Singapore\", \"Sri Lanka\", \"Syria\", \"Taiwan\", \"Thailand\", \"Vietnam\", \"West Bank and Gaza\", \"Yemen, Rep.\"], \"legendgroup\": \"Asia\", \"marker\": {\"color\": \"#636efa\", \"size\": [9240934, 138655, 51365468, 5322536, 637408000, 2736300, 409000000, 90124000, 19792000, 6248643, 1944401, 91563009, 746559, 9411381, 22611552, 212846, 1647412, 7739235, 882134, 21731844, 9682338, 561977, 46679944, 26072194, 4419650, 1445929, 9128546, 4149908, 10164215, 25041917, 28998543, 1070439, 5498090], \"sizemode\": \"area\", \"sizeref\": 435928.2961983471, \"symbol\": \"circle\"}, \"mode\": \"markers\", \"name\": \"Asia\", \"orientation\": \"v\", \"showlegend\": true, \"x\": [820.8530296, 11635.79945, 661.6374577, 434.0383364, 575.9870009, 3629.076457, 590.061996, 858.9002707000001, 3290.257643, 6229.333562, 5385.278451, 4317.694365, 1886.080591, 1571.134655, 1487.593537, 113523.1329, 6089.786934000001, 1810.0669920000003, 912.6626085, 350.0, 597.9363557999999, 2242.746551, 747.0835292, 1547.9448439999999, 8157.591248000001, 2843.104409, 1072.546602, 2117.234893, 1507.86129, 793.5774147999999, 676.2854477999999, 1827.0677420000002, 804.8304547], \"xaxis\": \"x\", \"y\": [30.331999999999997, 53.832, 39.348, 41.36600000000001, 50.54896, 64.75, 40.249, 39.918, 47.181000000000004, 48.437, 67.84, 65.5, 45.669, 54.081, 52.681000000000004, 58.033, 59.489, 52.102, 45.248000000000005, 41.905, 37.686, 40.08, 45.556999999999995, 51.333999999999996, 42.868, 63.178999999999995, 61.456, 48.284, 62.4, 53.63, 42.887, 45.67100000000001, 33.97], \"yaxis\": \"y\", \"type\": \"scatter\"}, {\"hovertemplate\": \"<b>%{hovertext}</b><br><br>continent=Europe<br>year=1957<br>gdpPercap=%{x}<br>lifeExp=%{y}<br>pop=%{marker.size}<extra></extra>\", \"hovertext\": [\"Albania\", \"Austria\", \"Belgium\", \"Bosnia and Herzegovina\", \"Bulgaria\", \"Croatia\", \"Czech Republic\", \"Denmark\", \"Finland\", \"France\", \"Germany\", \"Greece\", \"Hungary\", \"Iceland\", \"Ireland\", \"Italy\", \"Montenegro\", \"Netherlands\", \"Norway\", \"Poland\", \"Portugal\", \"Romania\", \"Serbia\", \"Slovak Republic\", \"Slovenia\", \"Spain\", \"Sweden\", \"Switzerland\", \"Turkey\", \"United Kingdom\"], \"legendgroup\": \"Europe\", \"marker\": {\"color\": \"#EF553B\", \"size\": [1476505, 6965860, 8989111, 3076000, 7651254, 3991242, 9513758, 4487831, 4324000, 44310863, 71019069, 8096218, 9839000, 165110, 2878220, 49182000, 442829, 11026383, 3491938, 28235346, 8817650, 17829327, 7271135, 3844277, 1533070, 29841614, 7363802, 5126000, 25670939, 51430000], \"sizemode\": \"area\", \"sizeref\": 435928.2961983471, \"symbol\": \"circle\"}, \"mode\": \"markers\", \"name\": \"Europe\", \"orientation\": \"v\", \"showlegend\": true, \"x\": [1942.2842440000002, 8842.59803, 9714.960623, 1353.989176, 3008.670727, 4338.231617, 8256.343918, 11099.65935, 7545.415386, 8662.834898000001, 10187.82665, 4916.299889, 6040.180011, 9244.001412, 5599.077872, 6248.656232, 3682.259903, 11276.193440000001, 11653.97304, 4734.253019, 3774.571743, 3943.370225, 4981.090891, 6093.2629799999995, 5862.276629, 4564.80241, 9911.878226, 17909.48973, 2218.754257, 11283.17795], \"xaxis\": \"x\", \"y\": [59.28, 67.48, 69.24, 58.45, 66.61, 64.77, 69.03, 71.81, 67.49, 68.93, 69.1, 67.86, 66.41, 73.47, 68.9, 67.81, 61.448, 72.99, 73.44, 65.77, 61.51, 64.1, 61.685, 67.45, 67.85, 66.66, 72.49, 70.56, 48.07899999999999, 70.42], \"yaxis\": \"y\", \"type\": \"scatter\"}, {\"hovertemplate\": \"<b>%{hovertext}</b><br><br>continent=Africa<br>year=1957<br>gdpPercap=%{x}<br>lifeExp=%{y}<br>pop=%{marker.size}<extra></extra>\", \"hovertext\": [\"Algeria\", \"Angola\", \"Benin\", \"Botswana\", \"Burkina Faso\", \"Burundi\", \"Cameroon\", \"Central African Republic\", \"Chad\", \"Comoros\", \"Congo, Dem. Rep.\", \"Congo, Rep.\", \"Cote d'Ivoire\", \"Djibouti\", \"Egypt\", \"Equatorial Guinea\", \"Eritrea\", \"Ethiopia\", \"Gabon\", \"Gambia\", \"Ghana\", \"Guinea\", \"Guinea-Bissau\", \"Kenya\", \"Lesotho\", \"Liberia\", \"Libya\", \"Madagascar\", \"Malawi\", \"Mali\", \"Mauritania\", \"Mauritius\", \"Morocco\", \"Mozambique\", \"Namibia\", \"Niger\", \"Nigeria\", \"Reunion\", \"Rwanda\", \"Sao Tome and Principe\", \"Senegal\", \"Sierra Leone\", \"Somalia\", \"South Africa\", \"Sudan\", \"Swaziland\", \"Tanzania\", \"Togo\", \"Tunisia\", \"Uganda\", \"Zambia\", \"Zimbabwe\"], \"legendgroup\": \"Africa\", \"marker\": {\"color\": \"#00cc96\", \"size\": [10270856, 4561361, 1925173, 474639, 4713416, 2667518, 5359923, 1392284, 2894855, 170928, 15577932, 940458, 3300000, 71851, 25009741, 232922, 1542611, 22815614, 434904, 323150, 6391288, 2876726, 601095, 7454779, 813338, 975950, 1201578, 5181679, 3221238, 4241884, 1076852, 609816, 11406350, 7038035, 548080, 3692184, 37173340, 308700, 2822082, 61325, 3054547, 2295678, 2780415, 16151549, 9753392, 326741, 9452826, 1357445, 3950849, 6675501, 3016000, 3646340], \"sizemode\": \"area\", \"sizeref\": 435928.2961983471, \"symbol\": \"circle\"}, \"mode\": \"markers\", \"name\": \"Africa\", \"orientation\": \"v\", \"showlegend\": true, \"x\": [3013.976023, 3827.9404649999997, 959.6010805, 918.2325348999999, 617.1834647999999, 379.56462810000005, 1313.048099, 1190.844328, 1308.495577, 1211.1485480000001, 905.8602302999999, 2315.056572, 1500.895925, 2864.9690760000003, 1458.915272, 426.0964081, 344.16188589999996, 378.90416319999997, 4976.198099, 520.9267111, 1043.5615369999998, 576.2670245, 431.7904566000001, 944.4383152, 335.99711510000003, 620.9699901, 3448.284395, 1589.20275, 416.36980639999996, 490.3821867, 846.1202613, 2034.037981, 1642.002314, 495.5868333000001, 2621.448058, 835.5234025000001, 1100.5925630000002, 2769.451844, 540.2893982999999, 860.7369026, 1567.653006, 1004.484437, 1258.1474130000001, 5487.104219, 1770.3370739999998, 1244.708364, 698.5356073, 925.9083201999999, 1395.232468, 774.3710692000001, 1311.956766, 518.7642681], \"xaxis\": \"x\", \"y\": [45.685, 31.999000000000002, 40.358000000000004, 49.618, 34.906, 40.533, 40.428000000000004, 37.464, 39.881, 42.46, 40.652, 45.053000000000004, 42.468999999999994, 37.328, 44.443999999999996, 35.983000000000004, 38.047, 36.667, 38.999, 32.065, 44.778999999999996, 34.558, 33.489000000000004, 44.68600000000001, 45.047, 39.486, 45.288999999999994, 38.865, 37.207, 35.306999999999995, 42.338, 58.089, 45.423, 33.779, 45.226000000000006, 38.598, 37.802, 55.09, 41.5, 48.945, 39.329, 31.57, 34.977, 47.985, 39.624, 43.424, 42.974, 41.208, 47.1, 42.571000000000005, 44.077, 50.468999999999994], \"yaxis\": \"y\", \"type\": \"scatter\"}, {\"hovertemplate\": \"<b>%{hovertext}</b><br><br>continent=Americas<br>year=1957<br>gdpPercap=%{x}<br>lifeExp=%{y}<br>pop=%{marker.size}<extra></extra>\", \"hovertext\": [\"Argentina\", \"Bolivia\", \"Brazil\", \"Canada\", \"Chile\", \"Colombia\", \"Costa Rica\", \"Cuba\", \"Dominican Republic\", \"Ecuador\", \"El Salvador\", \"Guatemala\", \"Haiti\", \"Honduras\", \"Jamaica\", \"Mexico\", \"Nicaragua\", \"Panama\", \"Paraguay\", \"Peru\", \"Puerto Rico\", \"Trinidad and Tobago\", \"United States\", \"Uruguay\", \"Venezuela\"], \"legendgroup\": \"Americas\", \"marker\": {\"color\": \"#ab63fa\", \"size\": [19610538, 3211738, 65551171, 17010154, 7048426, 14485993, 1112300, 6640752, 2923186, 4058385, 2355805, 3640876, 3507701, 1770390, 1535090, 35015548, 1358828, 1063506, 1770902, 9146100, 2260000, 764900, 171984000, 2424959, 6702668], \"sizemode\": \"area\", \"sizeref\": 435928.2961983471, \"symbol\": \"circle\"}, \"mode\": \"markers\", \"name\": \"Americas\", \"orientation\": \"v\", \"showlegend\": true, \"x\": [6856.856212000001, 2127.686326, 2487.365989, 12489.95006, 4315.6227229999995, 2323.805581, 2990.010802, 6092.174359000001, 1544.402995, 3780.5466509999997, 3421.523218, 2617.155967, 1726.887882, 2220.487682, 4756.525781, 4131.546641, 3457.415947, 2961.800905, 2046.1547059999998, 4245.256697999999, 3907.1561890000003, 4100.3934, 14847.12712, 6150.772969, 9802.466526], \"xaxis\": \"x\", \"y\": [64.399, 41.89, 53.285, 69.96, 56.074, 55.118, 60.026, 62.325, 49.828, 51.356, 48.57, 44.141999999999996, 40.696, 44.665, 62.61, 55.19, 45.431999999999995, 59.201, 63.196000000000005, 46.263000000000005, 68.54, 61.8, 69.49, 67.044, 57.907], \"yaxis\": \"y\", \"type\": \"scatter\"}, {\"hovertemplate\": \"<b>%{hovertext}</b><br><br>continent=Oceania<br>year=1957<br>gdpPercap=%{x}<br>lifeExp=%{y}<br>pop=%{marker.size}<extra></extra>\", \"hovertext\": [\"Australia\", \"New Zealand\"], \"legendgroup\": \"Oceania\", \"marker\": {\"color\": \"#FFA15A\", \"size\": [9712569, 2229407], \"sizemode\": \"area\", \"sizeref\": 435928.2961983471, \"symbol\": \"circle\"}, \"mode\": \"markers\", \"name\": \"Oceania\", \"orientation\": \"v\", \"showlegend\": true, \"x\": [10949.64959, 12247.39532], \"xaxis\": \"x\", \"y\": [70.33, 70.26], \"yaxis\": \"y\", \"type\": \"scatter\"}], \"name\": \"1957\"}, {\"data\": [{\"hovertemplate\": \"<b>%{hovertext}</b><br><br>continent=Asia<br>year=1962<br>gdpPercap=%{x}<br>lifeExp=%{y}<br>pop=%{marker.size}<extra></extra>\", \"hovertext\": [\"Afghanistan\", \"Bahrain\", \"Bangladesh\", \"Cambodia\", \"China\", \"Hong Kong, China\", \"India\", \"Indonesia\", \"Iran\", \"Iraq\", \"Israel\", \"Japan\", \"Jordan\", \"Korea, Dem. Rep.\", \"Korea, Rep.\", \"Kuwait\", \"Lebanon\", \"Malaysia\", \"Mongolia\", \"Myanmar\", \"Nepal\", \"Oman\", \"Pakistan\", \"Philippines\", \"Saudi Arabia\", \"Singapore\", \"Sri Lanka\", \"Syria\", \"Taiwan\", \"Thailand\", \"Vietnam\", \"West Bank and Gaza\", \"Yemen, Rep.\"], \"legendgroup\": \"Asia\", \"marker\": {\"color\": \"#636efa\", \"size\": [10267083, 171863, 56839289, 6083619, 665770000, 3305200, 454000000, 99028000, 22874000, 7240260, 2310904, 95831757, 933559, 10917494, 26420307, 358266, 1886848, 8906385, 1010280, 23634436, 10332057, 628164, 53100671, 30325264, 4943029, 1750200, 10421936, 4834621, 11918938, 29263397, 33796140, 1133134, 6120081], \"sizemode\": \"area\", \"sizeref\": 435928.2961983471, \"symbol\": \"circle\"}, \"mode\": \"markers\", \"name\": \"Asia\", \"orientation\": \"v\", \"showlegend\": true, \"x\": [853.1007099999999, 12753.27514, 686.3415537999999, 496.9136476, 487.6740183, 4692.648271999999, 658.3471509, 849.2897700999999, 4187.329802, 8341.737815, 7105.630706, 6576.649461, 2348.009158, 1621.693598, 1536.3443869999999, 95458.11176, 5714.560611, 2036.8849440000001, 1056.353958, 388.0, 652.3968593, 2924.638113, 803.3427418, 1649.5521529999999, 11626.41975, 3674.735572, 1074.4719599999999, 2193.037133, 1822.879028, 1002.1991720000001, 772.0491602000001, 2198.9563120000003, 825.6232006], \"xaxis\": \"x\", \"y\": [31.997, 56.923, 41.216, 43.415, 44.50136, 67.65, 43.605, 42.518, 49.325, 51.457, 69.39, 68.73, 48.126000000000005, 56.656000000000006, 55.292, 60.47, 62.093999999999994, 55.736999999999995, 48.251000000000005, 45.108000000000004, 39.393, 43.165, 47.67, 54.757, 45.913999999999994, 65.798, 62.192, 50.305, 65.2, 56.06100000000001, 45.363, 48.126999999999995, 35.18], \"yaxis\": \"y\", \"type\": \"scatter\"}, {\"hovertemplate\": \"<b>%{hovertext}</b><br><br>continent=Europe<br>year=1962<br>gdpPercap=%{x}<br>lifeExp=%{y}<br>pop=%{marker.size}<extra></extra>\", \"hovertext\": [\"Albania\", \"Austria\", \"Belgium\", \"Bosnia and Herzegovina\", \"Bulgaria\", \"Croatia\", \"Czech Republic\", \"Denmark\", \"Finland\", \"France\", \"Germany\", \"Greece\", \"Hungary\", \"Iceland\", \"Ireland\", \"Italy\", \"Montenegro\", \"Netherlands\", \"Norway\", \"Poland\", \"Portugal\", \"Romania\", \"Serbia\", \"Slovak Republic\", \"Slovenia\", \"Spain\", \"Sweden\", \"Switzerland\", \"Turkey\", \"United Kingdom\"], \"legendgroup\": \"Europe\", \"marker\": {\"color\": \"#EF553B\", \"size\": [1728137, 7129864, 9218400, 3349000, 8012946, 4076557, 9620282, 4646899, 4491443, 47124000, 73739117, 8448233, 10063000, 182053, 2830000, 50843200, 474528, 11805689, 3638919, 30329617, 9019800, 18680721, 7616060, 4237384, 1582962, 31158061, 7561588, 5666000, 29788695, 53292000], \"sizemode\": \"area\", \"sizeref\": 435928.2961983471, \"symbol\": \"circle\"}, \"mode\": \"markers\", \"name\": \"Europe\", \"orientation\": \"v\", \"showlegend\": true, \"x\": [2312.888958, 10750.721109999999, 10991.20676, 1709.683679, 4254.337839, 5477.890018, 10136.86713, 13583.31351, 9371.842561, 10560.48553, 12902.46291, 6017.190732999999, 7550.359877, 10350.15906, 6631.597314, 8243.58234, 4649.593785, 12790.849559999999, 13450.40151, 5338.752143, 4727.954889, 4734.9975859999995, 6289.629157, 7481.1075980000005, 7402.303395, 5693.843879, 12329.441920000001, 20431.0927, 2322.8699079999997, 12477.17707], \"xaxis\": \"x\", \"y\": [64.82, 69.54, 70.25, 61.93, 69.51, 67.13, 69.9, 72.35, 68.75, 70.51, 70.3, 69.51, 67.96, 73.68, 70.29, 69.24, 63.728, 73.23, 73.47, 67.64, 64.39, 66.8, 64.531, 70.33, 69.15, 69.69, 73.37, 71.32, 52.098, 70.76], \"yaxis\": \"y\", \"type\": \"scatter\"}, {\"hovertemplate\": \"<b>%{hovertext}</b><br><br>continent=Africa<br>year=1962<br>gdpPercap=%{x}<br>lifeExp=%{y}<br>pop=%{marker.size}<extra></extra>\", \"hovertext\": [\"Algeria\", \"Angola\", \"Benin\", \"Botswana\", \"Burkina Faso\", \"Burundi\", \"Cameroon\", \"Central African Republic\", \"Chad\", \"Comoros\", \"Congo, Dem. Rep.\", \"Congo, Rep.\", \"Cote d'Ivoire\", \"Djibouti\", \"Egypt\", \"Equatorial Guinea\", \"Eritrea\", \"Ethiopia\", \"Gabon\", \"Gambia\", \"Ghana\", \"Guinea\", \"Guinea-Bissau\", \"Kenya\", \"Lesotho\", \"Liberia\", \"Libya\", \"Madagascar\", \"Malawi\", \"Mali\", \"Mauritania\", \"Mauritius\", \"Morocco\", \"Mozambique\", \"Namibia\", \"Niger\", \"Nigeria\", \"Reunion\", \"Rwanda\", \"Sao Tome and Principe\", \"Senegal\", \"Sierra Leone\", \"Somalia\", \"South Africa\", \"Sudan\", \"Swaziland\", \"Tanzania\", \"Togo\", \"Tunisia\", \"Uganda\", \"Zambia\", \"Zimbabwe\"], \"legendgroup\": \"Africa\", \"marker\": {\"color\": \"#00cc96\", \"size\": [11000948, 4826015, 2151895, 512764, 4919632, 2961915, 5793633, 1523478, 3150417, 191689, 17486434, 1047924, 3832408, 89898, 28173309, 249220, 1666618, 25145372, 455661, 374020, 7355248, 3140003, 627820, 8678557, 893143, 1112796, 1441863, 5703324, 3628608, 4690372, 1146757, 701016, 13056604, 7788944, 621392, 4076008, 41871351, 358900, 3051242, 65345, 3430243, 2467895, 3080153, 18356657, 11183227, 370006, 10863958, 1528098, 4286552, 7688797, 3421000, 4277736], \"sizemode\": \"area\", \"sizeref\": 435928.2961983471, \"symbol\": \"circle\"}, \"mode\": \"markers\", \"name\": \"Africa\", \"orientation\": \"v\", \"showlegend\": true, \"x\": [2550.81688, 4269.276742, 949.4990641, 983.6539764, 722.5120206, 355.2032273, 1399.607441, 1193.068753, 1389.817618, 1406.648278, 896.3146335000001, 2464.783157, 1728.8694280000002, 3020.989263, 1693.335853, 582.8419713999999, 380.99584330000005, 419.4564161, 6631.4592219999995, 599.650276, 1190.0411179999999, 686.3736739, 522.0343725, 896.9663732, 411.80062660000004, 634.1951625, 6757.0308159999995, 1643.38711, 427.90108560000004, 496.17434280000003, 1055.8960359999999, 2529.0674870000003, 1566.353493, 556.6863539, 3173.215595, 997.7661127, 1150.9274779999998, 3173.72334, 597.4730727000001, 1071.551119, 1654.988723, 1116.6398769999998, 1369.488336, 5768.729717, 1959.593767, 1856.182125, 722.0038073, 1067.5348099999999, 1660.30321, 767.2717397999999, 1452.725766, 527.2721818], \"xaxis\": \"x\", \"y\": [48.303000000000004, 34.0, 42.618, 51.52, 37.814, 42.045, 42.643, 39.475, 41.716, 44.467, 42.122, 48.435, 44.93, 39.693000000000005, 46.992, 37.485, 40.158, 40.059, 40.489000000000004, 33.896, 46.452, 35.753, 34.488, 47.949, 47.747, 40.501999999999995, 47.808, 40.848, 38.41, 36.936, 44.248000000000005, 60.246, 47.924, 36.161, 48.386, 39.486999999999995, 39.36, 57.666000000000004, 43.0, 51.893, 41.45399999999999, 32.766999999999996, 36.981, 49.951, 40.87, 44.992, 44.246, 43.922, 49.57899999999999, 45.343999999999994, 46.023, 52.358000000000004], \"yaxis\": \"y\", \"type\": \"scatter\"}, {\"hovertemplate\": \"<b>%{hovertext}</b><br><br>continent=Americas<br>year=1962<br>gdpPercap=%{x}<br>lifeExp=%{y}<br>pop=%{marker.size}<extra></extra>\", \"hovertext\": [\"Argentina\", \"Bolivia\", \"Brazil\", \"Canada\", \"Chile\", \"Colombia\", \"Costa Rica\", \"Cuba\", \"Dominican Republic\", \"Ecuador\", \"El Salvador\", \"Guatemala\", \"Haiti\", \"Honduras\", \"Jamaica\", \"Mexico\", \"Nicaragua\", \"Panama\", \"Paraguay\", \"Peru\", \"Puerto Rico\", \"Trinidad and Tobago\", \"United States\", \"Uruguay\", \"Venezuela\"], \"legendgroup\": \"Americas\", \"marker\": {\"color\": \"#ab63fa\", \"size\": [21283783, 3593918, 76039390, 18985849, 7961258, 17009885, 1345187, 7254373, 3453434, 4681707, 2747687, 4208858, 3880130, 2090162, 1665128, 41121485, 1590597, 1215725, 2009813, 10516500, 2448046, 887498, 186538000, 2598466, 8143375], \"sizemode\": \"area\", \"sizeref\": 435928.2961983471, \"symbol\": \"circle\"}, \"mode\": \"markers\", \"name\": \"Americas\", \"orientation\": \"v\", \"showlegend\": true, \"x\": [7133.166023000001, 2180.972546, 3336.585802, 13462.48555, 4519.094331, 2492.351109, 3460.937025, 5180.75591, 1662.137359, 4086.114078, 3776.8036270000002, 2750.364446, 1796.589032, 2291.1568350000002, 5246.107524, 4581.609385, 3634.364406, 3536.540301, 2148.027146, 4957.037982, 5108.34463, 4997.5239710000005, 16173.145859999999, 5603.357717, 8422.974165000001], \"xaxis\": \"x\", \"y\": [65.142, 43.428000000000004, 55.665, 71.3, 57.924, 57.863, 62.842, 65.24600000000001, 53.458999999999996, 54.64, 52.306999999999995, 46.95399999999999, 43.59, 48.041000000000004, 65.61, 58.299, 48.632, 61.817, 64.361, 49.096000000000004, 69.62, 64.9, 70.21, 68.253, 60.77], \"yaxis\": \"y\", \"type\": \"scatter\"}, {\"hovertemplate\": \"<b>%{hovertext}</b><br><br>continent=Oceania<br>year=1962<br>gdpPercap=%{x}<br>lifeExp=%{y}<br>pop=%{marker.size}<extra></extra>\", \"hovertext\": [\"Australia\", \"New Zealand\"], \"legendgroup\": \"Oceania\", \"marker\": {\"color\": \"#FFA15A\", \"size\": [10794968, 2488550], \"sizemode\": \"area\", \"sizeref\": 435928.2961983471, \"symbol\": \"circle\"}, \"mode\": \"markers\", \"name\": \"Oceania\", \"orientation\": \"v\", \"showlegend\": true, \"x\": [12217.226859999999, 13175.678], \"xaxis\": \"x\", \"y\": [70.93, 71.24], \"yaxis\": \"y\", \"type\": \"scatter\"}], \"name\": \"1962\"}, {\"data\": [{\"hovertemplate\": \"<b>%{hovertext}</b><br><br>continent=Asia<br>year=1967<br>gdpPercap=%{x}<br>lifeExp=%{y}<br>pop=%{marker.size}<extra></extra>\", \"hovertext\": [\"Afghanistan\", \"Bahrain\", \"Bangladesh\", \"Cambodia\", \"China\", \"Hong Kong, China\", \"India\", \"Indonesia\", \"Iran\", \"Iraq\", \"Israel\", \"Japan\", \"Jordan\", \"Korea, Dem. Rep.\", \"Korea, Rep.\", \"Kuwait\", \"Lebanon\", \"Malaysia\", \"Mongolia\", \"Myanmar\", \"Nepal\", \"Oman\", \"Pakistan\", \"Philippines\", \"Saudi Arabia\", \"Singapore\", \"Sri Lanka\", \"Syria\", \"Taiwan\", \"Thailand\", \"Vietnam\", \"West Bank and Gaza\", \"Yemen, Rep.\"], \"legendgroup\": \"Asia\", \"marker\": {\"color\": \"#636efa\", \"size\": [11537966, 202182, 62821884, 6960067, 754550000, 3722800, 506000000, 109343000, 26538000, 8519282, 2693585, 100825279, 1255058, 12617009, 30131000, 575003, 2186894, 10154878, 1149500, 25870271, 11261690, 714775, 60641899, 35356600, 5618198, 1977600, 11737396, 5680812, 13648692, 34024249, 39463910, 1142636, 6740785], \"sizemode\": \"area\", \"sizeref\": 435928.2961983471, \"symbol\": \"circle\"}, \"mode\": \"markers\", \"name\": \"Asia\", \"orientation\": \"v\", \"showlegend\": true, \"x\": [836.1971382, 14804.6727, 721.1860862000001, 523.4323142, 612.7056934, 6197.962814, 700.7706107000001, 762.4317721, 5906.731804999999, 8931.459811, 8393.741404, 9847.788606999999, 2741.796252, 2143.540609, 2029.2281420000002, 80894.88326, 6006.983042, 2277.742396, 1226.04113, 349.0, 676.4422254, 4720.942687, 942.4082588, 1814.12743, 16903.04886, 4977.41854, 1135.514326, 1881.923632, 2643.8586809999997, 1295.46066, 637.1232887, 2649.7150070000002, 862.4421463], \"xaxis\": \"x\", \"y\": [34.02, 59.923, 43.453, 45.415, 58.381119999999996, 70.0, 47.193000000000005, 45.964, 52.468999999999994, 54.458999999999996, 70.75, 71.43, 51.629, 59.942, 57.716, 64.624, 63.87, 59.371, 51.253, 49.379, 41.472, 46.988, 49.8, 56.393, 49.901, 67.946, 64.266, 53.655, 67.5, 58.285, 47.838, 51.631, 36.984], \"yaxis\": \"y\", \"type\": \"scatter\"}, {\"hovertemplate\": \"<b>%{hovertext}</b><br><br>continent=Europe<br>year=1967<br>gdpPercap=%{x}<br>lifeExp=%{y}<br>pop=%{marker.size}<extra></extra>\", \"hovertext\": [\"Albania\", \"Austria\", \"Belgium\", \"Bosnia and Herzegovina\", \"Bulgaria\", \"Croatia\", \"Czech Republic\", \"Denmark\", \"Finland\", \"France\", \"Germany\", \"Greece\", \"Hungary\", \"Iceland\", \"Ireland\", \"Italy\", \"Montenegro\", \"Netherlands\", \"Norway\", \"Poland\", \"Portugal\", \"Romania\", \"Serbia\", \"Slovak Republic\", \"Slovenia\", \"Spain\", \"Sweden\", \"Switzerland\", \"Turkey\", \"United Kingdom\"], \"legendgroup\": \"Europe\", \"marker\": {\"color\": \"#EF553B\", \"size\": [1984060, 7376998, 9556500, 3585000, 8310226, 4174366, 9835109, 4838800, 4605744, 49569000, 76368453, 8716441, 10223422, 198676, 2900100, 52667100, 501035, 12596822, 3786019, 31785378, 9103000, 19284814, 7971222, 4442238, 1646912, 32850275, 7867931, 6063000, 33411317, 54959000], \"sizemode\": \"area\", \"sizeref\": 435928.2961983471, \"symbol\": \"circle\"}, \"mode\": \"markers\", \"name\": \"Europe\", \"orientation\": \"v\", \"showlegend\": true, \"x\": [2760.196931, 12834.6024, 13149.04119, 2172.3524230000003, 5577.0028, 6960.297861, 11399.44489, 15937.21123, 10921.63626, 12999.91766, 14745.62561, 8513.097016, 9326.64467, 13319.89568, 7655.568963, 10022.40131, 5907.850937, 15363.25136, 16361.87647, 6557.152776, 6361.517993, 6470.866545, 7991.707066, 8412.902397, 9405.489397, 7993.512294, 15258.29697, 22966.14432, 2826.3563870000003, 14142.85089], \"xaxis\": \"x\", \"y\": [66.22, 70.14, 70.94, 64.79, 70.42, 68.5, 70.38, 72.96, 69.83, 71.55, 70.8, 71.0, 69.5, 73.73, 71.08, 71.06, 67.178, 73.82, 74.08, 69.61, 66.6, 66.8, 66.914, 70.98, 69.18, 71.44, 74.16, 72.77, 54.336000000000006, 71.36], \"yaxis\": \"y\", \"type\": \"scatter\"}, {\"hovertemplate\": \"<b>%{hovertext}</b><br><br>continent=Africa<br>year=1967<br>gdpPercap=%{x}<br>lifeExp=%{y}<br>pop=%{marker.size}<extra></extra>\", \"hovertext\": [\"Algeria\", \"Angola\", \"Benin\", \"Botswana\", \"Burkina Faso\", \"Burundi\", \"Cameroon\", \"Central African Republic\", \"Chad\", \"Comoros\", \"Congo, Dem. Rep.\", \"Congo, Rep.\", \"Cote d'Ivoire\", \"Djibouti\", \"Egypt\", \"Equatorial Guinea\", \"Eritrea\", \"Ethiopia\", \"Gabon\", \"Gambia\", \"Ghana\", \"Guinea\", \"Guinea-Bissau\", \"Kenya\", \"Lesotho\", \"Liberia\", \"Libya\", \"Madagascar\", \"Malawi\", \"Mali\", \"Mauritania\", \"Mauritius\", \"Morocco\", \"Mozambique\", \"Namibia\", \"Niger\", \"Nigeria\", \"Reunion\", \"Rwanda\", \"Sao Tome and Principe\", \"Senegal\", \"Sierra Leone\", \"Somalia\", \"South Africa\", \"Sudan\", \"Swaziland\", \"Tanzania\", \"Togo\", \"Tunisia\", \"Uganda\", \"Zambia\", \"Zimbabwe\"], \"legendgroup\": \"Africa\", \"marker\": {\"color\": \"#00cc96\", \"size\": [12760499, 5247469, 2427334, 553541, 5127935, 3330989, 6335506, 1733638, 3495967, 217378, 19941073, 1179760, 4744870, 127617, 31681188, 259864, 1820319, 27860297, 489004, 439593, 8490213, 3451418, 601287, 10191512, 996380, 1279406, 1759224, 6334556, 4147252, 5212416, 1230542, 789309, 14770296, 8680909, 706640, 4534062, 47287752, 414024, 3451079, 70787, 3965841, 2662190, 3428839, 20997321, 12716129, 420690, 12607312, 1735550, 4786986, 8900294, 3900000, 4995432], \"sizemode\": \"area\", \"sizeref\": 435928.2961983471, \"symbol\": \"circle\"}, \"mode\": \"markers\", \"name\": \"Africa\", \"orientation\": \"v\", \"showlegend\": true, \"x\": [3246.991771, 5522.776375, 1035.831411, 1214.709294, 794.8265597, 412.97751360000007, 1508.453148, 1136.056615, 1196.810565, 1876.029643, 861.5932424, 2677.9396420000003, 2052.0504730000002, 3020.0505129999997, 1814.880728, 915.5960025, 468.7949699, 516.1186438, 8358.761987, 734.7829124, 1125.69716, 708.7595409, 715.5806402000001, 1056.736457, 498.63902649999994, 713.6036482999999, 18772.75169, 1634.047282, 495.5147806, 545.0098873, 1421.145193, 2475.387562, 1711.04477, 566.6691539, 3793.694753, 1054.384891, 1014.5141039999999, 4021.1757390000002, 510.9637142, 1384.840593, 1612.404632, 1206.043465, 1284.7331800000002, 7114.477970999999, 1687.997641, 2613.1016649999997, 848.2186575, 1477.59676, 1932.3601670000003, 908.9185217, 1777.0773179999999, 569.7950712], \"xaxis\": \"x\", \"y\": [51.407, 35.985, 44.885, 53.298, 40.696999999999996, 43.548, 44.799, 41.478, 43.601000000000006, 46.472, 44.056000000000004, 52.04, 47.35, 42.074, 49.293, 38.986999999999995, 42.18899999999999, 42.115, 44.598, 35.857, 48.071999999999996, 37.196999999999996, 35.492, 50.653999999999996, 48.492, 41.536, 50.227, 42.881, 39.486999999999995, 38.486999999999995, 46.288999999999994, 61.556999999999995, 50.335, 38.113, 51.159, 40.118, 41.04, 60.542, 44.1, 54.425, 43.563, 34.113, 38.977, 51.927, 42.858000000000004, 46.633, 45.757, 46.769, 52.053000000000004, 48.051, 47.768, 53.995], \"yaxis\": \"y\", \"type\": \"scatter\"}, {\"hovertemplate\": \"<b>%{hovertext}</b><br><br>continent=Americas<br>year=1967<br>gdpPercap=%{x}<br>lifeExp=%{y}<br>pop=%{marker.size}<extra></extra>\", \"hovertext\": [\"Argentina\", \"Bolivia\", \"Brazil\", \"Canada\", \"Chile\", \"Colombia\", \"Costa Rica\", \"Cuba\", \"Dominican Republic\", \"Ecuador\", \"El Salvador\", \"Guatemala\", \"Haiti\", \"Honduras\", \"Jamaica\", \"Mexico\", \"Nicaragua\", \"Panama\", \"Paraguay\", \"Peru\", \"Puerto Rico\", \"Trinidad and Tobago\", \"United States\", \"Uruguay\", \"Venezuela\"], \"legendgroup\": \"Americas\", \"marker\": {\"color\": \"#ab63fa\", \"size\": [22934225, 4040665, 88049823, 20819767, 8858908, 19764027, 1588717, 8139332, 4049146, 5432424, 3232927, 4690773, 4318137, 2500689, 1861096, 47995559, 1865490, 1405486, 2287985, 12132200, 2648961, 960155, 198712000, 2748579, 9709552], \"sizemode\": \"area\", \"sizeref\": 435928.2961983471, \"symbol\": \"circle\"}, \"mode\": \"markers\", \"name\": \"Americas\", \"orientation\": \"v\", \"showlegend\": true, \"x\": [8052.953020999999, 2586.886053, 3429.864357, 16076.58803, 5106.654313, 2678.729839, 4161.727834, 5690.268015, 1653.7230029999998, 4579.074215, 4358.595393, 3242.5311469999997, 1452.057666, 2538.269358, 6124.703450999999, 5754.733883, 4643.393534000001, 4421.009084, 2299.376311, 5788.09333, 6929.277714, 5621.368472, 19530.365569999998, 5444.61962, 9541.474188], \"xaxis\": \"x\", \"y\": [65.634, 45.032, 57.632, 72.13, 60.523, 59.963, 65.42399999999999, 68.29, 56.751000000000005, 56.678000000000004, 55.855, 50.016000000000005, 46.243, 50.924, 67.51, 60.11, 51.88399999999999, 64.071, 64.95100000000001, 51.445, 71.1, 65.4, 70.76, 68.468, 63.479], \"yaxis\": \"y\", \"type\": \"scatter\"}, {\"hovertemplate\": \"<b>%{hovertext}</b><br><br>continent=Oceania<br>year=1967<br>gdpPercap=%{x}<br>lifeExp=%{y}<br>pop=%{marker.size}<extra></extra>\", \"hovertext\": [\"Australia\", \"New Zealand\"], \"legendgroup\": \"Oceania\", \"marker\": {\"color\": \"#FFA15A\", \"size\": [11872264, 2728150], \"sizemode\": \"area\", \"sizeref\": 435928.2961983471, \"symbol\": \"circle\"}, \"mode\": \"markers\", \"name\": \"Oceania\", \"orientation\": \"v\", \"showlegend\": true, \"x\": [14526.12465, 14463.918930000002], \"xaxis\": \"x\", \"y\": [71.1, 71.52], \"yaxis\": \"y\", \"type\": \"scatter\"}], \"name\": \"1967\"}, {\"data\": [{\"hovertemplate\": \"<b>%{hovertext}</b><br><br>continent=Asia<br>year=1972<br>gdpPercap=%{x}<br>lifeExp=%{y}<br>pop=%{marker.size}<extra></extra>\", \"hovertext\": [\"Afghanistan\", \"Bahrain\", \"Bangladesh\", \"Cambodia\", \"China\", \"Hong Kong, China\", \"India\", \"Indonesia\", \"Iran\", \"Iraq\", \"Israel\", \"Japan\", \"Jordan\", \"Korea, Dem. Rep.\", \"Korea, Rep.\", \"Kuwait\", \"Lebanon\", \"Malaysia\", \"Mongolia\", \"Myanmar\", \"Nepal\", \"Oman\", \"Pakistan\", \"Philippines\", \"Saudi Arabia\", \"Singapore\", \"Sri Lanka\", \"Syria\", \"Taiwan\", \"Thailand\", \"Vietnam\", \"West Bank and Gaza\", \"Yemen, Rep.\"], \"legendgroup\": \"Asia\", \"marker\": {\"color\": \"#636efa\", \"size\": [13079460, 230800, 70759295, 7450606, 862030000, 4115700, 567000000, 121282000, 30614000, 10061506, 3095893, 107188273, 1613551, 14781241, 33505000, 841934, 2680018, 11441462, 1320500, 28466390, 12412593, 829050, 69325921, 40850141, 6472756, 2152400, 13016733, 6701172, 15226039, 39276153, 44655014, 1089572, 7407075], \"sizemode\": \"area\", \"sizeref\": 435928.2961983471, \"symbol\": \"circle\"}, \"mode\": \"markers\", \"name\": \"Asia\", \"orientation\": \"v\", \"showlegend\": true, \"x\": [739.9811057999999, 18268.65839, 630.2336265, 421.6240257, 676.9000921, 8315.928145, 724.032527, 1111.107907, 9613.818607, 9576.037596, 12786.93223, 14778.78636, 2110.856309, 3701.6215030000003, 3030.87665, 109347.867, 7486.384341, 2849.09478, 1421.741975, 357.0, 674.7881296, 10618.03855, 1049.938981, 1989.3740699999998, 24837.42865, 8597.756202, 1213.39553, 2571.423014, 4062.523897, 1524.3589359999999, 699.5016441, 3133.4092769999997, 1265.047031], \"xaxis\": \"x\", \"y\": [36.088, 63.3, 45.251999999999995, 40.317, 63.118880000000004, 72.0, 50.651, 49.203, 55.233999999999995, 56.95, 71.63, 73.42, 56.528, 63.983000000000004, 62.611999999999995, 67.712, 65.421, 63.01, 53.754, 53.07, 43.971000000000004, 52.143, 51.928999999999995, 58.065, 53.886, 69.521, 65.042, 57.29600000000001, 69.39, 60.405, 50.254, 56.532, 39.848], \"yaxis\": \"y\", \"type\": \"scatter\"}, {\"hovertemplate\": \"<b>%{hovertext}</b><br><br>continent=Europe<br>year=1972<br>gdpPercap=%{x}<br>lifeExp=%{y}<br>pop=%{marker.size}<extra></extra>\", \"hovertext\": [\"Albania\", \"Austria\", \"Belgium\", \"Bosnia and Herzegovina\", \"Bulgaria\", \"Croatia\", \"Czech Republic\", \"Denmark\", \"Finland\", \"France\", \"Germany\", \"Greece\", \"Hungary\", \"Iceland\", \"Ireland\", \"Italy\", \"Montenegro\", \"Netherlands\", \"Norway\", \"Poland\", \"Portugal\", \"Romania\", \"Serbia\", \"Slovak Republic\", \"Slovenia\", \"Spain\", \"Sweden\", \"Switzerland\", \"Turkey\", \"United Kingdom\"], \"legendgroup\": \"Europe\", \"marker\": {\"color\": \"#EF553B\", \"size\": [2263554, 7544201, 9709100, 3819000, 8576200, 4225310, 9862158, 4991596, 4639657, 51732000, 78717088, 8888628, 10394091, 209275, 3024400, 54365564, 527678, 13329874, 3933004, 33039545, 8970450, 20662648, 8313288, 4593433, 1694510, 34513161, 8122293, 6401400, 37492953, 56079000], \"sizemode\": \"area\", \"sizeref\": 435928.2961983471, \"symbol\": \"circle\"}, \"mode\": \"markers\", \"name\": \"Europe\", \"orientation\": \"v\", \"showlegend\": true, \"x\": [3313.422188, 16661.6256, 16672.14356, 2860.16975, 6597.494398, 9164.090127, 13108.4536, 18866.20721, 14358.8759, 16107.19171, 18016.180269999997, 12724.82957, 10168.65611, 15798.063619999999, 9530.772895999999, 12269.27378, 7778.414017, 18794.74567, 18965.05551, 8006.506993000001, 9022.247417, 8011.414401999999, 10522.067490000001, 9674.167626, 12383.4862, 10638.75131, 17832.02464, 27195.113039999997, 3450.69638, 15895.116409999999], \"xaxis\": \"x\", \"y\": [67.69, 70.63, 71.44, 67.45, 70.9, 69.61, 70.29, 73.47, 70.87, 72.38, 71.0, 72.34, 69.76, 74.46, 71.28, 72.19, 70.63600000000001, 73.75, 74.34, 70.85, 69.26, 69.21, 68.7, 70.35, 69.82, 73.06, 74.72, 73.78, 57.005, 72.01], \"yaxis\": \"y\", \"type\": \"scatter\"}, {\"hovertemplate\": \"<b>%{hovertext}</b><br><br>continent=Africa<br>year=1972<br>gdpPercap=%{x}<br>lifeExp=%{y}<br>pop=%{marker.size}<extra></extra>\", \"hovertext\": [\"Algeria\", \"Angola\", \"Benin\", \"Botswana\", \"Burkina Faso\", \"Burundi\", \"Cameroon\", \"Central African Republic\", \"Chad\", \"Comoros\", \"Congo, Dem. Rep.\", \"Congo, Rep.\", \"Cote d'Ivoire\", \"Djibouti\", \"Egypt\", \"Equatorial Guinea\", \"Eritrea\", \"Ethiopia\", \"Gabon\", \"Gambia\", \"Ghana\", \"Guinea\", \"Guinea-Bissau\", \"Kenya\", \"Lesotho\", \"Liberia\", \"Libya\", \"Madagascar\", \"Malawi\", \"Mali\", \"Mauritania\", \"Mauritius\", \"Morocco\", \"Mozambique\", \"Namibia\", \"Niger\", \"Nigeria\", \"Reunion\", \"Rwanda\", \"Sao Tome and Principe\", \"Senegal\", \"Sierra Leone\", \"Somalia\", \"South Africa\", \"Sudan\", \"Swaziland\", \"Tanzania\", \"Togo\", \"Tunisia\", \"Uganda\", \"Zambia\", \"Zimbabwe\"], \"legendgroup\": \"Africa\", \"marker\": {\"color\": \"#00cc96\", \"size\": [14760787, 5894858, 2761407, 619351, 5433886, 3529983, 7021028, 1927260, 3899068, 250027, 23007669, 1340458, 6071696, 178848, 34807417, 277603, 2260187, 30770372, 537977, 517101, 9354120, 3811387, 625361, 12044785, 1116779, 1482628, 2183877, 7082430, 4730997, 5828158, 1332786, 851334, 16660670, 9809596, 821782, 5060262, 53740085, 461633, 3992121, 76595, 4588696, 2879013, 3840161, 23935810, 14597019, 480105, 14706593, 2056351, 5303507, 10190285, 4506497, 5861135], \"sizemode\": \"area\", \"sizeref\": 435928.2961983471, \"symbol\": \"circle\"}, \"mode\": \"markers\", \"name\": \"Africa\", \"orientation\": \"v\", \"showlegend\": true, \"x\": [4182.663766, 5473.288004999999, 1085.796879, 2263.6111140000003, 854.7359763000001, 464.0995039, 1684.1465280000002, 1070.013275, 1104.103987, 1937.577675, 904.8960685000001, 3213.152683, 2378.201111, 3694.2123520000005, 2024.0081469999998, 672.4122571, 514.3242081999999, 566.2439442000001, 11401.948409999999, 756.0868363, 1178.223708, 741.6662307, 820.2245876000001, 1222.359968, 496.58159220000005, 803.0054535, 21011.497209999998, 1748.562982, 584.6219709, 581.3688761, 1586.851781, 2575.4841579999998, 1930.194975, 724.9178037, 3746.080948, 954.2092363, 1698.3888379999999, 5047.658563, 590.5806637999999, 1532.985254, 1597.712056, 1353.759762, 1254.576127, 7765.962636, 1659.652775, 3364.836625, 915.9850592, 1649.660188, 2753.2859940000003, 950.735869, 1773.498265, 799.3621757999999], \"xaxis\": \"x\", \"y\": [54.518, 37.928000000000004, 47.013999999999996, 56.023999999999994, 43.591, 44.056999999999995, 47.049, 43.457, 45.568999999999996, 48.943999999999996, 45.989, 54.907, 49.801, 44.36600000000001, 51.137, 40.516, 44.141999999999996, 43.515, 48.69, 38.308, 49.875, 38.842, 36.486, 53.559, 49.766999999999996, 42.614, 52.773, 44.851000000000006, 41.766000000000005, 39.977, 48.437, 62.943999999999996, 52.861999999999995, 40.328, 53.867, 40.546, 42.821000000000005, 64.274, 44.6, 56.48, 45.815, 35.4, 40.973, 53.696000000000005, 45.083, 49.552, 47.62, 49.75899999999999, 55.602, 51.016000000000005, 50.107, 55.635], \"yaxis\": \"y\", \"type\": \"scatter\"}, {\"hovertemplate\": \"<b>%{hovertext}</b><br><br>continent=Americas<br>year=1972<br>gdpPercap=%{x}<br>lifeExp=%{y}<br>pop=%{marker.size}<extra></extra>\", \"hovertext\": [\"Argentina\", \"Bolivia\", \"Brazil\", \"Canada\", \"Chile\", \"Colombia\", \"Costa Rica\", \"Cuba\", \"Dominican Republic\", \"Ecuador\", \"El Salvador\", \"Guatemala\", \"Haiti\", \"Honduras\", \"Jamaica\", \"Mexico\", \"Nicaragua\", \"Panama\", \"Paraguay\", \"Peru\", \"Puerto Rico\", \"Trinidad and Tobago\", \"United States\", \"Uruguay\", \"Venezuela\"], \"legendgroup\": \"Americas\", \"marker\": {\"color\": \"#ab63fa\", \"size\": [24779799, 4565872, 100840058, 22284500, 9717524, 22542890, 1834796, 8831348, 4671329, 6298651, 3790903, 5149581, 4698301, 2965146, 1997616, 55984294, 2182908, 1616384, 2614104, 13954700, 2847132, 975199, 209896000, 2829526, 11515649], \"sizemode\": \"area\", \"sizeref\": 435928.2961983471, \"symbol\": \"circle\"}, \"mode\": \"markers\", \"name\": \"Americas\", \"orientation\": \"v\", \"showlegend\": true, \"x\": [9443.038526, 2980.331339, 4985.711467, 18970.57086, 5494.024437, 3264.660041, 5118.146939, 5305.445256, 2189.874499, 5280.99471, 4520.246008, 4031.4082710000002, 1654.456946, 2529.842345, 7433.889293000001, 6809.406690000001, 4688.593267, 5364.2496630000005, 2523.337977, 5937.827283, 9123.041742, 6619.551418999999, 21806.03594, 5703.408898, 10505.25966], \"xaxis\": \"x\", \"y\": [67.065, 46.714, 59.504, 72.88, 63.441, 61.623000000000005, 67.84899999999999, 70.723, 59.631, 58.79600000000001, 58.207, 53.738, 48.042, 53.88399999999999, 69.0, 62.361000000000004, 55.151, 66.21600000000001, 65.815, 55.448, 72.16, 65.9, 71.34, 68.673, 65.712], \"yaxis\": \"y\", \"type\": \"scatter\"}, {\"hovertemplate\": \"<b>%{hovertext}</b><br><br>continent=Oceania<br>year=1972<br>gdpPercap=%{x}<br>lifeExp=%{y}<br>pop=%{marker.size}<extra></extra>\", \"hovertext\": [\"Australia\", \"New Zealand\"], \"legendgroup\": \"Oceania\", \"marker\": {\"color\": \"#FFA15A\", \"size\": [13177000, 2929100], \"sizemode\": \"area\", \"sizeref\": 435928.2961983471, \"symbol\": \"circle\"}, \"mode\": \"markers\", \"name\": \"Oceania\", \"orientation\": \"v\", \"showlegend\": true, \"x\": [16788.62948, 16046.03728], \"xaxis\": \"x\", \"y\": [71.93, 71.89], \"yaxis\": \"y\", \"type\": \"scatter\"}], \"name\": \"1972\"}, {\"data\": [{\"hovertemplate\": \"<b>%{hovertext}</b><br><br>continent=Asia<br>year=1977<br>gdpPercap=%{x}<br>lifeExp=%{y}<br>pop=%{marker.size}<extra></extra>\", \"hovertext\": [\"Afghanistan\", \"Bahrain\", \"Bangladesh\", \"Cambodia\", \"China\", \"Hong Kong, China\", \"India\", \"Indonesia\", \"Iran\", \"Iraq\", \"Israel\", \"Japan\", \"Jordan\", \"Korea, Dem. Rep.\", \"Korea, Rep.\", \"Kuwait\", \"Lebanon\", \"Malaysia\", \"Mongolia\", \"Myanmar\", \"Nepal\", \"Oman\", \"Pakistan\", \"Philippines\", \"Saudi Arabia\", \"Singapore\", \"Sri Lanka\", \"Syria\", \"Taiwan\", \"Thailand\", \"Vietnam\", \"West Bank and Gaza\", \"Yemen, Rep.\"], \"legendgroup\": \"Asia\", \"marker\": {\"color\": \"#636efa\", \"size\": [14880372, 297410, 80428306, 6978607, 943455000, 4583700, 634000000, 136725000, 35480679, 11882916, 3495918, 113872473, 1937652, 16325320, 36436000, 1140357, 3115787, 12845381, 1528000, 31528087, 13933198, 1004533, 78152686, 46850962, 8128505, 2325300, 14116836, 7932503, 16785196, 44148285, 50533506, 1261091, 8403990], \"sizemode\": \"area\", \"sizeref\": 435928.2961983471, \"symbol\": \"circle\"}, \"mode\": \"markers\", \"name\": \"Asia\", \"orientation\": \"v\", \"showlegend\": true, \"x\": [786.11336, 19340.10196, 659.8772322000001, 524.9721831999999, 741.2374699, 11186.14125, 813.3373230000001, 1382.702056, 11888.59508, 14688.235069999999, 13306.619209999999, 16610.37701, 2852.351568, 4106.301249, 4657.22102, 59265.477139999995, 8659.696836, 3827.9215710000003, 1647.511665, 371.0, 694.1124398, 11848.343920000001, 1175.921193, 2373.204287, 34167.7626, 11210.08948, 1348.775651, 3195.484582, 5596.519826, 1961.2246350000003, 713.5371196000001, 3682.8314939999996, 1829.765177], \"xaxis\": \"x\", \"y\": [38.438, 65.593, 46.923, 31.22, 63.96736, 73.6, 54.208, 52.702, 57.702, 60.413000000000004, 73.06, 75.38, 61.13399999999999, 67.15899999999999, 64.766, 69.343, 66.09899999999999, 65.256, 55.49100000000001, 56.059, 46.748000000000005, 57.367, 54.043, 60.06, 58.69, 70.795, 65.949, 61.195, 70.59, 62.494, 55.763999999999996, 60.765, 44.175], \"yaxis\": \"y\", \"type\": \"scatter\"}, {\"hovertemplate\": \"<b>%{hovertext}</b><br><br>continent=Europe<br>year=1977<br>gdpPercap=%{x}<br>lifeExp=%{y}<br>pop=%{marker.size}<extra></extra>\", \"hovertext\": [\"Albania\", \"Austria\", \"Belgium\", \"Bosnia and Herzegovina\", \"Bulgaria\", \"Croatia\", \"Czech Republic\", \"Denmark\", \"Finland\", \"France\", \"Germany\", \"Greece\", \"Hungary\", \"Iceland\", \"Ireland\", \"Italy\", \"Montenegro\", \"Netherlands\", \"Norway\", \"Poland\", \"Portugal\", \"Romania\", \"Serbia\", \"Slovak Republic\", \"Slovenia\", \"Spain\", \"Sweden\", \"Switzerland\", \"Turkey\", \"United Kingdom\"], \"legendgroup\": \"Europe\", \"marker\": {\"color\": \"#EF553B\", \"size\": [2509048, 7568430, 9821800, 4086000, 8797022, 4318673, 10161915, 5088419, 4738902, 53165019, 78160773, 9308479, 10637171, 221823, 3271900, 56059245, 560073, 13852989, 4043205, 34621254, 9662600, 21658597, 8686367, 4827803, 1746919, 36439000, 8251648, 6316424, 42404033, 56179000], \"sizemode\": \"area\", \"sizeref\": 435928.2961983471, \"symbol\": \"circle\"}, \"mode\": \"markers\", \"name\": \"Europe\", \"orientation\": \"v\", \"showlegend\": true, \"x\": [3533.0039100000004, 19749.4223, 19117.97448, 3528.481305, 7612.240438, 11305.38517, 14800.160619999999, 20422.9015, 15605.422830000001, 18292.635140000002, 20512.92123, 14195.524280000001, 11674.837370000001, 19654.96247, 11150.98113, 14255.98475, 9595.929904999999, 21209.0592, 23311.34939, 9508.141454, 10172.48572, 9356.39724, 12980.66956, 10922.664040000001, 15277.030169999998, 13236.92117, 18855.72521, 26982.29052, 4269.122326, 17428.74846], \"xaxis\": \"x\", \"y\": [68.93, 72.17, 72.8, 69.86, 70.81, 70.64, 70.71, 74.69, 72.52, 73.83, 72.5, 73.68, 69.95, 76.11, 72.03, 73.48, 73.066, 75.24, 75.37, 70.67, 70.41, 69.46, 70.3, 70.45, 70.97, 74.39, 75.44, 75.39, 59.507, 72.76], \"yaxis\": \"y\", \"type\": \"scatter\"}, {\"hovertemplate\": \"<b>%{hovertext}</b><br><br>continent=Africa<br>year=1977<br>gdpPercap=%{x}<br>lifeExp=%{y}<br>pop=%{marker.size}<extra></extra>\", \"hovertext\": [\"Algeria\", \"Angola\", \"Benin\", \"Botswana\", \"Burkina Faso\", \"Burundi\", \"Cameroon\", \"Central African Republic\", \"Chad\", \"Comoros\", \"Congo, Dem. Rep.\", \"Congo, Rep.\", \"Cote d'Ivoire\", \"Djibouti\", \"Egypt\", \"Equatorial Guinea\", \"Eritrea\", \"Ethiopia\", \"Gabon\", \"Gambia\", \"Ghana\", \"Guinea\", \"Guinea-Bissau\", \"Kenya\", \"Lesotho\", \"Liberia\", \"Libya\", \"Madagascar\", \"Malawi\", \"Mali\", \"Mauritania\", \"Mauritius\", \"Morocco\", \"Mozambique\", \"Namibia\", \"Niger\", \"Nigeria\", \"Reunion\", \"Rwanda\", \"Sao Tome and Principe\", \"Senegal\", \"Sierra Leone\", \"Somalia\", \"South Africa\", \"Sudan\", \"Swaziland\", \"Tanzania\", \"Togo\", \"Tunisia\", \"Uganda\", \"Zambia\", \"Zimbabwe\"], \"legendgroup\": \"Africa\", \"marker\": {\"color\": \"#00cc96\", \"size\": [17152804, 6162675, 3168267, 781472, 5889574, 3834415, 7959865, 2167533, 4388260, 304739, 26480870, 1536769, 7459574, 228694, 38783863, 192675, 2512642, 34617799, 706367, 608274, 10538093, 4227026, 745228, 14500404, 1251524, 1703617, 2721783, 8007166, 5637246, 6491649, 1456688, 913025, 18396941, 11127868, 977026, 5682086, 62209173, 492095, 4657072, 86796, 5260855, 3140897, 4353666, 27129932, 17104986, 551425, 17129565, 2308582, 6005061, 11457758, 5216550, 6642107], \"sizemode\": \"area\", \"sizeref\": 435928.2961983471, \"symbol\": \"circle\"}, \"mode\": \"markers\", \"name\": \"Africa\", \"orientation\": \"v\", \"showlegend\": true, \"x\": [4910.4167560000005, 3008.647355, 1029.161251, 3214.857818, 743.3870368, 556.1032651, 1783.432873, 1109.374338, 1133.98495, 1172.603047, 795.757282, 3259.178978, 2517.736547, 3081.7610219999997, 2785.493582, 958.5668124, 505.7538077, 556.8083834, 21745.57328, 884.7552507000001, 993.2239571, 874.6858642999999, 764.7259627999999, 1267.613204, 745.3695408, 640.3224382999999, 21951.21176, 1544.228586, 663.2236766, 686.3952693, 1497.492223, 3710.9829630000004, 2370.619976, 502.31973339999996, 3876.4859579999998, 808.8970727999999, 1981.9518059999998, 4319.804067, 670.0806011, 1737.561657, 1561.769116, 1348.285159, 1450.9925130000001, 8028.651439, 2202.9884230000002, 3781.410618, 962.4922932, 1532.776998, 3120.876811, 843.7331372000001, 1588.688299, 685.5876821], \"xaxis\": \"x\", \"y\": [58.013999999999996, 39.483000000000004, 49.19, 59.318999999999996, 46.137, 45.91, 49.355, 46.775, 47.383, 50.93899999999999, 47.803999999999995, 55.625, 52.373999999999995, 46.519, 53.318999999999996, 42.023999999999994, 44.535, 44.51, 52.79, 41.842, 51.756, 40.762, 37.465, 56.155, 52.208, 43.763999999999996, 57.442, 46.881, 43.766999999999996, 41.714, 50.852, 64.93, 55.73, 42.495, 56.437, 41.291000000000004, 44.513999999999996, 67.064, 45.0, 58.55, 48.879, 36.788000000000004, 41.974, 55.527, 47.8, 52.537, 49.919, 52.887, 59.836999999999996, 50.35, 51.386, 57.674], \"yaxis\": \"y\", \"type\": \"scatter\"}, {\"hovertemplate\": \"<b>%{hovertext}</b><br><br>continent=Americas<br>year=1977<br>gdpPercap=%{x}<br>lifeExp=%{y}<br>pop=%{marker.size}<extra></extra>\", \"hovertext\": [\"Argentina\", \"Bolivia\", \"Brazil\", \"Canada\", \"Chile\", \"Colombia\", \"Costa Rica\", \"Cuba\", \"Dominican Republic\", \"Ecuador\", \"El Salvador\", \"Guatemala\", \"Haiti\", \"Honduras\", \"Jamaica\", \"Mexico\", \"Nicaragua\", \"Panama\", \"Paraguay\", \"Peru\", \"Puerto Rico\", \"Trinidad and Tobago\", \"United States\", \"Uruguay\", \"Venezuela\"], \"legendgroup\": \"Americas\", \"marker\": {\"color\": \"#ab63fa\", \"size\": [26983828, 5079716, 114313951, 23796400, 10599793, 25094412, 2108457, 9537988, 5302800, 7278866, 4282586, 5703430, 4908554, 3055235, 2156814, 63759976, 2554598, 1839782, 2984494, 15990099, 3080828, 1039009, 220239000, 2873520, 13503563], \"sizemode\": \"area\", \"sizeref\": 435928.2961983471, \"symbol\": \"circle\"}, \"mode\": \"markers\", \"name\": \"Americas\", \"orientation\": \"v\", \"showlegend\": true, \"x\": [10079.026740000001, 3548.097832, 6660.118654, 22090.88306, 4756.763836, 3815.80787, 5926.876967, 6380.494965999999, 2681.9889, 6679.62326, 5138.922374, 4879.992748, 1874.2989309999998, 3203.208066, 6650.195573, 7674.929108, 5486.371089, 5351.912144, 3248.373311, 6281.290854999999, 9770.524921, 7899.554209000001, 24072.63213, 6504.339663000001, 13143.95095], \"xaxis\": \"x\", \"y\": [68.48100000000001, 50.023, 61.489, 74.21, 67.05199999999999, 63.836999999999996, 70.75, 72.649, 61.788000000000004, 61.31, 56.696000000000005, 56.028999999999996, 49.923, 57.402, 70.11, 65.032, 57.47, 68.681, 66.35300000000001, 58.446999999999996, 73.44, 68.3, 73.38, 69.48100000000001, 67.456], \"yaxis\": \"y\", \"type\": \"scatter\"}, {\"hovertemplate\": \"<b>%{hovertext}</b><br><br>continent=Oceania<br>year=1977<br>gdpPercap=%{x}<br>lifeExp=%{y}<br>pop=%{marker.size}<extra></extra>\", \"hovertext\": [\"Australia\", \"New Zealand\"], \"legendgroup\": \"Oceania\", \"marker\": {\"color\": \"#FFA15A\", \"size\": [14074100, 3164900], \"sizemode\": \"area\", \"sizeref\": 435928.2961983471, \"symbol\": \"circle\"}, \"mode\": \"markers\", \"name\": \"Oceania\", \"orientation\": \"v\", \"showlegend\": true, \"x\": [18334.197509999998, 16233.7177], \"xaxis\": \"x\", \"y\": [73.49, 72.22], \"yaxis\": \"y\", \"type\": \"scatter\"}], \"name\": \"1977\"}, {\"data\": [{\"hovertemplate\": \"<b>%{hovertext}</b><br><br>continent=Asia<br>year=1982<br>gdpPercap=%{x}<br>lifeExp=%{y}<br>pop=%{marker.size}<extra></extra>\", \"hovertext\": [\"Afghanistan\", \"Bahrain\", \"Bangladesh\", \"Cambodia\", \"China\", \"Hong Kong, China\", \"India\", \"Indonesia\", \"Iran\", \"Iraq\", \"Israel\", \"Japan\", \"Jordan\", \"Korea, Dem. Rep.\", \"Korea, Rep.\", \"Kuwait\", \"Lebanon\", \"Malaysia\", \"Mongolia\", \"Myanmar\", \"Nepal\", \"Oman\", \"Pakistan\", \"Philippines\", \"Saudi Arabia\", \"Singapore\", \"Sri Lanka\", \"Syria\", \"Taiwan\", \"Thailand\", \"Vietnam\", \"West Bank and Gaza\", \"Yemen, Rep.\"], \"legendgroup\": \"Asia\", \"marker\": {\"color\": \"#636efa\", \"size\": [12881816, 377967, 93074406, 7272485, 1000281000, 5264500, 708000000, 153343000, 43072751, 14173318, 3858421, 118454974, 2347031, 17647518, 39326000, 1497494, 3086876, 14441916, 1756032, 34680442, 15796314, 1301048, 91462088, 53456774, 11254672, 2651869, 15410151, 9410494, 18501390, 48827160, 56142181, 1425876, 9657618], \"sizemode\": \"area\", \"sizeref\": 435928.2961983471, \"symbol\": \"circle\"}, \"mode\": \"markers\", \"name\": \"Asia\", \"orientation\": \"v\", \"showlegend\": true, \"x\": [978.0114388000001, 19211.14731, 676.9818656, 624.4754784, 962.4213804999999, 14560.530509999999, 855.7235377000001, 1516.872988, 7608.334602, 14517.90711, 15367.0292, 19384.10571, 4161.415959, 4106.525293, 5622.942464, 31354.03573, 7640.519520999999, 4920.355951, 2000.603139, 424.0, 718.3730947, 12954.791009999999, 1443.429832, 2603.273765, 33693.17525, 15169.161119999999, 1648.0797890000001, 3761.8377149999997, 7426.354773999999, 2393.219781, 707.2357863, 4336.032082, 1977.5570100000002], \"xaxis\": \"x\", \"y\": [39.854, 69.05199999999999, 50.00899999999999, 50.957, 65.525, 75.45, 56.596000000000004, 56.159, 59.62, 62.038000000000004, 74.45, 77.11, 63.739, 69.1, 67.123, 71.309, 66.983, 68.0, 57.489, 58.056000000000004, 49.593999999999994, 62.728, 56.158, 62.082, 63.012, 71.76, 68.757, 64.59, 72.16, 64.597, 58.816, 64.406, 49.113], \"yaxis\": \"y\", \"type\": \"scatter\"}, {\"hovertemplate\": \"<b>%{hovertext}</b><br><br>continent=Europe<br>year=1982<br>gdpPercap=%{x}<br>lifeExp=%{y}<br>pop=%{marker.size}<extra></extra>\", \"hovertext\": [\"Albania\", \"Austria\", \"Belgium\", \"Bosnia and Herzegovina\", \"Bulgaria\", \"Croatia\", \"Czech Republic\", \"Denmark\", \"Finland\", \"France\", \"Germany\", \"Greece\", \"Hungary\", \"Iceland\", \"Ireland\", \"Italy\", \"Montenegro\", \"Netherlands\", \"Norway\", \"Poland\", \"Portugal\", \"Romania\", \"Serbia\", \"Slovak Republic\", \"Slovenia\", \"Spain\", \"Sweden\", \"Switzerland\", \"Turkey\", \"United Kingdom\"], \"legendgroup\": \"Europe\", \"marker\": {\"color\": \"#EF553B\", \"size\": [2780097, 7574613, 9856303, 4172693, 8892098, 4413368, 10303704, 5117810, 4826933, 54433565, 78335266, 9786480, 10705535, 233997, 3480000, 56535636, 562548, 14310401, 4114787, 36227381, 9859650, 22356726, 9032824, 5048043, 1861252, 37983310, 8325260, 6468126, 47328791, 56339704], \"sizemode\": \"area\", \"sizeref\": 435928.2961983471, \"symbol\": \"circle\"}, \"mode\": \"markers\", \"name\": \"Europe\", \"orientation\": \"v\", \"showlegend\": true, \"x\": [3630.880722, 21597.083619999998, 20979.84589, 4126.613157, 8224.191647, 13221.82184, 15377.22855, 21688.04048, 18533.15761, 20293.89746, 22031.532740000002, 15268.420890000001, 12545.99066, 23269.6075, 12618.321409999999, 16537.4835, 11222.58762, 21399.46046, 26298.635309999998, 8451.531004, 11753.84291, 9605.314053, 15181.0927, 11348.54585, 17866.72175, 13926.169969999999, 20667.38125, 28397.715119999997, 4241.356344, 18232.42452], \"xaxis\": \"x\", \"y\": [70.42, 73.18, 73.93, 70.69, 71.08, 70.46, 70.96, 74.63, 74.55, 74.89, 73.8, 75.24, 69.39, 76.99, 73.1, 74.98, 74.101, 76.05, 75.97, 71.32, 72.77, 69.66, 70.16199999999999, 70.8, 71.063, 76.3, 76.42, 76.21, 61.036, 74.04], \"yaxis\": \"y\", \"type\": \"scatter\"}, {\"hovertemplate\": \"<b>%{hovertext}</b><br><br>continent=Africa<br>year=1982<br>gdpPercap=%{x}<br>lifeExp=%{y}<br>pop=%{marker.size}<extra></extra>\", \"hovertext\": [\"Algeria\", \"Angola\", \"Benin\", \"Botswana\", \"Burkina Faso\", \"Burundi\", \"Cameroon\", \"Central African Republic\", \"Chad\", \"Comoros\", \"Congo, Dem. Rep.\", \"Congo, Rep.\", \"Cote d'Ivoire\", \"Djibouti\", \"Egypt\", \"Equatorial Guinea\", \"Eritrea\", \"Ethiopia\", \"Gabon\", \"Gambia\", \"Ghana\", \"Guinea\", \"Guinea-Bissau\", \"Kenya\", \"Lesotho\", \"Liberia\", \"Libya\", \"Madagascar\", \"Malawi\", \"Mali\", \"Mauritania\", \"Mauritius\", \"Morocco\", \"Mozambique\", \"Namibia\", \"Niger\", \"Nigeria\", \"Reunion\", \"Rwanda\", \"Sao Tome and Principe\", \"Senegal\", \"Sierra Leone\", \"Somalia\", \"South Africa\", \"Sudan\", \"Swaziland\", \"Tanzania\", \"Togo\", \"Tunisia\", \"Uganda\", \"Zambia\", \"Zimbabwe\"], \"legendgroup\": \"Africa\", \"marker\": {\"color\": \"#00cc96\", \"size\": [20033753, 7016384, 3641603, 970347, 6634596, 4580410, 9250831, 2476971, 4875118, 348643, 30646495, 1774735, 9025951, 305991, 45681811, 285483, 2637297, 38111756, 753874, 715523, 11400338, 4710497, 825987, 17661452, 1411807, 1956875, 3344074, 9171477, 6502825, 6998256, 1622136, 992040, 20198730, 12587223, 1099010, 6437188, 73039376, 517810, 5507565, 98593, 6147783, 3464522, 5828892, 31140029, 20367053, 649901, 19844382, 2644765, 6734098, 12939400, 6100407, 7636524], \"sizemode\": \"area\", \"sizeref\": 435928.2961983471, \"symbol\": \"circle\"}, \"mode\": \"markers\", \"name\": \"Africa\", \"orientation\": \"v\", \"showlegend\": true, \"x\": [5745.160213, 2756.953672, 1277.897616, 4551.14215, 807.1985855, 559.6032309999999, 2367.983282, 956.7529906999999, 797.9081006, 1267.100083, 673.7478181, 4879.507522, 2602.710169, 2879.4680670000002, 3503.729636, 927.8253427000001, 524.8758493, 577.8607471, 15113.36194, 835.8096107999999, 876.032569, 857.2503577, 838.1239671, 1348.225791, 797.2631074, 572.1995694, 17364.275380000003, 1302.878658, 632.8039209, 618.0140640999999, 1481.150189, 3688.037739, 2702.620356, 462.2114149, 4191.100511, 909.7221354000001, 1576.97375, 5267.219353, 881.5706467, 1890.2181170000001, 1518.479984, 1465.010784, 1176.807031, 8568.266228, 1895.544073, 3895.384018, 874.2426069, 1344.577953, 3560.2331740000004, 682.2662267999999, 1408.678565, 788.8550411], \"xaxis\": \"x\", \"y\": [61.368, 39.942, 50.903999999999996, 61.483999999999995, 48.122, 47.471000000000004, 52.961000000000006, 48.295, 49.516999999999996, 52.933, 47.784, 56.695, 53.983000000000004, 48.812, 56.006, 43.662, 43.89, 44.916000000000004, 56.56399999999999, 45.58, 53.744, 42.891000000000005, 39.327, 58.766000000000005, 55.078, 44.852, 62.155, 48.968999999999994, 45.641999999999996, 43.916000000000004, 53.599, 66.711, 59.65, 42.795, 58.968, 42.598, 45.826, 69.885, 46.218, 60.351000000000006, 52.379, 38.445, 42.955, 58.161, 50.338, 55.56100000000001, 50.608000000000004, 55.471000000000004, 64.048, 49.849, 51.821000000000005, 60.363], \"yaxis\": \"y\", \"type\": \"scatter\"}, {\"hovertemplate\": \"<b>%{hovertext}</b><br><br>continent=Americas<br>year=1982<br>gdpPercap=%{x}<br>lifeExp=%{y}<br>pop=%{marker.size}<extra></extra>\", \"hovertext\": [\"Argentina\", \"Bolivia\", \"Brazil\", \"Canada\", \"Chile\", \"Colombia\", \"Costa Rica\", \"Cuba\", \"Dominican Republic\", \"Ecuador\", \"El Salvador\", \"Guatemala\", \"Haiti\", \"Honduras\", \"Jamaica\", \"Mexico\", \"Nicaragua\", \"Panama\", \"Paraguay\", \"Peru\", \"Puerto Rico\", \"Trinidad and Tobago\", \"United States\", \"Uruguay\", \"Venezuela\"], \"legendgroup\": \"Americas\", \"marker\": {\"color\": \"#ab63fa\", \"size\": [29341374, 5642224, 128962939, 25201900, 11487112, 27764644, 2424367, 9789224, 5968349, 8365850, 4474873, 6395630, 5198399, 3669448, 2298309, 71640904, 2979423, 2036305, 3366439, 18125129, 3279001, 1116479, 232187835, 2953997, 15620766], \"sizemode\": \"area\", \"sizeref\": 435928.2961983471, \"symbol\": \"circle\"}, \"mode\": \"markers\", \"name\": \"Americas\", \"orientation\": \"v\", \"showlegend\": true, \"x\": [8997.897412, 3156.510452, 7030.835878, 22898.79214, 5095.665738000001, 4397.575659, 5262.734751, 7316.9181069999995, 2861.092386, 7213.7912670000005, 4098.344175, 4820.49479, 2011.1595489999997, 3121.7607940000003, 6068.05135, 9611.147541, 3470.3381560000003, 7009.601598, 4258.5036039999995, 6434.501797, 10330.98915, 9119.528607, 25009.55914, 6920.223051000001, 11152.410109999999], \"xaxis\": \"x\", \"y\": [69.942, 53.858999999999995, 63.336000000000006, 75.76, 70.565, 66.653, 73.45, 73.717, 63.727, 64.342, 56.604, 58.137, 51.461000000000006, 60.909, 71.21, 67.405, 59.298, 70.472, 66.874, 61.406000000000006, 73.75, 68.832, 74.65, 70.805, 68.557], \"yaxis\": \"y\", \"type\": \"scatter\"}, {\"hovertemplate\": \"<b>%{hovertext}</b><br><br>continent=Oceania<br>year=1982<br>gdpPercap=%{x}<br>lifeExp=%{y}<br>pop=%{marker.size}<extra></extra>\", \"hovertext\": [\"Australia\", \"New Zealand\"], \"legendgroup\": \"Oceania\", \"marker\": {\"color\": \"#FFA15A\", \"size\": [15184200, 3210650], \"sizemode\": \"area\", \"sizeref\": 435928.2961983471, \"symbol\": \"circle\"}, \"mode\": \"markers\", \"name\": \"Oceania\", \"orientation\": \"v\", \"showlegend\": true, \"x\": [19477.009280000002, 17632.4104], \"xaxis\": \"x\", \"y\": [74.74, 73.84], \"yaxis\": \"y\", \"type\": \"scatter\"}], \"name\": \"1982\"}, {\"data\": [{\"hovertemplate\": \"<b>%{hovertext}</b><br><br>continent=Asia<br>year=1987<br>gdpPercap=%{x}<br>lifeExp=%{y}<br>pop=%{marker.size}<extra></extra>\", \"hovertext\": [\"Afghanistan\", \"Bahrain\", \"Bangladesh\", \"Cambodia\", \"China\", \"Hong Kong, China\", \"India\", \"Indonesia\", \"Iran\", \"Iraq\", \"Israel\", \"Japan\", \"Jordan\", \"Korea, Dem. Rep.\", \"Korea, Rep.\", \"Kuwait\", \"Lebanon\", \"Malaysia\", \"Mongolia\", \"Myanmar\", \"Nepal\", \"Oman\", \"Pakistan\", \"Philippines\", \"Saudi Arabia\", \"Singapore\", \"Sri Lanka\", \"Syria\", \"Taiwan\", \"Thailand\", \"Vietnam\", \"West Bank and Gaza\", \"Yemen, Rep.\"], \"legendgroup\": \"Asia\", \"marker\": {\"color\": \"#636efa\", \"size\": [13867957, 454612, 103764241, 8371791, 1084035000, 5584510, 788000000, 169276000, 51889696, 16543189, 4203148, 122091325, 2820042, 19067554, 41622000, 1891487, 3089353, 16331785, 2015133, 38028578, 17917180, 1593882, 105186881, 60017788, 14619745, 2794552, 16495304, 11242847, 19757799, 52910342, 62826491, 1691210, 11219340], \"sizemode\": \"area\", \"sizeref\": 435928.2961983471, \"symbol\": \"circle\"}, \"mode\": \"markers\", \"name\": \"Asia\", \"orientation\": \"v\", \"showlegend\": true, \"x\": [852.3959447999999, 18524.02406, 751.9794035, 683.8955732000001, 1378.904018, 20038.472690000002, 976.5126756000001, 1748.356961, 6642.881371, 11643.57268, 17122.47986, 22375.941890000002, 4448.679912, 4106.4923149999995, 8533.088805, 28118.42998, 5377.091329, 5249.802653, 2338.008304, 385.0, 775.6324501, 18115.223130000002, 1704.686583, 2189.634995, 21198.26136, 18861.53081, 1876.766827, 3116.774285, 11054.56175, 2982.653773, 820.7994449, 5107.197384, 1971.741538], \"xaxis\": \"x\", \"y\": [40.821999999999996, 70.75, 52.818999999999996, 53.913999999999994, 67.274, 76.2, 58.553000000000004, 60.137, 63.04, 65.044, 75.6, 78.67, 65.869, 70.64699999999999, 69.81, 74.17399999999999, 67.926, 69.5, 60.222, 58.339, 52.537, 67.734, 58.245, 64.15100000000001, 66.295, 73.56, 69.01100000000001, 66.97399999999999, 73.4, 66.084, 62.82, 67.046, 52.922], \"yaxis\": \"y\", \"type\": \"scatter\"}, {\"hovertemplate\": \"<b>%{hovertext}</b><br><br>continent=Europe<br>year=1987<br>gdpPercap=%{x}<br>lifeExp=%{y}<br>pop=%{marker.size}<extra></extra>\", \"hovertext\": [\"Albania\", \"Austria\", \"Belgium\", \"Bosnia and Herzegovina\", \"Bulgaria\", \"Croatia\", \"Czech Republic\", \"Denmark\", \"Finland\", \"France\", \"Germany\", \"Greece\", \"Hungary\", \"Iceland\", \"Ireland\", \"Italy\", \"Montenegro\", \"Netherlands\", \"Norway\", \"Poland\", \"Portugal\", \"Romania\", \"Serbia\", \"Slovak Republic\", \"Slovenia\", \"Spain\", \"Sweden\", \"Switzerland\", \"Turkey\", \"United Kingdom\"], \"legendgroup\": \"Europe\", \"marker\": {\"color\": \"#EF553B\", \"size\": [3075321, 7578903, 9870200, 4338977, 8971958, 4484310, 10311597, 5127024, 4931729, 55630100, 77718298, 9974490, 10612740, 244676, 3539900, 56729703, 569473, 14665278, 4186147, 37740710, 9915289, 22686371, 9230783, 5199318, 1945870, 38880702, 8421403, 6649942, 52881328, 56981620], \"sizemode\": \"area\", \"sizeref\": 435928.2961983471, \"symbol\": \"circle\"}, \"mode\": \"markers\", \"name\": \"Europe\", \"orientation\": \"v\", \"showlegend\": true, \"x\": [3738.9327350000003, 23687.82607, 22525.56308, 4314.114757, 8239.854824, 13822.58394, 16310.4434, 25116.17581, 21141.01223, 22066.44214, 24639.18566, 16120.528390000001, 12986.47998, 26923.206280000002, 13872.86652, 19207.234819999998, 11732.51017, 23651.32361, 31540.9748, 9082.351172, 13039.30876, 9696.273295, 15870.878509999999, 12037.26758, 18678.53492, 15764.98313, 23586.92927, 30281.704589999998, 5089.043686, 21664.787669999998], \"xaxis\": \"x\", \"y\": [72.0, 74.94, 75.35, 71.14, 71.34, 71.52, 71.58, 74.8, 74.83, 76.34, 74.847, 76.67, 69.58, 77.23, 74.36, 76.42, 74.865, 76.83, 75.89, 70.98, 74.06, 69.53, 71.218, 71.08, 72.25, 76.9, 77.19, 77.41, 63.108000000000004, 75.007], \"yaxis\": \"y\", \"type\": \"scatter\"}, {\"hovertemplate\": \"<b>%{hovertext}</b><br><br>continent=Africa<br>year=1987<br>gdpPercap=%{x}<br>lifeExp=%{y}<br>pop=%{marker.size}<extra></extra>\", \"hovertext\": [\"Algeria\", \"Angola\", \"Benin\", \"Botswana\", \"Burkina Faso\", \"Burundi\", \"Cameroon\", \"Central African Republic\", \"Chad\", \"Comoros\", \"Congo, Dem. Rep.\", \"Congo, Rep.\", \"Cote d'Ivoire\", \"Djibouti\", \"Egypt\", \"Equatorial Guinea\", \"Eritrea\", \"Ethiopia\", \"Gabon\", \"Gambia\", \"Ghana\", \"Guinea\", \"Guinea-Bissau\", \"Kenya\", \"Lesotho\", \"Liberia\", \"Libya\", \"Madagascar\", \"Malawi\", \"Mali\", \"Mauritania\", \"Mauritius\", \"Morocco\", \"Mozambique\", \"Namibia\", \"Niger\", \"Nigeria\", \"Reunion\", \"Rwanda\", \"Sao Tome and Principe\", \"Senegal\", \"Sierra Leone\", \"Somalia\", \"South Africa\", \"Sudan\", \"Swaziland\", \"Tanzania\", \"Togo\", \"Tunisia\", \"Uganda\", \"Zambia\", \"Zimbabwe\"], \"legendgroup\": \"Africa\", \"marker\": {\"color\": \"#00cc96\", \"size\": [23254956, 7874230, 4243788, 1151184, 7586551, 5126023, 10780667, 2840009, 5498955, 395114, 35481645, 2064095, 10761098, 311025, 52799062, 341244, 2915959, 42999530, 880397, 848406, 14168101, 5650262, 927524, 21198082, 1599200, 2269414, 3799845, 10568642, 7824747, 7634008, 1841240, 1042663, 22987397, 12891952, 1278184, 7332638, 81551520, 562035, 6349365, 110812, 7171347, 3868905, 6921858, 35933379, 24725960, 779348, 23040630, 3154264, 7724976, 15283050, 7272406, 9216418], \"sizemode\": \"area\", \"sizeref\": 435928.2961983471, \"symbol\": \"circle\"}, \"mode\": \"markers\", \"name\": \"Africa\", \"orientation\": \"v\", \"showlegend\": true, \"x\": [5681.358539, 2430.208311, 1225.85601, 6205.88385, 912.0631417000001, 621.8188188999999, 2602.664206, 844.8763504000001, 952.3861289999999, 1315.980812, 672.774812, 4201.194936999999, 2156.9560690000003, 2880.102568, 3885.4607100000003, 966.8968149, 521.1341333, 573.7413142000001, 11864.408440000001, 611.6588611000001, 847.0061135, 805.5724717999999, 736.4153921, 1361.936856, 773.9932140999999, 506.1138573, 11770.5898, 1155.4419480000001, 635.5173633999999, 684.1715576, 1421.603576, 4783.586903, 2755.046991, 389.87618460000004, 3693.7313369999997, 668.3000228, 1385.029563, 5303.377488, 847.991217, 1516.525457, 1441.72072, 1294.4477880000002, 1093.244963, 7825.823398, 1507.819159, 3984.8398119999997, 831.8220794, 1202.201361, 3810.419296, 617.7244065, 1213.315116, 706.1573059], \"xaxis\": \"x\", \"y\": [65.79899999999999, 39.906, 52.336999999999996, 63.622, 49.556999999999995, 48.211000000000006, 54.985, 50.485, 51.051, 54.926, 47.412, 57.47, 54.655, 50.04, 59.797, 45.663999999999994, 46.453, 46.684, 60.19, 49.265, 55.729, 45.552, 41.245, 59.339, 57.18, 46.027, 66.234, 49.35, 47.457, 46.364, 56.145, 68.74, 62.677, 42.861000000000004, 60.835, 44.555, 46.886, 71.913, 44.02, 61.728, 55.769, 40.006, 44.501000000000005, 60.833999999999996, 51.744, 57.678000000000004, 51.535, 56.941, 66.89399999999999, 51.50899999999999, 50.821000000000005, 62.351000000000006], \"yaxis\": \"y\", \"type\": \"scatter\"}, {\"hovertemplate\": \"<b>%{hovertext}</b><br><br>continent=Americas<br>year=1987<br>gdpPercap=%{x}<br>lifeExp=%{y}<br>pop=%{marker.size}<extra></extra>\", \"hovertext\": [\"Argentina\", \"Bolivia\", \"Brazil\", \"Canada\", \"Chile\", \"Colombia\", \"Costa Rica\", \"Cuba\", \"Dominican Republic\", \"Ecuador\", \"El Salvador\", \"Guatemala\", \"Haiti\", \"Honduras\", \"Jamaica\", \"Mexico\", \"Nicaragua\", \"Panama\", \"Paraguay\", \"Peru\", \"Puerto Rico\", \"Trinidad and Tobago\", \"United States\", \"Uruguay\", \"Venezuela\"], \"legendgroup\": \"Americas\", \"marker\": {\"color\": \"#ab63fa\", \"size\": [31620918, 6156369, 142938076, 26549700, 12463354, 30964245, 2799811, 10239839, 6655297, 9545158, 4842194, 7326406, 5756203, 4372203, 2326606, 80122492, 3344353, 2253639, 3886512, 20195924, 3444468, 1191336, 242803533, 3045153, 17910182], \"sizemode\": \"area\", \"sizeref\": 435928.2961983471, \"symbol\": \"circle\"}, \"mode\": \"markers\", \"name\": \"Americas\", \"orientation\": \"v\", \"showlegend\": true, \"x\": [9139.671389, 2753.6914899999997, 7807.095818000001, 26626.515030000002, 5547.063754, 4903.2191, 5629.915318, 7532.924762999999, 2899.842175, 6481.776993, 4140.442097, 4246.485974, 1823.015995, 3023.0966989999997, 6351.237495, 8688.156003, 2955.984375, 7034.779161, 3998.875695, 6360.9434439999995, 12281.34191, 7388.597823, 29884.350410000003, 7452.398969, 9883.584648], \"xaxis\": \"x\", \"y\": [70.774, 57.251000000000005, 65.205, 76.86, 72.492, 67.768, 74.752, 74.17399999999999, 66.046, 67.23100000000001, 63.153999999999996, 60.782, 53.636, 64.492, 71.77, 69.498, 62.008, 71.523, 67.378, 64.134, 74.63, 69.582, 75.02, 71.918, 70.19], \"yaxis\": \"y\", \"type\": \"scatter\"}, {\"hovertemplate\": \"<b>%{hovertext}</b><br><br>continent=Oceania<br>year=1987<br>gdpPercap=%{x}<br>lifeExp=%{y}<br>pop=%{marker.size}<extra></extra>\", \"hovertext\": [\"Australia\", \"New Zealand\"], \"legendgroup\": \"Oceania\", \"marker\": {\"color\": \"#FFA15A\", \"size\": [16257249, 3317166], \"sizemode\": \"area\", \"sizeref\": 435928.2961983471, \"symbol\": \"circle\"}, \"mode\": \"markers\", \"name\": \"Oceania\", \"orientation\": \"v\", \"showlegend\": true, \"x\": [21888.889030000002, 19007.19129], \"xaxis\": \"x\", \"y\": [76.32, 74.32], \"yaxis\": \"y\", \"type\": \"scatter\"}], \"name\": \"1987\"}, {\"data\": [{\"hovertemplate\": \"<b>%{hovertext}</b><br><br>continent=Asia<br>year=1992<br>gdpPercap=%{x}<br>lifeExp=%{y}<br>pop=%{marker.size}<extra></extra>\", \"hovertext\": [\"Afghanistan\", \"Bahrain\", \"Bangladesh\", \"Cambodia\", \"China\", \"Hong Kong, China\", \"India\", \"Indonesia\", \"Iran\", \"Iraq\", \"Israel\", \"Japan\", \"Jordan\", \"Korea, Dem. Rep.\", \"Korea, Rep.\", \"Kuwait\", \"Lebanon\", \"Malaysia\", \"Mongolia\", \"Myanmar\", \"Nepal\", \"Oman\", \"Pakistan\", \"Philippines\", \"Saudi Arabia\", \"Singapore\", \"Sri Lanka\", \"Syria\", \"Taiwan\", \"Thailand\", \"Vietnam\", \"West Bank and Gaza\", \"Yemen, Rep.\"], \"legendgroup\": \"Asia\", \"marker\": {\"color\": \"#636efa\", \"size\": [16317921, 529491, 113704579, 10150094, 1164970000, 5829696, 872000000, 184816000, 60397973, 17861905, 4936550, 124329269, 3867409, 20711375, 43805450, 1418095, 3219994, 18319502, 2312802, 40546538, 20326209, 1915208, 120065004, 67185766, 16945857, 3235865, 17587060, 13219062, 20686918, 56667095, 69940728, 2104779, 13367997], \"sizemode\": \"area\", \"sizeref\": 435928.2961983471, \"symbol\": \"circle\"}, \"mode\": \"markers\", \"name\": \"Asia\", \"orientation\": \"v\", \"showlegend\": true, \"x\": [649.3413952000001, 19035.579169999997, 837.8101642999999, 682.3031755, 1655.784158, 24757.60301, 1164.406809, 2383.140898, 7235.653187999999, 3745.6406869999996, 18051.52254, 26824.895109999998, 3431.5936469999997, 3726.063507, 12104.27872, 34932.91959, 6890.806854, 7277.912802, 1785.402016, 347.0, 897.7403604, 18616.70691, 1971.8294640000001, 2279.3240170000004, 24841.617769999997, 24769.8912, 2153.7392219999997, 3340.542768, 15215.6579, 4616.8965450000005, 989.0231487, 6017.654756, 1879.496673], \"xaxis\": \"x\", \"y\": [41.674, 72.601, 56.018, 55.803000000000004, 68.69, 77.601, 60.223, 62.681000000000004, 65.742, 59.461000000000006, 76.93, 79.36, 68.015, 69.97800000000001, 72.244, 75.19, 69.292, 70.693, 61.271, 59.32, 55.727, 71.197, 60.838, 66.458, 68.768, 75.788, 70.37899999999999, 69.249, 74.26, 67.298, 67.66199999999999, 69.718, 55.599], \"yaxis\": \"y\", \"type\": \"scatter\"}, {\"hovertemplate\": \"<b>%{hovertext}</b><br><br>continent=Europe<br>year=1992<br>gdpPercap=%{x}<br>lifeExp=%{y}<br>pop=%{marker.size}<extra></extra>\", \"hovertext\": [\"Albania\", \"Austria\", \"Belgium\", \"Bosnia and Herzegovina\", \"Bulgaria\", \"Croatia\", \"Czech Republic\", \"Denmark\", \"Finland\", \"France\", \"Germany\", \"Greece\", \"Hungary\", \"Iceland\", \"Ireland\", \"Italy\", \"Montenegro\", \"Netherlands\", \"Norway\", \"Poland\", \"Portugal\", \"Romania\", \"Serbia\", \"Slovak Republic\", \"Slovenia\", \"Spain\", \"Sweden\", \"Switzerland\", \"Turkey\", \"United Kingdom\"], \"legendgroup\": \"Europe\", \"marker\": {\"color\": \"#EF553B\", \"size\": [3326498, 7914969, 10045622, 4256013, 8658506, 4494013, 10315702, 5171393, 5041039, 57374179, 80597764, 10325429, 10348684, 259012, 3557761, 56840847, 621621, 15174244, 4286357, 38370697, 9927680, 22797027, 9826397, 5302888, 1999210, 39549438, 8718867, 6995447, 58179144, 57866349], \"sizemode\": \"area\", \"sizeref\": 435928.2961983471, \"symbol\": \"circle\"}, \"mode\": \"markers\", \"name\": \"Europe\", \"orientation\": \"v\", \"showlegend\": true, \"x\": [2497.4379010000002, 27042.01868, 25575.57069, 2546.781445, 6302.6234380000005, 8447.794873, 14297.021219999999, 26406.73985, 20647.16499, 24703.79615, 26505.30317, 17541.49634, 10535.62855, 25144.39201, 17558.81555, 22013.64486, 7003.339037000001, 26790.94961, 33965.66115, 7738.881247, 16207.266630000002, 6598.409903, 9325.068238, 9498.467723, 14214.71681, 18603.06452, 23880.01683, 31871.5303, 5678.348271, 22705.09254], \"xaxis\": \"x\", \"y\": [71.581, 76.04, 76.46, 72.178, 71.19, 72.527, 72.4, 75.33, 75.7, 77.46, 76.07, 77.03, 69.17, 78.77, 75.467, 77.44, 75.435, 77.42, 77.32, 70.99, 74.86, 69.36, 71.65899999999999, 71.38, 73.64, 77.57, 78.16, 78.03, 66.146, 76.42], \"yaxis\": \"y\", \"type\": \"scatter\"}, {\"hovertemplate\": \"<b>%{hovertext}</b><br><br>continent=Africa<br>year=1992<br>gdpPercap=%{x}<br>lifeExp=%{y}<br>pop=%{marker.size}<extra></extra>\", \"hovertext\": [\"Algeria\", \"Angola\", \"Benin\", \"Botswana\", \"Burkina Faso\", \"Burundi\", \"Cameroon\", \"Central African Republic\", \"Chad\", \"Comoros\", \"Congo, Dem. Rep.\", \"Congo, Rep.\", \"Cote d'Ivoire\", \"Djibouti\", \"Egypt\", \"Equatorial Guinea\", \"Eritrea\", \"Ethiopia\", \"Gabon\", \"Gambia\", \"Ghana\", \"Guinea\", \"Guinea-Bissau\", \"Kenya\", \"Lesotho\", \"Liberia\", \"Libya\", \"Madagascar\", \"Malawi\", \"Mali\", \"Mauritania\", \"Mauritius\", \"Morocco\", \"Mozambique\", \"Namibia\", \"Niger\", \"Nigeria\", \"Reunion\", \"Rwanda\", \"Sao Tome and Principe\", \"Senegal\", \"Sierra Leone\", \"Somalia\", \"South Africa\", \"Sudan\", \"Swaziland\", \"Tanzania\", \"Togo\", \"Tunisia\", \"Uganda\", \"Zambia\", \"Zimbabwe\"], \"legendgroup\": \"Africa\", \"marker\": {\"color\": \"#00cc96\", \"size\": [26298373, 8735988, 4981671, 1342614, 8878303, 5809236, 12467171, 3265124, 6429417, 454429, 41672143, 2409073, 12772596, 384156, 59402198, 387838, 3668440, 52088559, 985739, 1025384, 16278738, 6990574, 1050938, 25020539, 1803195, 1912974, 4364501, 12210395, 10014249, 8416215, 2119465, 1096202, 25798239, 13160731, 1554253, 8392818, 93364244, 622191, 7290203, 125911, 8307920, 4260884, 6099799, 39964159, 28227588, 962344, 26605473, 3747553, 8523077, 18252190, 8381163, 10704340], \"sizemode\": \"area\", \"sizeref\": 435928.2961983471, \"symbol\": \"circle\"}, \"mode\": \"markers\", \"name\": \"Africa\", \"orientation\": \"v\", \"showlegend\": true, \"x\": [5023.216647, 2627.8456850000002, 1191.207681, 7954.111645, 931.7527731, 631.6998778, 1793.1632780000002, 747.9055252, 1058.0643, 1246.90737, 457.7191807, 4016.239529, 1648.073791, 2377.1561920000004, 3794.755195, 1132.055034, 582.8585102000001, 421.3534653, 13522.157519999999, 665.6244126, 925.0601539999999, 794.3484384, 745.5398706, 1341.9217210000002, 977.4862724999999, 636.6229191000001, 9640.138501000001, 1040.6761900000001, 563.2000145, 739.014375, 1361.369784, 6058.2538460000005, 2948.047252, 410.89682389999996, 3804.537999, 581.182725, 1619.848217, 6101.2558229999995, 737.0685949, 1428.777814, 1367.899369, 1068.696278, 926.9602964, 7225.0692579999995, 1492.197043, 3553.0224, 825.682454, 1034.298904, 4332.720164, 644.1707968999999, 1210.884633, 693.4207856], \"xaxis\": \"x\", \"y\": [67.744, 40.647, 53.919, 62.745, 50.26, 44.736000000000004, 54.31399999999999, 49.396, 51.724, 57.93899999999999, 45.548, 56.433, 52.044, 51.604, 63.674, 47.545, 49.99100000000001, 48.091, 61.36600000000001, 52.644, 57.501000000000005, 48.576, 43.266000000000005, 59.285, 59.685, 40.802, 68.755, 52.214, 49.42, 48.388000000000005, 58.333, 69.745, 65.393, 44.284, 61.998999999999995, 47.391000000000005, 47.472, 73.615, 23.599, 62.742, 58.196000000000005, 38.333, 39.658, 61.888000000000005, 53.556000000000004, 58.474, 50.44, 58.06100000000001, 70.001, 48.825, 46.1, 60.376999999999995], \"yaxis\": \"y\", \"type\": \"scatter\"}, {\"hovertemplate\": \"<b>%{hovertext}</b><br><br>continent=Americas<br>year=1992<br>gdpPercap=%{x}<br>lifeExp=%{y}<br>pop=%{marker.size}<extra></extra>\", \"hovertext\": [\"Argentina\", \"Bolivia\", \"Brazil\", \"Canada\", \"Chile\", \"Colombia\", \"Costa Rica\", \"Cuba\", \"Dominican Republic\", \"Ecuador\", \"El Salvador\", \"Guatemala\", \"Haiti\", \"Honduras\", \"Jamaica\", \"Mexico\", \"Nicaragua\", \"Panama\", \"Paraguay\", \"Peru\", \"Puerto Rico\", \"Trinidad and Tobago\", \"United States\", \"Uruguay\", \"Venezuela\"], \"legendgroup\": \"Americas\", \"marker\": {\"color\": \"#ab63fa\", \"size\": [33958947, 6893451, 155975974, 28523502, 13572994, 34202721, 3173216, 10723260, 7351181, 10748394, 5274649, 8486949, 6326682, 5077347, 2378618, 88111030, 4017939, 2484997, 4483945, 22430449, 3585176, 1183669, 256894189, 3149262, 20265563], \"sizemode\": \"area\", \"sizeref\": 435928.2961983471, \"symbol\": \"circle\"}, \"mode\": \"markers\", \"name\": \"Americas\", \"orientation\": \"v\", \"showlegend\": true, \"x\": [9308.41871, 2961.699694, 6950.283020999999, 26342.88426, 7596.125964, 5444.648617, 6160.416317, 5592.843963, 3044.214214, 7103.702595000001, 4444.2317, 4439.4508399999995, 1456.309517, 3081.694603, 7404.923685, 9472.384295, 2170.151724, 6618.74305, 4196.411078, 4446.380924, 14641.587109999999, 7370.990932, 32003.93224, 8137.004775, 10733.926309999999], \"xaxis\": \"x\", \"y\": [71.868, 59.957, 67.057, 77.95, 74.126, 68.421, 75.71300000000001, 74.414, 68.457, 69.613, 66.798, 63.373000000000005, 55.089, 66.399, 71.766, 71.455, 65.843, 72.462, 68.225, 66.458, 73.911, 69.862, 76.09, 72.752, 71.15], \"yaxis\": \"y\", \"type\": \"scatter\"}, {\"hovertemplate\": \"<b>%{hovertext}</b><br><br>continent=Oceania<br>year=1992<br>gdpPercap=%{x}<br>lifeExp=%{y}<br>pop=%{marker.size}<extra></extra>\", \"hovertext\": [\"Australia\", \"New Zealand\"], \"legendgroup\": \"Oceania\", \"marker\": {\"color\": \"#FFA15A\", \"size\": [17481977, 3437674], \"sizemode\": \"area\", \"sizeref\": 435928.2961983471, \"symbol\": \"circle\"}, \"mode\": \"markers\", \"name\": \"Oceania\", \"orientation\": \"v\", \"showlegend\": true, \"x\": [23424.76683, 18363.324940000002], \"xaxis\": \"x\", \"y\": [77.56, 76.33], \"yaxis\": \"y\", \"type\": \"scatter\"}], \"name\": \"1992\"}, {\"data\": [{\"hovertemplate\": \"<b>%{hovertext}</b><br><br>continent=Asia<br>year=1997<br>gdpPercap=%{x}<br>lifeExp=%{y}<br>pop=%{marker.size}<extra></extra>\", \"hovertext\": [\"Afghanistan\", \"Bahrain\", \"Bangladesh\", \"Cambodia\", \"China\", \"Hong Kong, China\", \"India\", \"Indonesia\", \"Iran\", \"Iraq\", \"Israel\", \"Japan\", \"Jordan\", \"Korea, Dem. Rep.\", \"Korea, Rep.\", \"Kuwait\", \"Lebanon\", \"Malaysia\", \"Mongolia\", \"Myanmar\", \"Nepal\", \"Oman\", \"Pakistan\", \"Philippines\", \"Saudi Arabia\", \"Singapore\", \"Sri Lanka\", \"Syria\", \"Taiwan\", \"Thailand\", \"Vietnam\", \"West Bank and Gaza\", \"Yemen, Rep.\"], \"legendgroup\": \"Asia\", \"marker\": {\"color\": \"#636efa\", \"size\": [22227415, 598561, 123315288, 11782962, 1230075000, 6495918, 959000000, 199278000, 63327987, 20775703, 5531387, 125956499, 4526235, 21585105, 46173816, 1765345, 3430388, 20476091, 2494803, 43247867, 23001113, 2283635, 135564834, 75012988, 21229759, 3802309, 18698655, 15081016, 21628605, 60216677, 76048996, 2826046, 15826497], \"sizemode\": \"area\", \"sizeref\": 435928.2961983471, \"symbol\": \"circle\"}, \"mode\": \"markers\", \"name\": \"Asia\", \"orientation\": \"v\", \"showlegend\": true, \"x\": [635.341351, 20292.01679, 972.7700352, 734.28517, 2289.234136, 28377.632189999997, 1458.817442, 3119.335603, 8263.590301, 3076.239795, 20896.60924, 28816.58499, 3645.379572, 1690.756814, 15993.52796, 40300.61996, 8754.96385, 10132.90964, 1902.2521, 415.0, 1010.892138, 19702.055809999998, 2049.3505210000003, 2536.534925, 20586.69019, 33519.4766, 2664.477257, 4014.238972, 20206.82098, 5852.625497, 1385.896769, 7110.667619, 2117.484526], \"xaxis\": \"x\", \"y\": [41.763000000000005, 73.925, 59.412, 56.534, 70.426, 80.0, 61.765, 66.041, 68.042, 58.81100000000001, 78.26899999999999, 80.69, 69.77199999999999, 67.727, 74.64699999999999, 76.156, 70.265, 71.938, 63.625, 60.328, 59.426, 72.499, 61.818000000000005, 68.564, 70.533, 77.158, 70.457, 71.527, 75.25, 67.521, 70.672, 71.096, 58.02], \"yaxis\": \"y\", \"type\": \"scatter\"}, {\"hovertemplate\": \"<b>%{hovertext}</b><br><br>continent=Europe<br>year=1997<br>gdpPercap=%{x}<br>lifeExp=%{y}<br>pop=%{marker.size}<extra></extra>\", \"hovertext\": [\"Albania\", \"Austria\", \"Belgium\", \"Bosnia and Herzegovina\", \"Bulgaria\", \"Croatia\", \"Czech Republic\", \"Denmark\", \"Finland\", \"France\", \"Germany\", \"Greece\", \"Hungary\", \"Iceland\", \"Ireland\", \"Italy\", \"Montenegro\", \"Netherlands\", \"Norway\", \"Poland\", \"Portugal\", \"Romania\", \"Serbia\", \"Slovak Republic\", \"Slovenia\", \"Spain\", \"Sweden\", \"Switzerland\", \"Turkey\", \"United Kingdom\"], \"legendgroup\": \"Europe\", \"marker\": {\"color\": \"#EF553B\", \"size\": [3428038, 8069876, 10199787, 3607000, 8066057, 4444595, 10300707, 5283663, 5134406, 58623428, 82011073, 10502372, 10244684, 271192, 3667233, 57479469, 692651, 15604464, 4405672, 38654957, 10156415, 22562458, 10336594, 5383010, 2011612, 39855442, 8897619, 7193761, 63047647, 58808266], \"sizemode\": \"area\", \"sizeref\": 435928.2961983471, \"symbol\": \"circle\"}, \"mode\": \"markers\", \"name\": \"Europe\", \"orientation\": \"v\", \"showlegend\": true, \"x\": [3193.054604, 29095.920660000003, 27561.196630000002, 4766.355904, 5970.38876, 9875.604515, 16048.51424, 29804.34567, 23723.9502, 25889.78487, 27788.88416, 18747.69814, 11712.7768, 28061.099660000003, 24521.94713, 24675.02446, 6465.613349, 30246.13063, 41283.16433, 10159.58368, 17641.03156, 7346.547556999999, 7914.320304000001, 12126.23065, 17161.10735, 20445.29896, 25266.59499, 32135.323010000004, 6601.429915, 26074.53136], \"xaxis\": \"x\", \"y\": [72.95, 77.51, 77.53, 73.244, 70.32, 73.68, 74.01, 76.11, 77.13, 78.64, 77.34, 77.869, 71.04, 78.95, 76.122, 78.82, 75.445, 78.03, 78.32, 72.75, 75.97, 69.72, 72.232, 72.71, 75.13, 78.77, 79.39, 79.37, 68.835, 77.218], \"yaxis\": \"y\", \"type\": \"scatter\"}, {\"hovertemplate\": \"<b>%{hovertext}</b><br><br>continent=Africa<br>year=1997<br>gdpPercap=%{x}<br>lifeExp=%{y}<br>pop=%{marker.size}<extra></extra>\", \"hovertext\": [\"Algeria\", \"Angola\", \"Benin\", \"Botswana\", \"Burkina Faso\", \"Burundi\", \"Cameroon\", \"Central African Republic\", \"Chad\", \"Comoros\", \"Congo, Dem. Rep.\", \"Congo, Rep.\", \"Cote d'Ivoire\", \"Djibouti\", \"Egypt\", \"Equatorial Guinea\", \"Eritrea\", \"Ethiopia\", \"Gabon\", \"Gambia\", \"Ghana\", \"Guinea\", \"Guinea-Bissau\", \"Kenya\", \"Lesotho\", \"Liberia\", \"Libya\", \"Madagascar\", \"Malawi\", \"Mali\", \"Mauritania\", \"Mauritius\", \"Morocco\", \"Mozambique\", \"Namibia\", \"Niger\", \"Nigeria\", \"Reunion\", \"Rwanda\", \"Sao Tome and Principe\", \"Senegal\", \"Sierra Leone\", \"Somalia\", \"South Africa\", \"Sudan\", \"Swaziland\", \"Tanzania\", \"Togo\", \"Tunisia\", \"Uganda\", \"Zambia\", \"Zimbabwe\"], \"legendgroup\": \"Africa\", \"marker\": {\"color\": \"#00cc96\", \"size\": [29072015, 9875024, 6066080, 1536536, 10352843, 6121610, 14195809, 3696513, 7562011, 527982, 47798986, 2800947, 14625967, 417908, 66134291, 439971, 4058319, 59861301, 1126189, 1235767, 18418288, 8048834, 1193708, 28263827, 1982823, 2200725, 4759670, 14165114, 10419991, 9384984, 2444741, 1149818, 28529501, 16603334, 1774766, 9666252, 106207839, 684810, 7212583, 145608, 9535314, 4578212, 6633514, 42835005, 32160729, 1054486, 30686889, 4320890, 9231669, 21210254, 9417789, 11404948], \"sizemode\": \"area\", \"sizeref\": 435928.2961983471, \"symbol\": \"circle\"}, \"mode\": \"markers\", \"name\": \"Africa\", \"orientation\": \"v\", \"showlegend\": true, \"x\": [4797.295051, 2277.140884, 1232.975292, 8647.142313, 946.2949617999999, 463.1151478, 1694.337469, 740.5063317, 1004.9613529999999, 1173.618235, 312.188423, 3484.1643759999997, 1786.265407, 1895.016984, 4173.181797, 2814.480755, 913.4707900000001, 515.8894013, 14722.841880000002, 653.7301704, 1005.2458119999999, 869.4497667999999, 796.6644681, 1360.4850210000002, 1186.147994, 609.1739508, 9467.446056, 986.2958956, 692.2758102999999, 790.2579846, 1483.1361359999999, 7425.705295000001, 2982.101858, 472.34607710000006, 3899.52426, 580.3052092, 1624.941275, 6071.941411, 589.9445051, 1339.076036, 1392.368347, 574.6481576, 930.5964284, 7479.188244, 1632.2107640000002, 3876.7684600000002, 789.1862231, 982.2869242999999, 4876.798614, 816.559081, 1071.353818, 792.4499602999999], \"xaxis\": \"x\", \"y\": [69.152, 40.963, 54.777, 52.556000000000004, 50.324, 45.326, 52.199, 46.066, 51.573, 60.66, 42.586999999999996, 52.961999999999996, 47.99100000000001, 53.157, 67.217, 48.245, 53.378, 49.402, 60.461000000000006, 55.861000000000004, 58.556000000000004, 51.455, 44.873000000000005, 54.407, 55.558, 42.221000000000004, 71.555, 54.978, 47.495, 49.903, 60.43, 70.736, 67.66, 46.343999999999994, 58.909, 51.313, 47.464, 74.77199999999999, 36.086999999999996, 63.306000000000004, 60.187, 39.897, 43.795, 60.236000000000004, 55.373000000000005, 54.288999999999994, 48.466, 58.39, 71.973, 44.578, 40.238, 46.809], \"yaxis\": \"y\", \"type\": \"scatter\"}, {\"hovertemplate\": \"<b>%{hovertext}</b><br><br>continent=Americas<br>year=1997<br>gdpPercap=%{x}<br>lifeExp=%{y}<br>pop=%{marker.size}<extra></extra>\", \"hovertext\": [\"Argentina\", \"Bolivia\", \"Brazil\", \"Canada\", \"Chile\", \"Colombia\", \"Costa Rica\", \"Cuba\", \"Dominican Republic\", \"Ecuador\", \"El Salvador\", \"Guatemala\", \"Haiti\", \"Honduras\", \"Jamaica\", \"Mexico\", \"Nicaragua\", \"Panama\", \"Paraguay\", \"Peru\", \"Puerto Rico\", \"Trinidad and Tobago\", \"United States\", \"Uruguay\", \"Venezuela\"], \"legendgroup\": \"Americas\", \"marker\": {\"color\": \"#ab63fa\", \"size\": [36203463, 7693188, 168546719, 30305843, 14599929, 37657830, 3518107, 10983007, 7992357, 11911819, 5783439, 9803875, 6913545, 5867957, 2531311, 95895146, 4609572, 2734531, 5154123, 24748122, 3759430, 1138101, 272911760, 3262838, 22374398], \"sizemode\": \"area\", \"sizeref\": 435928.2961983471, \"symbol\": \"circle\"}, \"mode\": \"markers\", \"name\": \"Americas\", \"orientation\": \"v\", \"showlegend\": true, \"x\": [10967.28195, 3326.143191, 7957.980823999999, 28954.92589, 10118.053179999999, 6117.3617460000005, 6677.045314, 5431.990415, 3614.101285, 7429.455876999999, 5154.825496, 4684.313807, 1341.7269310000001, 3160.454906, 7121.924704000001, 9767.29753, 2253.023004, 7113.692252, 4247.400261, 5838.347657, 16999.4333, 8792.573126000001, 35767.43303, 9230.240708, 10165.49518], \"xaxis\": \"x\", \"y\": [73.275, 62.05, 69.388, 78.61, 75.816, 70.313, 77.26, 76.15100000000001, 69.957, 72.312, 69.535, 66.322, 56.67100000000001, 67.65899999999999, 72.262, 73.67, 68.426, 73.738, 69.4, 68.38600000000001, 74.917, 69.465, 76.81, 74.223, 72.146], \"yaxis\": \"y\", \"type\": \"scatter\"}, {\"hovertemplate\": \"<b>%{hovertext}</b><br><br>continent=Oceania<br>year=1997<br>gdpPercap=%{x}<br>lifeExp=%{y}<br>pop=%{marker.size}<extra></extra>\", \"hovertext\": [\"Australia\", \"New Zealand\"], \"legendgroup\": \"Oceania\", \"marker\": {\"color\": \"#FFA15A\", \"size\": [18565243, 3676187], \"sizemode\": \"area\", \"sizeref\": 435928.2961983471, \"symbol\": \"circle\"}, \"mode\": \"markers\", \"name\": \"Oceania\", \"orientation\": \"v\", \"showlegend\": true, \"x\": [26997.936569999998, 21050.41377], \"xaxis\": \"x\", \"y\": [78.83, 77.55], \"yaxis\": \"y\", \"type\": \"scatter\"}], \"name\": \"1997\"}, {\"data\": [{\"hovertemplate\": \"<b>%{hovertext}</b><br><br>continent=Asia<br>year=2002<br>gdpPercap=%{x}<br>lifeExp=%{y}<br>pop=%{marker.size}<extra></extra>\", \"hovertext\": [\"Afghanistan\", \"Bahrain\", \"Bangladesh\", \"Cambodia\", \"China\", \"Hong Kong, China\", \"India\", \"Indonesia\", \"Iran\", \"Iraq\", \"Israel\", \"Japan\", \"Jordan\", \"Korea, Dem. Rep.\", \"Korea, Rep.\", \"Kuwait\", \"Lebanon\", \"Malaysia\", \"Mongolia\", \"Myanmar\", \"Nepal\", \"Oman\", \"Pakistan\", \"Philippines\", \"Saudi Arabia\", \"Singapore\", \"Sri Lanka\", \"Syria\", \"Taiwan\", \"Thailand\", \"Vietnam\", \"West Bank and Gaza\", \"Yemen, Rep.\"], \"legendgroup\": \"Asia\", \"marker\": {\"color\": \"#636efa\", \"size\": [25268405, 656397, 135656790, 12926707, 1280400000, 6762476, 1034172547, 211060000, 66907826, 24001816, 6029529, 127065841, 5307470, 22215365, 47969150, 2111561, 3677780, 22662365, 2674234, 45598081, 25873917, 2713462, 153403524, 82995088, 24501530, 4197776, 19576783, 17155814, 22454239, 62806748, 80908147, 3389578, 18701257], \"sizemode\": \"area\", \"sizeref\": 435928.2961983471, \"symbol\": \"circle\"}, \"mode\": \"markers\", \"name\": \"Asia\", \"orientation\": \"v\", \"showlegend\": true, \"x\": [726.7340548, 23403.559269999998, 1136.3904300000002, 896.2260152999999, 3119.280896, 30209.015160000003, 1746.769454, 2873.91287, 9240.761975, 4390.717312, 21905.59514, 28604.5919, 3844.9171939999997, 1646.758151, 19233.98818, 35110.10566, 9313.93883, 10206.97794, 2140.7393230000002, 611.0, 1057.206311, 19774.83687, 2092.712441, 2650.921068, 19014.54118, 36023.1054, 3015.3788329999998, 4090.9253310000004, 23235.42329, 5913.187529, 1764.456677, 4515.487575, 2234.820827], \"xaxis\": \"x\", \"y\": [42.129, 74.795, 62.013000000000005, 56.751999999999995, 72.028, 81.495, 62.879, 68.58800000000001, 69.45100000000001, 57.04600000000001, 79.696, 82.0, 71.263, 66.66199999999999, 77.045, 76.904, 71.028, 73.044, 65.033, 59.908, 61.34, 74.193, 63.61, 70.303, 71.626, 78.77, 70.815, 73.053, 76.99, 68.564, 73.017, 72.37, 60.308], \"yaxis\": \"y\", \"type\": \"scatter\"}, {\"hovertemplate\": \"<b>%{hovertext}</b><br><br>continent=Europe<br>year=2002<br>gdpPercap=%{x}<br>lifeExp=%{y}<br>pop=%{marker.size}<extra></extra>\", \"hovertext\": [\"Albania\", \"Austria\", \"Belgium\", \"Bosnia and Herzegovina\", \"Bulgaria\", \"Croatia\", \"Czech Republic\", \"Denmark\", \"Finland\", \"France\", \"Germany\", \"Greece\", \"Hungary\", \"Iceland\", \"Ireland\", \"Italy\", \"Montenegro\", \"Netherlands\", \"Norway\", \"Poland\", \"Portugal\", \"Romania\", \"Serbia\", \"Slovak Republic\", \"Slovenia\", \"Spain\", \"Sweden\", \"Switzerland\", \"Turkey\", \"United Kingdom\"], \"legendgroup\": \"Europe\", \"marker\": {\"color\": \"#EF553B\", \"size\": [3508512, 8148312, 10311970, 4165416, 7661799, 4481020, 10256295, 5374693, 5193039, 59925035, 82350671, 10603863, 10083313, 288030, 3879155, 57926999, 720230, 16122830, 4535591, 38625976, 10433867, 22404337, 10111559, 5410052, 2011497, 40152517, 8954175, 7361757, 67308928, 59912431], \"sizemode\": \"area\", \"sizeref\": 435928.2961983471, \"symbol\": \"circle\"}, \"mode\": \"markers\", \"name\": \"Europe\", \"orientation\": \"v\", \"showlegend\": true, \"x\": [4604.211737, 32417.607689999997, 30485.88375, 6018.975239, 7696.777725, 11628.38895, 17596.210219999997, 32166.500060000002, 28204.59057, 28926.032339999998, 30035.80198, 22514.2548, 14843.93556, 31163.201960000002, 34077.04939, 27968.098169999997, 6557.194282, 33724.75778, 44683.97525, 12002.23908, 19970.90787, 7885.360081, 7236.075251, 13638.778369999998, 20660.01936, 24835.47166, 29341.630930000003, 34480.95771, 6508.085718, 29478.99919], \"xaxis\": \"x\", \"y\": [75.65100000000001, 78.98, 78.32, 74.09, 72.14, 74.876, 75.51, 77.18, 78.37, 79.59, 78.67, 78.256, 72.59, 80.5, 77.783, 80.24, 73.98100000000001, 78.53, 79.05, 74.67, 77.29, 71.322, 73.21300000000001, 73.8, 76.66, 79.78, 80.04, 80.62, 70.845, 78.471], \"yaxis\": \"y\", \"type\": \"scatter\"}, {\"hovertemplate\": \"<b>%{hovertext}</b><br><br>continent=Africa<br>year=2002<br>gdpPercap=%{x}<br>lifeExp=%{y}<br>pop=%{marker.size}<extra></extra>\", \"hovertext\": [\"Algeria\", \"Angola\", \"Benin\", \"Botswana\", \"Burkina Faso\", \"Burundi\", \"Cameroon\", \"Central African Republic\", \"Chad\", \"Comoros\", \"Congo, Dem. Rep.\", \"Congo, Rep.\", \"Cote d'Ivoire\", \"Djibouti\", \"Egypt\", \"Equatorial Guinea\", \"Eritrea\", \"Ethiopia\", \"Gabon\", \"Gambia\", \"Ghana\", \"Guinea\", \"Guinea-Bissau\", \"Kenya\", \"Lesotho\", \"Liberia\", \"Libya\", \"Madagascar\", \"Malawi\", \"Mali\", \"Mauritania\", \"Mauritius\", \"Morocco\", \"Mozambique\", \"Namibia\", \"Niger\", \"Nigeria\", \"Reunion\", \"Rwanda\", \"Sao Tome and Principe\", \"Senegal\", \"Sierra Leone\", \"Somalia\", \"South Africa\", \"Sudan\", \"Swaziland\", \"Tanzania\", \"Togo\", \"Tunisia\", \"Uganda\", \"Zambia\", \"Zimbabwe\"], \"legendgroup\": \"Africa\", \"marker\": {\"color\": \"#00cc96\", \"size\": [31287142, 10866106, 7026113, 1630347, 12251209, 7021078, 15929988, 4048013, 8835739, 614382, 55379852, 3328795, 16252726, 447416, 73312559, 495627, 4414865, 67946797, 1299304, 1457766, 20550751, 8807818, 1332459, 31386842, 2046772, 2814651, 5368585, 16473477, 11824495, 10580176, 2828858, 1200206, 31167783, 18473780, 1972153, 11140655, 119901274, 743981, 7852401, 170372, 10870037, 5359092, 7753310, 44433622, 37090298, 1130269, 34593779, 4977378, 9770575, 24739869, 10595811, 11926563], \"sizemode\": \"area\", \"sizeref\": 435928.2961983471, \"symbol\": \"circle\"}, \"mode\": \"markers\", \"name\": \"Africa\", \"orientation\": \"v\", \"showlegend\": true, \"x\": [5288.040382, 2773.287312, 1372.877931, 11003.60508, 1037.645221, 446.4035126, 1934.0114489999999, 738.6906068, 1156.18186, 1075.811558, 241.16587650000002, 3484.06197, 1648.800823, 1908.2608670000002, 4754.604414, 7703.4959, 765.3500015, 530.0535319, 12521.71392, 660.5855997, 1111.9845779999998, 945.5835837000001, 575.7047176, 1287.514732, 1275.184575, 531.4823679, 9534.677467, 894.6370822, 665.4231186000001, 951.4097517999999, 1579.0195429999999, 9021.815894, 3258.495584, 633.6179466, 4072.3247509999997, 601.0745012, 1615.2863949999999, 6316.1652, 785.6537647999999, 1353.09239, 1519.635262, 699.4897129999999, 882.0818218000001, 7710.946444, 1993.398314, 4128.116943, 899.0742111, 886.2205765000001, 5722.895654999999, 927.7210018, 1071.6139380000002, 672.0386227000001], \"xaxis\": \"x\", \"y\": [70.994, 41.003, 54.406000000000006, 46.63399999999999, 50.65, 47.36, 49.856, 43.308, 50.525, 62.974, 44.966, 52.97, 46.832, 53.373000000000005, 69.806, 49.348, 55.24, 50.725, 56.761, 58.041000000000004, 58.453, 53.676, 45.504, 50.992, 44.593, 43.753, 72.737, 57.286, 45.00899999999999, 51.818000000000005, 62.247, 71.954, 69.615, 44.026, 51.479, 54.496, 46.608000000000004, 75.744, 43.413000000000004, 64.337, 61.6, 41.012, 45.93600000000001, 53.365, 56.369, 43.869, 49.651, 57.56100000000001, 73.042, 47.813, 39.193000000000005, 39.989000000000004], \"yaxis\": \"y\", \"type\": \"scatter\"}, {\"hovertemplate\": \"<b>%{hovertext}</b><br><br>continent=Americas<br>year=2002<br>gdpPercap=%{x}<br>lifeExp=%{y}<br>pop=%{marker.size}<extra></extra>\", \"hovertext\": [\"Argentina\", \"Bolivia\", \"Brazil\", \"Canada\", \"Chile\", \"Colombia\", \"Costa Rica\", \"Cuba\", \"Dominican Republic\", \"Ecuador\", \"El Salvador\", \"Guatemala\", \"Haiti\", \"Honduras\", \"Jamaica\", \"Mexico\", \"Nicaragua\", \"Panama\", \"Paraguay\", \"Peru\", \"Puerto Rico\", \"Trinidad and Tobago\", \"United States\", \"Uruguay\", \"Venezuela\"], \"legendgroup\": \"Americas\", \"marker\": {\"color\": \"#ab63fa\", \"size\": [38331121, 8445134, 179914212, 31902268, 15497046, 41008227, 3834934, 11226999, 8650322, 12921234, 6353681, 11178650, 7607651, 6677328, 2664659, 102479927, 5146848, 2990875, 5884491, 26769436, 3859606, 1101832, 287675526, 3363085, 24287670], \"sizemode\": \"area\", \"sizeref\": 435928.2961983471, \"symbol\": \"circle\"}, \"mode\": \"markers\", \"name\": \"Americas\", \"orientation\": \"v\", \"showlegend\": true, \"x\": [8797.640716, 3413.26269, 8131.212843000001, 33328.96507, 10778.78385, 5755.259962, 7723.447195000001, 6340.646683, 4563.808154, 5773.0445119999995, 5351.568665999999, 4858.347495, 1270.364932, 3099.72866, 6994.774861, 10742.44053, 2474.548819, 7356.031934000001, 3783.674243, 5909.020073, 18855.606180000002, 11460.60023, 39097.09955, 7727.002004000001, 8605.047831], \"xaxis\": \"x\", \"y\": [74.34, 63.883, 71.006, 79.77, 77.86, 71.682, 78.123, 77.158, 70.847, 74.173, 70.734, 68.97800000000001, 58.137, 68.565, 72.047, 74.902, 70.836, 74.712, 70.755, 69.906, 77.778, 68.976, 77.31, 75.307, 72.766], \"yaxis\": \"y\", \"type\": \"scatter\"}, {\"hovertemplate\": \"<b>%{hovertext}</b><br><br>continent=Oceania<br>year=2002<br>gdpPercap=%{x}<br>lifeExp=%{y}<br>pop=%{marker.size}<extra></extra>\", \"hovertext\": [\"Australia\", \"New Zealand\"], \"legendgroup\": \"Oceania\", \"marker\": {\"color\": \"#FFA15A\", \"size\": [19546792, 3908037], \"sizemode\": \"area\", \"sizeref\": 435928.2961983471, \"symbol\": \"circle\"}, \"mode\": \"markers\", \"name\": \"Oceania\", \"orientation\": \"v\", \"showlegend\": true, \"x\": [30687.75473, 23189.80135], \"xaxis\": \"x\", \"y\": [80.37, 79.11], \"yaxis\": \"y\", \"type\": \"scatter\"}], \"name\": \"2002\"}, {\"data\": [{\"hovertemplate\": \"<b>%{hovertext}</b><br><br>continent=Asia<br>year=2007<br>gdpPercap=%{x}<br>lifeExp=%{y}<br>pop=%{marker.size}<extra></extra>\", \"hovertext\": [\"Afghanistan\", \"Bahrain\", \"Bangladesh\", \"Cambodia\", \"China\", \"Hong Kong, China\", \"India\", \"Indonesia\", \"Iran\", \"Iraq\", \"Israel\", \"Japan\", \"Jordan\", \"Korea, Dem. Rep.\", \"Korea, Rep.\", \"Kuwait\", \"Lebanon\", \"Malaysia\", \"Mongolia\", \"Myanmar\", \"Nepal\", \"Oman\", \"Pakistan\", \"Philippines\", \"Saudi Arabia\", \"Singapore\", \"Sri Lanka\", \"Syria\", \"Taiwan\", \"Thailand\", \"Vietnam\", \"West Bank and Gaza\", \"Yemen, Rep.\"], \"legendgroup\": \"Asia\", \"marker\": {\"color\": \"#636efa\", \"size\": [31889923, 708573, 150448339, 14131858, 1318683096, 6980412, 1110396331, 223547000, 69453570, 27499638, 6426679, 127467972, 6053193, 23301725, 49044790, 2505559, 3921278, 24821286, 2874127, 47761980, 28901790, 3204897, 169270617, 91077287, 27601038, 4553009, 20378239, 19314747, 23174294, 65068149, 85262356, 4018332, 22211743], \"sizemode\": \"area\", \"sizeref\": 435928.2961983471, \"symbol\": \"circle\"}, \"mode\": \"markers\", \"name\": \"Asia\", \"orientation\": \"v\", \"showlegend\": true, \"x\": [974.5803384, 29796.048339999998, 1391.253792, 1713.7786859999999, 4959.1148539999995, 39724.97867, 2452.210407, 3540.6515640000002, 11605.71449, 4471.061906, 25523.2771, 31656.06806, 4519.461171, 1593.06548, 23348.139730000003, 47306.98978, 10461.05868, 12451.6558, 3095.7722710000003, 944.0, 1091.359778, 22316.19287, 2605.94758, 3190.481016, 21654.83194, 47143.179639999995, 3970.0954070000003, 4184.548089, 28718.27684, 7458.3963269999995, 2441.576404, 3025.349798, 2280.769906], \"xaxis\": \"x\", \"y\": [43.828, 75.635, 64.062, 59.723, 72.961, 82.208, 64.69800000000001, 70.65, 70.964, 59.545, 80.745, 82.603, 72.535, 67.297, 78.623, 77.58800000000001, 71.993, 74.241, 66.803, 62.068999999999996, 63.785, 75.64, 65.483, 71.688, 72.777, 79.972, 72.396, 74.143, 78.4, 70.616, 74.249, 73.422, 62.698], \"yaxis\": \"y\", \"type\": \"scatter\"}, {\"hovertemplate\": \"<b>%{hovertext}</b><br><br>continent=Europe<br>year=2007<br>gdpPercap=%{x}<br>lifeExp=%{y}<br>pop=%{marker.size}<extra></extra>\", \"hovertext\": [\"Albania\", \"Austria\", \"Belgium\", \"Bosnia and Herzegovina\", \"Bulgaria\", \"Croatia\", \"Czech Republic\", \"Denmark\", \"Finland\", \"France\", \"Germany\", \"Greece\", \"Hungary\", \"Iceland\", \"Ireland\", \"Italy\", \"Montenegro\", \"Netherlands\", \"Norway\", \"Poland\", \"Portugal\", \"Romania\", \"Serbia\", \"Slovak Republic\", \"Slovenia\", \"Spain\", \"Sweden\", \"Switzerland\", \"Turkey\", \"United Kingdom\"], \"legendgroup\": \"Europe\", \"marker\": {\"color\": \"#EF553B\", \"size\": [3600523, 8199783, 10392226, 4552198, 7322858, 4493312, 10228744, 5468120, 5238460, 61083916, 82400996, 10706290, 9956108, 301931, 4109086, 58147733, 684736, 16570613, 4627926, 38518241, 10642836, 22276056, 10150265, 5447502, 2009245, 40448191, 9031088, 7554661, 71158647, 60776238], \"sizemode\": \"area\", \"sizeref\": 435928.2961983471, \"symbol\": \"circle\"}, \"mode\": \"markers\", \"name\": \"Europe\", \"orientation\": \"v\", \"showlegend\": true, \"x\": [5937.029525999999, 36126.4927, 33692.60508, 7446.298803, 10680.79282, 14619.222719999998, 22833.30851, 35278.41874, 33207.0844, 30470.0167, 32170.37442, 27538.41188, 18008.94444, 36180.789189999996, 40675.99635, 28569.7197, 9253.896111, 36797.93332, 49357.19017, 15389.924680000002, 20509.64777, 10808.47561, 9786.534714, 18678.31435, 25768.25759, 28821.0637, 33859.74835, 37506.419069999996, 8458.276384, 33203.26128], \"xaxis\": \"x\", \"y\": [76.423, 79.829, 79.441, 74.852, 73.005, 75.748, 76.486, 78.332, 79.313, 80.657, 79.406, 79.483, 73.33800000000001, 81.757, 78.885, 80.546, 74.543, 79.762, 80.196, 75.563, 78.098, 72.476, 74.002, 74.663, 77.926, 80.941, 80.884, 81.70100000000001, 71.777, 79.425], \"yaxis\": \"y\", \"type\": \"scatter\"}, {\"hovertemplate\": \"<b>%{hovertext}</b><br><br>continent=Africa<br>year=2007<br>gdpPercap=%{x}<br>lifeExp=%{y}<br>pop=%{marker.size}<extra></extra>\", \"hovertext\": [\"Algeria\", \"Angola\", \"Benin\", \"Botswana\", \"Burkina Faso\", \"Burundi\", \"Cameroon\", \"Central African Republic\", \"Chad\", \"Comoros\", \"Congo, Dem. Rep.\", \"Congo, Rep.\", \"Cote d'Ivoire\", \"Djibouti\", \"Egypt\", \"Equatorial Guinea\", \"Eritrea\", \"Ethiopia\", \"Gabon\", \"Gambia\", \"Ghana\", \"Guinea\", \"Guinea-Bissau\", \"Kenya\", \"Lesotho\", \"Liberia\", \"Libya\", \"Madagascar\", \"Malawi\", \"Mali\", \"Mauritania\", \"Mauritius\", \"Morocco\", \"Mozambique\", \"Namibia\", \"Niger\", \"Nigeria\", \"Reunion\", \"Rwanda\", \"Sao Tome and Principe\", \"Senegal\", \"Sierra Leone\", \"Somalia\", \"South Africa\", \"Sudan\", \"Swaziland\", \"Tanzania\", \"Togo\", \"Tunisia\", \"Uganda\", \"Zambia\", \"Zimbabwe\"], \"legendgroup\": \"Africa\", \"marker\": {\"color\": \"#00cc96\", \"size\": [33333216, 12420476, 8078314, 1639131, 14326203, 8390505, 17696293, 4369038, 10238807, 710960, 64606759, 3800610, 18013409, 496374, 80264543, 551201, 4906585, 76511887, 1454867, 1688359, 22873338, 9947814, 1472041, 35610177, 2012649, 3193942, 6036914, 19167654, 13327079, 12031795, 3270065, 1250882, 33757175, 19951656, 2055080, 12894865, 135031164, 798094, 8860588, 199579, 12267493, 6144562, 9118773, 43997828, 42292929, 1133066, 38139640, 5701579, 10276158, 29170398, 11746035, 12311143], \"sizemode\": \"area\", \"sizeref\": 435928.2961983471, \"symbol\": \"circle\"}, \"mode\": \"markers\", \"name\": \"Africa\", \"orientation\": \"v\", \"showlegend\": true, \"x\": [6223.367465, 4797.231267, 1441.284873, 12569.851770000001, 1217.032994, 430.07069160000003, 2042.0952399999999, 706.016537, 1704.0637239999999, 986.1478792000001, 277.55185869999997, 3632.557798, 1544.750112, 2082.4815670000003, 5581.180998, 12154.08975, 641.3695236000001, 690.8055759, 13206.48452, 752.7497265, 1327.60891, 942.6542111, 579.2317429999999, 1463.249282, 1569.331442, 414.5073415, 12057.49928, 1044.770126, 759.3499101, 1042.581557, 1803.1514960000002, 10956.99112, 3820.17523, 823.6856205, 4811.060429, 619.6768923999999, 2013.9773050000001, 7670.122558, 863.0884639000001, 1598.435089, 1712.4721359999999, 862.5407561000001, 926.1410683, 9269.657808, 2602.394995, 4513.480643, 1107.482182, 882.9699437999999, 7092.923025, 1056.3801210000001, 1271.211593, 469.70929810000007], \"xaxis\": \"x\", \"y\": [72.301, 42.731, 56.728, 50.728, 52.295, 49.58, 50.43, 44.74100000000001, 50.651, 65.152, 46.461999999999996, 55.321999999999996, 48.328, 54.791000000000004, 71.33800000000001, 51.57899999999999, 58.04, 52.946999999999996, 56.735, 59.448, 60.022, 56.007, 46.388000000000005, 54.11, 42.592, 45.678000000000004, 73.952, 59.443000000000005, 48.303000000000004, 54.467, 64.164, 72.801, 71.164, 42.082, 52.906000000000006, 56.867, 46.858999999999995, 76.442, 46.242, 65.528, 63.062, 42.568000000000005, 48.159, 49.339, 58.556000000000004, 39.613, 52.516999999999996, 58.42, 73.923, 51.542, 42.38399999999999, 43.486999999999995], \"yaxis\": \"y\", \"type\": \"scatter\"}, {\"hovertemplate\": \"<b>%{hovertext}</b><br><br>continent=Americas<br>year=2007<br>gdpPercap=%{x}<br>lifeExp=%{y}<br>pop=%{marker.size}<extra></extra>\", \"hovertext\": [\"Argentina\", \"Bolivia\", \"Brazil\", \"Canada\", \"Chile\", \"Colombia\", \"Costa Rica\", \"Cuba\", \"Dominican Republic\", \"Ecuador\", \"El Salvador\", \"Guatemala\", \"Haiti\", \"Honduras\", \"Jamaica\", \"Mexico\", \"Nicaragua\", \"Panama\", \"Paraguay\", \"Peru\", \"Puerto Rico\", \"Trinidad and Tobago\", \"United States\", \"Uruguay\", \"Venezuela\"], \"legendgroup\": \"Americas\", \"marker\": {\"color\": \"#ab63fa\", \"size\": [40301927, 9119152, 190010647, 33390141, 16284741, 44227550, 4133884, 11416987, 9319622, 13755680, 6939688, 12572928, 8502814, 7483763, 2780132, 108700891, 5675356, 3242173, 6667147, 28674757, 3942491, 1056608, 301139947, 3447496, 26084662], \"sizemode\": \"area\", \"sizeref\": 435928.2961983471, \"symbol\": \"circle\"}, \"mode\": \"markers\", \"name\": \"Americas\", \"orientation\": \"v\", \"showlegend\": true, \"x\": [12779.379640000001, 3822.1370840000004, 9065.800825, 36319.235010000004, 13171.63885, 7006.580419, 9645.06142, 8948.102923, 6025.374752000001, 6873.262326000001, 5728.353514, 5186.050003, 1201.637154, 3548.3308460000003, 7320.880262000001, 11977.57496, 2749.320965, 9809.185636, 4172.838464, 7408.905561, 19328.70901, 18008.50924, 42951.65309, 10611.46299, 11415.805690000001], \"xaxis\": \"x\", \"y\": [75.32, 65.554, 72.39, 80.653, 78.553, 72.889, 78.782, 78.273, 72.235, 74.994, 71.878, 70.259, 60.916000000000004, 70.19800000000001, 72.567, 76.195, 72.899, 75.53699999999999, 71.752, 71.421, 78.74600000000001, 69.819, 78.242, 76.384, 73.747], \"yaxis\": \"y\", \"type\": \"scatter\"}, {\"hovertemplate\": \"<b>%{hovertext}</b><br><br>continent=Oceania<br>year=2007<br>gdpPercap=%{x}<br>lifeExp=%{y}<br>pop=%{marker.size}<extra></extra>\", \"hovertext\": [\"Australia\", \"New Zealand\"], \"legendgroup\": \"Oceania\", \"marker\": {\"color\": \"#FFA15A\", \"size\": [20434176, 4115771], \"sizemode\": \"area\", \"sizeref\": 435928.2961983471, \"symbol\": \"circle\"}, \"mode\": \"markers\", \"name\": \"Oceania\", \"orientation\": \"v\", \"showlegend\": true, \"x\": [34435.367439999995, 25185.00911], \"xaxis\": \"x\", \"y\": [81.235, 80.204], \"yaxis\": \"y\", \"type\": \"scatter\"}], \"name\": \"2007\"}]);\n",
       "                        }).then(function(){\n",
       "                            \n",
       "var gd = document.getElementById('ae65a9a2-07d7-4024-b89e-6c6694fe50fb');\n",
       "var x = new MutationObserver(function (mutations, observer) {{\n",
       "        var display = window.getComputedStyle(gd).display;\n",
       "        if (!display || display === 'none') {{\n",
       "            console.log([gd, 'removed!']);\n",
       "            Plotly.purge(gd);\n",
       "            observer.disconnect();\n",
       "        }}\n",
       "}});\n",
       "\n",
       "// Listen for the removal of the full notebook cells\n",
       "var notebookContainer = gd.closest('#notebook-container');\n",
       "if (notebookContainer) {{\n",
       "    x.observe(notebookContainer, {childList: true});\n",
       "}}\n",
       "\n",
       "// Listen for the clearing of the current output cell\n",
       "var outputEl = gd.closest('.output');\n",
       "if (outputEl) {{\n",
       "    x.observe(outputEl, {childList: true});\n",
       "}}\n",
       "\n",
       "                        })\n",
       "                };\n",
       "                });\n",
       "            </script>\n",
       "        </div>"
      ]
     },
     "metadata": {},
     "output_type": "display_data"
    }
   ],
   "source": [
    "df=px.data.gapminder()\n",
    "fig=px.scatter(\n",
    "    df,\n",
    "    x=\"gdpPercap\",\n",
    "    y=\"lifeExp\",\n",
    "    animation_frame=\"year\",\n",
    "    size=\"pop\",\n",
    "    color=\"continent\",\n",
    "    hover_name=\"country\",\n",
    "    log_x=True,\n",
    "    size_max=55,\n",
    "    range_x=[100,100000],\n",
    "    range_y=[25,90],\n",
    "    color_continuous_scale=px.colors.sequential.Emrld\n",
    ")\n",
    "fig.update_layout(\n",
    "    width=1000,\n",
    "    height=800,\n",
    "    xaxis_showgrid=False,\n",
    "    yaxis_showgrid=False,\n",
    "    paper_bgcolor='rgba(0,0,0,0)',\n",
    "    plot_bgcolor='rgba(0,0,0,0)'\n",
    ")"
   ]
  },
  {
   "cell_type": "markdown",
   "metadata": {},
   "source": [
    "## 太阳图\n",
    "太阳图（sunburst chart）是一种可视化 group by 语句的好方法。如果你想通过一个或多个类别变量来分解一个给定的量，那就用太阳图吧。\n",
    "\n",
    "假设我们想根据性别和每天的时间分解平均小费数据，那么相较于表格，这种双重 group by 语句可以通过可视化来更有效地展示。\n",
    "\n",
    "这个图表是交互式的，让你可以自己点击并探索各个类别。你只需要定义你的所有类别，并声明它们之间的层次结构（见以下代码中的 parents 参数）并分配对应的值即可，这在我们案例中即为 group by 语句的输出。"
   ]
  },
  {
   "cell_type": "code",
   "execution_count": 18,
   "metadata": {},
   "outputs": [
    {
     "data": {
      "application/vnd.plotly.v1+json": {
       "config": {
        "plotlyServerURL": "https://plot.ly"
       },
       "data": [
        {
         "labels": [
          "Female",
          "Male",
          "Dinner",
          "Lunch",
          "Dinner ",
          "Lunch "
         ],
         "marker": {
          "colors": [
           "rgb(211, 242, 163)",
           "rgb(151, 225, 150)",
           "rgb(108, 192, 139)",
           "rgb(76, 155, 130)",
           "rgb(33, 122, 121)",
           "rgb(16, 89, 101)",
           "rgb(7, 64, 80)"
          ]
         },
         "parents": [
          "",
          "",
          "Female",
          "Female",
          "Male",
          "Male"
         ],
         "type": "sunburst",
         "values": [
          2.833448275862069,
          3.0896178343949052,
          3.0021153846153843,
          2.5828571428571436,
          3.1448387096774195,
          2.8821212121212123
         ]
        }
       ],
       "layout": {
        "margin": {
         "b": 0,
         "l": 0,
         "r": 0,
         "t": 0
        },
        "paper_bgcolor": "rgba(0,0,0,0)",
        "plot_bgcolor": "rgba(0,0,0,0)",
        "template": {
         "data": {
          "bar": [
           {
            "error_x": {
             "color": "#2a3f5f"
            },
            "error_y": {
             "color": "#2a3f5f"
            },
            "marker": {
             "line": {
              "color": "#E5ECF6",
              "width": 0.5
             }
            },
            "type": "bar"
           }
          ],
          "barpolar": [
           {
            "marker": {
             "line": {
              "color": "#E5ECF6",
              "width": 0.5
             }
            },
            "type": "barpolar"
           }
          ],
          "carpet": [
           {
            "aaxis": {
             "endlinecolor": "#2a3f5f",
             "gridcolor": "white",
             "linecolor": "white",
             "minorgridcolor": "white",
             "startlinecolor": "#2a3f5f"
            },
            "baxis": {
             "endlinecolor": "#2a3f5f",
             "gridcolor": "white",
             "linecolor": "white",
             "minorgridcolor": "white",
             "startlinecolor": "#2a3f5f"
            },
            "type": "carpet"
           }
          ],
          "choropleth": [
           {
            "colorbar": {
             "outlinewidth": 0,
             "ticks": ""
            },
            "type": "choropleth"
           }
          ],
          "contour": [
           {
            "colorbar": {
             "outlinewidth": 0,
             "ticks": ""
            },
            "colorscale": [
             [
              0,
              "#0d0887"
             ],
             [
              0.1111111111111111,
              "#46039f"
             ],
             [
              0.2222222222222222,
              "#7201a8"
             ],
             [
              0.3333333333333333,
              "#9c179e"
             ],
             [
              0.4444444444444444,
              "#bd3786"
             ],
             [
              0.5555555555555556,
              "#d8576b"
             ],
             [
              0.6666666666666666,
              "#ed7953"
             ],
             [
              0.7777777777777778,
              "#fb9f3a"
             ],
             [
              0.8888888888888888,
              "#fdca26"
             ],
             [
              1,
              "#f0f921"
             ]
            ],
            "type": "contour"
           }
          ],
          "contourcarpet": [
           {
            "colorbar": {
             "outlinewidth": 0,
             "ticks": ""
            },
            "type": "contourcarpet"
           }
          ],
          "heatmap": [
           {
            "colorbar": {
             "outlinewidth": 0,
             "ticks": ""
            },
            "colorscale": [
             [
              0,
              "#0d0887"
             ],
             [
              0.1111111111111111,
              "#46039f"
             ],
             [
              0.2222222222222222,
              "#7201a8"
             ],
             [
              0.3333333333333333,
              "#9c179e"
             ],
             [
              0.4444444444444444,
              "#bd3786"
             ],
             [
              0.5555555555555556,
              "#d8576b"
             ],
             [
              0.6666666666666666,
              "#ed7953"
             ],
             [
              0.7777777777777778,
              "#fb9f3a"
             ],
             [
              0.8888888888888888,
              "#fdca26"
             ],
             [
              1,
              "#f0f921"
             ]
            ],
            "type": "heatmap"
           }
          ],
          "heatmapgl": [
           {
            "colorbar": {
             "outlinewidth": 0,
             "ticks": ""
            },
            "colorscale": [
             [
              0,
              "#0d0887"
             ],
             [
              0.1111111111111111,
              "#46039f"
             ],
             [
              0.2222222222222222,
              "#7201a8"
             ],
             [
              0.3333333333333333,
              "#9c179e"
             ],
             [
              0.4444444444444444,
              "#bd3786"
             ],
             [
              0.5555555555555556,
              "#d8576b"
             ],
             [
              0.6666666666666666,
              "#ed7953"
             ],
             [
              0.7777777777777778,
              "#fb9f3a"
             ],
             [
              0.8888888888888888,
              "#fdca26"
             ],
             [
              1,
              "#f0f921"
             ]
            ],
            "type": "heatmapgl"
           }
          ],
          "histogram": [
           {
            "marker": {
             "colorbar": {
              "outlinewidth": 0,
              "ticks": ""
             }
            },
            "type": "histogram"
           }
          ],
          "histogram2d": [
           {
            "colorbar": {
             "outlinewidth": 0,
             "ticks": ""
            },
            "colorscale": [
             [
              0,
              "#0d0887"
             ],
             [
              0.1111111111111111,
              "#46039f"
             ],
             [
              0.2222222222222222,
              "#7201a8"
             ],
             [
              0.3333333333333333,
              "#9c179e"
             ],
             [
              0.4444444444444444,
              "#bd3786"
             ],
             [
              0.5555555555555556,
              "#d8576b"
             ],
             [
              0.6666666666666666,
              "#ed7953"
             ],
             [
              0.7777777777777778,
              "#fb9f3a"
             ],
             [
              0.8888888888888888,
              "#fdca26"
             ],
             [
              1,
              "#f0f921"
             ]
            ],
            "type": "histogram2d"
           }
          ],
          "histogram2dcontour": [
           {
            "colorbar": {
             "outlinewidth": 0,
             "ticks": ""
            },
            "colorscale": [
             [
              0,
              "#0d0887"
             ],
             [
              0.1111111111111111,
              "#46039f"
             ],
             [
              0.2222222222222222,
              "#7201a8"
             ],
             [
              0.3333333333333333,
              "#9c179e"
             ],
             [
              0.4444444444444444,
              "#bd3786"
             ],
             [
              0.5555555555555556,
              "#d8576b"
             ],
             [
              0.6666666666666666,
              "#ed7953"
             ],
             [
              0.7777777777777778,
              "#fb9f3a"
             ],
             [
              0.8888888888888888,
              "#fdca26"
             ],
             [
              1,
              "#f0f921"
             ]
            ],
            "type": "histogram2dcontour"
           }
          ],
          "mesh3d": [
           {
            "colorbar": {
             "outlinewidth": 0,
             "ticks": ""
            },
            "type": "mesh3d"
           }
          ],
          "parcoords": [
           {
            "line": {
             "colorbar": {
              "outlinewidth": 0,
              "ticks": ""
             }
            },
            "type": "parcoords"
           }
          ],
          "pie": [
           {
            "automargin": true,
            "type": "pie"
           }
          ],
          "scatter": [
           {
            "marker": {
             "colorbar": {
              "outlinewidth": 0,
              "ticks": ""
             }
            },
            "type": "scatter"
           }
          ],
          "scatter3d": [
           {
            "line": {
             "colorbar": {
              "outlinewidth": 0,
              "ticks": ""
             }
            },
            "marker": {
             "colorbar": {
              "outlinewidth": 0,
              "ticks": ""
             }
            },
            "type": "scatter3d"
           }
          ],
          "scattercarpet": [
           {
            "marker": {
             "colorbar": {
              "outlinewidth": 0,
              "ticks": ""
             }
            },
            "type": "scattercarpet"
           }
          ],
          "scattergeo": [
           {
            "marker": {
             "colorbar": {
              "outlinewidth": 0,
              "ticks": ""
             }
            },
            "type": "scattergeo"
           }
          ],
          "scattergl": [
           {
            "marker": {
             "colorbar": {
              "outlinewidth": 0,
              "ticks": ""
             }
            },
            "type": "scattergl"
           }
          ],
          "scattermapbox": [
           {
            "marker": {
             "colorbar": {
              "outlinewidth": 0,
              "ticks": ""
             }
            },
            "type": "scattermapbox"
           }
          ],
          "scatterpolar": [
           {
            "marker": {
             "colorbar": {
              "outlinewidth": 0,
              "ticks": ""
             }
            },
            "type": "scatterpolar"
           }
          ],
          "scatterpolargl": [
           {
            "marker": {
             "colorbar": {
              "outlinewidth": 0,
              "ticks": ""
             }
            },
            "type": "scatterpolargl"
           }
          ],
          "scatterternary": [
           {
            "marker": {
             "colorbar": {
              "outlinewidth": 0,
              "ticks": ""
             }
            },
            "type": "scatterternary"
           }
          ],
          "surface": [
           {
            "colorbar": {
             "outlinewidth": 0,
             "ticks": ""
            },
            "colorscale": [
             [
              0,
              "#0d0887"
             ],
             [
              0.1111111111111111,
              "#46039f"
             ],
             [
              0.2222222222222222,
              "#7201a8"
             ],
             [
              0.3333333333333333,
              "#9c179e"
             ],
             [
              0.4444444444444444,
              "#bd3786"
             ],
             [
              0.5555555555555556,
              "#d8576b"
             ],
             [
              0.6666666666666666,
              "#ed7953"
             ],
             [
              0.7777777777777778,
              "#fb9f3a"
             ],
             [
              0.8888888888888888,
              "#fdca26"
             ],
             [
              1,
              "#f0f921"
             ]
            ],
            "type": "surface"
           }
          ],
          "table": [
           {
            "cells": {
             "fill": {
              "color": "#EBF0F8"
             },
             "line": {
              "color": "white"
             }
            },
            "header": {
             "fill": {
              "color": "#C8D4E3"
             },
             "line": {
              "color": "white"
             }
            },
            "type": "table"
           }
          ]
         },
         "layout": {
          "annotationdefaults": {
           "arrowcolor": "#2a3f5f",
           "arrowhead": 0,
           "arrowwidth": 1
          },
          "coloraxis": {
           "colorbar": {
            "outlinewidth": 0,
            "ticks": ""
           }
          },
          "colorscale": {
           "diverging": [
            [
             0,
             "#8e0152"
            ],
            [
             0.1,
             "#c51b7d"
            ],
            [
             0.2,
             "#de77ae"
            ],
            [
             0.3,
             "#f1b6da"
            ],
            [
             0.4,
             "#fde0ef"
            ],
            [
             0.5,
             "#f7f7f7"
            ],
            [
             0.6,
             "#e6f5d0"
            ],
            [
             0.7,
             "#b8e186"
            ],
            [
             0.8,
             "#7fbc41"
            ],
            [
             0.9,
             "#4d9221"
            ],
            [
             1,
             "#276419"
            ]
           ],
           "sequential": [
            [
             0,
             "#0d0887"
            ],
            [
             0.1111111111111111,
             "#46039f"
            ],
            [
             0.2222222222222222,
             "#7201a8"
            ],
            [
             0.3333333333333333,
             "#9c179e"
            ],
            [
             0.4444444444444444,
             "#bd3786"
            ],
            [
             0.5555555555555556,
             "#d8576b"
            ],
            [
             0.6666666666666666,
             "#ed7953"
            ],
            [
             0.7777777777777778,
             "#fb9f3a"
            ],
            [
             0.8888888888888888,
             "#fdca26"
            ],
            [
             1,
             "#f0f921"
            ]
           ],
           "sequentialminus": [
            [
             0,
             "#0d0887"
            ],
            [
             0.1111111111111111,
             "#46039f"
            ],
            [
             0.2222222222222222,
             "#7201a8"
            ],
            [
             0.3333333333333333,
             "#9c179e"
            ],
            [
             0.4444444444444444,
             "#bd3786"
            ],
            [
             0.5555555555555556,
             "#d8576b"
            ],
            [
             0.6666666666666666,
             "#ed7953"
            ],
            [
             0.7777777777777778,
             "#fb9f3a"
            ],
            [
             0.8888888888888888,
             "#fdca26"
            ],
            [
             1,
             "#f0f921"
            ]
           ]
          },
          "colorway": [
           "#636efa",
           "#EF553B",
           "#00cc96",
           "#ab63fa",
           "#FFA15A",
           "#19d3f3",
           "#FF6692",
           "#B6E880",
           "#FF97FF",
           "#FECB52"
          ],
          "font": {
           "color": "#2a3f5f"
          },
          "geo": {
           "bgcolor": "white",
           "lakecolor": "white",
           "landcolor": "#E5ECF6",
           "showlakes": true,
           "showland": true,
           "subunitcolor": "white"
          },
          "hoverlabel": {
           "align": "left"
          },
          "hovermode": "closest",
          "mapbox": {
           "style": "light"
          },
          "paper_bgcolor": "white",
          "plot_bgcolor": "#E5ECF6",
          "polar": {
           "angularaxis": {
            "gridcolor": "white",
            "linecolor": "white",
            "ticks": ""
           },
           "bgcolor": "#E5ECF6",
           "radialaxis": {
            "gridcolor": "white",
            "linecolor": "white",
            "ticks": ""
           }
          },
          "scene": {
           "xaxis": {
            "backgroundcolor": "#E5ECF6",
            "gridcolor": "white",
            "gridwidth": 2,
            "linecolor": "white",
            "showbackground": true,
            "ticks": "",
            "zerolinecolor": "white"
           },
           "yaxis": {
            "backgroundcolor": "#E5ECF6",
            "gridcolor": "white",
            "gridwidth": 2,
            "linecolor": "white",
            "showbackground": true,
            "ticks": "",
            "zerolinecolor": "white"
           },
           "zaxis": {
            "backgroundcolor": "#E5ECF6",
            "gridcolor": "white",
            "gridwidth": 2,
            "linecolor": "white",
            "showbackground": true,
            "ticks": "",
            "zerolinecolor": "white"
           }
          },
          "shapedefaults": {
           "line": {
            "color": "#2a3f5f"
           }
          },
          "ternary": {
           "aaxis": {
            "gridcolor": "white",
            "linecolor": "white",
            "ticks": ""
           },
           "baxis": {
            "gridcolor": "white",
            "linecolor": "white",
            "ticks": ""
           },
           "bgcolor": "#E5ECF6",
           "caxis": {
            "gridcolor": "white",
            "linecolor": "white",
            "ticks": ""
           }
          },
          "title": {
           "x": 0.05
          },
          "xaxis": {
           "automargin": true,
           "gridcolor": "white",
           "linecolor": "white",
           "ticks": "",
           "title": {
            "standoff": 15
           },
           "zerolinecolor": "white",
           "zerolinewidth": 2
          },
          "yaxis": {
           "automargin": true,
           "gridcolor": "white",
           "linecolor": "white",
           "ticks": "",
           "title": {
            "standoff": 15
           },
           "zerolinecolor": "white",
           "zerolinewidth": 2
          }
         }
        },
        "title": {
         "text": "Tipping Habbits Per Gender, Time and Day"
        }
       }
      },
      "text/html": [
       "<div>\n",
       "        \n",
       "        \n",
       "            <div id=\"1c2c0867-540f-436a-acbb-79d678190b7e\" class=\"plotly-graph-div\" style=\"height:525px; width:100%;\"></div>\n",
       "            <script type=\"text/javascript\">\n",
       "                require([\"plotly\"], function(Plotly) {\n",
       "                    window.PLOTLYENV=window.PLOTLYENV || {};\n",
       "                    \n",
       "                if (document.getElementById(\"1c2c0867-540f-436a-acbb-79d678190b7e\")) {\n",
       "                    Plotly.newPlot(\n",
       "                        '1c2c0867-540f-436a-acbb-79d678190b7e',\n",
       "                        [{\"labels\": [\"Female\", \"Male\", \"Dinner\", \"Lunch\", \"Dinner \", \"Lunch \"], \"marker\": {\"colors\": [\"rgb(211, 242, 163)\", \"rgb(151, 225, 150)\", \"rgb(108, 192, 139)\", \"rgb(76, 155, 130)\", \"rgb(33, 122, 121)\", \"rgb(16, 89, 101)\", \"rgb(7, 64, 80)\"]}, \"parents\": [\"\", \"\", \"Female\", \"Female\", \"Male\", \"Male\"], \"type\": \"sunburst\", \"values\": [2.833448275862069, 3.0896178343949052, 3.0021153846153843, 2.5828571428571436, 3.1448387096774195, 2.8821212121212123]}],\n",
       "                        {\"margin\": {\"b\": 0, \"l\": 0, \"r\": 0, \"t\": 0}, \"paper_bgcolor\": \"rgba(0,0,0,0)\", \"plot_bgcolor\": \"rgba(0,0,0,0)\", \"template\": {\"data\": {\"bar\": [{\"error_x\": {\"color\": \"#2a3f5f\"}, \"error_y\": {\"color\": \"#2a3f5f\"}, \"marker\": {\"line\": {\"color\": \"#E5ECF6\", \"width\": 0.5}}, \"type\": \"bar\"}], \"barpolar\": [{\"marker\": {\"line\": {\"color\": \"#E5ECF6\", \"width\": 0.5}}, \"type\": \"barpolar\"}], \"carpet\": [{\"aaxis\": {\"endlinecolor\": \"#2a3f5f\", \"gridcolor\": \"white\", \"linecolor\": \"white\", \"minorgridcolor\": \"white\", \"startlinecolor\": \"#2a3f5f\"}, \"baxis\": {\"endlinecolor\": \"#2a3f5f\", \"gridcolor\": \"white\", \"linecolor\": \"white\", \"minorgridcolor\": \"white\", \"startlinecolor\": \"#2a3f5f\"}, \"type\": \"carpet\"}], \"choropleth\": [{\"colorbar\": {\"outlinewidth\": 0, \"ticks\": \"\"}, \"type\": \"choropleth\"}], \"contour\": [{\"colorbar\": {\"outlinewidth\": 0, \"ticks\": \"\"}, \"colorscale\": [[0.0, \"#0d0887\"], [0.1111111111111111, \"#46039f\"], [0.2222222222222222, \"#7201a8\"], [0.3333333333333333, \"#9c179e\"], [0.4444444444444444, \"#bd3786\"], [0.5555555555555556, \"#d8576b\"], [0.6666666666666666, \"#ed7953\"], [0.7777777777777778, \"#fb9f3a\"], [0.8888888888888888, \"#fdca26\"], [1.0, \"#f0f921\"]], \"type\": \"contour\"}], \"contourcarpet\": [{\"colorbar\": {\"outlinewidth\": 0, \"ticks\": \"\"}, \"type\": \"contourcarpet\"}], \"heatmap\": [{\"colorbar\": {\"outlinewidth\": 0, \"ticks\": \"\"}, \"colorscale\": [[0.0, \"#0d0887\"], [0.1111111111111111, \"#46039f\"], [0.2222222222222222, \"#7201a8\"], [0.3333333333333333, \"#9c179e\"], [0.4444444444444444, \"#bd3786\"], [0.5555555555555556, \"#d8576b\"], [0.6666666666666666, \"#ed7953\"], [0.7777777777777778, \"#fb9f3a\"], [0.8888888888888888, \"#fdca26\"], [1.0, \"#f0f921\"]], \"type\": \"heatmap\"}], \"heatmapgl\": [{\"colorbar\": {\"outlinewidth\": 0, \"ticks\": \"\"}, \"colorscale\": [[0.0, \"#0d0887\"], [0.1111111111111111, \"#46039f\"], [0.2222222222222222, \"#7201a8\"], [0.3333333333333333, \"#9c179e\"], [0.4444444444444444, \"#bd3786\"], [0.5555555555555556, \"#d8576b\"], [0.6666666666666666, \"#ed7953\"], [0.7777777777777778, \"#fb9f3a\"], [0.8888888888888888, \"#fdca26\"], [1.0, \"#f0f921\"]], \"type\": \"heatmapgl\"}], \"histogram\": [{\"marker\": {\"colorbar\": {\"outlinewidth\": 0, \"ticks\": \"\"}}, \"type\": \"histogram\"}], \"histogram2d\": [{\"colorbar\": {\"outlinewidth\": 0, \"ticks\": \"\"}, \"colorscale\": [[0.0, \"#0d0887\"], [0.1111111111111111, \"#46039f\"], [0.2222222222222222, \"#7201a8\"], [0.3333333333333333, \"#9c179e\"], [0.4444444444444444, \"#bd3786\"], [0.5555555555555556, \"#d8576b\"], [0.6666666666666666, \"#ed7953\"], [0.7777777777777778, \"#fb9f3a\"], [0.8888888888888888, \"#fdca26\"], [1.0, \"#f0f921\"]], \"type\": \"histogram2d\"}], \"histogram2dcontour\": [{\"colorbar\": {\"outlinewidth\": 0, \"ticks\": \"\"}, \"colorscale\": [[0.0, \"#0d0887\"], [0.1111111111111111, \"#46039f\"], [0.2222222222222222, \"#7201a8\"], [0.3333333333333333, \"#9c179e\"], [0.4444444444444444, \"#bd3786\"], [0.5555555555555556, \"#d8576b\"], [0.6666666666666666, \"#ed7953\"], [0.7777777777777778, \"#fb9f3a\"], [0.8888888888888888, \"#fdca26\"], [1.0, \"#f0f921\"]], \"type\": \"histogram2dcontour\"}], \"mesh3d\": [{\"colorbar\": {\"outlinewidth\": 0, \"ticks\": \"\"}, \"type\": \"mesh3d\"}], \"parcoords\": [{\"line\": {\"colorbar\": {\"outlinewidth\": 0, \"ticks\": \"\"}}, \"type\": \"parcoords\"}], \"pie\": [{\"automargin\": true, \"type\": \"pie\"}], \"scatter\": [{\"marker\": {\"colorbar\": {\"outlinewidth\": 0, \"ticks\": \"\"}}, \"type\": \"scatter\"}], \"scatter3d\": [{\"line\": {\"colorbar\": {\"outlinewidth\": 0, \"ticks\": \"\"}}, \"marker\": {\"colorbar\": {\"outlinewidth\": 0, \"ticks\": \"\"}}, \"type\": \"scatter3d\"}], \"scattercarpet\": [{\"marker\": {\"colorbar\": {\"outlinewidth\": 0, \"ticks\": \"\"}}, \"type\": \"scattercarpet\"}], \"scattergeo\": [{\"marker\": {\"colorbar\": {\"outlinewidth\": 0, \"ticks\": \"\"}}, \"type\": \"scattergeo\"}], \"scattergl\": [{\"marker\": {\"colorbar\": {\"outlinewidth\": 0, \"ticks\": \"\"}}, \"type\": \"scattergl\"}], \"scattermapbox\": [{\"marker\": {\"colorbar\": {\"outlinewidth\": 0, \"ticks\": \"\"}}, \"type\": \"scattermapbox\"}], \"scatterpolar\": [{\"marker\": {\"colorbar\": {\"outlinewidth\": 0, \"ticks\": \"\"}}, \"type\": \"scatterpolar\"}], \"scatterpolargl\": [{\"marker\": {\"colorbar\": {\"outlinewidth\": 0, \"ticks\": \"\"}}, \"type\": \"scatterpolargl\"}], \"scatterternary\": [{\"marker\": {\"colorbar\": {\"outlinewidth\": 0, \"ticks\": \"\"}}, \"type\": \"scatterternary\"}], \"surface\": [{\"colorbar\": {\"outlinewidth\": 0, \"ticks\": \"\"}, \"colorscale\": [[0.0, \"#0d0887\"], [0.1111111111111111, \"#46039f\"], [0.2222222222222222, \"#7201a8\"], [0.3333333333333333, \"#9c179e\"], [0.4444444444444444, \"#bd3786\"], [0.5555555555555556, \"#d8576b\"], [0.6666666666666666, \"#ed7953\"], [0.7777777777777778, \"#fb9f3a\"], [0.8888888888888888, \"#fdca26\"], [1.0, \"#f0f921\"]], \"type\": \"surface\"}], \"table\": [{\"cells\": {\"fill\": {\"color\": \"#EBF0F8\"}, \"line\": {\"color\": \"white\"}}, \"header\": {\"fill\": {\"color\": \"#C8D4E3\"}, \"line\": {\"color\": \"white\"}}, \"type\": \"table\"}]}, \"layout\": {\"annotationdefaults\": {\"arrowcolor\": \"#2a3f5f\", \"arrowhead\": 0, \"arrowwidth\": 1}, \"coloraxis\": {\"colorbar\": {\"outlinewidth\": 0, \"ticks\": \"\"}}, \"colorscale\": {\"diverging\": [[0, \"#8e0152\"], [0.1, \"#c51b7d\"], [0.2, \"#de77ae\"], [0.3, \"#f1b6da\"], [0.4, \"#fde0ef\"], [0.5, \"#f7f7f7\"], [0.6, \"#e6f5d0\"], [0.7, \"#b8e186\"], [0.8, \"#7fbc41\"], [0.9, \"#4d9221\"], [1, \"#276419\"]], \"sequential\": [[0.0, \"#0d0887\"], [0.1111111111111111, \"#46039f\"], [0.2222222222222222, \"#7201a8\"], [0.3333333333333333, \"#9c179e\"], [0.4444444444444444, \"#bd3786\"], [0.5555555555555556, \"#d8576b\"], [0.6666666666666666, \"#ed7953\"], [0.7777777777777778, \"#fb9f3a\"], [0.8888888888888888, \"#fdca26\"], [1.0, \"#f0f921\"]], \"sequentialminus\": [[0.0, \"#0d0887\"], [0.1111111111111111, \"#46039f\"], [0.2222222222222222, \"#7201a8\"], [0.3333333333333333, \"#9c179e\"], [0.4444444444444444, \"#bd3786\"], [0.5555555555555556, \"#d8576b\"], [0.6666666666666666, \"#ed7953\"], [0.7777777777777778, \"#fb9f3a\"], [0.8888888888888888, \"#fdca26\"], [1.0, \"#f0f921\"]]}, \"colorway\": [\"#636efa\", \"#EF553B\", \"#00cc96\", \"#ab63fa\", \"#FFA15A\", \"#19d3f3\", \"#FF6692\", \"#B6E880\", \"#FF97FF\", \"#FECB52\"], \"font\": {\"color\": \"#2a3f5f\"}, \"geo\": {\"bgcolor\": \"white\", \"lakecolor\": \"white\", \"landcolor\": \"#E5ECF6\", \"showlakes\": true, \"showland\": true, \"subunitcolor\": \"white\"}, \"hoverlabel\": {\"align\": \"left\"}, \"hovermode\": \"closest\", \"mapbox\": {\"style\": \"light\"}, \"paper_bgcolor\": \"white\", \"plot_bgcolor\": \"#E5ECF6\", \"polar\": {\"angularaxis\": {\"gridcolor\": \"white\", \"linecolor\": \"white\", \"ticks\": \"\"}, \"bgcolor\": \"#E5ECF6\", \"radialaxis\": {\"gridcolor\": \"white\", \"linecolor\": \"white\", \"ticks\": \"\"}}, \"scene\": {\"xaxis\": {\"backgroundcolor\": \"#E5ECF6\", \"gridcolor\": \"white\", \"gridwidth\": 2, \"linecolor\": \"white\", \"showbackground\": true, \"ticks\": \"\", \"zerolinecolor\": \"white\"}, \"yaxis\": {\"backgroundcolor\": \"#E5ECF6\", \"gridcolor\": \"white\", \"gridwidth\": 2, \"linecolor\": \"white\", \"showbackground\": true, \"ticks\": \"\", \"zerolinecolor\": \"white\"}, \"zaxis\": {\"backgroundcolor\": \"#E5ECF6\", \"gridcolor\": \"white\", \"gridwidth\": 2, \"linecolor\": \"white\", \"showbackground\": true, \"ticks\": \"\", \"zerolinecolor\": \"white\"}}, \"shapedefaults\": {\"line\": {\"color\": \"#2a3f5f\"}}, \"ternary\": {\"aaxis\": {\"gridcolor\": \"white\", \"linecolor\": \"white\", \"ticks\": \"\"}, \"baxis\": {\"gridcolor\": \"white\", \"linecolor\": \"white\", \"ticks\": \"\"}, \"bgcolor\": \"#E5ECF6\", \"caxis\": {\"gridcolor\": \"white\", \"linecolor\": \"white\", \"ticks\": \"\"}}, \"title\": {\"x\": 0.05}, \"xaxis\": {\"automargin\": true, \"gridcolor\": \"white\", \"linecolor\": \"white\", \"ticks\": \"\", \"title\": {\"standoff\": 15}, \"zerolinecolor\": \"white\", \"zerolinewidth\": 2}, \"yaxis\": {\"automargin\": true, \"gridcolor\": \"white\", \"linecolor\": \"white\", \"ticks\": \"\", \"title\": {\"standoff\": 15}, \"zerolinecolor\": \"white\", \"zerolinewidth\": 2}}}, \"title\": {\"text\": \"Tipping Habbits Per Gender, Time and Day\"}},\n",
       "                        {\"responsive\": true}\n",
       "                    ).then(function(){\n",
       "                            \n",
       "var gd = document.getElementById('1c2c0867-540f-436a-acbb-79d678190b7e');\n",
       "var x = new MutationObserver(function (mutations, observer) {{\n",
       "        var display = window.getComputedStyle(gd).display;\n",
       "        if (!display || display === 'none') {{\n",
       "            console.log([gd, 'removed!']);\n",
       "            Plotly.purge(gd);\n",
       "            observer.disconnect();\n",
       "        }}\n",
       "}});\n",
       "\n",
       "// Listen for the removal of the full notebook cells\n",
       "var notebookContainer = gd.closest('#notebook-container');\n",
       "if (notebookContainer) {{\n",
       "    x.observe(notebookContainer, {childList: true});\n",
       "}}\n",
       "\n",
       "// Listen for the clearing of the current output cell\n",
       "var outputEl = gd.closest('.output');\n",
       "if (outputEl) {{\n",
       "    x.observe(outputEl, {childList: true});\n",
       "}}\n",
       "\n",
       "                        })\n",
       "                };\n",
       "                });\n",
       "            </script>\n",
       "        </div>"
      ]
     },
     "metadata": {},
     "output_type": "display_data"
    }
   ],
   "source": [
    "import plotly.graph_objects as go\n",
    "import plotly.express as px\n",
    "import numpy as np\n",
    "import pandas as pd\n",
    "\n",
    "df=px.data.tips()\n",
    "fig=go.Figure(go.Sunburst(\n",
    "    labels=[\"Female\",\"Male\",\"Dinner\",\"Lunch\",'Dinner ','Lunch '],\n",
    "    parents=[\"\",\"\",\"Female\",\"Female\",'Male','Male'],\n",
    "    values=np.append(\n",
    "        df.groupby('sex').tip.mean().values,\n",
    "        df.groupby(['sex','time']).tip.mean().values\n",
    "    ),\n",
    "    marker=dict(colors=px.colors.sequential.Emrld)),\n",
    "              layout=go.Layout(paper_bgcolor='rgba(0,0,0,0)',\n",
    "                              plot_bgcolor='rgba(0,0,0,0)'))\n",
    "fig.update_layout(margin=dict(t=0,l=0,r=0,b=0),\n",
    "                  title_text='Tipping Habbits Per Gender, Time and Day')\n",
    "fig.show()"
   ]
  },
  {
   "cell_type": "code",
   "execution_count": 20,
   "metadata": {},
   "outputs": [
    {
     "data": {
      "application/vnd.plotly.v1+json": {
       "config": {
        "plotlyServerURL": "https://plot.ly"
       },
       "data": [
        {
         "labels": [
          "Female",
          "Male",
          "Dinner",
          "Lunch",
          "Dinner ",
          "Lunch ",
          "Fri",
          "Sat",
          "Sun",
          "Thu",
          "Fri ",
          "Thu ",
          "Fri  ",
          "Sat  ",
          "Sun  ",
          "Fri   ",
          "Thu   "
         ],
         "marker": {
          "colors": [
           "rgb(211, 242, 163)",
           "rgb(151, 225, 150)",
           "rgb(108, 192, 139)",
           "rgb(76, 155, 130)",
           "rgb(33, 122, 121)",
           "rgb(16, 89, 101)",
           "rgb(7, 64, 80)"
          ]
         },
         "parents": [
          "",
          "",
          "Female",
          "Female",
          "Male",
          "Male",
          "Dinner",
          "Dinner",
          "Dinner",
          "Dinner",
          "Lunch",
          "Lunch",
          "Dinner ",
          "Dinner ",
          "Dinner ",
          "Lunch ",
          "Lunch "
         ],
         "type": "sunburst",
         "values": [
          2.833448275862069,
          3.0896178343949052,
          3.0021153846153843,
          2.5828571428571436,
          3.1448387096774195,
          2.8821212121212123,
          2.81,
          2.801785714285714,
          3.3672222222222223,
          3,
          2.745,
          2.5619354838709683,
          3.032857142857143,
          3.0838983050847455,
          3.2203448275862083,
          1.9000000000000001,
          2.9803333333333333
         ]
        }
       ],
       "layout": {
        "margin": {
         "b": 0,
         "l": 0,
         "r": 0,
         "t": 0
        },
        "paper_bgcolor": "rgba(0,0,0,0)",
        "plot_bgcolor": "rgba(0,0,0,0)",
        "template": {
         "data": {
          "bar": [
           {
            "error_x": {
             "color": "#2a3f5f"
            },
            "error_y": {
             "color": "#2a3f5f"
            },
            "marker": {
             "line": {
              "color": "#E5ECF6",
              "width": 0.5
             }
            },
            "type": "bar"
           }
          ],
          "barpolar": [
           {
            "marker": {
             "line": {
              "color": "#E5ECF6",
              "width": 0.5
             }
            },
            "type": "barpolar"
           }
          ],
          "carpet": [
           {
            "aaxis": {
             "endlinecolor": "#2a3f5f",
             "gridcolor": "white",
             "linecolor": "white",
             "minorgridcolor": "white",
             "startlinecolor": "#2a3f5f"
            },
            "baxis": {
             "endlinecolor": "#2a3f5f",
             "gridcolor": "white",
             "linecolor": "white",
             "minorgridcolor": "white",
             "startlinecolor": "#2a3f5f"
            },
            "type": "carpet"
           }
          ],
          "choropleth": [
           {
            "colorbar": {
             "outlinewidth": 0,
             "ticks": ""
            },
            "type": "choropleth"
           }
          ],
          "contour": [
           {
            "colorbar": {
             "outlinewidth": 0,
             "ticks": ""
            },
            "colorscale": [
             [
              0,
              "#0d0887"
             ],
             [
              0.1111111111111111,
              "#46039f"
             ],
             [
              0.2222222222222222,
              "#7201a8"
             ],
             [
              0.3333333333333333,
              "#9c179e"
             ],
             [
              0.4444444444444444,
              "#bd3786"
             ],
             [
              0.5555555555555556,
              "#d8576b"
             ],
             [
              0.6666666666666666,
              "#ed7953"
             ],
             [
              0.7777777777777778,
              "#fb9f3a"
             ],
             [
              0.8888888888888888,
              "#fdca26"
             ],
             [
              1,
              "#f0f921"
             ]
            ],
            "type": "contour"
           }
          ],
          "contourcarpet": [
           {
            "colorbar": {
             "outlinewidth": 0,
             "ticks": ""
            },
            "type": "contourcarpet"
           }
          ],
          "heatmap": [
           {
            "colorbar": {
             "outlinewidth": 0,
             "ticks": ""
            },
            "colorscale": [
             [
              0,
              "#0d0887"
             ],
             [
              0.1111111111111111,
              "#46039f"
             ],
             [
              0.2222222222222222,
              "#7201a8"
             ],
             [
              0.3333333333333333,
              "#9c179e"
             ],
             [
              0.4444444444444444,
              "#bd3786"
             ],
             [
              0.5555555555555556,
              "#d8576b"
             ],
             [
              0.6666666666666666,
              "#ed7953"
             ],
             [
              0.7777777777777778,
              "#fb9f3a"
             ],
             [
              0.8888888888888888,
              "#fdca26"
             ],
             [
              1,
              "#f0f921"
             ]
            ],
            "type": "heatmap"
           }
          ],
          "heatmapgl": [
           {
            "colorbar": {
             "outlinewidth": 0,
             "ticks": ""
            },
            "colorscale": [
             [
              0,
              "#0d0887"
             ],
             [
              0.1111111111111111,
              "#46039f"
             ],
             [
              0.2222222222222222,
              "#7201a8"
             ],
             [
              0.3333333333333333,
              "#9c179e"
             ],
             [
              0.4444444444444444,
              "#bd3786"
             ],
             [
              0.5555555555555556,
              "#d8576b"
             ],
             [
              0.6666666666666666,
              "#ed7953"
             ],
             [
              0.7777777777777778,
              "#fb9f3a"
             ],
             [
              0.8888888888888888,
              "#fdca26"
             ],
             [
              1,
              "#f0f921"
             ]
            ],
            "type": "heatmapgl"
           }
          ],
          "histogram": [
           {
            "marker": {
             "colorbar": {
              "outlinewidth": 0,
              "ticks": ""
             }
            },
            "type": "histogram"
           }
          ],
          "histogram2d": [
           {
            "colorbar": {
             "outlinewidth": 0,
             "ticks": ""
            },
            "colorscale": [
             [
              0,
              "#0d0887"
             ],
             [
              0.1111111111111111,
              "#46039f"
             ],
             [
              0.2222222222222222,
              "#7201a8"
             ],
             [
              0.3333333333333333,
              "#9c179e"
             ],
             [
              0.4444444444444444,
              "#bd3786"
             ],
             [
              0.5555555555555556,
              "#d8576b"
             ],
             [
              0.6666666666666666,
              "#ed7953"
             ],
             [
              0.7777777777777778,
              "#fb9f3a"
             ],
             [
              0.8888888888888888,
              "#fdca26"
             ],
             [
              1,
              "#f0f921"
             ]
            ],
            "type": "histogram2d"
           }
          ],
          "histogram2dcontour": [
           {
            "colorbar": {
             "outlinewidth": 0,
             "ticks": ""
            },
            "colorscale": [
             [
              0,
              "#0d0887"
             ],
             [
              0.1111111111111111,
              "#46039f"
             ],
             [
              0.2222222222222222,
              "#7201a8"
             ],
             [
              0.3333333333333333,
              "#9c179e"
             ],
             [
              0.4444444444444444,
              "#bd3786"
             ],
             [
              0.5555555555555556,
              "#d8576b"
             ],
             [
              0.6666666666666666,
              "#ed7953"
             ],
             [
              0.7777777777777778,
              "#fb9f3a"
             ],
             [
              0.8888888888888888,
              "#fdca26"
             ],
             [
              1,
              "#f0f921"
             ]
            ],
            "type": "histogram2dcontour"
           }
          ],
          "mesh3d": [
           {
            "colorbar": {
             "outlinewidth": 0,
             "ticks": ""
            },
            "type": "mesh3d"
           }
          ],
          "parcoords": [
           {
            "line": {
             "colorbar": {
              "outlinewidth": 0,
              "ticks": ""
             }
            },
            "type": "parcoords"
           }
          ],
          "pie": [
           {
            "automargin": true,
            "type": "pie"
           }
          ],
          "scatter": [
           {
            "marker": {
             "colorbar": {
              "outlinewidth": 0,
              "ticks": ""
             }
            },
            "type": "scatter"
           }
          ],
          "scatter3d": [
           {
            "line": {
             "colorbar": {
              "outlinewidth": 0,
              "ticks": ""
             }
            },
            "marker": {
             "colorbar": {
              "outlinewidth": 0,
              "ticks": ""
             }
            },
            "type": "scatter3d"
           }
          ],
          "scattercarpet": [
           {
            "marker": {
             "colorbar": {
              "outlinewidth": 0,
              "ticks": ""
             }
            },
            "type": "scattercarpet"
           }
          ],
          "scattergeo": [
           {
            "marker": {
             "colorbar": {
              "outlinewidth": 0,
              "ticks": ""
             }
            },
            "type": "scattergeo"
           }
          ],
          "scattergl": [
           {
            "marker": {
             "colorbar": {
              "outlinewidth": 0,
              "ticks": ""
             }
            },
            "type": "scattergl"
           }
          ],
          "scattermapbox": [
           {
            "marker": {
             "colorbar": {
              "outlinewidth": 0,
              "ticks": ""
             }
            },
            "type": "scattermapbox"
           }
          ],
          "scatterpolar": [
           {
            "marker": {
             "colorbar": {
              "outlinewidth": 0,
              "ticks": ""
             }
            },
            "type": "scatterpolar"
           }
          ],
          "scatterpolargl": [
           {
            "marker": {
             "colorbar": {
              "outlinewidth": 0,
              "ticks": ""
             }
            },
            "type": "scatterpolargl"
           }
          ],
          "scatterternary": [
           {
            "marker": {
             "colorbar": {
              "outlinewidth": 0,
              "ticks": ""
             }
            },
            "type": "scatterternary"
           }
          ],
          "surface": [
           {
            "colorbar": {
             "outlinewidth": 0,
             "ticks": ""
            },
            "colorscale": [
             [
              0,
              "#0d0887"
             ],
             [
              0.1111111111111111,
              "#46039f"
             ],
             [
              0.2222222222222222,
              "#7201a8"
             ],
             [
              0.3333333333333333,
              "#9c179e"
             ],
             [
              0.4444444444444444,
              "#bd3786"
             ],
             [
              0.5555555555555556,
              "#d8576b"
             ],
             [
              0.6666666666666666,
              "#ed7953"
             ],
             [
              0.7777777777777778,
              "#fb9f3a"
             ],
             [
              0.8888888888888888,
              "#fdca26"
             ],
             [
              1,
              "#f0f921"
             ]
            ],
            "type": "surface"
           }
          ],
          "table": [
           {
            "cells": {
             "fill": {
              "color": "#EBF0F8"
             },
             "line": {
              "color": "white"
             }
            },
            "header": {
             "fill": {
              "color": "#C8D4E3"
             },
             "line": {
              "color": "white"
             }
            },
            "type": "table"
           }
          ]
         },
         "layout": {
          "annotationdefaults": {
           "arrowcolor": "#2a3f5f",
           "arrowhead": 0,
           "arrowwidth": 1
          },
          "coloraxis": {
           "colorbar": {
            "outlinewidth": 0,
            "ticks": ""
           }
          },
          "colorscale": {
           "diverging": [
            [
             0,
             "#8e0152"
            ],
            [
             0.1,
             "#c51b7d"
            ],
            [
             0.2,
             "#de77ae"
            ],
            [
             0.3,
             "#f1b6da"
            ],
            [
             0.4,
             "#fde0ef"
            ],
            [
             0.5,
             "#f7f7f7"
            ],
            [
             0.6,
             "#e6f5d0"
            ],
            [
             0.7,
             "#b8e186"
            ],
            [
             0.8,
             "#7fbc41"
            ],
            [
             0.9,
             "#4d9221"
            ],
            [
             1,
             "#276419"
            ]
           ],
           "sequential": [
            [
             0,
             "#0d0887"
            ],
            [
             0.1111111111111111,
             "#46039f"
            ],
            [
             0.2222222222222222,
             "#7201a8"
            ],
            [
             0.3333333333333333,
             "#9c179e"
            ],
            [
             0.4444444444444444,
             "#bd3786"
            ],
            [
             0.5555555555555556,
             "#d8576b"
            ],
            [
             0.6666666666666666,
             "#ed7953"
            ],
            [
             0.7777777777777778,
             "#fb9f3a"
            ],
            [
             0.8888888888888888,
             "#fdca26"
            ],
            [
             1,
             "#f0f921"
            ]
           ],
           "sequentialminus": [
            [
             0,
             "#0d0887"
            ],
            [
             0.1111111111111111,
             "#46039f"
            ],
            [
             0.2222222222222222,
             "#7201a8"
            ],
            [
             0.3333333333333333,
             "#9c179e"
            ],
            [
             0.4444444444444444,
             "#bd3786"
            ],
            [
             0.5555555555555556,
             "#d8576b"
            ],
            [
             0.6666666666666666,
             "#ed7953"
            ],
            [
             0.7777777777777778,
             "#fb9f3a"
            ],
            [
             0.8888888888888888,
             "#fdca26"
            ],
            [
             1,
             "#f0f921"
            ]
           ]
          },
          "colorway": [
           "#636efa",
           "#EF553B",
           "#00cc96",
           "#ab63fa",
           "#FFA15A",
           "#19d3f3",
           "#FF6692",
           "#B6E880",
           "#FF97FF",
           "#FECB52"
          ],
          "font": {
           "color": "#2a3f5f"
          },
          "geo": {
           "bgcolor": "white",
           "lakecolor": "white",
           "landcolor": "#E5ECF6",
           "showlakes": true,
           "showland": true,
           "subunitcolor": "white"
          },
          "hoverlabel": {
           "align": "left"
          },
          "hovermode": "closest",
          "mapbox": {
           "style": "light"
          },
          "paper_bgcolor": "white",
          "plot_bgcolor": "#E5ECF6",
          "polar": {
           "angularaxis": {
            "gridcolor": "white",
            "linecolor": "white",
            "ticks": ""
           },
           "bgcolor": "#E5ECF6",
           "radialaxis": {
            "gridcolor": "white",
            "linecolor": "white",
            "ticks": ""
           }
          },
          "scene": {
           "xaxis": {
            "backgroundcolor": "#E5ECF6",
            "gridcolor": "white",
            "gridwidth": 2,
            "linecolor": "white",
            "showbackground": true,
            "ticks": "",
            "zerolinecolor": "white"
           },
           "yaxis": {
            "backgroundcolor": "#E5ECF6",
            "gridcolor": "white",
            "gridwidth": 2,
            "linecolor": "white",
            "showbackground": true,
            "ticks": "",
            "zerolinecolor": "white"
           },
           "zaxis": {
            "backgroundcolor": "#E5ECF6",
            "gridcolor": "white",
            "gridwidth": 2,
            "linecolor": "white",
            "showbackground": true,
            "ticks": "",
            "zerolinecolor": "white"
           }
          },
          "shapedefaults": {
           "line": {
            "color": "#2a3f5f"
           }
          },
          "ternary": {
           "aaxis": {
            "gridcolor": "white",
            "linecolor": "white",
            "ticks": ""
           },
           "baxis": {
            "gridcolor": "white",
            "linecolor": "white",
            "ticks": ""
           },
           "bgcolor": "#E5ECF6",
           "caxis": {
            "gridcolor": "white",
            "linecolor": "white",
            "ticks": ""
           }
          },
          "title": {
           "x": 0.05
          },
          "xaxis": {
           "automargin": true,
           "gridcolor": "white",
           "linecolor": "white",
           "ticks": "",
           "title": {
            "standoff": 15
           },
           "zerolinecolor": "white",
           "zerolinewidth": 2
          },
          "yaxis": {
           "automargin": true,
           "gridcolor": "white",
           "linecolor": "white",
           "ticks": "",
           "title": {
            "standoff": 15
           },
           "zerolinecolor": "white",
           "zerolinewidth": 2
          }
         }
        },
        "title": {
         "text": "Tipping Habbits Per Gender, Time and Day"
        }
       }
      },
      "text/html": [
       "<div>\n",
       "        \n",
       "        \n",
       "            <div id=\"654b4f70-4f5b-4dc1-bbee-0c92855a2cb9\" class=\"plotly-graph-div\" style=\"height:525px; width:100%;\"></div>\n",
       "            <script type=\"text/javascript\">\n",
       "                require([\"plotly\"], function(Plotly) {\n",
       "                    window.PLOTLYENV=window.PLOTLYENV || {};\n",
       "                    \n",
       "                if (document.getElementById(\"654b4f70-4f5b-4dc1-bbee-0c92855a2cb9\")) {\n",
       "                    Plotly.newPlot(\n",
       "                        '654b4f70-4f5b-4dc1-bbee-0c92855a2cb9',\n",
       "                        [{\"labels\": [\"Female\", \"Male\", \"Dinner\", \"Lunch\", \"Dinner \", \"Lunch \", \"Fri\", \"Sat\", \"Sun\", \"Thu\", \"Fri \", \"Thu \", \"Fri  \", \"Sat  \", \"Sun  \", \"Fri   \", \"Thu   \"], \"marker\": {\"colors\": [\"rgb(211, 242, 163)\", \"rgb(151, 225, 150)\", \"rgb(108, 192, 139)\", \"rgb(76, 155, 130)\", \"rgb(33, 122, 121)\", \"rgb(16, 89, 101)\", \"rgb(7, 64, 80)\"]}, \"parents\": [\"\", \"\", \"Female\", \"Female\", \"Male\", \"Male\", \"Dinner\", \"Dinner\", \"Dinner\", \"Dinner\", \"Lunch\", \"Lunch\", \"Dinner \", \"Dinner \", \"Dinner \", \"Lunch \", \"Lunch \"], \"type\": \"sunburst\", \"values\": [2.833448275862069, 3.0896178343949052, 3.0021153846153843, 2.5828571428571436, 3.1448387096774195, 2.8821212121212123, 2.81, 2.801785714285714, 3.3672222222222223, 3.0, 2.745, 2.5619354838709683, 3.032857142857143, 3.0838983050847455, 3.2203448275862083, 1.9000000000000001, 2.9803333333333333]}],\n",
       "                        {\"margin\": {\"b\": 0, \"l\": 0, \"r\": 0, \"t\": 0}, \"paper_bgcolor\": \"rgba(0,0,0,0)\", \"plot_bgcolor\": \"rgba(0,0,0,0)\", \"template\": {\"data\": {\"bar\": [{\"error_x\": {\"color\": \"#2a3f5f\"}, \"error_y\": {\"color\": \"#2a3f5f\"}, \"marker\": {\"line\": {\"color\": \"#E5ECF6\", \"width\": 0.5}}, \"type\": \"bar\"}], \"barpolar\": [{\"marker\": {\"line\": {\"color\": \"#E5ECF6\", \"width\": 0.5}}, \"type\": \"barpolar\"}], \"carpet\": [{\"aaxis\": {\"endlinecolor\": \"#2a3f5f\", \"gridcolor\": \"white\", \"linecolor\": \"white\", \"minorgridcolor\": \"white\", \"startlinecolor\": \"#2a3f5f\"}, \"baxis\": {\"endlinecolor\": \"#2a3f5f\", \"gridcolor\": \"white\", \"linecolor\": \"white\", \"minorgridcolor\": \"white\", \"startlinecolor\": \"#2a3f5f\"}, \"type\": \"carpet\"}], \"choropleth\": [{\"colorbar\": {\"outlinewidth\": 0, \"ticks\": \"\"}, \"type\": \"choropleth\"}], \"contour\": [{\"colorbar\": {\"outlinewidth\": 0, \"ticks\": \"\"}, \"colorscale\": [[0.0, \"#0d0887\"], [0.1111111111111111, \"#46039f\"], [0.2222222222222222, \"#7201a8\"], [0.3333333333333333, \"#9c179e\"], [0.4444444444444444, \"#bd3786\"], [0.5555555555555556, \"#d8576b\"], [0.6666666666666666, \"#ed7953\"], [0.7777777777777778, \"#fb9f3a\"], [0.8888888888888888, \"#fdca26\"], [1.0, \"#f0f921\"]], \"type\": \"contour\"}], \"contourcarpet\": [{\"colorbar\": {\"outlinewidth\": 0, \"ticks\": \"\"}, \"type\": \"contourcarpet\"}], \"heatmap\": [{\"colorbar\": {\"outlinewidth\": 0, \"ticks\": \"\"}, \"colorscale\": [[0.0, \"#0d0887\"], [0.1111111111111111, \"#46039f\"], [0.2222222222222222, \"#7201a8\"], [0.3333333333333333, \"#9c179e\"], [0.4444444444444444, \"#bd3786\"], [0.5555555555555556, \"#d8576b\"], [0.6666666666666666, \"#ed7953\"], [0.7777777777777778, \"#fb9f3a\"], [0.8888888888888888, \"#fdca26\"], [1.0, \"#f0f921\"]], \"type\": \"heatmap\"}], \"heatmapgl\": [{\"colorbar\": {\"outlinewidth\": 0, \"ticks\": \"\"}, \"colorscale\": [[0.0, \"#0d0887\"], [0.1111111111111111, \"#46039f\"], [0.2222222222222222, \"#7201a8\"], [0.3333333333333333, \"#9c179e\"], [0.4444444444444444, \"#bd3786\"], [0.5555555555555556, \"#d8576b\"], [0.6666666666666666, \"#ed7953\"], [0.7777777777777778, \"#fb9f3a\"], [0.8888888888888888, \"#fdca26\"], [1.0, \"#f0f921\"]], \"type\": \"heatmapgl\"}], \"histogram\": [{\"marker\": {\"colorbar\": {\"outlinewidth\": 0, \"ticks\": \"\"}}, \"type\": \"histogram\"}], \"histogram2d\": [{\"colorbar\": {\"outlinewidth\": 0, \"ticks\": \"\"}, \"colorscale\": [[0.0, \"#0d0887\"], [0.1111111111111111, \"#46039f\"], [0.2222222222222222, \"#7201a8\"], [0.3333333333333333, \"#9c179e\"], [0.4444444444444444, \"#bd3786\"], [0.5555555555555556, \"#d8576b\"], [0.6666666666666666, \"#ed7953\"], [0.7777777777777778, \"#fb9f3a\"], [0.8888888888888888, \"#fdca26\"], [1.0, \"#f0f921\"]], \"type\": \"histogram2d\"}], \"histogram2dcontour\": [{\"colorbar\": {\"outlinewidth\": 0, \"ticks\": \"\"}, \"colorscale\": [[0.0, \"#0d0887\"], [0.1111111111111111, \"#46039f\"], [0.2222222222222222, \"#7201a8\"], [0.3333333333333333, \"#9c179e\"], [0.4444444444444444, \"#bd3786\"], [0.5555555555555556, \"#d8576b\"], [0.6666666666666666, \"#ed7953\"], [0.7777777777777778, \"#fb9f3a\"], [0.8888888888888888, \"#fdca26\"], [1.0, \"#f0f921\"]], \"type\": \"histogram2dcontour\"}], \"mesh3d\": [{\"colorbar\": {\"outlinewidth\": 0, \"ticks\": \"\"}, \"type\": \"mesh3d\"}], \"parcoords\": [{\"line\": {\"colorbar\": {\"outlinewidth\": 0, \"ticks\": \"\"}}, \"type\": \"parcoords\"}], \"pie\": [{\"automargin\": true, \"type\": \"pie\"}], \"scatter\": [{\"marker\": {\"colorbar\": {\"outlinewidth\": 0, \"ticks\": \"\"}}, \"type\": \"scatter\"}], \"scatter3d\": [{\"line\": {\"colorbar\": {\"outlinewidth\": 0, \"ticks\": \"\"}}, \"marker\": {\"colorbar\": {\"outlinewidth\": 0, \"ticks\": \"\"}}, \"type\": \"scatter3d\"}], \"scattercarpet\": [{\"marker\": {\"colorbar\": {\"outlinewidth\": 0, \"ticks\": \"\"}}, \"type\": \"scattercarpet\"}], \"scattergeo\": [{\"marker\": {\"colorbar\": {\"outlinewidth\": 0, \"ticks\": \"\"}}, \"type\": \"scattergeo\"}], \"scattergl\": [{\"marker\": {\"colorbar\": {\"outlinewidth\": 0, \"ticks\": \"\"}}, \"type\": \"scattergl\"}], \"scattermapbox\": [{\"marker\": {\"colorbar\": {\"outlinewidth\": 0, \"ticks\": \"\"}}, \"type\": \"scattermapbox\"}], \"scatterpolar\": [{\"marker\": {\"colorbar\": {\"outlinewidth\": 0, \"ticks\": \"\"}}, \"type\": \"scatterpolar\"}], \"scatterpolargl\": [{\"marker\": {\"colorbar\": {\"outlinewidth\": 0, \"ticks\": \"\"}}, \"type\": \"scatterpolargl\"}], \"scatterternary\": [{\"marker\": {\"colorbar\": {\"outlinewidth\": 0, \"ticks\": \"\"}}, \"type\": \"scatterternary\"}], \"surface\": [{\"colorbar\": {\"outlinewidth\": 0, \"ticks\": \"\"}, \"colorscale\": [[0.0, \"#0d0887\"], [0.1111111111111111, \"#46039f\"], [0.2222222222222222, \"#7201a8\"], [0.3333333333333333, \"#9c179e\"], [0.4444444444444444, \"#bd3786\"], [0.5555555555555556, \"#d8576b\"], [0.6666666666666666, \"#ed7953\"], [0.7777777777777778, \"#fb9f3a\"], [0.8888888888888888, \"#fdca26\"], [1.0, \"#f0f921\"]], \"type\": \"surface\"}], \"table\": [{\"cells\": {\"fill\": {\"color\": \"#EBF0F8\"}, \"line\": {\"color\": \"white\"}}, \"header\": {\"fill\": {\"color\": \"#C8D4E3\"}, \"line\": {\"color\": \"white\"}}, \"type\": \"table\"}]}, \"layout\": {\"annotationdefaults\": {\"arrowcolor\": \"#2a3f5f\", \"arrowhead\": 0, \"arrowwidth\": 1}, \"coloraxis\": {\"colorbar\": {\"outlinewidth\": 0, \"ticks\": \"\"}}, \"colorscale\": {\"diverging\": [[0, \"#8e0152\"], [0.1, \"#c51b7d\"], [0.2, \"#de77ae\"], [0.3, \"#f1b6da\"], [0.4, \"#fde0ef\"], [0.5, \"#f7f7f7\"], [0.6, \"#e6f5d0\"], [0.7, \"#b8e186\"], [0.8, \"#7fbc41\"], [0.9, \"#4d9221\"], [1, \"#276419\"]], \"sequential\": [[0.0, \"#0d0887\"], [0.1111111111111111, \"#46039f\"], [0.2222222222222222, \"#7201a8\"], [0.3333333333333333, \"#9c179e\"], [0.4444444444444444, \"#bd3786\"], [0.5555555555555556, \"#d8576b\"], [0.6666666666666666, \"#ed7953\"], [0.7777777777777778, \"#fb9f3a\"], [0.8888888888888888, \"#fdca26\"], [1.0, \"#f0f921\"]], \"sequentialminus\": [[0.0, \"#0d0887\"], [0.1111111111111111, \"#46039f\"], [0.2222222222222222, \"#7201a8\"], [0.3333333333333333, \"#9c179e\"], [0.4444444444444444, \"#bd3786\"], [0.5555555555555556, \"#d8576b\"], [0.6666666666666666, \"#ed7953\"], [0.7777777777777778, \"#fb9f3a\"], [0.8888888888888888, \"#fdca26\"], [1.0, \"#f0f921\"]]}, \"colorway\": [\"#636efa\", \"#EF553B\", \"#00cc96\", \"#ab63fa\", \"#FFA15A\", \"#19d3f3\", \"#FF6692\", \"#B6E880\", \"#FF97FF\", \"#FECB52\"], \"font\": {\"color\": \"#2a3f5f\"}, \"geo\": {\"bgcolor\": \"white\", \"lakecolor\": \"white\", \"landcolor\": \"#E5ECF6\", \"showlakes\": true, \"showland\": true, \"subunitcolor\": \"white\"}, \"hoverlabel\": {\"align\": \"left\"}, \"hovermode\": \"closest\", \"mapbox\": {\"style\": \"light\"}, \"paper_bgcolor\": \"white\", \"plot_bgcolor\": \"#E5ECF6\", \"polar\": {\"angularaxis\": {\"gridcolor\": \"white\", \"linecolor\": \"white\", \"ticks\": \"\"}, \"bgcolor\": \"#E5ECF6\", \"radialaxis\": {\"gridcolor\": \"white\", \"linecolor\": \"white\", \"ticks\": \"\"}}, \"scene\": {\"xaxis\": {\"backgroundcolor\": \"#E5ECF6\", \"gridcolor\": \"white\", \"gridwidth\": 2, \"linecolor\": \"white\", \"showbackground\": true, \"ticks\": \"\", \"zerolinecolor\": \"white\"}, \"yaxis\": {\"backgroundcolor\": \"#E5ECF6\", \"gridcolor\": \"white\", \"gridwidth\": 2, \"linecolor\": \"white\", \"showbackground\": true, \"ticks\": \"\", \"zerolinecolor\": \"white\"}, \"zaxis\": {\"backgroundcolor\": \"#E5ECF6\", \"gridcolor\": \"white\", \"gridwidth\": 2, \"linecolor\": \"white\", \"showbackground\": true, \"ticks\": \"\", \"zerolinecolor\": \"white\"}}, \"shapedefaults\": {\"line\": {\"color\": \"#2a3f5f\"}}, \"ternary\": {\"aaxis\": {\"gridcolor\": \"white\", \"linecolor\": \"white\", \"ticks\": \"\"}, \"baxis\": {\"gridcolor\": \"white\", \"linecolor\": \"white\", \"ticks\": \"\"}, \"bgcolor\": \"#E5ECF6\", \"caxis\": {\"gridcolor\": \"white\", \"linecolor\": \"white\", \"ticks\": \"\"}}, \"title\": {\"x\": 0.05}, \"xaxis\": {\"automargin\": true, \"gridcolor\": \"white\", \"linecolor\": \"white\", \"ticks\": \"\", \"title\": {\"standoff\": 15}, \"zerolinecolor\": \"white\", \"zerolinewidth\": 2}, \"yaxis\": {\"automargin\": true, \"gridcolor\": \"white\", \"linecolor\": \"white\", \"ticks\": \"\", \"title\": {\"standoff\": 15}, \"zerolinecolor\": \"white\", \"zerolinewidth\": 2}}}, \"title\": {\"text\": \"Tipping Habbits Per Gender, Time and Day\"}},\n",
       "                        {\"responsive\": true}\n",
       "                    ).then(function(){\n",
       "                            \n",
       "var gd = document.getElementById('654b4f70-4f5b-4dc1-bbee-0c92855a2cb9');\n",
       "var x = new MutationObserver(function (mutations, observer) {{\n",
       "        var display = window.getComputedStyle(gd).display;\n",
       "        if (!display || display === 'none') {{\n",
       "            console.log([gd, 'removed!']);\n",
       "            Plotly.purge(gd);\n",
       "            observer.disconnect();\n",
       "        }}\n",
       "}});\n",
       "\n",
       "// Listen for the removal of the full notebook cells\n",
       "var notebookContainer = gd.closest('#notebook-container');\n",
       "if (notebookContainer) {{\n",
       "    x.observe(notebookContainer, {childList: true});\n",
       "}}\n",
       "\n",
       "// Listen for the clearing of the current output cell\n",
       "var outputEl = gd.closest('.output');\n",
       "if (outputEl) {{\n",
       "    x.observe(outputEl, {childList: true});\n",
       "}}\n",
       "\n",
       "                        })\n",
       "                };\n",
       "                });\n",
       "            </script>\n",
       "        </div>"
      ]
     },
     "metadata": {},
     "output_type": "display_data"
    }
   ],
   "source": [
    "# 现在我们向这个层次结构再添加一层：\n",
    "# 为此，我们再添加另一个涉及三个类别变量的 group by 语句的值。\n",
    "df = px.data.tips()\n",
    "fig = go.Figure(go.Sunburst(labels=[\n",
    "    \"Female\", \"Male\", \"Dinner\", \"Lunch\", 'Dinner ', 'Lunch ', 'Fri', 'Sat',\n",
    "    'Sun', 'Thu', 'Fri ', 'Thu ', 'Fri  ', 'Sat  ', 'Sun  ', 'Fri   ', 'Thu   '\n",
    "],\n",
    "                            parents=[\n",
    "                                \"\", \"\", \"Female\", \"Female\", 'Male', 'Male',\n",
    "                                'Dinner', 'Dinner', 'Dinner', 'Dinner',\n",
    "                                'Lunch', 'Lunch', 'Dinner ', 'Dinner ',\n",
    "                                'Dinner ', 'Lunch ', 'Lunch '\n",
    "                            ],\n",
    "                            values=np.append(\n",
    "                                np.append(\n",
    "                                    df.groupby('sex').tip.mean().values,\n",
    "                                    df.groupby(['sex',\n",
    "                                                'time']).tip.mean().values,\n",
    "                                ),\n",
    "                                df.groupby(['sex', 'time',\n",
    "                                            'day']).tip.mean().values),\n",
    "                            marker=dict(colors=px.colors.sequential.Emrld)),\n",
    "                layout=go.Layout(paper_bgcolor='rgba(0,0,0,0)',\n",
    "                                 plot_bgcolor='rgba(0,0,0,0)'))\n",
    "fig.update_layout(margin=dict(t=0, l=0, r=0, b=0),\n",
    "                  title_text='Tipping Habbits Per Gender, Time and Day')\n",
    "\n",
    "fig.show()"
   ]
  },
  {
   "cell_type": "markdown",
   "metadata": {},
   "source": [
    "# 平行类别"
   ]
  },
  {
   "cell_type": "code",
   "execution_count": 67,
   "metadata": {
    "scrolled": false
   },
   "outputs": [
    {
     "data": {
      "application/vnd.plotly.v1+json": {
       "config": {
        "plotlyServerURL": "https://plot.ly"
       },
       "data": [
        {
         "dimensions": [
          {
           "label": "MPAA Rating",
           "values": [
            "PG-13",
            "PG-13",
            "R",
            "R",
            "R",
            "PG-13",
            "PG",
            "PG",
            "R",
            "R",
            "R",
            "R",
            "PG-13",
            "R",
            "PG-13",
            "PG-13",
            "R",
            "R",
            "PG",
            "PG-13",
            "R",
            "R",
            "PG-13",
            "R",
            "R",
            "PG",
            "G",
            "PG",
            "R",
            "G",
            "PG-13",
            "PG-13",
            "PG-13",
            "PG",
            "R",
            "PG-13",
            "PG-13",
            "PG-13",
            "R",
            "R",
            "R",
            "R",
            "PG-13",
            "PG-13",
            "PG-13",
            "PG-13",
            "PG",
            "PG-13",
            "PG-13",
            "PG-13",
            "PG",
            "PG-13",
            "PG-13",
            "PG-13",
            "PG-13",
            "PG",
            "R",
            "R",
            "PG-13",
            "PG-13",
            "PG-13",
            "PG",
            "G",
            "PG",
            "R",
            "PG-13",
            "R",
            "R",
            "PG-13",
            "PG-13",
            "PG-13",
            "PG",
            "PG",
            "R",
            "PG-13",
            "PG-13",
            "PG",
            "PG-13",
            "PG-13",
            "R",
            "R",
            "PG-13",
            "PG-13",
            "PG-13",
            "R",
            "R",
            "PG-13",
            "PG-13",
            "R",
            "PG-13",
            "PG-13",
            "R",
            "PG-13",
            "R",
            "R",
            "R",
            "PG",
            "PG-13",
            "PG",
            "R",
            "PG-13",
            "R",
            "PG",
            "R",
            "PG-13",
            "PG",
            "R",
            "PG",
            "PG-13",
            "PG",
            "PG-13",
            "R",
            "R",
            "PG-13",
            "PG",
            "R",
            "PG-13",
            "PG-13",
            "R",
            "R",
            "PG-13",
            "PG-13",
            "PG-13",
            "PG-13",
            "G",
            "R",
            "R",
            "R",
            "R",
            "R",
            "R",
            "R",
            "PG-13",
            "R",
            "PG-13",
            "R",
            "R",
            "R",
            "PG-13",
            "PG-13",
            "R",
            "PG-13",
            "R",
            "R",
            "R",
            "R",
            "R",
            "PG-13",
            "PG-13",
            "PG-13",
            "PG-13",
            "PG-13",
            "PG-13",
            "PG-13",
            "G",
            "PG-13",
            "PG-13",
            "R",
            "R",
            "PG-13",
            "PG",
            "PG-13",
            "R",
            "G",
            "R",
            "PG-13",
            "PG",
            "PG-13",
            "R",
            "R",
            "PG-13",
            "PG-13",
            "R",
            "R"
           ]
          },
          {
           "label": "Creative Type",
           "values": [
            "Contemporary Fiction",
            "Science Fiction",
            "Historical Fiction",
            "Historical Fiction",
            "Contemporary Fiction",
            "Contemporary Fiction",
            "Fantasy",
            "Kids Fiction",
            "Dramatization",
            "Historical Fiction",
            "Contemporary Fiction",
            "Contemporary Fiction",
            "Science Fiction",
            "Contemporary Fiction",
            "Super Hero",
            "Fantasy",
            "Contemporary Fiction",
            "Historical Fiction",
            "Kids Fiction",
            "Fantasy",
            "Dramatization",
            "Dramatization",
            "Contemporary Fiction",
            "Historical Fiction",
            "Historical Fiction",
            "Fantasy",
            "Kids Fiction",
            "Contemporary Fiction",
            "Science Fiction",
            "Fantasy",
            "Contemporary Fiction",
            "Contemporary Fiction",
            "Contemporary Fiction",
            "Kids Fiction",
            "Historical Fiction",
            "Dramatization",
            "Contemporary Fiction",
            "Contemporary Fiction",
            "Science Fiction",
            "Dramatization",
            "Contemporary Fiction",
            "Science Fiction",
            "Fantasy",
            "Historical Fiction",
            "Contemporary Fiction",
            "Contemporary Fiction",
            "Fantasy",
            "Contemporary Fiction",
            "Contemporary Fiction",
            "Super Hero",
            "Kids Fiction",
            "Dramatization",
            "Science Fiction",
            "Fantasy",
            "Dramatization",
            "Contemporary Fiction",
            "Dramatization",
            "Contemporary Fiction",
            "Dramatization",
            "Super Hero",
            "Fantasy",
            "Contemporary Fiction",
            "Kids Fiction",
            "Historical Fiction",
            "Science Fiction",
            "Contemporary Fiction",
            "Historical Fiction",
            "Contemporary Fiction",
            "Contemporary Fiction",
            "Fantasy",
            "Fantasy",
            "Fantasy",
            "Kids Fiction",
            "Contemporary Fiction",
            "Super Hero",
            "Fantasy",
            "Fantasy",
            "Contemporary Fiction",
            "Super Hero",
            "Contemporary Fiction",
            "Dramatization",
            "Contemporary Fiction",
            "Contemporary Fiction",
            "Fantasy",
            "Contemporary Fiction",
            "Contemporary Fiction",
            "Contemporary Fiction",
            "Contemporary Fiction",
            "Contemporary Fiction",
            "Contemporary Fiction",
            "Fantasy",
            "Contemporary Fiction",
            "Science Fiction",
            "Historical Fiction",
            "Dramatization",
            "Contemporary Fiction",
            "Contemporary Fiction",
            "Historical Fiction",
            "Contemporary Fiction",
            "Contemporary Fiction",
            "Historical Fiction",
            "Contemporary Fiction",
            "Dramatization",
            "Dramatization",
            "Fantasy",
            "Fantasy",
            "Contemporary Fiction",
            "Fantasy",
            "Contemporary Fiction",
            "Dramatization",
            "Contemporary Fiction",
            "Contemporary Fiction",
            "Contemporary Fiction",
            "Contemporary Fiction",
            "Historical Fiction",
            "Dramatization",
            "Fantasy",
            "Fantasy",
            "Contemporary Fiction",
            "Historical Fiction",
            "Dramatization",
            "Contemporary Fiction",
            "Historical Fiction",
            "Dramatization",
            "Fantasy",
            "Contemporary Fiction",
            "Fantasy",
            "Historical Fiction",
            "Factual",
            "Science Fiction",
            "Contemporary Fiction",
            "Contemporary Fiction",
            "Contemporary Fiction",
            "Contemporary Fiction",
            "Contemporary Fiction",
            "Contemporary Fiction",
            "Contemporary Fiction",
            "Contemporary Fiction",
            "Contemporary Fiction",
            "Fantasy",
            "Contemporary Fiction",
            "Contemporary Fiction",
            "Contemporary Fiction",
            "Contemporary Fiction",
            "Contemporary Fiction",
            "Science Fiction",
            "Contemporary Fiction",
            "Super Hero",
            "Super Hero",
            "Super Hero",
            "Contemporary Fiction",
            "Contemporary Fiction",
            "Contemporary Fiction",
            "Science Fiction",
            "Kids Fiction",
            "Science Fiction",
            "Science Fiction",
            "Science Fiction",
            "Contemporary Fiction",
            "Fantasy",
            "Kids Fiction",
            "Dramatization",
            "Dramatization",
            "Kids Fiction",
            "Contemporary Fiction",
            "Contemporary Fiction",
            "Fantasy",
            "Dramatization",
            "Science Fiction",
            "Contemporary Fiction",
            "Historical Fiction",
            "Contemporary Fiction",
            "Fantasy",
            "Contemporary Fiction"
           ]
          },
          {
           "label": "Major Genre",
           "values": [
            "Action",
            "Action",
            "Action",
            "Western",
            "Thriller/Suspense",
            "Drama",
            "Comedy",
            "Comedy",
            "Drama",
            "Adventure",
            "Drama",
            "Comedy",
            "Action",
            "Action",
            "Action",
            "Drama",
            "Thriller/Suspense",
            "Action",
            "Comedy",
            "Adventure",
            "Action",
            "Drama",
            "Action",
            "Drama",
            "Action",
            "Adventure",
            "Adventure",
            "Comedy",
            "Thriller/Suspense",
            "Drama",
            "Comedy",
            "Thriller/Suspense",
            "Comedy",
            "Comedy",
            "Thriller/Suspense",
            "Drama",
            "Action",
            "Comedy",
            "Thriller/Suspense",
            "Action",
            "Drama",
            "Action",
            "Horror",
            "Musical",
            "Thriller/Suspense",
            "Thriller/Suspense",
            "Romantic Comedy",
            "Comedy",
            "Drama",
            "Action",
            "Comedy",
            "Drama",
            "Drama",
            "Action",
            "Drama",
            "Drama",
            "Drama",
            "Drama",
            "Drama",
            "Action",
            "Romantic Comedy",
            "Comedy",
            "Adventure",
            "Musical",
            "Thriller/Suspense",
            "Comedy",
            "Thriller/Suspense",
            "Comedy",
            "Romantic Comedy",
            "Adventure",
            "Adventure",
            "Adventure",
            "Adventure",
            "Comedy",
            "Adventure",
            "Adventure",
            "Adventure",
            "Comedy",
            "Action",
            "Romantic Comedy",
            "Drama",
            "Action",
            "Comedy",
            "Adventure",
            "Romantic Comedy",
            "Action",
            "Thriller/Suspense",
            "Drama",
            "Thriller/Suspense",
            "Thriller/Suspense",
            "Comedy",
            "Drama",
            "Horror",
            "Drama",
            "Drama",
            "Drama",
            "Romantic Comedy",
            "Drama",
            "Comedy",
            "Comedy",
            "Drama",
            "Black Comedy",
            "Drama",
            "Drama",
            "Adventure",
            "Comedy",
            "Action",
            "Adventure",
            "Drama",
            "Drama",
            "Drama",
            "Thriller/Suspense",
            "Drama",
            "Adventure",
            "Drama",
            "Drama",
            "Adventure",
            "Adventure",
            "Horror",
            "Drama",
            "Drama",
            "Romantic Comedy",
            "Thriller/Suspense",
            "Drama",
            "Comedy",
            "Drama",
            "Horror",
            "Drama",
            "Documentary",
            "Action",
            "Drama",
            "Thriller/Suspense",
            "Comedy",
            "Thriller/Suspense",
            "Action",
            "Horror",
            "Horror",
            "Horror",
            "Comedy",
            "Adventure",
            "Thriller/Suspense",
            "Comedy",
            "Drama",
            "Comedy",
            "Thriller/Suspense",
            "Thriller/Suspense",
            "Comedy",
            "Adventure",
            "Adventure",
            "Adventure",
            "Comedy",
            "Thriller/Suspense",
            "Drama",
            "Action",
            "Adventure",
            "Action",
            "Action",
            "Horror",
            "Comedy",
            "Drama",
            "Adventure",
            "Thriller/Suspense",
            "Drama",
            "Comedy",
            "Drama",
            "Comedy",
            "Adventure",
            "Drama",
            "Action",
            "Drama",
            "Comedy",
            "Comedy",
            "Comedy",
            "Comedy"
           ]
          }
         ],
         "domain": {
          "x": [
           0,
           1
          ],
          "y": [
           0,
           1
          ]
         },
         "line": {
          "color": [
           0,
           0,
           0,
           1,
           2,
           3,
           4,
           4,
           3,
           5,
           3,
           4,
           0,
           0,
           0,
           3,
           2,
           0,
           4,
           5,
           0,
           3,
           0,
           3,
           0,
           5,
           5,
           4,
           2,
           3,
           4,
           2,
           4,
           4,
           2,
           3,
           0,
           4,
           2,
           0,
           3,
           0,
           6,
           7,
           2,
           2,
           8,
           4,
           3,
           0,
           4,
           3,
           3,
           0,
           3,
           3,
           3,
           3,
           3,
           0,
           8,
           4,
           5,
           7,
           2,
           4,
           2,
           4,
           8,
           5,
           5,
           5,
           5,
           4,
           5,
           5,
           5,
           4,
           0,
           8,
           3,
           0,
           4,
           5,
           8,
           0,
           2,
           3,
           2,
           2,
           4,
           3,
           6,
           3,
           3,
           3,
           8,
           3,
           4,
           4,
           3,
           9,
           3,
           3,
           5,
           4,
           0,
           5,
           3,
           3,
           3,
           2,
           3,
           5,
           3,
           3,
           5,
           5,
           6,
           3,
           3,
           8,
           2,
           3,
           4,
           3,
           6,
           3,
           10,
           0,
           3,
           2,
           4,
           2,
           0,
           6,
           6,
           6,
           4,
           5,
           2,
           4,
           3,
           4,
           2,
           2,
           4,
           5,
           5,
           5,
           4,
           2,
           3,
           0,
           5,
           0,
           0,
           6,
           4,
           3,
           5,
           2,
           3,
           4,
           3,
           4,
           5,
           3,
           0,
           3,
           4,
           4,
           4,
           4
          ],
          "coloraxis": "coloraxis"
         },
         "name": "",
         "type": "parcats"
        }
       ],
       "layout": {
        "coloraxis": {
         "colorbar": {
          "title": {
           "text": "Genre_id"
          }
         },
         "colorscale": [
          [
           0,
           "rgb(211, 242, 163)"
          ],
          [
           0.16666666666666666,
           "rgb(151, 225, 150)"
          ],
          [
           0.3333333333333333,
           "rgb(108, 192, 139)"
          ],
          [
           0.5,
           "rgb(76, 155, 130)"
          ],
          [
           0.6666666666666666,
           "rgb(33, 122, 121)"
          ],
          [
           0.8333333333333334,
           "rgb(16, 89, 101)"
          ],
          [
           1,
           "rgb(7, 64, 80)"
          ]
         ]
        },
        "legend": {
         "tracegroupgap": 0
        },
        "margin": {
         "t": 60
        },
        "template": {
         "data": {
          "bar": [
           {
            "error_x": {
             "color": "#2a3f5f"
            },
            "error_y": {
             "color": "#2a3f5f"
            },
            "marker": {
             "line": {
              "color": "#E5ECF6",
              "width": 0.5
             }
            },
            "type": "bar"
           }
          ],
          "barpolar": [
           {
            "marker": {
             "line": {
              "color": "#E5ECF6",
              "width": 0.5
             }
            },
            "type": "barpolar"
           }
          ],
          "carpet": [
           {
            "aaxis": {
             "endlinecolor": "#2a3f5f",
             "gridcolor": "white",
             "linecolor": "white",
             "minorgridcolor": "white",
             "startlinecolor": "#2a3f5f"
            },
            "baxis": {
             "endlinecolor": "#2a3f5f",
             "gridcolor": "white",
             "linecolor": "white",
             "minorgridcolor": "white",
             "startlinecolor": "#2a3f5f"
            },
            "type": "carpet"
           }
          ],
          "choropleth": [
           {
            "colorbar": {
             "outlinewidth": 0,
             "ticks": ""
            },
            "type": "choropleth"
           }
          ],
          "contour": [
           {
            "colorbar": {
             "outlinewidth": 0,
             "ticks": ""
            },
            "colorscale": [
             [
              0,
              "#0d0887"
             ],
             [
              0.1111111111111111,
              "#46039f"
             ],
             [
              0.2222222222222222,
              "#7201a8"
             ],
             [
              0.3333333333333333,
              "#9c179e"
             ],
             [
              0.4444444444444444,
              "#bd3786"
             ],
             [
              0.5555555555555556,
              "#d8576b"
             ],
             [
              0.6666666666666666,
              "#ed7953"
             ],
             [
              0.7777777777777778,
              "#fb9f3a"
             ],
             [
              0.8888888888888888,
              "#fdca26"
             ],
             [
              1,
              "#f0f921"
             ]
            ],
            "type": "contour"
           }
          ],
          "contourcarpet": [
           {
            "colorbar": {
             "outlinewidth": 0,
             "ticks": ""
            },
            "type": "contourcarpet"
           }
          ],
          "heatmap": [
           {
            "colorbar": {
             "outlinewidth": 0,
             "ticks": ""
            },
            "colorscale": [
             [
              0,
              "#0d0887"
             ],
             [
              0.1111111111111111,
              "#46039f"
             ],
             [
              0.2222222222222222,
              "#7201a8"
             ],
             [
              0.3333333333333333,
              "#9c179e"
             ],
             [
              0.4444444444444444,
              "#bd3786"
             ],
             [
              0.5555555555555556,
              "#d8576b"
             ],
             [
              0.6666666666666666,
              "#ed7953"
             ],
             [
              0.7777777777777778,
              "#fb9f3a"
             ],
             [
              0.8888888888888888,
              "#fdca26"
             ],
             [
              1,
              "#f0f921"
             ]
            ],
            "type": "heatmap"
           }
          ],
          "heatmapgl": [
           {
            "colorbar": {
             "outlinewidth": 0,
             "ticks": ""
            },
            "colorscale": [
             [
              0,
              "#0d0887"
             ],
             [
              0.1111111111111111,
              "#46039f"
             ],
             [
              0.2222222222222222,
              "#7201a8"
             ],
             [
              0.3333333333333333,
              "#9c179e"
             ],
             [
              0.4444444444444444,
              "#bd3786"
             ],
             [
              0.5555555555555556,
              "#d8576b"
             ],
             [
              0.6666666666666666,
              "#ed7953"
             ],
             [
              0.7777777777777778,
              "#fb9f3a"
             ],
             [
              0.8888888888888888,
              "#fdca26"
             ],
             [
              1,
              "#f0f921"
             ]
            ],
            "type": "heatmapgl"
           }
          ],
          "histogram": [
           {
            "marker": {
             "colorbar": {
              "outlinewidth": 0,
              "ticks": ""
             }
            },
            "type": "histogram"
           }
          ],
          "histogram2d": [
           {
            "colorbar": {
             "outlinewidth": 0,
             "ticks": ""
            },
            "colorscale": [
             [
              0,
              "#0d0887"
             ],
             [
              0.1111111111111111,
              "#46039f"
             ],
             [
              0.2222222222222222,
              "#7201a8"
             ],
             [
              0.3333333333333333,
              "#9c179e"
             ],
             [
              0.4444444444444444,
              "#bd3786"
             ],
             [
              0.5555555555555556,
              "#d8576b"
             ],
             [
              0.6666666666666666,
              "#ed7953"
             ],
             [
              0.7777777777777778,
              "#fb9f3a"
             ],
             [
              0.8888888888888888,
              "#fdca26"
             ],
             [
              1,
              "#f0f921"
             ]
            ],
            "type": "histogram2d"
           }
          ],
          "histogram2dcontour": [
           {
            "colorbar": {
             "outlinewidth": 0,
             "ticks": ""
            },
            "colorscale": [
             [
              0,
              "#0d0887"
             ],
             [
              0.1111111111111111,
              "#46039f"
             ],
             [
              0.2222222222222222,
              "#7201a8"
             ],
             [
              0.3333333333333333,
              "#9c179e"
             ],
             [
              0.4444444444444444,
              "#bd3786"
             ],
             [
              0.5555555555555556,
              "#d8576b"
             ],
             [
              0.6666666666666666,
              "#ed7953"
             ],
             [
              0.7777777777777778,
              "#fb9f3a"
             ],
             [
              0.8888888888888888,
              "#fdca26"
             ],
             [
              1,
              "#f0f921"
             ]
            ],
            "type": "histogram2dcontour"
           }
          ],
          "mesh3d": [
           {
            "colorbar": {
             "outlinewidth": 0,
             "ticks": ""
            },
            "type": "mesh3d"
           }
          ],
          "parcoords": [
           {
            "line": {
             "colorbar": {
              "outlinewidth": 0,
              "ticks": ""
             }
            },
            "type": "parcoords"
           }
          ],
          "pie": [
           {
            "automargin": true,
            "type": "pie"
           }
          ],
          "scatter": [
           {
            "marker": {
             "colorbar": {
              "outlinewidth": 0,
              "ticks": ""
             }
            },
            "type": "scatter"
           }
          ],
          "scatter3d": [
           {
            "line": {
             "colorbar": {
              "outlinewidth": 0,
              "ticks": ""
             }
            },
            "marker": {
             "colorbar": {
              "outlinewidth": 0,
              "ticks": ""
             }
            },
            "type": "scatter3d"
           }
          ],
          "scattercarpet": [
           {
            "marker": {
             "colorbar": {
              "outlinewidth": 0,
              "ticks": ""
             }
            },
            "type": "scattercarpet"
           }
          ],
          "scattergeo": [
           {
            "marker": {
             "colorbar": {
              "outlinewidth": 0,
              "ticks": ""
             }
            },
            "type": "scattergeo"
           }
          ],
          "scattergl": [
           {
            "marker": {
             "colorbar": {
              "outlinewidth": 0,
              "ticks": ""
             }
            },
            "type": "scattergl"
           }
          ],
          "scattermapbox": [
           {
            "marker": {
             "colorbar": {
              "outlinewidth": 0,
              "ticks": ""
             }
            },
            "type": "scattermapbox"
           }
          ],
          "scatterpolar": [
           {
            "marker": {
             "colorbar": {
              "outlinewidth": 0,
              "ticks": ""
             }
            },
            "type": "scatterpolar"
           }
          ],
          "scatterpolargl": [
           {
            "marker": {
             "colorbar": {
              "outlinewidth": 0,
              "ticks": ""
             }
            },
            "type": "scatterpolargl"
           }
          ],
          "scatterternary": [
           {
            "marker": {
             "colorbar": {
              "outlinewidth": 0,
              "ticks": ""
             }
            },
            "type": "scatterternary"
           }
          ],
          "surface": [
           {
            "colorbar": {
             "outlinewidth": 0,
             "ticks": ""
            },
            "colorscale": [
             [
              0,
              "#0d0887"
             ],
             [
              0.1111111111111111,
              "#46039f"
             ],
             [
              0.2222222222222222,
              "#7201a8"
             ],
             [
              0.3333333333333333,
              "#9c179e"
             ],
             [
              0.4444444444444444,
              "#bd3786"
             ],
             [
              0.5555555555555556,
              "#d8576b"
             ],
             [
              0.6666666666666666,
              "#ed7953"
             ],
             [
              0.7777777777777778,
              "#fb9f3a"
             ],
             [
              0.8888888888888888,
              "#fdca26"
             ],
             [
              1,
              "#f0f921"
             ]
            ],
            "type": "surface"
           }
          ],
          "table": [
           {
            "cells": {
             "fill": {
              "color": "#EBF0F8"
             },
             "line": {
              "color": "white"
             }
            },
            "header": {
             "fill": {
              "color": "#C8D4E3"
             },
             "line": {
              "color": "white"
             }
            },
            "type": "table"
           }
          ]
         },
         "layout": {
          "annotationdefaults": {
           "arrowcolor": "#2a3f5f",
           "arrowhead": 0,
           "arrowwidth": 1
          },
          "coloraxis": {
           "colorbar": {
            "outlinewidth": 0,
            "ticks": ""
           }
          },
          "colorscale": {
           "diverging": [
            [
             0,
             "#8e0152"
            ],
            [
             0.1,
             "#c51b7d"
            ],
            [
             0.2,
             "#de77ae"
            ],
            [
             0.3,
             "#f1b6da"
            ],
            [
             0.4,
             "#fde0ef"
            ],
            [
             0.5,
             "#f7f7f7"
            ],
            [
             0.6,
             "#e6f5d0"
            ],
            [
             0.7,
             "#b8e186"
            ],
            [
             0.8,
             "#7fbc41"
            ],
            [
             0.9,
             "#4d9221"
            ],
            [
             1,
             "#276419"
            ]
           ],
           "sequential": [
            [
             0,
             "#0d0887"
            ],
            [
             0.1111111111111111,
             "#46039f"
            ],
            [
             0.2222222222222222,
             "#7201a8"
            ],
            [
             0.3333333333333333,
             "#9c179e"
            ],
            [
             0.4444444444444444,
             "#bd3786"
            ],
            [
             0.5555555555555556,
             "#d8576b"
            ],
            [
             0.6666666666666666,
             "#ed7953"
            ],
            [
             0.7777777777777778,
             "#fb9f3a"
            ],
            [
             0.8888888888888888,
             "#fdca26"
            ],
            [
             1,
             "#f0f921"
            ]
           ],
           "sequentialminus": [
            [
             0,
             "#0d0887"
            ],
            [
             0.1111111111111111,
             "#46039f"
            ],
            [
             0.2222222222222222,
             "#7201a8"
            ],
            [
             0.3333333333333333,
             "#9c179e"
            ],
            [
             0.4444444444444444,
             "#bd3786"
            ],
            [
             0.5555555555555556,
             "#d8576b"
            ],
            [
             0.6666666666666666,
             "#ed7953"
            ],
            [
             0.7777777777777778,
             "#fb9f3a"
            ],
            [
             0.8888888888888888,
             "#fdca26"
            ],
            [
             1,
             "#f0f921"
            ]
           ]
          },
          "colorway": [
           "#636efa",
           "#EF553B",
           "#00cc96",
           "#ab63fa",
           "#FFA15A",
           "#19d3f3",
           "#FF6692",
           "#B6E880",
           "#FF97FF",
           "#FECB52"
          ],
          "font": {
           "color": "#2a3f5f"
          },
          "geo": {
           "bgcolor": "white",
           "lakecolor": "white",
           "landcolor": "#E5ECF6",
           "showlakes": true,
           "showland": true,
           "subunitcolor": "white"
          },
          "hoverlabel": {
           "align": "left"
          },
          "hovermode": "closest",
          "mapbox": {
           "style": "light"
          },
          "paper_bgcolor": "white",
          "plot_bgcolor": "#E5ECF6",
          "polar": {
           "angularaxis": {
            "gridcolor": "white",
            "linecolor": "white",
            "ticks": ""
           },
           "bgcolor": "#E5ECF6",
           "radialaxis": {
            "gridcolor": "white",
            "linecolor": "white",
            "ticks": ""
           }
          },
          "scene": {
           "xaxis": {
            "backgroundcolor": "#E5ECF6",
            "gridcolor": "white",
            "gridwidth": 2,
            "linecolor": "white",
            "showbackground": true,
            "ticks": "",
            "zerolinecolor": "white"
           },
           "yaxis": {
            "backgroundcolor": "#E5ECF6",
            "gridcolor": "white",
            "gridwidth": 2,
            "linecolor": "white",
            "showbackground": true,
            "ticks": "",
            "zerolinecolor": "white"
           },
           "zaxis": {
            "backgroundcolor": "#E5ECF6",
            "gridcolor": "white",
            "gridwidth": 2,
            "linecolor": "white",
            "showbackground": true,
            "ticks": "",
            "zerolinecolor": "white"
           }
          },
          "shapedefaults": {
           "line": {
            "color": "#2a3f5f"
           }
          },
          "ternary": {
           "aaxis": {
            "gridcolor": "white",
            "linecolor": "white",
            "ticks": ""
           },
           "baxis": {
            "gridcolor": "white",
            "linecolor": "white",
            "ticks": ""
           },
           "bgcolor": "#E5ECF6",
           "caxis": {
            "gridcolor": "white",
            "linecolor": "white",
            "ticks": ""
           }
          },
          "title": {
           "x": 0.05
          },
          "xaxis": {
           "automargin": true,
           "gridcolor": "white",
           "linecolor": "white",
           "ticks": "",
           "title": {
            "standoff": 15
           },
           "zerolinecolor": "white",
           "zerolinewidth": 2
          },
          "yaxis": {
           "automargin": true,
           "gridcolor": "white",
           "linecolor": "white",
           "ticks": "",
           "title": {
            "standoff": 15
           },
           "zerolinecolor": "white",
           "zerolinewidth": 2
          }
         }
        }
       }
      },
      "text/html": [
       "<div>\n",
       "        \n",
       "        \n",
       "            <div id=\"a4b8c95b-f9d2-45fa-bb0d-980149ca3345\" class=\"plotly-graph-div\" style=\"height:525px; width:100%;\"></div>\n",
       "            <script type=\"text/javascript\">\n",
       "                require([\"plotly\"], function(Plotly) {\n",
       "                    window.PLOTLYENV=window.PLOTLYENV || {};\n",
       "                    \n",
       "                if (document.getElementById(\"a4b8c95b-f9d2-45fa-bb0d-980149ca3345\")) {\n",
       "                    Plotly.newPlot(\n",
       "                        'a4b8c95b-f9d2-45fa-bb0d-980149ca3345',\n",
       "                        [{\"dimensions\": [{\"label\": \"MPAA Rating\", \"values\": [\"PG-13\", \"PG-13\", \"R\", \"R\", \"R\", \"PG-13\", \"PG\", \"PG\", \"R\", \"R\", \"R\", \"R\", \"PG-13\", \"R\", \"PG-13\", \"PG-13\", \"R\", \"R\", \"PG\", \"PG-13\", \"R\", \"R\", \"PG-13\", \"R\", \"R\", \"PG\", \"G\", \"PG\", \"R\", \"G\", \"PG-13\", \"PG-13\", \"PG-13\", \"PG\", \"R\", \"PG-13\", \"PG-13\", \"PG-13\", \"R\", \"R\", \"R\", \"R\", \"PG-13\", \"PG-13\", \"PG-13\", \"PG-13\", \"PG\", \"PG-13\", \"PG-13\", \"PG-13\", \"PG\", \"PG-13\", \"PG-13\", \"PG-13\", \"PG-13\", \"PG\", \"R\", \"R\", \"PG-13\", \"PG-13\", \"PG-13\", \"PG\", \"G\", \"PG\", \"R\", \"PG-13\", \"R\", \"R\", \"PG-13\", \"PG-13\", \"PG-13\", \"PG\", \"PG\", \"R\", \"PG-13\", \"PG-13\", \"PG\", \"PG-13\", \"PG-13\", \"R\", \"R\", \"PG-13\", \"PG-13\", \"PG-13\", \"R\", \"R\", \"PG-13\", \"PG-13\", \"R\", \"PG-13\", \"PG-13\", \"R\", \"PG-13\", \"R\", \"R\", \"R\", \"PG\", \"PG-13\", \"PG\", \"R\", \"PG-13\", \"R\", \"PG\", \"R\", \"PG-13\", \"PG\", \"R\", \"PG\", \"PG-13\", \"PG\", \"PG-13\", \"R\", \"R\", \"PG-13\", \"PG\", \"R\", \"PG-13\", \"PG-13\", \"R\", \"R\", \"PG-13\", \"PG-13\", \"PG-13\", \"PG-13\", \"G\", \"R\", \"R\", \"R\", \"R\", \"R\", \"R\", \"R\", \"PG-13\", \"R\", \"PG-13\", \"R\", \"R\", \"R\", \"PG-13\", \"PG-13\", \"R\", \"PG-13\", \"R\", \"R\", \"R\", \"R\", \"R\", \"PG-13\", \"PG-13\", \"PG-13\", \"PG-13\", \"PG-13\", \"PG-13\", \"PG-13\", \"G\", \"PG-13\", \"PG-13\", \"R\", \"R\", \"PG-13\", \"PG\", \"PG-13\", \"R\", \"G\", \"R\", \"PG-13\", \"PG\", \"PG-13\", \"R\", \"R\", \"PG-13\", \"PG-13\", \"R\", \"R\"]}, {\"label\": \"Creative Type\", \"values\": [\"Contemporary Fiction\", \"Science Fiction\", \"Historical Fiction\", \"Historical Fiction\", \"Contemporary Fiction\", \"Contemporary Fiction\", \"Fantasy\", \"Kids Fiction\", \"Dramatization\", \"Historical Fiction\", \"Contemporary Fiction\", \"Contemporary Fiction\", \"Science Fiction\", \"Contemporary Fiction\", \"Super Hero\", \"Fantasy\", \"Contemporary Fiction\", \"Historical Fiction\", \"Kids Fiction\", \"Fantasy\", \"Dramatization\", \"Dramatization\", \"Contemporary Fiction\", \"Historical Fiction\", \"Historical Fiction\", \"Fantasy\", \"Kids Fiction\", \"Contemporary Fiction\", \"Science Fiction\", \"Fantasy\", \"Contemporary Fiction\", \"Contemporary Fiction\", \"Contemporary Fiction\", \"Kids Fiction\", \"Historical Fiction\", \"Dramatization\", \"Contemporary Fiction\", \"Contemporary Fiction\", \"Science Fiction\", \"Dramatization\", \"Contemporary Fiction\", \"Science Fiction\", \"Fantasy\", \"Historical Fiction\", \"Contemporary Fiction\", \"Contemporary Fiction\", \"Fantasy\", \"Contemporary Fiction\", \"Contemporary Fiction\", \"Super Hero\", \"Kids Fiction\", \"Dramatization\", \"Science Fiction\", \"Fantasy\", \"Dramatization\", \"Contemporary Fiction\", \"Dramatization\", \"Contemporary Fiction\", \"Dramatization\", \"Super Hero\", \"Fantasy\", \"Contemporary Fiction\", \"Kids Fiction\", \"Historical Fiction\", \"Science Fiction\", \"Contemporary Fiction\", \"Historical Fiction\", \"Contemporary Fiction\", \"Contemporary Fiction\", \"Fantasy\", \"Fantasy\", \"Fantasy\", \"Kids Fiction\", \"Contemporary Fiction\", \"Super Hero\", \"Fantasy\", \"Fantasy\", \"Contemporary Fiction\", \"Super Hero\", \"Contemporary Fiction\", \"Dramatization\", \"Contemporary Fiction\", \"Contemporary Fiction\", \"Fantasy\", \"Contemporary Fiction\", \"Contemporary Fiction\", \"Contemporary Fiction\", \"Contemporary Fiction\", \"Contemporary Fiction\", \"Contemporary Fiction\", \"Fantasy\", \"Contemporary Fiction\", \"Science Fiction\", \"Historical Fiction\", \"Dramatization\", \"Contemporary Fiction\", \"Contemporary Fiction\", \"Historical Fiction\", \"Contemporary Fiction\", \"Contemporary Fiction\", \"Historical Fiction\", \"Contemporary Fiction\", \"Dramatization\", \"Dramatization\", \"Fantasy\", \"Fantasy\", \"Contemporary Fiction\", \"Fantasy\", \"Contemporary Fiction\", \"Dramatization\", \"Contemporary Fiction\", \"Contemporary Fiction\", \"Contemporary Fiction\", \"Contemporary Fiction\", \"Historical Fiction\", \"Dramatization\", \"Fantasy\", \"Fantasy\", \"Contemporary Fiction\", \"Historical Fiction\", \"Dramatization\", \"Contemporary Fiction\", \"Historical Fiction\", \"Dramatization\", \"Fantasy\", \"Contemporary Fiction\", \"Fantasy\", \"Historical Fiction\", \"Factual\", \"Science Fiction\", \"Contemporary Fiction\", \"Contemporary Fiction\", \"Contemporary Fiction\", \"Contemporary Fiction\", \"Contemporary Fiction\", \"Contemporary Fiction\", \"Contemporary Fiction\", \"Contemporary Fiction\", \"Contemporary Fiction\", \"Fantasy\", \"Contemporary Fiction\", \"Contemporary Fiction\", \"Contemporary Fiction\", \"Contemporary Fiction\", \"Contemporary Fiction\", \"Science Fiction\", \"Contemporary Fiction\", \"Super Hero\", \"Super Hero\", \"Super Hero\", \"Contemporary Fiction\", \"Contemporary Fiction\", \"Contemporary Fiction\", \"Science Fiction\", \"Kids Fiction\", \"Science Fiction\", \"Science Fiction\", \"Science Fiction\", \"Contemporary Fiction\", \"Fantasy\", \"Kids Fiction\", \"Dramatization\", \"Dramatization\", \"Kids Fiction\", \"Contemporary Fiction\", \"Contemporary Fiction\", \"Fantasy\", \"Dramatization\", \"Science Fiction\", \"Contemporary Fiction\", \"Historical Fiction\", \"Contemporary Fiction\", \"Fantasy\", \"Contemporary Fiction\"]}, {\"label\": \"Major Genre\", \"values\": [\"Action\", \"Action\", \"Action\", \"Western\", \"Thriller/Suspense\", \"Drama\", \"Comedy\", \"Comedy\", \"Drama\", \"Adventure\", \"Drama\", \"Comedy\", \"Action\", \"Action\", \"Action\", \"Drama\", \"Thriller/Suspense\", \"Action\", \"Comedy\", \"Adventure\", \"Action\", \"Drama\", \"Action\", \"Drama\", \"Action\", \"Adventure\", \"Adventure\", \"Comedy\", \"Thriller/Suspense\", \"Drama\", \"Comedy\", \"Thriller/Suspense\", \"Comedy\", \"Comedy\", \"Thriller/Suspense\", \"Drama\", \"Action\", \"Comedy\", \"Thriller/Suspense\", \"Action\", \"Drama\", \"Action\", \"Horror\", \"Musical\", \"Thriller/Suspense\", \"Thriller/Suspense\", \"Romantic Comedy\", \"Comedy\", \"Drama\", \"Action\", \"Comedy\", \"Drama\", \"Drama\", \"Action\", \"Drama\", \"Drama\", \"Drama\", \"Drama\", \"Drama\", \"Action\", \"Romantic Comedy\", \"Comedy\", \"Adventure\", \"Musical\", \"Thriller/Suspense\", \"Comedy\", \"Thriller/Suspense\", \"Comedy\", \"Romantic Comedy\", \"Adventure\", \"Adventure\", \"Adventure\", \"Adventure\", \"Comedy\", \"Adventure\", \"Adventure\", \"Adventure\", \"Comedy\", \"Action\", \"Romantic Comedy\", \"Drama\", \"Action\", \"Comedy\", \"Adventure\", \"Romantic Comedy\", \"Action\", \"Thriller/Suspense\", \"Drama\", \"Thriller/Suspense\", \"Thriller/Suspense\", \"Comedy\", \"Drama\", \"Horror\", \"Drama\", \"Drama\", \"Drama\", \"Romantic Comedy\", \"Drama\", \"Comedy\", \"Comedy\", \"Drama\", \"Black Comedy\", \"Drama\", \"Drama\", \"Adventure\", \"Comedy\", \"Action\", \"Adventure\", \"Drama\", \"Drama\", \"Drama\", \"Thriller/Suspense\", \"Drama\", \"Adventure\", \"Drama\", \"Drama\", \"Adventure\", \"Adventure\", \"Horror\", \"Drama\", \"Drama\", \"Romantic Comedy\", \"Thriller/Suspense\", \"Drama\", \"Comedy\", \"Drama\", \"Horror\", \"Drama\", \"Documentary\", \"Action\", \"Drama\", \"Thriller/Suspense\", \"Comedy\", \"Thriller/Suspense\", \"Action\", \"Horror\", \"Horror\", \"Horror\", \"Comedy\", \"Adventure\", \"Thriller/Suspense\", \"Comedy\", \"Drama\", \"Comedy\", \"Thriller/Suspense\", \"Thriller/Suspense\", \"Comedy\", \"Adventure\", \"Adventure\", \"Adventure\", \"Comedy\", \"Thriller/Suspense\", \"Drama\", \"Action\", \"Adventure\", \"Action\", \"Action\", \"Horror\", \"Comedy\", \"Drama\", \"Adventure\", \"Thriller/Suspense\", \"Drama\", \"Comedy\", \"Drama\", \"Comedy\", \"Adventure\", \"Drama\", \"Action\", \"Drama\", \"Comedy\", \"Comedy\", \"Comedy\", \"Comedy\"]}], \"domain\": {\"x\": [0.0, 1.0], \"y\": [0.0, 1.0]}, \"line\": {\"color\": [0, 0, 0, 1, 2, 3, 4, 4, 3, 5, 3, 4, 0, 0, 0, 3, 2, 0, 4, 5, 0, 3, 0, 3, 0, 5, 5, 4, 2, 3, 4, 2, 4, 4, 2, 3, 0, 4, 2, 0, 3, 0, 6, 7, 2, 2, 8, 4, 3, 0, 4, 3, 3, 0, 3, 3, 3, 3, 3, 0, 8, 4, 5, 7, 2, 4, 2, 4, 8, 5, 5, 5, 5, 4, 5, 5, 5, 4, 0, 8, 3, 0, 4, 5, 8, 0, 2, 3, 2, 2, 4, 3, 6, 3, 3, 3, 8, 3, 4, 4, 3, 9, 3, 3, 5, 4, 0, 5, 3, 3, 3, 2, 3, 5, 3, 3, 5, 5, 6, 3, 3, 8, 2, 3, 4, 3, 6, 3, 10, 0, 3, 2, 4, 2, 0, 6, 6, 6, 4, 5, 2, 4, 3, 4, 2, 2, 4, 5, 5, 5, 4, 2, 3, 0, 5, 0, 0, 6, 4, 3, 5, 2, 3, 4, 3, 4, 5, 3, 0, 3, 4, 4, 4, 4], \"coloraxis\": \"coloraxis\"}, \"name\": \"\", \"type\": \"parcats\"}],\n",
       "                        {\"coloraxis\": {\"colorbar\": {\"title\": {\"text\": \"Genre_id\"}}, \"colorscale\": [[0.0, \"rgb(211, 242, 163)\"], [0.16666666666666666, \"rgb(151, 225, 150)\"], [0.3333333333333333, \"rgb(108, 192, 139)\"], [0.5, \"rgb(76, 155, 130)\"], [0.6666666666666666, \"rgb(33, 122, 121)\"], [0.8333333333333334, \"rgb(16, 89, 101)\"], [1.0, \"rgb(7, 64, 80)\"]]}, \"legend\": {\"tracegroupgap\": 0}, \"margin\": {\"t\": 60}, \"template\": {\"data\": {\"bar\": [{\"error_x\": {\"color\": \"#2a3f5f\"}, \"error_y\": {\"color\": \"#2a3f5f\"}, \"marker\": {\"line\": {\"color\": \"#E5ECF6\", \"width\": 0.5}}, \"type\": \"bar\"}], \"barpolar\": [{\"marker\": {\"line\": {\"color\": \"#E5ECF6\", \"width\": 0.5}}, \"type\": \"barpolar\"}], \"carpet\": [{\"aaxis\": {\"endlinecolor\": \"#2a3f5f\", \"gridcolor\": \"white\", \"linecolor\": \"white\", \"minorgridcolor\": \"white\", \"startlinecolor\": \"#2a3f5f\"}, \"baxis\": {\"endlinecolor\": \"#2a3f5f\", \"gridcolor\": \"white\", \"linecolor\": \"white\", \"minorgridcolor\": \"white\", \"startlinecolor\": \"#2a3f5f\"}, \"type\": \"carpet\"}], \"choropleth\": [{\"colorbar\": {\"outlinewidth\": 0, \"ticks\": \"\"}, \"type\": \"choropleth\"}], \"contour\": [{\"colorbar\": {\"outlinewidth\": 0, \"ticks\": \"\"}, \"colorscale\": [[0.0, \"#0d0887\"], [0.1111111111111111, \"#46039f\"], [0.2222222222222222, \"#7201a8\"], [0.3333333333333333, \"#9c179e\"], [0.4444444444444444, \"#bd3786\"], [0.5555555555555556, \"#d8576b\"], [0.6666666666666666, \"#ed7953\"], [0.7777777777777778, \"#fb9f3a\"], [0.8888888888888888, \"#fdca26\"], [1.0, \"#f0f921\"]], \"type\": \"contour\"}], \"contourcarpet\": [{\"colorbar\": {\"outlinewidth\": 0, \"ticks\": \"\"}, \"type\": \"contourcarpet\"}], \"heatmap\": [{\"colorbar\": {\"outlinewidth\": 0, \"ticks\": \"\"}, \"colorscale\": [[0.0, \"#0d0887\"], [0.1111111111111111, \"#46039f\"], [0.2222222222222222, \"#7201a8\"], [0.3333333333333333, \"#9c179e\"], [0.4444444444444444, \"#bd3786\"], [0.5555555555555556, \"#d8576b\"], [0.6666666666666666, \"#ed7953\"], [0.7777777777777778, \"#fb9f3a\"], [0.8888888888888888, \"#fdca26\"], [1.0, \"#f0f921\"]], \"type\": \"heatmap\"}], \"heatmapgl\": [{\"colorbar\": {\"outlinewidth\": 0, \"ticks\": \"\"}, \"colorscale\": [[0.0, \"#0d0887\"], [0.1111111111111111, \"#46039f\"], [0.2222222222222222, \"#7201a8\"], [0.3333333333333333, \"#9c179e\"], [0.4444444444444444, \"#bd3786\"], [0.5555555555555556, \"#d8576b\"], [0.6666666666666666, \"#ed7953\"], [0.7777777777777778, \"#fb9f3a\"], [0.8888888888888888, \"#fdca26\"], [1.0, \"#f0f921\"]], \"type\": \"heatmapgl\"}], \"histogram\": [{\"marker\": {\"colorbar\": {\"outlinewidth\": 0, \"ticks\": \"\"}}, \"type\": \"histogram\"}], \"histogram2d\": [{\"colorbar\": {\"outlinewidth\": 0, \"ticks\": \"\"}, \"colorscale\": [[0.0, \"#0d0887\"], [0.1111111111111111, \"#46039f\"], [0.2222222222222222, \"#7201a8\"], [0.3333333333333333, \"#9c179e\"], [0.4444444444444444, \"#bd3786\"], [0.5555555555555556, \"#d8576b\"], [0.6666666666666666, \"#ed7953\"], [0.7777777777777778, \"#fb9f3a\"], [0.8888888888888888, \"#fdca26\"], [1.0, \"#f0f921\"]], \"type\": \"histogram2d\"}], \"histogram2dcontour\": [{\"colorbar\": {\"outlinewidth\": 0, \"ticks\": \"\"}, \"colorscale\": [[0.0, \"#0d0887\"], [0.1111111111111111, \"#46039f\"], [0.2222222222222222, \"#7201a8\"], [0.3333333333333333, \"#9c179e\"], [0.4444444444444444, \"#bd3786\"], [0.5555555555555556, \"#d8576b\"], [0.6666666666666666, \"#ed7953\"], [0.7777777777777778, \"#fb9f3a\"], [0.8888888888888888, \"#fdca26\"], [1.0, \"#f0f921\"]], \"type\": \"histogram2dcontour\"}], \"mesh3d\": [{\"colorbar\": {\"outlinewidth\": 0, \"ticks\": \"\"}, \"type\": \"mesh3d\"}], \"parcoords\": [{\"line\": {\"colorbar\": {\"outlinewidth\": 0, \"ticks\": \"\"}}, \"type\": \"parcoords\"}], \"pie\": [{\"automargin\": true, \"type\": \"pie\"}], \"scatter\": [{\"marker\": {\"colorbar\": {\"outlinewidth\": 0, \"ticks\": \"\"}}, \"type\": \"scatter\"}], \"scatter3d\": [{\"line\": {\"colorbar\": {\"outlinewidth\": 0, \"ticks\": \"\"}}, \"marker\": {\"colorbar\": {\"outlinewidth\": 0, \"ticks\": \"\"}}, \"type\": \"scatter3d\"}], \"scattercarpet\": [{\"marker\": {\"colorbar\": {\"outlinewidth\": 0, \"ticks\": \"\"}}, \"type\": \"scattercarpet\"}], \"scattergeo\": [{\"marker\": {\"colorbar\": {\"outlinewidth\": 0, \"ticks\": \"\"}}, \"type\": \"scattergeo\"}], \"scattergl\": [{\"marker\": {\"colorbar\": {\"outlinewidth\": 0, \"ticks\": \"\"}}, \"type\": \"scattergl\"}], \"scattermapbox\": [{\"marker\": {\"colorbar\": {\"outlinewidth\": 0, \"ticks\": \"\"}}, \"type\": \"scattermapbox\"}], \"scatterpolar\": [{\"marker\": {\"colorbar\": {\"outlinewidth\": 0, \"ticks\": \"\"}}, \"type\": \"scatterpolar\"}], \"scatterpolargl\": [{\"marker\": {\"colorbar\": {\"outlinewidth\": 0, \"ticks\": \"\"}}, \"type\": \"scatterpolargl\"}], \"scatterternary\": [{\"marker\": {\"colorbar\": {\"outlinewidth\": 0, \"ticks\": \"\"}}, \"type\": \"scatterternary\"}], \"surface\": [{\"colorbar\": {\"outlinewidth\": 0, \"ticks\": \"\"}, \"colorscale\": [[0.0, \"#0d0887\"], [0.1111111111111111, \"#46039f\"], [0.2222222222222222, \"#7201a8\"], [0.3333333333333333, \"#9c179e\"], [0.4444444444444444, \"#bd3786\"], [0.5555555555555556, \"#d8576b\"], [0.6666666666666666, \"#ed7953\"], [0.7777777777777778, \"#fb9f3a\"], [0.8888888888888888, \"#fdca26\"], [1.0, \"#f0f921\"]], \"type\": \"surface\"}], \"table\": [{\"cells\": {\"fill\": {\"color\": \"#EBF0F8\"}, \"line\": {\"color\": \"white\"}}, \"header\": {\"fill\": {\"color\": \"#C8D4E3\"}, \"line\": {\"color\": \"white\"}}, \"type\": \"table\"}]}, \"layout\": {\"annotationdefaults\": {\"arrowcolor\": \"#2a3f5f\", \"arrowhead\": 0, \"arrowwidth\": 1}, \"coloraxis\": {\"colorbar\": {\"outlinewidth\": 0, \"ticks\": \"\"}}, \"colorscale\": {\"diverging\": [[0, \"#8e0152\"], [0.1, \"#c51b7d\"], [0.2, \"#de77ae\"], [0.3, \"#f1b6da\"], [0.4, \"#fde0ef\"], [0.5, \"#f7f7f7\"], [0.6, \"#e6f5d0\"], [0.7, \"#b8e186\"], [0.8, \"#7fbc41\"], [0.9, \"#4d9221\"], [1, \"#276419\"]], \"sequential\": [[0.0, \"#0d0887\"], [0.1111111111111111, \"#46039f\"], [0.2222222222222222, \"#7201a8\"], [0.3333333333333333, \"#9c179e\"], [0.4444444444444444, \"#bd3786\"], [0.5555555555555556, \"#d8576b\"], [0.6666666666666666, \"#ed7953\"], [0.7777777777777778, \"#fb9f3a\"], [0.8888888888888888, \"#fdca26\"], [1.0, \"#f0f921\"]], \"sequentialminus\": [[0.0, \"#0d0887\"], [0.1111111111111111, \"#46039f\"], [0.2222222222222222, \"#7201a8\"], [0.3333333333333333, \"#9c179e\"], [0.4444444444444444, \"#bd3786\"], [0.5555555555555556, \"#d8576b\"], [0.6666666666666666, \"#ed7953\"], [0.7777777777777778, \"#fb9f3a\"], [0.8888888888888888, \"#fdca26\"], [1.0, \"#f0f921\"]]}, \"colorway\": [\"#636efa\", \"#EF553B\", \"#00cc96\", \"#ab63fa\", \"#FFA15A\", \"#19d3f3\", \"#FF6692\", \"#B6E880\", \"#FF97FF\", \"#FECB52\"], \"font\": {\"color\": \"#2a3f5f\"}, \"geo\": {\"bgcolor\": \"white\", \"lakecolor\": \"white\", \"landcolor\": \"#E5ECF6\", \"showlakes\": true, \"showland\": true, \"subunitcolor\": \"white\"}, \"hoverlabel\": {\"align\": \"left\"}, \"hovermode\": \"closest\", \"mapbox\": {\"style\": \"light\"}, \"paper_bgcolor\": \"white\", \"plot_bgcolor\": \"#E5ECF6\", \"polar\": {\"angularaxis\": {\"gridcolor\": \"white\", \"linecolor\": \"white\", \"ticks\": \"\"}, \"bgcolor\": \"#E5ECF6\", \"radialaxis\": {\"gridcolor\": \"white\", \"linecolor\": \"white\", \"ticks\": \"\"}}, \"scene\": {\"xaxis\": {\"backgroundcolor\": \"#E5ECF6\", \"gridcolor\": \"white\", \"gridwidth\": 2, \"linecolor\": \"white\", \"showbackground\": true, \"ticks\": \"\", \"zerolinecolor\": \"white\"}, \"yaxis\": {\"backgroundcolor\": \"#E5ECF6\", \"gridcolor\": \"white\", \"gridwidth\": 2, \"linecolor\": \"white\", \"showbackground\": true, \"ticks\": \"\", \"zerolinecolor\": \"white\"}, \"zaxis\": {\"backgroundcolor\": \"#E5ECF6\", \"gridcolor\": \"white\", \"gridwidth\": 2, \"linecolor\": \"white\", \"showbackground\": true, \"ticks\": \"\", \"zerolinecolor\": \"white\"}}, \"shapedefaults\": {\"line\": {\"color\": \"#2a3f5f\"}}, \"ternary\": {\"aaxis\": {\"gridcolor\": \"white\", \"linecolor\": \"white\", \"ticks\": \"\"}, \"baxis\": {\"gridcolor\": \"white\", \"linecolor\": \"white\", \"ticks\": \"\"}, \"bgcolor\": \"#E5ECF6\", \"caxis\": {\"gridcolor\": \"white\", \"linecolor\": \"white\", \"ticks\": \"\"}}, \"title\": {\"x\": 0.05}, \"xaxis\": {\"automargin\": true, \"gridcolor\": \"white\", \"linecolor\": \"white\", \"ticks\": \"\", \"title\": {\"standoff\": 15}, \"zerolinecolor\": \"white\", \"zerolinewidth\": 2}, \"yaxis\": {\"automargin\": true, \"gridcolor\": \"white\", \"linecolor\": \"white\", \"ticks\": \"\", \"title\": {\"standoff\": 15}, \"zerolinecolor\": \"white\", \"zerolinewidth\": 2}}}},\n",
       "                        {\"responsive\": true}\n",
       "                    ).then(function(){\n",
       "                            \n",
       "var gd = document.getElementById('a4b8c95b-f9d2-45fa-bb0d-980149ca3345');\n",
       "var x = new MutationObserver(function (mutations, observer) {{\n",
       "        var display = window.getComputedStyle(gd).display;\n",
       "        if (!display || display === 'none') {{\n",
       "            console.log([gd, 'removed!']);\n",
       "            Plotly.purge(gd);\n",
       "            observer.disconnect();\n",
       "        }}\n",
       "}});\n",
       "\n",
       "// Listen for the removal of the full notebook cells\n",
       "var notebookContainer = gd.closest('#notebook-container');\n",
       "if (notebookContainer) {{\n",
       "    x.observe(notebookContainer, {childList: true});\n",
       "}}\n",
       "\n",
       "// Listen for the clearing of the current output cell\n",
       "var outputEl = gd.closest('.output');\n",
       "if (outputEl) {{\n",
       "    x.observe(outputEl, {childList: true});\n",
       "}}\n",
       "\n",
       "                        })\n",
       "                };\n",
       "                });\n",
       "            </script>\n",
       "        </div>"
      ]
     },
     "metadata": {},
     "output_type": "display_data"
    }
   ],
   "source": [
    "# 另一种探索类别变量之间关系的方法是以下这种流程图。你可以随时拖放、高亮和浏览值，非常适合演示时使用。\n",
    "import plotly.express as px\n",
    "from vega_datasets import data\n",
    "import pandas as pd\n",
    "df = data.movies()\n",
    "df = df.dropna()\n",
    "df['Genre_id'] = df['Major Genre'].factorize()[0]\n",
    "fig = px.parallel_categories(\n",
    "    df,\n",
    "    dimensions=['MPAA Rating', 'Creative Type', 'Major Genre'],\n",
    "    color=\"Genre_id\",\n",
    "    color_continuous_scale=px.colors.sequential.Emrld,\n",
    ")\n",
    "fig.show()\n",
    "# df.columns"
   ]
  },
  {
   "cell_type": "markdown",
   "metadata": {},
   "source": [
    "## 平行坐标图\n",
    "平行坐标图是上面的图表的连续版本。这里，每一根弦都代表单个观察。这是一种可用于识别离群值（远离其它数据的单条线）、聚类、趋势和冗余变量（比如如果两个变量在每个观察上的值都相近，那么它们将位于同一水平线上，表示存在冗余）的好用工具。"
   ]
  },
  {
   "cell_type": "code",
   "execution_count": 71,
   "metadata": {},
   "outputs": [
    {
     "data": {
      "application/vnd.plotly.v1+json": {
       "config": {
        "plotlyServerURL": "https://plot.ly"
       },
       "data": [
        {
         "dimensions": [
          {
           "label": "IMDB Rating",
           "values": [
            5.4,
            6.2,
            7.8,
            7.9,
            5.9,
            6.8,
            5.5,
            5.5,
            7.9,
            7.9,
            7.9,
            7.3,
            5.3,
            5.4,
            8.9,
            8,
            7.2,
            8,
            6.3,
            6.6,
            7.7,
            7.1,
            8.2,
            7.8,
            8.4,
            6.4,
            5.8,
            5.2,
            8.1,
            6.7,
            4,
            4.8,
            5.5,
            7.2,
            5.6,
            7.6,
            7.5,
            1.7000000000000002,
            8.3,
            5.9,
            8.5,
            6.6,
            7.1,
            6.6,
            7,
            6.6,
            7.5,
            2.2,
            6.4,
            5.7,
            7,
            6.5,
            7.4,
            6.7,
            7.5,
            5.6,
            7.9,
            5.8,
            6.8,
            5.2,
            4.7,
            6.3,
            7.9,
            7.2,
            5.2,
            5.5,
            6,
            7.9,
            6.9,
            7.6,
            7.4,
            7.3,
            6.7,
            8,
            7.1,
            7.1,
            6.1,
            6.1,
            7.9,
            5.5,
            7.2,
            8,
            7.9,
            7.6,
            7.5,
            7.1,
            6.4,
            7.8,
            7.2,
            6.3,
            5.3,
            7.8,
            7.1,
            8.1,
            7.8,
            6.2,
            5.1,
            5.9,
            5.3,
            5.8,
            7.1,
            6.4,
            7.1,
            6.7,
            5.1,
            6.4,
            6,
            6.8,
            7.4,
            6.6,
            6.8,
            6.2,
            8.2,
            6.9,
            6,
            7.1,
            7.3,
            7,
            6.7,
            7.5,
            7.8,
            5.4,
            8.4,
            7.6,
            8.1,
            7.7,
            5.6,
            7.7,
            7.8,
            6.2,
            6.9,
            6.9,
            6.3,
            6,
            6,
            6.8,
            6.3,
            6.2,
            6,
            7.9,
            7.2,
            7.6,
            8.3,
            6.6,
            6,
            7.3,
            7.8,
            7.7,
            6.4,
            6.6,
            7.8,
            7.3,
            6.1,
            6.3,
            6.1,
            7.3,
            6,
            7.4,
            7.2,
            6.1,
            8.4,
            7.3,
            7.4,
            8.5,
            7,
            4.5,
            7.2,
            7.9,
            6.4,
            8.2,
            5,
            7,
            7.8,
            7
           ]
          },
          {
           "label": "IMDB Votes",
           "values": [
            8914,
            396,
            235508,
            98355,
            31205,
            23149,
            43164,
            19200,
            114060,
            82162,
            75491,
            14929,
            27189,
            20931,
            465000,
            137120,
            53921,
            118925,
            30575,
            62513,
            98653,
            23262,
            146025,
            115951,
            178742,
            14905,
            17415,
            11858,
            158125,
            8028,
            5277,
            17736,
            18332,
            19913,
            35210,
            14530,
            130559,
            34928,
            151742,
            32560,
            264148,
            40611,
            51343,
            28016,
            72231,
            52336,
            55697,
            48975,
            31775,
            71675,
            21334,
            13934,
            72562,
            36548,
            18065,
            5498,
            36366,
            10902,
            12400,
            63235,
            310,
            14984,
            38158,
            41511,
            72259,
            18964,
            28690,
            127634,
            48215,
            111946,
            104074,
            73720,
            42369,
            129779,
            82419,
            33374,
            14157,
            46347,
            174040,
            8643,
            60650,
            172936,
            149855,
            132720,
            111192,
            47200,
            58138,
            26816,
            45577,
            18547,
            16830,
            37162,
            153631,
            56872,
            54022,
            22264,
            15422,
            9870,
            23753,
            14617,
            38695,
            33763,
            10236,
            13881,
            41570,
            67133,
            51921,
            26582,
            13839,
            4701,
            24021,
            59174,
            99464,
            76884,
            2993,
            87326,
            150446,
            133241,
            53455,
            51704,
            77939,
            397,
            207322,
            34785,
            131929,
            46984,
            19881,
            39234,
            23094,
            49502,
            20451,
            23223,
            11859,
            34641,
            39312,
            76530,
            60784,
            18091,
            15536,
            87883,
            149,
            117656,
            176325,
            57313,
            65841,
            74535,
            134212,
            141940,
            141513,
            102751,
            74218,
            34067,
            21691,
            36940,
            7460,
            197131,
            95786,
            76830,
            104839,
            4840,
            110491,
            54343,
            27529,
            182257,
            38163,
            5700,
            30669,
            85235,
            1089,
            93301,
            23091,
            62150,
            81629,
            55687
           ]
          },
          {
           "label": "Production Budget",
           "values": [
            20000000,
            200000000,
            60000000,
            48000000,
            30000000,
            35000000,
            175000000,
            55000000,
            100000000,
            40000000,
            30000000,
            21000000,
            45000000,
            45000000,
            185000000,
            160000000,
            67500000,
            100000000,
            150000000,
            150000000,
            95000000,
            14000000,
            130000000,
            13900000,
            70000000,
            38000000,
            60000000,
            60000000,
            76000000,
            82500000,
            20000000,
            20000000,
            60000000,
            100000000,
            60000000,
            15000000,
            110000000,
            20000000,
            30000000,
            50000000,
            90000000,
            65000000,
            30000000,
            75000000,
            20000000,
            80000000,
            85000000,
            20000000,
            54000000,
            87500000,
            149000000,
            60000000,
            35000000,
            55000000,
            21000000,
            500000,
            29000000,
            20000000,
            30000000,
            120000000,
            20000000,
            22000000,
            30000000,
            75000000,
            60000000,
            25000000,
            50000000,
            35000000,
            85000000,
            150000000,
            150000000,
            250000000,
            85000000,
            16000000,
            137500000,
            30000000,
            60000000,
            85000000,
            186000000,
            14000000,
            72000000,
            102000000,
            7000000,
            207000000,
            27500000,
            72500000,
            50000000,
            20000000,
            53000000,
            20000000,
            100000000,
            14000000,
            150000000,
            13000000,
            6000000,
            35000000,
            35000000,
            55000000,
            26000000,
            20000000,
            85000000,
            24000000,
            30000000,
            15000000,
            175000000,
            110000000,
            135000000,
            175000000,
            27500000,
            35000000,
            10000000,
            32000000,
            20000000,
            85000000,
            20000000,
            25000000,
            225000000,
            300000000,
            15000,
            63700000,
            55000000,
            40000000,
            40000000,
            15000000,
            150000000,
            33000000,
            40000000,
            20000000,
            2500000,
            45000000,
            12000000,
            27500000,
            15000000,
            60000000,
            180000000,
            5000000,
            10000000,
            11000000,
            20000000,
            70000000,
            60000000,
            72500000,
            14000000,
            17000000,
            33000000,
            40000000,
            17500000,
            200000000,
            258000000,
            232000000,
            30000000,
            60000000,
            12000000,
            80000000,
            60000000,
            151000000,
            210000000,
            13000000,
            90000000,
            37000000,
            175000000,
            75000000,
            23000000,
            180000000,
            28000000,
            27500000,
            100000000,
            29000000,
            75000000,
            6000000,
            60000000,
            50000000,
            23600000,
            24000000
           ]
          },
          {
           "label": "Running Time min",
           "values": [
            108,
            158,
            117,
            117,
            106,
            118,
            78,
            92,
            157,
            136,
            130,
            98,
            100,
            98,
            152,
            167,
            129,
            143,
            90,
            115,
            144,
            120,
            114,
            134,
            152,
            94,
            80,
            94,
            114,
            98,
            91,
            95,
            113,
            90,
            121,
            130,
            128,
            88,
            111,
            133,
            152,
            105,
            99,
            130,
            104,
            117,
            108,
            86,
            133,
            123,
            85,
            139,
            96,
            105,
            122,
            122,
            122,
            111,
            126,
            110,
            102,
            110,
            85,
            117,
            89,
            98,
            121,
            99,
            131,
            157,
            138,
            153,
            108,
            121,
            112,
            122,
            105,
            115,
            126,
            94,
            115,
            144,
            95,
            187,
            132,
            110,
            121,
            122,
            108,
            106,
            101,
            136,
            100,
            141,
            121,
            90,
            90,
            122,
            91,
            103,
            145,
            93,
            92,
            100,
            111,
            108,
            132,
            95,
            108,
            102,
            90,
            95,
            147,
            122,
            124,
            127,
            151,
            167,
            85,
            147,
            116,
            107,
            131,
            103,
            111,
            123,
            100,
            128,
            101,
            95,
            111,
            121,
            102,
            100,
            91,
            91,
            107,
            91,
            101,
            128,
            125,
            86,
            116,
            108,
            105,
            108,
            112,
            127,
            139,
            157,
            112,
            127,
            98,
            104,
            93,
            140,
            149,
            127,
            106,
            120,
            96,
            120,
            120,
            97,
            117,
            114,
            100,
            80,
            110,
            109,
            97,
            104,
            87,
            101
           ]
          },
          {
           "label": "US Gross",
           "values": [
            12234694,
            166112167,
            210614939,
            53606916,
            16930884,
            7459300,
            100289690,
            217326974,
            130164645,
            50866635,
            50980159,
            9451946,
            22532572,
            15298133,
            533345358,
            127509326,
            39394666,
            57377916,
            126631277,
            82195215,
            108638745,
            11242801,
            227471070,
            83043761,
            120831050,
            7871693,
            135386665,
            82571173,
            35552383,
            82985708,
            8135024,
            23364784,
            109205660,
            124870275,
            22672813,
            30226144,
            134529403,
            14190901,
            115646235,
            10169202,
            133311000,
            36316032,
            42100625,
            103365956,
            80209692,
            101440743,
            127706877,
            39739367,
            26850426,
            154696080,
            64665672,
            13090630,
            10144010,
            52075270,
            36605602,
            33451479,
            18622031,
            18882880,
            38432823,
            115802596,
            13252641,
            90648202,
            56068547,
            118823091,
            64506874,
            48237389,
            27669725,
            277322503,
            63280000,
            290013036,
            292004738,
            301959197,
            198000317,
            23618786,
            134806913,
            7689458,
            17303424,
            119725280,
            318604126,
            12559771,
            62647540,
            167365000,
            143495265,
            218080025,
            148761765,
            47467250,
            79957634,
            15800078,
            73357727,
            39263506,
            49438370,
            5463019,
            256393010,
            13756082,
            17606684,
            14998070,
            43799818,
            5755286,
            146336178,
            19219250,
            57010853,
            32428195,
            3005605,
            9176787,
            102491776,
            250863268,
            63478838,
            198351526,
            49200230,
            37629831,
            31487293,
            35193167,
            18354356,
            117144465,
            13395961,
            370782930,
            423315812,
            309420425,
            107918810,
            2223293,
            162586036,
            163958031,
            53089891,
            56441711,
            206445654,
            34192652,
            25126214,
            19661987,
            13011160,
            50648679,
            12796277,
            9736045,
            6409528,
            40081410,
            140125968,
            87025093,
            80238724,
            27693292,
            17807569,
            38634938,
            47003582,
            183135014,
            141319928,
            35662731,
            34020814,
            3688560,
            121463226,
            373524485,
            336530303,
            200120000,
            40435190,
            37017955,
            65328121,
            38577772,
            50877145,
            319246193,
            402111870,
            25593755,
            110461307,
            192769854,
            293004164,
            83077470,
            6777741,
            223808164,
            28563179,
            42436517,
            77233467,
            119519402,
            134508551,
            26236603,
            43337279,
            97690976,
            75590286,
            31452765
           ]
          },
          {
           "label": "Worldwide Gross",
           "values": [
            18184083,
            766812167,
            456068181,
            69791889,
            32955399,
            42064105,
            173219280,
            360578644,
            265697825,
            117785051,
            129425746,
            10108016,
            70216497,
            46598133,
            1022345358,
            329809326,
            108394666,
            171377916,
            287594577,
            194995215,
            173638745,
            20597806,
            442161562,
            180343761,
            320389438,
            11817059,
            314432738,
            135015330,
            69450202,
            143985708,
            8135024,
            38164784,
            172450423,
            139525862,
            46672813,
            30226144,
            383531464,
            34690901,
            206552113,
            17759202,
            290539042,
            72516819,
            85724728,
            154965956,
            117573043,
            178066569,
            340384141,
            86858578,
            50719373,
            330579719,
            177665672,
            14816379,
            15461638,
            129075270,
            43090741,
            33451479,
            28144586,
            20819601,
            41480851,
            237702596,
            26612350,
            147914546,
            185724838,
            202823091,
            163403799,
            70237389,
            80583311,
            465132119,
            205190324,
            896013036,
            938468864,
            937499905,
            385000317,
            79197493,
            263349257,
            58692979,
            58051454,
            185708462,
            582604126,
            13205411,
            96947540,
            596365000,
            230327671,
            550517357,
            218994109,
            86509602,
            187858642,
            73222245,
            113190972,
            44263506,
            69548641,
            14763019,
            585055701,
            68756082,
            48363516,
            63211088,
            70799818,
            6521829,
            180449670,
            34787111,
            161510853,
            67348218,
            35025861,
            18932117,
            397912118,
            574480841,
            163818556,
            381687380,
            89053995,
            46432264,
            31487293,
            76593167,
            53813837,
            311744465,
            13395961,
            611899420,
            1065659812,
            960996492,
            193770453,
            132180323,
            306086036,
            317358031,
            107896006,
            122840603,
            620495432,
            106107610,
            62226214,
            20081987,
            13136074,
            146162920,
            13326280,
            20437142,
            8767338,
            76781410,
            253025968,
            152925093,
            163876815,
            61259697,
            17807569,
            135556675,
            95203582,
            527071022,
            365257315,
            56047261,
            62020814,
            32030610,
            169863226,
            783705001,
            890871626,
            391120000,
            45235190,
            91445389,
            115328121,
            119668350,
            88717945,
            708272592,
            836303693,
            54777490,
            188163455,
            396439854,
            731304609,
            198686497,
            24489150,
            532743103,
            54700285,
            43607627,
            99123656,
            184319402,
            340934768,
            43236603,
            57604723,
            225990976,
            98690286,
            36851125
           ]
          },
          {
           "label": "US DVD Sales",
           "values": [
            8283859,
            50736023,
            261252400,
            51359371,
            11385055,
            7342760,
            38038256,
            137516182,
            72653959,
            43318599,
            15678677,
            3788940,
            16787309,
            15494886,
            234119058,
            42850598,
            22024703,
            62588936,
            79628881,
            35961910,
            970318,
            12345494,
            123314592,
            31338042,
            58414604,
            6086988,
            142108745,
            26537982,
            25345271,
            83571732,
            4492233,
            26360430,
            34715888,
            42574228,
            12350794,
            24133037,
            100774964,
            9859088,
            30058184,
            15573570,
            140689412,
            24667330,
            13123388,
            53674555,
            34508128,
            38374936,
            87698079,
            16839362,
            15854391,
            4702358,
            71025931,
            23631077,
            8752844,
            23318686,
            20532539,
            31898934,
            6677601,
            19382312,
            34066576,
            103730683,
            7574314,
            50113315,
            35069986,
            104104829,
            21432877,
            15442818,
            23365803,
            165916727,
            71449071,
            215701005,
            220867077,
            103574938,
            203263968,
            33391776,
            58503066,
            5387124,
            8342886,
            69334335,
            169251757,
            13566229,
            52209103,
            79681613,
            57612374,
            140752353,
            117601397,
            34065220,
            23450931,
            6563936,
            20038881,
            21455006,
            18953806,
            3657245,
            129742540,
            13625847,
            16836991,
            9203604,
            22782913,
            853973,
            53105030,
            18449619,
            32837435,
            8155901,
            7821056,
            5455645,
            43147886,
            153389976,
            37652030,
            83851943,
            21467223,
            26142500,
            10327750,
            27576238,
            15272435,
            48258805,
            20554010,
            618454,
            320830925,
            296060575,
            14051496,
            7529604,
            90857430,
            83691948,
            45394364,
            29161789,
            189134287,
            12359754,
            19812272,
            16021076,
            7486708,
            34217549,
            6635346,
            6007008,
            7970409,
            16209689,
            40854922,
            44699720,
            47153811,
            8308717,
            13739501,
            25129402,
            57333255,
            96359085,
            31952272,
            35817034,
            23704179,
            6342481,
            134555373,
            4196484,
            124058348,
            81580739,
            30936711,
            13578224,
            51317604,
            11099238,
            26233404,
            290787166,
            217509899,
            29059367,
            50387300,
            193591463,
            178459329,
            26715008,
            3182650,
            142201722,
            22557036,
            17066717,
            27984751,
            123216687,
            71092823,
            11912450,
            14813995,
            26601131,
            28281155,
            21240321
           ]
          }
         ],
         "domain": {
          "x": [
           0,
           1
          ],
          "y": [
           0,
           1
          ]
         },
         "line": {
          "color": [
           5.4,
           6.2,
           7.8,
           7.9,
           5.9,
           6.8,
           5.5,
           5.5,
           7.9,
           7.9,
           7.9,
           7.3,
           5.3,
           5.4,
           8.9,
           8,
           7.2,
           8,
           6.3,
           6.6,
           7.7,
           7.1,
           8.2,
           7.8,
           8.4,
           6.4,
           5.8,
           5.2,
           8.1,
           6.7,
           4,
           4.8,
           5.5,
           7.2,
           5.6,
           7.6,
           7.5,
           1.7000000000000002,
           8.3,
           5.9,
           8.5,
           6.6,
           7.1,
           6.6,
           7,
           6.6,
           7.5,
           2.2,
           6.4,
           5.7,
           7,
           6.5,
           7.4,
           6.7,
           7.5,
           5.6,
           7.9,
           5.8,
           6.8,
           5.2,
           4.7,
           6.3,
           7.9,
           7.2,
           5.2,
           5.5,
           6,
           7.9,
           6.9,
           7.6,
           7.4,
           7.3,
           6.7,
           8,
           7.1,
           7.1,
           6.1,
           6.1,
           7.9,
           5.5,
           7.2,
           8,
           7.9,
           7.6,
           7.5,
           7.1,
           6.4,
           7.8,
           7.2,
           6.3,
           5.3,
           7.8,
           7.1,
           8.1,
           7.8,
           6.2,
           5.1,
           5.9,
           5.3,
           5.8,
           7.1,
           6.4,
           7.1,
           6.7,
           5.1,
           6.4,
           6,
           6.8,
           7.4,
           6.6,
           6.8,
           6.2,
           8.2,
           6.9,
           6,
           7.1,
           7.3,
           7,
           6.7,
           7.5,
           7.8,
           5.4,
           8.4,
           7.6,
           8.1,
           7.7,
           5.6,
           7.7,
           7.8,
           6.2,
           6.9,
           6.9,
           6.3,
           6,
           6,
           6.8,
           6.3,
           6.2,
           6,
           7.9,
           7.2,
           7.6,
           8.3,
           6.6,
           6,
           7.3,
           7.8,
           7.7,
           6.4,
           6.6,
           7.8,
           7.3,
           6.1,
           6.3,
           6.1,
           7.3,
           6,
           7.4,
           7.2,
           6.1,
           8.4,
           7.3,
           7.4,
           8.5,
           7,
           4.5,
           7.2,
           7.9,
           6.4,
           8.2,
           5,
           7,
           7.8,
           7
          ],
          "coloraxis": "coloraxis"
         },
         "name": "",
         "type": "parcoords"
        }
       ],
       "layout": {
        "coloraxis": {
         "colorbar": {
          "title": {
           "text": "IMDB Rating"
          }
         },
         "colorscale": [
          [
           0,
           "rgb(211, 242, 163)"
          ],
          [
           0.16666666666666666,
           "rgb(151, 225, 150)"
          ],
          [
           0.3333333333333333,
           "rgb(108, 192, 139)"
          ],
          [
           0.5,
           "rgb(76, 155, 130)"
          ],
          [
           0.6666666666666666,
           "rgb(33, 122, 121)"
          ],
          [
           0.8333333333333334,
           "rgb(16, 89, 101)"
          ],
          [
           1,
           "rgb(7, 64, 80)"
          ]
         ]
        },
        "legend": {
         "tracegroupgap": 0
        },
        "margin": {
         "t": 60
        },
        "template": {
         "data": {
          "bar": [
           {
            "error_x": {
             "color": "#2a3f5f"
            },
            "error_y": {
             "color": "#2a3f5f"
            },
            "marker": {
             "line": {
              "color": "#E5ECF6",
              "width": 0.5
             }
            },
            "type": "bar"
           }
          ],
          "barpolar": [
           {
            "marker": {
             "line": {
              "color": "#E5ECF6",
              "width": 0.5
             }
            },
            "type": "barpolar"
           }
          ],
          "carpet": [
           {
            "aaxis": {
             "endlinecolor": "#2a3f5f",
             "gridcolor": "white",
             "linecolor": "white",
             "minorgridcolor": "white",
             "startlinecolor": "#2a3f5f"
            },
            "baxis": {
             "endlinecolor": "#2a3f5f",
             "gridcolor": "white",
             "linecolor": "white",
             "minorgridcolor": "white",
             "startlinecolor": "#2a3f5f"
            },
            "type": "carpet"
           }
          ],
          "choropleth": [
           {
            "colorbar": {
             "outlinewidth": 0,
             "ticks": ""
            },
            "type": "choropleth"
           }
          ],
          "contour": [
           {
            "colorbar": {
             "outlinewidth": 0,
             "ticks": ""
            },
            "colorscale": [
             [
              0,
              "#0d0887"
             ],
             [
              0.1111111111111111,
              "#46039f"
             ],
             [
              0.2222222222222222,
              "#7201a8"
             ],
             [
              0.3333333333333333,
              "#9c179e"
             ],
             [
              0.4444444444444444,
              "#bd3786"
             ],
             [
              0.5555555555555556,
              "#d8576b"
             ],
             [
              0.6666666666666666,
              "#ed7953"
             ],
             [
              0.7777777777777778,
              "#fb9f3a"
             ],
             [
              0.8888888888888888,
              "#fdca26"
             ],
             [
              1,
              "#f0f921"
             ]
            ],
            "type": "contour"
           }
          ],
          "contourcarpet": [
           {
            "colorbar": {
             "outlinewidth": 0,
             "ticks": ""
            },
            "type": "contourcarpet"
           }
          ],
          "heatmap": [
           {
            "colorbar": {
             "outlinewidth": 0,
             "ticks": ""
            },
            "colorscale": [
             [
              0,
              "#0d0887"
             ],
             [
              0.1111111111111111,
              "#46039f"
             ],
             [
              0.2222222222222222,
              "#7201a8"
             ],
             [
              0.3333333333333333,
              "#9c179e"
             ],
             [
              0.4444444444444444,
              "#bd3786"
             ],
             [
              0.5555555555555556,
              "#d8576b"
             ],
             [
              0.6666666666666666,
              "#ed7953"
             ],
             [
              0.7777777777777778,
              "#fb9f3a"
             ],
             [
              0.8888888888888888,
              "#fdca26"
             ],
             [
              1,
              "#f0f921"
             ]
            ],
            "type": "heatmap"
           }
          ],
          "heatmapgl": [
           {
            "colorbar": {
             "outlinewidth": 0,
             "ticks": ""
            },
            "colorscale": [
             [
              0,
              "#0d0887"
             ],
             [
              0.1111111111111111,
              "#46039f"
             ],
             [
              0.2222222222222222,
              "#7201a8"
             ],
             [
              0.3333333333333333,
              "#9c179e"
             ],
             [
              0.4444444444444444,
              "#bd3786"
             ],
             [
              0.5555555555555556,
              "#d8576b"
             ],
             [
              0.6666666666666666,
              "#ed7953"
             ],
             [
              0.7777777777777778,
              "#fb9f3a"
             ],
             [
              0.8888888888888888,
              "#fdca26"
             ],
             [
              1,
              "#f0f921"
             ]
            ],
            "type": "heatmapgl"
           }
          ],
          "histogram": [
           {
            "marker": {
             "colorbar": {
              "outlinewidth": 0,
              "ticks": ""
             }
            },
            "type": "histogram"
           }
          ],
          "histogram2d": [
           {
            "colorbar": {
             "outlinewidth": 0,
             "ticks": ""
            },
            "colorscale": [
             [
              0,
              "#0d0887"
             ],
             [
              0.1111111111111111,
              "#46039f"
             ],
             [
              0.2222222222222222,
              "#7201a8"
             ],
             [
              0.3333333333333333,
              "#9c179e"
             ],
             [
              0.4444444444444444,
              "#bd3786"
             ],
             [
              0.5555555555555556,
              "#d8576b"
             ],
             [
              0.6666666666666666,
              "#ed7953"
             ],
             [
              0.7777777777777778,
              "#fb9f3a"
             ],
             [
              0.8888888888888888,
              "#fdca26"
             ],
             [
              1,
              "#f0f921"
             ]
            ],
            "type": "histogram2d"
           }
          ],
          "histogram2dcontour": [
           {
            "colorbar": {
             "outlinewidth": 0,
             "ticks": ""
            },
            "colorscale": [
             [
              0,
              "#0d0887"
             ],
             [
              0.1111111111111111,
              "#46039f"
             ],
             [
              0.2222222222222222,
              "#7201a8"
             ],
             [
              0.3333333333333333,
              "#9c179e"
             ],
             [
              0.4444444444444444,
              "#bd3786"
             ],
             [
              0.5555555555555556,
              "#d8576b"
             ],
             [
              0.6666666666666666,
              "#ed7953"
             ],
             [
              0.7777777777777778,
              "#fb9f3a"
             ],
             [
              0.8888888888888888,
              "#fdca26"
             ],
             [
              1,
              "#f0f921"
             ]
            ],
            "type": "histogram2dcontour"
           }
          ],
          "mesh3d": [
           {
            "colorbar": {
             "outlinewidth": 0,
             "ticks": ""
            },
            "type": "mesh3d"
           }
          ],
          "parcoords": [
           {
            "line": {
             "colorbar": {
              "outlinewidth": 0,
              "ticks": ""
             }
            },
            "type": "parcoords"
           }
          ],
          "pie": [
           {
            "automargin": true,
            "type": "pie"
           }
          ],
          "scatter": [
           {
            "marker": {
             "colorbar": {
              "outlinewidth": 0,
              "ticks": ""
             }
            },
            "type": "scatter"
           }
          ],
          "scatter3d": [
           {
            "line": {
             "colorbar": {
              "outlinewidth": 0,
              "ticks": ""
             }
            },
            "marker": {
             "colorbar": {
              "outlinewidth": 0,
              "ticks": ""
             }
            },
            "type": "scatter3d"
           }
          ],
          "scattercarpet": [
           {
            "marker": {
             "colorbar": {
              "outlinewidth": 0,
              "ticks": ""
             }
            },
            "type": "scattercarpet"
           }
          ],
          "scattergeo": [
           {
            "marker": {
             "colorbar": {
              "outlinewidth": 0,
              "ticks": ""
             }
            },
            "type": "scattergeo"
           }
          ],
          "scattergl": [
           {
            "marker": {
             "colorbar": {
              "outlinewidth": 0,
              "ticks": ""
             }
            },
            "type": "scattergl"
           }
          ],
          "scattermapbox": [
           {
            "marker": {
             "colorbar": {
              "outlinewidth": 0,
              "ticks": ""
             }
            },
            "type": "scattermapbox"
           }
          ],
          "scatterpolar": [
           {
            "marker": {
             "colorbar": {
              "outlinewidth": 0,
              "ticks": ""
             }
            },
            "type": "scatterpolar"
           }
          ],
          "scatterpolargl": [
           {
            "marker": {
             "colorbar": {
              "outlinewidth": 0,
              "ticks": ""
             }
            },
            "type": "scatterpolargl"
           }
          ],
          "scatterternary": [
           {
            "marker": {
             "colorbar": {
              "outlinewidth": 0,
              "ticks": ""
             }
            },
            "type": "scatterternary"
           }
          ],
          "surface": [
           {
            "colorbar": {
             "outlinewidth": 0,
             "ticks": ""
            },
            "colorscale": [
             [
              0,
              "#0d0887"
             ],
             [
              0.1111111111111111,
              "#46039f"
             ],
             [
              0.2222222222222222,
              "#7201a8"
             ],
             [
              0.3333333333333333,
              "#9c179e"
             ],
             [
              0.4444444444444444,
              "#bd3786"
             ],
             [
              0.5555555555555556,
              "#d8576b"
             ],
             [
              0.6666666666666666,
              "#ed7953"
             ],
             [
              0.7777777777777778,
              "#fb9f3a"
             ],
             [
              0.8888888888888888,
              "#fdca26"
             ],
             [
              1,
              "#f0f921"
             ]
            ],
            "type": "surface"
           }
          ],
          "table": [
           {
            "cells": {
             "fill": {
              "color": "#EBF0F8"
             },
             "line": {
              "color": "white"
             }
            },
            "header": {
             "fill": {
              "color": "#C8D4E3"
             },
             "line": {
              "color": "white"
             }
            },
            "type": "table"
           }
          ]
         },
         "layout": {
          "annotationdefaults": {
           "arrowcolor": "#2a3f5f",
           "arrowhead": 0,
           "arrowwidth": 1
          },
          "coloraxis": {
           "colorbar": {
            "outlinewidth": 0,
            "ticks": ""
           }
          },
          "colorscale": {
           "diverging": [
            [
             0,
             "#8e0152"
            ],
            [
             0.1,
             "#c51b7d"
            ],
            [
             0.2,
             "#de77ae"
            ],
            [
             0.3,
             "#f1b6da"
            ],
            [
             0.4,
             "#fde0ef"
            ],
            [
             0.5,
             "#f7f7f7"
            ],
            [
             0.6,
             "#e6f5d0"
            ],
            [
             0.7,
             "#b8e186"
            ],
            [
             0.8,
             "#7fbc41"
            ],
            [
             0.9,
             "#4d9221"
            ],
            [
             1,
             "#276419"
            ]
           ],
           "sequential": [
            [
             0,
             "#0d0887"
            ],
            [
             0.1111111111111111,
             "#46039f"
            ],
            [
             0.2222222222222222,
             "#7201a8"
            ],
            [
             0.3333333333333333,
             "#9c179e"
            ],
            [
             0.4444444444444444,
             "#bd3786"
            ],
            [
             0.5555555555555556,
             "#d8576b"
            ],
            [
             0.6666666666666666,
             "#ed7953"
            ],
            [
             0.7777777777777778,
             "#fb9f3a"
            ],
            [
             0.8888888888888888,
             "#fdca26"
            ],
            [
             1,
             "#f0f921"
            ]
           ],
           "sequentialminus": [
            [
             0,
             "#0d0887"
            ],
            [
             0.1111111111111111,
             "#46039f"
            ],
            [
             0.2222222222222222,
             "#7201a8"
            ],
            [
             0.3333333333333333,
             "#9c179e"
            ],
            [
             0.4444444444444444,
             "#bd3786"
            ],
            [
             0.5555555555555556,
             "#d8576b"
            ],
            [
             0.6666666666666666,
             "#ed7953"
            ],
            [
             0.7777777777777778,
             "#fb9f3a"
            ],
            [
             0.8888888888888888,
             "#fdca26"
            ],
            [
             1,
             "#f0f921"
            ]
           ]
          },
          "colorway": [
           "#636efa",
           "#EF553B",
           "#00cc96",
           "#ab63fa",
           "#FFA15A",
           "#19d3f3",
           "#FF6692",
           "#B6E880",
           "#FF97FF",
           "#FECB52"
          ],
          "font": {
           "color": "#2a3f5f"
          },
          "geo": {
           "bgcolor": "white",
           "lakecolor": "white",
           "landcolor": "#E5ECF6",
           "showlakes": true,
           "showland": true,
           "subunitcolor": "white"
          },
          "hoverlabel": {
           "align": "left"
          },
          "hovermode": "closest",
          "mapbox": {
           "style": "light"
          },
          "paper_bgcolor": "white",
          "plot_bgcolor": "#E5ECF6",
          "polar": {
           "angularaxis": {
            "gridcolor": "white",
            "linecolor": "white",
            "ticks": ""
           },
           "bgcolor": "#E5ECF6",
           "radialaxis": {
            "gridcolor": "white",
            "linecolor": "white",
            "ticks": ""
           }
          },
          "scene": {
           "xaxis": {
            "backgroundcolor": "#E5ECF6",
            "gridcolor": "white",
            "gridwidth": 2,
            "linecolor": "white",
            "showbackground": true,
            "ticks": "",
            "zerolinecolor": "white"
           },
           "yaxis": {
            "backgroundcolor": "#E5ECF6",
            "gridcolor": "white",
            "gridwidth": 2,
            "linecolor": "white",
            "showbackground": true,
            "ticks": "",
            "zerolinecolor": "white"
           },
           "zaxis": {
            "backgroundcolor": "#E5ECF6",
            "gridcolor": "white",
            "gridwidth": 2,
            "linecolor": "white",
            "showbackground": true,
            "ticks": "",
            "zerolinecolor": "white"
           }
          },
          "shapedefaults": {
           "line": {
            "color": "#2a3f5f"
           }
          },
          "ternary": {
           "aaxis": {
            "gridcolor": "white",
            "linecolor": "white",
            "ticks": ""
           },
           "baxis": {
            "gridcolor": "white",
            "linecolor": "white",
            "ticks": ""
           },
           "bgcolor": "#E5ECF6",
           "caxis": {
            "gridcolor": "white",
            "linecolor": "white",
            "ticks": ""
           }
          },
          "title": {
           "x": 0.05
          },
          "xaxis": {
           "automargin": true,
           "gridcolor": "white",
           "linecolor": "white",
           "ticks": "",
           "title": {
            "standoff": 15
           },
           "zerolinecolor": "white",
           "zerolinewidth": 2
          },
          "yaxis": {
           "automargin": true,
           "gridcolor": "white",
           "linecolor": "white",
           "ticks": "",
           "title": {
            "standoff": 15
           },
           "zerolinecolor": "white",
           "zerolinewidth": 2
          }
         }
        }
       }
      },
      "text/html": [
       "<div>\n",
       "        \n",
       "        \n",
       "            <div id=\"a831ef12-54cb-4f9f-86c9-ed798beccc24\" class=\"plotly-graph-div\" style=\"height:525px; width:100%;\"></div>\n",
       "            <script type=\"text/javascript\">\n",
       "                require([\"plotly\"], function(Plotly) {\n",
       "                    window.PLOTLYENV=window.PLOTLYENV || {};\n",
       "                    \n",
       "                if (document.getElementById(\"a831ef12-54cb-4f9f-86c9-ed798beccc24\")) {\n",
       "                    Plotly.newPlot(\n",
       "                        'a831ef12-54cb-4f9f-86c9-ed798beccc24',\n",
       "                        [{\"dimensions\": [{\"label\": \"IMDB Rating\", \"values\": [5.4, 6.2, 7.8, 7.9, 5.9, 6.8, 5.5, 5.5, 7.9, 7.9, 7.9, 7.3, 5.3, 5.4, 8.9, 8.0, 7.2, 8.0, 6.3, 6.6, 7.7, 7.1, 8.2, 7.8, 8.4, 6.4, 5.8, 5.2, 8.1, 6.7, 4.0, 4.8, 5.5, 7.2, 5.6, 7.6, 7.5, 1.7000000000000002, 8.3, 5.9, 8.5, 6.6, 7.1, 6.6, 7.0, 6.6, 7.5, 2.2, 6.4, 5.7, 7.0, 6.5, 7.4, 6.7, 7.5, 5.6, 7.9, 5.8, 6.8, 5.2, 4.7, 6.3, 7.9, 7.2, 5.2, 5.5, 6.0, 7.9, 6.9, 7.6, 7.4, 7.3, 6.7, 8.0, 7.1, 7.1, 6.1, 6.1, 7.9, 5.5, 7.2, 8.0, 7.9, 7.6, 7.5, 7.1, 6.4, 7.8, 7.2, 6.3, 5.3, 7.8, 7.1, 8.1, 7.8, 6.2, 5.1, 5.9, 5.3, 5.8, 7.1, 6.4, 7.1, 6.7, 5.1, 6.4, 6.0, 6.8, 7.4, 6.6, 6.8, 6.2, 8.2, 6.9, 6.0, 7.1, 7.3, 7.0, 6.7, 7.5, 7.8, 5.4, 8.4, 7.6, 8.1, 7.7, 5.6, 7.7, 7.8, 6.2, 6.9, 6.9, 6.3, 6.0, 6.0, 6.8, 6.3, 6.2, 6.0, 7.9, 7.2, 7.6, 8.3, 6.6, 6.0, 7.3, 7.8, 7.7, 6.4, 6.6, 7.8, 7.3, 6.1, 6.3, 6.1, 7.3, 6.0, 7.4, 7.2, 6.1, 8.4, 7.3, 7.4, 8.5, 7.0, 4.5, 7.2, 7.9, 6.4, 8.2, 5.0, 7.0, 7.8, 7.0]}, {\"label\": \"IMDB Votes\", \"values\": [8914.0, 396.0, 235508.0, 98355.0, 31205.0, 23149.0, 43164.0, 19200.0, 114060.0, 82162.0, 75491.0, 14929.0, 27189.0, 20931.0, 465000.0, 137120.0, 53921.0, 118925.0, 30575.0, 62513.0, 98653.0, 23262.0, 146025.0, 115951.0, 178742.0, 14905.0, 17415.0, 11858.0, 158125.0, 8028.0, 5277.0, 17736.0, 18332.0, 19913.0, 35210.0, 14530.0, 130559.0, 34928.0, 151742.0, 32560.0, 264148.0, 40611.0, 51343.0, 28016.0, 72231.0, 52336.0, 55697.0, 48975.0, 31775.0, 71675.0, 21334.0, 13934.0, 72562.0, 36548.0, 18065.0, 5498.0, 36366.0, 10902.0, 12400.0, 63235.0, 310.0, 14984.0, 38158.0, 41511.0, 72259.0, 18964.0, 28690.0, 127634.0, 48215.0, 111946.0, 104074.0, 73720.0, 42369.0, 129779.0, 82419.0, 33374.0, 14157.0, 46347.0, 174040.0, 8643.0, 60650.0, 172936.0, 149855.0, 132720.0, 111192.0, 47200.0, 58138.0, 26816.0, 45577.0, 18547.0, 16830.0, 37162.0, 153631.0, 56872.0, 54022.0, 22264.0, 15422.0, 9870.0, 23753.0, 14617.0, 38695.0, 33763.0, 10236.0, 13881.0, 41570.0, 67133.0, 51921.0, 26582.0, 13839.0, 4701.0, 24021.0, 59174.0, 99464.0, 76884.0, 2993.0, 87326.0, 150446.0, 133241.0, 53455.0, 51704.0, 77939.0, 397.0, 207322.0, 34785.0, 131929.0, 46984.0, 19881.0, 39234.0, 23094.0, 49502.0, 20451.0, 23223.0, 11859.0, 34641.0, 39312.0, 76530.0, 60784.0, 18091.0, 15536.0, 87883.0, 149.0, 117656.0, 176325.0, 57313.0, 65841.0, 74535.0, 134212.0, 141940.0, 141513.0, 102751.0, 74218.0, 34067.0, 21691.0, 36940.0, 7460.0, 197131.0, 95786.0, 76830.0, 104839.0, 4840.0, 110491.0, 54343.0, 27529.0, 182257.0, 38163.0, 5700.0, 30669.0, 85235.0, 1089.0, 93301.0, 23091.0, 62150.0, 81629.0, 55687.0]}, {\"label\": \"Production Budget\", \"values\": [20000000.0, 200000000.0, 60000000.0, 48000000.0, 30000000.0, 35000000.0, 175000000.0, 55000000.0, 100000000.0, 40000000.0, 30000000.0, 21000000.0, 45000000.0, 45000000.0, 185000000.0, 160000000.0, 67500000.0, 100000000.0, 150000000.0, 150000000.0, 95000000.0, 14000000.0, 130000000.0, 13900000.0, 70000000.0, 38000000.0, 60000000.0, 60000000.0, 76000000.0, 82500000.0, 20000000.0, 20000000.0, 60000000.0, 100000000.0, 60000000.0, 15000000.0, 110000000.0, 20000000.0, 30000000.0, 50000000.0, 90000000.0, 65000000.0, 30000000.0, 75000000.0, 20000000.0, 80000000.0, 85000000.0, 20000000.0, 54000000.0, 87500000.0, 149000000.0, 60000000.0, 35000000.0, 55000000.0, 21000000.0, 500000.0, 29000000.0, 20000000.0, 30000000.0, 120000000.0, 20000000.0, 22000000.0, 30000000.0, 75000000.0, 60000000.0, 25000000.0, 50000000.0, 35000000.0, 85000000.0, 150000000.0, 150000000.0, 250000000.0, 85000000.0, 16000000.0, 137500000.0, 30000000.0, 60000000.0, 85000000.0, 186000000.0, 14000000.0, 72000000.0, 102000000.0, 7000000.0, 207000000.0, 27500000.0, 72500000.0, 50000000.0, 20000000.0, 53000000.0, 20000000.0, 100000000.0, 14000000.0, 150000000.0, 13000000.0, 6000000.0, 35000000.0, 35000000.0, 55000000.0, 26000000.0, 20000000.0, 85000000.0, 24000000.0, 30000000.0, 15000000.0, 175000000.0, 110000000.0, 135000000.0, 175000000.0, 27500000.0, 35000000.0, 10000000.0, 32000000.0, 20000000.0, 85000000.0, 20000000.0, 25000000.0, 225000000.0, 300000000.0, 15000.0, 63700000.0, 55000000.0, 40000000.0, 40000000.0, 15000000.0, 150000000.0, 33000000.0, 40000000.0, 20000000.0, 2500000.0, 45000000.0, 12000000.0, 27500000.0, 15000000.0, 60000000.0, 180000000.0, 5000000.0, 10000000.0, 11000000.0, 20000000.0, 70000000.0, 60000000.0, 72500000.0, 14000000.0, 17000000.0, 33000000.0, 40000000.0, 17500000.0, 200000000.0, 258000000.0, 232000000.0, 30000000.0, 60000000.0, 12000000.0, 80000000.0, 60000000.0, 151000000.0, 210000000.0, 13000000.0, 90000000.0, 37000000.0, 175000000.0, 75000000.0, 23000000.0, 180000000.0, 28000000.0, 27500000.0, 100000000.0, 29000000.0, 75000000.0, 6000000.0, 60000000.0, 50000000.0, 23600000.0, 24000000.0]}, {\"label\": \"Running Time min\", \"values\": [108.0, 158.0, 117.0, 117.0, 106.0, 118.0, 78.0, 92.0, 157.0, 136.0, 130.0, 98.0, 100.0, 98.0, 152.0, 167.0, 129.0, 143.0, 90.0, 115.0, 144.0, 120.0, 114.0, 134.0, 152.0, 94.0, 80.0, 94.0, 114.0, 98.0, 91.0, 95.0, 113.0, 90.0, 121.0, 130.0, 128.0, 88.0, 111.0, 133.0, 152.0, 105.0, 99.0, 130.0, 104.0, 117.0, 108.0, 86.0, 133.0, 123.0, 85.0, 139.0, 96.0, 105.0, 122.0, 122.0, 122.0, 111.0, 126.0, 110.0, 102.0, 110.0, 85.0, 117.0, 89.0, 98.0, 121.0, 99.0, 131.0, 157.0, 138.0, 153.0, 108.0, 121.0, 112.0, 122.0, 105.0, 115.0, 126.0, 94.0, 115.0, 144.0, 95.0, 187.0, 132.0, 110.0, 121.0, 122.0, 108.0, 106.0, 101.0, 136.0, 100.0, 141.0, 121.0, 90.0, 90.0, 122.0, 91.0, 103.0, 145.0, 93.0, 92.0, 100.0, 111.0, 108.0, 132.0, 95.0, 108.0, 102.0, 90.0, 95.0, 147.0, 122.0, 124.0, 127.0, 151.0, 167.0, 85.0, 147.0, 116.0, 107.0, 131.0, 103.0, 111.0, 123.0, 100.0, 128.0, 101.0, 95.0, 111.0, 121.0, 102.0, 100.0, 91.0, 91.0, 107.0, 91.0, 101.0, 128.0, 125.0, 86.0, 116.0, 108.0, 105.0, 108.0, 112.0, 127.0, 139.0, 157.0, 112.0, 127.0, 98.0, 104.0, 93.0, 140.0, 149.0, 127.0, 106.0, 120.0, 96.0, 120.0, 120.0, 97.0, 117.0, 114.0, 100.0, 80.0, 110.0, 109.0, 97.0, 104.0, 87.0, 101.0]}, {\"label\": \"US Gross\", \"values\": [12234694.0, 166112167.0, 210614939.0, 53606916.0, 16930884.0, 7459300.0, 100289690.0, 217326974.0, 130164645.0, 50866635.0, 50980159.0, 9451946.0, 22532572.0, 15298133.0, 533345358.0, 127509326.0, 39394666.0, 57377916.0, 126631277.0, 82195215.0, 108638745.0, 11242801.0, 227471070.0, 83043761.0, 120831050.0, 7871693.0, 135386665.0, 82571173.0, 35552383.0, 82985708.0, 8135024.0, 23364784.0, 109205660.0, 124870275.0, 22672813.0, 30226144.0, 134529403.0, 14190901.0, 115646235.0, 10169202.0, 133311000.0, 36316032.0, 42100625.0, 103365956.0, 80209692.0, 101440743.0, 127706877.0, 39739367.0, 26850426.0, 154696080.0, 64665672.0, 13090630.0, 10144010.0, 52075270.0, 36605602.0, 33451479.0, 18622031.0, 18882880.0, 38432823.0, 115802596.0, 13252641.0, 90648202.0, 56068547.0, 118823091.0, 64506874.0, 48237389.0, 27669725.0, 277322503.0, 63280000.0, 290013036.0, 292004738.0, 301959197.0, 198000317.0, 23618786.0, 134806913.0, 7689458.0, 17303424.0, 119725280.0, 318604126.0, 12559771.0, 62647540.0, 167365000.0, 143495265.0, 218080025.0, 148761765.0, 47467250.0, 79957634.0, 15800078.0, 73357727.0, 39263506.0, 49438370.0, 5463019.0, 256393010.0, 13756082.0, 17606684.0, 14998070.0, 43799818.0, 5755286.0, 146336178.0, 19219250.0, 57010853.0, 32428195.0, 3005605.0, 9176787.0, 102491776.0, 250863268.0, 63478838.0, 198351526.0, 49200230.0, 37629831.0, 31487293.0, 35193167.0, 18354356.0, 117144465.0, 13395961.0, 370782930.0, 423315812.0, 309420425.0, 107918810.0, 2223293.0, 162586036.0, 163958031.0, 53089891.0, 56441711.0, 206445654.0, 34192652.0, 25126214.0, 19661987.0, 13011160.0, 50648679.0, 12796277.0, 9736045.0, 6409528.0, 40081410.0, 140125968.0, 87025093.0, 80238724.0, 27693292.0, 17807569.0, 38634938.0, 47003582.0, 183135014.0, 141319928.0, 35662731.0, 34020814.0, 3688560.0, 121463226.0, 373524485.0, 336530303.0, 200120000.0, 40435190.0, 37017955.0, 65328121.0, 38577772.0, 50877145.0, 319246193.0, 402111870.0, 25593755.0, 110461307.0, 192769854.0, 293004164.0, 83077470.0, 6777741.0, 223808164.0, 28563179.0, 42436517.0, 77233467.0, 119519402.0, 134508551.0, 26236603.0, 43337279.0, 97690976.0, 75590286.0, 31452765.0]}, {\"label\": \"Worldwide Gross\", \"values\": [18184083.0, 766812167.0, 456068181.0, 69791889.0, 32955399.0, 42064105.0, 173219280.0, 360578644.0, 265697825.0, 117785051.0, 129425746.0, 10108016.0, 70216497.0, 46598133.0, 1022345358.0, 329809326.0, 108394666.0, 171377916.0, 287594577.0, 194995215.0, 173638745.0, 20597806.0, 442161562.0, 180343761.0, 320389438.0, 11817059.0, 314432738.0, 135015330.0, 69450202.0, 143985708.0, 8135024.0, 38164784.0, 172450423.0, 139525862.0, 46672813.0, 30226144.0, 383531464.0, 34690901.0, 206552113.0, 17759202.0, 290539042.0, 72516819.0, 85724728.0, 154965956.0, 117573043.0, 178066569.0, 340384141.0, 86858578.0, 50719373.0, 330579719.0, 177665672.0, 14816379.0, 15461638.0, 129075270.0, 43090741.0, 33451479.0, 28144586.0, 20819601.0, 41480851.0, 237702596.0, 26612350.0, 147914546.0, 185724838.0, 202823091.0, 163403799.0, 70237389.0, 80583311.0, 465132119.0, 205190324.0, 896013036.0, 938468864.0, 937499905.0, 385000317.0, 79197493.0, 263349257.0, 58692979.0, 58051454.0, 185708462.0, 582604126.0, 13205411.0, 96947540.0, 596365000.0, 230327671.0, 550517357.0, 218994109.0, 86509602.0, 187858642.0, 73222245.0, 113190972.0, 44263506.0, 69548641.0, 14763019.0, 585055701.0, 68756082.0, 48363516.0, 63211088.0, 70799818.0, 6521829.0, 180449670.0, 34787111.0, 161510853.0, 67348218.0, 35025861.0, 18932117.0, 397912118.0, 574480841.0, 163818556.0, 381687380.0, 89053995.0, 46432264.0, 31487293.0, 76593167.0, 53813837.0, 311744465.0, 13395961.0, 611899420.0, 1065659812.0, 960996492.0, 193770453.0, 132180323.0, 306086036.0, 317358031.0, 107896006.0, 122840603.0, 620495432.0, 106107610.0, 62226214.0, 20081987.0, 13136074.0, 146162920.0, 13326280.0, 20437142.0, 8767338.0, 76781410.0, 253025968.0, 152925093.0, 163876815.0, 61259697.0, 17807569.0, 135556675.0, 95203582.0, 527071022.0, 365257315.0, 56047261.0, 62020814.0, 32030610.0, 169863226.0, 783705001.0, 890871626.0, 391120000.0, 45235190.0, 91445389.0, 115328121.0, 119668350.0, 88717945.0, 708272592.0, 836303693.0, 54777490.0, 188163455.0, 396439854.0, 731304609.0, 198686497.0, 24489150.0, 532743103.0, 54700285.0, 43607627.0, 99123656.0, 184319402.0, 340934768.0, 43236603.0, 57604723.0, 225990976.0, 98690286.0, 36851125.0]}, {\"label\": \"US DVD Sales\", \"values\": [8283859.0, 50736023.0, 261252400.0, 51359371.0, 11385055.0, 7342760.0, 38038256.0, 137516182.0, 72653959.0, 43318599.0, 15678677.0, 3788940.0, 16787309.0, 15494886.0, 234119058.0, 42850598.0, 22024703.0, 62588936.0, 79628881.0, 35961910.0, 970318.0, 12345494.0, 123314592.0, 31338042.0, 58414604.0, 6086988.0, 142108745.0, 26537982.0, 25345271.0, 83571732.0, 4492233.0, 26360430.0, 34715888.0, 42574228.0, 12350794.0, 24133037.0, 100774964.0, 9859088.0, 30058184.0, 15573570.0, 140689412.0, 24667330.0, 13123388.0, 53674555.0, 34508128.0, 38374936.0, 87698079.0, 16839362.0, 15854391.0, 4702358.0, 71025931.0, 23631077.0, 8752844.0, 23318686.0, 20532539.0, 31898934.0, 6677601.0, 19382312.0, 34066576.0, 103730683.0, 7574314.0, 50113315.0, 35069986.0, 104104829.0, 21432877.0, 15442818.0, 23365803.0, 165916727.0, 71449071.0, 215701005.0, 220867077.0, 103574938.0, 203263968.0, 33391776.0, 58503066.0, 5387124.0, 8342886.0, 69334335.0, 169251757.0, 13566229.0, 52209103.0, 79681613.0, 57612374.0, 140752353.0, 117601397.0, 34065220.0, 23450931.0, 6563936.0, 20038881.0, 21455006.0, 18953806.0, 3657245.0, 129742540.0, 13625847.0, 16836991.0, 9203604.0, 22782913.0, 853973.0, 53105030.0, 18449619.0, 32837435.0, 8155901.0, 7821056.0, 5455645.0, 43147886.0, 153389976.0, 37652030.0, 83851943.0, 21467223.0, 26142500.0, 10327750.0, 27576238.0, 15272435.0, 48258805.0, 20554010.0, 618454.0, 320830925.0, 296060575.0, 14051496.0, 7529604.0, 90857430.0, 83691948.0, 45394364.0, 29161789.0, 189134287.0, 12359754.0, 19812272.0, 16021076.0, 7486708.0, 34217549.0, 6635346.0, 6007008.0, 7970409.0, 16209689.0, 40854922.0, 44699720.0, 47153811.0, 8308717.0, 13739501.0, 25129402.0, 57333255.0, 96359085.0, 31952272.0, 35817034.0, 23704179.0, 6342481.0, 134555373.0, 4196484.0, 124058348.0, 81580739.0, 30936711.0, 13578224.0, 51317604.0, 11099238.0, 26233404.0, 290787166.0, 217509899.0, 29059367.0, 50387300.0, 193591463.0, 178459329.0, 26715008.0, 3182650.0, 142201722.0, 22557036.0, 17066717.0, 27984751.0, 123216687.0, 71092823.0, 11912450.0, 14813995.0, 26601131.0, 28281155.0, 21240321.0]}], \"domain\": {\"x\": [0.0, 1.0], \"y\": [0.0, 1.0]}, \"line\": {\"color\": [5.4, 6.2, 7.8, 7.9, 5.9, 6.8, 5.5, 5.5, 7.9, 7.9, 7.9, 7.3, 5.3, 5.4, 8.9, 8.0, 7.2, 8.0, 6.3, 6.6, 7.7, 7.1, 8.2, 7.8, 8.4, 6.4, 5.8, 5.2, 8.1, 6.7, 4.0, 4.8, 5.5, 7.2, 5.6, 7.6, 7.5, 1.7000000000000002, 8.3, 5.9, 8.5, 6.6, 7.1, 6.6, 7.0, 6.6, 7.5, 2.2, 6.4, 5.7, 7.0, 6.5, 7.4, 6.7, 7.5, 5.6, 7.9, 5.8, 6.8, 5.2, 4.7, 6.3, 7.9, 7.2, 5.2, 5.5, 6.0, 7.9, 6.9, 7.6, 7.4, 7.3, 6.7, 8.0, 7.1, 7.1, 6.1, 6.1, 7.9, 5.5, 7.2, 8.0, 7.9, 7.6, 7.5, 7.1, 6.4, 7.8, 7.2, 6.3, 5.3, 7.8, 7.1, 8.1, 7.8, 6.2, 5.1, 5.9, 5.3, 5.8, 7.1, 6.4, 7.1, 6.7, 5.1, 6.4, 6.0, 6.8, 7.4, 6.6, 6.8, 6.2, 8.2, 6.9, 6.0, 7.1, 7.3, 7.0, 6.7, 7.5, 7.8, 5.4, 8.4, 7.6, 8.1, 7.7, 5.6, 7.7, 7.8, 6.2, 6.9, 6.9, 6.3, 6.0, 6.0, 6.8, 6.3, 6.2, 6.0, 7.9, 7.2, 7.6, 8.3, 6.6, 6.0, 7.3, 7.8, 7.7, 6.4, 6.6, 7.8, 7.3, 6.1, 6.3, 6.1, 7.3, 6.0, 7.4, 7.2, 6.1, 8.4, 7.3, 7.4, 8.5, 7.0, 4.5, 7.2, 7.9, 6.4, 8.2, 5.0, 7.0, 7.8, 7.0], \"coloraxis\": \"coloraxis\"}, \"name\": \"\", \"type\": \"parcoords\"}],\n",
       "                        {\"coloraxis\": {\"colorbar\": {\"title\": {\"text\": \"IMDB Rating\"}}, \"colorscale\": [[0.0, \"rgb(211, 242, 163)\"], [0.16666666666666666, \"rgb(151, 225, 150)\"], [0.3333333333333333, \"rgb(108, 192, 139)\"], [0.5, \"rgb(76, 155, 130)\"], [0.6666666666666666, \"rgb(33, 122, 121)\"], [0.8333333333333334, \"rgb(16, 89, 101)\"], [1.0, \"rgb(7, 64, 80)\"]]}, \"legend\": {\"tracegroupgap\": 0}, \"margin\": {\"t\": 60}, \"template\": {\"data\": {\"bar\": [{\"error_x\": {\"color\": \"#2a3f5f\"}, \"error_y\": {\"color\": \"#2a3f5f\"}, \"marker\": {\"line\": {\"color\": \"#E5ECF6\", \"width\": 0.5}}, \"type\": \"bar\"}], \"barpolar\": [{\"marker\": {\"line\": {\"color\": \"#E5ECF6\", \"width\": 0.5}}, \"type\": \"barpolar\"}], \"carpet\": [{\"aaxis\": {\"endlinecolor\": \"#2a3f5f\", \"gridcolor\": \"white\", \"linecolor\": \"white\", \"minorgridcolor\": \"white\", \"startlinecolor\": \"#2a3f5f\"}, \"baxis\": {\"endlinecolor\": \"#2a3f5f\", \"gridcolor\": \"white\", \"linecolor\": \"white\", \"minorgridcolor\": \"white\", \"startlinecolor\": \"#2a3f5f\"}, \"type\": \"carpet\"}], \"choropleth\": [{\"colorbar\": {\"outlinewidth\": 0, \"ticks\": \"\"}, \"type\": \"choropleth\"}], \"contour\": [{\"colorbar\": {\"outlinewidth\": 0, \"ticks\": \"\"}, \"colorscale\": [[0.0, \"#0d0887\"], [0.1111111111111111, \"#46039f\"], [0.2222222222222222, \"#7201a8\"], [0.3333333333333333, \"#9c179e\"], [0.4444444444444444, \"#bd3786\"], [0.5555555555555556, \"#d8576b\"], [0.6666666666666666, \"#ed7953\"], [0.7777777777777778, \"#fb9f3a\"], [0.8888888888888888, \"#fdca26\"], [1.0, \"#f0f921\"]], \"type\": \"contour\"}], \"contourcarpet\": [{\"colorbar\": {\"outlinewidth\": 0, \"ticks\": \"\"}, \"type\": \"contourcarpet\"}], \"heatmap\": [{\"colorbar\": {\"outlinewidth\": 0, \"ticks\": \"\"}, \"colorscale\": [[0.0, \"#0d0887\"], [0.1111111111111111, \"#46039f\"], [0.2222222222222222, \"#7201a8\"], [0.3333333333333333, \"#9c179e\"], [0.4444444444444444, \"#bd3786\"], [0.5555555555555556, \"#d8576b\"], [0.6666666666666666, \"#ed7953\"], [0.7777777777777778, \"#fb9f3a\"], [0.8888888888888888, \"#fdca26\"], [1.0, \"#f0f921\"]], \"type\": \"heatmap\"}], \"heatmapgl\": [{\"colorbar\": {\"outlinewidth\": 0, \"ticks\": \"\"}, \"colorscale\": [[0.0, \"#0d0887\"], [0.1111111111111111, \"#46039f\"], [0.2222222222222222, \"#7201a8\"], [0.3333333333333333, \"#9c179e\"], [0.4444444444444444, \"#bd3786\"], [0.5555555555555556, \"#d8576b\"], [0.6666666666666666, \"#ed7953\"], [0.7777777777777778, \"#fb9f3a\"], [0.8888888888888888, \"#fdca26\"], [1.0, \"#f0f921\"]], \"type\": \"heatmapgl\"}], \"histogram\": [{\"marker\": {\"colorbar\": {\"outlinewidth\": 0, \"ticks\": \"\"}}, \"type\": \"histogram\"}], \"histogram2d\": [{\"colorbar\": {\"outlinewidth\": 0, \"ticks\": \"\"}, \"colorscale\": [[0.0, \"#0d0887\"], [0.1111111111111111, \"#46039f\"], [0.2222222222222222, \"#7201a8\"], [0.3333333333333333, \"#9c179e\"], [0.4444444444444444, \"#bd3786\"], [0.5555555555555556, \"#d8576b\"], [0.6666666666666666, \"#ed7953\"], [0.7777777777777778, \"#fb9f3a\"], [0.8888888888888888, \"#fdca26\"], [1.0, \"#f0f921\"]], \"type\": \"histogram2d\"}], \"histogram2dcontour\": [{\"colorbar\": {\"outlinewidth\": 0, \"ticks\": \"\"}, \"colorscale\": [[0.0, \"#0d0887\"], [0.1111111111111111, \"#46039f\"], [0.2222222222222222, \"#7201a8\"], [0.3333333333333333, \"#9c179e\"], [0.4444444444444444, \"#bd3786\"], [0.5555555555555556, \"#d8576b\"], [0.6666666666666666, \"#ed7953\"], [0.7777777777777778, \"#fb9f3a\"], [0.8888888888888888, \"#fdca26\"], [1.0, \"#f0f921\"]], \"type\": \"histogram2dcontour\"}], \"mesh3d\": [{\"colorbar\": {\"outlinewidth\": 0, \"ticks\": \"\"}, \"type\": \"mesh3d\"}], \"parcoords\": [{\"line\": {\"colorbar\": {\"outlinewidth\": 0, \"ticks\": \"\"}}, \"type\": \"parcoords\"}], \"pie\": [{\"automargin\": true, \"type\": \"pie\"}], \"scatter\": [{\"marker\": {\"colorbar\": {\"outlinewidth\": 0, \"ticks\": \"\"}}, \"type\": \"scatter\"}], \"scatter3d\": [{\"line\": {\"colorbar\": {\"outlinewidth\": 0, \"ticks\": \"\"}}, \"marker\": {\"colorbar\": {\"outlinewidth\": 0, \"ticks\": \"\"}}, \"type\": \"scatter3d\"}], \"scattercarpet\": [{\"marker\": {\"colorbar\": {\"outlinewidth\": 0, \"ticks\": \"\"}}, \"type\": \"scattercarpet\"}], \"scattergeo\": [{\"marker\": {\"colorbar\": {\"outlinewidth\": 0, \"ticks\": \"\"}}, \"type\": \"scattergeo\"}], \"scattergl\": [{\"marker\": {\"colorbar\": {\"outlinewidth\": 0, \"ticks\": \"\"}}, \"type\": \"scattergl\"}], \"scattermapbox\": [{\"marker\": {\"colorbar\": {\"outlinewidth\": 0, \"ticks\": \"\"}}, \"type\": \"scattermapbox\"}], \"scatterpolar\": [{\"marker\": {\"colorbar\": {\"outlinewidth\": 0, \"ticks\": \"\"}}, \"type\": \"scatterpolar\"}], \"scatterpolargl\": [{\"marker\": {\"colorbar\": {\"outlinewidth\": 0, \"ticks\": \"\"}}, \"type\": \"scatterpolargl\"}], \"scatterternary\": [{\"marker\": {\"colorbar\": {\"outlinewidth\": 0, \"ticks\": \"\"}}, \"type\": \"scatterternary\"}], \"surface\": [{\"colorbar\": {\"outlinewidth\": 0, \"ticks\": \"\"}, \"colorscale\": [[0.0, \"#0d0887\"], [0.1111111111111111, \"#46039f\"], [0.2222222222222222, \"#7201a8\"], [0.3333333333333333, \"#9c179e\"], [0.4444444444444444, \"#bd3786\"], [0.5555555555555556, \"#d8576b\"], [0.6666666666666666, \"#ed7953\"], [0.7777777777777778, \"#fb9f3a\"], [0.8888888888888888, \"#fdca26\"], [1.0, \"#f0f921\"]], \"type\": \"surface\"}], \"table\": [{\"cells\": {\"fill\": {\"color\": \"#EBF0F8\"}, \"line\": {\"color\": \"white\"}}, \"header\": {\"fill\": {\"color\": \"#C8D4E3\"}, \"line\": {\"color\": \"white\"}}, \"type\": \"table\"}]}, \"layout\": {\"annotationdefaults\": {\"arrowcolor\": \"#2a3f5f\", \"arrowhead\": 0, \"arrowwidth\": 1}, \"coloraxis\": {\"colorbar\": {\"outlinewidth\": 0, \"ticks\": \"\"}}, \"colorscale\": {\"diverging\": [[0, \"#8e0152\"], [0.1, \"#c51b7d\"], [0.2, \"#de77ae\"], [0.3, \"#f1b6da\"], [0.4, \"#fde0ef\"], [0.5, \"#f7f7f7\"], [0.6, \"#e6f5d0\"], [0.7, \"#b8e186\"], [0.8, \"#7fbc41\"], [0.9, \"#4d9221\"], [1, \"#276419\"]], \"sequential\": [[0.0, \"#0d0887\"], [0.1111111111111111, \"#46039f\"], [0.2222222222222222, \"#7201a8\"], [0.3333333333333333, \"#9c179e\"], [0.4444444444444444, \"#bd3786\"], [0.5555555555555556, \"#d8576b\"], [0.6666666666666666, \"#ed7953\"], [0.7777777777777778, \"#fb9f3a\"], [0.8888888888888888, \"#fdca26\"], [1.0, \"#f0f921\"]], \"sequentialminus\": [[0.0, \"#0d0887\"], [0.1111111111111111, \"#46039f\"], [0.2222222222222222, \"#7201a8\"], [0.3333333333333333, \"#9c179e\"], [0.4444444444444444, \"#bd3786\"], [0.5555555555555556, \"#d8576b\"], [0.6666666666666666, \"#ed7953\"], [0.7777777777777778, \"#fb9f3a\"], [0.8888888888888888, \"#fdca26\"], [1.0, \"#f0f921\"]]}, \"colorway\": [\"#636efa\", \"#EF553B\", \"#00cc96\", \"#ab63fa\", \"#FFA15A\", \"#19d3f3\", \"#FF6692\", \"#B6E880\", \"#FF97FF\", \"#FECB52\"], \"font\": {\"color\": \"#2a3f5f\"}, \"geo\": {\"bgcolor\": \"white\", \"lakecolor\": \"white\", \"landcolor\": \"#E5ECF6\", \"showlakes\": true, \"showland\": true, \"subunitcolor\": \"white\"}, \"hoverlabel\": {\"align\": \"left\"}, \"hovermode\": \"closest\", \"mapbox\": {\"style\": \"light\"}, \"paper_bgcolor\": \"white\", \"plot_bgcolor\": \"#E5ECF6\", \"polar\": {\"angularaxis\": {\"gridcolor\": \"white\", \"linecolor\": \"white\", \"ticks\": \"\"}, \"bgcolor\": \"#E5ECF6\", \"radialaxis\": {\"gridcolor\": \"white\", \"linecolor\": \"white\", \"ticks\": \"\"}}, \"scene\": {\"xaxis\": {\"backgroundcolor\": \"#E5ECF6\", \"gridcolor\": \"white\", \"gridwidth\": 2, \"linecolor\": \"white\", \"showbackground\": true, \"ticks\": \"\", \"zerolinecolor\": \"white\"}, \"yaxis\": {\"backgroundcolor\": \"#E5ECF6\", \"gridcolor\": \"white\", \"gridwidth\": 2, \"linecolor\": \"white\", \"showbackground\": true, \"ticks\": \"\", \"zerolinecolor\": \"white\"}, \"zaxis\": {\"backgroundcolor\": \"#E5ECF6\", \"gridcolor\": \"white\", \"gridwidth\": 2, \"linecolor\": \"white\", \"showbackground\": true, \"ticks\": \"\", \"zerolinecolor\": \"white\"}}, \"shapedefaults\": {\"line\": {\"color\": \"#2a3f5f\"}}, \"ternary\": {\"aaxis\": {\"gridcolor\": \"white\", \"linecolor\": \"white\", \"ticks\": \"\"}, \"baxis\": {\"gridcolor\": \"white\", \"linecolor\": \"white\", \"ticks\": \"\"}, \"bgcolor\": \"#E5ECF6\", \"caxis\": {\"gridcolor\": \"white\", \"linecolor\": \"white\", \"ticks\": \"\"}}, \"title\": {\"x\": 0.05}, \"xaxis\": {\"automargin\": true, \"gridcolor\": \"white\", \"linecolor\": \"white\", \"ticks\": \"\", \"title\": {\"standoff\": 15}, \"zerolinecolor\": \"white\", \"zerolinewidth\": 2}, \"yaxis\": {\"automargin\": true, \"gridcolor\": \"white\", \"linecolor\": \"white\", \"ticks\": \"\", \"title\": {\"standoff\": 15}, \"zerolinecolor\": \"white\", \"zerolinewidth\": 2}}}},\n",
       "                        {\"responsive\": true}\n",
       "                    ).then(function(){\n",
       "                            \n",
       "var gd = document.getElementById('a831ef12-54cb-4f9f-86c9-ed798beccc24');\n",
       "var x = new MutationObserver(function (mutations, observer) {{\n",
       "        var display = window.getComputedStyle(gd).display;\n",
       "        if (!display || display === 'none') {{\n",
       "            console.log([gd, 'removed!']);\n",
       "            Plotly.purge(gd);\n",
       "            observer.disconnect();\n",
       "        }}\n",
       "}});\n",
       "\n",
       "// Listen for the removal of the full notebook cells\n",
       "var notebookContainer = gd.closest('#notebook-container');\n",
       "if (notebookContainer) {{\n",
       "    x.observe(notebookContainer, {childList: true});\n",
       "}}\n",
       "\n",
       "// Listen for the clearing of the current output cell\n",
       "var outputEl = gd.closest('.output');\n",
       "if (outputEl) {{\n",
       "    x.observe(outputEl, {childList: true});\n",
       "}}\n",
       "\n",
       "                        })\n",
       "                };\n",
       "                });\n",
       "            </script>\n",
       "        </div>"
      ]
     },
     "metadata": {},
     "output_type": "display_data"
    }
   ],
   "source": [
    "import plotly .express as px\n",
    "from vega_datasets import data\n",
    "import pandas as pd\n",
    "df=data.movies()\n",
    "df=df.dropna()\n",
    "df['Genre_id']=df['Major Genre'].factorize()[0]\n",
    "fig=px.parallel_coordinates(\n",
    "    df,\n",
    "    dimensions=[\n",
    "        'IMDB Rating', 'IMDB Votes', 'Production Budget', 'Running Time min',\n",
    "        'US Gross', 'Worldwide Gross', 'US DVD Sales'\n",
    "    ],\n",
    "    color='IMDB Rating',\n",
    "    color_continuous_scale=px.colors.sequential.Emrld\n",
    ")\n",
    "fig.show()"
   ]
  },
  {
   "cell_type": "code",
   "execution_count": 69,
   "metadata": {},
   "outputs": [
    {
     "data": {
      "text/plain": [
       "Index(['Title', 'US Gross', 'Worldwide Gross', 'US DVD Sales',\n",
       "       'Production Budget', 'Release Date', 'MPAA Rating', 'Running Time min',\n",
       "       'Distributor', 'Source', 'Major Genre', 'Creative Type', 'Director',\n",
       "       'Rotten Tomatoes Rating', 'IMDB Rating', 'IMDB Votes', 'Genre_id'],\n",
       "      dtype='object')"
      ]
     },
     "execution_count": 69,
     "metadata": {},
     "output_type": "execute_result"
    }
   ],
   "source": [
    "df.columns"
   ]
  },
  {
   "cell_type": "markdown",
   "metadata": {},
   "source": [
    "## 量表图和指示器\n",
    "量表图仅仅是为了好看。在报告 KPI 等成功指标并展示其与你的目标的距离时，可以使用这种图表。\n",
    "\n",
    "指示器在业务和咨询中非常有用。它们可以通过文字记号来补充视觉效果，吸引观众的注意力并展现你的增长指标。"
   ]
  },
  {
   "cell_type": "code",
   "execution_count": 72,
   "metadata": {},
   "outputs": [
    {
     "data": {
      "application/vnd.plotly.v1+json": {
       "config": {
        "plotlyServerURL": "https://plot.ly"
       },
       "data": [
        {
         "delta": {
          "reference": 3.9
         },
         "domain": {
          "x": [
           0,
           1
          ],
          "y": [
           0,
           1
          ]
         },
         "gauge": {
          "axis": {
           "range": [
            null,
            5
           ]
          },
          "bar": {
           "color": "lightgreen"
          },
          "steps": [
           {
            "color": "lightgray",
            "range": [
             0,
             2.5
            ]
           },
           {
            "color": "gray",
            "range": [
             2.5,
             4
            ]
           }
          ]
         },
         "mode": "gauge+number+delta",
         "title": {
          "text": "Success Metric"
         },
         "type": "indicator",
         "value": 4.3
        }
       ],
       "layout": {
        "template": {
         "data": {
          "bar": [
           {
            "error_x": {
             "color": "#2a3f5f"
            },
            "error_y": {
             "color": "#2a3f5f"
            },
            "marker": {
             "line": {
              "color": "#E5ECF6",
              "width": 0.5
             }
            },
            "type": "bar"
           }
          ],
          "barpolar": [
           {
            "marker": {
             "line": {
              "color": "#E5ECF6",
              "width": 0.5
             }
            },
            "type": "barpolar"
           }
          ],
          "carpet": [
           {
            "aaxis": {
             "endlinecolor": "#2a3f5f",
             "gridcolor": "white",
             "linecolor": "white",
             "minorgridcolor": "white",
             "startlinecolor": "#2a3f5f"
            },
            "baxis": {
             "endlinecolor": "#2a3f5f",
             "gridcolor": "white",
             "linecolor": "white",
             "minorgridcolor": "white",
             "startlinecolor": "#2a3f5f"
            },
            "type": "carpet"
           }
          ],
          "choropleth": [
           {
            "colorbar": {
             "outlinewidth": 0,
             "ticks": ""
            },
            "type": "choropleth"
           }
          ],
          "contour": [
           {
            "colorbar": {
             "outlinewidth": 0,
             "ticks": ""
            },
            "colorscale": [
             [
              0,
              "#0d0887"
             ],
             [
              0.1111111111111111,
              "#46039f"
             ],
             [
              0.2222222222222222,
              "#7201a8"
             ],
             [
              0.3333333333333333,
              "#9c179e"
             ],
             [
              0.4444444444444444,
              "#bd3786"
             ],
             [
              0.5555555555555556,
              "#d8576b"
             ],
             [
              0.6666666666666666,
              "#ed7953"
             ],
             [
              0.7777777777777778,
              "#fb9f3a"
             ],
             [
              0.8888888888888888,
              "#fdca26"
             ],
             [
              1,
              "#f0f921"
             ]
            ],
            "type": "contour"
           }
          ],
          "contourcarpet": [
           {
            "colorbar": {
             "outlinewidth": 0,
             "ticks": ""
            },
            "type": "contourcarpet"
           }
          ],
          "heatmap": [
           {
            "colorbar": {
             "outlinewidth": 0,
             "ticks": ""
            },
            "colorscale": [
             [
              0,
              "#0d0887"
             ],
             [
              0.1111111111111111,
              "#46039f"
             ],
             [
              0.2222222222222222,
              "#7201a8"
             ],
             [
              0.3333333333333333,
              "#9c179e"
             ],
             [
              0.4444444444444444,
              "#bd3786"
             ],
             [
              0.5555555555555556,
              "#d8576b"
             ],
             [
              0.6666666666666666,
              "#ed7953"
             ],
             [
              0.7777777777777778,
              "#fb9f3a"
             ],
             [
              0.8888888888888888,
              "#fdca26"
             ],
             [
              1,
              "#f0f921"
             ]
            ],
            "type": "heatmap"
           }
          ],
          "heatmapgl": [
           {
            "colorbar": {
             "outlinewidth": 0,
             "ticks": ""
            },
            "colorscale": [
             [
              0,
              "#0d0887"
             ],
             [
              0.1111111111111111,
              "#46039f"
             ],
             [
              0.2222222222222222,
              "#7201a8"
             ],
             [
              0.3333333333333333,
              "#9c179e"
             ],
             [
              0.4444444444444444,
              "#bd3786"
             ],
             [
              0.5555555555555556,
              "#d8576b"
             ],
             [
              0.6666666666666666,
              "#ed7953"
             ],
             [
              0.7777777777777778,
              "#fb9f3a"
             ],
             [
              0.8888888888888888,
              "#fdca26"
             ],
             [
              1,
              "#f0f921"
             ]
            ],
            "type": "heatmapgl"
           }
          ],
          "histogram": [
           {
            "marker": {
             "colorbar": {
              "outlinewidth": 0,
              "ticks": ""
             }
            },
            "type": "histogram"
           }
          ],
          "histogram2d": [
           {
            "colorbar": {
             "outlinewidth": 0,
             "ticks": ""
            },
            "colorscale": [
             [
              0,
              "#0d0887"
             ],
             [
              0.1111111111111111,
              "#46039f"
             ],
             [
              0.2222222222222222,
              "#7201a8"
             ],
             [
              0.3333333333333333,
              "#9c179e"
             ],
             [
              0.4444444444444444,
              "#bd3786"
             ],
             [
              0.5555555555555556,
              "#d8576b"
             ],
             [
              0.6666666666666666,
              "#ed7953"
             ],
             [
              0.7777777777777778,
              "#fb9f3a"
             ],
             [
              0.8888888888888888,
              "#fdca26"
             ],
             [
              1,
              "#f0f921"
             ]
            ],
            "type": "histogram2d"
           }
          ],
          "histogram2dcontour": [
           {
            "colorbar": {
             "outlinewidth": 0,
             "ticks": ""
            },
            "colorscale": [
             [
              0,
              "#0d0887"
             ],
             [
              0.1111111111111111,
              "#46039f"
             ],
             [
              0.2222222222222222,
              "#7201a8"
             ],
             [
              0.3333333333333333,
              "#9c179e"
             ],
             [
              0.4444444444444444,
              "#bd3786"
             ],
             [
              0.5555555555555556,
              "#d8576b"
             ],
             [
              0.6666666666666666,
              "#ed7953"
             ],
             [
              0.7777777777777778,
              "#fb9f3a"
             ],
             [
              0.8888888888888888,
              "#fdca26"
             ],
             [
              1,
              "#f0f921"
             ]
            ],
            "type": "histogram2dcontour"
           }
          ],
          "mesh3d": [
           {
            "colorbar": {
             "outlinewidth": 0,
             "ticks": ""
            },
            "type": "mesh3d"
           }
          ],
          "parcoords": [
           {
            "line": {
             "colorbar": {
              "outlinewidth": 0,
              "ticks": ""
             }
            },
            "type": "parcoords"
           }
          ],
          "pie": [
           {
            "automargin": true,
            "type": "pie"
           }
          ],
          "scatter": [
           {
            "marker": {
             "colorbar": {
              "outlinewidth": 0,
              "ticks": ""
             }
            },
            "type": "scatter"
           }
          ],
          "scatter3d": [
           {
            "line": {
             "colorbar": {
              "outlinewidth": 0,
              "ticks": ""
             }
            },
            "marker": {
             "colorbar": {
              "outlinewidth": 0,
              "ticks": ""
             }
            },
            "type": "scatter3d"
           }
          ],
          "scattercarpet": [
           {
            "marker": {
             "colorbar": {
              "outlinewidth": 0,
              "ticks": ""
             }
            },
            "type": "scattercarpet"
           }
          ],
          "scattergeo": [
           {
            "marker": {
             "colorbar": {
              "outlinewidth": 0,
              "ticks": ""
             }
            },
            "type": "scattergeo"
           }
          ],
          "scattergl": [
           {
            "marker": {
             "colorbar": {
              "outlinewidth": 0,
              "ticks": ""
             }
            },
            "type": "scattergl"
           }
          ],
          "scattermapbox": [
           {
            "marker": {
             "colorbar": {
              "outlinewidth": 0,
              "ticks": ""
             }
            },
            "type": "scattermapbox"
           }
          ],
          "scatterpolar": [
           {
            "marker": {
             "colorbar": {
              "outlinewidth": 0,
              "ticks": ""
             }
            },
            "type": "scatterpolar"
           }
          ],
          "scatterpolargl": [
           {
            "marker": {
             "colorbar": {
              "outlinewidth": 0,
              "ticks": ""
             }
            },
            "type": "scatterpolargl"
           }
          ],
          "scatterternary": [
           {
            "marker": {
             "colorbar": {
              "outlinewidth": 0,
              "ticks": ""
             }
            },
            "type": "scatterternary"
           }
          ],
          "surface": [
           {
            "colorbar": {
             "outlinewidth": 0,
             "ticks": ""
            },
            "colorscale": [
             [
              0,
              "#0d0887"
             ],
             [
              0.1111111111111111,
              "#46039f"
             ],
             [
              0.2222222222222222,
              "#7201a8"
             ],
             [
              0.3333333333333333,
              "#9c179e"
             ],
             [
              0.4444444444444444,
              "#bd3786"
             ],
             [
              0.5555555555555556,
              "#d8576b"
             ],
             [
              0.6666666666666666,
              "#ed7953"
             ],
             [
              0.7777777777777778,
              "#fb9f3a"
             ],
             [
              0.8888888888888888,
              "#fdca26"
             ],
             [
              1,
              "#f0f921"
             ]
            ],
            "type": "surface"
           }
          ],
          "table": [
           {
            "cells": {
             "fill": {
              "color": "#EBF0F8"
             },
             "line": {
              "color": "white"
             }
            },
            "header": {
             "fill": {
              "color": "#C8D4E3"
             },
             "line": {
              "color": "white"
             }
            },
            "type": "table"
           }
          ]
         },
         "layout": {
          "annotationdefaults": {
           "arrowcolor": "#2a3f5f",
           "arrowhead": 0,
           "arrowwidth": 1
          },
          "coloraxis": {
           "colorbar": {
            "outlinewidth": 0,
            "ticks": ""
           }
          },
          "colorscale": {
           "diverging": [
            [
             0,
             "#8e0152"
            ],
            [
             0.1,
             "#c51b7d"
            ],
            [
             0.2,
             "#de77ae"
            ],
            [
             0.3,
             "#f1b6da"
            ],
            [
             0.4,
             "#fde0ef"
            ],
            [
             0.5,
             "#f7f7f7"
            ],
            [
             0.6,
             "#e6f5d0"
            ],
            [
             0.7,
             "#b8e186"
            ],
            [
             0.8,
             "#7fbc41"
            ],
            [
             0.9,
             "#4d9221"
            ],
            [
             1,
             "#276419"
            ]
           ],
           "sequential": [
            [
             0,
             "#0d0887"
            ],
            [
             0.1111111111111111,
             "#46039f"
            ],
            [
             0.2222222222222222,
             "#7201a8"
            ],
            [
             0.3333333333333333,
             "#9c179e"
            ],
            [
             0.4444444444444444,
             "#bd3786"
            ],
            [
             0.5555555555555556,
             "#d8576b"
            ],
            [
             0.6666666666666666,
             "#ed7953"
            ],
            [
             0.7777777777777778,
             "#fb9f3a"
            ],
            [
             0.8888888888888888,
             "#fdca26"
            ],
            [
             1,
             "#f0f921"
            ]
           ],
           "sequentialminus": [
            [
             0,
             "#0d0887"
            ],
            [
             0.1111111111111111,
             "#46039f"
            ],
            [
             0.2222222222222222,
             "#7201a8"
            ],
            [
             0.3333333333333333,
             "#9c179e"
            ],
            [
             0.4444444444444444,
             "#bd3786"
            ],
            [
             0.5555555555555556,
             "#d8576b"
            ],
            [
             0.6666666666666666,
             "#ed7953"
            ],
            [
             0.7777777777777778,
             "#fb9f3a"
            ],
            [
             0.8888888888888888,
             "#fdca26"
            ],
            [
             1,
             "#f0f921"
            ]
           ]
          },
          "colorway": [
           "#636efa",
           "#EF553B",
           "#00cc96",
           "#ab63fa",
           "#FFA15A",
           "#19d3f3",
           "#FF6692",
           "#B6E880",
           "#FF97FF",
           "#FECB52"
          ],
          "font": {
           "color": "#2a3f5f"
          },
          "geo": {
           "bgcolor": "white",
           "lakecolor": "white",
           "landcolor": "#E5ECF6",
           "showlakes": true,
           "showland": true,
           "subunitcolor": "white"
          },
          "hoverlabel": {
           "align": "left"
          },
          "hovermode": "closest",
          "mapbox": {
           "style": "light"
          },
          "paper_bgcolor": "white",
          "plot_bgcolor": "#E5ECF6",
          "polar": {
           "angularaxis": {
            "gridcolor": "white",
            "linecolor": "white",
            "ticks": ""
           },
           "bgcolor": "#E5ECF6",
           "radialaxis": {
            "gridcolor": "white",
            "linecolor": "white",
            "ticks": ""
           }
          },
          "scene": {
           "xaxis": {
            "backgroundcolor": "#E5ECF6",
            "gridcolor": "white",
            "gridwidth": 2,
            "linecolor": "white",
            "showbackground": true,
            "ticks": "",
            "zerolinecolor": "white"
           },
           "yaxis": {
            "backgroundcolor": "#E5ECF6",
            "gridcolor": "white",
            "gridwidth": 2,
            "linecolor": "white",
            "showbackground": true,
            "ticks": "",
            "zerolinecolor": "white"
           },
           "zaxis": {
            "backgroundcolor": "#E5ECF6",
            "gridcolor": "white",
            "gridwidth": 2,
            "linecolor": "white",
            "showbackground": true,
            "ticks": "",
            "zerolinecolor": "white"
           }
          },
          "shapedefaults": {
           "line": {
            "color": "#2a3f5f"
           }
          },
          "ternary": {
           "aaxis": {
            "gridcolor": "white",
            "linecolor": "white",
            "ticks": ""
           },
           "baxis": {
            "gridcolor": "white",
            "linecolor": "white",
            "ticks": ""
           },
           "bgcolor": "#E5ECF6",
           "caxis": {
            "gridcolor": "white",
            "linecolor": "white",
            "ticks": ""
           }
          },
          "title": {
           "x": 0.05
          },
          "xaxis": {
           "automargin": true,
           "gridcolor": "white",
           "linecolor": "white",
           "ticks": "",
           "title": {
            "standoff": 15
           },
           "zerolinecolor": "white",
           "zerolinewidth": 2
          },
          "yaxis": {
           "automargin": true,
           "gridcolor": "white",
           "linecolor": "white",
           "ticks": "",
           "title": {
            "standoff": 15
           },
           "zerolinecolor": "white",
           "zerolinewidth": 2
          }
         }
        }
       }
      },
      "text/html": [
       "<div>\n",
       "        \n",
       "        \n",
       "            <div id=\"6904cb1c-5fd5-4d34-b8a3-3399c19be066\" class=\"plotly-graph-div\" style=\"height:525px; width:100%;\"></div>\n",
       "            <script type=\"text/javascript\">\n",
       "                require([\"plotly\"], function(Plotly) {\n",
       "                    window.PLOTLYENV=window.PLOTLYENV || {};\n",
       "                    \n",
       "                if (document.getElementById(\"6904cb1c-5fd5-4d34-b8a3-3399c19be066\")) {\n",
       "                    Plotly.newPlot(\n",
       "                        '6904cb1c-5fd5-4d34-b8a3-3399c19be066',\n",
       "                        [{\"delta\": {\"reference\": 3.9}, \"domain\": {\"x\": [0, 1], \"y\": [0, 1]}, \"gauge\": {\"axis\": {\"range\": [null, 5]}, \"bar\": {\"color\": \"lightgreen\"}, \"steps\": [{\"color\": \"lightgray\", \"range\": [0, 2.5]}, {\"color\": \"gray\", \"range\": [2.5, 4]}]}, \"mode\": \"gauge+number+delta\", \"title\": {\"text\": \"Success Metric\"}, \"type\": \"indicator\", \"value\": 4.3}],\n",
       "                        {\"template\": {\"data\": {\"bar\": [{\"error_x\": {\"color\": \"#2a3f5f\"}, \"error_y\": {\"color\": \"#2a3f5f\"}, \"marker\": {\"line\": {\"color\": \"#E5ECF6\", \"width\": 0.5}}, \"type\": \"bar\"}], \"barpolar\": [{\"marker\": {\"line\": {\"color\": \"#E5ECF6\", \"width\": 0.5}}, \"type\": \"barpolar\"}], \"carpet\": [{\"aaxis\": {\"endlinecolor\": \"#2a3f5f\", \"gridcolor\": \"white\", \"linecolor\": \"white\", \"minorgridcolor\": \"white\", \"startlinecolor\": \"#2a3f5f\"}, \"baxis\": {\"endlinecolor\": \"#2a3f5f\", \"gridcolor\": \"white\", \"linecolor\": \"white\", \"minorgridcolor\": \"white\", \"startlinecolor\": \"#2a3f5f\"}, \"type\": \"carpet\"}], \"choropleth\": [{\"colorbar\": {\"outlinewidth\": 0, \"ticks\": \"\"}, \"type\": \"choropleth\"}], \"contour\": [{\"colorbar\": {\"outlinewidth\": 0, \"ticks\": \"\"}, \"colorscale\": [[0.0, \"#0d0887\"], [0.1111111111111111, \"#46039f\"], [0.2222222222222222, \"#7201a8\"], [0.3333333333333333, \"#9c179e\"], [0.4444444444444444, \"#bd3786\"], [0.5555555555555556, \"#d8576b\"], [0.6666666666666666, \"#ed7953\"], [0.7777777777777778, \"#fb9f3a\"], [0.8888888888888888, \"#fdca26\"], [1.0, \"#f0f921\"]], \"type\": \"contour\"}], \"contourcarpet\": [{\"colorbar\": {\"outlinewidth\": 0, \"ticks\": \"\"}, \"type\": \"contourcarpet\"}], \"heatmap\": [{\"colorbar\": {\"outlinewidth\": 0, \"ticks\": \"\"}, \"colorscale\": [[0.0, \"#0d0887\"], [0.1111111111111111, \"#46039f\"], [0.2222222222222222, \"#7201a8\"], [0.3333333333333333, \"#9c179e\"], [0.4444444444444444, \"#bd3786\"], [0.5555555555555556, \"#d8576b\"], [0.6666666666666666, \"#ed7953\"], [0.7777777777777778, \"#fb9f3a\"], [0.8888888888888888, \"#fdca26\"], [1.0, \"#f0f921\"]], \"type\": \"heatmap\"}], \"heatmapgl\": [{\"colorbar\": {\"outlinewidth\": 0, \"ticks\": \"\"}, \"colorscale\": [[0.0, \"#0d0887\"], [0.1111111111111111, \"#46039f\"], [0.2222222222222222, \"#7201a8\"], [0.3333333333333333, \"#9c179e\"], [0.4444444444444444, \"#bd3786\"], [0.5555555555555556, \"#d8576b\"], [0.6666666666666666, \"#ed7953\"], [0.7777777777777778, \"#fb9f3a\"], [0.8888888888888888, \"#fdca26\"], [1.0, \"#f0f921\"]], \"type\": \"heatmapgl\"}], \"histogram\": [{\"marker\": {\"colorbar\": {\"outlinewidth\": 0, \"ticks\": \"\"}}, \"type\": \"histogram\"}], \"histogram2d\": [{\"colorbar\": {\"outlinewidth\": 0, \"ticks\": \"\"}, \"colorscale\": [[0.0, \"#0d0887\"], [0.1111111111111111, \"#46039f\"], [0.2222222222222222, \"#7201a8\"], [0.3333333333333333, \"#9c179e\"], [0.4444444444444444, \"#bd3786\"], [0.5555555555555556, \"#d8576b\"], [0.6666666666666666, \"#ed7953\"], [0.7777777777777778, \"#fb9f3a\"], [0.8888888888888888, \"#fdca26\"], [1.0, \"#f0f921\"]], \"type\": \"histogram2d\"}], \"histogram2dcontour\": [{\"colorbar\": {\"outlinewidth\": 0, \"ticks\": \"\"}, \"colorscale\": [[0.0, \"#0d0887\"], [0.1111111111111111, \"#46039f\"], [0.2222222222222222, \"#7201a8\"], [0.3333333333333333, \"#9c179e\"], [0.4444444444444444, \"#bd3786\"], [0.5555555555555556, \"#d8576b\"], [0.6666666666666666, \"#ed7953\"], [0.7777777777777778, \"#fb9f3a\"], [0.8888888888888888, \"#fdca26\"], [1.0, \"#f0f921\"]], \"type\": \"histogram2dcontour\"}], \"mesh3d\": [{\"colorbar\": {\"outlinewidth\": 0, \"ticks\": \"\"}, \"type\": \"mesh3d\"}], \"parcoords\": [{\"line\": {\"colorbar\": {\"outlinewidth\": 0, \"ticks\": \"\"}}, \"type\": \"parcoords\"}], \"pie\": [{\"automargin\": true, \"type\": \"pie\"}], \"scatter\": [{\"marker\": {\"colorbar\": {\"outlinewidth\": 0, \"ticks\": \"\"}}, \"type\": \"scatter\"}], \"scatter3d\": [{\"line\": {\"colorbar\": {\"outlinewidth\": 0, \"ticks\": \"\"}}, \"marker\": {\"colorbar\": {\"outlinewidth\": 0, \"ticks\": \"\"}}, \"type\": \"scatter3d\"}], \"scattercarpet\": [{\"marker\": {\"colorbar\": {\"outlinewidth\": 0, \"ticks\": \"\"}}, \"type\": \"scattercarpet\"}], \"scattergeo\": [{\"marker\": {\"colorbar\": {\"outlinewidth\": 0, \"ticks\": \"\"}}, \"type\": \"scattergeo\"}], \"scattergl\": [{\"marker\": {\"colorbar\": {\"outlinewidth\": 0, \"ticks\": \"\"}}, \"type\": \"scattergl\"}], \"scattermapbox\": [{\"marker\": {\"colorbar\": {\"outlinewidth\": 0, \"ticks\": \"\"}}, \"type\": \"scattermapbox\"}], \"scatterpolar\": [{\"marker\": {\"colorbar\": {\"outlinewidth\": 0, \"ticks\": \"\"}}, \"type\": \"scatterpolar\"}], \"scatterpolargl\": [{\"marker\": {\"colorbar\": {\"outlinewidth\": 0, \"ticks\": \"\"}}, \"type\": \"scatterpolargl\"}], \"scatterternary\": [{\"marker\": {\"colorbar\": {\"outlinewidth\": 0, \"ticks\": \"\"}}, \"type\": \"scatterternary\"}], \"surface\": [{\"colorbar\": {\"outlinewidth\": 0, \"ticks\": \"\"}, \"colorscale\": [[0.0, \"#0d0887\"], [0.1111111111111111, \"#46039f\"], [0.2222222222222222, \"#7201a8\"], [0.3333333333333333, \"#9c179e\"], [0.4444444444444444, \"#bd3786\"], [0.5555555555555556, \"#d8576b\"], [0.6666666666666666, \"#ed7953\"], [0.7777777777777778, \"#fb9f3a\"], [0.8888888888888888, \"#fdca26\"], [1.0, \"#f0f921\"]], \"type\": \"surface\"}], \"table\": [{\"cells\": {\"fill\": {\"color\": \"#EBF0F8\"}, \"line\": {\"color\": \"white\"}}, \"header\": {\"fill\": {\"color\": \"#C8D4E3\"}, \"line\": {\"color\": \"white\"}}, \"type\": \"table\"}]}, \"layout\": {\"annotationdefaults\": {\"arrowcolor\": \"#2a3f5f\", \"arrowhead\": 0, \"arrowwidth\": 1}, \"coloraxis\": {\"colorbar\": {\"outlinewidth\": 0, \"ticks\": \"\"}}, \"colorscale\": {\"diverging\": [[0, \"#8e0152\"], [0.1, \"#c51b7d\"], [0.2, \"#de77ae\"], [0.3, \"#f1b6da\"], [0.4, \"#fde0ef\"], [0.5, \"#f7f7f7\"], [0.6, \"#e6f5d0\"], [0.7, \"#b8e186\"], [0.8, \"#7fbc41\"], [0.9, \"#4d9221\"], [1, \"#276419\"]], \"sequential\": [[0.0, \"#0d0887\"], [0.1111111111111111, \"#46039f\"], [0.2222222222222222, \"#7201a8\"], [0.3333333333333333, \"#9c179e\"], [0.4444444444444444, \"#bd3786\"], [0.5555555555555556, \"#d8576b\"], [0.6666666666666666, \"#ed7953\"], [0.7777777777777778, \"#fb9f3a\"], [0.8888888888888888, \"#fdca26\"], [1.0, \"#f0f921\"]], \"sequentialminus\": [[0.0, \"#0d0887\"], [0.1111111111111111, \"#46039f\"], [0.2222222222222222, \"#7201a8\"], [0.3333333333333333, \"#9c179e\"], [0.4444444444444444, \"#bd3786\"], [0.5555555555555556, \"#d8576b\"], [0.6666666666666666, \"#ed7953\"], [0.7777777777777778, \"#fb9f3a\"], [0.8888888888888888, \"#fdca26\"], [1.0, \"#f0f921\"]]}, \"colorway\": [\"#636efa\", \"#EF553B\", \"#00cc96\", \"#ab63fa\", \"#FFA15A\", \"#19d3f3\", \"#FF6692\", \"#B6E880\", \"#FF97FF\", \"#FECB52\"], \"font\": {\"color\": \"#2a3f5f\"}, \"geo\": {\"bgcolor\": \"white\", \"lakecolor\": \"white\", \"landcolor\": \"#E5ECF6\", \"showlakes\": true, \"showland\": true, \"subunitcolor\": \"white\"}, \"hoverlabel\": {\"align\": \"left\"}, \"hovermode\": \"closest\", \"mapbox\": {\"style\": \"light\"}, \"paper_bgcolor\": \"white\", \"plot_bgcolor\": \"#E5ECF6\", \"polar\": {\"angularaxis\": {\"gridcolor\": \"white\", \"linecolor\": \"white\", \"ticks\": \"\"}, \"bgcolor\": \"#E5ECF6\", \"radialaxis\": {\"gridcolor\": \"white\", \"linecolor\": \"white\", \"ticks\": \"\"}}, \"scene\": {\"xaxis\": {\"backgroundcolor\": \"#E5ECF6\", \"gridcolor\": \"white\", \"gridwidth\": 2, \"linecolor\": \"white\", \"showbackground\": true, \"ticks\": \"\", \"zerolinecolor\": \"white\"}, \"yaxis\": {\"backgroundcolor\": \"#E5ECF6\", \"gridcolor\": \"white\", \"gridwidth\": 2, \"linecolor\": \"white\", \"showbackground\": true, \"ticks\": \"\", \"zerolinecolor\": \"white\"}, \"zaxis\": {\"backgroundcolor\": \"#E5ECF6\", \"gridcolor\": \"white\", \"gridwidth\": 2, \"linecolor\": \"white\", \"showbackground\": true, \"ticks\": \"\", \"zerolinecolor\": \"white\"}}, \"shapedefaults\": {\"line\": {\"color\": \"#2a3f5f\"}}, \"ternary\": {\"aaxis\": {\"gridcolor\": \"white\", \"linecolor\": \"white\", \"ticks\": \"\"}, \"baxis\": {\"gridcolor\": \"white\", \"linecolor\": \"white\", \"ticks\": \"\"}, \"bgcolor\": \"#E5ECF6\", \"caxis\": {\"gridcolor\": \"white\", \"linecolor\": \"white\", \"ticks\": \"\"}}, \"title\": {\"x\": 0.05}, \"xaxis\": {\"automargin\": true, \"gridcolor\": \"white\", \"linecolor\": \"white\", \"ticks\": \"\", \"title\": {\"standoff\": 15}, \"zerolinecolor\": \"white\", \"zerolinewidth\": 2}, \"yaxis\": {\"automargin\": true, \"gridcolor\": \"white\", \"linecolor\": \"white\", \"ticks\": \"\", \"title\": {\"standoff\": 15}, \"zerolinecolor\": \"white\", \"zerolinewidth\": 2}}}},\n",
       "                        {\"responsive\": true}\n",
       "                    ).then(function(){\n",
       "                            \n",
       "var gd = document.getElementById('6904cb1c-5fd5-4d34-b8a3-3399c19be066');\n",
       "var x = new MutationObserver(function (mutations, observer) {{\n",
       "        var display = window.getComputedStyle(gd).display;\n",
       "        if (!display || display === 'none') {{\n",
       "            console.log([gd, 'removed!']);\n",
       "            Plotly.purge(gd);\n",
       "            observer.disconnect();\n",
       "        }}\n",
       "}});\n",
       "\n",
       "// Listen for the removal of the full notebook cells\n",
       "var notebookContainer = gd.closest('#notebook-container');\n",
       "if (notebookContainer) {{\n",
       "    x.observe(notebookContainer, {childList: true});\n",
       "}}\n",
       "\n",
       "// Listen for the clearing of the current output cell\n",
       "var outputEl = gd.closest('.output');\n",
       "if (outputEl) {{\n",
       "    x.observe(outputEl, {childList: true});\n",
       "}}\n",
       "\n",
       "                        })\n",
       "                };\n",
       "                });\n",
       "            </script>\n",
       "        </div>"
      ]
     },
     "metadata": {},
     "output_type": "display_data"
    }
   ],
   "source": [
    "import plotly.graph_objects as go\n",
    "fig=go.Figure(go.Indicator(\n",
    "    domain={'x':[0,1],'y':[0,1]},\n",
    "    value=4.3,\n",
    "    mode=\"gauge+number+delta\",\n",
    "    title={'text':\"Success Metric\"},\n",
    "    delta={'reference':3.9},\n",
    "    gauge={'bar':{'color':\"lightgreen\"},\n",
    "          'axis':{'range':[None,5]},\n",
    "          'steps':[\n",
    "              {'range':[0,2.5],'color':\"lightgray\"},\n",
    "              {'range':[2.5,4],'color':\"gray\"}\n",
    "          ],}\n",
    ")\n",
    ")\n",
    "fig.show()"
   ]
  },
  {
   "cell_type": "code",
   "execution_count": null,
   "metadata": {},
   "outputs": [],
   "source": []
  },
  {
   "cell_type": "code",
   "execution_count": null,
   "metadata": {},
   "outputs": [],
   "source": []
  }
 ],
 "metadata": {
  "kernelspec": {
   "display_name": "Python 3",
   "language": "python",
   "name": "python3"
  },
  "language_info": {
   "codemirror_mode": {
    "name": "ipython",
    "version": 3
   },
   "file_extension": ".py",
   "mimetype": "text/x-python",
   "name": "python",
   "nbconvert_exporter": "python",
   "pygments_lexer": "ipython3",
   "version": "3.7.6"
  },
  "varInspector": {
   "cols": {
    "lenName": 16,
    "lenType": 16,
    "lenVar": 40
   },
   "kernels_config": {
    "python": {
     "delete_cmd_postfix": "",
     "delete_cmd_prefix": "del ",
     "library": "var_list.py",
     "varRefreshCmd": "print(var_dic_list())"
    },
    "r": {
     "delete_cmd_postfix": ") ",
     "delete_cmd_prefix": "rm(",
     "library": "var_list.r",
     "varRefreshCmd": "cat(var_dic_list()) "
    }
   },
   "types_to_exclude": [
    "module",
    "function",
    "builtin_function_or_method",
    "instance",
    "_Feature"
   ],
   "window_display": false
  }
 },
 "nbformat": 4,
 "nbformat_minor": 4
}
