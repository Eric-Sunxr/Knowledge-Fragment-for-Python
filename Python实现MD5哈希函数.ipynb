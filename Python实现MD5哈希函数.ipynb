{
 "cells": [
  {
   "cell_type": "markdown",
   "metadata": {},
   "source": [
    "## 什么是MD5？\n",
    "MD5代表消息摘要算法。它是一个哈希函数，可产生128位哈希值。可用作校验和验证数据完整性。它适用于非加密目的，例如确定分区数据库中特定密钥的分区。\n",
    "## Python中的MD5哈希：\n",
    "该哈希函数在Python的`hashlib`模块中可用。它以字节序列作为输入，并返回128位哈希值作为输出。散列函数的主要用途是检查数据完整性，但存在安全性问题。\n",
    "## 与md5相关的功能：\n",
    "`encode()`：将字符串转换为字节\n",
    "`digest()`: 以字节格式返回编码数据\n",
    "`hexdigest()`：以十六进制格式返回编码的数据"
   ]
  },
  {
   "cell_type": "code",
   "execution_count": 2,
   "metadata": {},
   "outputs": [
    {
     "name": "stdout",
     "output_type": "stream",
     "text": [
      "Hash Value:<md5 HASH object @ 0x000001BB270CDF90>\n",
      "Equivalent Byte:b'\\xa1\\x8c\\x9c\\x83\\xf0\\x13\\xc3\\xbf\\xca\\xa4\\x03\\xec\\x88\\x1fhz'\n"
     ]
    }
   ],
   "source": [
    "# 示例1：在Python中打印等效于MD5哈希的字节\n",
    "import hashlib\n",
    "\n",
    "result=hashlib.md5(b'Python Pool')\n",
    "print(\"Hash Value:\",end=\"\")\n",
    "print(result)\n",
    "print(\"Equivalent Byte:\",end=\"\")\n",
    "print(result.digest())\n"
   ]
  },
  {
   "cell_type": "code",
   "execution_count": 4,
   "metadata": {},
   "outputs": [
    {
     "name": "stdout",
     "output_type": "stream",
     "text": [
      "Hash Value : <md5 HASH object @ 0x000001BB26FCEE10>\n",
      "Hexadecimal Equivalent : a18c9c83f013c3bfcaa403ec881f687a\n"
     ]
    }
   ],
   "source": [
    "# 示例2：在Python中打印MD5哈希的十六进制等效项\n",
    "import hashlib \n",
    " \n",
    "result = hashlib.md5('Python Pool'.encode()) \n",
    "print(\"Hash Value : \", end =\"\")\n",
    "print(result)\n",
    "print(\"Hexadecimal Equivalent : \", end =\"\") \n",
    "print(result.hexdigest()) "
   ]
  },
  {
   "cell_type": "code",
   "execution_count": 6,
   "metadata": {},
   "outputs": [
    {
     "name": "stdout",
     "output_type": "stream",
     "text": [
      "66ad70b90adbf18920a6dd8c3e508b60\n"
     ]
    }
   ],
   "source": [
    "# 示例3：Python MD5文件校验\n",
    "md5_hash = hashlib.md5()\n",
    " \n",
    "file = open(\"data/train_2.csv\", \"rb\")\n",
    "content = file.read()\n",
    "md5_hash.update(content)\n",
    " \n",
    "result = md5_hash.hexdigest()\n",
    "print(result)"
   ]
  },
  {
   "cell_type": "code",
   "execution_count": 7,
   "metadata": {},
   "outputs": [
    {
     "name": "stdout",
     "output_type": "stream",
     "text": [
      "String : pythonpool.com\n",
      "Hash Value : <md5 HASH object @ 0x000001BB2FC46510>\n",
      "Hexadecimal equivalent:  d4303c06ec628a9d76b9ddb2166e92fe\n"
     ]
    }
   ],
   "source": [
    "# 示例4：使用Python在MD5中编码字符串\n",
    "import hashlib \n",
    "string = \"pythonpool.com\"\n",
    "encoded=string.encode()\n",
    "result = hashlib.md5(encoded)\n",
    "print(\"String : \", end =\"\")\n",
    "print(string)\n",
    "print(\"Hash Value : \", end =\"\")\n",
    "print(result)\n",
    "print(\"Hexadecimal equivalent: \",result.hexdigest())"
   ]
  },
  {
   "cell_type": "code",
   "execution_count": 10,
   "metadata": {},
   "outputs": [
    {
     "name": "stderr",
     "output_type": "stream",
     "text": [
      "IOPub data rate exceeded.\n",
      "The notebook server will temporarily stop sending output\n",
      "to the client in order to avoid crashing it.\n",
      "To change this limit, set the config variable\n",
      "`--NotebookApp.iopub_data_rate_limit`.\n",
      "\n",
      "Current values:\n",
      "NotebookApp.iopub_data_rate_limit=1000000.0 (bytes/sec)\n",
      "NotebookApp.rate_limit_window=3.0 (secs)\n",
      "\n"
     ]
    }
   ],
   "source": [
    "# 示例5：在Python中计算文件的MD5哈希\n",
    "import hashlib\n",
    " #文件最好使用一个txt实验\n",
    "with open(\"data/train_2.csv\",\"rb\") as f:\n",
    "    bytes = f.read()\n",
    "    print(\"Bytes read from the file:\",bytes)\n",
    "    result = hashlib.md5(bytes)\n",
    "    print(\"Hah Value: \",result)\n",
    "    print(\"The hexadecimal equivalent: \")\n",
    "    print(result.hexdigest())"
   ]
  },
  {
   "cell_type": "markdown",
   "metadata": {
    "heading_collapsed": true
   },
   "source": [
    "## 应用范围：\n",
    "- 在软件中使用，以确保传输的文件完整无缺\n",
    "- 通过为在法律发现过程中交换的每个文档提供唯一的标识符，它也可用于电子发现（对可能涉及到诉讼相关的电子证据的归档和再现）\n",
    "## 优点\n",
    "- 提供一个任意大小的安全输入（如果使用128位，则可以产生输出）\n",
    "- 原始消息的消息摘要的生成非常简单\n",
    "- 可以执行具有任意位数的消息的消息摘要\n",
    "## 缺点\n",
    "- 容易出现哈希冲突的弱点\n",
    "- 没有提供针对这些碰撞攻击的安全性\n",
    "- 与优化的SHA算法相比，速度相当慢"
   ]
  },
  {
   "cell_type": "code",
   "execution_count": null,
   "metadata": {
    "hidden": true
   },
   "outputs": [],
   "source": []
  },
  {
   "cell_type": "code",
   "execution_count": null,
   "metadata": {
    "hidden": true
   },
   "outputs": [],
   "source": []
  },
  {
   "cell_type": "code",
   "execution_count": null,
   "metadata": {
    "hidden": true
   },
   "outputs": [],
   "source": []
  }
 ],
 "metadata": {
  "kernelspec": {
   "display_name": "Python 3",
   "language": "python",
   "name": "python3"
  },
  "language_info": {
   "codemirror_mode": {
    "name": "ipython",
    "version": 3
   },
   "file_extension": ".py",
   "mimetype": "text/x-python",
   "name": "python",
   "nbconvert_exporter": "python",
   "pygments_lexer": "ipython3",
   "version": "3.7.6"
  },
  "varInspector": {
   "cols": {
    "lenName": 16,
    "lenType": 16,
    "lenVar": 40
   },
   "kernels_config": {
    "python": {
     "delete_cmd_postfix": "",
     "delete_cmd_prefix": "del ",
     "library": "var_list.py",
     "varRefreshCmd": "print(var_dic_list())"
    },
    "r": {
     "delete_cmd_postfix": ") ",
     "delete_cmd_prefix": "rm(",
     "library": "var_list.r",
     "varRefreshCmd": "cat(var_dic_list()) "
    }
   },
   "types_to_exclude": [
    "module",
    "function",
    "builtin_function_or_method",
    "instance",
    "_Feature"
   ],
   "window_display": false
  }
 },
 "nbformat": 4,
 "nbformat_minor": 4
}
