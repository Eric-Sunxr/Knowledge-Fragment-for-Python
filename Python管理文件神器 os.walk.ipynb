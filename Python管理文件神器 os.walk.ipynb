{
 "cells": [
  {
   "cell_type": "markdown",
   "metadata": {},
   "source": [
    "有没有想过用python写一个文件管理程序？\n",
    "\n",
    "Python中os.walk是一个简单易用的文件、目录遍历器，可以帮助我们高效的处理文件、目录方面的事情。\n",
    "\n",
    "# 1、基本介绍\n",
    "os.walk()：扫描某个指定目录下所包含的子目录和文件，返回的是一个迭代器。\n",
    "# 2、基本使用\n",
    "## 2.1扫描所有文件\n",
    "### 扫描内容：\n",
    "- 子文件夹和文件\n",
    "- 子文件夹下的文件\n",
    "\n",
    "### 输出内容：\n",
    "- 文件夹名称/文件名称\n",
    "\n",
    "### 扫描路径：\n",
    "- 自顶向下 topdown=True(默认)\n",
    "- 自底向上 topdown=False\n",
    "\n"
   ]
  },
  {
   "cell_type": "code",
   "execution_count": 4,
   "metadata": {},
   "outputs": [
    {
     "name": "stdout",
     "output_type": "stream",
     "text": [
      "现在的目录是: data\n",
      "该目录吓包含的子目录： ['oswalk']\n",
      "该目录下包含的文件： ['car_reviews.txt', 'data.json', 'example.pdf', 'example1.pdf', 'hanzi.txt', 'muti_class1776.zip', 'PyPDF2-output.pdf', 'quora.csv', 'saved_weights.pt', 'stopword_cn.txt', 'train_2.csv']\n",
      "********************\n",
      "现在的目录是: data\\oswalk\n",
      "该目录吓包含的子目录： ['dog']\n",
      "该目录下包含的文件： ['pig.txt']\n",
      "********************\n",
      "现在的目录是: data\\oswalk\\dog\n",
      "该目录吓包含的子目录： []\n",
      "该目录下包含的文件： ['Capture001.png']\n",
      "********************\n"
     ]
    }
   ],
   "source": [
    "from os import walk\n",
    "path='data'\n",
    "for curDir,dirs,files in walk(path):\n",
    "#     for curDir, dirs, files in walk(path,topdown=False):#自下向顶\n",
    "    print(\"现在的目录是:\",curDir)\n",
    "    print(\"该目录吓包含的子目录：\",str(dirs))\n",
    "    print(\"该目录下包含的文件：\",str(files))\n",
    "    print(\"*\"*20)"
   ]
  },
  {
   "cell_type": "markdown",
   "metadata": {},
   "source": [
    "## 2.2扫描输出所有文件的路径\n",
    "\n",
    "输出所有文件："
   ]
  },
  {
   "cell_type": "code",
   "execution_count": 5,
   "metadata": {},
   "outputs": [
    {
     "name": "stdout",
     "output_type": "stream",
     "text": [
      "data\\car_reviews.txt\n",
      "data\\data.json\n",
      "data\\example.pdf\n",
      "data\\example1.pdf\n",
      "data\\hanzi.txt\n",
      "data\\muti_class1776.zip\n",
      "data\\PyPDF2-output.pdf\n",
      "data\\quora.csv\n",
      "data\\saved_weights.pt\n",
      "data\\stopword_cn.txt\n",
      "data\\train_2.csv\n",
      "data\\oswalk\\pig.txt\n",
      "data\\oswalk\\dog\\Capture001.png\n"
     ]
    }
   ],
   "source": [
    "import os\n",
    "path=\"data\"\n",
    "for curDir,dirs,files in os.walk(path):\n",
    "    for file in files:\n",
    "        print(os.path.join(curDir,file))"
   ]
  },
  {
   "cell_type": "markdown",
   "metadata": {},
   "source": [
    "输出指定类型文件"
   ]
  },
  {
   "cell_type": "code",
   "execution_count": 9,
   "metadata": {},
   "outputs": [
    {
     "name": "stdout",
     "output_type": "stream",
     "text": [
      "data\\quora.csv\n",
      "data\\train_2.csv\n"
     ]
    }
   ],
   "source": [
    "#endswith 截取文件后缀\n",
    "import os\n",
    "path=\"data\"\n",
    "for curDir,dirs,files in os.walk(path):\n",
    "    [print(os.path.join(curDir,file)) for file in files if file.endswith(\".csv\")]"
   ]
  },
  {
   "cell_type": "markdown",
   "metadata": {},
   "source": [
    "## 2.3扫描输出所有的子目录（子文件夹）"
   ]
  },
  {
   "cell_type": "code",
   "execution_count": 10,
   "metadata": {},
   "outputs": [
    {
     "name": "stdout",
     "output_type": "stream",
     "text": [
      "data\\oswalk\n",
      "data\\oswalk\\dog\n"
     ]
    }
   ],
   "source": [
    "# 使用os.walk输出某个目录下的所有文件\n",
    "import os\n",
    "path=\"data\"\n",
    "for curDir, dirs, files in os.walk(path):\n",
    "    for _dir in dirs:\n",
    "        print(os.path.join(curDir, _dir))"
   ]
  },
  {
   "cell_type": "markdown",
   "metadata": {},
   "source": [
    "# 案例代码\n",
    "\n",
    "### 综合运用os.walk()——文件指定日期整理程序"
   ]
  },
  {
   "cell_type": "code",
   "execution_count": 13,
   "metadata": {},
   "outputs": [
    {
     "name": "stdout",
     "output_type": "stream",
     "text": [
      "请输入开始日期：2020-07-01\n",
      "请输入结束日期：2020-12-12\n"
     ]
    },
    {
     "ename": "OSError",
     "evalue": "[WinError 145] 目录不是空的。: 'data\\\\oswalk'",
     "output_type": "error",
     "traceback": [
      "\u001b[1;31m---------------------------------------------------------------------------\u001b[0m",
      "\u001b[1;31mOSError\u001b[0m                                   Traceback (most recent call last)",
      "\u001b[1;32m<ipython-input-13-9bbbf3f21844>\u001b[0m in \u001b[0;36m<module>\u001b[1;34m\u001b[0m\n\u001b[0;32m    100\u001b[0m \u001b[1;33m\u001b[0m\u001b[0m\n\u001b[0;32m    101\u001b[0m \u001b[1;31m#移动符合条件文件，并删除二级文件夹和多余文件\u001b[0m\u001b[1;33m\u001b[0m\u001b[1;33m\u001b[0m\u001b[1;33m\u001b[0m\u001b[0m\n\u001b[1;32m--> 102\u001b[1;33m \u001b[0mmove_file\u001b[0m\u001b[1;33m(\u001b[0m\u001b[0mfile_path\u001b[0m\u001b[1;33m,\u001b[0m\u001b[0mnew_path\u001b[0m\u001b[1;33m,\u001b[0m\u001b[0mdate_xl_str\u001b[0m\u001b[1;33m)\u001b[0m\u001b[1;33m\u001b[0m\u001b[1;33m\u001b[0m\u001b[0m\n\u001b[0m\u001b[0;32m    103\u001b[0m \u001b[1;33m\u001b[0m\u001b[0m\n\u001b[0;32m    104\u001b[0m \u001b[1;31m#文件去重\u001b[0m\u001b[1;33m\u001b[0m\u001b[1;33m\u001b[0m\u001b[1;33m\u001b[0m\u001b[0m\n",
      "\u001b[1;32m<ipython-input-13-9bbbf3f21844>\u001b[0m in \u001b[0;36mmove_file\u001b[1;34m(file_path, _new_path, date_xl_str)\u001b[0m\n\u001b[0;32m     19\u001b[0m     \u001b[1;32mfor\u001b[0m \u001b[0mcurDir\u001b[0m\u001b[1;33m,\u001b[0m \u001b[0mdirs\u001b[0m\u001b[1;33m,\u001b[0m \u001b[0mfiles\u001b[0m \u001b[1;32min\u001b[0m \u001b[0mos\u001b[0m\u001b[1;33m.\u001b[0m\u001b[0mwalk\u001b[0m\u001b[1;33m(\u001b[0m\u001b[0mfile_path\u001b[0m\u001b[1;33m)\u001b[0m\u001b[1;33m:\u001b[0m\u001b[1;33m\u001b[0m\u001b[1;33m\u001b[0m\u001b[0m\n\u001b[0;32m     20\u001b[0m         \u001b[1;32mfor\u001b[0m \u001b[0m_dir\u001b[0m \u001b[1;32min\u001b[0m \u001b[0mdirs\u001b[0m\u001b[1;33m:\u001b[0m\u001b[1;33m\u001b[0m\u001b[1;33m\u001b[0m\u001b[0m\n\u001b[1;32m---> 21\u001b[1;33m             \u001b[0mos\u001b[0m\u001b[1;33m.\u001b[0m\u001b[0mremovedirs\u001b[0m\u001b[1;33m(\u001b[0m\u001b[0mos\u001b[0m\u001b[1;33m.\u001b[0m\u001b[0mpath\u001b[0m\u001b[1;33m.\u001b[0m\u001b[0mjoin\u001b[0m\u001b[1;33m(\u001b[0m\u001b[0mcurDir\u001b[0m\u001b[1;33m,\u001b[0m \u001b[0m_dir\u001b[0m\u001b[1;33m)\u001b[0m\u001b[1;33m)\u001b[0m\u001b[1;33m\u001b[0m\u001b[1;33m\u001b[0m\u001b[0m\n\u001b[0m\u001b[0;32m     22\u001b[0m     \u001b[0mos\u001b[0m\u001b[1;33m.\u001b[0m\u001b[0mmkdir\u001b[0m\u001b[1;33m(\u001b[0m\u001b[1;34m\"data\"\u001b[0m\u001b[1;33m)\u001b[0m\u001b[1;33m\u001b[0m\u001b[1;33m\u001b[0m\u001b[0m\n\u001b[0;32m     23\u001b[0m \u001b[1;33m\u001b[0m\u001b[0m\n",
      "\u001b[1;32mF:\\Anaconda\\lib\\os.py\u001b[0m in \u001b[0;36mremovedirs\u001b[1;34m(name)\u001b[0m\n\u001b[0;32m    237\u001b[0m \u001b[1;33m\u001b[0m\u001b[0m\n\u001b[0;32m    238\u001b[0m     \"\"\"\n\u001b[1;32m--> 239\u001b[1;33m     \u001b[0mrmdir\u001b[0m\u001b[1;33m(\u001b[0m\u001b[0mname\u001b[0m\u001b[1;33m)\u001b[0m\u001b[1;33m\u001b[0m\u001b[1;33m\u001b[0m\u001b[0m\n\u001b[0m\u001b[0;32m    240\u001b[0m     \u001b[0mhead\u001b[0m\u001b[1;33m,\u001b[0m \u001b[0mtail\u001b[0m \u001b[1;33m=\u001b[0m \u001b[0mpath\u001b[0m\u001b[1;33m.\u001b[0m\u001b[0msplit\u001b[0m\u001b[1;33m(\u001b[0m\u001b[0mname\u001b[0m\u001b[1;33m)\u001b[0m\u001b[1;33m\u001b[0m\u001b[1;33m\u001b[0m\u001b[0m\n\u001b[0;32m    241\u001b[0m     \u001b[1;32mif\u001b[0m \u001b[1;32mnot\u001b[0m \u001b[0mtail\u001b[0m\u001b[1;33m:\u001b[0m\u001b[1;33m\u001b[0m\u001b[1;33m\u001b[0m\u001b[0m\n",
      "\u001b[1;31mOSError\u001b[0m: [WinError 145] 目录不是空的。: 'data\\\\oswalk'"
     ]
    }
   ],
   "source": [
    "#不要轻易使用，会删除文件\n",
    "import pandas as pd\n",
    "import numpy as np\n",
    "import os,openpyxl\n",
    "#移动符合条件文件，并删除二级文件夹和多余文件\n",
    "def move_file(file_path,_new_path,date_xl_str):\n",
    "\n",
    "    #本月文件移动至对应新建文件夹，非本月文件直接删除\n",
    "    for curDir, dirs, files in os.walk(file_path):\n",
    "        for file in files:\n",
    "            old_path = os.path.join(curDir, file)\n",
    "            new_path = os.path.join(_new_path, file)\n",
    "            file_date=file.split(\"_\")[-1][:10] \n",
    "            try:\n",
    "                os.rename(old_path,new_path) if file_date in date_xl_str else os.remove(old_path)\n",
    "            except:\n",
    "                os.remove(old_path)\n",
    "\n",
    "    #移除子文件夹\n",
    "    for curDir, dirs, files in os.walk(file_path):\n",
    "        for _dir in dirs:\n",
    "            os.removedirs(os.path.join(curDir, _dir))\n",
    "    os.mkdir(\"data\")\n",
    "\n",
    "#文件去重-相同日期文件\n",
    "def qch_date(file_path):\n",
    "    wj_names=os.listdir(file_path)\n",
    "    wj_list=[]\n",
    "    num=0\n",
    "    for wj in wj_names:\n",
    "        new_wj=wj[:-11]\n",
    "        if new_wj not  in wj_list:\n",
    "            wj_list.append(new_wj)\n",
    "        else: \n",
    "            os.remove(file_path+\"\\\\\"+wj)\n",
    "            num+=1\n",
    "    return num\n",
    "\n",
    "#更新数据源\n",
    "def refresh_data(file_path,sheet_name,data):\n",
    "    book=openpyxl.load_workbook(file_path)\n",
    "    writer=pd.ExcelWriter(file_path,engine=\"openpyxl\")\n",
    "\n",
    "    #在ExcelWriter的源代码中，它初始化空工作簿并删除所有工作表，\n",
    "    #writer.book = book将原来表里面的内容保存到writer中\n",
    "    writer.book=book\n",
    "\n",
    "    #activate激活指定sheet工作表\n",
    "    ws=book[sheet_name]\n",
    "\n",
    "    #清空当前活动表数据\n",
    "    for row in ws.iter_rows():\n",
    "        for cell in row:\n",
    "            cell.value=None\n",
    "\n",
    "    #dataframe行列数\n",
    "    idx_num,col_num=data.shape\n",
    "\n",
    "    #新数据写入当前活动表-注意索引偏移\n",
    "    for i in  range(1,idx_num+1):\n",
    "        for j in range(1,col_num+1):\n",
    "            ws.cell(row=i,column=j).value=data.iloc[i-1,j-1]\n",
    "\n",
    "    #保存关闭writer\n",
    "    writer.save()\n",
    "    writer.close()\n",
    "\n",
    "    return None\n",
    "\n",
    "#文件检查\n",
    "def check_file(file_path,check_file=\"文件检查.xlsx\"):\n",
    "    wj_names=os.listdir(file_path)\n",
    "    data=pd.DataFrame([wj.split(\"_\")[2:] for wj in wj_names],columns=[\"店铺名称\",\"日期\"])\n",
    "    data['日期']=data['日期'].str[:10] \n",
    "\n",
    "    #标题columns放到dataframe中\n",
    "    nind=data.index.insert(0,'0')\n",
    "    data1=data.reindex(index=nind)\n",
    "    data1.loc['0']=data.columns\n",
    "    data1.reset_index(drop=True,inplace=True)\n",
    "\n",
    "    #刷新数据源\n",
    "    refresh_data(check_file,\"数据源\",data1)\n",
    "\n",
    "    return None\n",
    "\n",
    "file_path=\"data\"\n",
    "#日期格式：xxxx-xx eg:2020-07-01\n",
    "start_date=input(\"请输入开始日期：\")\n",
    "end_date=input(\"请输入结束日期：\")\n",
    "\n",
    "#生成日期区间-字符串类型\n",
    "date_xl_str=[str(i)[:10] for i in pd.date_range(start_date,end_date,freq='D')]\n",
    "\n",
    "#创建指定文件夹\n",
    "new_path=start_date+\"~\"+end_date\n",
    "try:\n",
    "    os.mkdir(new_path)\n",
    "except:\n",
    "    print(\"文件夹 【%s】 已存在\"%new_path)\n",
    "\n",
    "#移动符合条件文件，并删除二级文件夹和多余文件\n",
    "move_file(file_path,new_path,date_xl_str)\n",
    "\n",
    "#文件去重\n",
    "num=qch_date(new_path)\n",
    "print(\"去除重复文件 %s 个\"%num)\n",
    "\n",
    "#文件检查\n",
    "check_file(new_path)"
   ]
  },
  {
   "cell_type": "code",
   "execution_count": null,
   "metadata": {},
   "outputs": [],
   "source": []
  }
 ],
 "metadata": {
  "kernelspec": {
   "display_name": "Python 3",
   "language": "python",
   "name": "python3"
  },
  "language_info": {
   "codemirror_mode": {
    "name": "ipython",
    "version": 3
   },
   "file_extension": ".py",
   "mimetype": "text/x-python",
   "name": "python",
   "nbconvert_exporter": "python",
   "pygments_lexer": "ipython3",
   "version": "3.7.6"
  },
  "varInspector": {
   "cols": {
    "lenName": 16,
    "lenType": 16,
    "lenVar": 40
   },
   "kernels_config": {
    "python": {
     "delete_cmd_postfix": "",
     "delete_cmd_prefix": "del ",
     "library": "var_list.py",
     "varRefreshCmd": "print(var_dic_list())"
    },
    "r": {
     "delete_cmd_postfix": ") ",
     "delete_cmd_prefix": "rm(",
     "library": "var_list.r",
     "varRefreshCmd": "cat(var_dic_list()) "
    }
   },
   "types_to_exclude": [
    "module",
    "function",
    "builtin_function_or_method",
    "instance",
    "_Feature"
   ],
   "window_display": false
  }
 },
 "nbformat": 4,
 "nbformat_minor": 4
}
