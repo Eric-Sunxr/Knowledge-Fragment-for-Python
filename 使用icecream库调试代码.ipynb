{
 "cells": [
  {
   "cell_type": "markdown",
   "metadata": {},
   "source": [
    "## Icecream是一个Python第三方库，可通过最少的代码使打印调试更清晰明了。"
   ]
  },
  {
   "cell_type": "code",
   "execution_count": 2,
   "metadata": {},
   "outputs": [
    {
     "name": "stderr",
     "output_type": "stream",
     "text": [
      "ic| plus_five(4): 9\n",
      "ic| plus_five(5): 10\n"
     ]
    },
    {
     "data": {
      "text/plain": [
       "10"
      ]
     },
     "execution_count": 2,
     "metadata": {},
     "output_type": "execute_result"
    }
   ],
   "source": [
    "from icecream import ic\n",
    "\n",
    "def plus_five(num):\n",
    "    return num+5\n",
    "\n",
    "ic(plus_five(4))\n",
    "ic(plus_five(5))"
   ]
  },
  {
   "cell_type": "markdown",
   "metadata": {},
   "source": [
    "通过使用icecream，我们不仅可以看到函数输出，还可以看到函数及其参数！\n",
    "\n",
    "## icecream检查执行情况\n",
    "如果你想要找到执行代码的位置，可以通过执行如下所示的操作，来查找执行了哪个语句。"
   ]
  },
  {
   "cell_type": "code",
   "execution_count": 3,
   "metadata": {},
   "outputs": [
    {
     "name": "stdout",
     "output_type": "stream",
     "text": [
      "I'm user\n"
     ]
    }
   ],
   "source": [
    "def hello(user:bool):\n",
    "    if user:\n",
    "        print(\"I'm user\")\n",
    "    else:\n",
    "        print(\"I'm not user\")\n",
    "\n",
    "hello(user=True)"
   ]
  },
  {
   "cell_type": "code",
   "execution_count": 7,
   "metadata": {},
   "outputs": [
    {
     "name": "stderr",
     "output_type": "stream",
     "text": [
      "ic| <ipython-input-7-0b24b554bb74>:6 in hello() at 03:07:04.709\n"
     ]
    }
   ],
   "source": [
    "# 使用icecream则无需多余的文本信息，就可以轻松地完成上述的操作。\n",
    "from icecream import ic\n",
    "\n",
    "def hello(user:bool):\n",
    "    if user:\n",
    "        ic()\n",
    "    else:\n",
    "        ic()\n",
    "\n",
    "hello(user=True)\n",
    "\n",
    "# 从输出结果看，函数hello中的第6行的代码已被执行，而第8行的代码未执行。"
   ]
  },
  {
   "cell_type": "markdown",
   "metadata": {},
   "source": [
    "## icecream自定义前缀\n",
    "如果您想在打印语句中插入自定义前缀(例如代码执行时间)，icecream也是能实现的。"
   ]
  },
  {
   "cell_type": "code",
   "execution_count": 8,
   "metadata": {},
   "outputs": [
    {
     "name": "stderr",
     "output_type": "stream",
     "text": [
      "2021-01-28 11:10:10.592652|>'Hello'\n",
      "2021-01-28 11:10:11.625127|>'Hello'\n",
      "2021-01-28 11:10:12.667266|>'Hello'\n"
     ]
    }
   ],
   "source": [
    "from datetime import datetime\n",
    "from icecream import ic\n",
    "import time\n",
    "\n",
    "def time_format():\n",
    "    return f'{datetime.now()}|>'\n",
    "\n",
    "ic.configureOutput(prefix=time_format)\n",
    "\n",
    "for _ in range(3):\n",
    "    time.sleep(1)\n",
    "    ic('Hello')\n",
    "    \n",
    "# 可以看到代码的执行时间，就显示在输出的前面。"
   ]
  },
  {
   "cell_type": "markdown",
   "metadata": {},
   "source": [
    "## 利用icecream获取更多的信息\n",
    "除了知道和输出相关的代码之外，你可能还想知道代码执行的行和代码文件。\n",
    "\n",
    "在`ic.configureOutput()`中，设置`includeecontext`的参数值为`True`即可。"
   ]
  },
  {
   "cell_type": "code",
   "execution_count": 9,
   "metadata": {},
   "outputs": [
    {
     "name": "stderr",
     "output_type": "stream",
     "text": [
      "2021-01-28 11:12:26.349341|><ipython-input-9-176a9c3e650b>:6 in <module>\n",
      "                            plus_five(4): 9\n",
      "2021-01-28 11:12:26.400202|><ipython-input-9-176a9c3e650b>:7 in <module>\n",
      "                            plus_five(5): 10\n"
     ]
    },
    {
     "data": {
      "text/plain": [
       "10"
      ]
     },
     "execution_count": 9,
     "metadata": {},
     "output_type": "execute_result"
    }
   ],
   "source": [
    "from icecream import ic\n",
    "def plus_five(num):\n",
    "    return num+5\n",
    "\n",
    "ic.configureOutput(includeContext=True)\n",
    "ic(plus_five(4))\n",
    "ic(plus_five(5))"
   ]
  },
  {
   "cell_type": "markdown",
   "metadata": {},
   "source": [
    "上述两个操作都用到了ic.configureOutput()函数。\n",
    "\n",
    "通过查看源码，可知有四个可供设置的参数。\n",
    "\n",
    "- prefix，自定义输出前缀\n",
    "\n",
    "- outputFunction，更改输出函数\n",
    "\n",
    "- argToStringFunction，自定义参数序列化字符串\n",
    "\n",
    "- includeContext，显示文件名、代码行、函数信息\n",
    "\n",
    "\n",
    "## icecream的日常使用\n",
    "最后你可以将icecream仅用于调试，而将print用于其他目的(例如漂亮的打印)。"
   ]
  },
  {
   "cell_type": "code",
   "execution_count": 10,
   "metadata": {},
   "outputs": [
    {
     "name": "stderr",
     "output_type": "stream",
     "text": [
      "2021-01-28 11:14:24.762767|><ipython-input-10-e1bc1b8bf7b2>:6 in <module>\n",
      "                            plus_five(4): 9\n",
      "2021-01-28 11:14:24.816623|><ipython-input-10-e1bc1b8bf7b2>:7 in <module>\n",
      "                            plus_five(5): 10\n"
     ]
    },
    {
     "name": "stdout",
     "output_type": "stream",
     "text": [
      "****** Training model 0 ******\n",
      "****** Training model 1 ******\n",
      "****** Training model 2 ******\n",
      "****** Training model 3 ******\n",
      "****** Training model 4 ******\n",
      "****** Training model 5 ******\n",
      "****** Training model 6 ******\n",
      "****** Training model 7 ******\n",
      "****** Training model 8 ******\n",
      "****** Training model 9 ******\n"
     ]
    }
   ],
   "source": [
    "from icecream import ic\n",
    "def plus_five(num):\n",
    "    return num + 5\n",
    "\n",
    "ic.configureOutput(includeContext=True)\n",
    "ic(plus_five(4))\n",
    "ic(plus_five(5))\n",
    "\n",
    "for i in range(10):\n",
    "    print(f'****** Training model {i} ******')"
   ]
  },
  {
   "cell_type": "markdown",
   "metadata": {},
   "source": [
    "由于你可以区分调试打印和漂亮打印，因此搜索和删除所有ic调试语句非常容易。\n",
    "\n",
    "**删除所有调试代码后，你的Python代码就整洁了。**"
   ]
  },
  {
   "cell_type": "code",
   "execution_count": null,
   "metadata": {},
   "outputs": [],
   "source": []
  },
  {
   "cell_type": "code",
   "execution_count": null,
   "metadata": {},
   "outputs": [],
   "source": []
  }
 ],
 "metadata": {
  "kernelspec": {
   "display_name": "Python 3",
   "language": "python",
   "name": "python3"
  },
  "language_info": {
   "codemirror_mode": {
    "name": "ipython",
    "version": 3
   },
   "file_extension": ".py",
   "mimetype": "text/x-python",
   "name": "python",
   "nbconvert_exporter": "python",
   "pygments_lexer": "ipython3",
   "version": "3.7.6"
  },
  "varInspector": {
   "cols": {
    "lenName": 16,
    "lenType": 16,
    "lenVar": 40
   },
   "kernels_config": {
    "python": {
     "delete_cmd_postfix": "",
     "delete_cmd_prefix": "del ",
     "library": "var_list.py",
     "varRefreshCmd": "print(var_dic_list())"
    },
    "r": {
     "delete_cmd_postfix": ") ",
     "delete_cmd_prefix": "rm(",
     "library": "var_list.r",
     "varRefreshCmd": "cat(var_dic_list()) "
    }
   },
   "types_to_exclude": [
    "module",
    "function",
    "builtin_function_or_method",
    "instance",
    "_Feature"
   ],
   "window_display": false
  }
 },
 "nbformat": 4,
 "nbformat_minor": 4
}
