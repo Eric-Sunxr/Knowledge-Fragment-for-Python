{
 "cells": [
  {
   "cell_type": "markdown",
   "metadata": {},
   "source": [
    "# 使用PyPDF2库编辑PDF文档"
   ]
  },
  {
   "cell_type": "markdown",
   "metadata": {},
   "source": [
    "PyPDF2是一个第三方的python PDF库，它能够对PDF文件进行分割、合并、裁剪和转换页面。\n",
    "\n",
    "另外，它还可以对PDF文件添加自定义数据、水印、密码，也可以从PDF文件中检索出文本和元数据。\n",
    "## 删除PDF页"
   ]
  },
  {
   "cell_type": "code",
   "execution_count": 6,
   "metadata": {},
   "outputs": [],
   "source": [
    "from PyPDF2 import PdfFileWriter,PdfFileReader\n",
    "#声明一个用于输出PDF的实例\n",
    "output=PdfFileWriter()\n",
    "#读取本地的PDF文件\n",
    "input1=PdfFileReader(open(\"example.pdf\",\"rb\"))\n",
    "\n",
    "def delete_pdf(index):\n",
    "    #获取PDF文档的页数\n",
    "    pages=input1.getNumPages()\n",
    "    for i in range(pages):\n",
    "        if i+1 in index:\n",
    "            continue\n",
    "        #把除了需要删除的PDF添加到输出文件中\n",
    "        output.addPage(input1.getPage(i))\n",
    "    outputStream=open(\"PyPDF2-output.pdf\",\"wb\")\n",
    "    output.write(outputStream)\n",
    "\n",
    "delete_pdf([2,3,4])"
   ]
  },
  {
   "cell_type": "code",
   "execution_count": null,
   "metadata": {},
   "outputs": [],
   "source": []
  },
  {
   "cell_type": "markdown",
   "metadata": {},
   "source": [
    "# 合并PDF"
   ]
  },
  {
   "cell_type": "code",
   "execution_count": 3,
   "metadata": {},
   "outputs": [
    {
     "ename": "FileNotFoundError",
     "evalue": "[Errno 2] No such file or directory: 'simple2.pdf'",
     "output_type": "error",
     "traceback": [
      "\u001b[1;31m---------------------------------------------------------------------------\u001b[0m",
      "\u001b[1;31mFileNotFoundError\u001b[0m                         Traceback (most recent call last)",
      "\u001b[1;32m<ipython-input-3-b6dd2c23458a>\u001b[0m in \u001b[0;36m<module>\u001b[1;34m\u001b[0m\n\u001b[0;32m      5\u001b[0m \u001b[0moutput\u001b[0m \u001b[1;33m=\u001b[0m \u001b[0mPdfFileWriter\u001b[0m\u001b[1;33m(\u001b[0m\u001b[1;33m)\u001b[0m\u001b[1;33m\u001b[0m\u001b[1;33m\u001b[0m\u001b[0m\n\u001b[0;32m      6\u001b[0m \u001b[0minput1\u001b[0m \u001b[1;33m=\u001b[0m \u001b[0mPdfFileReader\u001b[0m\u001b[1;33m(\u001b[0m\u001b[0mopen\u001b[0m\u001b[1;33m(\u001b[0m\u001b[1;34m\"example.pdf\"\u001b[0m\u001b[1;33m,\u001b[0m \u001b[1;34m\"rb\"\u001b[0m\u001b[1;33m)\u001b[0m\u001b[1;33m)\u001b[0m\u001b[1;33m\u001b[0m\u001b[1;33m\u001b[0m\u001b[0m\n\u001b[1;32m----> 7\u001b[1;33m \u001b[0minput2\u001b[0m \u001b[1;33m=\u001b[0m \u001b[0mPdfFileReader\u001b[0m\u001b[1;33m(\u001b[0m\u001b[0mopen\u001b[0m\u001b[1;33m(\u001b[0m\u001b[1;34m\"simple2.pdf\"\u001b[0m\u001b[1;33m,\u001b[0m \u001b[1;34m\"rb\"\u001b[0m\u001b[1;33m)\u001b[0m\u001b[1;33m)\u001b[0m \u001b[1;33m//\u001b[0m \u001b[1;36m1\u001b[0m\u001b[1;33m\u001b[0m\u001b[1;33m\u001b[0m\u001b[0m\n\u001b[0m\u001b[0;32m      8\u001b[0m \u001b[1;33m\u001b[0m\u001b[0m\n\u001b[0;32m      9\u001b[0m \u001b[1;32mdef\u001b[0m \u001b[0mmerge_pdf\u001b[0m\u001b[1;33m(\u001b[0m\u001b[0madd_index\u001b[0m\u001b[1;33m,\u001b[0m \u001b[0morigin_index\u001b[0m\u001b[1;33m)\u001b[0m\u001b[1;33m:\u001b[0m\u001b[1;33m\u001b[0m\u001b[1;33m\u001b[0m\u001b[0m\n",
      "\u001b[1;31mFileNotFoundError\u001b[0m: [Errno 2] No such file or directory: 'simple2.pdf'"
     ]
    }
   ],
   "source": [
    "#方法一\n",
    "# 可以沿着前面删除PDF页的方式进行拓展一下，对PDF进行合并。\n",
    "from PyPDF2 import PdfFileWriter, PdfFileReader\n",
    "\n",
    "output = PdfFileWriter()\n",
    "input1 = PdfFileReader(open(\"example.pdf\", \"rb\"))\n",
    "input2 = PdfFileReader(open(\"simple2.pdf\", \"rb\")) // 1\n",
    "\n",
    "def merge_pdf(add_index, origin_index):\n",
    "    pages = input1.getNumPages()\n",
    "    k = 0\n",
    "    for i in range(pages):\n",
    "        if i+1 in add_index:\n",
    "            output.addPage(input2.getPage(origin_index[k])) // 2\n",
    "            pages += 1\n",
    "            k += 1\n",
    "            output.addPage(input1.getPage(i))\n",
    "    outputStream = open(\"PyPDF2-output.pdf\", \"wb\")\n",
    "    output.write(outputStream)\n",
    "\n",
    "merge_pdf([2,3,4], [0, 0, 0])"
   ]
  },
  {
   "cell_type": "code",
   "execution_count": 4,
   "metadata": {},
   "outputs": [
    {
     "ename": "FileNotFoundError",
     "evalue": "[Errno 2] No such file or directory: 'document1.pdf'",
     "output_type": "error",
     "traceback": [
      "\u001b[1;31m---------------------------------------------------------------------------\u001b[0m",
      "\u001b[1;31mFileNotFoundError\u001b[0m                         Traceback (most recent call last)",
      "\u001b[1;32m<ipython-input-4-2020f2df9682>\u001b[0m in \u001b[0;36m<module>\u001b[1;34m\u001b[0m\n\u001b[0;32m      4\u001b[0m \u001b[0mmerger\u001b[0m\u001b[1;33m=\u001b[0m\u001b[0mPdfFileMerger\u001b[0m\u001b[1;33m(\u001b[0m\u001b[1;33m)\u001b[0m\u001b[1;33m\u001b[0m\u001b[1;33m\u001b[0m\u001b[0m\n\u001b[0;32m      5\u001b[0m \u001b[1;33m\u001b[0m\u001b[0m\n\u001b[1;32m----> 6\u001b[1;33m \u001b[0minput1\u001b[0m \u001b[1;33m=\u001b[0m \u001b[0mopen\u001b[0m\u001b[1;33m(\u001b[0m\u001b[1;34m\"document1.pdf\"\u001b[0m\u001b[1;33m,\u001b[0m \u001b[1;34m\"rb\"\u001b[0m\u001b[1;33m)\u001b[0m \u001b[1;33m//\u001b[0m \u001b[1;36m2\u001b[0m\u001b[1;33m\u001b[0m\u001b[1;33m\u001b[0m\u001b[0m\n\u001b[0m\u001b[0;32m      7\u001b[0m \u001b[0minput2\u001b[0m \u001b[1;33m=\u001b[0m \u001b[0mopen\u001b[0m\u001b[1;33m(\u001b[0m\u001b[1;34m\"document2.pdf\"\u001b[0m\u001b[1;33m,\u001b[0m \u001b[1;34m\"rb\"\u001b[0m\u001b[1;33m)\u001b[0m\u001b[1;33m\u001b[0m\u001b[1;33m\u001b[0m\u001b[0m\n\u001b[0;32m      8\u001b[0m \u001b[0minput3\u001b[0m \u001b[1;33m=\u001b[0m \u001b[0mopen\u001b[0m\u001b[1;33m(\u001b[0m\u001b[1;34m\"document3.pdf\"\u001b[0m\u001b[1;33m,\u001b[0m \u001b[1;34m\"rb\"\u001b[0m\u001b[1;33m)\u001b[0m\u001b[1;33m\u001b[0m\u001b[1;33m\u001b[0m\u001b[0m\n",
      "\u001b[1;31mFileNotFoundError\u001b[0m: [Errno 2] No such file or directory: 'document1.pdf'"
     ]
    }
   ],
   "source": [
    "#方法二\n",
    "from PyPDF2 import PdfFileMerger\n",
    "\n",
    "merger=PdfFileMerger()\n",
    "\n",
    "input1 = open(\"document1.pdf\", \"rb\") // 2\n",
    "input2 = open(\"document2.pdf\", \"rb\")\n",
    "input3 = open(\"document3.pdf\", \"rb\")\n",
    "#从第一个PDF文档中取出需要合并的前3页\n",
    "merger.append(fileobj = input1, pages = (0,3)) // 3\n",
    "#从第二个PDF文档的第一页插入到文档中\n",
    "merger.merge(position = 2, fileobj = input2, pages = (0,1)) // 4\n",
    "#吧第三个PDF文档附叨叨文档输出的末尾\n",
    "merger.append(input3) // 5\n",
    "\n",
    "output = open(\"document-output.pdf\", \"wb\")\n",
    "merger.write(output)"
   ]
  },
  {
   "cell_type": "markdown",
   "metadata": {},
   "source": [
    "## 旋转"
   ]
  },
  {
   "cell_type": "code",
   "execution_count": null,
   "metadata": {},
   "outputs": [],
   "source": [
    "input1.getPage(1).rotateClockwise(90)"
   ]
  },
  {
   "cell_type": "markdown",
   "metadata": {},
   "source": [
    "## 添加水印"
   ]
  },
  {
   "cell_type": "code",
   "execution_count": 8,
   "metadata": {},
   "outputs": [],
   "source": [
    "page = input1.getPage(3)\n",
    "watermark = PdfFileReader(open(\"example1.pdf\", \"rb\"))\n",
    "page.mergePage(watermark.getPage(0))"
   ]
  },
  {
   "cell_type": "markdown",
   "metadata": {},
   "source": [
    "## 加密"
   ]
  },
  {
   "cell_type": "code",
   "execution_count": null,
   "metadata": {},
   "outputs": [],
   "source": [
    "password=\"secret\"\n",
    "output.encrypt(password)"
   ]
  },
  {
   "cell_type": "markdown",
   "metadata": {},
   "source": [
    "# pdfminer\n",
    "前面介绍的PyPDF2主要擅长于PDF页面级编辑，而对于文本和源数据级别编辑能力较弱。\n",
    "所以，这里就来介绍另外一款Python库来弥补它的不足。\n",
    "PDFMiner是一个PDF文档的文本提取工具，它具有如下特性：\n",
    "- 能够准确获取文本的位置和布局信息；\n",
    "- 可以将PDF转换为HTML/XML等格式；\n",
    "- 可以提取目录；\n",
    "- 可以提取标签内容；\n",
    "- 支持各种字体类型（Type1、TrueType、Type3和CID）;\n",
    "- 支持中、日、韩语言和垂直书写文本;"
   ]
  },
  {
   "cell_type": "markdown",
   "metadata": {},
   "source": [
    "### PDF转TxT\n",
    "#### pdfminer在GitHub的托管项目中，在目录tools下给出了一些实用的工具集，例如，PDF转HTML、PDF转HTML、PDF转TXT。我们可以直接通过使用下面命令提出PDF文档中的文本信息。"
   ]
  },
  {
   "cell_type": "code",
   "execution_count": null,
   "metadata": {},
   "outputs": [],
   "source": [
    "pdf2txt.py samples/simple1.pdf"
   ]
  },
  {
   "cell_type": "code",
   "execution_count": null,
   "metadata": {},
   "outputs": [],
   "source": [
    "通过上述2款Python库，就可以实现从页面到文本元数据的编辑，本文只是简单的介绍了每项的基本用法。关于详细的用法和函数列表，可以阅读官方文档，或者阅读GitHub上项目源码进行了解。此外，可以在这些基本的用法基础上进行发散思维，发掘更多有价值的应用场景，例如，提出文本数据之后调用翻译API进行文献翻译。也可以，对软件进行封装，开发成一款通用的PDF编辑工具。"
   ]
  }
 ],
 "metadata": {
  "kernelspec": {
   "display_name": "Python 3",
   "language": "python",
   "name": "python3"
  },
  "language_info": {
   "codemirror_mode": {
    "name": "ipython",
    "version": 3
   },
   "file_extension": ".py",
   "mimetype": "text/x-python",
   "name": "python",
   "nbconvert_exporter": "python",
   "pygments_lexer": "ipython3",
   "version": "3.7.6"
  }
 },
 "nbformat": 4,
 "nbformat_minor": 4
}
