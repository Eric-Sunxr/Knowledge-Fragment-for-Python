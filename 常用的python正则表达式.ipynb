{
 "cells": [
  {
   "cell_type": "markdown",
   "metadata": {},
   "source": [
    "# 正则表达式\n",
    "\n",
    "正则表达式（Regular Expression）通常被用来检索、替换那些符合某个模式(规则)的文本。\n",
    "\n",
    "此处的Regular即是规则、规律的意思，Regular Expression即“描述某种规则的表达式”之意。\n",
    "\n",
    "本文收集了一些常见的正则表达式用法，方便大家查询取用，并在最后附了详细的正则表达式语法手册。\n",
    "\n",
    "案例包括：**「邮箱、身份证号、手机号码、固定电话、域名、IP地址、日期、邮编、密码、中文字符、数字、字符串」**\n",
    "\n",
    "Python通过re模块支持正则表达式，re 模块使 Python 语言拥有全部的正则表达式功能。\n",
    "\n",
    "这里要注意两个函数的使用：\n",
    "\n",
    "re.compile用于编译正则表达式，生成一个正则表达式（ Pattern ）对象;\n",
    "\n",
    ".findall用于在字符串中找到正则表达式所匹配的所有子串，并返回一个列表，如果没有找到匹配的，则返回空列表。"
   ]
  },
  {
   "cell_type": "code",
   "execution_count": 2,
   "metadata": {},
   "outputs": [],
   "source": [
    "import re"
   ]
  },
  {
   "cell_type": "code",
   "execution_count": 4,
   "metadata": {},
   "outputs": [
    {
     "data": {
      "text/plain": [
       "['zhuwjwh@outlook.com', '123456@qq.org']"
      ]
     },
     "execution_count": 4,
     "metadata": {},
     "output_type": "execute_result"
    }
   ],
   "source": [
    "# 1.邮箱\n",
    "# 包含大小写字母，下划线，阿拉伯数字，点号，中划线\n",
    "# 表达式：\n",
    "# [a-zA-Z0-9_-]+@[a-zA-Z0-9_-]+(?:\\.[a-zA-Z0-9_-]+)\n",
    "pattern=re.compile(r\"[a-zA-Z0-9_-]+@[a-zA-Z0-9_-]+(?:\\.[a-zA-Z0-9_-]+)\")\n",
    "strs='我的私人邮箱是zhuwjwh@outlook.com，公司邮箱是123456@qq.org，麻烦登记一下？'\n",
    "result=pattern.findall(strs)\n",
    "result"
   ]
  },
  {
   "cell_type": "markdown",
   "metadata": {},
   "source": [
    "### 2. 身份证号\n",
    "xxxxxx yyyy MM dd 375 0     十八位\n",
    "\n",
    "- 地区：[1-9]\\d{5}\n",
    "- 年的前两位：(18|19|([23]\\d))       1800-2399\n",
    "- 年的后两位：\\d{2}\n",
    "- 月份：((0[1-9])|(10|11|12))\n",
    "- 天数：(([0-2][1-9])|10|20|30|31)          闰年不能禁止29+\n",
    "- 三位顺序码：\\d{3}\n",
    "- 两位顺序码：\\d{2}\n",
    "- 校验码：[0-9Xx]\n",
    "- 表达式：\n",
    "`[1-9]\\d{5}(18|19|([23]\\d))\\d{2}((0[1-9])|(10|11|12))(([0-2][1-9])|10|20|30|31)\\d{3}[0-9Xx]`"
   ]
  },
  {
   "cell_type": "code",
   "execution_count": 5,
   "metadata": {},
   "outputs": [
    {
     "name": "stdout",
     "output_type": "stream",
     "text": [
      "['342623198910235163']\n"
     ]
    }
   ],
   "source": [
    "pattern = re.compile(r\"[1-9]\\d{5}(?:18|19|(?:[23]\\d))\\d{2}(?:(?:0[1-9])|(?:10|11|12))(?:(?:[0-2][1-9])|10|20|30|31)\\d{3}[0-9Xx]\")\n",
    "\n",
    "strs = '小明的身份证号码是342623198910235163，手机号是13987692110'\n",
    "result = pattern.findall(strs)\n",
    "\n",
    "print(result)"
   ]
  },
  {
   "cell_type": "markdown",
   "metadata": {},
   "source": [
    "### 3. 国内手机号码\n",
    "手机号都为11位，且以1开头，第二位一般为3、5、6、7、8、9 ，剩下八位任意数字\n",
    "例如：13987692110、15610098778\n",
    "\n",
    "表达式：\n",
    "\n",
    "`1(3|4|5|6|7|8|9)\\d{9}`"
   ]
  },
  {
   "cell_type": "code",
   "execution_count": 6,
   "metadata": {},
   "outputs": [
    {
     "name": "stdout",
     "output_type": "stream",
     "text": [
      "['13987692110']\n"
     ]
    }
   ],
   "source": [
    "pattern = re.compile(r\"1[356789]\\d{9}\")\n",
    "\n",
    "strs = '小明的手机号是13987692110，你明天打给他'\n",
    "result = pattern.findall(strs)\n",
    "\n",
    "print(result)"
   ]
  },
  {
   "cell_type": "markdown",
   "metadata": {},
   "source": [
    "### 4. 国内固定电话\n",
    "区号3-4位，号码7-8位\n",
    "\n",
    "例如：0511-1234567、021-87654321\n",
    "\n",
    "表达式：\n",
    "\n",
    "`\\d{3}-\\d{8}|\\d{4}-\\d{7}`"
   ]
  },
  {
   "cell_type": "code",
   "execution_count": 7,
   "metadata": {},
   "outputs": [
    {
     "name": "stdout",
     "output_type": "stream",
     "text": [
      "['0511-1234567', '021-87654321']\n"
     ]
    }
   ],
   "source": [
    "pattern = re.compile(r\"\\d{3}-\\d{8}|\\d{4}-\\d{7}\")\n",
    "\n",
    "strs = '0511-1234567是小明家的电话，他的办公室电话是021-87654321'\n",
    "result = pattern.findall(strs)\n",
    "\n",
    "print(result)"
   ]
  },
  {
   "cell_type": "markdown",
   "metadata": {},
   "source": [
    "### 5. 域名\n",
    "包含http:\\\\或https:\\\\\n",
    "\n",
    "表达式：\n",
    "\n",
    "`(?:(?:http:\\/\\/)|(?:https:\\/\\/))?(?:[\\w](?:[\\w\\-]{0,61}[\\w])?\\.)+[a-zA-Z]{2,6}(?:\\/)`"
   ]
  },
  {
   "cell_type": "code",
   "execution_count": 8,
   "metadata": {},
   "outputs": [
    {
     "name": "stdout",
     "output_type": "stream",
     "text": [
      "['https://www.python.org/']\n"
     ]
    }
   ],
   "source": [
    "pattern = re.compile(r\"(?:(?:http:\\/\\/)|(?:https:\\/\\/))?(?:[\\w](?:[\\w\\-]{0,61}[\\w])?\\.)+[a-zA-Z]{2,6}(?:\\/)\")\n",
    "\n",
    "strs = 'Python官网的网址是https://www.python.org/'\n",
    "result = pattern.findall(strs)\n",
    "\n",
    "print(result)"
   ]
  },
  {
   "cell_type": "markdown",
   "metadata": {},
   "source": [
    "### 6. IP地址\n",
    "IP地址的长度为32位(共有2^32个IP地址)，分为4段，每段8位，用十进制数字表示\n",
    "每段数字范围为0～255，段与段之间用句点隔开　\n",
    "\n",
    "表达式：\n",
    "\n",
    "`((?:(?:25[0-5]|2[0-4]\\d|[01]?\\d?\\d)\\.){3}(?:25[0-5]|2[0-4]\\d|[01]?\\d?\\d))`"
   ]
  },
  {
   "cell_type": "code",
   "execution_count": 9,
   "metadata": {},
   "outputs": [
    {
     "name": "stdout",
     "output_type": "stream",
     "text": [
      "['192.168.8.84', '192.168.8.85', '192.168.8.86', '0.0.0.1', '56.1.1.1', '192.255.255.255']\n"
     ]
    }
   ],
   "source": [
    "pattern = re.compile(r\"((?:(?:25[0-5]|2[0-4]\\d|[01]?\\d?\\d)\\.){3}(?:25[0-5]|2[0-4]\\d|[01]?\\d?\\d))\")\n",
    "\n",
    "strs = '''请输入合法IP地址，非法IP地址和其他字符将被过滤！\n",
    "增、删、改IP地址后，请保存、关闭记事本！\n",
    "192.168.8.84\n",
    "192.168.8.85\n",
    "192.168.8.86\n",
    "0.0.0.1\n",
    "256.1.1.1\n",
    "192.256.256.256\n",
    "192.255.255.255\n",
    "aa.bb.cc.dd'''\n",
    "\n",
    "result = pattern.findall(strs)\n",
    "\n",
    "print(result)"
   ]
  },
  {
   "cell_type": "markdown",
   "metadata": {},
   "source": [
    "### 7. 日期\n",
    "常见日期格式：yyyyMMdd、yyyy-MM-dd、yyyy/MM/dd、yyyy.MM.dd\n",
    "\n",
    "表达式：\n",
    "\n",
    "`\\d{4}(?:-|\\/|.)\\d{1,2}(?:-|\\/|.)\\d{1,2}`"
   ]
  },
  {
   "cell_type": "code",
   "execution_count": 10,
   "metadata": {},
   "outputs": [
    {
     "name": "stdout",
     "output_type": "stream",
     "text": [
      "['2020/12/20', '2019.12.20', '2021-12-20']\n"
     ]
    }
   ],
   "source": [
    "pattern = re.compile(r\"\\d{4}(?:-|\\/|.)\\d{1,2}(?:-|\\/|.)\\d{1,2}\")\n",
    "\n",
    "strs = '今天是2020/12/20，去年的今天是2019.12.20，明年的今天是2021-12-20'\n",
    "result = pattern.findall(strs)\n",
    "\n",
    "print(result)"
   ]
  },
  {
   "cell_type": "markdown",
   "metadata": {},
   "source": [
    "### 8. 国内邮政编码\n",
    "我国的邮政编码采用四级六位数编码结构\n",
    "前两位数字表示省（直辖市、自治区）\n",
    "第三位数字表示邮区；第四位数字表示县（市）\n",
    "最后两位数字表示投递局（所）\n",
    "\n",
    "表达式：\n",
    "\n",
    "`[1-9]\\d{5}(?!\\d)`"
   ]
  },
  {
   "cell_type": "code",
   "execution_count": 11,
   "metadata": {},
   "outputs": [
    {
     "name": "stdout",
     "output_type": "stream",
     "text": [
      "['200040']\n"
     ]
    }
   ],
   "source": [
    "pattern = re.compile(r\"[1-9]\\d{5}(?!\\d)\")\n",
    "\n",
    "strs = '上海静安区邮编是200040'\n",
    "result = pattern.findall(strs)\n",
    "\n",
    "print(result)"
   ]
  },
  {
   "cell_type": "markdown",
   "metadata": {},
   "source": [
    "### 9. 密码\n",
    "密码(以字母开头，长度在6~18之间，只能包含字母、数字和下划线)\n",
    "\n",
    "表达式：\n",
    "\n",
    "`[a-zA-Z]\\w{5,17}`\n",
    "\n",
    "强密码(以字母开头，必须包含大小写字母和数字的组合，不能使用特殊字符，长度在8-10之间)\n",
    "\n",
    "表达式：\n",
    "\n",
    "`[a-zA-Z](?=.*\\d)(?=.*[a-z])(?=.*[A-Z]).{8,10}`"
   ]
  },
  {
   "cell_type": "code",
   "execution_count": 12,
   "metadata": {},
   "outputs": [
    {
     "name": "stdout",
     "output_type": "stream",
     "text": [
      "['q123456_abc']\n"
     ]
    }
   ],
   "source": [
    "pattern = re.compile(r\"[a-zA-Z]\\w{5,17}\")\n",
    "\n",
    "strs = '密码：q123456_abc'\n",
    "result = pattern.findall(strs)\n",
    "\n",
    "print(result)"
   ]
  },
  {
   "cell_type": "code",
   "execution_count": 13,
   "metadata": {},
   "outputs": [
    {
     "name": "stdout",
     "output_type": "stream",
     "text": [
      "['q123456ABc，']\n"
     ]
    }
   ],
   "source": [
    "pattern = re.compile(r\"[a-zA-Z](?=.*\\d)(?=.*[a-z])(?=.*[A-Z]).{8,10}\")\n",
    "\n",
    "strs = '强密码：q123456ABc，弱密码：q123456abc'\n",
    "result = pattern.findall(strs)\n",
    "\n",
    "print(result)"
   ]
  },
  {
   "cell_type": "markdown",
   "metadata": {},
   "source": [
    "### 10. 中文字符\n",
    "表达式：\n",
    "\n",
    "`[\\u4e00-\\u9fa5]`"
   ]
  },
  {
   "cell_type": "code",
   "execution_count": 14,
   "metadata": {},
   "outputs": [
    {
     "name": "stdout",
     "output_type": "stream",
     "text": [
      "['苹', '果']\n"
     ]
    }
   ],
   "source": [
    "pattern = re.compile(r\"[\\u4e00-\\u9fa5]\")\n",
    "\n",
    "strs = 'apple：苹果'\n",
    "result = pattern.findall(strs)\n",
    "\n",
    "print(result)"
   ]
  },
  {
   "cell_type": "markdown",
   "metadata": {},
   "source": [
    "### 11. 数字\n",
    "```python\n",
    "- 验证数字：^[0-9]*$\n",
    "- 验证n位的数字：^\\d{n}$\n",
    "- 验证至少n位数字：^\\d{n,}$\n",
    "- 验证m-n位的数字：^\\d{m,n}$\n",
    "- 验证零和非零开头的数字：^(0|[1-9][0-9]*)$\n",
    "- 验证有两位小数的正实数：^[0-9]+(.[0-9]{2})?$\n",
    "- 验证有1-3位小数的正实数：^[0-9]+(.[0-9]{1,3})?$\n",
    "- 验证非零的正整数：^\\+?[1-9][0-9]*$\n",
    "- 验证非零的负整数：^\\-[1-9][0-9]*$\n",
    "- 验证非负整数（正整数 + 0） ^\\d+$\n",
    "- 验证非正整数（负整数 + 0） ^((-\\d+)|(0+))$\n",
    "- 整数：^-?\\d+$\n",
    "- 非负浮点数（正浮点数 + 0）：^\\d+(\\.\\d+)?$\n",
    "- 正浮点数 ^(([0-9]+\\.[0-9]*[1-9][0-9]*)|([0-9]*[1-9][0-9]*\\.[0-9]+)|([0-9]*[1-9][0-9]*))$\n",
    "- 非正浮点数（负浮点数 + 0） ^((-\\d+(\\.\\d+)?)|(0+(\\.0+)?))$\n",
    "- 负浮点数 ^(-(([0-9]+\\.[0-9]*[1-9][0-9]*)|([0-9]*[1-9][0-9]*\\.[0-9]+)|([0-9]*[1-9][0-9]*)))$\n",
    "- 浮点数 ^(-?\\d+)(\\.\\d+)?$\n",
    "- 12. 字符串\n",
    "- 英文和数字：^[A-Za-z0-9]+$ 或 ^[A-Za-z0-9]{4,40}$\n",
    "- 长度为3-20的所有字符：^.{3,20}$\n",
    "- 由26个英文字母组成的字符串：^[A-Za-z]+$\n",
    "- 由26个大写英文字母组成的字符串：^[A-Z]+$\n",
    "- 由26个小写英文字母组成的字符串：^[a-z]+$\n",
    "- 由数字和26个英文字母组成的字符串：^[A-Za-z0-9]+$\n",
    "- 由数字、26个英文字母或者下划线组成的字符串：^\\w+$ 或 ^\\w{3,20}$\n",
    "- 中文、英文、数字包括下划线：^[\\u4E00-\\u9FA5A-Za-z0-9_]+$\n",
    "- 中文、英文、数字但不包括下划线等符号：^[\\u4E00-\\u9FA5A-Za-z0-9]+$ 或 ^[\\u4E00-\\u9FA5A-Za-z0-9]{2,20}$\n",
    "- 可以输入含有^%&',;=?$\\”等字符：`[^%&',;=?$\\x22]+`\n",
    "- 禁止输入含有~的字符：[^~\\x22]+\n",
    "```"
   ]
  },
  {
   "cell_type": "code",
   "execution_count": null,
   "metadata": {},
   "outputs": [],
   "source": []
  },
  {
   "cell_type": "code",
   "execution_count": null,
   "metadata": {},
   "outputs": [],
   "source": []
  }
 ],
 "metadata": {
  "kernelspec": {
   "display_name": "Python 3",
   "language": "python",
   "name": "python3"
  },
  "language_info": {
   "codemirror_mode": {
    "name": "ipython",
    "version": 3
   },
   "file_extension": ".py",
   "mimetype": "text/x-python",
   "name": "python",
   "nbconvert_exporter": "python",
   "pygments_lexer": "ipython3",
   "version": "3.7.6"
  },
  "varInspector": {
   "cols": {
    "lenName": 16,
    "lenType": 16,
    "lenVar": 40
   },
   "kernels_config": {
    "python": {
     "delete_cmd_postfix": "",
     "delete_cmd_prefix": "del ",
     "library": "var_list.py",
     "varRefreshCmd": "print(var_dic_list())"
    },
    "r": {
     "delete_cmd_postfix": ") ",
     "delete_cmd_prefix": "rm(",
     "library": "var_list.r",
     "varRefreshCmd": "cat(var_dic_list()) "
    }
   },
   "types_to_exclude": [
    "module",
    "function",
    "builtin_function_or_method",
    "instance",
    "_Feature"
   ],
   "window_display": false
  }
 },
 "nbformat": 4,
 "nbformat_minor": 4
}
