{
 "cells": [
  {
   "cell_type": "markdown",
   "metadata": {},
   "source": [
    "今天扼要总结一个处理csv文件乱码问题，可能你有类似经历，用excel打开一个csv文件，中文全部显示乱码。然后，手动用notepad++打开，修改编码为utf-8并保存后，再用excel打开显示正常。\n",
    "\n",
    "今天使用Python，很少代码就能将上面过程自动化。首先，导入3个模块："
   ]
  },
  {
   "cell_type": "code",
   "execution_count": 1,
   "metadata": {},
   "outputs": [],
   "source": [
    "import pandas as pd\n",
    "import os\n",
    "import chardet\n",
    "# chardet 模块用于得到文件的编码格式，pandas 按照这个格式读取，然后保存为xlsx格式。"
   ]
  },
  {
   "cell_type": "code",
   "execution_count": 2,
   "metadata": {},
   "outputs": [],
   "source": [
    "# 获取filename文件的编码格式：\n",
    "def get_encoding(filename):\n",
    "    \"\"\"\n",
    "    返回文件编码格式\n",
    "    \"\"\"\n",
    "    with open(filename,'rb') as f:\n",
    "        return chardet.detect(f.read())['encoding']"
   ]
  },
  {
   "cell_type": "markdown",
   "metadata": {},
   "source": [
    "保存为utf-8编码xlsx格式文件，支持csv, xls, xlsx 格式的文件乱码处理。需要注意，如果读入文件为csv格式，保存时要使用xlsx格式："
   ]
  },
  {
   "cell_type": "code",
   "execution_count": 3,
   "metadata": {},
   "outputs": [],
   "source": [
    "def to_utf8(filename):\n",
    "    \"\"\"\n",
    "    保存为to_utf8\n",
    "    \"\"\"\n",
    "    encoding=get_encoding(filename)\n",
    "    ext=os.path.splitext(filename)\n",
    "    if ext[1]=='.csv':\n",
    "        if 'gb' in encoding or 'GB' in encoding:\n",
    "            df=pd.read_csv(filename,engine='python',encoding='GBK')\n",
    "        else:\n",
    "            df=pd.read_csv(filename,engine='python',encoding='utf-8')\n",
    "        df.to_excel(ext[0]+'.xlsx')\n",
    "    elif ext[1]=='.xls' or ext[1]=='.xlsx':\n",
    "        if 'gb' in encoding or 'GB' in encoding:\n",
    "            df=pd.read_excel(filename,encoding='GBK')\n",
    "        else:\n",
    "            df=pd.read_excel(filename,encoding='utf-8')\n",
    "        df.to_excel(filename)\n",
    "    else:\n",
    "        print('only support csv,xls,xlsx format')"
   ]
  },
  {
   "cell_type": "markdown",
   "metadata": {},
   "source": [
    "上面函数实现单个文件转化，下面batch_to_utf8 实现目录 path 下所有后缀为ext_name文件的批量乱码转化："
   ]
  },
  {
   "cell_type": "code",
   "execution_count": 4,
   "metadata": {},
   "outputs": [],
   "source": [
    "def batch_to_utf8(path,ext_name='csv'):\n",
    "    \"\"\"\n",
    "    path下，后缀为 ext_name的乱码文件，批量转化为可读文件\n",
    "    \"\"\"\n",
    "    for file in os.listdir(path):\n",
    "        if os.path.splitext(file)[1]=='.'+ext_name:\n",
    "            to_utf8(os.path.join(path,file))"
   ]
  },
  {
   "cell_type": "markdown",
   "metadata": {},
   "source": [
    "调用"
   ]
  },
  {
   "cell_type": "code",
   "execution_count": null,
   "metadata": {},
   "outputs": [],
   "source": [
    "if __name__ =='__main__':\n",
    "    batch_to_utf8('.')\n",
    "    # 对当前目录下的所有csv文件保存为xlsx格式,utf-8编码的文件"
   ]
  },
  {
   "cell_type": "code",
   "execution_count": null,
   "metadata": {},
   "outputs": [],
   "source": []
  },
  {
   "cell_type": "code",
   "execution_count": null,
   "metadata": {},
   "outputs": [],
   "source": []
  },
  {
   "cell_type": "code",
   "execution_count": null,
   "metadata": {},
   "outputs": [],
   "source": []
  },
  {
   "cell_type": "code",
   "execution_count": null,
   "metadata": {},
   "outputs": [],
   "source": []
  },
  {
   "cell_type": "code",
   "execution_count": null,
   "metadata": {},
   "outputs": [],
   "source": []
  }
 ],
 "metadata": {
  "kernelspec": {
   "display_name": "Python 3",
   "language": "python",
   "name": "python3"
  },
  "language_info": {
   "codemirror_mode": {
    "name": "ipython",
    "version": 3
   },
   "file_extension": ".py",
   "mimetype": "text/x-python",
   "name": "python",
   "nbconvert_exporter": "python",
   "pygments_lexer": "ipython3",
   "version": "3.7.6"
  },
  "varInspector": {
   "cols": {
    "lenName": 16,
    "lenType": 16,
    "lenVar": 40
   },
   "kernels_config": {
    "python": {
     "delete_cmd_postfix": "",
     "delete_cmd_prefix": "del ",
     "library": "var_list.py",
     "varRefreshCmd": "print(var_dic_list())"
    },
    "r": {
     "delete_cmd_postfix": ") ",
     "delete_cmd_prefix": "rm(",
     "library": "var_list.r",
     "varRefreshCmd": "cat(var_dic_list()) "
    }
   },
   "types_to_exclude": [
    "module",
    "function",
    "builtin_function_or_method",
    "instance",
    "_Feature"
   ],
   "window_display": false
  }
 },
 "nbformat": 4,
 "nbformat_minor": 4
}
