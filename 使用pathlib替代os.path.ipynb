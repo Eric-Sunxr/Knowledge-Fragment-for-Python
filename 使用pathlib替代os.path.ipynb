{
 "cells": [
  {
   "cell_type": "markdown",
   "id": "13acd826",
   "metadata": {},
   "source": [
    "### 1、打印当前的路径"
   ]
  },
  {
   "cell_type": "code",
   "execution_count": 4,
   "id": "9a5142b6",
   "metadata": {},
   "outputs": [],
   "source": [
    "import os\n",
    "from pathlib import Path"
   ]
  },
  {
   "cell_type": "code",
   "execution_count": 2,
   "id": "96f9cb6a",
   "metadata": {},
   "outputs": [
    {
     "data": {
      "text/plain": [
       "'D:\\\\Interesting_Program_GitHub'"
      ]
     },
     "execution_count": 2,
     "metadata": {},
     "output_type": "execute_result"
    }
   ],
   "source": [
    "os.getcwd()"
   ]
  },
  {
   "cell_type": "code",
   "execution_count": 5,
   "id": "0813f833",
   "metadata": {},
   "outputs": [
    {
     "data": {
      "text/plain": [
       "WindowsPath('D:/Interesting_Program_GitHub')"
      ]
     },
     "execution_count": 5,
     "metadata": {},
     "output_type": "execute_result"
    }
   ],
   "source": [
    "Path.cwd()"
   ]
  },
  {
   "cell_type": "code",
   "execution_count": 6,
   "id": "4f029406",
   "metadata": {},
   "outputs": [
    {
     "name": "stdout",
     "output_type": "stream",
     "text": [
      "D:\\Interesting_Program_GitHub\n"
     ]
    }
   ],
   "source": [
    "print(Path.cwd())"
   ]
  },
  {
   "cell_type": "markdown",
   "id": "4b821ef5",
   "metadata": {},
   "source": [
    "### 2.判断路径是否存在"
   ]
  },
  {
   "cell_type": "code",
   "execution_count": 7,
   "id": "61a69211",
   "metadata": {},
   "outputs": [
    {
     "data": {
      "text/plain": [
       "True"
      ]
     },
     "execution_count": 7,
     "metadata": {},
     "output_type": "execute_result"
    }
   ],
   "source": [
    "os.path.exists(\"D://CloudMusic\")"
   ]
  },
  {
   "cell_type": "code",
   "execution_count": 8,
   "id": "4268120a",
   "metadata": {},
   "outputs": [
    {
     "data": {
      "text/plain": [
       "True"
      ]
     },
     "execution_count": 8,
     "metadata": {},
     "output_type": "execute_result"
    }
   ],
   "source": [
    "tmp=Path(\"D://CloudMusic\")\n",
    "tmp.exists()"
   ]
  },
  {
   "cell_type": "markdown",
   "id": "8080057d",
   "metadata": {},
   "source": [
    "### 3.显示文件夹的内容"
   ]
  },
  {
   "cell_type": "code",
   "execution_count": 9,
   "id": "f57d864c",
   "metadata": {
    "scrolled": true
   },
   "outputs": [
    {
     "data": {
      "text/plain": [
       "['Anaconda3',\n",
       " 'BaiduNetdisk',\n",
       " 'Bandzip',\n",
       " 'CloudMusic',\n",
       " 'Dict',\n",
       " 'expressvpn',\n",
       " 'FinalShell',\n",
       " 'IQIYI Video',\n",
       " 'MobaXterm',\n",
       " 'Mubu',\n",
       " 'MusicTools',\n",
       " 'pycharm_community',\n",
       " 'pycharm_professional',\n",
       " 'Steam',\n",
       " 'Thunder',\n",
       " 'VS2019',\n",
       " 'XShell',\n",
       " 'Youku Files',\n",
       " 'YoukuClient',\n",
       " 'Zotero',\n",
       " '信工所VPN',\n",
       " '天若',\n",
       " '易考']"
      ]
     },
     "execution_count": 9,
     "metadata": {},
     "output_type": "execute_result"
    }
   ],
   "source": [
    "os.listdir(\"D:\\Software\")"
   ]
  },
  {
   "cell_type": "code",
   "execution_count": 10,
   "id": "91d84319",
   "metadata": {},
   "outputs": [
    {
     "data": {
      "text/plain": [
       "<generator object Path.iterdir at 0x00000178972CAC80>"
      ]
     },
     "execution_count": 10,
     "metadata": {},
     "output_type": "execute_result"
    }
   ],
   "source": [
    "tmp=Path(\"D:\\Software\")\n",
    "tmp.iterdir()#可以看出 Path().iterdir 返回的是一个生成器，这在目录内文件特别多的时候可以大大节省内存，提升效率。"
   ]
  },
  {
   "cell_type": "code",
   "execution_count": 11,
   "id": "7197387c",
   "metadata": {},
   "outputs": [
    {
     "data": {
      "text/plain": [
       "[WindowsPath('D:/Software/Anaconda3'),\n",
       " WindowsPath('D:/Software/BaiduNetdisk'),\n",
       " WindowsPath('D:/Software/Bandzip'),\n",
       " WindowsPath('D:/Software/CloudMusic'),\n",
       " WindowsPath('D:/Software/Dict'),\n",
       " WindowsPath('D:/Software/expressvpn'),\n",
       " WindowsPath('D:/Software/FinalShell'),\n",
       " WindowsPath('D:/Software/IQIYI Video'),\n",
       " WindowsPath('D:/Software/MobaXterm'),\n",
       " WindowsPath('D:/Software/Mubu'),\n",
       " WindowsPath('D:/Software/MusicTools'),\n",
       " WindowsPath('D:/Software/pycharm_community'),\n",
       " WindowsPath('D:/Software/pycharm_professional'),\n",
       " WindowsPath('D:/Software/Steam'),\n",
       " WindowsPath('D:/Software/Thunder'),\n",
       " WindowsPath('D:/Software/VS2019'),\n",
       " WindowsPath('D:/Software/XShell'),\n",
       " WindowsPath('D:/Software/Youku Files'),\n",
       " WindowsPath('D:/Software/YoukuClient'),\n",
       " WindowsPath('D:/Software/Zotero'),\n",
       " WindowsPath('D:/Software/信工所VPN'),\n",
       " WindowsPath('D:/Software/天若'),\n",
       " WindowsPath('D:/Software/易考')]"
      ]
     },
     "execution_count": 11,
     "metadata": {},
     "output_type": "execute_result"
    }
   ],
   "source": [
    "list(tmp.iterdir())"
   ]
  },
  {
   "cell_type": "markdown",
   "id": "d8723bd5",
   "metadata": {},
   "source": [
    "### 4.通配符支持\n",
    "\n",
    "os 不支持含有通配符的路径，但 pathlib 可以："
   ]
  },
  {
   "cell_type": "code",
   "execution_count": 13,
   "id": "3348f6b5",
   "metadata": {},
   "outputs": [
    {
     "data": {
      "text/plain": [
       "[WindowsPath('D:/Software/Bandzip/Arkview.x64.exe'),\n",
       " WindowsPath('D:/Software/Bandzip/Bandizip.exe'),\n",
       " WindowsPath('D:/Software/Bandzip/bz.exe'),\n",
       " WindowsPath('D:/Software/Bandzip/Uninstall.exe'),\n",
       " WindowsPath('D:/Software/Bandzip/Updater.exe')]"
      ]
     },
     "execution_count": 13,
     "metadata": {},
     "output_type": "execute_result"
    }
   ],
   "source": [
    "list(Path(\"D:\\Software\\Bandzip\").glob(\"*.exe\"))"
   ]
  },
  {
   "cell_type": "markdown",
   "id": "39fb2a19",
   "metadata": {},
   "source": [
    "### 5.便捷的文件读写操作\n",
    "这是 pathlib 特有的："
   ]
  },
  {
   "cell_type": "code",
   "execution_count": 17,
   "id": "e409c0cd",
   "metadata": {},
   "outputs": [
    {
     "data": {
      "text/plain": [
       "'This is a sentence.'"
      ]
     },
     "execution_count": 17,
     "metadata": {},
     "output_type": "execute_result"
    }
   ],
   "source": [
    "f = Path('data/test.txt')\n",
    "f.write_text('This is a sentence.')\n",
    "f.read_text()"
   ]
  },
  {
   "cell_type": "code",
   "execution_count": 20,
   "id": "10cf908c",
   "metadata": {},
   "outputs": [
    {
     "name": "stdout",
     "output_type": "stream",
     "text": [
      "This is a sentence.\n"
     ]
    }
   ],
   "source": [
    "#也可以使用with语句\n",
    "p=Path('data/test.txt')\n",
    "with p.open() as f: \n",
    "    data=f.readline()\n",
    "    print(data)"
   ]
  },
  {
   "cell_type": "code",
   "execution_count": null,
   "id": "25904dc2",
   "metadata": {},
   "outputs": [],
   "source": []
  },
  {
   "cell_type": "code",
   "execution_count": null,
   "id": "58444e80",
   "metadata": {},
   "outputs": [],
   "source": []
  },
  {
   "cell_type": "code",
   "execution_count": null,
   "id": "aca2480b",
   "metadata": {},
   "outputs": [],
   "source": []
  }
 ],
 "metadata": {
  "kernelspec": {
   "display_name": "Python 3",
   "language": "python",
   "name": "python3"
  },
  "language_info": {
   "codemirror_mode": {
    "name": "ipython",
    "version": 3
   },
   "file_extension": ".py",
   "mimetype": "text/x-python",
   "name": "python",
   "nbconvert_exporter": "python",
   "pygments_lexer": "ipython3",
   "version": "3.8.8"
  }
 },
 "nbformat": 4,
 "nbformat_minor": 5
}
