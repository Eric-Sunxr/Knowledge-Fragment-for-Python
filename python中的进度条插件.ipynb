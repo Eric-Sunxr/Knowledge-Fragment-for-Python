{
 "cells": [
  {
   "cell_type": "markdown",
   "metadata": {},
   "source": [
    "# Progress\n",
    "你只需要定义迭代的次数、进度条类型并在每次迭代时告知进度条。"
   ]
  },
  {
   "cell_type": "code",
   "execution_count": 1,
   "metadata": {},
   "outputs": [
    {
     "name": "stdout",
     "output_type": "stream",
     "text": [
      "Requirement already satisfied: progress in f:\\anaconda\\lib\\site-packages (1.5)\n"
     ]
    }
   ],
   "source": [
    "!pip install progress"
   ]
  },
  {
   "cell_type": "code",
   "execution_count": 3,
   "metadata": {},
   "outputs": [
    {
     "name": "stdout",
     "output_type": "stream",
     "text": [
      "1\n",
      "2\n",
      "3\n",
      "4\n",
      "5\n",
      "6\n",
      "7\n",
      "8\n"
     ]
    }
   ],
   "source": [
    "from progress.bar import IncrementalBar\n",
    "import time\n",
    "\n",
    "mylist=[1,2,3,4,5,6,7,8]\n",
    "bar=IncrementalBar('Bar',max=len(mylist))\n",
    "for item in mylist:\n",
    "    bar.next()\n",
    "    print(item)\n",
    "    time.sleep(1)\n",
    "    bar.finish()"
   ]
  },
  {
   "cell_type": "code",
   "execution_count": 7,
   "metadata": {},
   "outputs": [],
   "source": [
    "from progress.bar import Bar\n",
    "\n",
    "with Bar('Processing', max=20) as bar:\n",
    "    for i in range(20):\n",
    "        # Do some work\n",
    "        bar.next()"
   ]
  },
  {
   "cell_type": "markdown",
   "metadata": {},
   "source": [
    "# tqdm"
   ]
  },
  {
   "cell_type": "code",
   "execution_count": 9,
   "metadata": {},
   "outputs": [
    {
     "name": "stderr",
     "output_type": "stream",
     "text": [
      "100%|████████████████████████████████████████████████████████████████████████████████████| 8/8 [00:08<00:00,  1.00s/it]\n"
     ]
    }
   ],
   "source": [
    "from tqdm import tqdm\n",
    "mylist = [1,2,3,4,5,6,7,8]\n",
    "for i in tqdm(mylist):\n",
    "    time.sleep(1)"
   ]
  },
  {
   "cell_type": "markdown",
   "metadata": {},
   "source": [
    "# Alive Progress"
   ]
  },
  {
   "cell_type": "code",
   "execution_count": 11,
   "metadata": {},
   "outputs": [
    {
     "name": "stdout",
     "output_type": "stream",
     "text": [
      "Requirement already satisfied: alive_progress in f:\\anaconda\\lib\\site-packages (1.6.1)\n"
     ]
    }
   ],
   "source": [
    "!pip install alive_progress"
   ]
  },
  {
   "cell_type": "code",
   "execution_count": 18,
   "metadata": {},
   "outputs": [],
   "source": [
    "from alive_progress import alive_bar\n",
    "import time\n",
    "mylist = [1,2,3,4,5,6,7,8]\n",
    "with alive_bar(len(mylist)) as bar: \n",
    "    for i in mylist: \n",
    "        bar()\n",
    "        print(i)\n",
    "        time.sleep(1)\n",
    "        \n",
    "#很奇怪，也运行不出来"
   ]
  },
  {
   "cell_type": "markdown",
   "metadata": {},
   "source": [
    "# PySimpleGUI"
   ]
  },
  {
   "cell_type": "markdown",
   "metadata": {},
   "source": [
    "**用 PySimpleGUI 得到图形化进度条**\n",
    "\n",
    "我们可以加一行简单的代码，在命令行脚本中得到图形化进度条。"
   ]
  },
  {
   "cell_type": "code",
   "execution_count": 19,
   "metadata": {},
   "outputs": [],
   "source": [
    "!pip install PySimpleGUI"
   ]
  },
  {
   "cell_type": "code",
   "execution_count": 22,
   "metadata": {},
   "outputs": [],
   "source": [
    "import PySimpleGUI as sg\n",
    "import time\n",
    "mylist = [1,2,3,4,5,6,7,8]\n",
    "for i, item in enumerate(mylist): \n",
    "    sg.one_line_progress_meter('This is my progress meter!', i+1, len(mylist), '-key-') \n",
    "    time.sleep(1)"
   ]
  },
  {
   "cell_type": "markdown",
   "metadata": {},
   "source": [
    "# 这个可视化界面好用，还可以控制程序的开始和结束"
   ]
  },
  {
   "cell_type": "code",
   "execution_count": 24,
   "metadata": {},
   "outputs": [],
   "source": [
    "import PySimpleGUI as sg\n",
    "import time\n",
    "mylist = [1,2,3,4,5,6,7,8]\n",
    "progressbar = [ [sg.ProgressBar(len(mylist), orientation='h', size=(51, 10), key='progressbar')]]\n",
    "outputwin = [ [sg.Output(size=(78,20))]]\n",
    "layout = [ [sg.Frame('Progress',layout= progressbar)], [sg.Frame('Output', layout = outputwin)], [sg.Submit('Start'),sg.Cancel()]]\n",
    "window = sg.Window('Custom Progress Meter', layout)\n",
    "progress_bar = window['progressbar'] \n",
    "while True: \n",
    "    event, values = window.read(timeout=10) \n",
    "    if event == 'Cancel' or event is None: \n",
    "        break \n",
    "    elif event == 'Start': \n",
    "        for i,item in enumerate(mylist): \n",
    "            print(item) \n",
    "            time.sleep(1) \n",
    "            progress_bar.UpdateBar(i + 1)\n",
    "window.close()"
   ]
  },
  {
   "cell_type": "code",
   "execution_count": null,
   "metadata": {},
   "outputs": [],
   "source": []
  },
  {
   "cell_type": "code",
   "execution_count": null,
   "metadata": {},
   "outputs": [],
   "source": []
  }
 ],
 "metadata": {
  "kernelspec": {
   "display_name": "Python 3",
   "language": "python",
   "name": "python3"
  },
  "language_info": {
   "codemirror_mode": {
    "name": "ipython",
    "version": 3
   },
   "file_extension": ".py",
   "mimetype": "text/x-python",
   "name": "python",
   "nbconvert_exporter": "python",
   "pygments_lexer": "ipython3",
   "version": "3.7.6"
  },
  "varInspector": {
   "cols": {
    "lenName": 16,
    "lenType": 16,
    "lenVar": 40
   },
   "kernels_config": {
    "python": {
     "delete_cmd_postfix": "",
     "delete_cmd_prefix": "del ",
     "library": "var_list.py",
     "varRefreshCmd": "print(var_dic_list())"
    },
    "r": {
     "delete_cmd_postfix": ") ",
     "delete_cmd_prefix": "rm(",
     "library": "var_list.r",
     "varRefreshCmd": "cat(var_dic_list()) "
    }
   },
   "types_to_exclude": [
    "module",
    "function",
    "builtin_function_or_method",
    "instance",
    "_Feature"
   ],
   "window_display": false
  }
 },
 "nbformat": 4,
 "nbformat_minor": 4
}
