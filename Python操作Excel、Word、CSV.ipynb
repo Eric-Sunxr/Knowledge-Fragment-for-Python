{
 "cells": [
  {
   "cell_type": "markdown",
   "metadata": {},
   "source": [
    "# xlrd & xlwt & xlutils 介绍\n",
    "- xlrd：用于读取 Excel 文件；\n",
    "- xlwt：用于写入 Excel 文件；\n",
    "* xlutils：用于操作 Excel 文件的实用工具，比如复制、分割、筛选等；"
   ]
  },
  {
   "cell_type": "markdown",
   "metadata": {},
   "source": [
    "## 写入Excel"
   ]
  },
  {
   "cell_type": "code",
   "execution_count": 4,
   "metadata": {},
   "outputs": [],
   "source": [
    "#导入xlwt库\n",
    "import xlwt\n",
    "#创建xls文件对象\n",
    "wb=xlwt.Workbook()\n",
    "#新增两个表单页\n",
    "sh1=wb.add_sheet('成绩')\n",
    "sh2=wb.add_sheet('汇总')\n",
    "# 然后按照位置来添加数据,第一个参数是行，第二个参数是列\n",
    "# 写入第一个sheet\n",
    "sh1.write(0,0,'姓名')\n",
    "sh1.write(0,1,'专业')\n",
    "sh1.write(0,2,'科目')\n",
    "sh1.write(0,3,'成绩')\n",
    "\n",
    "sh1.write(1, 0, '张三')\n",
    "sh1.write(1, 1, '信息与通信工程')\n",
    "sh1.write(1, 2, '数值分析')\n",
    "sh1.write(1, 3, 88)\n",
    "\n",
    "sh1.write(2, 0, '李四')\n",
    "sh1.write(2, 1, '物联网工程')\n",
    "sh1.write(2, 2, '数字信号处理分析')\n",
    "sh1.write(2, 3, 95)\n",
    "\n",
    "sh1.write(3, 0, '王华')\n",
    "sh1.write(3, 1, '电子与通信工程')\n",
    "sh1.write(3, 2, '模糊数学')\n",
    "sh1.write(3, 3, 90)\n",
    "\n",
    "# 写入第二个sheet\n",
    "sh2.write(0, 0, '总分')\n",
    "sh2.write(1, 0, 273)\n",
    "\n",
    "# 最后保存文件即可\n",
    "wb.save('test.xls')"
   ]
  },
  {
   "cell_type": "markdown",
   "metadata": {},
   "source": [
    "## 读取Excel"
   ]
  },
  {
   "cell_type": "code",
   "execution_count": 9,
   "metadata": {},
   "outputs": [],
   "source": [
    "import xlrd\n",
    "# 打开刚才我们写入的 test_w.xls 文件\n",
    "wb=xlrd.open_workbook(\"test.xls\")"
   ]
  },
  {
   "cell_type": "code",
   "execution_count": 16,
   "metadata": {},
   "outputs": [
    {
     "name": "stdout",
     "output_type": "stream",
     "text": [
      "sheet 数量： 2\n",
      "sheet 名称： ['成绩', '汇总']\n",
      "sheet 成绩 共 4 行 4 列\n"
     ]
    }
   ],
   "source": [
    "# 获取并打印 sheet 数量\n",
    "print(\"sheet 数量：\",wb.nsheets)\n",
    "# 获取并打印 sheet 名称\n",
    "print(\"sheet 名称：\",wb.sheet_names())\n",
    "# 根据 sheet 索引获取内容\n",
    "# sh1=wb.sheet_by_index(0)\n",
    "# 或者\n",
    "# 也可根据 sheet 名称获取内容\n",
    "sh1 = wb.sheet_by_name('成绩')\n",
    "# 获取并打印该 sheet 行数和列数\n",
    "print(u\"sheet %s 共 %d 行 %d 列\" %(sh1.name,sh1.nrows,sh1.ncols))"
   ]
  },
  {
   "cell_type": "code",
   "execution_count": 17,
   "metadata": {},
   "outputs": [
    {
     "name": "stdout",
     "output_type": "stream",
     "text": [
      "第一行第二列的值为: 专业\n"
     ]
    }
   ],
   "source": [
    "# 获取并打印某个单元格的值\n",
    "print( \"第一行第二列的值为:\", sh1.cell_value(0, 1))"
   ]
  },
  {
   "cell_type": "code",
   "execution_count": 21,
   "metadata": {},
   "outputs": [
    {
     "data": {
      "text/plain": [
       "['姓名', '专业', '科目', '成绩']"
      ]
     },
     "execution_count": 21,
     "metadata": {},
     "output_type": "execute_result"
    }
   ],
   "source": [
    "# 获取整行或整列的值\n",
    "rows=sh1.row_values(0)#获取第一行内容\n",
    "cols=sh1.col_values(1)#获取第二列内容\n",
    "rows"
   ]
  },
  {
   "cell_type": "code",
   "execution_count": 23,
   "metadata": {},
   "outputs": [
    {
     "name": "stdout",
     "output_type": "stream",
     "text": [
      "第二行第一列的值类型为： 1\n",
      "[text:'姓名', text:'专业', text:'科目', text:'成绩']\n",
      "[text:'张三', text:'信息与通信工程', text:'数值分析', number:88.0]\n",
      "[text:'李四', text:'物联网工程', text:'数字信号处理分析', number:95.0]\n",
      "[text:'王华', text:'电子与通信工程', text:'模糊数学', number:90.0]\n",
      "[text:'姓名', text:'专业', text:'科目', text:'成绩']\n",
      "[text:'张三', text:'信息与通信工程', text:'数值分析', number:88.0]\n",
      "[text:'李四', text:'物联网工程', text:'数字信号处理分析', number:95.0]\n",
      "[text:'王华', text:'电子与通信工程', text:'模糊数学', number:90.0]\n"
     ]
    }
   ],
   "source": [
    "# 获取单元格内容的数据类型\n",
    "print(\"第二行第一列的值类型为：\",sh1.cell(1,0).ctype)\n",
    "\n",
    "#遍历所有表单内容\n",
    "for sh1 in wb.sheets():\n",
    "    for r in range(sh.nrows):\n",
    "        #输出指定行\n",
    "        print(sh.row(r))"
   ]
  },
  {
   "cell_type": "markdown",
   "metadata": {},
   "source": [
    "  ### 类型返回数字\n",
    "    |数值\t|类型\t| 说明 |\n",
    "    |0\t| empty\t| 空 |\n",
    "    |1\t| string\t| 字符串 |\n",
    "    |2\t| number\t| 数字 |\n",
    "    |3\t| date\t| 日期 |\n",
    "    |4\t| boolean\t| 布尔值 |\n",
    "    |5\t| error\t| 错误 |"
   ]
  },
  {
   "cell_type": "markdown",
   "metadata": {},
   "source": [
    "## 修改 excel"
   ]
  },
  {
   "cell_type": "markdown",
   "metadata": {},
   "source": [
    "上面说了写入和读取 Excel 内容，接下来我们就说下更新修改 Excel 该如何操作，修改时就需要用到 xlutils 中的方法了。直接上代码，来看下最简单的修改操作："
   ]
  },
  {
   "cell_type": "code",
   "execution_count": 24,
   "metadata": {},
   "outputs": [],
   "source": [
    "#导入相应模块\n",
    "import xlrd\n",
    "from xlutils.copy import copy\n",
    "\n",
    "# 打开excel\n",
    "readbook=xlrd.open_workbook(\"test.xls\")\n",
    "#复制一份\n",
    "wb=copy(readbook)\n",
    "#选取第一个表单\n",
    "sh1=wb.get_sheet(0)\n",
    "#在第五行新增写入数据\n",
    "sh1.write(4, 0, '王欢')\n",
    "sh1.write(4, 1, '通信工程')\n",
    "sh1.write(4, 2, '机器学习')\n",
    "sh1.write(4, 3, 89)\n",
    "# 选取第二个表单\n",
    "sh1 = wb.get_sheet(1)\n",
    "\n",
    "# 替换总成绩数据\n",
    "sh1.write(1, 0, 362)\n",
    "\n",
    "# 保存\n",
    "wb.save('test.xls')"
   ]
  },
  {
   "cell_type": "markdown",
   "metadata": {},
   "source": [
    "## 格式转换操作\n",
    "\n",
    "在平时我们使用 Excel 时会对数据进行一下格式化，或者样式设置，在这里把上面介绍写入的代码简单修改下，使输出的格式稍微改变一下，代码如下："
   ]
  },
  {
   "cell_type": "code",
   "execution_count": 26,
   "metadata": {},
   "outputs": [],
   "source": [
    "# 导入 xlwt 库\n",
    "import xlwt\n",
    "\n",
    "# 设置写出格式字体红色加粗\n",
    "styleBR = xlwt.easyxf('font: name Times New Roman, color-index red, bold on')\n",
    "\n",
    "# 设置数字型格式为小数点后保留两位\n",
    "styleNum = xlwt.easyxf(num_format_str='#,##0.00')\n",
    "\n",
    "# 设置日期型格式显示为YYYY-MM-DD\n",
    "styleDate = xlwt.easyxf(num_format_str='YYYY-MM-DD')\n",
    "\n",
    "# 创建 xls 文件对象\n",
    "wb = xlwt.Workbook()\n",
    "\n",
    "# 新增两个表单页\n",
    "sh1 = wb.add_sheet('成绩')\n",
    "sh2 = wb.add_sheet('汇总')\n",
    "\n",
    "# 然后按照位置来添加数据,第一个参数是行，第二个参数是列\n",
    "sh1.write(0, 0, '姓名', styleBR)   # 设置表头字体为红色加粗\n",
    "sh1.write(0, 1, '日期', styleBR)   # 设置表头字体为红色加粗\n",
    "sh1.write(0, 2, '成绩', styleBR)   # 设置表头字体为红色加粗\n",
    "\n",
    "# 插入数据\n",
    "sh1.write(1, 0, '张三',)\n",
    "sh1.write(1, 1, '2020-07-01', styleDate)\n",
    "sh1.write(1, 2, 90, styleNum)\n",
    "sh1.write(2, 0, '李四')\n",
    "sh1.write(2, 1, '2020-08-02')\n",
    "sh1.write(2, 2, 95, styleNum)\n",
    "\n",
    "# 设置单元格内容居中的格式\n",
    "alignment = xlwt.Alignment()\n",
    "alignment.horz = xlwt.Alignment.HORZ_CENTER\n",
    "style = xlwt.XFStyle()\n",
    "style.alignment = alignment\n",
    "\n",
    "# 合并A4,B4单元格，并将内容设置为居中\n",
    "sh1.write_merge(3, 3, 0, 1, '总分', style)\n",
    "\n",
    "# 通过公式，计算C2+C3单元格的和\n",
    "sh1.write(3, 2, xlwt.Formula(\"C2+C3\"))\n",
    "\n",
    "# 对 sheet2 写入数据\n",
    "sh2.write(0, 0, '总分', styleBR)\n",
    "sh2.write(1, 0, 185)\n",
    "\n",
    "# 最后保存文件即可\n",
    "wb.save('test.xls')"
   ]
  },
  {
   "cell_type": "markdown",
   "metadata": {},
   "source": [
    "# 写入Word"
   ]
  },
  {
   "cell_type": "code",
   "execution_count": 31,
   "metadata": {},
   "outputs": [],
   "source": [
    "#标题\n",
    "from docx import Document\n",
    "from docx.shared import Pt\n",
    "from docx.shared import Inches\n",
    "from docx.oxml.ns import qn\n",
    "\n",
    "#新建空白文档\n",
    "doc1=Document()\n",
    "\n",
    "# 新增文档标题\n",
    "doc1.add_heading(\"如何使用 Python 创建和操作 Word\",0)\n",
    "\n",
    "#保存文件\n",
    "doc1.save('word1.docx')"
   ]
  },
  {
   "cell_type": "code",
   "execution_count": 32,
   "metadata": {},
   "outputs": [],
   "source": [
    "# 新建空白文档\n",
    "doc1 = Document()\n",
    "\n",
    "# 新增文档标题\n",
    "doc1.add_heading('如何使用 Python 创建和操作 Word',0)\n",
    "\n",
    "# 创建段落描述\n",
    "doc1.add_paragraph(' Word 文档在我们现在的生活和工作中都用的比较多，我们平时都使用 wps 或者 office 来对 Word 进行处理，可能没想过它可以用 Python 生成，下面我们就介绍具体如何操作……')\n",
    "\n",
    "# 创建一级标题\n",
    "doc1.add_heading('安装 python-docx 库',1)\n",
    "\n",
    "# 创建段落描述\n",
    "doc1.add_paragraph('现在开始我们来介绍如何安装 python-docx 库，具体需要以下两步操作：')\n",
    "\n",
    "# 创建二级标题\n",
    "doc1.add_heading('第一步：安装 Python',2)\n",
    "\n",
    "# 创建段落描述\n",
    "doc1.add_paragraph('在python官网下载python安装包进行安装。')\n",
    "\n",
    "# 创建三级标题\n",
    "doc1.add_heading('第二步：安装 python-docx 库',3)\n",
    "\n",
    "# 创建段落描述\n",
    "doc1.add_paragraph('window下win+R输入CMD打开命令行，输入pip install python-docx即可下载。')\n",
    "\n",
    "# 保存文件\n",
    "doc1.save('word2.docx')"
   ]
  },
  {
   "cell_type": "markdown",
   "metadata": {},
   "source": [
    "## 字体和引用\n",
    "前面我们通过 add_paragraph 方法增加了三个段落，现在我们就看下如何对段落中字体如何操作，以及引用段落的操作。继续修改以上代码，增加对文章字体字号、加粗、倾斜等操作，具体代码如下："
   ]
  },
  {
   "cell_type": "code",
   "execution_count": 34,
   "metadata": {},
   "outputs": [],
   "source": [
    "from docx.shared import RGBColor\n",
    "# 新建空白文档\n",
    "doc1 = Document()\n",
    "\n",
    "# 新增文档标题\n",
    "doc1.add_heading('如何使用 Python 创建和操作 Word',0)\n",
    "\n",
    "# 创建段落描述\n",
    "doc1.add_paragraph(' Word 文档在我们现在的生活和工作中都用的比较多，我们平时都使用 wps 或者 office 来对 Word 进行处理，可能没想过它可以用 Python 生成，下面我们就介绍具体如何操作……')\n",
    "\n",
    "# 创建一级标题\n",
    "doc1.add_heading('安装 python-docx 库',1)\n",
    "\n",
    "# 创建段落描述\n",
    "doc1.add_paragraph('现在开始我们来介绍如何安装 python-docx 库，具体需要以下两步操作：')\n",
    "\n",
    "# 创建二级标题\n",
    "doc1.add_heading('第一步：安装 Python',2)\n",
    "\n",
    "# 创建段落描述\n",
    "doc1.add_paragraph('在python官网下载python安装包进行安装。')\n",
    "\n",
    "# 创建三级标题\n",
    "doc1.add_heading('第二步：安装 python-docx 库',3)\n",
    "\n",
    "# 创建段落描述\n",
    "doc1.add_paragraph('window下win+R输入CMD打开命令行，输入pip install python-docx即可下载。')\n",
    "\n",
    "# 创建段落，添加文档内容\n",
    "paragraph = doc1.add_paragraph('这是第二步的安装描述！')\n",
    "\n",
    "# 段落中增加文字，并设置字体字号\n",
    "run = paragraph.add_run('(注意：这里设置了字号为20)')\n",
    "run.font.size = Pt(20)\n",
    "\n",
    "# 设置英文字体\n",
    "run = doc1.add_paragraph('这里设置英文字体：').add_run('This Font is Times New Roman ')\n",
    "run.font.name = 'Times New Roman'\n",
    "\n",
    "# 设置中文字体\n",
    "run = doc1.add_paragraph('这里设置中文字体：').add_run('当前字体为黑体')\n",
    "run.font.name='黑体'\n",
    "r = run._element\n",
    "r.rPr.rFonts.set(qn('w:eastAsia'), '黑体')\n",
    "\n",
    "# 设置斜体\n",
    "run = doc1.add_paragraph('这段设置：').add_run('文字的是斜体 ')\n",
    "run.italic = True\n",
    "\n",
    "# 设置粗体\n",
    "run = doc1.add_paragraph('这段再设置：').add_run('这里设置粗体').bold = True\n",
    "\n",
    "# 设置字体带下划线\n",
    "run = doc1.add_paragraph('这段为下划线：').add_run('这里设置带下划线').underline = True\n",
    "\n",
    "# 设置字体颜色\n",
    "run = doc1.add_paragraph('这段字体为红色：').add_run('这里设置字体为红色')\n",
    "run.font.color.rgb = RGBColor(0xFF, 0x00, 0x00)\n",
    "\n",
    "# 增加引用\n",
    "doc1.add_paragraph('这里是我们引用的一段话：用Python改变人生，改变世界，FIGHTING。', style='Intense Quote')\n",
    "\n",
    "# 保存文件\n",
    "doc1.save('word2.docx')"
   ]
  },
  {
   "cell_type": "code",
   "execution_count": 35,
   "metadata": {},
   "outputs": [],
   "source": [
    "# 新建文档\n",
    "doc2 = Document()\n",
    "\n",
    "doc2.add_paragraph('哪个不是动物：')\n",
    "\n",
    "# 增加无序列表\n",
    "doc2.add_paragraph(\n",
    "    '苹果', style='List Bullet'\n",
    ")\n",
    "doc2.add_paragraph(\n",
    "    '喜洋洋', style='List Bullet'\n",
    ")\n",
    "doc2.add_paragraph(\n",
    "    '懒洋洋', style='List Bullet'\n",
    ")\n",
    "doc2.add_paragraph(\n",
    "    '沸洋洋', style='List Bullet'\n",
    ")\n",
    "doc2.add_paragraph(\n",
    "    '灰太狼', style='List Bullet'\n",
    ")\n",
    "\n",
    "doc2.add_paragraph('2020年度计划：')\n",
    "# 增加有序列表\n",
    "doc2.add_paragraph(\n",
    "    'CSDN达到博客专家', style='List Number'\n",
    ")\n",
    "doc2.add_paragraph(\n",
    "    '每周健身三天', style='List Number'\n",
    ")\n",
    "\n",
    "doc2.add_paragraph(\n",
    "    '每天学习一个新知识点', style='List Number'\n",
    ")\n",
    "doc2.add_paragraph(\n",
    "    '学习50本书', style='List Number'\n",
    ")\n",
    "doc2.add_paragraph(\n",
    "    '减少加班时间', style='List Number'\n",
    ")\n",
    "\n",
    "# 保存文件\n",
    "doc2.save('word3.docx')"
   ]
  },
  {
   "cell_type": "markdown",
   "metadata": {},
   "source": [
    "# 图片和表格\n",
    "们平时编辑文章时，插入图片和表格也是经常使用到的，那用 Python 该如何操作插入图片和表格？首先我们随便找了个图片，我这用了 Python的logo 标志图，文件名为 python-logo.png，利用add_picture添加图片；利用add_table添加表格，然后在 word1.py 文件中增加如下代码："
   ]
  },
  {
   "cell_type": "code",
   "execution_count": 37,
   "metadata": {},
   "outputs": [],
   "source": [
    "# 新建文档\n",
    "doc2 = Document()\n",
    "\n",
    "doc2.add_paragraph('哪个不是动物：')\n",
    "\n",
    "# 增加无序列表\n",
    "doc2.add_paragraph(\n",
    "    '苹果', style='List Bullet'\n",
    ")\n",
    "doc2.add_paragraph(\n",
    "    '喜洋洋', style='List Bullet'\n",
    ")\n",
    "doc2.add_paragraph(\n",
    "    '懒洋洋', style='List Bullet'\n",
    ")\n",
    "doc2.add_paragraph(\n",
    "    '沸洋洋', style='List Bullet'\n",
    ")\n",
    "doc2.add_paragraph(\n",
    "    '灰太狼', style='List Bullet'\n",
    ")\n",
    "\n",
    "doc2.add_paragraph('2020年度计划：')\n",
    "# 增加有序列表\n",
    "doc2.add_paragraph(\n",
    "    'CSDN达到博客专家', style='List Number'\n",
    ")\n",
    "doc2.add_paragraph(\n",
    "    '每周健身三天', style='List Number'\n",
    ")\n",
    "\n",
    "doc2.add_paragraph(\n",
    "    '每天学习一个新知识点', style='List Number'\n",
    ")\n",
    "doc2.add_paragraph(\n",
    "    '学习50本书', style='List Number'\n",
    ")\n",
    "doc2.add_paragraph(\n",
    "    '减少加班时间', style='List Number'\n",
    ")\n",
    "\n",
    "doc2.add_heading('图片',2)\n",
    "\n",
    "# 增加图像\n",
    "doc2.add_picture('cat.jpg', width=Inches(5.5))\n",
    "\n",
    "doc2.add_heading('表格',2)\n",
    "\n",
    "# 增加表格，这是表格头\n",
    "table = doc2.add_table(rows=1, cols=4)\n",
    "hdr_cells = table.rows[0].cells\n",
    "hdr_cells[0].text = '编号'\n",
    "hdr_cells[1].text = '姓名'\n",
    "hdr_cells[2].text = '职业'\n",
    "\n",
    "# 这是表格数据\n",
    "records = (\n",
    "    (1, '张三', '电工'),\n",
    "    (2, '张五', '老板'),\n",
    "    (3, '马六', 'IT'),\n",
    "    (4, '李四', '工程师')\n",
    ")\n",
    "\n",
    "# 遍历数据并展示\n",
    "for id, name, work in records:\n",
    "    row_cells = table.add_row().cells\n",
    "    row_cells[0].text = str(id)\n",
    "    row_cells[1].text = name\n",
    "    row_cells[2].text = work\n",
    "\n",
    "# 手动增加分页\n",
    "doc2.add_page_break()\n",
    "\n",
    "# 保存文件\n",
    "doc2.save('word4.docx')"
   ]
  },
  {
   "cell_type": "code",
   "execution_count": 39,
   "metadata": {},
   "outputs": [
    {
     "name": "stdout",
     "output_type": "stream",
     "text": [
      "###### 输出word1文章的内容 ######\n",
      "如何使用 Python 创建和操作 Word\n",
      "\n",
      "###### 输出word2文章内容 ######\n",
      "如何使用 Python 创建和操作 Word\n",
      " Word 文档在我们现在的生活和工作中都用的比较多，我们平时都使用 wps 或者 office 来对 Word 进行处理，可能没想过它可以用 Python 生成，下面我们就介绍具体如何操作……\n",
      "安装 python-docx 库\n",
      "现在开始我们来介绍如何安装 python-docx 库，具体需要以下两步操作：\n",
      "第一步：安装 Python\n",
      "在python官网下载python安装包进行安装。\n",
      "第二步：安装 python-docx 库\n",
      "window下win+R输入CMD打开命令行，输入pip install python-docx即可下载。\n",
      "这是第二步的安装描述！(注意：这里设置了字号为20)\n",
      "这里设置英文字体：This Font is Times New Roman \n",
      "这里设置中文字体：当前字体为黑体\n",
      "这段设置：文字的是斜体 \n",
      "这段再设置：这里设置粗体\n",
      "这段为下划线：这里设置带下划线\n",
      "这段字体为红色：这里设置字体为红色\n",
      "这里是我们引用的一段话：用Python改变人生，改变世界，FIGHTING。\n"
     ]
    }
   ],
   "source": [
    "#读取Word文件\n",
    "# 打开文档1\n",
    "doc1 = Document('word1.docx')\n",
    "\n",
    "# 读取每段内容\n",
    "pl = [ paragraph.text for paragraph in doc1.paragraphs]\n",
    "\n",
    "print('###### 输出word1文章的内容 ######')\n",
    "# 输出读取到的内容\n",
    "for i in pl:\n",
    "    print(i)\n",
    "\n",
    "# 打开文档2\n",
    "doc2 = Document('word2.docx')\n",
    "\n",
    "print('\\n###### 输出word2文章内容 ######')\n",
    "\n",
    "pl2 = [ paragraph.text for paragraph in doc2.paragraphs]\n",
    "\n",
    "# 输出读取到的内容\n",
    "for j in pl2:\n",
    "    print(j)\n",
    "\n",
    "# 读取表格材料，并输出结果\n",
    "tables = [table for table in doc2.tables]\n",
    "for table in tables:\n",
    "    for row in table.rows:\n",
    "        for cell in row.cells:\n",
    "            print (cell.text,end='  ')\n",
    "        print()\n",
    "    print('\\n')"
   ]
  },
  {
   "cell_type": "markdown",
   "metadata": {},
   "source": [
    "# csv文件\n",
    "## 基本使用\n",
    "Python 通过 csv 模块来实现 CSV 格式文件中数据的读写，该模块提供了兼容 Excel 方式输出、读取数据文件的功能，这样我们无需知道 Excel 所采用 CSV 格式的细节，同样的它还可以定义其他应用程序可用的或特定需求的 CSV 格式。\n",
    "\n",
    "csv 模块中使用 reader 类和 writer 类读写序列化的数据，使用 DictReader 类和 DictWriter 类以字典的形式读写数据，下面来详细看一下相应功能。首先来看一下 csv 模块常量信息，如下所示："
   ]
  },
  {
   "cell_type": "markdown",
   "metadata": {},
   "source": [
    "返回一个 writer 对象，该对象负责将用户的数据在给定的文件类对象上转换为带分隔符的字符串。\n",
    "\n",
    "- csvfile 可以是具有 write() 方法的任何对象，如果 csvfile 是文件对象，则使用 newline=’’ 打开；\n",
    "- 可选参数 dialect 是用于不同的 CSV 变种的特定参数组；\n",
    "- 可选关键字参数 fmtparams 可以覆写当前变种格式中的单个格式设置。"
   ]
  },
  {
   "cell_type": "code",
   "execution_count": 40,
   "metadata": {},
   "outputs": [],
   "source": [
    "import csv\n",
    "#创建\n",
    "with open('test.csv', 'w', newline='') as csvfile:\n",
    "    writer = csv.writer(csvfile)\n",
    "    writer.writerow(['id', 'name', 'age'])\n",
    "    # 写入多行\n",
    "    data = [('1001', '张三', '21'), ('1002', '李四', '31')]\n",
    "    writer.writerows(data)"
   ]
  },
  {
   "cell_type": "code",
   "execution_count": 41,
   "metadata": {},
   "outputs": [
    {
     "name": "stdout",
     "output_type": "stream",
     "text": [
      "id,name,age\n",
      "1001,张三,21\n",
      "1002,李四,31\n"
     ]
    }
   ],
   "source": [
    "#打开\n",
    "with open('test.csv', newline='') as csvfile:\n",
    "    reader = csv.reader(csvfile, delimiter=' ')\n",
    "    for row in reader:\n",
    "        print(', '.join(row))"
   ]
  },
  {
   "cell_type": "code",
   "execution_count": null,
   "metadata": {},
   "outputs": [],
   "source": []
  }
 ],
 "metadata": {
  "kernelspec": {
   "display_name": "Python 3",
   "language": "python",
   "name": "python3"
  },
  "language_info": {
   "codemirror_mode": {
    "name": "ipython",
    "version": 3
   },
   "file_extension": ".py",
   "mimetype": "text/x-python",
   "name": "python",
   "nbconvert_exporter": "python",
   "pygments_lexer": "ipython3",
   "version": "3.7.6"
  }
 },
 "nbformat": 4,
 "nbformat_minor": 4
}
