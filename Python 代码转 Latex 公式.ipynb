{
 "cells": [
  {
   "cell_type": "code",
   "execution_count": 1,
   "metadata": {
    "scrolled": true
   },
   "outputs": [
    {
     "name": "stdout",
     "output_type": "stream",
     "text": [
      "Collecting handcalcs\n",
      "  Downloading handcalcs-1.2.1-py3-none-any.whl (33 kB)\n",
      "Collecting innerscope<0.3.0,>=0.2.0\n",
      "  Downloading innerscope-0.2.0-py3-none-any.whl (15 kB)\n",
      "Requirement already satisfied: pyparsing<3.0.0,>=2.4.7 in f:\\anaconda\\lib\\site-packages (from handcalcs) (2.4.7)\n",
      "Requirement already satisfied: nbconvert<6.0.0,>=5.6.1 in f:\\anaconda\\lib\\site-packages (from handcalcs) (5.6.1)\n",
      "Collecting more-itertools<9.0.0,>=8.5.0\n",
      "  Downloading more_itertools-8.6.0-py3-none-any.whl (45 kB)\n",
      "Requirement already satisfied: toolz in f:\\anaconda\\lib\\site-packages (from innerscope<0.3.0,>=0.2.0->handcalcs) (0.10.0)\n",
      "Requirement already satisfied: bleach in f:\\anaconda\\lib\\site-packages (from nbconvert<6.0.0,>=5.6.1->handcalcs) (3.1.0)\n",
      "Requirement already satisfied: jupyter-core in f:\\anaconda\\lib\\site-packages (from nbconvert<6.0.0,>=5.6.1->handcalcs) (4.6.1)\n",
      "Requirement already satisfied: jinja2>=2.4 in f:\\anaconda\\lib\\site-packages (from nbconvert<6.0.0,>=5.6.1->handcalcs) (2.11.1)\n",
      "Requirement already satisfied: mistune<2,>=0.8.1 in f:\\anaconda\\lib\\site-packages (from nbconvert<6.0.0,>=5.6.1->handcalcs) (0.8.4)\n",
      "Requirement already satisfied: nbformat>=4.4 in f:\\anaconda\\lib\\site-packages (from nbconvert<6.0.0,>=5.6.1->handcalcs) (5.0.4)\n",
      "Requirement already satisfied: defusedxml in f:\\anaconda\\lib\\site-packages (from nbconvert<6.0.0,>=5.6.1->handcalcs) (0.6.0)\n",
      "Requirement already satisfied: pygments in f:\\anaconda\\lib\\site-packages (from nbconvert<6.0.0,>=5.6.1->handcalcs) (2.5.2)\n",
      "Requirement already satisfied: pandocfilters>=1.4.1 in f:\\anaconda\\lib\\site-packages (from nbconvert<6.0.0,>=5.6.1->handcalcs) (1.4.2)\n",
      "Requirement already satisfied: traitlets>=4.2 in f:\\anaconda\\lib\\site-packages (from nbconvert<6.0.0,>=5.6.1->handcalcs) (4.3.3)\n",
      "Requirement already satisfied: entrypoints>=0.2.2 in f:\\anaconda\\lib\\site-packages (from nbconvert<6.0.0,>=5.6.1->handcalcs) (0.3)\n",
      "Requirement already satisfied: testpath in f:\\anaconda\\lib\\site-packages (from nbconvert<6.0.0,>=5.6.1->handcalcs) (0.4.4)\n",
      "Requirement already satisfied: six>=1.9.0 in f:\\anaconda\\lib\\site-packages (from bleach->nbconvert<6.0.0,>=5.6.1->handcalcs) (1.15.0)\n",
      "Requirement already satisfied: webencodings in f:\\anaconda\\lib\\site-packages (from bleach->nbconvert<6.0.0,>=5.6.1->handcalcs) (0.5.1)\n",
      "Requirement already satisfied: pywin32>=1.0; sys_platform == \"win32\" in f:\\anaconda\\lib\\site-packages (from jupyter-core->nbconvert<6.0.0,>=5.6.1->handcalcs) (227)\n",
      "Requirement already satisfied: MarkupSafe>=0.23 in f:\\anaconda\\lib\\site-packages (from jinja2>=2.4->nbconvert<6.0.0,>=5.6.1->handcalcs) (1.1.1)\n",
      "Requirement already satisfied: ipython-genutils in f:\\anaconda\\lib\\site-packages (from nbformat>=4.4->nbconvert<6.0.0,>=5.6.1->handcalcs) (0.2.0)\n",
      "Requirement already satisfied: jsonschema!=2.5.0,>=2.4 in f:\\anaconda\\lib\\site-packages (from nbformat>=4.4->nbconvert<6.0.0,>=5.6.1->handcalcs) (3.2.0)\n",
      "Requirement already satisfied: decorator in f:\\anaconda\\lib\\site-packages (from traitlets>=4.2->nbconvert<6.0.0,>=5.6.1->handcalcs) (4.4.1)\n",
      "Requirement already satisfied: attrs>=17.4.0 in f:\\anaconda\\lib\\site-packages (from jsonschema!=2.5.0,>=2.4->nbformat>=4.4->nbconvert<6.0.0,>=5.6.1->handcalcs) (19.3.0)\n",
      "Requirement already satisfied: setuptools in f:\\anaconda\\lib\\site-packages (from jsonschema!=2.5.0,>=2.4->nbformat>=4.4->nbconvert<6.0.0,>=5.6.1->handcalcs) (50.3.2)\n",
      "Requirement already satisfied: pyrsistent>=0.14.0 in f:\\anaconda\\lib\\site-packages (from jsonschema!=2.5.0,>=2.4->nbformat>=4.4->nbconvert<6.0.0,>=5.6.1->handcalcs) (0.15.7)\n",
      "Requirement already satisfied: importlib-metadata; python_version < \"3.8\" in f:\\anaconda\\lib\\site-packages (from jsonschema!=2.5.0,>=2.4->nbformat>=4.4->nbconvert<6.0.0,>=5.6.1->handcalcs) (1.5.0)\n",
      "Requirement already satisfied: zipp>=0.5 in f:\\anaconda\\lib\\site-packages (from importlib-metadata; python_version < \"3.8\"->jsonschema!=2.5.0,>=2.4->nbformat>=4.4->nbconvert<6.0.0,>=5.6.1->handcalcs) (2.2.0)\n",
      "Installing collected packages: innerscope, more-itertools, handcalcs\n",
      "  Attempting uninstall: more-itertools\n",
      "    Found existing installation: more-itertools 8.2.0\n",
      "    Uninstalling more-itertools-8.2.0:\n",
      "      Successfully uninstalled more-itertools-8.2.0\n",
      "Successfully installed handcalcs-1.2.1 innerscope-0.2.0 more-itertools-8.6.0\n"
     ]
    },
    {
     "name": "stderr",
     "output_type": "stream",
     "text": [
      "ERROR: pytest-astropy 0.8.0 requires pytest-cov>=2.0, which is not installed.\n",
      "ERROR: pytest-astropy 0.8.0 requires pytest-filter-subpackage>=0.1, which is not installed.\n"
     ]
    }
   ],
   "source": [
    "!pip install handcalcs"
   ]
  },
  {
   "cell_type": "markdown",
   "metadata": {},
   "source": [
    "## handcalcs 库：将 Python 计算代码转换为 Latex 公式\n",
    "handcalcs 库可将 Python 计算代码自动渲染为 Latex 公式，呈现方式类似于手写的公式计算：先编写符号公式，再代入具体数字，最后得出结果。"
   ]
  },
  {
   "cell_type": "code",
   "execution_count": 10,
   "metadata": {},
   "outputs": [],
   "source": [
    "from math import sqrt\n",
    "import handcalcs.render"
   ]
  },
  {
   "cell_type": "code",
   "execution_count": 24,
   "metadata": {},
   "outputs": [
    {
     "data": {
      "text/latex": [
       "\\[\n",
       "\\begin{aligned}\n",
       "a &= 2 \\; \n",
       " &b &= -5 \\; \n",
       " &c &= 3 \\; \n",
       "\\\\[10pt]\\end{aligned}\n",
       "\\]"
      ],
      "text/plain": [
       "<IPython.core.display.Latex object>"
      ]
     },
     "metadata": {},
     "output_type": "display_data"
    }
   ],
   "source": [
    "%%render\n",
    "#Parameters\n",
    "a=2\n",
    "b=-5\n",
    "c=3\n"
   ]
  },
  {
   "cell_type": "code",
   "execution_count": 21,
   "metadata": {},
   "outputs": [
    {
     "data": {
      "text/latex": [
       "\\[\n",
       "\\begin{aligned}\n",
       "x &= 1.5 \\; \n",
       "\\end{aligned}\n",
       "\\]"
      ],
      "text/plain": [
       "<IPython.core.display.Latex object>"
      ]
     },
     "metadata": {},
     "output_type": "display_data"
    }
   ],
   "source": [
    "%%render\n",
    "x=(-b+sqrt(b**2-4*a*c))/(2*a)"
   ]
  },
  {
   "cell_type": "markdown",
   "metadata": {},
   "source": [
    "### 基本用法 1：Jupyter 单元格魔法函数\n",
    "handcalcs 的设计初衷是在 Jupyter Notebook 或 Jupyter Lab 中作为单元格魔法函数来使用。\n",
    "\n",
    "首先，引入 handcalcs 模块并运行单元格：\n",
    "```python\n",
    "import handcalcs.render\n",
    "```\n",
    "\n",
    "接下来，在想要使用 handcalcs 的单元格上面添加一行魔法函数 %%render：\n",
    "```python\n",
    "%%render\n",
    "```"
   ]
  },
  {
   "cell_type": "code",
   "execution_count": 14,
   "metadata": {},
   "outputs": [
    {
     "data": {
      "text/latex": [
       "\\[\n",
       "\\begin{aligned}\n",
       "a &= 2 \\; \n",
       "\\\\[10pt]\n",
       "b &= 3 \\; \n",
       "\\\\[10pt]\n",
       "c &= 2 \\cdot a + \\frac{ b }{ 3 }  = 2 \\cdot 2 + \\frac{ 3 }{ 3 } &= 5.0  \n",
       "\\end{aligned}\n",
       "\\]"
      ],
      "text/plain": [
       "<IPython.core.display.Latex object>"
      ]
     },
     "metadata": {},
     "output_type": "display_data"
    }
   ],
   "source": [
    "%%render\n",
    "a = 2\n",
    "b = 3\n",
    "c = 2*a + b/3"
   ]
  },
  {
   "cell_type": "markdown",
   "metadata": {},
   "source": [
    "## 基本用法 2：函数装饰器 @handcalc()\n",
    "\n",
    "除了在 Jupyter cell 中使用外，在 Python 的函数中也可以使用 handcalcs。\n",
    "\n",
    "首先导入 @handcalc() 装饰器："
   ]
  },
  {
   "cell_type": "code",
   "execution_count": 15,
   "metadata": {},
   "outputs": [],
   "source": [
    "from handcalcs.decorator import handcalc"
   ]
  },
  {
   "cell_type": "markdown",
   "metadata": {},
   "source": [
    "然后编写函数。注意：函数必须 `return locals()`"
   ]
  },
  {
   "cell_type": "code",
   "execution_count": 16,
   "metadata": {},
   "outputs": [],
   "source": [
    "@handcalc()\n",
    "def my_calc(x,y,z):\n",
    "    a=2*x/y\n",
    "    b=3*a\n",
    "    c=(a+b)/z\n",
    "    return locals()"
   ]
  },
  {
   "cell_type": "code",
   "execution_count": 19,
   "metadata": {},
   "outputs": [
    {
     "ename": "SyntaxError",
     "evalue": "invalid syntax (<ipython-input-19-3b06d31924db>, line 1)",
     "output_type": "error",
     "traceback": [
      "\u001b[1;36m  File \u001b[1;32m\"<ipython-input-19-3b06d31924db>\"\u001b[1;36m, line \u001b[1;32m1\u001b[0m\n\u001b[1;33m    @handcalc(left: str = \"\", right: str = \"\", jupyter_display: bool = False)\u001b[0m\n\u001b[1;37m                  ^\u001b[0m\n\u001b[1;31mSyntaxError\u001b[0m\u001b[1;31m:\u001b[0m invalid syntax\n"
     ]
    }
   ],
   "source": [
    "@handcalc(left: str = \"\", right: str = \"\", jupyter_display: bool = False)"
   ]
  },
  {
   "cell_type": "markdown",
   "metadata": {},
   "source": [
    "返回一个由 (latex_code: str, locals: dict) 组成的元组，其中 locals 是函数命名空间范围内所有变量的字典。\n",
    "\n"
   ]
  },
  {
   "cell_type": "markdown",
   "metadata": {},
   "source": [
    "有些公式的参数量较多，如果按照常规的格式显示在一列，会浪费大量空间。而使用 handcalcs，只需添加注释标签# Parameters 就能让参数以三列的形式显示出来：\n",
    "\n",
    "参考第一段代码\n",
    "\n",
    "而有些公式的计算过程非常繁琐，也会占用大量显示空间，只需使用标签# Short 就能让运算过程的显示行数减少："
   ]
  },
  {
   "cell_type": "code",
   "execution_count": 31,
   "metadata": {},
   "outputs": [],
   "source": [
    "from math import sqrt,sin,asin,pi\n",
    "import handcalcs.render"
   ]
  },
  {
   "cell_type": "code",
   "execution_count": null,
   "metadata": {},
   "outputs": [],
   "source": [
    "%%render\n",
    "#Long\n",
    "f=d/a+b#Comment\n",
    "g=d*f/a#Comment\n",
    "d=sqrt(a/b)+asin(sin(b/c))*(a/b)**(0.5)+sqrt((a*b+b*c)/(b**2))+sin(a/b)# Long"
   ]
  },
  {
   "cell_type": "markdown",
   "metadata": {},
   "source": [
    "# 说实话，用起来一堆bug，使用体验极差\n",
    "用Word不香吗"
   ]
  },
  {
   "cell_type": "code",
   "execution_count": null,
   "metadata": {},
   "outputs": [],
   "source": []
  },
  {
   "cell_type": "code",
   "execution_count": null,
   "metadata": {},
   "outputs": [],
   "source": []
  },
  {
   "cell_type": "code",
   "execution_count": null,
   "metadata": {},
   "outputs": [],
   "source": []
  },
  {
   "cell_type": "code",
   "execution_count": null,
   "metadata": {},
   "outputs": [],
   "source": []
  },
  {
   "cell_type": "code",
   "execution_count": null,
   "metadata": {},
   "outputs": [],
   "source": []
  },
  {
   "cell_type": "code",
   "execution_count": null,
   "metadata": {},
   "outputs": [],
   "source": []
  },
  {
   "cell_type": "code",
   "execution_count": null,
   "metadata": {},
   "outputs": [],
   "source": []
  }
 ],
 "metadata": {
  "kernelspec": {
   "display_name": "Python 3",
   "language": "python",
   "name": "python3"
  },
  "language_info": {
   "codemirror_mode": {
    "name": "ipython",
    "version": 3
   },
   "file_extension": ".py",
   "mimetype": "text/x-python",
   "name": "python",
   "nbconvert_exporter": "python",
   "pygments_lexer": "ipython3",
   "version": "3.7.6"
  },
  "varInspector": {
   "cols": {
    "lenName": 16,
    "lenType": 16,
    "lenVar": 40
   },
   "kernels_config": {
    "python": {
     "delete_cmd_postfix": "",
     "delete_cmd_prefix": "del ",
     "library": "var_list.py",
     "varRefreshCmd": "print(var_dic_list())"
    },
    "r": {
     "delete_cmd_postfix": ") ",
     "delete_cmd_prefix": "rm(",
     "library": "var_list.r",
     "varRefreshCmd": "cat(var_dic_list()) "
    }
   },
   "oldHeight": 122.4,
   "position": {
    "height": "40px",
    "left": "497.2px",
    "right": "20px",
    "top": "120px",
    "width": "250px"
   },
   "types_to_exclude": [
    "module",
    "function",
    "builtin_function_or_method",
    "instance",
    "_Feature"
   ],
   "varInspector_section_display": "none",
   "window_display": true
  }
 },
 "nbformat": 4,
 "nbformat_minor": 4
}
