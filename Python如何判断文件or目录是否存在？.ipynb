{
 "cells": [
  {
   "cell_type": "markdown",
   "metadata": {},
   "source": [
    "# 使用OS模块\n",
    "\n",
    "\n",
    "- 判断文件是否存在\n",
    "```python\n",
    "os.path.isfile(path)\n",
    "```\n",
    "- 判断目录是否存在\n",
    "```python\n",
    "os.path.isdir(path)\n",
    "```\n",
    "- 判断文件是否存在\n",
    "```python\n",
    "# 使用path模块\n",
    "import os\n",
    "os.path.exists(path)\n",
    "# 使用access()方法\n",
    "os.access(path,os.F_OK)\n",
    "```\n",
    "# 使用 open 函数和异常捕获\n",
    "\n",
    "\n",
    "如果直接用 `open()` 函数打开一个不存在的文件时，程序会抛出异常，我们可以通过 `try 语句`来捕获异常以达到判断文件是否存在的目的。\n",
    "\n",
    "如果文件不存在，`open()` 函数会抛出 `FileNotFoundError` 异常。如果文件无操作权限，则会抛出 `PersmissionError` 异常。\n",
    "```python\n",
    "filePath = '/path/to/file'\n",
    "try:\n",
    "    file = open(filePath)\n",
    "    file.close()\n",
    "except FileNotFoundError:\n",
    "    print(\"No such file or directory: '%s'\" % filePath)\n",
    "except IsADirectoryError:\n",
    "    print(\"Is a directory: '%s'\" % filePath)\n",
    "except PermissionError:\n",
    "    print(\"Permission denied: '%s'\" % filePath)\n",
    "else:\n",
    "    print(\"File is exist: '%s'\" % filePath)\n",
    "```\n",
    "\n",
    "# 使用 pathlib 模块\n",
    "\n",
    "```python\n",
    "import pathlib\n",
    "path = pathlib.Path('path/to/file')\n",
    "# 判断路径是否存在\n",
    "path.exists()\n",
    "# 判断是否为文件\n",
    "path.is_file()\n",
    "# 判断是否为目录\n",
    "path.is_dir()\n",
    "```"
   ]
  },
  {
   "cell_type": "code",
   "execution_count": null,
   "metadata": {},
   "outputs": [],
   "source": []
  },
  {
   "cell_type": "code",
   "execution_count": null,
   "metadata": {},
   "outputs": [],
   "source": []
  },
  {
   "cell_type": "code",
   "execution_count": null,
   "metadata": {},
   "outputs": [],
   "source": []
  }
 ],
 "metadata": {
  "kernelspec": {
   "display_name": "Python 3",
   "language": "python",
   "name": "python3"
  },
  "language_info": {
   "codemirror_mode": {
    "name": "ipython",
    "version": 3
   },
   "file_extension": ".py",
   "mimetype": "text/x-python",
   "name": "python",
   "nbconvert_exporter": "python",
   "pygments_lexer": "ipython3",
   "version": "3.7.6"
  },
  "varInspector": {
   "cols": {
    "lenName": 16,
    "lenType": 16,
    "lenVar": 40
   },
   "kernels_config": {
    "python": {
     "delete_cmd_postfix": "",
     "delete_cmd_prefix": "del ",
     "library": "var_list.py",
     "varRefreshCmd": "print(var_dic_list())"
    },
    "r": {
     "delete_cmd_postfix": ") ",
     "delete_cmd_prefix": "rm(",
     "library": "var_list.r",
     "varRefreshCmd": "cat(var_dic_list()) "
    }
   },
   "types_to_exclude": [
    "module",
    "function",
    "builtin_function_or_method",
    "instance",
    "_Feature"
   ],
   "window_display": false
  }
 },
 "nbformat": 4,
 "nbformat_minor": 4
}
