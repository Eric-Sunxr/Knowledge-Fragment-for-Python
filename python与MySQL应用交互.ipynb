{
 "cells": [
  {
   "cell_type": "markdown",
   "metadata": {},
   "source": [
    "## 要想深入了解MySQL与python的连接，最好先了解一下游标的概念\n",
    "游标，通俗的解释就是\"游动的标志\"，这是数据库中一个很重要的概念。\n",
    "\n",
    "有时候，我们执行一条查询语句的时候，往往会得到N条返回结果，执行sql语句取出这些返回结果的接口(起始点)，就是游标。沿着这个游标，我们可以一次取出一行记录。\n",
    "\n",
    "当不使用游标功能，我们去执行 select * from student where age > 20; 这条语句的时候，如果有1000条返回结果，系统会一次性将1000条记录返回到界面 中，你没有选择，也不能做其他操作。\n",
    "\n",
    "当我们开启了游标功能，再去执行这条语句的时候，系统会先帮你找到这些行， 先给你存放起来，然后提供了一个游标接口。当你需要数据的时候，就借助这个游标去一行行的取出数据，你每取出一条记录，游标指针就朝前移动一次，一直到取完最后一行数据后。\n",
    "\n",
    "## 使用游标的好处\n",
    "如果不使用游标功能，直接使用select查询，会一次性将结果集打印到屏幕上，你无法针对结果集做第二次编程。\n",
    "\n",
    "使用游标功能后，我们可以将得到的结果先保存起来，然后可以随意进行自己的编程，得到我们最终想要的结果集。\n",
    "\n",
    "当我们使用python连接mysql的时候，那么python就相当于是mysql服务器的一个客户端，我们利用python这个client去操纵mysql的server。\n",
    "\n",
    "\n",
    "## 利用python连接数据库\n",
    "在pymysql中操作数据库，就是使用游标这种方式来获取表中的数据。\n",
    "\n",
    "## 使用游标的操作步骤\n",
    "\n",
    "- 首先，使用pymysql连接上mysql数据库，得到一个数据库对象。\n",
    "- 然后，我们必须要开启数据库中的游标功能，得到一个游标对象。\n",
    "- 接着，使用游标对象中的execute()方法，去执行某个SQL语句，系统会根据你的SQL语句，找到这些匹配行，给你存储起来，而不是一次性的打印到屏幕上。什么时候需要这个结果中的数据的时候，你就去获取它。\n",
    "- 最后，就是获取结果集中的数据了，这里有两种方法获取结果集中的数据。一个是fetchone()，该方法一次获取一条记录，每一条记录是一个元组形式的数据，每获取一条记录游标会往前移动一格，等待获取下一条记录；一个是fetchall()方法，能够一次性的获取所有的数据，该方法返回的是一个元组列表。\n",
    "- 当完成所有操作后，记得断开数据库的连接，释放资源。"
   ]
  },
  {
   "cell_type": "code",
   "execution_count": 3,
   "metadata": {},
   "outputs": [],
   "source": [
    "#连接数据库，创建一个数据库对象\n",
    "import pymysql\n",
    "db=pymysql.connect(host='localhost',user='root',db='xrr',password='123456',port=3306,charset='utf8')"
   ]
  },
  {
   "cell_type": "markdown",
   "metadata": {},
   "source": [
    "### 注意：\n",
    "\n",
    "我们要操作的是huangwei这个数据库中的表，因此在连接的时候使db这个参数来指明要使用哪一个数据库；由于mysql数据库就装在本机上，因此可以写localhost，当然你也可以写成主机名，或者主机ip；"
   ]
  },
  {
   "cell_type": "code",
   "execution_count": 21,
   "metadata": {},
   "outputs": [],
   "source": [
    "# 开启游标功能，创建游标对象\n",
    "cursor=db.cursor()"
   ]
  },
  {
   "cell_type": "code",
   "execution_count": 22,
   "metadata": {},
   "outputs": [
    {
     "data": {
      "text/plain": [
       "4"
      ]
     },
     "execution_count": 22,
     "metadata": {},
     "output_type": "execute_result"
    }
   ],
   "source": [
    "# 使用execute()方法，执行SQL语句\n",
    "cursor.execute('select sname,ssex from student')"
   ]
  },
  {
   "cell_type": "code",
   "execution_count": 23,
   "metadata": {},
   "outputs": [],
   "source": [
    "# 注意：当开启游标功能执行这个SQL语句后，系统并不会将结果直接打印到频幕上，而是将上述得到的结果，找个地方存储起来，提供一个游标接口给我们，当你需要获取数据的时候，就可以从中拿数据。\n",
    "# 使用fetchone()或fetchall()获取数据\n",
    "# 一次性获取一条数据\n",
    "#需要使用循环来遍历数据\n",
    "# a = cursor.fetchone()\n",
    "# 一次性获取所有数据\n",
    "a = cursor.fetchall()"
   ]
  },
  {
   "cell_type": "code",
   "execution_count": 25,
   "metadata": {},
   "outputs": [
    {
     "data": {
      "text/plain": [
       "(('孙绪瑞', '男'), ('陈熙光', '男'), ('舒言', '男'), ('常远', '男'))"
      ]
     },
     "execution_count": 25,
     "metadata": {},
     "output_type": "execute_result"
    }
   ],
   "source": [
    "# 注意：使用游标获取数据，需要用一个变量将结果存储起来，才能被我们拿来做二次使用，这里在下面的案例中会体现出来。\n",
    "a"
   ]
  },
  {
   "cell_type": "code",
   "execution_count": 26,
   "metadata": {},
   "outputs": [],
   "source": [
    "# 断开数据库，释放资源\n",
    "db.close()"
   ]
  },
  {
   "cell_type": "markdown",
   "metadata": {},
   "source": [
    "## 使用python连接mysql数据库\n",
    "1）六个常用的连接参数\n",
    "\n",
    "* 参数host：mysql服务器所在的主机的ip；\n",
    "\n",
    "* 参数user：用户名\n",
    "\n",
    "* 参数password：密码\n",
    "\n",
    "* 参数port：连接的mysql主机的端口，默认是3306\n",
    "\n",
    "* 参数db：连接的数据库名\n",
    "\n",
    "* 参数charset：当读取数据出现中文会乱码的时候，需要我们设置一下编码；我们使用python操作数据库的时候，那么python就相当于是client，我们是用这个client来操作mysql的server服务器，python3默认采用的utf8字符集，我的mysql服务器默认采用latin1字符集，因此mysql中创建的每张表，都是建表的时候加了utf8编码的，因此这里设置的应该就是connection连接器的编码。"
   ]
  },
  {
   "cell_type": "code",
   "execution_count": 31,
   "metadata": {},
   "outputs": [],
   "source": [
    "import pymysql \n",
    "db=pymysql.connect(host='localhost',user='root',password='123456',\n",
    "                   port=3306,db='xrr',charset='utf8') \n",
    "db.close()"
   ]
  },
  {
   "cell_type": "markdown",
   "metadata": {},
   "source": [
    "最基本的参数是host,user,password和port，必须要有。剩下两个参数根据你自己的情况决定是否使用。\n",
    "host指的是mysql服务器安装在哪里，由于我的mysql就是安装在本机上，因此这里可以写localhost，我也可以写成主机名或者主机ip。\n",
    "db指的是你要操作的是哪一个数据库，在进行数据库连接的时候，最好加上这个参数。"
   ]
  },
  {
   "cell_type": "code",
   "execution_count": 44,
   "metadata": {},
   "outputs": [
    {
     "name": "stdout",
     "output_type": "stream",
     "text": [
      "(0, '孙绪瑞', '男', None)\n",
      "男\n"
     ]
    }
   ],
   "source": [
    "# 导包\n",
    "import pymysql \n",
    "# 使用pymysql连接上mysql数据库服务器，创建了一个数据库对象；\n",
    "db=pymysql.connect(host='localhost',user='root', password='123456',\n",
    "                   port=3306, db='xrr', charset='utf8')\n",
    "# 开启mysql的游标功能，创建一个游标对象；              \n",
    "cursor = db.cursor()\n",
    "# 要执行的SQL语句；\n",
    "sql = \"select * from student\"\n",
    "# 使用游标对象执行SQL语句；\n",
    "cursor.execute(sql)\n",
    "# 使用fetchone()方法，获取返回的结果，但是需要用变量保存返回结果；\n",
    "data = cursor.fetchone()\n",
    "print(data)\n",
    "print(data[2])\n",
    "# 断开数据库的连接，释放资源；\n",
    "db.close()"
   ]
  },
  {
   "cell_type": "markdown",
   "metadata": {},
   "source": [
    "## cursor游标对象的一些常用方法\n",
    "1）cursor用来执行命令的方法\n",
    "\n",
    "execute(query, args)：执行单条sql语句，接收的参数为sql语句本身和使用的参数列表，返回值为受影响的行数；\n",
    "\n",
    "executemany(query, args)：执行单条sql语句，但是重复执行参数列表里的参数，返回值为受影响的行数；\n",
    "\n",
    "2）cursor用来接收返回值的方法\n",
    "\n",
    "fetchone()：返回一条结果行；\n",
    "\n",
    "fetchmany(size)：接收size条返回结果行。如果size的值大于返回的结果行的数量，则会返回cursor.arraysize条数据；\n",
    "\n",
    "fetchall()：接收全部的返回结果行\n",
    "## 创建表（建）"
   ]
  },
  {
   "cell_type": "code",
   "execution_count": 66,
   "metadata": {},
   "outputs": [
    {
     "name": "stdout",
     "output_type": "stream",
     "text": [
      "0\n"
     ]
    },
    {
     "name": "stderr",
     "output_type": "stream",
     "text": [
      "F:\\Anaconda\\lib\\site-packages\\pymysql\\cursors.py:170: Warning: (3719, \"'utf8' is currently an alias for the character set UTF8MB3, but will be an alias for UTF8MB4 in a future release. Please consider using UTF8MB4 in order to be unambiguous.\")\n",
      "  result = self._query(query)\n"
     ]
    }
   ],
   "source": [
    "import pymysql \n",
    "db=pymysql.connect(host='localhost',user='root', password='123456',\n",
    "                   port=3306, db='xrr', charset='utf8')\n",
    "\n",
    "# 创建一个游标对象；\n",
    "cursor = db.cursor()\n",
    "\n",
    "# 建表语句；\n",
    "sql = \"\"\"create table person(\n",
    "        id int auto_increment primary key not null,\n",
    "        name varchar(10) not null,\n",
    "        age int not null) charset=utf8\"\"\"\n",
    "\n",
    "# 执行sql语句；\n",
    "data=cursor.execute(sql)\n",
    "print(data)\n",
    "# 断开数据库的连接；\n",
    "db.close()"
   ]
  },
  {
   "cell_type": "code",
   "execution_count": null,
   "metadata": {},
   "outputs": [],
   "source": []
  },
  {
   "cell_type": "code",
   "execution_count": null,
   "metadata": {},
   "outputs": [],
   "source": []
  },
  {
   "cell_type": "markdown",
   "metadata": {},
   "source": [
    "注意：你在mysql中sql语句怎么写，在这里就怎么写。还有一个细节需要注意的是，在python中，将代码进行多次换行的时候，最好使用“三引号”。\n",
    "\n",
    "## 查询数据（查）"
   ]
  },
  {
   "cell_type": "code",
   "execution_count": 53,
   "metadata": {},
   "outputs": [
    {
     "name": "stdout",
     "output_type": "stream",
     "text": [
      "(4,)\n"
     ]
    },
    {
     "data": {
      "text/plain": [
       "'我的名字叫孙绪瑞，今年男岁'"
      ]
     },
     "metadata": {},
     "output_type": "display_data"
    },
    {
     "data": {
      "text/plain": [
       "'我的名字叫陈熙光，今年男岁'"
      ]
     },
     "metadata": {},
     "output_type": "display_data"
    },
    {
     "data": {
      "text/plain": [
       "'我的名字叫舒言，今年男岁'"
      ]
     },
     "metadata": {},
     "output_type": "display_data"
    },
    {
     "data": {
      "text/plain": [
       "'我的名字叫常远，今年男岁'"
      ]
     },
     "metadata": {},
     "output_type": "display_data"
    }
   ],
   "source": [
    "# 1）fetchone()：一次获取一条记录\n",
    "import  pymysql\n",
    "\n",
    "db = pymysql.connect(host='localhost',user='root',db='xrr',\n",
    "                     password='123456',port=3306,charset='utf8')\n",
    "\n",
    "cursor = db.cursor()\n",
    "\n",
    "cursor.execute('select count(*) from student')\n",
    "aa = cursor.fetchone()\n",
    "print(aa)\n",
    "# 注意这一句一定是在循环之外，不能放到循环里面。\n",
    "# 想想这是为什么？\n",
    "cursor.execute('select sname,ssex from student')    \n",
    "for i in range(aa[0]):\n",
    "    a,b = cursor.fetchone()\n",
    "    c = \"我的名字叫{}，今年{}岁\".format(a,b)\n",
    "    display(c)\n",
    "db.close()"
   ]
  },
  {
   "cell_type": "code",
   "execution_count": 54,
   "metadata": {},
   "outputs": [
    {
     "data": {
      "text/plain": [
       "'我的名字叫孙绪瑞，今年男岁'"
      ]
     },
     "metadata": {},
     "output_type": "display_data"
    },
    {
     "data": {
      "text/plain": [
       "'我的名字叫陈熙光，今年男岁'"
      ]
     },
     "metadata": {},
     "output_type": "display_data"
    },
    {
     "data": {
      "text/plain": [
       "'我的名字叫舒言，今年男岁'"
      ]
     },
     "metadata": {},
     "output_type": "display_data"
    },
    {
     "data": {
      "text/plain": [
       "'我的名字叫常远，今年男岁'"
      ]
     },
     "metadata": {},
     "output_type": "display_data"
    }
   ],
   "source": [
    "# 2）fetchall()：一次获取所有记录\n",
    "import  pymysql\n",
    "\n",
    "db = pymysql.connect(host='localhost',user='root',db='xrr',\n",
    "                     password='123456',port=3306,charset='utf8')\n",
    "\n",
    "cursor = db.cursor()\n",
    "\n",
    "cursor.execute('select sname,ssex from student')\n",
    "aa = cursor.fetchall()\n",
    "# print(aa)\n",
    "for a,b in aa:\n",
    "    c = \"我的名字叫{}，今年{}岁\".format(a,b)\n",
    "    display(c)\n",
    "db.close()"
   ]
  },
  {
   "cell_type": "code",
   "execution_count": 56,
   "metadata": {},
   "outputs": [
    {
     "data": {
      "text/html": [
       "<div>\n",
       "<style scoped>\n",
       "    .dataframe tbody tr th:only-of-type {\n",
       "        vertical-align: middle;\n",
       "    }\n",
       "\n",
       "    .dataframe tbody tr th {\n",
       "        vertical-align: top;\n",
       "    }\n",
       "\n",
       "    .dataframe thead th {\n",
       "        text-align: right;\n",
       "    }\n",
       "</style>\n",
       "<table border=\"1\" class=\"dataframe\">\n",
       "  <thead>\n",
       "    <tr style=\"text-align: right;\">\n",
       "      <th></th>\n",
       "      <th>sid</th>\n",
       "      <th>sname</th>\n",
       "      <th>ssex</th>\n",
       "      <th>studentcol</th>\n",
       "    </tr>\n",
       "  </thead>\n",
       "  <tbody>\n",
       "    <tr>\n",
       "      <th>0</th>\n",
       "      <td>0</td>\n",
       "      <td>孙绪瑞</td>\n",
       "      <td>男</td>\n",
       "      <td>None</td>\n",
       "    </tr>\n",
       "    <tr>\n",
       "      <th>1</th>\n",
       "      <td>1</td>\n",
       "      <td>陈熙光</td>\n",
       "      <td>男</td>\n",
       "      <td>None</td>\n",
       "    </tr>\n",
       "    <tr>\n",
       "      <th>2</th>\n",
       "      <td>2</td>\n",
       "      <td>舒言</td>\n",
       "      <td>男</td>\n",
       "      <td>None</td>\n",
       "    </tr>\n",
       "    <tr>\n",
       "      <th>3</th>\n",
       "      <td>3</td>\n",
       "      <td>常远</td>\n",
       "      <td>男</td>\n",
       "      <td>None</td>\n",
       "    </tr>\n",
       "  </tbody>\n",
       "</table>\n",
       "</div>"
      ],
      "text/plain": [
       "   sid sname ssex studentcol\n",
       "0    0   孙绪瑞    男       None\n",
       "1    1   陈熙光    男       None\n",
       "2    2    舒言    男       None\n",
       "3    3    常远    男       None"
      ]
     },
     "metadata": {},
     "output_type": "display_data"
    },
    {
     "data": {
      "text/html": [
       "<div>\n",
       "<style scoped>\n",
       "    .dataframe tbody tr th:only-of-type {\n",
       "        vertical-align: middle;\n",
       "    }\n",
       "\n",
       "    .dataframe tbody tr th {\n",
       "        vertical-align: top;\n",
       "    }\n",
       "\n",
       "    .dataframe thead th {\n",
       "        text-align: right;\n",
       "    }\n",
       "</style>\n",
       "<table border=\"1\" class=\"dataframe\">\n",
       "  <thead>\n",
       "    <tr style=\"text-align: right;\">\n",
       "      <th></th>\n",
       "      <th>sid</th>\n",
       "      <th>sname</th>\n",
       "      <th>ssex</th>\n",
       "      <th>studentcol</th>\n",
       "    </tr>\n",
       "  </thead>\n",
       "  <tbody>\n",
       "  </tbody>\n",
       "</table>\n",
       "</div>"
      ],
      "text/plain": [
       "Empty DataFrame\n",
       "Columns: [sid, sname, ssex, studentcol]\n",
       "Index: []"
      ]
     },
     "metadata": {},
     "output_type": "display_data"
    }
   ],
   "source": [
    "# 3）使用pandas中的read_sql()方法，将提取到的数据直接转化为DataFrame，进行操作\n",
    "import pymysql \n",
    "import pandas as pd\n",
    "\n",
    "db = pymysql.connect(host='localhost',user='root',db='xrr',\n",
    "                     password='123456',port=3306,charset='utf8')\n",
    "cursor = db.cursor()\n",
    "\n",
    "df1 = pd.read_sql(\"select * from student where ssex='男'\",db)\n",
    "display(df1)\n",
    "df2 = pd.read_sql(\"select * from student where ssex='女'\",db)\n",
    "display(df2)"
   ]
  },
  {
   "cell_type": "markdown",
   "metadata": {},
   "source": [
    "## 插入数据（增）\n",
    "1）一次性插入一条数据"
   ]
  },
  {
   "cell_type": "code",
   "execution_count": 67,
   "metadata": {},
   "outputs": [
    {
     "name": "stdout",
     "output_type": "stream",
     "text": [
      "插入成功\n"
     ]
    }
   ],
   "source": [
    "import pymysql\n",
    "\n",
    "db=pymysql.connect(host='localhost',user='root', password='123456',\n",
    "                   port=3306, db='xrr', charset='utf8')\n",
    "\n",
    "cursor = db.cursor()\n",
    "\n",
    "# mysql中SQL语句怎么写，这里就怎么写；\n",
    "name = \"猪八戒\"\n",
    "age = 8000\n",
    "sql = 'insert into person(name,age) values (\"猪八戒\",8000)'\n",
    "\n",
    "try:\n",
    "    cursor.execute(sql)\n",
    "    db.commit()\n",
    "    print(\"插入成功\")\n",
    "except:\n",
    "    print(\"插入失败\")\n",
    "    db.rollback()\n",
    "db.close()"
   ]
  },
  {
   "cell_type": "code",
   "execution_count": 68,
   "metadata": {},
   "outputs": [
    {
     "name": "stdout",
     "output_type": "stream",
     "text": [
      "插入成功\n"
     ]
    }
   ],
   "source": [
    "# 一次性插入一条数据\n",
    "import  pymysql\n",
    "\n",
    "db=pymysql.connect(host='localhost',user='root', password='123456',\n",
    "                   port=3306, db='xrr', charset='utf8')\n",
    "\n",
    "cursor = db.cursor()\n",
    "\n",
    "# 插入数据\n",
    "sql = 'insert into person(name,age) values(%s,%s)'\n",
    "try:\n",
    "    cursor.execute(sql,('孙悟空',100000))\n",
    "    db.commit()\n",
    "    print(\"插入成功\")\n",
    "except:\n",
    "    print(\"插入失败\")\n",
    "    db.rollback()\n",
    "db.close()"
   ]
  },
  {
   "cell_type": "code",
   "execution_count": 69,
   "metadata": {},
   "outputs": [
    {
     "name": "stdout",
     "output_type": "stream",
     "text": [
      "插入成功\n"
     ]
    }
   ],
   "source": [
    "# 一次性插入多条数据\n",
    "import  pymysql\n",
    "\n",
    "db=pymysql.connect(host='localhost',user='root', password='123456',\n",
    "                   port=3306, db='xrr', charset='utf8')\n",
    "\n",
    "cursor = db.cursor()\n",
    "\n",
    "# 插入数据\n",
    "sql = 'insert into person(name,age) values(%s,%s)'\n",
    "# 注意：(('牛魔王',9000),('铁扇公主',8000),('玉皇大帝',6000))也可以\n",
    "# 小括号都可以换为中括号\n",
    "datas = [('牛魔王',9000),('铁扇公主',8000),('玉皇大帝',6000)]\n",
    "try:\n",
    "    cursor.executemany(sql,datas)\n",
    "    db.commit()\n",
    "    print(\"插入成功\")\n",
    "except:\n",
    "    print(\"插入失败\")\n",
    "    db.rollback()\n",
    "db.close()"
   ]
  },
  {
   "cell_type": "markdown",
   "metadata": {},
   "source": [
    "## 更新数据（改）"
   ]
  },
  {
   "cell_type": "code",
   "execution_count": 70,
   "metadata": {},
   "outputs": [
    {
     "name": "stdout",
     "output_type": "stream",
     "text": [
      "更新成功\n"
     ]
    }
   ],
   "source": [
    "import  pymysql\n",
    "\n",
    "db=pymysql.connect(host='localhost',user='root', password='123456',\n",
    "                   port=3306, db='xrr', charset='utf8')\n",
    "\n",
    "cursor = db.cursor()\n",
    "\n",
    "# 更新数据\n",
    "sql = 'update person set age=%s where name=%s'\n",
    "try:\n",
    "    cursor.execute(sql,[90000,\"玉皇大帝\"])\n",
    "    db.commit()\n",
    "    print(\"更新成功\")\n",
    "except:\n",
    "    print(\"更新失败\")\n",
    "    db.rollback()\n",
    "db.close()"
   ]
  },
  {
   "cell_type": "markdown",
   "metadata": {},
   "source": [
    "## 删除数据（删）"
   ]
  },
  {
   "cell_type": "code",
   "execution_count": 72,
   "metadata": {},
   "outputs": [
    {
     "name": "stdout",
     "output_type": "stream",
     "text": [
      "删除成功\n"
     ]
    }
   ],
   "source": [
    "import  pymysql\n",
    "\n",
    "db=pymysql.connect(host='localhost',user='root', password='123456',\n",
    "                   port=3306, db='xrr', charset='utf8')\n",
    "\n",
    "cursor = db.cursor()\n",
    "\n",
    "# 删除数据\n",
    "sql = 'delete from person where age=8000'\n",
    "try:\n",
    "    cursor.execute(sql)\n",
    "    db.commit()\n",
    "    print(\"删除成功\")\n",
    "except:\n",
    "    print(\"删除失败\")\n",
    "    db.rollback()\n",
    "db.close()"
   ]
  },
  {
   "cell_type": "markdown",
   "metadata": {},
   "source": [
    "总结如下：\n",
    "\n",
    "\n",
    "\n",
    "① pymysql模块是默认开启mysql的事务功能的，因此，进行 \"增\"、 \"删\"、\"改\"的时候，一定要使用db.commit()提交事务，否则就看不见所插入的数据。\n",
    "\n",
    "\n",
    "\n",
    "② 进行 \"增\"、\"删\"、\"改\"的时候，一定要使用try…except…语句，因为万一没插入成功，其余代码都无法执行。当语句执行不成功，我们就db.rollback()回滚到操作之前的状态；当语句执行成功，我们就db.commit()提交事务。"
   ]
  },
  {
   "cell_type": "code",
   "execution_count": null,
   "metadata": {},
   "outputs": [],
   "source": []
  }
 ],
 "metadata": {
  "kernelspec": {
   "display_name": "Python 3",
   "language": "python",
   "name": "python3"
  },
  "language_info": {
   "codemirror_mode": {
    "name": "ipython",
    "version": 3
   },
   "file_extension": ".py",
   "mimetype": "text/x-python",
   "name": "python",
   "nbconvert_exporter": "python",
   "pygments_lexer": "ipython3",
   "version": "3.7.6"
  },
  "varInspector": {
   "cols": {
    "lenName": 16,
    "lenType": 16,
    "lenVar": 40
   },
   "kernels_config": {
    "python": {
     "delete_cmd_postfix": "",
     "delete_cmd_prefix": "del ",
     "library": "var_list.py",
     "varRefreshCmd": "print(var_dic_list())"
    },
    "r": {
     "delete_cmd_postfix": ") ",
     "delete_cmd_prefix": "rm(",
     "library": "var_list.r",
     "varRefreshCmd": "cat(var_dic_list()) "
    }
   },
   "types_to_exclude": [
    "module",
    "function",
    "builtin_function_or_method",
    "instance",
    "_Feature"
   ],
   "window_display": false
  }
 },
 "nbformat": 4,
 "nbformat_minor": 4
}
